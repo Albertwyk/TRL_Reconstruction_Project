{
 "cells": [
  {
   "cell_type": "code",
   "execution_count": 1,
   "id": "24f8fdb6-0a16-4d2f-ac78-f53d6b6c9dd8",
   "metadata": {
    "scrolled": true
   },
   "outputs": [
    {
     "name": "stdout",
     "output_type": "stream",
     "text": [
      "Requirement already satisfied: trl in /usr/local/lib/python3.8/dist-packages (0.9.4)\n",
      "Requirement already satisfied: accelerate in /usr/local/lib/python3.8/dist-packages (from trl) (0.31.0)\n",
      "Requirement already satisfied: tyro>=0.5.11 in /usr/local/lib/python3.8/dist-packages (from trl) (0.8.5)\n",
      "Requirement already satisfied: torch>=1.4.0 in /usr/local/lib/python3.8/dist-packages (from trl) (2.3.1)\n",
      "Requirement already satisfied: datasets in /usr/local/lib/python3.8/dist-packages (from trl) (2.20.0)\n",
      "Requirement already satisfied: transformers>=4.31.0 in /usr/local/lib/python3.8/dist-packages (from trl) (4.42.3)\n",
      "Requirement already satisfied: numpy>=1.18.2 in /usr/local/lib/python3.8/dist-packages (from trl) (1.24.4)\n",
      "Requirement already satisfied: psutil in /usr/local/lib/python3.8/dist-packages (from accelerate->trl) (5.9.8)\n",
      "Requirement already satisfied: safetensors>=0.3.1 in /usr/local/lib/python3.8/dist-packages (from accelerate->trl) (0.4.3)\n",
      "Requirement already satisfied: pyyaml in /usr/local/lib/python3.8/dist-packages (from accelerate->trl) (6.0.1)\n",
      "Requirement already satisfied: packaging>=20.0 in /usr/local/lib/python3.8/dist-packages (from accelerate->trl) (23.2)\n",
      "Requirement already satisfied: huggingface-hub in /usr/local/lib/python3.8/dist-packages (from accelerate->trl) (0.23.4)\n",
      "Requirement already satisfied: rich>=11.1.0 in /usr/local/lib/python3.8/dist-packages (from tyro>=0.5.11->trl) (13.7.1)\n",
      "Requirement already satisfied: shtab>=1.5.6 in /usr/local/lib/python3.8/dist-packages (from tyro>=0.5.11->trl) (1.7.1)\n",
      "Requirement already satisfied: docstring-parser>=0.16 in /usr/local/lib/python3.8/dist-packages (from tyro>=0.5.11->trl) (0.16)\n",
      "Requirement already satisfied: typing-extensions>=4.7.0 in /usr/local/lib/python3.8/dist-packages (from tyro>=0.5.11->trl) (4.9.0)\n",
      "Requirement already satisfied: eval-type-backport>=0.1.3; python_version < \"3.10\" in /usr/local/lib/python3.8/dist-packages (from tyro>=0.5.11->trl) (0.2.0)\n",
      "Requirement already satisfied: nvidia-cuda-runtime-cu12==12.1.105; platform_system == \"Linux\" and platform_machine == \"x86_64\" in /usr/local/lib/python3.8/dist-packages (from torch>=1.4.0->trl) (12.1.105)\n",
      "Requirement already satisfied: triton==2.3.1; platform_system == \"Linux\" and platform_machine == \"x86_64\" and python_version < \"3.12\" in /usr/local/lib/python3.8/dist-packages (from torch>=1.4.0->trl) (2.3.1)\n",
      "Requirement already satisfied: nvidia-cuda-cupti-cu12==12.1.105; platform_system == \"Linux\" and platform_machine == \"x86_64\" in /usr/local/lib/python3.8/dist-packages (from torch>=1.4.0->trl) (12.1.105)\n",
      "Requirement already satisfied: nvidia-cuda-nvrtc-cu12==12.1.105; platform_system == \"Linux\" and platform_machine == \"x86_64\" in /usr/local/lib/python3.8/dist-packages (from torch>=1.4.0->trl) (12.1.105)\n",
      "Requirement already satisfied: nvidia-cublas-cu12==12.1.3.1; platform_system == \"Linux\" and platform_machine == \"x86_64\" in /usr/local/lib/python3.8/dist-packages (from torch>=1.4.0->trl) (12.1.3.1)\n",
      "Requirement already satisfied: fsspec in /usr/local/lib/python3.8/dist-packages (from torch>=1.4.0->trl) (2024.5.0)\n",
      "Requirement already satisfied: nvidia-nccl-cu12==2.20.5; platform_system == \"Linux\" and platform_machine == \"x86_64\" in /usr/local/lib/python3.8/dist-packages (from torch>=1.4.0->trl) (2.20.5)\n",
      "Requirement already satisfied: networkx in /usr/local/lib/python3.8/dist-packages (from torch>=1.4.0->trl) (3.1)\n",
      "Requirement already satisfied: nvidia-cufft-cu12==11.0.2.54; platform_system == \"Linux\" and platform_machine == \"x86_64\" in /usr/local/lib/python3.8/dist-packages (from torch>=1.4.0->trl) (11.0.2.54)\n",
      "Requirement already satisfied: nvidia-nvtx-cu12==12.1.105; platform_system == \"Linux\" and platform_machine == \"x86_64\" in /usr/local/lib/python3.8/dist-packages (from torch>=1.4.0->trl) (12.1.105)\n",
      "Requirement already satisfied: nvidia-curand-cu12==10.3.2.106; platform_system == \"Linux\" and platform_machine == \"x86_64\" in /usr/local/lib/python3.8/dist-packages (from torch>=1.4.0->trl) (10.3.2.106)\n",
      "Requirement already satisfied: filelock in /usr/local/lib/python3.8/dist-packages (from torch>=1.4.0->trl) (3.15.4)\n",
      "Requirement already satisfied: sympy in /usr/local/lib/python3.8/dist-packages (from torch>=1.4.0->trl) (1.12.1)\n",
      "Requirement already satisfied: nvidia-cusparse-cu12==12.1.0.106; platform_system == \"Linux\" and platform_machine == \"x86_64\" in /usr/local/lib/python3.8/dist-packages (from torch>=1.4.0->trl) (12.1.0.106)\n",
      "Requirement already satisfied: nvidia-cudnn-cu12==8.9.2.26; platform_system == \"Linux\" and platform_machine == \"x86_64\" in /usr/local/lib/python3.8/dist-packages (from torch>=1.4.0->trl) (8.9.2.26)\n",
      "Requirement already satisfied: nvidia-cusolver-cu12==11.4.5.107; platform_system == \"Linux\" and platform_machine == \"x86_64\" in /usr/local/lib/python3.8/dist-packages (from torch>=1.4.0->trl) (11.4.5.107)\n",
      "Requirement already satisfied: jinja2 in /usr/local/lib/python3.8/dist-packages (from torch>=1.4.0->trl) (3.1.3)\n",
      "Requirement already satisfied: dill<0.3.9,>=0.3.0 in /usr/local/lib/python3.8/dist-packages (from datasets->trl) (0.3.8)\n",
      "Requirement already satisfied: pandas in /usr/local/lib/python3.8/dist-packages (from datasets->trl) (2.0.3)\n",
      "Requirement already satisfied: aiohttp in /usr/local/lib/python3.8/dist-packages (from datasets->trl) (3.9.5)\n",
      "Requirement already satisfied: tqdm>=4.66.3 in /usr/local/lib/python3.8/dist-packages (from datasets->trl) (4.66.4)\n",
      "Requirement already satisfied: xxhash in /usr/local/lib/python3.8/dist-packages (from datasets->trl) (3.4.1)\n",
      "Requirement already satisfied: multiprocess in /usr/local/lib/python3.8/dist-packages (from datasets->trl) (0.70.16)\n",
      "Requirement already satisfied: pyarrow-hotfix in /usr/local/lib/python3.8/dist-packages (from datasets->trl) (0.6)\n",
      "Requirement already satisfied: pyarrow>=15.0.0 in /usr/local/lib/python3.8/dist-packages (from datasets->trl) (16.1.0)\n",
      "Requirement already satisfied: requests>=2.32.2 in /usr/local/lib/python3.8/dist-packages (from datasets->trl) (2.32.3)\n",
      "Requirement already satisfied: regex!=2019.12.17 in /usr/local/lib/python3.8/dist-packages (from transformers>=4.31.0->trl) (2024.5.15)\n",
      "Requirement already satisfied: tokenizers<0.20,>=0.19 in /usr/local/lib/python3.8/dist-packages (from transformers>=4.31.0->trl) (0.19.1)\n",
      "Requirement already satisfied: markdown-it-py>=2.2.0 in /usr/local/lib/python3.8/dist-packages (from rich>=11.1.0->tyro>=0.5.11->trl) (3.0.0)\n",
      "Requirement already satisfied: pygments<3.0.0,>=2.13.0 in /usr/local/lib/python3.8/dist-packages (from rich>=11.1.0->tyro>=0.5.11->trl) (2.17.2)\n",
      "Requirement already satisfied: mpmath<1.4.0,>=1.1.0 in /usr/local/lib/python3.8/dist-packages (from sympy->torch>=1.4.0->trl) (1.3.0)\n",
      "Requirement already satisfied: nvidia-nvjitlink-cu12 in /usr/local/lib/python3.8/dist-packages (from nvidia-cusparse-cu12==12.1.0.106; platform_system == \"Linux\" and platform_machine == \"x86_64\"->torch>=1.4.0->trl) (12.5.82)\n",
      "Requirement already satisfied: MarkupSafe>=2.0 in /usr/local/lib/python3.8/dist-packages (from jinja2->torch>=1.4.0->trl) (2.1.4)\n",
      "Requirement already satisfied: python-dateutil>=2.8.2 in /usr/local/lib/python3.8/dist-packages (from pandas->datasets->trl) (2.8.2)\n",
      "Requirement already satisfied: pytz>=2020.1 in /usr/local/lib/python3.8/dist-packages (from pandas->datasets->trl) (2023.3.post1)\n",
      "Requirement already satisfied: tzdata>=2022.1 in /usr/local/lib/python3.8/dist-packages (from pandas->datasets->trl) (2024.1)\n",
      "Requirement already satisfied: aiosignal>=1.1.2 in /usr/local/lib/python3.8/dist-packages (from aiohttp->datasets->trl) (1.3.1)\n",
      "Requirement already satisfied: multidict<7.0,>=4.5 in /usr/local/lib/python3.8/dist-packages (from aiohttp->datasets->trl) (6.0.5)\n",
      "Requirement already satisfied: frozenlist>=1.1.1 in /usr/local/lib/python3.8/dist-packages (from aiohttp->datasets->trl) (1.4.1)\n",
      "Requirement already satisfied: yarl<2.0,>=1.0 in /usr/local/lib/python3.8/dist-packages (from aiohttp->datasets->trl) (1.9.4)\n",
      "Requirement already satisfied: attrs>=17.3.0 in /usr/local/lib/python3.8/dist-packages (from aiohttp->datasets->trl) (23.2.0)\n",
      "Requirement already satisfied: async-timeout<5.0,>=4.0; python_version < \"3.11\" in /usr/local/lib/python3.8/dist-packages (from aiohttp->datasets->trl) (4.0.3)\n",
      "Requirement already satisfied: certifi>=2017.4.17 in /usr/lib/python3/dist-packages (from requests>=2.32.2->datasets->trl) (2019.11.28)\n",
      "Requirement already satisfied: charset-normalizer<4,>=2 in /usr/local/lib/python3.8/dist-packages (from requests>=2.32.2->datasets->trl) (3.3.2)\n",
      "Requirement already satisfied: urllib3<3,>=1.21.1 in /usr/lib/python3/dist-packages (from requests>=2.32.2->datasets->trl) (1.25.8)\n",
      "Requirement already satisfied: idna<4,>=2.5 in /usr/lib/python3/dist-packages (from requests>=2.32.2->datasets->trl) (2.8)\n",
      "Requirement already satisfied: mdurl~=0.1 in /usr/local/lib/python3.8/dist-packages (from markdown-it-py>=2.2.0->rich>=11.1.0->tyro>=0.5.11->trl) (0.1.2)\n",
      "Requirement already satisfied: six>=1.5 in /usr/lib/python3/dist-packages (from python-dateutil>=2.8.2->pandas->datasets->trl) (1.14.0)\n"
     ]
    }
   ],
   "source": [
    "!pip install trl"
   ]
  },
  {
   "cell_type": "code",
   "execution_count": 5,
   "id": "8ac2311e-c1a2-4242-9e9b-fa3092a86ac5",
   "metadata": {},
   "outputs": [
    {
     "name": "stdout",
     "output_type": "stream",
     "text": [
      "Collecting datasets\n",
      "  Using cached datasets-2.20.0-py3-none-any.whl (547 kB)\n",
      "Requirement already satisfied: tqdm>=4.66.3 in /usr/local/lib/python3.8/dist-packages (from datasets) (4.66.4)\n",
      "Collecting multiprocess\n",
      "  Using cached multiprocess-0.70.16-py38-none-any.whl (132 kB)\n",
      "Collecting pyarrow-hotfix\n",
      "  Using cached pyarrow_hotfix-0.6-py3-none-any.whl (7.9 kB)\n",
      "Requirement already satisfied: pyyaml>=5.1 in /usr/local/lib/python3.8/dist-packages (from datasets) (6.0.1)\n",
      "Collecting xxhash\n",
      "  Using cached xxhash-3.4.1-cp38-cp38-manylinux_2_17_x86_64.manylinux2014_x86_64.whl (194 kB)\n",
      "Collecting dill<0.3.9,>=0.3.0\n",
      "  Using cached dill-0.3.8-py3-none-any.whl (116 kB)\n",
      "Collecting requests>=2.32.2\n",
      "  Downloading requests-2.32.3-py3-none-any.whl (64 kB)\n",
      "\u001b[K     |████████████████████████████████| 64 kB 1.1 MB/s eta 0:00:01\n",
      "\u001b[?25hCollecting pandas\n",
      "  Using cached pandas-2.0.3-cp38-cp38-manylinux_2_17_x86_64.manylinux2014_x86_64.whl (12.4 MB)\n",
      "Requirement already satisfied: huggingface-hub>=0.21.2 in /usr/local/lib/python3.8/dist-packages (from datasets) (0.23.4)\n",
      "Requirement already satisfied: packaging in /usr/local/lib/python3.8/dist-packages (from datasets) (23.2)\n",
      "Requirement already satisfied: filelock in /usr/local/lib/python3.8/dist-packages (from datasets) (3.15.4)\n",
      "Collecting pyarrow>=15.0.0\n",
      "  Using cached pyarrow-16.1.0-cp38-cp38-manylinux_2_17_x86_64.manylinux2014_x86_64.whl (41.0 MB)\n",
      "Requirement already satisfied: numpy>=1.17 in /usr/local/lib/python3.8/dist-packages (from datasets) (1.24.4)\n",
      "Requirement already satisfied: aiohttp in /usr/local/lib/python3.8/dist-packages (from datasets) (3.9.5)\n",
      "Requirement already satisfied: fsspec[http]<=2024.5.0,>=2023.1.0 in /usr/local/lib/python3.8/dist-packages (from datasets) (2024.5.0)\n",
      "Requirement already satisfied: certifi>=2017.4.17 in /usr/lib/python3/dist-packages (from requests>=2.32.2->datasets) (2019.11.28)\n",
      "Requirement already satisfied: idna<4,>=2.5 in /usr/lib/python3/dist-packages (from requests>=2.32.2->datasets) (2.8)\n",
      "Requirement already satisfied: charset-normalizer<4,>=2 in /usr/local/lib/python3.8/dist-packages (from requests>=2.32.2->datasets) (3.3.2)\n",
      "Requirement already satisfied: urllib3<3,>=1.21.1 in /usr/lib/python3/dist-packages (from requests>=2.32.2->datasets) (1.25.8)\n",
      "Requirement already satisfied: python-dateutil>=2.8.2 in /usr/local/lib/python3.8/dist-packages (from pandas->datasets) (2.8.2)\n",
      "Requirement already satisfied: pytz>=2020.1 in /usr/local/lib/python3.8/dist-packages (from pandas->datasets) (2023.3.post1)\n",
      "Collecting tzdata>=2022.1\n",
      "  Using cached tzdata-2024.1-py2.py3-none-any.whl (345 kB)\n",
      "Requirement already satisfied: typing-extensions>=3.7.4.3 in /usr/local/lib/python3.8/dist-packages (from huggingface-hub>=0.21.2->datasets) (4.9.0)\n",
      "Requirement already satisfied: async-timeout<5.0,>=4.0; python_version < \"3.11\" in /usr/local/lib/python3.8/dist-packages (from aiohttp->datasets) (4.0.3)\n",
      "Requirement already satisfied: multidict<7.0,>=4.5 in /usr/local/lib/python3.8/dist-packages (from aiohttp->datasets) (6.0.5)\n",
      "Requirement already satisfied: attrs>=17.3.0 in /usr/local/lib/python3.8/dist-packages (from aiohttp->datasets) (23.2.0)\n",
      "Requirement already satisfied: aiosignal>=1.1.2 in /usr/local/lib/python3.8/dist-packages (from aiohttp->datasets) (1.3.1)\n",
      "Requirement already satisfied: frozenlist>=1.1.1 in /usr/local/lib/python3.8/dist-packages (from aiohttp->datasets) (1.4.1)\n",
      "Requirement already satisfied: yarl<2.0,>=1.0 in /usr/local/lib/python3.8/dist-packages (from aiohttp->datasets) (1.9.4)\n",
      "Requirement already satisfied: six>=1.5 in /usr/lib/python3/dist-packages (from python-dateutil>=2.8.2->pandas->datasets) (1.14.0)\n",
      "Installing collected packages: dill, multiprocess, pyarrow-hotfix, xxhash, requests, tzdata, pandas, pyarrow, datasets\n",
      "  Attempting uninstall: requests\n",
      "    Found existing installation: requests 2.31.0\n",
      "    Uninstalling requests-2.31.0:\n",
      "      Successfully uninstalled requests-2.31.0\n",
      "Successfully installed datasets-2.20.0 dill-0.3.8 multiprocess-0.70.16 pandas-2.0.3 pyarrow-16.1.0 pyarrow-hotfix-0.6 requests-2.32.3 tzdata-2024.1 xxhash-3.4.1\n"
     ]
    }
   ],
   "source": [
    "!pip install datasets"
   ]
  },
  {
   "cell_type": "code",
   "execution_count": 6,
   "id": "d62389ae-feba-444a-afc9-fcb808b69b53",
   "metadata": {},
   "outputs": [
    {
     "name": "stdout",
     "output_type": "stream",
     "text": [
      "Collecting sentencepiece\n",
      "  Downloading sentencepiece-0.2.0-cp38-cp38-manylinux_2_17_x86_64.manylinux2014_x86_64.whl (1.3 MB)\n",
      "\u001b[K     |████████████████████████████████| 1.3 MB 972 kB/s eta 0:00:01\n",
      "\u001b[?25hInstalling collected packages: sentencepiece\n",
      "Successfully installed sentencepiece-0.2.0\n"
     ]
    }
   ],
   "source": [
    "!pip install sentencepiece"
   ]
  },
  {
   "cell_type": "code",
   "execution_count": 7,
   "id": "a5f987e2-3b2f-41c5-a6ac-deac3af6e813",
   "metadata": {
    "scrolled": true
   },
   "outputs": [
    {
     "name": "stdout",
     "output_type": "stream",
     "text": [
      "Collecting peft\n",
      "  Using cached peft-0.11.1-py3-none-any.whl (251 kB)\n",
      "Requirement already satisfied: safetensors in /usr/local/lib/python3.8/dist-packages (from peft) (0.4.3)\n",
      "Requirement already satisfied: transformers in /usr/local/lib/python3.8/dist-packages (from peft) (4.42.3)\n",
      "Requirement already satisfied: torch>=1.13.0 in /usr/local/lib/python3.8/dist-packages (from peft) (2.3.1)\n",
      "Requirement already satisfied: packaging>=20.0 in /usr/local/lib/python3.8/dist-packages (from peft) (23.2)\n",
      "Requirement already satisfied: tqdm in /usr/local/lib/python3.8/dist-packages (from peft) (4.66.4)\n",
      "Requirement already satisfied: psutil in /usr/local/lib/python3.8/dist-packages (from peft) (5.9.8)\n",
      "Requirement already satisfied: pyyaml in /usr/local/lib/python3.8/dist-packages (from peft) (6.0.1)\n",
      "Requirement already satisfied: numpy>=1.17 in /usr/local/lib/python3.8/dist-packages (from peft) (1.24.4)\n",
      "Requirement already satisfied: huggingface-hub>=0.17.0 in /usr/local/lib/python3.8/dist-packages (from peft) (0.23.4)\n",
      "Requirement already satisfied: accelerate>=0.21.0 in /usr/local/lib/python3.8/dist-packages (from peft) (0.31.0)\n",
      "Requirement already satisfied: tokenizers<0.20,>=0.19 in /usr/local/lib/python3.8/dist-packages (from transformers->peft) (0.19.1)\n",
      "Requirement already satisfied: filelock in /usr/local/lib/python3.8/dist-packages (from transformers->peft) (3.15.4)\n",
      "Requirement already satisfied: regex!=2019.12.17 in /usr/local/lib/python3.8/dist-packages (from transformers->peft) (2024.5.15)\n",
      "Requirement already satisfied: requests in /usr/local/lib/python3.8/dist-packages (from transformers->peft) (2.32.3)\n",
      "Requirement already satisfied: jinja2 in /usr/local/lib/python3.8/dist-packages (from torch>=1.13.0->peft) (3.1.3)\n",
      "Requirement already satisfied: nvidia-cudnn-cu12==8.9.2.26; platform_system == \"Linux\" and platform_machine == \"x86_64\" in /usr/local/lib/python3.8/dist-packages (from torch>=1.13.0->peft) (8.9.2.26)\n",
      "Requirement already satisfied: sympy in /usr/local/lib/python3.8/dist-packages (from torch>=1.13.0->peft) (1.12.1)\n",
      "Requirement already satisfied: nvidia-curand-cu12==10.3.2.106; platform_system == \"Linux\" and platform_machine == \"x86_64\" in /usr/local/lib/python3.8/dist-packages (from torch>=1.13.0->peft) (10.3.2.106)\n",
      "Requirement already satisfied: nvidia-cuda-nvrtc-cu12==12.1.105; platform_system == \"Linux\" and platform_machine == \"x86_64\" in /usr/local/lib/python3.8/dist-packages (from torch>=1.13.0->peft) (12.1.105)\n",
      "Requirement already satisfied: nvidia-cuda-cupti-cu12==12.1.105; platform_system == \"Linux\" and platform_machine == \"x86_64\" in /usr/local/lib/python3.8/dist-packages (from torch>=1.13.0->peft) (12.1.105)\n",
      "Requirement already satisfied: nvidia-nccl-cu12==2.20.5; platform_system == \"Linux\" and platform_machine == \"x86_64\" in /usr/local/lib/python3.8/dist-packages (from torch>=1.13.0->peft) (2.20.5)\n",
      "Requirement already satisfied: triton==2.3.1; platform_system == \"Linux\" and platform_machine == \"x86_64\" and python_version < \"3.12\" in /usr/local/lib/python3.8/dist-packages (from torch>=1.13.0->peft) (2.3.1)\n",
      "Requirement already satisfied: networkx in /usr/local/lib/python3.8/dist-packages (from torch>=1.13.0->peft) (3.1)\n",
      "Requirement already satisfied: nvidia-cusolver-cu12==11.4.5.107; platform_system == \"Linux\" and platform_machine == \"x86_64\" in /usr/local/lib/python3.8/dist-packages (from torch>=1.13.0->peft) (11.4.5.107)\n",
      "Requirement already satisfied: nvidia-cuda-runtime-cu12==12.1.105; platform_system == \"Linux\" and platform_machine == \"x86_64\" in /usr/local/lib/python3.8/dist-packages (from torch>=1.13.0->peft) (12.1.105)\n",
      "Requirement already satisfied: nvidia-cusparse-cu12==12.1.0.106; platform_system == \"Linux\" and platform_machine == \"x86_64\" in /usr/local/lib/python3.8/dist-packages (from torch>=1.13.0->peft) (12.1.0.106)\n",
      "Requirement already satisfied: nvidia-nvtx-cu12==12.1.105; platform_system == \"Linux\" and platform_machine == \"x86_64\" in /usr/local/lib/python3.8/dist-packages (from torch>=1.13.0->peft) (12.1.105)\n",
      "Requirement already satisfied: typing-extensions>=4.8.0 in /usr/local/lib/python3.8/dist-packages (from torch>=1.13.0->peft) (4.9.0)\n",
      "Requirement already satisfied: nvidia-cufft-cu12==11.0.2.54; platform_system == \"Linux\" and platform_machine == \"x86_64\" in /usr/local/lib/python3.8/dist-packages (from torch>=1.13.0->peft) (11.0.2.54)\n",
      "Requirement already satisfied: nvidia-cublas-cu12==12.1.3.1; platform_system == \"Linux\" and platform_machine == \"x86_64\" in /usr/local/lib/python3.8/dist-packages (from torch>=1.13.0->peft) (12.1.3.1)\n",
      "Requirement already satisfied: fsspec in /usr/local/lib/python3.8/dist-packages (from torch>=1.13.0->peft) (2024.5.0)\n",
      "Requirement already satisfied: certifi>=2017.4.17 in /usr/lib/python3/dist-packages (from requests->transformers->peft) (2019.11.28)\n",
      "Requirement already satisfied: charset-normalizer<4,>=2 in /usr/local/lib/python3.8/dist-packages (from requests->transformers->peft) (3.3.2)\n",
      "Requirement already satisfied: urllib3<3,>=1.21.1 in /usr/lib/python3/dist-packages (from requests->transformers->peft) (1.25.8)\n",
      "Requirement already satisfied: idna<4,>=2.5 in /usr/lib/python3/dist-packages (from requests->transformers->peft) (2.8)\n",
      "Requirement already satisfied: MarkupSafe>=2.0 in /usr/local/lib/python3.8/dist-packages (from jinja2->torch>=1.13.0->peft) (2.1.4)\n",
      "Requirement already satisfied: mpmath<1.4.0,>=1.1.0 in /usr/local/lib/python3.8/dist-packages (from sympy->torch>=1.13.0->peft) (1.3.0)\n",
      "Requirement already satisfied: nvidia-nvjitlink-cu12 in /usr/local/lib/python3.8/dist-packages (from nvidia-cusolver-cu12==11.4.5.107; platform_system == \"Linux\" and platform_machine == \"x86_64\"->torch>=1.13.0->peft) (12.5.82)\n",
      "Installing collected packages: peft\n",
      "Successfully installed peft-0.11.1\n"
     ]
    }
   ],
   "source": [
    "!pip install peft"
   ]
  },
  {
   "cell_type": "code",
   "execution_count": 8,
   "id": "3af57564-65a4-44ec-b000-d3e159553d4a",
   "metadata": {},
   "outputs": [
    {
     "name": "stdout",
     "output_type": "stream",
     "text": [
      "Collecting tensorboardX\n",
      "  Downloading tensorboardX-2.6.2.2-py2.py3-none-any.whl (101 kB)\n",
      "\u001b[K     |████████████████████████████████| 101 kB 1.3 MB/s ta 0:00:01\n",
      "\u001b[?25hRequirement already satisfied: packaging in /usr/local/lib/python3.8/dist-packages (from tensorboardX) (23.2)\n",
      "Requirement already satisfied: numpy in /usr/local/lib/python3.8/dist-packages (from tensorboardX) (1.24.4)\n",
      "Collecting protobuf>=3.20\n",
      "  Downloading protobuf-5.27.2-cp38-abi3-manylinux2014_x86_64.whl (309 kB)\n",
      "\u001b[K     |████████████████████████████████| 309 kB 5.4 MB/s eta 0:00:01\n",
      "\u001b[?25hInstalling collected packages: protobuf, tensorboardX\n",
      "Successfully installed protobuf-5.27.2 tensorboardX-2.6.2.2\n"
     ]
    }
   ],
   "source": [
    "!pip install tensorboardX"
   ]
  },
  {
   "cell_type": "markdown",
   "id": "40b49cb8-77ea-4338-a415-78ef26f9d780",
   "metadata": {},
   "source": [
    "### Preliminary Preparation"
   ]
  },
  {
   "cell_type": "code",
   "execution_count": null,
   "id": "5b6acb04-aade-41c2-8d89-a3f8f74bac31",
   "metadata": {},
   "outputs": [],
   "source": [
    "import json\n",
    "\n",
    "# Load the JSON file\n",
    "with open('/root/TRL2/dev.jsonl', 'r', encoding='utf-8-sig') as file:\n",
    "    # Open the output file in write mode\n",
    "    with open('/root/TRL2/dev_mod.jsonl', 'w', encoding='utf-8-sig') as outfile:\n",
    "        for line in file:\n",
    "            item = json.loads(line)\n",
    "            for i in range(10):\n",
    "                # Create a new dictionary for each item\n",
    "                new_item = {'weibo':item['weibo'], 'resp':item['resp'][i]}\n",
    "                # Dump the new item directly into the file\n",
    "                json.dump(new_item, outfile, ensure_ascii=False)\n",
    "                # Write a newline character after each item\n",
    "                outfile.write('\\n')"
   ]
  },
  {
   "cell_type": "code",
   "execution_count": 1,
   "id": "7b3be55d-d361-4992-9a3b-e7ebb639fe2d",
   "metadata": {},
   "outputs": [],
   "source": [
    "from datasets import load_dataset\n",
    "from peft import LoraConfig, get_peft_model"
   ]
  },
  {
   "cell_type": "markdown",
   "id": "2e44b5e0-3f8d-4a0c-9d19-0a5862a70efe",
   "metadata": {},
   "source": [
    "## SFT Phase"
   ]
  },
  {
   "cell_type": "code",
   "execution_count": 1,
   "id": "8d8f6949-9c22-4def-8269-5969030d9dbd",
   "metadata": {},
   "outputs": [
    {
     "data": {
      "text/plain": [
       "DatasetDict({\n",
       "    train: Dataset({\n",
       "        features: ['weibo', 'resp'],\n",
       "        num_rows: 25140\n",
       "    })\n",
       "    validation: Dataset({\n",
       "        features: ['weibo', 'resp'],\n",
       "        num_rows: 8670\n",
       "    })\n",
       "})"
      ]
     },
     "execution_count": 1,
     "metadata": {},
     "output_type": "execute_result"
    }
   ],
   "source": [
    "from datasets import load_dataset\n",
    "\n",
    "dataset = load_dataset(\"gen_sft_dataset.py\", trust_remote_code=True)\n",
    "dataset"
   ]
  },
  {
   "cell_type": "code",
   "execution_count": 2,
   "id": "1758a91d-ca2f-48b3-9903-6b42723df699",
   "metadata": {},
   "outputs": [
    {
     "name": "stdout",
     "output_type": "stream",
     "text": [
      "{'weibo': '#WTT冠军赛布达佩斯站#\\xa0男单1/4决赛林高远3-0宇田幸矢11-3，11-4，11-7', 'resp': '别把我帅死林高远一直这么坚定下去吧！！！！别有太大压力，战胜自己就够了！！！！我永远相信小林将军'}\n"
     ]
    }
   ],
   "source": [
    "print(dataset[\"train\"][0])"
   ]
  },
  {
   "cell_type": "code",
   "execution_count": 3,
   "id": "cec9abc2-09b9-46f8-82ed-0e5de6301702",
   "metadata": {},
   "outputs": [
    {
     "name": "stderr",
     "output_type": "stream",
     "text": [
      "Setting eos_token is not supported, use the default one.\n",
      "Setting pad_token is not supported, use the default one.\n",
      "Setting unk_token is not supported, use the default one.\n"
     ]
    },
    {
     "data": {
      "application/vnd.jupyter.widget-view+json": {
       "model_id": "313b0928556b4d89be92fafd4825a193",
       "version_major": 2,
       "version_minor": 0
      },
      "text/plain": [
       "Loading checkpoint shards:   0%|          | 0/7 [00:00<?, ?it/s]"
      ]
     },
     "metadata": {},
     "output_type": "display_data"
    }
   ],
   "source": [
    "from transformers import AutoTokenizer, AutoModelForSeq2SeqLM\n",
    "\n",
    "tokenizer = AutoTokenizer.from_pretrained(\"THUDM/chatglm3-6b\", trust_remote_code=True)\n",
    "model = AutoModelForSeq2SeqLM.from_pretrained(\"THUDM/chatglm3-6b\", trust_remote_code=True).half().cuda()"
   ]
  },
  {
   "cell_type": "code",
   "execution_count": 4,
   "id": "7bdc5c49-493a-4135-896a-630d2f7d4566",
   "metadata": {},
   "outputs": [],
   "source": [
    "from peft import LoraConfig, get_peft_model\n",
    "\n",
    "# Apply LoRA\n",
    "peft_config = LoraConfig(\n",
    "    task_type=\"CAUSAL_LM\", \n",
    "    r=8,\n",
    "    lora_alpha=32, \n",
    "    lora_dropout=0.1\n",
    ")\n",
    "model = get_peft_model(model, peft_config)"
   ]
  },
  {
   "cell_type": "code",
   "execution_count": 5,
   "id": "2dc5ce15-adcf-4e45-a7a7-0a26b180926c",
   "metadata": {},
   "outputs": [
    {
     "data": {
      "text/plain": [
       "{'input_ids': [64790, 64792, 30910, 33232, 55001, 54901, 54880, 56313, 54927, 54957], 'attention_mask': [1, 1, 1, 1, 1, 1, 1, 1, 1, 1], 'position_ids': [0, 1, 2, 3, 4, 5, 6, 7, 8, 9]}"
      ]
     },
     "execution_count": 5,
     "metadata": {},
     "output_type": "execute_result"
    }
   ],
   "source": [
    "tokenizer(\"冠军赛布达佩斯站\")"
   ]
  },
  {
   "cell_type": "code",
   "execution_count": 7,
   "id": "f6fe6af4-7281-4ee1-aa16-6019340fe2c6",
   "metadata": {},
   "outputs": [],
   "source": [
    "# max_input_length = 128\n",
    "# max_target_length = 32\n",
    "\n",
    "# def preprocess_function(examples):\n",
    "#     inputs = examples[\"weibo\"]\n",
    "#     model_inputs = tokenizer(inputs, max_length=max_input_length, truncation=True)\n",
    "\n",
    "#     # Setup the tokenizer for targets\n",
    "#     labels = tokenizer(text_target=examples[\"resp\"], max_length=max_target_length, truncation=True)\n",
    "\n",
    "#     model_inputs[\"labels\"] = labels[\"input_ids\"]\n",
    "#     return model_inputs\n",
    "\n",
    "import torch\n",
    "\n",
    "max_input_length = 64\n",
    "max_target_length = 64\n",
    "\n",
    "def preprocess_function(examples):\n",
    "    inputs = [doc for doc in examples[\"weibo\"]]\n",
    "    # print(inputs)\n",
    "    model_inputs = tokenizer(inputs, max_length=max_input_length, truncation=True, padding='max_length') # Very severe bug!\n",
    "\n",
    "    # Setup the tokenizer for targets\n",
    "    labels = tokenizer(text_target=examples[\"resp\"], max_length=max_target_length, truncation=True, padding='max_length')\n",
    "\n",
    "    model_inputs[\"labels\"] = labels[\"input_ids\"]\n",
    "\n",
    "    # Print out the shapes of your input and labels tensors\n",
    "    print(f'Input shape: {torch.tensor(model_inputs[\"input_ids\"]).shape}')\n",
    "    print(f'Labels shape: {torch.tensor(model_inputs[\"labels\"]).shape}')\n",
    "    \n",
    "    return model_inputs"
   ]
  },
  {
   "cell_type": "code",
   "execution_count": 8,
   "id": "c5b8ee94-1e89-40a6-8f10-6242f2e9bcdd",
   "metadata": {},
   "outputs": [
    {
     "name": "stdout",
     "output_type": "stream",
     "text": [
      "Input shape: torch.Size([2, 64])\n",
      "Labels shape: torch.Size([2, 64])\n"
     ]
    },
    {
     "data": {
      "text/plain": [
       "{'input_ids': [[0, 0, 0, 0, 0, 0, 0, 0, 0, 0, 0, 0, 0, 0, 0, 0, 0, 0, 0, 0, 64790, 64792, 1126, 30959, 16937, 33232, 55001, 54901, 54880, 56313, 54927, 54957, 31010, 31045, 55033, 54838, 30939, 30967, 30972, 34054, 54973, 54589, 55151, 30966, 30941, 30940, 55773, 55416, 55397, 57953, 30939, 30939, 30941, 30966, 31123, 30939, 30939, 30941, 30972, 31123, 30939, 30939, 30941, 30981], [0, 0, 0, 0, 0, 0, 0, 0, 0, 0, 0, 0, 0, 0, 0, 0, 0, 0, 0, 0, 64790, 64792, 1126, 30959, 16937, 33232, 55001, 54901, 54880, 56313, 54927, 54957, 31010, 31045, 55033, 54838, 30939, 30967, 30972, 34054, 54973, 54589, 55151, 30966, 30941, 30940, 55773, 55416, 55397, 57953, 30939, 30939, 30941, 30966, 31123, 30939, 30939, 30941, 30972, 31123, 30939, 30939, 30941, 30981]], 'attention_mask': [[0, 0, 0, 0, 0, 0, 0, 0, 0, 0, 0, 0, 0, 0, 0, 0, 0, 0, 0, 0, 1, 1, 1, 1, 1, 1, 1, 1, 1, 1, 1, 1, 1, 1, 1, 1, 1, 1, 1, 1, 1, 1, 1, 1, 1, 1, 1, 1, 1, 1, 1, 1, 1, 1, 1, 1, 1, 1, 1, 1, 1, 1, 1, 1], [0, 0, 0, 0, 0, 0, 0, 0, 0, 0, 0, 0, 0, 0, 0, 0, 0, 0, 0, 0, 1, 1, 1, 1, 1, 1, 1, 1, 1, 1, 1, 1, 1, 1, 1, 1, 1, 1, 1, 1, 1, 1, 1, 1, 1, 1, 1, 1, 1, 1, 1, 1, 1, 1, 1, 1, 1, 1, 1, 1, 1, 1, 1, 1]], 'position_ids': [[0, 0, 0, 0, 0, 0, 0, 0, 0, 0, 0, 0, 0, 0, 0, 0, 0, 0, 0, 0, 0, 1, 2, 3, 4, 5, 6, 7, 8, 9, 10, 11, 12, 13, 14, 15, 16, 17, 18, 19, 20, 21, 22, 23, 24, 25, 26, 27, 28, 29, 30, 31, 32, 33, 34, 35, 36, 37, 38, 39, 40, 41, 42, 43], [0, 0, 0, 0, 0, 0, 0, 0, 0, 0, 0, 0, 0, 0, 0, 0, 0, 0, 0, 0, 0, 1, 2, 3, 4, 5, 6, 7, 8, 9, 10, 11, 12, 13, 14, 15, 16, 17, 18, 19, 20, 21, 22, 23, 24, 25, 26, 27, 28, 29, 30, 31, 32, 33, 34, 35, 36, 37, 38, 39, 40, 41, 42, 43]], 'labels': [[0, 0, 0, 0, 0, 0, 0, 0, 0, 0, 0, 0, 0, 0, 0, 0, 0, 0, 0, 0, 0, 0, 0, 0, 0, 0, 0, 0, 0, 0, 64790, 64792, 30910, 54835, 39020, 56540, 55214, 54973, 54589, 55151, 31820, 32131, 32986, 33075, 55370, 33897, 33897, 54835, 54536, 38627, 32507, 31123, 36310, 31627, 54567, 44981, 33897, 33897, 54546, 32663, 32192, 54603, 54973, 34569], [0, 0, 0, 0, 0, 0, 0, 0, 0, 0, 0, 0, 0, 0, 0, 0, 0, 0, 0, 0, 0, 0, 0, 0, 0, 0, 0, 0, 0, 0, 0, 0, 0, 0, 0, 0, 0, 0, 0, 0, 0, 0, 0, 0, 0, 0, 0, 0, 0, 0, 0, 0, 0, 0, 0, 64790, 64792, 30910, 33033, 33264, 54651, 54853, 55051, 39832]]}"
      ]
     },
     "execution_count": 8,
     "metadata": {},
     "output_type": "execute_result"
    }
   ],
   "source": [
    "preprocess_function(dataset['train'][:2])"
   ]
  },
  {
   "cell_type": "code",
   "execution_count": 9,
   "id": "ea932037-ed37-41da-b78e-42821b1f0df6",
   "metadata": {},
   "outputs": [],
   "source": [
    "tokenized_datasets = dataset.map(preprocess_function, batched=True)"
   ]
  },
  {
   "cell_type": "code",
   "execution_count": 10,
   "id": "5a092ff1-8e50-48d0-9f80-1d1c913669cd",
   "metadata": {},
   "outputs": [
    {
     "data": {
      "text/plain": [
       "DatasetDict({\n",
       "    train: Dataset({\n",
       "        features: ['weibo', 'resp', 'input_ids', 'attention_mask', 'position_ids', 'labels'],\n",
       "        num_rows: 25140\n",
       "    })\n",
       "    validation: Dataset({\n",
       "        features: ['weibo', 'resp', 'input_ids', 'attention_mask', 'position_ids', 'labels'],\n",
       "        num_rows: 8670\n",
       "    })\n",
       "})"
      ]
     },
     "execution_count": 10,
     "metadata": {},
     "output_type": "execute_result"
    }
   ],
   "source": [
    "tokenized_datasets"
   ]
  },
  {
   "cell_type": "code",
   "execution_count": 11,
   "id": "bbc95266-10e4-4562-93aa-0c30bd15c738",
   "metadata": {},
   "outputs": [],
   "source": [
    "from transformers import DataCollatorForSeq2Seq\n",
    "\n",
    "data_collator = DataCollatorForSeq2Seq(tokenizer, model=model)"
   ]
  },
  {
   "cell_type": "code",
   "execution_count": 11,
   "id": "e2a87da4-7e5c-4d29-9de8-02b7c21ba84a",
   "metadata": {},
   "outputs": [
    {
     "name": "stderr",
     "output_type": "stream",
     "text": [
      "/usr/local/lib/python3.8/dist-packages/transformers/training_args.py:1474: FutureWarning: `evaluation_strategy` is deprecated and will be removed in version 4.46 of 🤗 Transformers. Use `eval_strategy` instead\n",
      "  warnings.warn(\n"
     ]
    }
   ],
   "source": [
    "# # from trl import SFTConfig, SFTTrainer\n",
    "\n",
    "# # def formatting_func(example):\n",
    "# #     return [f\"weibo: {example['weibo']}\\nresp: {example['resp']}\"]\n",
    "\n",
    "# from transformers import AutoModelForSeq2SeqLM, DataCollatorForSeq2Seq, Seq2SeqTrainingArguments, Seq2SeqTrainer\n",
    "\n",
    "# args = Seq2SeqTrainingArguments(\n",
    "#     # dataset_text_field=\"resp\",\n",
    "#     # max_seq_length=32,\n",
    "#     output_dir=\"./model\",\n",
    "#     per_device_train_batch_size=1,\n",
    "#     per_device_eval_batch_size=1,\n",
    "#     evaluation_strategy = \"epoch\",\n",
    "#     learning_rate=1.5e-5,\n",
    "#     num_train_epochs=5,\n",
    "#     logging_dir = \"./results/weibo1\",\n",
    "#     report_to = \"tensorboard\",\n",
    "# )\n",
    "# trainer = Seq2SeqTrainer(\n",
    "#     model,\n",
    "#     args,\n",
    "#     tokenizer = tokenizer,\n",
    "#     train_dataset=tokenized_datasets[\"train\"],\n",
    "#     eval_dataset=tokenized_datasets[\"validation\"],\n",
    "#     # data_collator = data_collator,    \n",
    "#     # args=sft_config,\n",
    "#     # formatting_func=formatting_func,\n",
    "# )"
   ]
  },
  {
   "cell_type": "code",
   "execution_count": 14,
   "id": "ef440850-bad9-4947-89fd-38f7b71dd66c",
   "metadata": {},
   "outputs": [
    {
     "name": "stderr",
     "output_type": "stream",
     "text": [
      "/usr/local/lib/python3.8/dist-packages/transformers/training_args.py:1494: FutureWarning: `evaluation_strategy` is deprecated and will be removed in version 4.46 of 🤗 Transformers. Use `eval_strategy` instead\n",
      "  warnings.warn(\n"
     ]
    },
    {
     "data": {
      "application/vnd.jupyter.widget-view+json": {
       "model_id": "3385ce5f93544b0d93923fe2bc09796d",
       "version_major": 2,
       "version_minor": 0
      },
      "text/plain": [
       "Map:   0%|          | 0/25140 [00:00<?, ? examples/s]"
      ]
     },
     "metadata": {},
     "output_type": "display_data"
    },
    {
     "data": {
      "application/vnd.jupyter.widget-view+json": {
       "model_id": "dc429f9adf4d415d912c37a89a5fdd38",
       "version_major": 2,
       "version_minor": 0
      },
      "text/plain": [
       "Map:   0%|          | 0/8670 [00:00<?, ? examples/s]"
      ]
     },
     "metadata": {},
     "output_type": "display_data"
    },
    {
     "name": "stderr",
     "output_type": "stream",
     "text": [
      "/usr/local/lib/python3.8/dist-packages/trl/trainer/sft_trainer.py:397: UserWarning: You passed a tokenizer with `padding_side` not equal to `right` to the SFTTrainer. This might lead to some unexpected behaviour due to overflow issues when training a model in half-precision. You might consider adding `tokenizer.padding_side = 'right'` to your code.\n",
      "  warnings.warn(\n",
      "Detected kernel version 5.4.0, which is below the recommended minimum of 5.5.0; this can cause the process to hang. It is recommended to upgrade the kernel to the minimum version or higher.\n"
     ]
    }
   ],
   "source": [
    "from trl import SFTConfig, SFTTrainer\n",
    "\n",
    "# def formatting_func(example):\n",
    "#     return [f\"weibo: {example['weibo']}\\nresp: {example['resp']}\"]\n",
    "\n",
    "sft_config = SFTConfig(\n",
    "    dataset_text_field=\"resp\",\n",
    "    max_seq_length=32,\n",
    "    output_dir=\"./SFT_Model_Real\",\n",
    "    per_device_train_batch_size=8,\n",
    "    per_device_eval_batch_size=8,\n",
    "    evaluation_strategy = \"epoch\",\n",
    "    learning_rate=1.5e-4,\n",
    "    num_train_epochs=5,\n",
    "    logging_dir = \"./results/weibo111\",\n",
    "    report_to = \"tensorboard\",\n",
    "    gradient_accumulation_steps = 8,\n",
    ")\n",
    "\n",
    "trainer = SFTTrainer(\n",
    "    model,\n",
    "    tokenizer = tokenizer,\n",
    "    train_dataset=dataset[\"train\"],\n",
    "    eval_dataset=dataset[\"validation\"],\n",
    "    data_collator = data_collator,    \n",
    "    args=sft_config,\n",
    "    # formatting_func=formatting_func,\n",
    ")"
   ]
  },
  {
   "cell_type": "code",
   "execution_count": 20,
   "id": "11e24813-28ea-47a5-b090-685f68c53531",
   "metadata": {
    "scrolled": true
   },
   "outputs": [
    {
     "data": {
      "text/html": [
       "<table border=\"1\" class=\"dataframe\">\n",
       "  <thead>\n",
       "    <tr style=\"text-align: right;\">\n",
       "      <th></th>\n",
       "      <th>weibo</th>\n",
       "      <th>resp</th>\n",
       "    </tr>\n",
       "  </thead>\n",
       "  <tbody>\n",
       "    <tr>\n",
       "      <th>0</th>\n",
       "      <td>#南航机务人员因说机长再见被通报#？官方回应：已注意到相关信息近日，网上流传一张标题为“CZ8847航前出港情况报告”的截图，据截图内容显示，报告中提到两位机务人员主要存在两个问题，一是机务人员没有及时通知机长启动发动机，二是机务人员存在用语不规范问题，本来应该按标准用语跟机长说“机长，飞行愉快，一路平安，再见”，结果只说了“机长再见”。截图内容引起众多网友特别是民航业内人士的热议。据航旅纵横信息显示，CZ8847航班由中国南方航空公司承运，5月2日上午九点航班由北京大兴机场飞往成都双流机场，执飞飞机机型为空客320-200，编号B6977，与网传截图信息一致。5月6日晚，一位在南方航空公司工作的资深人士告诉新黄河记者，“这个通告我后来看到了，因为涉及公司，不方便评论”。5月7日，南方航空公司客服人员告诉记者，已经注意到相关信息，目前没有调查结果反馈，不了解具体细节，建议等官方渠道公布的调查结果为准。</td>\n",
       "      <td>形式主义</td>\n",
       "    </tr>\n",
       "    <tr>\n",
       "      <th>1</th>\n",
       "      <td>无奋斗不青春“勇敢不是不怕，而是不逃不退让。什么是热爱？是第一万次重新再来……”青春就该肆意张扬，追逐心中的光。今天是五四青年节，这首《赤脚追光》，送给所有逆风跑、不逃不退让的你～#奋斗青春100年##当代年轻人在职场有多勇#L中国消防</td>\n",
       "      <td>勇敢不是不怕，而是不逃不退让！致敬全体消防员！也感谢对R1SE——《赤脚追光》这首歌的喜欢</td>\n",
       "    </tr>\n",
       "    <tr>\n",
       "      <th>2</th>\n",
       "      <td>《仙剑三》古筝笛子钢琴合奏版，太好听了瞬间上头#仙剑三古筝笛子钢琴合奏版##微博喜剧现场#L文科班校花酱</td>\n",
       "      <td>这首歌让我想起我当年在蜀山练剑的日子</td>\n",
       "    </tr>\n",
       "    <tr>\n",
       "      <th>3</th>\n",
       "      <td>#两男子抬近300斤新娘进婚礼现场#目击者：感觉非常吃力1月1日，湖北枣阳一婚礼现场，一新娘从婚车内出来准备进入婚礼现场时，由两名男子一路抬着。刚没走几步，一名男子累得大叫，几名男子赶紧上前帮忙。目击者王先生称，目测新娘体重300斤左右，两男子一人抬一条腿非常吃力，旁边还有两名男子扶着生怕摔跤。有人一直鼓励两名男子牙咬紧点，坚持一下，感觉给婚礼平添了不少欢乐和喜庆。#蓝v视界#</td>\n",
       "      <td>拜金男冲着钱去的吧 现在的男人啊越来越拜金了 都爱吃软饭（一个猜想不一定对</td>\n",
       "    </tr>\n",
       "    <tr>\n",
       "      <th>4</th>\n",
       "      <td>美国疾控中心：#近六成美国人曾感染新冠病毒#根据美国约翰斯·霍普金斯大学的数据，美国目前报告的累计新冠肺炎确诊病例超过8108万例。而根据美国疾控中心当地时间4月26日发布的最新报告，美国大约已有58%的人口具有因感染过新冠病毒而产生的抗体——以美国人口约为3.3亿来计算的话，也就是说，美国已有大约1.914亿人感染过新冠病毒。</td>\n",
       "      <td>超疾大国</td>\n",
       "    </tr>\n",
       "  </tbody>\n",
       "</table>"
      ],
      "text/plain": [
       "<IPython.core.display.HTML object>"
      ]
     },
     "metadata": {},
     "output_type": "display_data"
    }
   ],
   "source": [
    "import datasets\n",
    "import random\n",
    "import pandas as pd\n",
    "from IPython.display import display, HTML\n",
    "\n",
    "def show_random_elements(dataset, num_examples=5):\n",
    "    assert num_examples <= len(dataset), \"Can't pick more elements than there are in the dataset.\"\n",
    "    picks = []\n",
    "    for _ in range(num_examples):\n",
    "        pick = random.randint(0, len(dataset)-1)\n",
    "        while pick in picks:\n",
    "            pick = random.randint(0, len(dataset)-1)\n",
    "        picks.append(pick)\n",
    "\n",
    "    df = pd.DataFrame(dataset[picks])\n",
    "    for column, typ in dataset.features.items():\n",
    "        if isinstance(typ, datasets.ClassLabel):\n",
    "            df[column] = df[column].transform(lambda i: typ.names[i])\n",
    "    display(HTML(df.to_html()))\n",
    "\n",
    "show_random_elements(dataset[\"train\"])"
   ]
  },
  {
   "cell_type": "code",
   "execution_count": null,
   "id": "ae35dab1-2d57-4dfe-85cc-f6bc201536cf",
   "metadata": {
    "scrolled": true
   },
   "outputs": [],
   "source": [
    "# batch = data_collator([tokenized_datasets[\"train\"][i] for i in range(5)])\n",
    "# print(batch)"
   ]
  },
  {
   "cell_type": "code",
   "execution_count": 15,
   "id": "844c471c-a809-4d28-82b3-4084a8cafdec",
   "metadata": {
    "scrolled": true
   },
   "outputs": [
    {
     "ename": "AttributeError",
     "evalue": "'NoneType' object has no attribute 'to'",
     "output_type": "error",
     "traceback": [
      "\u001b[0;31m---------------------------------------------------------------------------\u001b[0m",
      "\u001b[0;31mTypeError\u001b[0m                                 Traceback (most recent call last)",
      "File \u001b[0;32m/usr/local/lib/python3.8/dist-packages/accelerate/utils/operations.py:158\u001b[0m, in \u001b[0;36msend_to_device\u001b[0;34m(tensor, device, non_blocking, skip_keys)\u001b[0m\n\u001b[1;32m    157\u001b[0m \u001b[38;5;28;01mtry\u001b[39;00m:\n\u001b[0;32m--> 158\u001b[0m     \u001b[38;5;28;01mreturn\u001b[39;00m \u001b[43mtensor\u001b[49m\u001b[38;5;241;43m.\u001b[39;49m\u001b[43mto\u001b[49m\u001b[43m(\u001b[49m\u001b[43mdevice\u001b[49m\u001b[43m,\u001b[49m\u001b[43m \u001b[49m\u001b[43mnon_blocking\u001b[49m\u001b[38;5;241;43m=\u001b[39;49m\u001b[43mnon_blocking\u001b[49m\u001b[43m)\u001b[49m\n\u001b[1;32m    159\u001b[0m \u001b[38;5;28;01mexcept\u001b[39;00m \u001b[38;5;167;01mTypeError\u001b[39;00m:  \u001b[38;5;66;03m# .to() doesn't accept non_blocking as kwarg\u001b[39;00m\n",
      "\u001b[0;31mTypeError\u001b[0m: to() got an unexpected keyword argument 'non_blocking'",
      "\nDuring handling of the above exception, another exception occurred:\n",
      "\u001b[0;31mAttributeError\u001b[0m                            Traceback (most recent call last)",
      "Cell \u001b[0;32mIn[15], line 1\u001b[0m\n\u001b[0;32m----> 1\u001b[0m \u001b[43mtrainer\u001b[49m\u001b[38;5;241;43m.\u001b[39;49m\u001b[43mtrain\u001b[49m\u001b[43m(\u001b[49m\u001b[43m)\u001b[49m\n",
      "File \u001b[0;32m/usr/local/lib/python3.8/dist-packages/trl/trainer/sft_trainer.py:440\u001b[0m, in \u001b[0;36mSFTTrainer.train\u001b[0;34m(self, *args, **kwargs)\u001b[0m\n\u001b[1;32m    437\u001b[0m \u001b[38;5;28;01mif\u001b[39;00m \u001b[38;5;28mself\u001b[39m\u001b[38;5;241m.\u001b[39mneftune_noise_alpha \u001b[38;5;129;01mis\u001b[39;00m \u001b[38;5;129;01mnot\u001b[39;00m \u001b[38;5;28;01mNone\u001b[39;00m \u001b[38;5;129;01mand\u001b[39;00m \u001b[38;5;129;01mnot\u001b[39;00m \u001b[38;5;28mself\u001b[39m\u001b[38;5;241m.\u001b[39m_trainer_supports_neftune:\n\u001b[1;32m    438\u001b[0m     \u001b[38;5;28mself\u001b[39m\u001b[38;5;241m.\u001b[39mmodel \u001b[38;5;241m=\u001b[39m \u001b[38;5;28mself\u001b[39m\u001b[38;5;241m.\u001b[39m_trl_activate_neftune(\u001b[38;5;28mself\u001b[39m\u001b[38;5;241m.\u001b[39mmodel)\n\u001b[0;32m--> 440\u001b[0m output \u001b[38;5;241m=\u001b[39m \u001b[38;5;28;43msuper\u001b[39;49m\u001b[43m(\u001b[49m\u001b[43m)\u001b[49m\u001b[38;5;241;43m.\u001b[39;49m\u001b[43mtrain\u001b[49m\u001b[43m(\u001b[49m\u001b[38;5;241;43m*\u001b[39;49m\u001b[43margs\u001b[49m\u001b[43m,\u001b[49m\u001b[43m \u001b[49m\u001b[38;5;241;43m*\u001b[39;49m\u001b[38;5;241;43m*\u001b[39;49m\u001b[43mkwargs\u001b[49m\u001b[43m)\u001b[49m\n\u001b[1;32m    442\u001b[0m \u001b[38;5;66;03m# After training we make sure to retrieve back the original forward pass method\u001b[39;00m\n\u001b[1;32m    443\u001b[0m \u001b[38;5;66;03m# for the embedding layer by removing the forward post hook.\u001b[39;00m\n\u001b[1;32m    444\u001b[0m \u001b[38;5;28;01mif\u001b[39;00m \u001b[38;5;28mself\u001b[39m\u001b[38;5;241m.\u001b[39mneftune_noise_alpha \u001b[38;5;129;01mis\u001b[39;00m \u001b[38;5;129;01mnot\u001b[39;00m \u001b[38;5;28;01mNone\u001b[39;00m \u001b[38;5;129;01mand\u001b[39;00m \u001b[38;5;129;01mnot\u001b[39;00m \u001b[38;5;28mself\u001b[39m\u001b[38;5;241m.\u001b[39m_trainer_supports_neftune:\n",
      "File \u001b[0;32m/usr/local/lib/python3.8/dist-packages/transformers/trainer.py:1932\u001b[0m, in \u001b[0;36mTrainer.train\u001b[0;34m(self, resume_from_checkpoint, trial, ignore_keys_for_eval, **kwargs)\u001b[0m\n\u001b[1;32m   1930\u001b[0m         hf_hub_utils\u001b[38;5;241m.\u001b[39menable_progress_bars()\n\u001b[1;32m   1931\u001b[0m \u001b[38;5;28;01melse\u001b[39;00m:\n\u001b[0;32m-> 1932\u001b[0m     \u001b[38;5;28;01mreturn\u001b[39;00m \u001b[43minner_training_loop\u001b[49m\u001b[43m(\u001b[49m\n\u001b[1;32m   1933\u001b[0m \u001b[43m        \u001b[49m\u001b[43margs\u001b[49m\u001b[38;5;241;43m=\u001b[39;49m\u001b[43margs\u001b[49m\u001b[43m,\u001b[49m\n\u001b[1;32m   1934\u001b[0m \u001b[43m        \u001b[49m\u001b[43mresume_from_checkpoint\u001b[49m\u001b[38;5;241;43m=\u001b[39;49m\u001b[43mresume_from_checkpoint\u001b[49m\u001b[43m,\u001b[49m\n\u001b[1;32m   1935\u001b[0m \u001b[43m        \u001b[49m\u001b[43mtrial\u001b[49m\u001b[38;5;241;43m=\u001b[39;49m\u001b[43mtrial\u001b[49m\u001b[43m,\u001b[49m\n\u001b[1;32m   1936\u001b[0m \u001b[43m        \u001b[49m\u001b[43mignore_keys_for_eval\u001b[49m\u001b[38;5;241;43m=\u001b[39;49m\u001b[43mignore_keys_for_eval\u001b[49m\u001b[43m,\u001b[49m\n\u001b[1;32m   1937\u001b[0m \u001b[43m    \u001b[49m\u001b[43m)\u001b[49m\n",
      "File \u001b[0;32m/usr/local/lib/python3.8/dist-packages/transformers/trainer.py:2230\u001b[0m, in \u001b[0;36mTrainer._inner_training_loop\u001b[0;34m(self, batch_size, args, resume_from_checkpoint, trial, ignore_keys_for_eval)\u001b[0m\n\u001b[1;32m   2227\u001b[0m     rng_to_sync \u001b[38;5;241m=\u001b[39m \u001b[38;5;28;01mTrue\u001b[39;00m\n\u001b[1;32m   2229\u001b[0m step \u001b[38;5;241m=\u001b[39m \u001b[38;5;241m-\u001b[39m\u001b[38;5;241m1\u001b[39m\n\u001b[0;32m-> 2230\u001b[0m \u001b[38;5;28;01mfor\u001b[39;00m step, inputs \u001b[38;5;129;01min\u001b[39;00m \u001b[38;5;28menumerate\u001b[39m(epoch_iterator):\n\u001b[1;32m   2231\u001b[0m     total_batched_samples \u001b[38;5;241m+\u001b[39m\u001b[38;5;241m=\u001b[39m \u001b[38;5;241m1\u001b[39m\n\u001b[1;32m   2233\u001b[0m     \u001b[38;5;28;01mif\u001b[39;00m \u001b[38;5;28mself\u001b[39m\u001b[38;5;241m.\u001b[39margs\u001b[38;5;241m.\u001b[39minclude_num_input_tokens_seen:\n",
      "File \u001b[0;32m/usr/local/lib/python3.8/dist-packages/accelerate/data_loader.py:463\u001b[0m, in \u001b[0;36mDataLoaderShard.__iter__\u001b[0;34m(self)\u001b[0m\n\u001b[1;32m    460\u001b[0m \u001b[38;5;28;01mtry\u001b[39;00m:\n\u001b[1;32m    461\u001b[0m     \u001b[38;5;66;03m# But we still move it to the device so it is done before `StopIteration` is reached\u001b[39;00m\n\u001b[1;32m    462\u001b[0m     \u001b[38;5;28;01mif\u001b[39;00m \u001b[38;5;28mself\u001b[39m\u001b[38;5;241m.\u001b[39mdevice \u001b[38;5;129;01mis\u001b[39;00m \u001b[38;5;129;01mnot\u001b[39;00m \u001b[38;5;28;01mNone\u001b[39;00m:\n\u001b[0;32m--> 463\u001b[0m         current_batch \u001b[38;5;241m=\u001b[39m \u001b[43msend_to_device\u001b[49m\u001b[43m(\u001b[49m\u001b[43mcurrent_batch\u001b[49m\u001b[43m,\u001b[49m\u001b[43m \u001b[49m\u001b[38;5;28;43mself\u001b[39;49m\u001b[38;5;241;43m.\u001b[39;49m\u001b[43mdevice\u001b[49m\u001b[43m,\u001b[49m\u001b[43m \u001b[49m\u001b[43mnon_blocking\u001b[49m\u001b[38;5;241;43m=\u001b[39;49m\u001b[38;5;28;43mself\u001b[39;49m\u001b[38;5;241;43m.\u001b[39;49m\u001b[43m_non_blocking\u001b[49m\u001b[43m)\u001b[49m\n\u001b[1;32m    464\u001b[0m     next_batch \u001b[38;5;241m=\u001b[39m \u001b[38;5;28mnext\u001b[39m(dataloader_iter)\n\u001b[1;32m    465\u001b[0m     \u001b[38;5;28;01mif\u001b[39;00m batch_index \u001b[38;5;241m>\u001b[39m\u001b[38;5;241m=\u001b[39m \u001b[38;5;28mself\u001b[39m\u001b[38;5;241m.\u001b[39mskip_batches:\n",
      "File \u001b[0;32m/usr/local/lib/python3.8/dist-packages/accelerate/utils/operations.py:160\u001b[0m, in \u001b[0;36msend_to_device\u001b[0;34m(tensor, device, non_blocking, skip_keys)\u001b[0m\n\u001b[1;32m    158\u001b[0m     \u001b[38;5;28;01mreturn\u001b[39;00m tensor\u001b[38;5;241m.\u001b[39mto(device, non_blocking\u001b[38;5;241m=\u001b[39mnon_blocking)\n\u001b[1;32m    159\u001b[0m \u001b[38;5;28;01mexcept\u001b[39;00m \u001b[38;5;167;01mTypeError\u001b[39;00m:  \u001b[38;5;66;03m# .to() doesn't accept non_blocking as kwarg\u001b[39;00m\n\u001b[0;32m--> 160\u001b[0m     \u001b[38;5;28;01mreturn\u001b[39;00m \u001b[43mtensor\u001b[49m\u001b[38;5;241;43m.\u001b[39;49m\u001b[43mto\u001b[49m\u001b[43m(\u001b[49m\u001b[43mdevice\u001b[49m\u001b[43m)\u001b[49m\n\u001b[1;32m    161\u001b[0m \u001b[38;5;28;01mexcept\u001b[39;00m \u001b[38;5;167;01mAssertionError\u001b[39;00m \u001b[38;5;28;01mas\u001b[39;00m error:\n\u001b[1;32m    162\u001b[0m     \u001b[38;5;66;03m# `torch.Tensor.to(<int num>)` is not supported by `torch_npu` (see this [issue](https://github.com/Ascend/pytorch/issues/16)).\u001b[39;00m\n\u001b[1;32m    163\u001b[0m     \u001b[38;5;66;03m# This call is inside the try-block since is_npu_available is not supported by torch.compile.\u001b[39;00m\n\u001b[1;32m    164\u001b[0m     \u001b[38;5;28;01mif\u001b[39;00m is_npu_available():\n",
      "File \u001b[0;32m/usr/local/lib/python3.8/dist-packages/transformers/tokenization_utils_base.py:803\u001b[0m, in \u001b[0;36mBatchEncoding.to\u001b[0;34m(self, device)\u001b[0m\n\u001b[1;32m    799\u001b[0m \u001b[38;5;66;03m# This check catches things like APEX blindly calling \"to\" on all inputs to a module\u001b[39;00m\n\u001b[1;32m    800\u001b[0m \u001b[38;5;66;03m# Otherwise it passes the casts down and casts the LongTensor containing the token idxs\u001b[39;00m\n\u001b[1;32m    801\u001b[0m \u001b[38;5;66;03m# into a HalfTensor\u001b[39;00m\n\u001b[1;32m    802\u001b[0m \u001b[38;5;28;01mif\u001b[39;00m \u001b[38;5;28misinstance\u001b[39m(device, \u001b[38;5;28mstr\u001b[39m) \u001b[38;5;129;01mor\u001b[39;00m is_torch_device(device) \u001b[38;5;129;01mor\u001b[39;00m \u001b[38;5;28misinstance\u001b[39m(device, \u001b[38;5;28mint\u001b[39m):\n\u001b[0;32m--> 803\u001b[0m     \u001b[38;5;28mself\u001b[39m\u001b[38;5;241m.\u001b[39mdata \u001b[38;5;241m=\u001b[39m {k: v\u001b[38;5;241m.\u001b[39mto(device\u001b[38;5;241m=\u001b[39mdevice) \u001b[38;5;28;01mfor\u001b[39;00m k, v \u001b[38;5;129;01min\u001b[39;00m \u001b[38;5;28mself\u001b[39m\u001b[38;5;241m.\u001b[39mdata\u001b[38;5;241m.\u001b[39mitems()}\n\u001b[1;32m    804\u001b[0m \u001b[38;5;28;01melse\u001b[39;00m:\n\u001b[1;32m    805\u001b[0m     logger\u001b[38;5;241m.\u001b[39mwarning(\u001b[38;5;124mf\u001b[39m\u001b[38;5;124m\"\u001b[39m\u001b[38;5;124mAttempting to cast a BatchEncoding to type \u001b[39m\u001b[38;5;132;01m{\u001b[39;00m\u001b[38;5;28mstr\u001b[39m(device)\u001b[38;5;132;01m}\u001b[39;00m\u001b[38;5;124m. This is not supported.\u001b[39m\u001b[38;5;124m\"\u001b[39m)\n",
      "File \u001b[0;32m/usr/local/lib/python3.8/dist-packages/transformers/tokenization_utils_base.py:803\u001b[0m, in \u001b[0;36m<dictcomp>\u001b[0;34m(.0)\u001b[0m\n\u001b[1;32m    799\u001b[0m \u001b[38;5;66;03m# This check catches things like APEX blindly calling \"to\" on all inputs to a module\u001b[39;00m\n\u001b[1;32m    800\u001b[0m \u001b[38;5;66;03m# Otherwise it passes the casts down and casts the LongTensor containing the token idxs\u001b[39;00m\n\u001b[1;32m    801\u001b[0m \u001b[38;5;66;03m# into a HalfTensor\u001b[39;00m\n\u001b[1;32m    802\u001b[0m \u001b[38;5;28;01mif\u001b[39;00m \u001b[38;5;28misinstance\u001b[39m(device, \u001b[38;5;28mstr\u001b[39m) \u001b[38;5;129;01mor\u001b[39;00m is_torch_device(device) \u001b[38;5;129;01mor\u001b[39;00m \u001b[38;5;28misinstance\u001b[39m(device, \u001b[38;5;28mint\u001b[39m):\n\u001b[0;32m--> 803\u001b[0m     \u001b[38;5;28mself\u001b[39m\u001b[38;5;241m.\u001b[39mdata \u001b[38;5;241m=\u001b[39m {k: \u001b[43mv\u001b[49m\u001b[38;5;241;43m.\u001b[39;49m\u001b[43mto\u001b[49m(device\u001b[38;5;241m=\u001b[39mdevice) \u001b[38;5;28;01mfor\u001b[39;00m k, v \u001b[38;5;129;01min\u001b[39;00m \u001b[38;5;28mself\u001b[39m\u001b[38;5;241m.\u001b[39mdata\u001b[38;5;241m.\u001b[39mitems()}\n\u001b[1;32m    804\u001b[0m \u001b[38;5;28;01melse\u001b[39;00m:\n\u001b[1;32m    805\u001b[0m     logger\u001b[38;5;241m.\u001b[39mwarning(\u001b[38;5;124mf\u001b[39m\u001b[38;5;124m\"\u001b[39m\u001b[38;5;124mAttempting to cast a BatchEncoding to type \u001b[39m\u001b[38;5;132;01m{\u001b[39;00m\u001b[38;5;28mstr\u001b[39m(device)\u001b[38;5;132;01m}\u001b[39;00m\u001b[38;5;124m. This is not supported.\u001b[39m\u001b[38;5;124m\"\u001b[39m)\n",
      "\u001b[0;31mAttributeError\u001b[0m: 'NoneType' object has no attribute 'to'"
     ]
    }
   ],
   "source": [
    "trainer.train()"
   ]
  },
  {
   "cell_type": "markdown",
   "id": "1876afc6-1a78-45ad-828f-644ad3674ca0",
   "metadata": {},
   "source": [
    "## RM Phase\n",
    "10:17 12:11\n",
    "\n",
    "*Error Came Across*:\n",
    "\n",
    "1. `AssertionError`: Cannot handle batch sizes > 1 if no padding token is defined."
   ]
  },
  {
   "cell_type": "code",
   "execution_count": 2,
   "id": "a6fe4973-a69e-4a0b-823d-7944e7bb6b3b",
   "metadata": {},
   "outputs": [
    {
     "data": {
      "text/plain": [
       "DatasetDict({\n",
       "    train: Dataset({\n",
       "        features: ['weibo', 'text_j', 'text_k', 'text_j_like', 'text_k_like'],\n",
       "        num_rows: 9985\n",
       "    })\n",
       "    validation: Dataset({\n",
       "        features: ['weibo', 'text_j', 'text_k', 'text_j_like', 'text_k_like'],\n",
       "        num_rows: 3451\n",
       "    })\n",
       "    test: Dataset({\n",
       "        features: ['weibo', 'text_j', 'text_k', 'text_j_like', 'text_k_like'],\n",
       "        num_rows: 7249\n",
       "    })\n",
       "})"
      ]
     },
     "execution_count": 2,
     "metadata": {},
     "output_type": "execute_result"
    }
   ],
   "source": [
    "rm_dataset = load_dataset(\"gen_rm_dataset.py\", trust_remote_code=True)\n",
    "rm_dataset"
   ]
  },
  {
   "cell_type": "code",
   "execution_count": 3,
   "id": "d4a87359-f215-4685-94e1-e8d65d7a0f1c",
   "metadata": {},
   "outputs": [],
   "source": [
    "def preprocess_function(examples):\n",
    "    new_examples = {\n",
    "        \"input_ids_chosen\": [],\n",
    "        \"attention_mask_chosen\": [],\n",
    "        \"input_ids_rejected\": [],\n",
    "        \"attention_mask_rejected\": [],\n",
    "    }\n",
    "    for text_j, text_k, text_j_like, text_k_like in zip(examples[\"text_j\"], examples[\"text_k\"], examples[\"text_j_like\"], examples[\"text_k_like\"]):\n",
    "        if text_j_like >= text_k_like:\n",
    "            chosen = text_j\n",
    "            rejected = text_k\n",
    "        else:\n",
    "            chosen = text_k\n",
    "            rejected = text_j        \n",
    "        \n",
    "        tokenized_chosen = tokenizer(chosen, padding=\"max_length\", max_length=32, truncation=True) # Same Problem as SFT\n",
    "        tokenized_rejected = tokenizer(rejected, padding=\"max_length\", max_length=32, truncation=True) # Same Problem as SFT\n",
    "\n",
    "        new_examples[\"input_ids_chosen\"].append(tokenized_chosen[\"input_ids\"])\n",
    "        new_examples[\"attention_mask_chosen\"].append(tokenized_chosen[\"attention_mask\"])\n",
    "        new_examples[\"input_ids_rejected\"].append(tokenized_rejected[\"input_ids\"])\n",
    "        new_examples[\"attention_mask_rejected\"].append(tokenized_rejected[\"attention_mask\"])\n",
    "\n",
    "    return new_examples"
   ]
  },
  {
   "cell_type": "code",
   "execution_count": 4,
   "id": "ba8c88f2-c337-4ea4-acb4-4a1a38bbcf1d",
   "metadata": {},
   "outputs": [
    {
     "name": "stderr",
     "output_type": "stream",
     "text": [
      "Some weights of GPT2ForSequenceClassification were not initialized from the model checkpoint at gpt2 and are newly initialized: ['score.weight']\n",
      "You should probably TRAIN this model on a down-stream task to be able to use it for predictions and inference.\n"
     ]
    }
   ],
   "source": [
    "from transformers import AutoModelForSequenceClassification, AutoTokenizer\n",
    "\n",
    "# Initial Reward Model\n",
    "rm_model = AutoModelForSequenceClassification.from_pretrained(\"gpt2\")\n",
    "\n",
    "# Initial Tokenizer for RM\n",
    "tokenizer = AutoTokenizer.from_pretrained(\"gpt2\", use_fast=True)\n",
    "tokenizer.pad_token = tokenizer.eos_token\n",
    "rm_model.config.pad_token_id = tokenizer.pad_token_id # Suggested by Claude 3.5 Sonnet"
   ]
  },
  {
   "cell_type": "code",
   "execution_count": 5,
   "id": "c3358283-88bb-48eb-b72a-a92cd3a7055c",
   "metadata": {},
   "outputs": [],
   "source": [
    "# Preprocess the dataset\n",
    "rm_dataset = rm_dataset.map(\n",
    "    preprocess_function,\n",
    "    batched=True,\n",
    "    num_proc=4,\n",
    ")"
   ]
  },
  {
   "cell_type": "code",
   "execution_count": 6,
   "id": "37e1660a-15e9-4acc-98e5-c492d770079d",
   "metadata": {},
   "outputs": [],
   "source": [
    "rm_train_dataset = rm_dataset[\"train\"]\n",
    "rm_eval_dataset = rm_dataset[\"validation\"]"
   ]
  },
  {
   "cell_type": "code",
   "execution_count": 9,
   "id": "07464f05-f7f2-4b38-9ed3-2acf71f47b95",
   "metadata": {},
   "outputs": [],
   "source": [
    "from trl import RewardTrainer, RewardConfig\n",
    "\n",
    "config = RewardConfig(\n",
    "    output_dir=\"RM_model7\",\n",
    "    per_device_train_batch_size=32,\n",
    "    num_train_epochs=150,\n",
    "    gradient_accumulation_steps=4,\n",
    "    gradient_checkpointing=True,\n",
    "    learning_rate=5e-3,\n",
    "    report_to=\"tensorboard\",\n",
    "    logging_dir=\"./results/rm7-Latest7\",\n",
    "    remove_unused_columns=False,\n",
    "    optim=\"adamw_torch\",\n",
    "    logging_steps=10,\n",
    "    eval_strategy=\"steps\",\n",
    "    eval_steps=500,\n",
    "    max_length=256,\n",
    ")"
   ]
  },
  {
   "cell_type": "code",
   "execution_count": 10,
   "id": "72cf2550-b17c-4ef5-9bbd-f29a1f76ea1a",
   "metadata": {},
   "outputs": [],
   "source": [
    "peft_config = LoraConfig(\n",
    "    task_type=\"SEQ_CLS\", # NOT CAUSAL_LM (bug)\n",
    "    inference_mode=False,\n",
    "    r=8,\n",
    "    lora_alpha=32,\n",
    "    lora_dropout=0.1,\n",
    ")"
   ]
  },
  {
   "cell_type": "code",
   "execution_count": 10,
   "id": "3b4aaba9-2b44-468b-a582-5089b0c37c4d",
   "metadata": {},
   "outputs": [],
   "source": [
    "### First Formal Trial (1560 steps) bs = 8, lr ~ 5e-5, 10 epochs"
   ]
  },
  {
   "cell_type": "code",
   "execution_count": 19,
   "id": "195ee871-9ca5-42b2-90de-50033cc6c2b2",
   "metadata": {
    "scrolled": true
   },
   "outputs": [
    {
     "name": "stderr",
     "output_type": "stream",
     "text": [
      "Detected kernel version 5.4.0, which is below the recommended minimum of 5.5.0; this can cause the process to hang. It is recommended to upgrade the kernel to the minimum version or higher.\n",
      "/usr/local/lib/python3.8/dist-packages/transformers/tokenization_utils_base.py:2778: UserWarning: `max_length` is ignored when `padding`=`True` and there is no truncation strategy. To pad to max length, use `padding='max_length'`.\n",
      "  warnings.warn(\n",
      "/usr/local/lib/python3.8/dist-packages/torch/utils/checkpoint.py:464: UserWarning: torch.utils.checkpoint: the use_reentrant parameter should be passed explicitly. In version 2.4 we will raise an exception if use_reentrant is not passed. use_reentrant=False is recommended, but if you need to preserve the current default behavior, you can pass use_reentrant=True. Refer to docs for more details on the differences between the two variants.\n",
      "  warnings.warn(\n"
     ]
    },
    {
     "data": {
      "text/html": [
       "\n",
       "    <div>\n",
       "      \n",
       "      <progress value='1560' max='1560' style='width:300px; height:20px; vertical-align: middle;'></progress>\n",
       "      [1560/1560 17:42, Epoch 9/10]\n",
       "    </div>\n",
       "    <table border=\"1\" class=\"dataframe\">\n",
       "  <thead>\n",
       " <tr style=\"text-align: left;\">\n",
       "      <th>Step</th>\n",
       "      <th>Training Loss</th>\n",
       "      <th>Validation Loss</th>\n",
       "      <th>Accuracy</th>\n",
       "    </tr>\n",
       "  </thead>\n",
       "  <tbody>\n",
       "    <tr>\n",
       "      <td>500</td>\n",
       "      <td>0.724600</td>\n",
       "      <td>0.705777</td>\n",
       "      <td>0.509128</td>\n",
       "    </tr>\n",
       "    <tr>\n",
       "      <td>1000</td>\n",
       "      <td>0.691900</td>\n",
       "      <td>0.690434</td>\n",
       "      <td>0.538974</td>\n",
       "    </tr>\n",
       "    <tr>\n",
       "      <td>1500</td>\n",
       "      <td>0.704100</td>\n",
       "      <td>0.688446</td>\n",
       "      <td>0.541292</td>\n",
       "    </tr>\n",
       "  </tbody>\n",
       "</table><p>"
      ],
      "text/plain": [
       "<IPython.core.display.HTML object>"
      ]
     },
     "metadata": {},
     "output_type": "display_data"
    },
    {
     "name": "stderr",
     "output_type": "stream",
     "text": [
      "/usr/local/lib/python3.8/dist-packages/torch/utils/checkpoint.py:91: UserWarning: None of the inputs have requires_grad=True. Gradients will be None\n",
      "  warnings.warn(\n"
     ]
    },
    {
     "data": {
      "text/html": [
       "<pre style=\"white-space:pre;overflow-x:auto;line-height:normal;font-family:Menlo,'DejaVu Sans Mono',consolas,'Courier New',monospace\">┏━━━━━━━━━━━━━━━━━━━━━━━━━━━━━━━━━┳━━━━━━━━━━━━━━━━━━━━━━━━━━━━━━━━━━━━┳━━━━━━━━━━━━━━━━━━┓\n",
       "┃<span style=\"font-weight: bold\"> chosen_text                     </span>┃<span style=\"font-weight: bold\"> rejected_text                      </span>┃<span style=\"font-weight: bold\"> logits           </span>┃\n",
       "┡━━━━━━━━━━━━━━━━━━━━━━━━━━━━━━━━━╇━━━━━━━━━━━━━━━━━━━━━━━━━━━━━━━━━━━━╇━━━━━━━━━━━━━━━━━━┩\n",
       "│ 感谢认领.                       │ 公主                               │ [0.6038, 0.3962] │\n",
       "├─────────────────────────────────┼────────────────────────────────────┼──────────────────┤\n",
       "│ 感谢认领露思好漂亮              │ 感谢认领美丽露宝~                  │ [0.4613, 0.5387] │\n",
       "├─────────────────────────────────┼────────────────────────────────────┼──────────────────┤\n",
       "│ 感谢认领露思好漂亮              │ 赵露思好美                         │ [0.5586, 0.4414] │\n",
       "├─────────────────────────────────┼────────────────────────────────────┼──────────────────┤\n",
       "│ 杀了那么多人 蛇蝎心肠 还不够死� │ 他很好？很好为什么逮捕她？杀人     │ [0.459, 0.541]   │\n",
       "├─────────────────────────────────┼────────────────────────────────────┼──────────────────┤\n",
       "│ 她的辩护律师想通过帮她翻案，    │ 二审维持原判还能上诉吗？           │ [0.5083, 0.4917] │\n",
       "├─────────────────────────────────┼────────────────────────────────────┼──────────────────┤\n",
       "│ 妈的 这个律师有点良心吧 维持原  │ 感谢认领.                          │ [0.5686, 0.4314] │\n",
       "├─────────────────────────────────┼────────────────────────────────────┼──────────────────┤\n",
       "│ 她的辩护律师想通过帮她翻案，    │ 她家人没事吧？果然不是一家人，不进 │ [0.4935, 0.5065] │\n",
       "├─────────────────────────────────┼────────────────────────────────────┼──────────────────┤\n",
       "│ 《互联网黑历史现状》            │ 《你看看》                         │ [0.547, 0.453]   │\n",
       "└─────────────────────────────────┴────────────────────────────────────┴──────────────────┘\n",
       "</pre>\n"
      ],
      "text/plain": [
       "┏━━━━━━━━━━━━━━━━━━━━━━━━━━━━━━━━━┳━━━━━━━━━━━━━━━━━━━━━━━━━━━━━━━━━━━━┳━━━━━━━━━━━━━━━━━━┓\n",
       "┃\u001b[1m \u001b[0m\u001b[1mchosen_text                    \u001b[0m\u001b[1m \u001b[0m┃\u001b[1m \u001b[0m\u001b[1mrejected_text                     \u001b[0m\u001b[1m \u001b[0m┃\u001b[1m \u001b[0m\u001b[1mlogits          \u001b[0m\u001b[1m \u001b[0m┃\n",
       "┡━━━━━━━━━━━━━━━━━━━━━━━━━━━━━━━━━╇━━━━━━━━━━━━━━━━━━━━━━━━━━━━━━━━━━━━╇━━━━━━━━━━━━━━━━━━┩\n",
       "│ 感谢认领.                       │ 公主                               │ [0.6038, 0.3962] │\n",
       "├─────────────────────────────────┼────────────────────────────────────┼──────────────────┤\n",
       "│ 感谢认领露思好漂亮              │ 感谢认领美丽露宝~                  │ [0.4613, 0.5387] │\n",
       "├─────────────────────────────────┼────────────────────────────────────┼──────────────────┤\n",
       "│ 感谢认领露思好漂亮              │ 赵露思好美                         │ [0.5586, 0.4414] │\n",
       "├─────────────────────────────────┼────────────────────────────────────┼──────────────────┤\n",
       "│ 杀了那么多人 蛇蝎心肠 还不够死� │ 他很好？很好为什么逮捕她？杀人     │ [0.459, 0.541]   │\n",
       "├─────────────────────────────────┼────────────────────────────────────┼──────────────────┤\n",
       "│ 她的辩护律师想通过帮她翻案，    │ 二审维持原判还能上诉吗？           │ [0.5083, 0.4917] │\n",
       "├─────────────────────────────────┼────────────────────────────────────┼──────────────────┤\n",
       "│ 妈的 这个律师有点良心吧 维持原  │ 感谢认领.                          │ [0.5686, 0.4314] │\n",
       "├─────────────────────────────────┼────────────────────────────────────┼──────────────────┤\n",
       "│ 她的辩护律师想通过帮她翻案，    │ 她家人没事吧？果然不是一家人，不进 │ [0.4935, 0.5065] │\n",
       "├─────────────────────────────────┼────────────────────────────────────┼──────────────────┤\n",
       "│ 《互联网黑历史现状》            │ 《你看看》                         │ [0.547, 0.453]   │\n",
       "└─────────────────────────────────┴────────────────────────────────────┴──────────────────┘\n"
      ]
     },
     "metadata": {},
     "output_type": "display_data"
    },
    {
     "data": {
      "text/html": [
       "<pre style=\"white-space:pre;overflow-x:auto;line-height:normal;font-family:Menlo,'DejaVu Sans Mono',consolas,'Courier New',monospace\">┏━━━━━━━━━━━━━━━━━━━━━━━━━━━━━━━━━┳━━━━━━━━━━━━━━━━━━━━━━━━━━━━━━━━┳━━━━━━━━━━━━━━━━━━┓\n",
       "┃<span style=\"font-weight: bold\"> chosen_text                     </span>┃<span style=\"font-weight: bold\"> rejected_text                  </span>┃<span style=\"font-weight: bold\"> logits           </span>┃\n",
       "┡━━━━━━━━━━━━━━━━━━━━━━━━━━━━━━━━━╇━━━━━━━━━━━━━━━━━━━━━━━━━━━━━━━━╇━━━━━━━━━━━━━━━━━━┩\n",
       "│ 感谢认领.                       │ 公主                           │ [0.6038, 0.3962] │\n",
       "├─────────────────────────────────┼────────────────────────────────┼──────────────────┤\n",
       "│ 感谢认领露思好漂亮              │ 感谢认领美丽露宝~              │ [0.4613, 0.5387] │\n",
       "├─────────────────────────────────┼────────────────────────────────┼──────────────────┤\n",
       "│ 感谢认领露思好漂亮              │ 赵露思好美                     │ [0.5586, 0.4414] │\n",
       "├─────────────────────────────────┼────────────────────────────────┼──────────────────┤\n",
       "│ 杀了那么多人 蛇蝎心肠 还不够死� │ 他很好？很好为什么逮捕她？杀人 │ [0.459, 0.541]   │\n",
       "└─────────────────────────────────┴────────────────────────────────┴──────────────────┘\n",
       "</pre>\n"
      ],
      "text/plain": [
       "┏━━━━━━━━━━━━━━━━━━━━━━━━━━━━━━━━━┳━━━━━━━━━━━━━━━━━━━━━━━━━━━━━━━━┳━━━━━━━━━━━━━━━━━━┓\n",
       "┃\u001b[1m \u001b[0m\u001b[1mchosen_text                    \u001b[0m\u001b[1m \u001b[0m┃\u001b[1m \u001b[0m\u001b[1mrejected_text                 \u001b[0m\u001b[1m \u001b[0m┃\u001b[1m \u001b[0m\u001b[1mlogits          \u001b[0m\u001b[1m \u001b[0m┃\n",
       "┡━━━━━━━━━━━━━━━━━━━━━━━━━━━━━━━━━╇━━━━━━━━━━━━━━━━━━━━━━━━━━━━━━━━╇━━━━━━━━━━━━━━━━━━┩\n",
       "│ 感谢认领.                       │ 公主                           │ [0.6038, 0.3962] │\n",
       "├─────────────────────────────────┼────────────────────────────────┼──────────────────┤\n",
       "│ 感谢认领露思好漂亮              │ 感谢认领美丽露宝~              │ [0.4613, 0.5387] │\n",
       "├─────────────────────────────────┼────────────────────────────────┼──────────────────┤\n",
       "│ 感谢认领露思好漂亮              │ 赵露思好美                     │ [0.5586, 0.4414] │\n",
       "├─────────────────────────────────┼────────────────────────────────┼──────────────────┤\n",
       "│ 杀了那么多人 蛇蝎心肠 还不够死� │ 他很好？很好为什么逮捕她？杀人 │ [0.459, 0.541]   │\n",
       "└─────────────────────────────────┴────────────────────────────────┴──────────────────┘\n"
      ]
     },
     "metadata": {},
     "output_type": "display_data"
    },
    {
     "name": "stderr",
     "output_type": "stream",
     "text": [
      "/usr/local/lib/python3.8/dist-packages/transformers/tokenization_utils_base.py:2778: UserWarning: `max_length` is ignored when `padding`=`True` and there is no truncation strategy. To pad to max length, use `padding='max_length'`.\n",
      "  warnings.warn(\n",
      "/usr/local/lib/python3.8/dist-packages/trl/trainer/utils.py:599: UserWarning: There are 22 out of 3451 instances where the predictions for both options are equal. As a consequence the accuracy can be misleading.\n",
      "  warnings.warn(\n",
      "/usr/local/lib/python3.8/dist-packages/transformers/tokenization_utils_base.py:2778: UserWarning: `max_length` is ignored when `padding`=`True` and there is no truncation strategy. To pad to max length, use `padding='max_length'`.\n",
      "  warnings.warn(\n",
      "/usr/local/lib/python3.8/dist-packages/torch/utils/checkpoint.py:464: UserWarning: torch.utils.checkpoint: the use_reentrant parameter should be passed explicitly. In version 2.4 we will raise an exception if use_reentrant is not passed. use_reentrant=False is recommended, but if you need to preserve the current default behavior, you can pass use_reentrant=True. Refer to docs for more details on the differences between the two variants.\n",
      "  warnings.warn(\n",
      "/usr/local/lib/python3.8/dist-packages/torch/utils/checkpoint.py:91: UserWarning: None of the inputs have requires_grad=True. Gradients will be None\n",
      "  warnings.warn(\n"
     ]
    },
    {
     "data": {
      "text/html": [
       "<pre style=\"white-space:pre;overflow-x:auto;line-height:normal;font-family:Menlo,'DejaVu Sans Mono',consolas,'Courier New',monospace\">┏━━━━━━━━━━━━━━━━━━━━━━━━━━━━━━━━━┳━━━━━━━━━━━━━━━━━━━━━━━━━━━━━━━━━━━━┳━━━━━━━━━━━━━━━━━━┓\n",
       "┃<span style=\"font-weight: bold\"> chosen_text                     </span>┃<span style=\"font-weight: bold\"> rejected_text                      </span>┃<span style=\"font-weight: bold\"> logits           </span>┃\n",
       "┡━━━━━━━━━━━━━━━━━━━━━━━━━━━━━━━━━╇━━━━━━━━━━━━━━━━━━━━━━━━━━━━━━━━━━━━╇━━━━━━━━━━━━━━━━━━┩\n",
       "│ 感谢认领.                       │ 公主                               │ [0.5971, 0.4029] │\n",
       "├─────────────────────────────────┼────────────────────────────────────┼──────────────────┤\n",
       "│ 感谢认领露思好漂亮              │ 感谢认领美丽露宝~                  │ [0.46, 0.54]     │\n",
       "├─────────────────────────────────┼────────────────────────────────────┼──────────────────┤\n",
       "│ 感谢认领露思好漂亮              │ 赵露思好美                         │ [0.5406, 0.4594] │\n",
       "├─────────────────────────────────┼────────────────────────────────────┼──────────────────┤\n",
       "│ 杀了那么多人 蛇蝎心肠 还不够死� │ 他很好？很好为什么逮捕她？杀人     │ [0.5499, 0.4501] │\n",
       "├─────────────────────────────────┼────────────────────────────────────┼──────────────────┤\n",
       "│ 她的辩护律师想通过帮她翻案，    │ 二审维持原判还能上诉吗？           │ [0.4931, 0.5069] │\n",
       "├─────────────────────────────────┼────────────────────────────────────┼──────────────────┤\n",
       "│ 妈的 这个律师有点良心吧 维持原  │ 感谢认领.                          │ [0.5875, 0.4125] │\n",
       "├─────────────────────────────────┼────────────────────────────────────┼──────────────────┤\n",
       "│ 她的辩护律师想通过帮她翻案，    │ 她家人没事吧？果然不是一家人，不进 │ [0.4702, 0.5298] │\n",
       "├─────────────────────────────────┼────────────────────────────────────┼──────────────────┤\n",
       "│ 《互联网黑历史现状》            │ 《你看看》                         │ [0.5406, 0.4594] │\n",
       "└─────────────────────────────────┴────────────────────────────────────┴──────────────────┘\n",
       "</pre>\n"
      ],
      "text/plain": [
       "┏━━━━━━━━━━━━━━━━━━━━━━━━━━━━━━━━━┳━━━━━━━━━━━━━━━━━━━━━━━━━━━━━━━━━━━━┳━━━━━━━━━━━━━━━━━━┓\n",
       "┃\u001b[1m \u001b[0m\u001b[1mchosen_text                    \u001b[0m\u001b[1m \u001b[0m┃\u001b[1m \u001b[0m\u001b[1mrejected_text                     \u001b[0m\u001b[1m \u001b[0m┃\u001b[1m \u001b[0m\u001b[1mlogits          \u001b[0m\u001b[1m \u001b[0m┃\n",
       "┡━━━━━━━━━━━━━━━━━━━━━━━━━━━━━━━━━╇━━━━━━━━━━━━━━━━━━━━━━━━━━━━━━━━━━━━╇━━━━━━━━━━━━━━━━━━┩\n",
       "│ 感谢认领.                       │ 公主                               │ [0.5971, 0.4029] │\n",
       "├─────────────────────────────────┼────────────────────────────────────┼──────────────────┤\n",
       "│ 感谢认领露思好漂亮              │ 感谢认领美丽露宝~                  │ [0.46, 0.54]     │\n",
       "├─────────────────────────────────┼────────────────────────────────────┼──────────────────┤\n",
       "│ 感谢认领露思好漂亮              │ 赵露思好美                         │ [0.5406, 0.4594] │\n",
       "├─────────────────────────────────┼────────────────────────────────────┼──────────────────┤\n",
       "│ 杀了那么多人 蛇蝎心肠 还不够死� │ 他很好？很好为什么逮捕她？杀人     │ [0.5499, 0.4501] │\n",
       "├─────────────────────────────────┼────────────────────────────────────┼──────────────────┤\n",
       "│ 她的辩护律师想通过帮她翻案，    │ 二审维持原判还能上诉吗？           │ [0.4931, 0.5069] │\n",
       "├─────────────────────────────────┼────────────────────────────────────┼──────────────────┤\n",
       "│ 妈的 这个律师有点良心吧 维持原  │ 感谢认领.                          │ [0.5875, 0.4125] │\n",
       "├─────────────────────────────────┼────────────────────────────────────┼──────────────────┤\n",
       "│ 她的辩护律师想通过帮她翻案，    │ 她家人没事吧？果然不是一家人，不进 │ [0.4702, 0.5298] │\n",
       "├─────────────────────────────────┼────────────────────────────────────┼──────────────────┤\n",
       "│ 《互联网黑历史现状》            │ 《你看看》                         │ [0.5406, 0.4594] │\n",
       "└─────────────────────────────────┴────────────────────────────────────┴──────────────────┘\n"
      ]
     },
     "metadata": {},
     "output_type": "display_data"
    },
    {
     "data": {
      "text/html": [
       "<pre style=\"white-space:pre;overflow-x:auto;line-height:normal;font-family:Menlo,'DejaVu Sans Mono',consolas,'Courier New',monospace\">┏━━━━━━━━━━━━━━━━━━━━━━━━━━━━━━━━━┳━━━━━━━━━━━━━━━━━━━━━━━━━━━━━━━━┳━━━━━━━━━━━━━━━━━━┓\n",
       "┃<span style=\"font-weight: bold\"> chosen_text                     </span>┃<span style=\"font-weight: bold\"> rejected_text                  </span>┃<span style=\"font-weight: bold\"> logits           </span>┃\n",
       "┡━━━━━━━━━━━━━━━━━━━━━━━━━━━━━━━━━╇━━━━━━━━━━━━━━━━━━━━━━━━━━━━━━━━╇━━━━━━━━━━━━━━━━━━┩\n",
       "│ 感谢认领.                       │ 公主                           │ [0.5971, 0.4029] │\n",
       "├─────────────────────────────────┼────────────────────────────────┼──────────────────┤\n",
       "│ 感谢认领露思好漂亮              │ 感谢认领美丽露宝~              │ [0.46, 0.54]     │\n",
       "├─────────────────────────────────┼────────────────────────────────┼──────────────────┤\n",
       "│ 感谢认领露思好漂亮              │ 赵露思好美                     │ [0.5406, 0.4594] │\n",
       "├─────────────────────────────────┼────────────────────────────────┼──────────────────┤\n",
       "│ 杀了那么多人 蛇蝎心肠 还不够死� │ 他很好？很好为什么逮捕她？杀人 │ [0.5499, 0.4501] │\n",
       "└─────────────────────────────────┴────────────────────────────────┴──────────────────┘\n",
       "</pre>\n"
      ],
      "text/plain": [
       "┏━━━━━━━━━━━━━━━━━━━━━━━━━━━━━━━━━┳━━━━━━━━━━━━━━━━━━━━━━━━━━━━━━━━┳━━━━━━━━━━━━━━━━━━┓\n",
       "┃\u001b[1m \u001b[0m\u001b[1mchosen_text                    \u001b[0m\u001b[1m \u001b[0m┃\u001b[1m \u001b[0m\u001b[1mrejected_text                 \u001b[0m\u001b[1m \u001b[0m┃\u001b[1m \u001b[0m\u001b[1mlogits          \u001b[0m\u001b[1m \u001b[0m┃\n",
       "┡━━━━━━━━━━━━━━━━━━━━━━━━━━━━━━━━━╇━━━━━━━━━━━━━━━━━━━━━━━━━━━━━━━━╇━━━━━━━━━━━━━━━━━━┩\n",
       "│ 感谢认领.                       │ 公主                           │ [0.5971, 0.4029] │\n",
       "├─────────────────────────────────┼────────────────────────────────┼──────────────────┤\n",
       "│ 感谢认领露思好漂亮              │ 感谢认领美丽露宝~              │ [0.46, 0.54]     │\n",
       "├─────────────────────────────────┼────────────────────────────────┼──────────────────┤\n",
       "│ 感谢认领露思好漂亮              │ 赵露思好美                     │ [0.5406, 0.4594] │\n",
       "├─────────────────────────────────┼────────────────────────────────┼──────────────────┤\n",
       "│ 杀了那么多人 蛇蝎心肠 还不够死� │ 他很好？很好为什么逮捕她？杀人 │ [0.5499, 0.4501] │\n",
       "└─────────────────────────────────┴────────────────────────────────┴──────────────────┘\n"
      ]
     },
     "metadata": {},
     "output_type": "display_data"
    },
    {
     "name": "stderr",
     "output_type": "stream",
     "text": [
      "/usr/local/lib/python3.8/dist-packages/transformers/tokenization_utils_base.py:2778: UserWarning: `max_length` is ignored when `padding`=`True` and there is no truncation strategy. To pad to max length, use `padding='max_length'`.\n",
      "  warnings.warn(\n",
      "/usr/local/lib/python3.8/dist-packages/trl/trainer/utils.py:599: UserWarning: There are 22 out of 3451 instances where the predictions for both options are equal. As a consequence the accuracy can be misleading.\n",
      "  warnings.warn(\n",
      "/usr/local/lib/python3.8/dist-packages/transformers/tokenization_utils_base.py:2778: UserWarning: `max_length` is ignored when `padding`=`True` and there is no truncation strategy. To pad to max length, use `padding='max_length'`.\n",
      "  warnings.warn(\n",
      "/usr/local/lib/python3.8/dist-packages/torch/utils/checkpoint.py:464: UserWarning: torch.utils.checkpoint: the use_reentrant parameter should be passed explicitly. In version 2.4 we will raise an exception if use_reentrant is not passed. use_reentrant=False is recommended, but if you need to preserve the current default behavior, you can pass use_reentrant=True. Refer to docs for more details on the differences between the two variants.\n",
      "  warnings.warn(\n",
      "/usr/local/lib/python3.8/dist-packages/torch/utils/checkpoint.py:91: UserWarning: None of the inputs have requires_grad=True. Gradients will be None\n",
      "  warnings.warn(\n"
     ]
    },
    {
     "data": {
      "text/html": [
       "<pre style=\"white-space:pre;overflow-x:auto;line-height:normal;font-family:Menlo,'DejaVu Sans Mono',consolas,'Courier New',monospace\">┏━━━━━━━━━━━━━━━━━━━━━━━━━━━━━━━━━┳━━━━━━━━━━━━━━━━━━━━━━━━━━━━━━━━━━━━┳━━━━━━━━━━━━━━━━━━┓\n",
       "┃<span style=\"font-weight: bold\"> chosen_text                     </span>┃<span style=\"font-weight: bold\"> rejected_text                      </span>┃<span style=\"font-weight: bold\"> logits           </span>┃\n",
       "┡━━━━━━━━━━━━━━━━━━━━━━━━━━━━━━━━━╇━━━━━━━━━━━━━━━━━━━━━━━━━━━━━━━━━━━━╇━━━━━━━━━━━━━━━━━━┩\n",
       "│ 感谢认领.                       │ 公主                               │ [0.6156, 0.3844] │\n",
       "├─────────────────────────────────┼────────────────────────────────────┼──────────────────┤\n",
       "│ 感谢认领露思好漂亮              │ 感谢认领美丽露宝~                  │ [0.4655, 0.5345] │\n",
       "├─────────────────────────────────┼────────────────────────────────────┼──────────────────┤\n",
       "│ 感谢认领露思好漂亮              │ 赵露思好美                         │ [0.5744, 0.4256] │\n",
       "├─────────────────────────────────┼────────────────────────────────────┼──────────────────┤\n",
       "│ 杀了那么多人 蛇蝎心肠 还不够死� │ 他很好？很好为什么逮捕她？杀人     │ [0.5342, 0.4658] │\n",
       "├─────────────────────────────────┼────────────────────────────────────┼──────────────────┤\n",
       "│ 她的辩护律师想通过帮她翻案，    │ 二审维持原判还能上诉吗？           │ [0.448, 0.552]   │\n",
       "├─────────────────────────────────┼────────────────────────────────────┼──────────────────┤\n",
       "│ 妈的 这个律师有点良心吧 维持原  │ 感谢认领.                          │ [0.5437, 0.4563] │\n",
       "├─────────────────────────────────┼────────────────────────────────────┼──────────────────┤\n",
       "│ 她的辩护律师想通过帮她翻案，    │ 她家人没事吧？果然不是一家人，不进 │ [0.4865, 0.5135] │\n",
       "├─────────────────────────────────┼────────────────────────────────────┼──────────────────┤\n",
       "│ 《互联网黑历史现状》            │ 《你看看》                         │ [0.5721, 0.4279] │\n",
       "└─────────────────────────────────┴────────────────────────────────────┴──────────────────┘\n",
       "</pre>\n"
      ],
      "text/plain": [
       "┏━━━━━━━━━━━━━━━━━━━━━━━━━━━━━━━━━┳━━━━━━━━━━━━━━━━━━━━━━━━━━━━━━━━━━━━┳━━━━━━━━━━━━━━━━━━┓\n",
       "┃\u001b[1m \u001b[0m\u001b[1mchosen_text                    \u001b[0m\u001b[1m \u001b[0m┃\u001b[1m \u001b[0m\u001b[1mrejected_text                     \u001b[0m\u001b[1m \u001b[0m┃\u001b[1m \u001b[0m\u001b[1mlogits          \u001b[0m\u001b[1m \u001b[0m┃\n",
       "┡━━━━━━━━━━━━━━━━━━━━━━━━━━━━━━━━━╇━━━━━━━━━━━━━━━━━━━━━━━━━━━━━━━━━━━━╇━━━━━━━━━━━━━━━━━━┩\n",
       "│ 感谢认领.                       │ 公主                               │ [0.6156, 0.3844] │\n",
       "├─────────────────────────────────┼────────────────────────────────────┼──────────────────┤\n",
       "│ 感谢认领露思好漂亮              │ 感谢认领美丽露宝~                  │ [0.4655, 0.5345] │\n",
       "├─────────────────────────────────┼────────────────────────────────────┼──────────────────┤\n",
       "│ 感谢认领露思好漂亮              │ 赵露思好美                         │ [0.5744, 0.4256] │\n",
       "├─────────────────────────────────┼────────────────────────────────────┼──────────────────┤\n",
       "│ 杀了那么多人 蛇蝎心肠 还不够死� │ 他很好？很好为什么逮捕她？杀人     │ [0.5342, 0.4658] │\n",
       "├─────────────────────────────────┼────────────────────────────────────┼──────────────────┤\n",
       "│ 她的辩护律师想通过帮她翻案，    │ 二审维持原判还能上诉吗？           │ [0.448, 0.552]   │\n",
       "├─────────────────────────────────┼────────────────────────────────────┼──────────────────┤\n",
       "│ 妈的 这个律师有点良心吧 维持原  │ 感谢认领.                          │ [0.5437, 0.4563] │\n",
       "├─────────────────────────────────┼────────────────────────────────────┼──────────────────┤\n",
       "│ 她的辩护律师想通过帮她翻案，    │ 她家人没事吧？果然不是一家人，不进 │ [0.4865, 0.5135] │\n",
       "├─────────────────────────────────┼────────────────────────────────────┼──────────────────┤\n",
       "│ 《互联网黑历史现状》            │ 《你看看》                         │ [0.5721, 0.4279] │\n",
       "└─────────────────────────────────┴────────────────────────────────────┴──────────────────┘\n"
      ]
     },
     "metadata": {},
     "output_type": "display_data"
    },
    {
     "data": {
      "text/html": [
       "<pre style=\"white-space:pre;overflow-x:auto;line-height:normal;font-family:Menlo,'DejaVu Sans Mono',consolas,'Courier New',monospace\">┏━━━━━━━━━━━━━━━━━━━━━━━━━━━━━━━━━┳━━━━━━━━━━━━━━━━━━━━━━━━━━━━━━━━┳━━━━━━━━━━━━━━━━━━┓\n",
       "┃<span style=\"font-weight: bold\"> chosen_text                     </span>┃<span style=\"font-weight: bold\"> rejected_text                  </span>┃<span style=\"font-weight: bold\"> logits           </span>┃\n",
       "┡━━━━━━━━━━━━━━━━━━━━━━━━━━━━━━━━━╇━━━━━━━━━━━━━━━━━━━━━━━━━━━━━━━━╇━━━━━━━━━━━━━━━━━━┩\n",
       "│ 感谢认领.                       │ 公主                           │ [0.6156, 0.3844] │\n",
       "├─────────────────────────────────┼────────────────────────────────┼──────────────────┤\n",
       "│ 感谢认领露思好漂亮              │ 感谢认领美丽露宝~              │ [0.4655, 0.5345] │\n",
       "├─────────────────────────────────┼────────────────────────────────┼──────────────────┤\n",
       "│ 感谢认领露思好漂亮              │ 赵露思好美                     │ [0.5744, 0.4256] │\n",
       "├─────────────────────────────────┼────────────────────────────────┼──────────────────┤\n",
       "│ 杀了那么多人 蛇蝎心肠 还不够死� │ 他很好？很好为什么逮捕她？杀人 │ [0.5342, 0.4658] │\n",
       "└─────────────────────────────────┴────────────────────────────────┴──────────────────┘\n",
       "</pre>\n"
      ],
      "text/plain": [
       "┏━━━━━━━━━━━━━━━━━━━━━━━━━━━━━━━━━┳━━━━━━━━━━━━━━━━━━━━━━━━━━━━━━━━┳━━━━━━━━━━━━━━━━━━┓\n",
       "┃\u001b[1m \u001b[0m\u001b[1mchosen_text                    \u001b[0m\u001b[1m \u001b[0m┃\u001b[1m \u001b[0m\u001b[1mrejected_text                 \u001b[0m\u001b[1m \u001b[0m┃\u001b[1m \u001b[0m\u001b[1mlogits          \u001b[0m\u001b[1m \u001b[0m┃\n",
       "┡━━━━━━━━━━━━━━━━━━━━━━━━━━━━━━━━━╇━━━━━━━━━━━━━━━━━━━━━━━━━━━━━━━━╇━━━━━━━━━━━━━━━━━━┩\n",
       "│ 感谢认领.                       │ 公主                           │ [0.6156, 0.3844] │\n",
       "├─────────────────────────────────┼────────────────────────────────┼──────────────────┤\n",
       "│ 感谢认领露思好漂亮              │ 感谢认领美丽露宝~              │ [0.4655, 0.5345] │\n",
       "├─────────────────────────────────┼────────────────────────────────┼──────────────────┤\n",
       "│ 感谢认领露思好漂亮              │ 赵露思好美                     │ [0.5744, 0.4256] │\n",
       "├─────────────────────────────────┼────────────────────────────────┼──────────────────┤\n",
       "│ 杀了那么多人 蛇蝎心肠 还不够死� │ 他很好？很好为什么逮捕她？杀人 │ [0.5342, 0.4658] │\n",
       "└─────────────────────────────────┴────────────────────────────────┴──────────────────┘\n"
      ]
     },
     "metadata": {},
     "output_type": "display_data"
    },
    {
     "name": "stderr",
     "output_type": "stream",
     "text": [
      "/usr/local/lib/python3.8/dist-packages/transformers/tokenization_utils_base.py:2778: UserWarning: `max_length` is ignored when `padding`=`True` and there is no truncation strategy. To pad to max length, use `padding='max_length'`.\n",
      "  warnings.warn(\n",
      "/usr/local/lib/python3.8/dist-packages/trl/trainer/utils.py:599: UserWarning: There are 22 out of 3451 instances where the predictions for both options are equal. As a consequence the accuracy can be misleading.\n",
      "  warnings.warn(\n",
      "/usr/local/lib/python3.8/dist-packages/transformers/tokenization_utils_base.py:2778: UserWarning: `max_length` is ignored when `padding`=`True` and there is no truncation strategy. To pad to max length, use `padding='max_length'`.\n",
      "  warnings.warn(\n",
      "/usr/local/lib/python3.8/dist-packages/torch/utils/checkpoint.py:464: UserWarning: torch.utils.checkpoint: the use_reentrant parameter should be passed explicitly. In version 2.4 we will raise an exception if use_reentrant is not passed. use_reentrant=False is recommended, but if you need to preserve the current default behavior, you can pass use_reentrant=True. Refer to docs for more details on the differences between the two variants.\n",
      "  warnings.warn(\n"
     ]
    }
   ],
   "source": [
    "trainer = RewardTrainer(\n",
    "    model=rm_model,\n",
    "    tokenizer=tokenizer,\n",
    "    args=config,\n",
    "    train_dataset=rm_train_dataset,\n",
    "    eval_dataset=rm_eval_dataset,\n",
    "    peft_config=peft_config,\n",
    ")\n",
    "trainer.train()\n",
    "trainer.save_model(config.output_dir)"
   ]
  },
  {
   "cell_type": "code",
   "execution_count": null,
   "id": "89a86f6c-0e09-4347-8911-213bd7cf2f33",
   "metadata": {},
   "outputs": [],
   "source": [
    "### Second Formal Trial bs = 16, lr = 2e-3, 40 epochs"
   ]
  },
  {
   "cell_type": "code",
   "execution_count": 22,
   "id": "f2aed01f-b8c1-4511-adea-7ad6da6a1b52",
   "metadata": {},
   "outputs": [
    {
     "name": "stderr",
     "output_type": "stream",
     "text": [
      "/usr/local/lib/python3.8/dist-packages/peft/tuners/lora/layer.py:1119: UserWarning: fan_in_fan_out is set to False but the target module is `Conv1D`. Setting fan_in_fan_out to True.\n",
      "  warnings.warn(\n",
      "Detected kernel version 5.4.0, which is below the recommended minimum of 5.5.0; this can cause the process to hang. It is recommended to upgrade the kernel to the minimum version or higher.\n",
      "You're using a GPT2TokenizerFast tokenizer. Please note that with a fast tokenizer, using the `__call__` method is faster than using a method to encode the text followed by a call to the `pad` method to get a padded encoding.\n",
      "/usr/local/lib/python3.8/dist-packages/transformers/tokenization_utils_base.py:2778: UserWarning: `max_length` is ignored when `padding`=`True` and there is no truncation strategy. To pad to max length, use `padding='max_length'`.\n",
      "  warnings.warn(\n",
      "`use_cache=True` is incompatible with gradient checkpointing. Setting `use_cache=False`...\n",
      "/usr/local/lib/python3.8/dist-packages/torch/utils/checkpoint.py:464: UserWarning: torch.utils.checkpoint: the use_reentrant parameter should be passed explicitly. In version 2.4 we will raise an exception if use_reentrant is not passed. use_reentrant=False is recommended, but if you need to preserve the current default behavior, you can pass use_reentrant=True. Refer to docs for more details on the differences between the two variants.\n",
      "  warnings.warn(\n",
      "/usr/local/lib/python3.8/dist-packages/torch/utils/checkpoint.py:91: UserWarning: None of the inputs have requires_grad=True. Gradients will be None\n",
      "  warnings.warn(\n",
      "Could not estimate the number of tokens of the input, floating-point operations will not be computed\n"
     ]
    },
    {
     "data": {
      "text/html": [
       "\n",
       "    <div>\n",
       "      \n",
       "      <progress value='6240' max='6240' style='width:300px; height:20px; vertical-align: middle;'></progress>\n",
       "      [6240/6240 12:05, Epoch 39/40]\n",
       "    </div>\n",
       "    <table border=\"1\" class=\"dataframe\">\n",
       "  <thead>\n",
       " <tr style=\"text-align: left;\">\n",
       "      <th>Step</th>\n",
       "      <th>Training Loss</th>\n",
       "      <th>Validation Loss</th>\n",
       "      <th>Accuracy</th>\n",
       "    </tr>\n",
       "  </thead>\n",
       "  <tbody>\n",
       "    <tr>\n",
       "      <td>500</td>\n",
       "      <td>0.692500</td>\n",
       "      <td>0.706630</td>\n",
       "      <td>0.548826</td>\n",
       "    </tr>\n",
       "    <tr>\n",
       "      <td>1000</td>\n",
       "      <td>0.697100</td>\n",
       "      <td>0.708805</td>\n",
       "      <td>0.549406</td>\n",
       "    </tr>\n",
       "    <tr>\n",
       "      <td>1500</td>\n",
       "      <td>0.692700</td>\n",
       "      <td>0.711551</td>\n",
       "      <td>0.542741</td>\n",
       "    </tr>\n",
       "    <tr>\n",
       "      <td>2000</td>\n",
       "      <td>0.705700</td>\n",
       "      <td>0.706410</td>\n",
       "      <td>0.542162</td>\n",
       "    </tr>\n",
       "    <tr>\n",
       "      <td>2500</td>\n",
       "      <td>0.678400</td>\n",
       "      <td>0.709342</td>\n",
       "      <td>0.545059</td>\n",
       "    </tr>\n",
       "    <tr>\n",
       "      <td>3000</td>\n",
       "      <td>0.685000</td>\n",
       "      <td>0.727206</td>\n",
       "      <td>0.545639</td>\n",
       "    </tr>\n",
       "    <tr>\n",
       "      <td>3500</td>\n",
       "      <td>0.684100</td>\n",
       "      <td>0.718486</td>\n",
       "      <td>0.540133</td>\n",
       "    </tr>\n",
       "    <tr>\n",
       "      <td>4000</td>\n",
       "      <td>0.679900</td>\n",
       "      <td>0.706571</td>\n",
       "      <td>0.548247</td>\n",
       "    </tr>\n",
       "    <tr>\n",
       "      <td>4500</td>\n",
       "      <td>0.668000</td>\n",
       "      <td>0.701843</td>\n",
       "      <td>0.551434</td>\n",
       "    </tr>\n",
       "    <tr>\n",
       "      <td>5000</td>\n",
       "      <td>0.683000</td>\n",
       "      <td>0.700610</td>\n",
       "      <td>0.555781</td>\n",
       "    </tr>\n",
       "    <tr>\n",
       "      <td>5500</td>\n",
       "      <td>0.654900</td>\n",
       "      <td>0.701501</td>\n",
       "      <td>0.553173</td>\n",
       "    </tr>\n",
       "    <tr>\n",
       "      <td>6000</td>\n",
       "      <td>0.668600</td>\n",
       "      <td>0.701183</td>\n",
       "      <td>0.553173</td>\n",
       "    </tr>\n",
       "  </tbody>\n",
       "</table><p>"
      ],
      "text/plain": [
       "<IPython.core.display.HTML object>"
      ]
     },
     "metadata": {},
     "output_type": "display_data"
    },
    {
     "data": {
      "text/html": [
       "<pre style=\"white-space:pre;overflow-x:auto;line-height:normal;font-family:Menlo,'DejaVu Sans Mono',consolas,'Courier New',monospace\">┏━━━━━━━━━━━━━━━━━━━━━━━━━━━━━━━━━┳━━━━━━━━━━━━━━━━━━━━━━━━━━━━━━━━━━━━┳━━━━━━━━━━━━━━━━━━┓\n",
       "┃<span style=\"font-weight: bold\"> chosen_text                     </span>┃<span style=\"font-weight: bold\"> rejected_text                      </span>┃<span style=\"font-weight: bold\"> logits           </span>┃\n",
       "┡━━━━━━━━━━━━━━━━━━━━━━━━━━━━━━━━━╇━━━━━━━━━━━━━━━━━━━━━━━━━━━━━━━━━━━━╇━━━━━━━━━━━━━━━━━━┩\n",
       "│ 感谢认领.                       │ 公主                               │ [0.65, 0.35]     │\n",
       "├─────────────────────────────────┼────────────────────────────────────┼──────────────────┤\n",
       "│ 感谢认领露思好漂亮              │ 感谢认领美丽露宝~                  │ [0.5452, 0.4548] │\n",
       "├─────────────────────────────────┼────────────────────────────────────┼──────────────────┤\n",
       "│ 感谢认领露思好漂亮              │ 赵露思好美                         │ [0.5919, 0.4081] │\n",
       "├─────────────────────────────────┼────────────────────────────────────┼──────────────────┤\n",
       "│ 杀了那么多人 蛇蝎心肠 还不够死� │ 他很好？很好为什么逮捕她？杀人     │ [0.3362, 0.6638] │\n",
       "├─────────────────────────────────┼────────────────────────────────────┼──────────────────┤\n",
       "│ 她的辩护律师想通过帮她翻案，    │ 二审维持原判还能上诉吗？           │ [0.3192, 0.6808] │\n",
       "├─────────────────────────────────┼────────────────────────────────────┼──────────────────┤\n",
       "│ 妈的 这个律师有点良心吧 维持原  │ 感谢认领.                          │ [0.6533, 0.3467] │\n",
       "├─────────────────────────────────┼────────────────────────────────────┼──────────────────┤\n",
       "│ 她的辩护律师想通过帮她翻案，    │ 她家人没事吧？果然不是一家人，不进 │ [0.33, 0.67]     │\n",
       "├─────────────────────────────────┼────────────────────────────────────┼──────────────────┤\n",
       "│ 《互联网黑历史现状》            │ 《你看看》                         │ [0.6855, 0.3145] │\n",
       "└─────────────────────────────────┴────────────────────────────────────┴──────────────────┘\n",
       "</pre>\n"
      ],
      "text/plain": [
       "┏━━━━━━━━━━━━━━━━━━━━━━━━━━━━━━━━━┳━━━━━━━━━━━━━━━━━━━━━━━━━━━━━━━━━━━━┳━━━━━━━━━━━━━━━━━━┓\n",
       "┃\u001b[1m \u001b[0m\u001b[1mchosen_text                    \u001b[0m\u001b[1m \u001b[0m┃\u001b[1m \u001b[0m\u001b[1mrejected_text                     \u001b[0m\u001b[1m \u001b[0m┃\u001b[1m \u001b[0m\u001b[1mlogits          \u001b[0m\u001b[1m \u001b[0m┃\n",
       "┡━━━━━━━━━━━━━━━━━━━━━━━━━━━━━━━━━╇━━━━━━━━━━━━━━━━━━━━━━━━━━━━━━━━━━━━╇━━━━━━━━━━━━━━━━━━┩\n",
       "│ 感谢认领.                       │ 公主                               │ [0.65, 0.35]     │\n",
       "├─────────────────────────────────┼────────────────────────────────────┼──────────────────┤\n",
       "│ 感谢认领露思好漂亮              │ 感谢认领美丽露宝~                  │ [0.5452, 0.4548] │\n",
       "├─────────────────────────────────┼────────────────────────────────────┼──────────────────┤\n",
       "│ 感谢认领露思好漂亮              │ 赵露思好美                         │ [0.5919, 0.4081] │\n",
       "├─────────────────────────────────┼────────────────────────────────────┼──────────────────┤\n",
       "│ 杀了那么多人 蛇蝎心肠 还不够死� │ 他很好？很好为什么逮捕她？杀人     │ [0.3362, 0.6638] │\n",
       "├─────────────────────────────────┼────────────────────────────────────┼──────────────────┤\n",
       "│ 她的辩护律师想通过帮她翻案，    │ 二审维持原判还能上诉吗？           │ [0.3192, 0.6808] │\n",
       "├─────────────────────────────────┼────────────────────────────────────┼──────────────────┤\n",
       "│ 妈的 这个律师有点良心吧 维持原  │ 感谢认领.                          │ [0.6533, 0.3467] │\n",
       "├─────────────────────────────────┼────────────────────────────────────┼──────────────────┤\n",
       "│ 她的辩护律师想通过帮她翻案，    │ 她家人没事吧？果然不是一家人，不进 │ [0.33, 0.67]     │\n",
       "├─────────────────────────────────┼────────────────────────────────────┼──────────────────┤\n",
       "│ 《互联网黑历史现状》            │ 《你看看》                         │ [0.6855, 0.3145] │\n",
       "└─────────────────────────────────┴────────────────────────────────────┴──────────────────┘\n"
      ]
     },
     "metadata": {},
     "output_type": "display_data"
    },
    {
     "data": {
      "text/html": [
       "<pre style=\"white-space:pre;overflow-x:auto;line-height:normal;font-family:Menlo,'DejaVu Sans Mono',consolas,'Courier New',monospace\">┏━━━━━━━━━━━━━━━━━━━━━━━━━━━━━━━━━┳━━━━━━━━━━━━━━━━━━━━━━━━━━━━━━━━┳━━━━━━━━━━━━━━━━━━┓\n",
       "┃<span style=\"font-weight: bold\"> chosen_text                     </span>┃<span style=\"font-weight: bold\"> rejected_text                  </span>┃<span style=\"font-weight: bold\"> logits           </span>┃\n",
       "┡━━━━━━━━━━━━━━━━━━━━━━━━━━━━━━━━━╇━━━━━━━━━━━━━━━━━━━━━━━━━━━━━━━━╇━━━━━━━━━━━━━━━━━━┩\n",
       "│ 感谢认领.                       │ 公主                           │ [0.65, 0.35]     │\n",
       "├─────────────────────────────────┼────────────────────────────────┼──────────────────┤\n",
       "│ 感谢认领露思好漂亮              │ 感谢认领美丽露宝~              │ [0.5452, 0.4548] │\n",
       "├─────────────────────────────────┼────────────────────────────────┼──────────────────┤\n",
       "│ 感谢认领露思好漂亮              │ 赵露思好美                     │ [0.5919, 0.4081] │\n",
       "├─────────────────────────────────┼────────────────────────────────┼──────────────────┤\n",
       "│ 杀了那么多人 蛇蝎心肠 还不够死� │ 他很好？很好为什么逮捕她？杀人 │ [0.3362, 0.6638] │\n",
       "└─────────────────────────────────┴────────────────────────────────┴──────────────────┘\n",
       "</pre>\n"
      ],
      "text/plain": [
       "┏━━━━━━━━━━━━━━━━━━━━━━━━━━━━━━━━━┳━━━━━━━━━━━━━━━━━━━━━━━━━━━━━━━━┳━━━━━━━━━━━━━━━━━━┓\n",
       "┃\u001b[1m \u001b[0m\u001b[1mchosen_text                    \u001b[0m\u001b[1m \u001b[0m┃\u001b[1m \u001b[0m\u001b[1mrejected_text                 \u001b[0m\u001b[1m \u001b[0m┃\u001b[1m \u001b[0m\u001b[1mlogits          \u001b[0m\u001b[1m \u001b[0m┃\n",
       "┡━━━━━━━━━━━━━━━━━━━━━━━━━━━━━━━━━╇━━━━━━━━━━━━━━━━━━━━━━━━━━━━━━━━╇━━━━━━━━━━━━━━━━━━┩\n",
       "│ 感谢认领.                       │ 公主                           │ [0.65, 0.35]     │\n",
       "├─────────────────────────────────┼────────────────────────────────┼──────────────────┤\n",
       "│ 感谢认领露思好漂亮              │ 感谢认领美丽露宝~              │ [0.5452, 0.4548] │\n",
       "├─────────────────────────────────┼────────────────────────────────┼──────────────────┤\n",
       "│ 感谢认领露思好漂亮              │ 赵露思好美                     │ [0.5919, 0.4081] │\n",
       "├─────────────────────────────────┼────────────────────────────────┼──────────────────┤\n",
       "│ 杀了那么多人 蛇蝎心肠 还不够死� │ 他很好？很好为什么逮捕她？杀人 │ [0.3362, 0.6638] │\n",
       "└─────────────────────────────────┴────────────────────────────────┴──────────────────┘\n"
      ]
     },
     "metadata": {},
     "output_type": "display_data"
    },
    {
     "name": "stderr",
     "output_type": "stream",
     "text": [
      "/usr/local/lib/python3.8/dist-packages/transformers/tokenization_utils_base.py:2778: UserWarning: `max_length` is ignored when `padding`=`True` and there is no truncation strategy. To pad to max length, use `padding='max_length'`.\n",
      "  warnings.warn(\n",
      "/usr/local/lib/python3.8/dist-packages/trl/trainer/utils.py:599: UserWarning: There are 22 out of 3451 instances where the predictions for both options are equal. As a consequence the accuracy can be misleading.\n",
      "  warnings.warn(\n",
      "/usr/local/lib/python3.8/dist-packages/transformers/tokenization_utils_base.py:2778: UserWarning: `max_length` is ignored when `padding`=`True` and there is no truncation strategy. To pad to max length, use `padding='max_length'`.\n",
      "  warnings.warn(\n",
      "/usr/local/lib/python3.8/dist-packages/torch/utils/checkpoint.py:464: UserWarning: torch.utils.checkpoint: the use_reentrant parameter should be passed explicitly. In version 2.4 we will raise an exception if use_reentrant is not passed. use_reentrant=False is recommended, but if you need to preserve the current default behavior, you can pass use_reentrant=True. Refer to docs for more details on the differences between the two variants.\n",
      "  warnings.warn(\n",
      "/usr/local/lib/python3.8/dist-packages/torch/utils/checkpoint.py:91: UserWarning: None of the inputs have requires_grad=True. Gradients will be None\n",
      "  warnings.warn(\n"
     ]
    },
    {
     "data": {
      "text/html": [
       "<pre style=\"white-space:pre;overflow-x:auto;line-height:normal;font-family:Menlo,'DejaVu Sans Mono',consolas,'Courier New',monospace\">┏━━━━━━━━━━━━━━━━━━━━━━━━━━━━━━━━━┳━━━━━━━━━━━━━━━━━━━━━━━━━━━━━━━━━━━━┳━━━━━━━━━━━━━━━━━━┓\n",
       "┃<span style=\"font-weight: bold\"> chosen_text                     </span>┃<span style=\"font-weight: bold\"> rejected_text                      </span>┃<span style=\"font-weight: bold\"> logits           </span>┃\n",
       "┡━━━━━━━━━━━━━━━━━━━━━━━━━━━━━━━━━╇━━━━━━━━━━━━━━━━━━━━━━━━━━━━━━━━━━━━╇━━━━━━━━━━━━━━━━━━┩\n",
       "│ 感谢认领.                       │ 公主                               │ [0.5191, 0.4809] │\n",
       "├─────────────────────────────────┼────────────────────────────────────┼──────────────────┤\n",
       "│ 感谢认领露思好漂亮              │ 感谢认领美丽露宝~                  │ [0.6257, 0.3743] │\n",
       "├─────────────────────────────────┼────────────────────────────────────┼──────────────────┤\n",
       "│ 感谢认领露思好漂亮              │ 赵露思好美                         │ [0.7082, 0.2918] │\n",
       "├─────────────────────────────────┼────────────────────────────────────┼──────────────────┤\n",
       "│ 杀了那么多人 蛇蝎心肠 还不够死� │ 他很好？很好为什么逮捕她？杀人     │ [0.3833, 0.6167] │\n",
       "├─────────────────────────────────┼────────────────────────────────────┼──────────────────┤\n",
       "│ 她的辩护律师想通过帮她翻案，    │ 二审维持原判还能上诉吗？           │ [0.4282, 0.5718] │\n",
       "├─────────────────────────────────┼────────────────────────────────────┼──────────────────┤\n",
       "│ 妈的 这个律师有点良心吧 维持原  │ 感谢认领.                          │ [0.5712, 0.4288] │\n",
       "├─────────────────────────────────┼────────────────────────────────────┼──────────────────┤\n",
       "│ 她的辩护律师想通过帮她翻案，    │ 她家人没事吧？果然不是一家人，不进 │ [0.3214, 0.6786] │\n",
       "├─────────────────────────────────┼────────────────────────────────────┼──────────────────┤\n",
       "│ 《互联网黑历史现状》            │ 《你看看》                         │ [0.6331, 0.3669] │\n",
       "└─────────────────────────────────┴────────────────────────────────────┴──────────────────┘\n",
       "</pre>\n"
      ],
      "text/plain": [
       "┏━━━━━━━━━━━━━━━━━━━━━━━━━━━━━━━━━┳━━━━━━━━━━━━━━━━━━━━━━━━━━━━━━━━━━━━┳━━━━━━━━━━━━━━━━━━┓\n",
       "┃\u001b[1m \u001b[0m\u001b[1mchosen_text                    \u001b[0m\u001b[1m \u001b[0m┃\u001b[1m \u001b[0m\u001b[1mrejected_text                     \u001b[0m\u001b[1m \u001b[0m┃\u001b[1m \u001b[0m\u001b[1mlogits          \u001b[0m\u001b[1m \u001b[0m┃\n",
       "┡━━━━━━━━━━━━━━━━━━━━━━━━━━━━━━━━━╇━━━━━━━━━━━━━━━━━━━━━━━━━━━━━━━━━━━━╇━━━━━━━━━━━━━━━━━━┩\n",
       "│ 感谢认领.                       │ 公主                               │ [0.5191, 0.4809] │\n",
       "├─────────────────────────────────┼────────────────────────────────────┼──────────────────┤\n",
       "│ 感谢认领露思好漂亮              │ 感谢认领美丽露宝~                  │ [0.6257, 0.3743] │\n",
       "├─────────────────────────────────┼────────────────────────────────────┼──────────────────┤\n",
       "│ 感谢认领露思好漂亮              │ 赵露思好美                         │ [0.7082, 0.2918] │\n",
       "├─────────────────────────────────┼────────────────────────────────────┼──────────────────┤\n",
       "│ 杀了那么多人 蛇蝎心肠 还不够死� │ 他很好？很好为什么逮捕她？杀人     │ [0.3833, 0.6167] │\n",
       "├─────────────────────────────────┼────────────────────────────────────┼──────────────────┤\n",
       "│ 她的辩护律师想通过帮她翻案，    │ 二审维持原判还能上诉吗？           │ [0.4282, 0.5718] │\n",
       "├─────────────────────────────────┼────────────────────────────────────┼──────────────────┤\n",
       "│ 妈的 这个律师有点良心吧 维持原  │ 感谢认领.                          │ [0.5712, 0.4288] │\n",
       "├─────────────────────────────────┼────────────────────────────────────┼──────────────────┤\n",
       "│ 她的辩护律师想通过帮她翻案，    │ 她家人没事吧？果然不是一家人，不进 │ [0.3214, 0.6786] │\n",
       "├─────────────────────────────────┼────────────────────────────────────┼──────────────────┤\n",
       "│ 《互联网黑历史现状》            │ 《你看看》                         │ [0.6331, 0.3669] │\n",
       "└─────────────────────────────────┴────────────────────────────────────┴──────────────────┘\n"
      ]
     },
     "metadata": {},
     "output_type": "display_data"
    },
    {
     "data": {
      "text/html": [
       "<pre style=\"white-space:pre;overflow-x:auto;line-height:normal;font-family:Menlo,'DejaVu Sans Mono',consolas,'Courier New',monospace\">┏━━━━━━━━━━━━━━━━━━━━━━━━━━━━━━━━━┳━━━━━━━━━━━━━━━━━━━━━━━━━━━━━━━━┳━━━━━━━━━━━━━━━━━━┓\n",
       "┃<span style=\"font-weight: bold\"> chosen_text                     </span>┃<span style=\"font-weight: bold\"> rejected_text                  </span>┃<span style=\"font-weight: bold\"> logits           </span>┃\n",
       "┡━━━━━━━━━━━━━━━━━━━━━━━━━━━━━━━━━╇━━━━━━━━━━━━━━━━━━━━━━━━━━━━━━━━╇━━━━━━━━━━━━━━━━━━┩\n",
       "│ 感谢认领.                       │ 公主                           │ [0.5191, 0.4809] │\n",
       "├─────────────────────────────────┼────────────────────────────────┼──────────────────┤\n",
       "│ 感谢认领露思好漂亮              │ 感谢认领美丽露宝~              │ [0.6257, 0.3743] │\n",
       "├─────────────────────────────────┼────────────────────────────────┼──────────────────┤\n",
       "│ 感谢认领露思好漂亮              │ 赵露思好美                     │ [0.7082, 0.2918] │\n",
       "├─────────────────────────────────┼────────────────────────────────┼──────────────────┤\n",
       "│ 杀了那么多人 蛇蝎心肠 还不够死� │ 他很好？很好为什么逮捕她？杀人 │ [0.3833, 0.6167] │\n",
       "└─────────────────────────────────┴────────────────────────────────┴──────────────────┘\n",
       "</pre>\n"
      ],
      "text/plain": [
       "┏━━━━━━━━━━━━━━━━━━━━━━━━━━━━━━━━━┳━━━━━━━━━━━━━━━━━━━━━━━━━━━━━━━━┳━━━━━━━━━━━━━━━━━━┓\n",
       "┃\u001b[1m \u001b[0m\u001b[1mchosen_text                    \u001b[0m\u001b[1m \u001b[0m┃\u001b[1m \u001b[0m\u001b[1mrejected_text                 \u001b[0m\u001b[1m \u001b[0m┃\u001b[1m \u001b[0m\u001b[1mlogits          \u001b[0m\u001b[1m \u001b[0m┃\n",
       "┡━━━━━━━━━━━━━━━━━━━━━━━━━━━━━━━━━╇━━━━━━━━━━━━━━━━━━━━━━━━━━━━━━━━╇━━━━━━━━━━━━━━━━━━┩\n",
       "│ 感谢认领.                       │ 公主                           │ [0.5191, 0.4809] │\n",
       "├─────────────────────────────────┼────────────────────────────────┼──────────────────┤\n",
       "│ 感谢认领露思好漂亮              │ 感谢认领美丽露宝~              │ [0.6257, 0.3743] │\n",
       "├─────────────────────────────────┼────────────────────────────────┼──────────────────┤\n",
       "│ 感谢认领露思好漂亮              │ 赵露思好美                     │ [0.7082, 0.2918] │\n",
       "├─────────────────────────────────┼────────────────────────────────┼──────────────────┤\n",
       "│ 杀了那么多人 蛇蝎心肠 还不够死� │ 他很好？很好为什么逮捕她？杀人 │ [0.3833, 0.6167] │\n",
       "└─────────────────────────────────┴────────────────────────────────┴──────────────────┘\n"
      ]
     },
     "metadata": {},
     "output_type": "display_data"
    },
    {
     "name": "stderr",
     "output_type": "stream",
     "text": [
      "/usr/local/lib/python3.8/dist-packages/transformers/tokenization_utils_base.py:2778: UserWarning: `max_length` is ignored when `padding`=`True` and there is no truncation strategy. To pad to max length, use `padding='max_length'`.\n",
      "  warnings.warn(\n",
      "/usr/local/lib/python3.8/dist-packages/trl/trainer/utils.py:599: UserWarning: There are 22 out of 3451 instances where the predictions for both options are equal. As a consequence the accuracy can be misleading.\n",
      "  warnings.warn(\n",
      "/usr/local/lib/python3.8/dist-packages/transformers/tokenization_utils_base.py:2778: UserWarning: `max_length` is ignored when `padding`=`True` and there is no truncation strategy. To pad to max length, use `padding='max_length'`.\n",
      "  warnings.warn(\n",
      "/usr/local/lib/python3.8/dist-packages/torch/utils/checkpoint.py:464: UserWarning: torch.utils.checkpoint: the use_reentrant parameter should be passed explicitly. In version 2.4 we will raise an exception if use_reentrant is not passed. use_reentrant=False is recommended, but if you need to preserve the current default behavior, you can pass use_reentrant=True. Refer to docs for more details on the differences between the two variants.\n",
      "  warnings.warn(\n",
      "/usr/local/lib/python3.8/dist-packages/torch/utils/checkpoint.py:91: UserWarning: None of the inputs have requires_grad=True. Gradients will be None\n",
      "  warnings.warn(\n"
     ]
    },
    {
     "data": {
      "text/html": [
       "<pre style=\"white-space:pre;overflow-x:auto;line-height:normal;font-family:Menlo,'DejaVu Sans Mono',consolas,'Courier New',monospace\">┏━━━━━━━━━━━━━━━━━━━━━━━━━━━━━━━━━┳━━━━━━━━━━━━━━━━━━━━━━━━━━━━━━━━━━━━┳━━━━━━━━━━━━━━━━━━┓\n",
       "┃<span style=\"font-weight: bold\"> chosen_text                     </span>┃<span style=\"font-weight: bold\"> rejected_text                      </span>┃<span style=\"font-weight: bold\"> logits           </span>┃\n",
       "┡━━━━━━━━━━━━━━━━━━━━━━━━━━━━━━━━━╇━━━━━━━━━━━━━━━━━━━━━━━━━━━━━━━━━━━━╇━━━━━━━━━━━━━━━━━━┩\n",
       "│ 感谢认领.                       │ 公主                               │ [0.6467, 0.3533] │\n",
       "├─────────────────────────────────┼────────────────────────────────────┼──────────────────┤\n",
       "│ 感谢认领露思好漂亮              │ 感谢认领美丽露宝~                  │ [0.4103, 0.5897] │\n",
       "├─────────────────────────────────┼────────────────────────────────────┼──────────────────┤\n",
       "│ 感谢认领露思好漂亮              │ 赵露思好美                         │ [0.5048, 0.4952] │\n",
       "├─────────────────────────────────┼────────────────────────────────────┼──────────────────┤\n",
       "│ 杀了那么多人 蛇蝎心肠 还不够死� │ 他很好？很好为什么逮捕她？杀人     │ [0.3136, 0.6864] │\n",
       "├─────────────────────────────────┼────────────────────────────────────┼──────────────────┤\n",
       "│ 她的辩护律师想通过帮她翻案，    │ 二审维持原判还能上诉吗？           │ [0.4858, 0.5142] │\n",
       "├─────────────────────────────────┼────────────────────────────────────┼──────────────────┤\n",
       "│ 妈的 这个律师有点良心吧 维持原  │ 感谢认领.                          │ [0.6136, 0.3864] │\n",
       "├─────────────────────────────────┼────────────────────────────────────┼──────────────────┤\n",
       "│ 她的辩护律师想通过帮她翻案，    │ 她家人没事吧？果然不是一家人，不进 │ [0.2767, 0.7233] │\n",
       "├─────────────────────────────────┼────────────────────────────────────┼──────────────────┤\n",
       "│ 《互联网黑历史现状》            │ 《你看看》                         │ [0.4224, 0.5776] │\n",
       "└─────────────────────────────────┴────────────────────────────────────┴──────────────────┘\n",
       "</pre>\n"
      ],
      "text/plain": [
       "┏━━━━━━━━━━━━━━━━━━━━━━━━━━━━━━━━━┳━━━━━━━━━━━━━━━━━━━━━━━━━━━━━━━━━━━━┳━━━━━━━━━━━━━━━━━━┓\n",
       "┃\u001b[1m \u001b[0m\u001b[1mchosen_text                    \u001b[0m\u001b[1m \u001b[0m┃\u001b[1m \u001b[0m\u001b[1mrejected_text                     \u001b[0m\u001b[1m \u001b[0m┃\u001b[1m \u001b[0m\u001b[1mlogits          \u001b[0m\u001b[1m \u001b[0m┃\n",
       "┡━━━━━━━━━━━━━━━━━━━━━━━━━━━━━━━━━╇━━━━━━━━━━━━━━━━━━━━━━━━━━━━━━━━━━━━╇━━━━━━━━━━━━━━━━━━┩\n",
       "│ 感谢认领.                       │ 公主                               │ [0.6467, 0.3533] │\n",
       "├─────────────────────────────────┼────────────────────────────────────┼──────────────────┤\n",
       "│ 感谢认领露思好漂亮              │ 感谢认领美丽露宝~                  │ [0.4103, 0.5897] │\n",
       "├─────────────────────────────────┼────────────────────────────────────┼──────────────────┤\n",
       "│ 感谢认领露思好漂亮              │ 赵露思好美                         │ [0.5048, 0.4952] │\n",
       "├─────────────────────────────────┼────────────────────────────────────┼──────────────────┤\n",
       "│ 杀了那么多人 蛇蝎心肠 还不够死� │ 他很好？很好为什么逮捕她？杀人     │ [0.3136, 0.6864] │\n",
       "├─────────────────────────────────┼────────────────────────────────────┼──────────────────┤\n",
       "│ 她的辩护律师想通过帮她翻案，    │ 二审维持原判还能上诉吗？           │ [0.4858, 0.5142] │\n",
       "├─────────────────────────────────┼────────────────────────────────────┼──────────────────┤\n",
       "│ 妈的 这个律师有点良心吧 维持原  │ 感谢认领.                          │ [0.6136, 0.3864] │\n",
       "├─────────────────────────────────┼────────────────────────────────────┼──────────────────┤\n",
       "│ 她的辩护律师想通过帮她翻案，    │ 她家人没事吧？果然不是一家人，不进 │ [0.2767, 0.7233] │\n",
       "├─────────────────────────────────┼────────────────────────────────────┼──────────────────┤\n",
       "│ 《互联网黑历史现状》            │ 《你看看》                         │ [0.4224, 0.5776] │\n",
       "└─────────────────────────────────┴────────────────────────────────────┴──────────────────┘\n"
      ]
     },
     "metadata": {},
     "output_type": "display_data"
    },
    {
     "data": {
      "text/html": [
       "<pre style=\"white-space:pre;overflow-x:auto;line-height:normal;font-family:Menlo,'DejaVu Sans Mono',consolas,'Courier New',monospace\">┏━━━━━━━━━━━━━━━━━━━━━━━━━━━━━━━━━┳━━━━━━━━━━━━━━━━━━━━━━━━━━━━━━━━┳━━━━━━━━━━━━━━━━━━┓\n",
       "┃<span style=\"font-weight: bold\"> chosen_text                     </span>┃<span style=\"font-weight: bold\"> rejected_text                  </span>┃<span style=\"font-weight: bold\"> logits           </span>┃\n",
       "┡━━━━━━━━━━━━━━━━━━━━━━━━━━━━━━━━━╇━━━━━━━━━━━━━━━━━━━━━━━━━━━━━━━━╇━━━━━━━━━━━━━━━━━━┩\n",
       "│ 感谢认领.                       │ 公主                           │ [0.6467, 0.3533] │\n",
       "├─────────────────────────────────┼────────────────────────────────┼──────────────────┤\n",
       "│ 感谢认领露思好漂亮              │ 感谢认领美丽露宝~              │ [0.4103, 0.5897] │\n",
       "├─────────────────────────────────┼────────────────────────────────┼──────────────────┤\n",
       "│ 感谢认领露思好漂亮              │ 赵露思好美                     │ [0.5048, 0.4952] │\n",
       "├─────────────────────────────────┼────────────────────────────────┼──────────────────┤\n",
       "│ 杀了那么多人 蛇蝎心肠 还不够死� │ 他很好？很好为什么逮捕她？杀人 │ [0.3136, 0.6864] │\n",
       "└─────────────────────────────────┴────────────────────────────────┴──────────────────┘\n",
       "</pre>\n"
      ],
      "text/plain": [
       "┏━━━━━━━━━━━━━━━━━━━━━━━━━━━━━━━━━┳━━━━━━━━━━━━━━━━━━━━━━━━━━━━━━━━┳━━━━━━━━━━━━━━━━━━┓\n",
       "┃\u001b[1m \u001b[0m\u001b[1mchosen_text                    \u001b[0m\u001b[1m \u001b[0m┃\u001b[1m \u001b[0m\u001b[1mrejected_text                 \u001b[0m\u001b[1m \u001b[0m┃\u001b[1m \u001b[0m\u001b[1mlogits          \u001b[0m\u001b[1m \u001b[0m┃\n",
       "┡━━━━━━━━━━━━━━━━━━━━━━━━━━━━━━━━━╇━━━━━━━━━━━━━━━━━━━━━━━━━━━━━━━━╇━━━━━━━━━━━━━━━━━━┩\n",
       "│ 感谢认领.                       │ 公主                           │ [0.6467, 0.3533] │\n",
       "├─────────────────────────────────┼────────────────────────────────┼──────────────────┤\n",
       "│ 感谢认领露思好漂亮              │ 感谢认领美丽露宝~              │ [0.4103, 0.5897] │\n",
       "├─────────────────────────────────┼────────────────────────────────┼──────────────────┤\n",
       "│ 感谢认领露思好漂亮              │ 赵露思好美                     │ [0.5048, 0.4952] │\n",
       "├─────────────────────────────────┼────────────────────────────────┼──────────────────┤\n",
       "│ 杀了那么多人 蛇蝎心肠 还不够死� │ 他很好？很好为什么逮捕她？杀人 │ [0.3136, 0.6864] │\n",
       "└─────────────────────────────────┴────────────────────────────────┴──────────────────┘\n"
      ]
     },
     "metadata": {},
     "output_type": "display_data"
    },
    {
     "name": "stderr",
     "output_type": "stream",
     "text": [
      "/usr/local/lib/python3.8/dist-packages/transformers/tokenization_utils_base.py:2778: UserWarning: `max_length` is ignored when `padding`=`True` and there is no truncation strategy. To pad to max length, use `padding='max_length'`.\n",
      "  warnings.warn(\n",
      "/usr/local/lib/python3.8/dist-packages/trl/trainer/utils.py:599: UserWarning: There are 22 out of 3451 instances where the predictions for both options are equal. As a consequence the accuracy can be misleading.\n",
      "  warnings.warn(\n",
      "/usr/local/lib/python3.8/dist-packages/transformers/tokenization_utils_base.py:2778: UserWarning: `max_length` is ignored when `padding`=`True` and there is no truncation strategy. To pad to max length, use `padding='max_length'`.\n",
      "  warnings.warn(\n",
      "/usr/local/lib/python3.8/dist-packages/torch/utils/checkpoint.py:464: UserWarning: torch.utils.checkpoint: the use_reentrant parameter should be passed explicitly. In version 2.4 we will raise an exception if use_reentrant is not passed. use_reentrant=False is recommended, but if you need to preserve the current default behavior, you can pass use_reentrant=True. Refer to docs for more details on the differences between the two variants.\n",
      "  warnings.warn(\n",
      "/usr/local/lib/python3.8/dist-packages/torch/utils/checkpoint.py:91: UserWarning: None of the inputs have requires_grad=True. Gradients will be None\n",
      "  warnings.warn(\n"
     ]
    },
    {
     "data": {
      "text/html": [
       "<pre style=\"white-space:pre;overflow-x:auto;line-height:normal;font-family:Menlo,'DejaVu Sans Mono',consolas,'Courier New',monospace\">┏━━━━━━━━━━━━━━━━━━━━━━━━━━━━━━━━━┳━━━━━━━━━━━━━━━━━━━━━━━━━━━━━━━━━━━━┳━━━━━━━━━━━━━━━━━━┓\n",
       "┃<span style=\"font-weight: bold\"> chosen_text                     </span>┃<span style=\"font-weight: bold\"> rejected_text                      </span>┃<span style=\"font-weight: bold\"> logits           </span>┃\n",
       "┡━━━━━━━━━━━━━━━━━━━━━━━━━━━━━━━━━╇━━━━━━━━━━━━━━━━━━━━━━━━━━━━━━━━━━━━╇━━━━━━━━━━━━━━━━━━┩\n",
       "│ 感谢认领.                       │ 公主                               │ [0.5965, 0.4035] │\n",
       "├─────────────────────────────────┼────────────────────────────────────┼──────────────────┤\n",
       "│ 感谢认领露思好漂亮              │ 感谢认领美丽露宝~                  │ [0.544, 0.456]   │\n",
       "├─────────────────────────────────┼────────────────────────────────────┼──────────────────┤\n",
       "│ 感谢认领露思好漂亮              │ 赵露思好美                         │ [0.5748, 0.4252] │\n",
       "├─────────────────────────────────┼────────────────────────────────────┼──────────────────┤\n",
       "│ 杀了那么多人 蛇蝎心肠 还不够死� │ 他很好？很好为什么逮捕她？杀人     │ [0.3441, 0.6559] │\n",
       "├─────────────────────────────────┼────────────────────────────────────┼──────────────────┤\n",
       "│ 她的辩护律师想通过帮她翻案，    │ 二审维持原判还能上诉吗？           │ [0.3687, 0.6313] │\n",
       "├─────────────────────────────────┼────────────────────────────────────┼──────────────────┤\n",
       "│ 妈的 这个律师有点良心吧 维持原  │ 感谢认领.                          │ [0.5149, 0.4851] │\n",
       "├─────────────────────────────────┼────────────────────────────────────┼──────────────────┤\n",
       "│ 她的辩护律师想通过帮她翻案，    │ 她家人没事吧？果然不是一家人，不进 │ [0.3928, 0.6072] │\n",
       "├─────────────────────────────────┼────────────────────────────────────┼──────────────────┤\n",
       "│ 《互联网黑历史现状》            │ 《你看看》                         │ [0.589, 0.411]   │\n",
       "└─────────────────────────────────┴────────────────────────────────────┴──────────────────┘\n",
       "</pre>\n"
      ],
      "text/plain": [
       "┏━━━━━━━━━━━━━━━━━━━━━━━━━━━━━━━━━┳━━━━━━━━━━━━━━━━━━━━━━━━━━━━━━━━━━━━┳━━━━━━━━━━━━━━━━━━┓\n",
       "┃\u001b[1m \u001b[0m\u001b[1mchosen_text                    \u001b[0m\u001b[1m \u001b[0m┃\u001b[1m \u001b[0m\u001b[1mrejected_text                     \u001b[0m\u001b[1m \u001b[0m┃\u001b[1m \u001b[0m\u001b[1mlogits          \u001b[0m\u001b[1m \u001b[0m┃\n",
       "┡━━━━━━━━━━━━━━━━━━━━━━━━━━━━━━━━━╇━━━━━━━━━━━━━━━━━━━━━━━━━━━━━━━━━━━━╇━━━━━━━━━━━━━━━━━━┩\n",
       "│ 感谢认领.                       │ 公主                               │ [0.5965, 0.4035] │\n",
       "├─────────────────────────────────┼────────────────────────────────────┼──────────────────┤\n",
       "│ 感谢认领露思好漂亮              │ 感谢认领美丽露宝~                  │ [0.544, 0.456]   │\n",
       "├─────────────────────────────────┼────────────────────────────────────┼──────────────────┤\n",
       "│ 感谢认领露思好漂亮              │ 赵露思好美                         │ [0.5748, 0.4252] │\n",
       "├─────────────────────────────────┼────────────────────────────────────┼──────────────────┤\n",
       "│ 杀了那么多人 蛇蝎心肠 还不够死� │ 他很好？很好为什么逮捕她？杀人     │ [0.3441, 0.6559] │\n",
       "├─────────────────────────────────┼────────────────────────────────────┼──────────────────┤\n",
       "│ 她的辩护律师想通过帮她翻案，    │ 二审维持原判还能上诉吗？           │ [0.3687, 0.6313] │\n",
       "├─────────────────────────────────┼────────────────────────────────────┼──────────────────┤\n",
       "│ 妈的 这个律师有点良心吧 维持原  │ 感谢认领.                          │ [0.5149, 0.4851] │\n",
       "├─────────────────────────────────┼────────────────────────────────────┼──────────────────┤\n",
       "│ 她的辩护律师想通过帮她翻案，    │ 她家人没事吧？果然不是一家人，不进 │ [0.3928, 0.6072] │\n",
       "├─────────────────────────────────┼────────────────────────────────────┼──────────────────┤\n",
       "│ 《互联网黑历史现状》            │ 《你看看》                         │ [0.589, 0.411]   │\n",
       "└─────────────────────────────────┴────────────────────────────────────┴──────────────────┘\n"
      ]
     },
     "metadata": {},
     "output_type": "display_data"
    },
    {
     "data": {
      "text/html": [
       "<pre style=\"white-space:pre;overflow-x:auto;line-height:normal;font-family:Menlo,'DejaVu Sans Mono',consolas,'Courier New',monospace\">┏━━━━━━━━━━━━━━━━━━━━━━━━━━━━━━━━━┳━━━━━━━━━━━━━━━━━━━━━━━━━━━━━━━━┳━━━━━━━━━━━━━━━━━━┓\n",
       "┃<span style=\"font-weight: bold\"> chosen_text                     </span>┃<span style=\"font-weight: bold\"> rejected_text                  </span>┃<span style=\"font-weight: bold\"> logits           </span>┃\n",
       "┡━━━━━━━━━━━━━━━━━━━━━━━━━━━━━━━━━╇━━━━━━━━━━━━━━━━━━━━━━━━━━━━━━━━╇━━━━━━━━━━━━━━━━━━┩\n",
       "│ 感谢认领.                       │ 公主                           │ [0.5965, 0.4035] │\n",
       "├─────────────────────────────────┼────────────────────────────────┼──────────────────┤\n",
       "│ 感谢认领露思好漂亮              │ 感谢认领美丽露宝~              │ [0.544, 0.456]   │\n",
       "├─────────────────────────────────┼────────────────────────────────┼──────────────────┤\n",
       "│ 感谢认领露思好漂亮              │ 赵露思好美                     │ [0.5748, 0.4252] │\n",
       "├─────────────────────────────────┼────────────────────────────────┼──────────────────┤\n",
       "│ 杀了那么多人 蛇蝎心肠 还不够死� │ 他很好？很好为什么逮捕她？杀人 │ [0.3441, 0.6559] │\n",
       "└─────────────────────────────────┴────────────────────────────────┴──────────────────┘\n",
       "</pre>\n"
      ],
      "text/plain": [
       "┏━━━━━━━━━━━━━━━━━━━━━━━━━━━━━━━━━┳━━━━━━━━━━━━━━━━━━━━━━━━━━━━━━━━┳━━━━━━━━━━━━━━━━━━┓\n",
       "┃\u001b[1m \u001b[0m\u001b[1mchosen_text                    \u001b[0m\u001b[1m \u001b[0m┃\u001b[1m \u001b[0m\u001b[1mrejected_text                 \u001b[0m\u001b[1m \u001b[0m┃\u001b[1m \u001b[0m\u001b[1mlogits          \u001b[0m\u001b[1m \u001b[0m┃\n",
       "┡━━━━━━━━━━━━━━━━━━━━━━━━━━━━━━━━━╇━━━━━━━━━━━━━━━━━━━━━━━━━━━━━━━━╇━━━━━━━━━━━━━━━━━━┩\n",
       "│ 感谢认领.                       │ 公主                           │ [0.5965, 0.4035] │\n",
       "├─────────────────────────────────┼────────────────────────────────┼──────────────────┤\n",
       "│ 感谢认领露思好漂亮              │ 感谢认领美丽露宝~              │ [0.544, 0.456]   │\n",
       "├─────────────────────────────────┼────────────────────────────────┼──────────────────┤\n",
       "│ 感谢认领露思好漂亮              │ 赵露思好美                     │ [0.5748, 0.4252] │\n",
       "├─────────────────────────────────┼────────────────────────────────┼──────────────────┤\n",
       "│ 杀了那么多人 蛇蝎心肠 还不够死� │ 他很好？很好为什么逮捕她？杀人 │ [0.3441, 0.6559] │\n",
       "└─────────────────────────────────┴────────────────────────────────┴──────────────────┘\n"
      ]
     },
     "metadata": {},
     "output_type": "display_data"
    },
    {
     "name": "stderr",
     "output_type": "stream",
     "text": [
      "/usr/local/lib/python3.8/dist-packages/transformers/tokenization_utils_base.py:2778: UserWarning: `max_length` is ignored when `padding`=`True` and there is no truncation strategy. To pad to max length, use `padding='max_length'`.\n",
      "  warnings.warn(\n",
      "/usr/local/lib/python3.8/dist-packages/trl/trainer/utils.py:599: UserWarning: There are 22 out of 3451 instances where the predictions for both options are equal. As a consequence the accuracy can be misleading.\n",
      "  warnings.warn(\n",
      "/usr/local/lib/python3.8/dist-packages/transformers/tokenization_utils_base.py:2778: UserWarning: `max_length` is ignored when `padding`=`True` and there is no truncation strategy. To pad to max length, use `padding='max_length'`.\n",
      "  warnings.warn(\n",
      "/usr/local/lib/python3.8/dist-packages/torch/utils/checkpoint.py:464: UserWarning: torch.utils.checkpoint: the use_reentrant parameter should be passed explicitly. In version 2.4 we will raise an exception if use_reentrant is not passed. use_reentrant=False is recommended, but if you need to preserve the current default behavior, you can pass use_reentrant=True. Refer to docs for more details on the differences between the two variants.\n",
      "  warnings.warn(\n",
      "/usr/local/lib/python3.8/dist-packages/torch/utils/checkpoint.py:91: UserWarning: None of the inputs have requires_grad=True. Gradients will be None\n",
      "  warnings.warn(\n"
     ]
    },
    {
     "data": {
      "text/html": [
       "<pre style=\"white-space:pre;overflow-x:auto;line-height:normal;font-family:Menlo,'DejaVu Sans Mono',consolas,'Courier New',monospace\">┏━━━━━━━━━━━━━━━━━━━━━━━━━━━━━━━━━┳━━━━━━━━━━━━━━━━━━━━━━━━━━━━━━━━━━━━┳━━━━━━━━━━━━━━━━━━┓\n",
       "┃<span style=\"font-weight: bold\"> chosen_text                     </span>┃<span style=\"font-weight: bold\"> rejected_text                      </span>┃<span style=\"font-weight: bold\"> logits           </span>┃\n",
       "┡━━━━━━━━━━━━━━━━━━━━━━━━━━━━━━━━━╇━━━━━━━━━━━━━━━━━━━━━━━━━━━━━━━━━━━━╇━━━━━━━━━━━━━━━━━━┩\n",
       "│ 感谢认领.                       │ 公主                               │ [0.4811, 0.5189] │\n",
       "├─────────────────────────────────┼────────────────────────────────────┼──────────────────┤\n",
       "│ 感谢认领露思好漂亮              │ 感谢认领美丽露宝~                  │ [0.6112, 0.3888] │\n",
       "├─────────────────────────────────┼────────────────────────────────────┼──────────────────┤\n",
       "│ 感谢认领露思好漂亮              │ 赵露思好美                         │ [0.5342, 0.4658] │\n",
       "├─────────────────────────────────┼────────────────────────────────────┼──────────────────┤\n",
       "│ 杀了那么多人 蛇蝎心肠 还不够死� │ 他很好？很好为什么逮捕她？杀人     │ [0.1885, 0.8115] │\n",
       "├─────────────────────────────────┼────────────────────────────────────┼──────────────────┤\n",
       "│ 她的辩护律师想通过帮她翻案，    │ 二审维持原判还能上诉吗？           │ [0.3589, 0.6411] │\n",
       "├─────────────────────────────────┼────────────────────────────────────┼──────────────────┤\n",
       "│ 妈的 这个律师有点良心吧 维持原  │ 感谢认领.                          │ [0.671, 0.329]   │\n",
       "├─────────────────────────────────┼────────────────────────────────────┼──────────────────┤\n",
       "│ 她的辩护律师想通过帮她翻案，    │ 她家人没事吧？果然不是一家人，不进 │ [0.2866, 0.7134] │\n",
       "├─────────────────────────────────┼────────────────────────────────────┼──────────────────┤\n",
       "│ 《互联网黑历史现状》            │ 《你看看》                         │ [0.6629, 0.3371] │\n",
       "└─────────────────────────────────┴────────────────────────────────────┴──────────────────┘\n",
       "</pre>\n"
      ],
      "text/plain": [
       "┏━━━━━━━━━━━━━━━━━━━━━━━━━━━━━━━━━┳━━━━━━━━━━━━━━━━━━━━━━━━━━━━━━━━━━━━┳━━━━━━━━━━━━━━━━━━┓\n",
       "┃\u001b[1m \u001b[0m\u001b[1mchosen_text                    \u001b[0m\u001b[1m \u001b[0m┃\u001b[1m \u001b[0m\u001b[1mrejected_text                     \u001b[0m\u001b[1m \u001b[0m┃\u001b[1m \u001b[0m\u001b[1mlogits          \u001b[0m\u001b[1m \u001b[0m┃\n",
       "┡━━━━━━━━━━━━━━━━━━━━━━━━━━━━━━━━━╇━━━━━━━━━━━━━━━━━━━━━━━━━━━━━━━━━━━━╇━━━━━━━━━━━━━━━━━━┩\n",
       "│ 感谢认领.                       │ 公主                               │ [0.4811, 0.5189] │\n",
       "├─────────────────────────────────┼────────────────────────────────────┼──────────────────┤\n",
       "│ 感谢认领露思好漂亮              │ 感谢认领美丽露宝~                  │ [0.6112, 0.3888] │\n",
       "├─────────────────────────────────┼────────────────────────────────────┼──────────────────┤\n",
       "│ 感谢认领露思好漂亮              │ 赵露思好美                         │ [0.5342, 0.4658] │\n",
       "├─────────────────────────────────┼────────────────────────────────────┼──────────────────┤\n",
       "│ 杀了那么多人 蛇蝎心肠 还不够死� │ 他很好？很好为什么逮捕她？杀人     │ [0.1885, 0.8115] │\n",
       "├─────────────────────────────────┼────────────────────────────────────┼──────────────────┤\n",
       "│ 她的辩护律师想通过帮她翻案，    │ 二审维持原判还能上诉吗？           │ [0.3589, 0.6411] │\n",
       "├─────────────────────────────────┼────────────────────────────────────┼──────────────────┤\n",
       "│ 妈的 这个律师有点良心吧 维持原  │ 感谢认领.                          │ [0.671, 0.329]   │\n",
       "├─────────────────────────────────┼────────────────────────────────────┼──────────────────┤\n",
       "│ 她的辩护律师想通过帮她翻案，    │ 她家人没事吧？果然不是一家人，不进 │ [0.2866, 0.7134] │\n",
       "├─────────────────────────────────┼────────────────────────────────────┼──────────────────┤\n",
       "│ 《互联网黑历史现状》            │ 《你看看》                         │ [0.6629, 0.3371] │\n",
       "└─────────────────────────────────┴────────────────────────────────────┴──────────────────┘\n"
      ]
     },
     "metadata": {},
     "output_type": "display_data"
    },
    {
     "data": {
      "text/html": [
       "<pre style=\"white-space:pre;overflow-x:auto;line-height:normal;font-family:Menlo,'DejaVu Sans Mono',consolas,'Courier New',monospace\">┏━━━━━━━━━━━━━━━━━━━━━━━━━━━━━━━━━┳━━━━━━━━━━━━━━━━━━━━━━━━━━━━━━━━┳━━━━━━━━━━━━━━━━━━┓\n",
       "┃<span style=\"font-weight: bold\"> chosen_text                     </span>┃<span style=\"font-weight: bold\"> rejected_text                  </span>┃<span style=\"font-weight: bold\"> logits           </span>┃\n",
       "┡━━━━━━━━━━━━━━━━━━━━━━━━━━━━━━━━━╇━━━━━━━━━━━━━━━━━━━━━━━━━━━━━━━━╇━━━━━━━━━━━━━━━━━━┩\n",
       "│ 感谢认领.                       │ 公主                           │ [0.4811, 0.5189] │\n",
       "├─────────────────────────────────┼────────────────────────────────┼──────────────────┤\n",
       "│ 感谢认领露思好漂亮              │ 感谢认领美丽露宝~              │ [0.6112, 0.3888] │\n",
       "├─────────────────────────────────┼────────────────────────────────┼──────────────────┤\n",
       "│ 感谢认领露思好漂亮              │ 赵露思好美                     │ [0.5342, 0.4658] │\n",
       "├─────────────────────────────────┼────────────────────────────────┼──────────────────┤\n",
       "│ 杀了那么多人 蛇蝎心肠 还不够死� │ 他很好？很好为什么逮捕她？杀人 │ [0.1885, 0.8115] │\n",
       "└─────────────────────────────────┴────────────────────────────────┴──────────────────┘\n",
       "</pre>\n"
      ],
      "text/plain": [
       "┏━━━━━━━━━━━━━━━━━━━━━━━━━━━━━━━━━┳━━━━━━━━━━━━━━━━━━━━━━━━━━━━━━━━┳━━━━━━━━━━━━━━━━━━┓\n",
       "┃\u001b[1m \u001b[0m\u001b[1mchosen_text                    \u001b[0m\u001b[1m \u001b[0m┃\u001b[1m \u001b[0m\u001b[1mrejected_text                 \u001b[0m\u001b[1m \u001b[0m┃\u001b[1m \u001b[0m\u001b[1mlogits          \u001b[0m\u001b[1m \u001b[0m┃\n",
       "┡━━━━━━━━━━━━━━━━━━━━━━━━━━━━━━━━━╇━━━━━━━━━━━━━━━━━━━━━━━━━━━━━━━━╇━━━━━━━━━━━━━━━━━━┩\n",
       "│ 感谢认领.                       │ 公主                           │ [0.4811, 0.5189] │\n",
       "├─────────────────────────────────┼────────────────────────────────┼──────────────────┤\n",
       "│ 感谢认领露思好漂亮              │ 感谢认领美丽露宝~              │ [0.6112, 0.3888] │\n",
       "├─────────────────────────────────┼────────────────────────────────┼──────────────────┤\n",
       "│ 感谢认领露思好漂亮              │ 赵露思好美                     │ [0.5342, 0.4658] │\n",
       "├─────────────────────────────────┼────────────────────────────────┼──────────────────┤\n",
       "│ 杀了那么多人 蛇蝎心肠 还不够死� │ 他很好？很好为什么逮捕她？杀人 │ [0.1885, 0.8115] │\n",
       "└─────────────────────────────────┴────────────────────────────────┴──────────────────┘\n"
      ]
     },
     "metadata": {},
     "output_type": "display_data"
    },
    {
     "name": "stderr",
     "output_type": "stream",
     "text": [
      "/usr/local/lib/python3.8/dist-packages/transformers/tokenization_utils_base.py:2778: UserWarning: `max_length` is ignored when `padding`=`True` and there is no truncation strategy. To pad to max length, use `padding='max_length'`.\n",
      "  warnings.warn(\n",
      "/usr/local/lib/python3.8/dist-packages/trl/trainer/utils.py:599: UserWarning: There are 22 out of 3451 instances where the predictions for both options are equal. As a consequence the accuracy can be misleading.\n",
      "  warnings.warn(\n",
      "/usr/local/lib/python3.8/dist-packages/transformers/tokenization_utils_base.py:2778: UserWarning: `max_length` is ignored when `padding`=`True` and there is no truncation strategy. To pad to max length, use `padding='max_length'`.\n",
      "  warnings.warn(\n",
      "/usr/local/lib/python3.8/dist-packages/torch/utils/checkpoint.py:464: UserWarning: torch.utils.checkpoint: the use_reentrant parameter should be passed explicitly. In version 2.4 we will raise an exception if use_reentrant is not passed. use_reentrant=False is recommended, but if you need to preserve the current default behavior, you can pass use_reentrant=True. Refer to docs for more details on the differences between the two variants.\n",
      "  warnings.warn(\n",
      "/usr/local/lib/python3.8/dist-packages/torch/utils/checkpoint.py:91: UserWarning: None of the inputs have requires_grad=True. Gradients will be None\n",
      "  warnings.warn(\n"
     ]
    },
    {
     "data": {
      "text/html": [
       "<pre style=\"white-space:pre;overflow-x:auto;line-height:normal;font-family:Menlo,'DejaVu Sans Mono',consolas,'Courier New',monospace\">┏━━━━━━━━━━━━━━━━━━━━━━━━━━━━━━━━━┳━━━━━━━━━━━━━━━━━━━━━━━━━━━━━━━━━━━━┳━━━━━━━━━━━━━━━━━━┓\n",
       "┃<span style=\"font-weight: bold\"> chosen_text                     </span>┃<span style=\"font-weight: bold\"> rejected_text                      </span>┃<span style=\"font-weight: bold\"> logits           </span>┃\n",
       "┡━━━━━━━━━━━━━━━━━━━━━━━━━━━━━━━━━╇━━━━━━━━━━━━━━━━━━━━━━━━━━━━━━━━━━━━╇━━━━━━━━━━━━━━━━━━┩\n",
       "│ 感谢认领.                       │ 公主                               │ [0.622, 0.378]   │\n",
       "├─────────────────────────────────┼────────────────────────────────────┼──────────────────┤\n",
       "│ 感谢认领露思好漂亮              │ 感谢认领美丽露宝~                  │ [0.5525, 0.4475] │\n",
       "├─────────────────────────────────┼────────────────────────────────────┼──────────────────┤\n",
       "│ 感谢认领露思好漂亮              │ 赵露思好美                         │ [0.5188, 0.4812] │\n",
       "├─────────────────────────────────┼────────────────────────────────────┼──────────────────┤\n",
       "│ 杀了那么多人 蛇蝎心肠 还不够死� │ 他很好？很好为什么逮捕她？杀人     │ [0.3469, 0.6531] │\n",
       "├─────────────────────────────────┼────────────────────────────────────┼──────────────────┤\n",
       "│ 她的辩护律师想通过帮她翻案，    │ 二审维持原判还能上诉吗？           │ [0.3367, 0.6633] │\n",
       "├─────────────────────────────────┼────────────────────────────────────┼──────────────────┤\n",
       "│ 妈的 这个律师有点良心吧 维持原  │ 感谢认领.                          │ [0.4988, 0.5012] │\n",
       "├─────────────────────────────────┼────────────────────────────────────┼──────────────────┤\n",
       "│ 她的辩护律师想通过帮她翻案，    │ 她家人没事吧？果然不是一家人，不进 │ [0.3773, 0.6227] │\n",
       "├─────────────────────────────────┼────────────────────────────────────┼──────────────────┤\n",
       "│ 《互联网黑历史现状》            │ 《你看看》                         │ [0.5763, 0.4237] │\n",
       "└─────────────────────────────────┴────────────────────────────────────┴──────────────────┘\n",
       "</pre>\n"
      ],
      "text/plain": [
       "┏━━━━━━━━━━━━━━━━━━━━━━━━━━━━━━━━━┳━━━━━━━━━━━━━━━━━━━━━━━━━━━━━━━━━━━━┳━━━━━━━━━━━━━━━━━━┓\n",
       "┃\u001b[1m \u001b[0m\u001b[1mchosen_text                    \u001b[0m\u001b[1m \u001b[0m┃\u001b[1m \u001b[0m\u001b[1mrejected_text                     \u001b[0m\u001b[1m \u001b[0m┃\u001b[1m \u001b[0m\u001b[1mlogits          \u001b[0m\u001b[1m \u001b[0m┃\n",
       "┡━━━━━━━━━━━━━━━━━━━━━━━━━━━━━━━━━╇━━━━━━━━━━━━━━━━━━━━━━━━━━━━━━━━━━━━╇━━━━━━━━━━━━━━━━━━┩\n",
       "│ 感谢认领.                       │ 公主                               │ [0.622, 0.378]   │\n",
       "├─────────────────────────────────┼────────────────────────────────────┼──────────────────┤\n",
       "│ 感谢认领露思好漂亮              │ 感谢认领美丽露宝~                  │ [0.5525, 0.4475] │\n",
       "├─────────────────────────────────┼────────────────────────────────────┼──────────────────┤\n",
       "│ 感谢认领露思好漂亮              │ 赵露思好美                         │ [0.5188, 0.4812] │\n",
       "├─────────────────────────────────┼────────────────────────────────────┼──────────────────┤\n",
       "│ 杀了那么多人 蛇蝎心肠 还不够死� │ 他很好？很好为什么逮捕她？杀人     │ [0.3469, 0.6531] │\n",
       "├─────────────────────────────────┼────────────────────────────────────┼──────────────────┤\n",
       "│ 她的辩护律师想通过帮她翻案，    │ 二审维持原判还能上诉吗？           │ [0.3367, 0.6633] │\n",
       "├─────────────────────────────────┼────────────────────────────────────┼──────────────────┤\n",
       "│ 妈的 这个律师有点良心吧 维持原  │ 感谢认领.                          │ [0.4988, 0.5012] │\n",
       "├─────────────────────────────────┼────────────────────────────────────┼──────────────────┤\n",
       "│ 她的辩护律师想通过帮她翻案，    │ 她家人没事吧？果然不是一家人，不进 │ [0.3773, 0.6227] │\n",
       "├─────────────────────────────────┼────────────────────────────────────┼──────────────────┤\n",
       "│ 《互联网黑历史现状》            │ 《你看看》                         │ [0.5763, 0.4237] │\n",
       "└─────────────────────────────────┴────────────────────────────────────┴──────────────────┘\n"
      ]
     },
     "metadata": {},
     "output_type": "display_data"
    },
    {
     "data": {
      "text/html": [
       "<pre style=\"white-space:pre;overflow-x:auto;line-height:normal;font-family:Menlo,'DejaVu Sans Mono',consolas,'Courier New',monospace\">┏━━━━━━━━━━━━━━━━━━━━━━━━━━━━━━━━━┳━━━━━━━━━━━━━━━━━━━━━━━━━━━━━━━━┳━━━━━━━━━━━━━━━━━━┓\n",
       "┃<span style=\"font-weight: bold\"> chosen_text                     </span>┃<span style=\"font-weight: bold\"> rejected_text                  </span>┃<span style=\"font-weight: bold\"> logits           </span>┃\n",
       "┡━━━━━━━━━━━━━━━━━━━━━━━━━━━━━━━━━╇━━━━━━━━━━━━━━━━━━━━━━━━━━━━━━━━╇━━━━━━━━━━━━━━━━━━┩\n",
       "│ 感谢认领.                       │ 公主                           │ [0.622, 0.378]   │\n",
       "├─────────────────────────────────┼────────────────────────────────┼──────────────────┤\n",
       "│ 感谢认领露思好漂亮              │ 感谢认领美丽露宝~              │ [0.5525, 0.4475] │\n",
       "├─────────────────────────────────┼────────────────────────────────┼──────────────────┤\n",
       "│ 感谢认领露思好漂亮              │ 赵露思好美                     │ [0.5188, 0.4812] │\n",
       "├─────────────────────────────────┼────────────────────────────────┼──────────────────┤\n",
       "│ 杀了那么多人 蛇蝎心肠 还不够死� │ 他很好？很好为什么逮捕她？杀人 │ [0.3469, 0.6531] │\n",
       "└─────────────────────────────────┴────────────────────────────────┴──────────────────┘\n",
       "</pre>\n"
      ],
      "text/plain": [
       "┏━━━━━━━━━━━━━━━━━━━━━━━━━━━━━━━━━┳━━━━━━━━━━━━━━━━━━━━━━━━━━━━━━━━┳━━━━━━━━━━━━━━━━━━┓\n",
       "┃\u001b[1m \u001b[0m\u001b[1mchosen_text                    \u001b[0m\u001b[1m \u001b[0m┃\u001b[1m \u001b[0m\u001b[1mrejected_text                 \u001b[0m\u001b[1m \u001b[0m┃\u001b[1m \u001b[0m\u001b[1mlogits          \u001b[0m\u001b[1m \u001b[0m┃\n",
       "┡━━━━━━━━━━━━━━━━━━━━━━━━━━━━━━━━━╇━━━━━━━━━━━━━━━━━━━━━━━━━━━━━━━━╇━━━━━━━━━━━━━━━━━━┩\n",
       "│ 感谢认领.                       │ 公主                           │ [0.622, 0.378]   │\n",
       "├─────────────────────────────────┼────────────────────────────────┼──────────────────┤\n",
       "│ 感谢认领露思好漂亮              │ 感谢认领美丽露宝~              │ [0.5525, 0.4475] │\n",
       "├─────────────────────────────────┼────────────────────────────────┼──────────────────┤\n",
       "│ 感谢认领露思好漂亮              │ 赵露思好美                     │ [0.5188, 0.4812] │\n",
       "├─────────────────────────────────┼────────────────────────────────┼──────────────────┤\n",
       "│ 杀了那么多人 蛇蝎心肠 还不够死� │ 他很好？很好为什么逮捕她？杀人 │ [0.3469, 0.6531] │\n",
       "└─────────────────────────────────┴────────────────────────────────┴──────────────────┘\n"
      ]
     },
     "metadata": {},
     "output_type": "display_data"
    },
    {
     "name": "stderr",
     "output_type": "stream",
     "text": [
      "/usr/local/lib/python3.8/dist-packages/transformers/tokenization_utils_base.py:2778: UserWarning: `max_length` is ignored when `padding`=`True` and there is no truncation strategy. To pad to max length, use `padding='max_length'`.\n",
      "  warnings.warn(\n",
      "/usr/local/lib/python3.8/dist-packages/trl/trainer/utils.py:599: UserWarning: There are 22 out of 3451 instances where the predictions for both options are equal. As a consequence the accuracy can be misleading.\n",
      "  warnings.warn(\n",
      "/usr/local/lib/python3.8/dist-packages/transformers/tokenization_utils_base.py:2778: UserWarning: `max_length` is ignored when `padding`=`True` and there is no truncation strategy. To pad to max length, use `padding='max_length'`.\n",
      "  warnings.warn(\n",
      "/usr/local/lib/python3.8/dist-packages/torch/utils/checkpoint.py:464: UserWarning: torch.utils.checkpoint: the use_reentrant parameter should be passed explicitly. In version 2.4 we will raise an exception if use_reentrant is not passed. use_reentrant=False is recommended, but if you need to preserve the current default behavior, you can pass use_reentrant=True. Refer to docs for more details on the differences between the two variants.\n",
      "  warnings.warn(\n",
      "/usr/local/lib/python3.8/dist-packages/torch/utils/checkpoint.py:91: UserWarning: None of the inputs have requires_grad=True. Gradients will be None\n",
      "  warnings.warn(\n"
     ]
    },
    {
     "data": {
      "text/html": [
       "<pre style=\"white-space:pre;overflow-x:auto;line-height:normal;font-family:Menlo,'DejaVu Sans Mono',consolas,'Courier New',monospace\">┏━━━━━━━━━━━━━━━━━━━━━━━━━━━━━━━━━┳━━━━━━━━━━━━━━━━━━━━━━━━━━━━━━━━━━━━┳━━━━━━━━━━━━━━━━━━┓\n",
       "┃<span style=\"font-weight: bold\"> chosen_text                     </span>┃<span style=\"font-weight: bold\"> rejected_text                      </span>┃<span style=\"font-weight: bold\"> logits           </span>┃\n",
       "┡━━━━━━━━━━━━━━━━━━━━━━━━━━━━━━━━━╇━━━━━━━━━━━━━━━━━━━━━━━━━━━━━━━━━━━━╇━━━━━━━━━━━━━━━━━━┩\n",
       "│ 感谢认领.                       │ 公主                               │ [0.5739, 0.4261] │\n",
       "├─────────────────────────────────┼────────────────────────────────────┼──────────────────┤\n",
       "│ 感谢认领露思好漂亮              │ 感谢认领美丽露宝~                  │ [0.5763, 0.4237] │\n",
       "├─────────────────────────────────┼────────────────────────────────────┼──────────────────┤\n",
       "│ 感谢认领露思好漂亮              │ 赵露思好美                         │ [0.8158, 0.1842] │\n",
       "├─────────────────────────────────┼────────────────────────────────────┼──────────────────┤\n",
       "│ 杀了那么多人 蛇蝎心肠 还不够死� │ 他很好？很好为什么逮捕她？杀人     │ [0.2452, 0.7548] │\n",
       "├─────────────────────────────────┼────────────────────────────────────┼──────────────────┤\n",
       "│ 她的辩护律师想通过帮她翻案，    │ 二审维持原判还能上诉吗？           │ [0.4058, 0.5942] │\n",
       "├─────────────────────────────────┼────────────────────────────────────┼──────────────────┤\n",
       "│ 妈的 这个律师有点良心吧 维持原  │ 感谢认领.                          │ [0.6095, 0.3905] │\n",
       "├─────────────────────────────────┼────────────────────────────────────┼──────────────────┤\n",
       "│ 她的辩护律师想通过帮她翻案，    │ 她家人没事吧？果然不是一家人，不进 │ [0.2379, 0.7621] │\n",
       "├─────────────────────────────────┼────────────────────────────────────┼──────────────────┤\n",
       "│ 《互联网黑历史现状》            │ 《你看看》                         │ [0.5969, 0.4031] │\n",
       "└─────────────────────────────────┴────────────────────────────────────┴──────────────────┘\n",
       "</pre>\n"
      ],
      "text/plain": [
       "┏━━━━━━━━━━━━━━━━━━━━━━━━━━━━━━━━━┳━━━━━━━━━━━━━━━━━━━━━━━━━━━━━━━━━━━━┳━━━━━━━━━━━━━━━━━━┓\n",
       "┃\u001b[1m \u001b[0m\u001b[1mchosen_text                    \u001b[0m\u001b[1m \u001b[0m┃\u001b[1m \u001b[0m\u001b[1mrejected_text                     \u001b[0m\u001b[1m \u001b[0m┃\u001b[1m \u001b[0m\u001b[1mlogits          \u001b[0m\u001b[1m \u001b[0m┃\n",
       "┡━━━━━━━━━━━━━━━━━━━━━━━━━━━━━━━━━╇━━━━━━━━━━━━━━━━━━━━━━━━━━━━━━━━━━━━╇━━━━━━━━━━━━━━━━━━┩\n",
       "│ 感谢认领.                       │ 公主                               │ [0.5739, 0.4261] │\n",
       "├─────────────────────────────────┼────────────────────────────────────┼──────────────────┤\n",
       "│ 感谢认领露思好漂亮              │ 感谢认领美丽露宝~                  │ [0.5763, 0.4237] │\n",
       "├─────────────────────────────────┼────────────────────────────────────┼──────────────────┤\n",
       "│ 感谢认领露思好漂亮              │ 赵露思好美                         │ [0.8158, 0.1842] │\n",
       "├─────────────────────────────────┼────────────────────────────────────┼──────────────────┤\n",
       "│ 杀了那么多人 蛇蝎心肠 还不够死� │ 他很好？很好为什么逮捕她？杀人     │ [0.2452, 0.7548] │\n",
       "├─────────────────────────────────┼────────────────────────────────────┼──────────────────┤\n",
       "│ 她的辩护律师想通过帮她翻案，    │ 二审维持原判还能上诉吗？           │ [0.4058, 0.5942] │\n",
       "├─────────────────────────────────┼────────────────────────────────────┼──────────────────┤\n",
       "│ 妈的 这个律师有点良心吧 维持原  │ 感谢认领.                          │ [0.6095, 0.3905] │\n",
       "├─────────────────────────────────┼────────────────────────────────────┼──────────────────┤\n",
       "│ 她的辩护律师想通过帮她翻案，    │ 她家人没事吧？果然不是一家人，不进 │ [0.2379, 0.7621] │\n",
       "├─────────────────────────────────┼────────────────────────────────────┼──────────────────┤\n",
       "│ 《互联网黑历史现状》            │ 《你看看》                         │ [0.5969, 0.4031] │\n",
       "└─────────────────────────────────┴────────────────────────────────────┴──────────────────┘\n"
      ]
     },
     "metadata": {},
     "output_type": "display_data"
    },
    {
     "data": {
      "text/html": [
       "<pre style=\"white-space:pre;overflow-x:auto;line-height:normal;font-family:Menlo,'DejaVu Sans Mono',consolas,'Courier New',monospace\">┏━━━━━━━━━━━━━━━━━━━━━━━━━━━━━━━━━┳━━━━━━━━━━━━━━━━━━━━━━━━━━━━━━━━┳━━━━━━━━━━━━━━━━━━┓\n",
       "┃<span style=\"font-weight: bold\"> chosen_text                     </span>┃<span style=\"font-weight: bold\"> rejected_text                  </span>┃<span style=\"font-weight: bold\"> logits           </span>┃\n",
       "┡━━━━━━━━━━━━━━━━━━━━━━━━━━━━━━━━━╇━━━━━━━━━━━━━━━━━━━━━━━━━━━━━━━━╇━━━━━━━━━━━━━━━━━━┩\n",
       "│ 感谢认领.                       │ 公主                           │ [0.5739, 0.4261] │\n",
       "├─────────────────────────────────┼────────────────────────────────┼──────────────────┤\n",
       "│ 感谢认领露思好漂亮              │ 感谢认领美丽露宝~              │ [0.5763, 0.4237] │\n",
       "├─────────────────────────────────┼────────────────────────────────┼──────────────────┤\n",
       "│ 感谢认领露思好漂亮              │ 赵露思好美                     │ [0.8158, 0.1842] │\n",
       "├─────────────────────────────────┼────────────────────────────────┼──────────────────┤\n",
       "│ 杀了那么多人 蛇蝎心肠 还不够死� │ 他很好？很好为什么逮捕她？杀人 │ [0.2452, 0.7548] │\n",
       "└─────────────────────────────────┴────────────────────────────────┴──────────────────┘\n",
       "</pre>\n"
      ],
      "text/plain": [
       "┏━━━━━━━━━━━━━━━━━━━━━━━━━━━━━━━━━┳━━━━━━━━━━━━━━━━━━━━━━━━━━━━━━━━┳━━━━━━━━━━━━━━━━━━┓\n",
       "┃\u001b[1m \u001b[0m\u001b[1mchosen_text                    \u001b[0m\u001b[1m \u001b[0m┃\u001b[1m \u001b[0m\u001b[1mrejected_text                 \u001b[0m\u001b[1m \u001b[0m┃\u001b[1m \u001b[0m\u001b[1mlogits          \u001b[0m\u001b[1m \u001b[0m┃\n",
       "┡━━━━━━━━━━━━━━━━━━━━━━━━━━━━━━━━━╇━━━━━━━━━━━━━━━━━━━━━━━━━━━━━━━━╇━━━━━━━━━━━━━━━━━━┩\n",
       "│ 感谢认领.                       │ 公主                           │ [0.5739, 0.4261] │\n",
       "├─────────────────────────────────┼────────────────────────────────┼──────────────────┤\n",
       "│ 感谢认领露思好漂亮              │ 感谢认领美丽露宝~              │ [0.5763, 0.4237] │\n",
       "├─────────────────────────────────┼────────────────────────────────┼──────────────────┤\n",
       "│ 感谢认领露思好漂亮              │ 赵露思好美                     │ [0.8158, 0.1842] │\n",
       "├─────────────────────────────────┼────────────────────────────────┼──────────────────┤\n",
       "│ 杀了那么多人 蛇蝎心肠 还不够死� │ 他很好？很好为什么逮捕她？杀人 │ [0.2452, 0.7548] │\n",
       "└─────────────────────────────────┴────────────────────────────────┴──────────────────┘\n"
      ]
     },
     "metadata": {},
     "output_type": "display_data"
    },
    {
     "name": "stderr",
     "output_type": "stream",
     "text": [
      "/usr/local/lib/python3.8/dist-packages/transformers/tokenization_utils_base.py:2778: UserWarning: `max_length` is ignored when `padding`=`True` and there is no truncation strategy. To pad to max length, use `padding='max_length'`.\n",
      "  warnings.warn(\n",
      "/usr/local/lib/python3.8/dist-packages/trl/trainer/utils.py:599: UserWarning: There are 22 out of 3451 instances where the predictions for both options are equal. As a consequence the accuracy can be misleading.\n",
      "  warnings.warn(\n",
      "/usr/local/lib/python3.8/dist-packages/transformers/tokenization_utils_base.py:2778: UserWarning: `max_length` is ignored when `padding`=`True` and there is no truncation strategy. To pad to max length, use `padding='max_length'`.\n",
      "  warnings.warn(\n",
      "/usr/local/lib/python3.8/dist-packages/torch/utils/checkpoint.py:464: UserWarning: torch.utils.checkpoint: the use_reentrant parameter should be passed explicitly. In version 2.4 we will raise an exception if use_reentrant is not passed. use_reentrant=False is recommended, but if you need to preserve the current default behavior, you can pass use_reentrant=True. Refer to docs for more details on the differences between the two variants.\n",
      "  warnings.warn(\n",
      "/usr/local/lib/python3.8/dist-packages/torch/utils/checkpoint.py:91: UserWarning: None of the inputs have requires_grad=True. Gradients will be None\n",
      "  warnings.warn(\n"
     ]
    },
    {
     "data": {
      "text/html": [
       "<pre style=\"white-space:pre;overflow-x:auto;line-height:normal;font-family:Menlo,'DejaVu Sans Mono',consolas,'Courier New',monospace\">┏━━━━━━━━━━━━━━━━━━━━━━━━━━━━━━━━━┳━━━━━━━━━━━━━━━━━━━━━━━━━━━━━━━━━━━━┳━━━━━━━━━━━━━━━━━━┓\n",
       "┃<span style=\"font-weight: bold\"> chosen_text                     </span>┃<span style=\"font-weight: bold\"> rejected_text                      </span>┃<span style=\"font-weight: bold\"> logits           </span>┃\n",
       "┡━━━━━━━━━━━━━━━━━━━━━━━━━━━━━━━━━╇━━━━━━━━━━━━━━━━━━━━━━━━━━━━━━━━━━━━╇━━━━━━━━━━━━━━━━━━┩\n",
       "│ 感谢认领.                       │ 公主                               │ [0.7422, 0.2578] │\n",
       "├─────────────────────────────────┼────────────────────────────────────┼──────────────────┤\n",
       "│ 感谢认领露思好漂亮              │ 感谢认领美丽露宝~                  │ [0.5704, 0.4296] │\n",
       "├─────────────────────────────────┼────────────────────────────────────┼──────────────────┤\n",
       "│ 感谢认领露思好漂亮              │ 赵露思好美                         │ [0.5382, 0.4618] │\n",
       "├─────────────────────────────────┼────────────────────────────────────┼──────────────────┤\n",
       "│ 杀了那么多人 蛇蝎心肠 还不够死� │ 他很好？很好为什么逮捕她？杀人     │ [0.39, 0.61]     │\n",
       "├─────────────────────────────────┼────────────────────────────────────┼──────────────────┤\n",
       "│ 她的辩护律师想通过帮她翻案，    │ 二审维持原判还能上诉吗？           │ [0.3235, 0.6765] │\n",
       "├─────────────────────────────────┼────────────────────────────────────┼──────────────────┤\n",
       "│ 妈的 这个律师有点良心吧 维持原  │ 感谢认领.                          │ [0.641, 0.359]   │\n",
       "├─────────────────────────────────┼────────────────────────────────────┼──────────────────┤\n",
       "│ 她的辩护律师想通过帮她翻案，    │ 她家人没事吧？果然不是一家人，不进 │ [0.3795, 0.6205] │\n",
       "├─────────────────────────────────┼────────────────────────────────────┼──────────────────┤\n",
       "│ 《互联网黑历史现状》            │ 《你看看》                         │ [0.4634, 0.5366] │\n",
       "└─────────────────────────────────┴────────────────────────────────────┴──────────────────┘\n",
       "</pre>\n"
      ],
      "text/plain": [
       "┏━━━━━━━━━━━━━━━━━━━━━━━━━━━━━━━━━┳━━━━━━━━━━━━━━━━━━━━━━━━━━━━━━━━━━━━┳━━━━━━━━━━━━━━━━━━┓\n",
       "┃\u001b[1m \u001b[0m\u001b[1mchosen_text                    \u001b[0m\u001b[1m \u001b[0m┃\u001b[1m \u001b[0m\u001b[1mrejected_text                     \u001b[0m\u001b[1m \u001b[0m┃\u001b[1m \u001b[0m\u001b[1mlogits          \u001b[0m\u001b[1m \u001b[0m┃\n",
       "┡━━━━━━━━━━━━━━━━━━━━━━━━━━━━━━━━━╇━━━━━━━━━━━━━━━━━━━━━━━━━━━━━━━━━━━━╇━━━━━━━━━━━━━━━━━━┩\n",
       "│ 感谢认领.                       │ 公主                               │ [0.7422, 0.2578] │\n",
       "├─────────────────────────────────┼────────────────────────────────────┼──────────────────┤\n",
       "│ 感谢认领露思好漂亮              │ 感谢认领美丽露宝~                  │ [0.5704, 0.4296] │\n",
       "├─────────────────────────────────┼────────────────────────────────────┼──────────────────┤\n",
       "│ 感谢认领露思好漂亮              │ 赵露思好美                         │ [0.5382, 0.4618] │\n",
       "├─────────────────────────────────┼────────────────────────────────────┼──────────────────┤\n",
       "│ 杀了那么多人 蛇蝎心肠 还不够死� │ 他很好？很好为什么逮捕她？杀人     │ [0.39, 0.61]     │\n",
       "├─────────────────────────────────┼────────────────────────────────────┼──────────────────┤\n",
       "│ 她的辩护律师想通过帮她翻案，    │ 二审维持原判还能上诉吗？           │ [0.3235, 0.6765] │\n",
       "├─────────────────────────────────┼────────────────────────────────────┼──────────────────┤\n",
       "│ 妈的 这个律师有点良心吧 维持原  │ 感谢认领.                          │ [0.641, 0.359]   │\n",
       "├─────────────────────────────────┼────────────────────────────────────┼──────────────────┤\n",
       "│ 她的辩护律师想通过帮她翻案，    │ 她家人没事吧？果然不是一家人，不进 │ [0.3795, 0.6205] │\n",
       "├─────────────────────────────────┼────────────────────────────────────┼──────────────────┤\n",
       "│ 《互联网黑历史现状》            │ 《你看看》                         │ [0.4634, 0.5366] │\n",
       "└─────────────────────────────────┴────────────────────────────────────┴──────────────────┘\n"
      ]
     },
     "metadata": {},
     "output_type": "display_data"
    },
    {
     "data": {
      "text/html": [
       "<pre style=\"white-space:pre;overflow-x:auto;line-height:normal;font-family:Menlo,'DejaVu Sans Mono',consolas,'Courier New',monospace\">┏━━━━━━━━━━━━━━━━━━━━━━━━━━━━━━━━━┳━━━━━━━━━━━━━━━━━━━━━━━━━━━━━━━━┳━━━━━━━━━━━━━━━━━━┓\n",
       "┃<span style=\"font-weight: bold\"> chosen_text                     </span>┃<span style=\"font-weight: bold\"> rejected_text                  </span>┃<span style=\"font-weight: bold\"> logits           </span>┃\n",
       "┡━━━━━━━━━━━━━━━━━━━━━━━━━━━━━━━━━╇━━━━━━━━━━━━━━━━━━━━━━━━━━━━━━━━╇━━━━━━━━━━━━━━━━━━┩\n",
       "│ 感谢认领.                       │ 公主                           │ [0.7422, 0.2578] │\n",
       "├─────────────────────────────────┼────────────────────────────────┼──────────────────┤\n",
       "│ 感谢认领露思好漂亮              │ 感谢认领美丽露宝~              │ [0.5704, 0.4296] │\n",
       "├─────────────────────────────────┼────────────────────────────────┼──────────────────┤\n",
       "│ 感谢认领露思好漂亮              │ 赵露思好美                     │ [0.5382, 0.4618] │\n",
       "├─────────────────────────────────┼────────────────────────────────┼──────────────────┤\n",
       "│ 杀了那么多人 蛇蝎心肠 还不够死� │ 他很好？很好为什么逮捕她？杀人 │ [0.39, 0.61]     │\n",
       "└─────────────────────────────────┴────────────────────────────────┴──────────────────┘\n",
       "</pre>\n"
      ],
      "text/plain": [
       "┏━━━━━━━━━━━━━━━━━━━━━━━━━━━━━━━━━┳━━━━━━━━━━━━━━━━━━━━━━━━━━━━━━━━┳━━━━━━━━━━━━━━━━━━┓\n",
       "┃\u001b[1m \u001b[0m\u001b[1mchosen_text                    \u001b[0m\u001b[1m \u001b[0m┃\u001b[1m \u001b[0m\u001b[1mrejected_text                 \u001b[0m\u001b[1m \u001b[0m┃\u001b[1m \u001b[0m\u001b[1mlogits          \u001b[0m\u001b[1m \u001b[0m┃\n",
       "┡━━━━━━━━━━━━━━━━━━━━━━━━━━━━━━━━━╇━━━━━━━━━━━━━━━━━━━━━━━━━━━━━━━━╇━━━━━━━━━━━━━━━━━━┩\n",
       "│ 感谢认领.                       │ 公主                           │ [0.7422, 0.2578] │\n",
       "├─────────────────────────────────┼────────────────────────────────┼──────────────────┤\n",
       "│ 感谢认领露思好漂亮              │ 感谢认领美丽露宝~              │ [0.5704, 0.4296] │\n",
       "├─────────────────────────────────┼────────────────────────────────┼──────────────────┤\n",
       "│ 感谢认领露思好漂亮              │ 赵露思好美                     │ [0.5382, 0.4618] │\n",
       "├─────────────────────────────────┼────────────────────────────────┼──────────────────┤\n",
       "│ 杀了那么多人 蛇蝎心肠 还不够死� │ 他很好？很好为什么逮捕她？杀人 │ [0.39, 0.61]     │\n",
       "└─────────────────────────────────┴────────────────────────────────┴──────────────────┘\n"
      ]
     },
     "metadata": {},
     "output_type": "display_data"
    },
    {
     "name": "stderr",
     "output_type": "stream",
     "text": [
      "/usr/local/lib/python3.8/dist-packages/transformers/tokenization_utils_base.py:2778: UserWarning: `max_length` is ignored when `padding`=`True` and there is no truncation strategy. To pad to max length, use `padding='max_length'`.\n",
      "  warnings.warn(\n",
      "/usr/local/lib/python3.8/dist-packages/trl/trainer/utils.py:599: UserWarning: There are 22 out of 3451 instances where the predictions for both options are equal. As a consequence the accuracy can be misleading.\n",
      "  warnings.warn(\n",
      "/usr/local/lib/python3.8/dist-packages/transformers/tokenization_utils_base.py:2778: UserWarning: `max_length` is ignored when `padding`=`True` and there is no truncation strategy. To pad to max length, use `padding='max_length'`.\n",
      "  warnings.warn(\n",
      "/usr/local/lib/python3.8/dist-packages/torch/utils/checkpoint.py:464: UserWarning: torch.utils.checkpoint: the use_reentrant parameter should be passed explicitly. In version 2.4 we will raise an exception if use_reentrant is not passed. use_reentrant=False is recommended, but if you need to preserve the current default behavior, you can pass use_reentrant=True. Refer to docs for more details on the differences between the two variants.\n",
      "  warnings.warn(\n",
      "/usr/local/lib/python3.8/dist-packages/torch/utils/checkpoint.py:91: UserWarning: None of the inputs have requires_grad=True. Gradients will be None\n",
      "  warnings.warn(\n"
     ]
    },
    {
     "data": {
      "text/html": [
       "<pre style=\"white-space:pre;overflow-x:auto;line-height:normal;font-family:Menlo,'DejaVu Sans Mono',consolas,'Courier New',monospace\">┏━━━━━━━━━━━━━━━━━━━━━━━━━━━━━━━━━┳━━━━━━━━━━━━━━━━━━━━━━━━━━━━━━━━━━━━┳━━━━━━━━━━━━━━━━━━┓\n",
       "┃<span style=\"font-weight: bold\"> chosen_text                     </span>┃<span style=\"font-weight: bold\"> rejected_text                      </span>┃<span style=\"font-weight: bold\"> logits           </span>┃\n",
       "┡━━━━━━━━━━━━━━━━━━━━━━━━━━━━━━━━━╇━━━━━━━━━━━━━━━━━━━━━━━━━━━━━━━━━━━━╇━━━━━━━━━━━━━━━━━━┩\n",
       "│ 感谢认领.                       │ 公主                               │ [0.5949, 0.4051] │\n",
       "├─────────────────────────────────┼────────────────────────────────────┼──────────────────┤\n",
       "│ 感谢认领露思好漂亮              │ 感谢认领美丽露宝~                  │ [0.5665, 0.4335] │\n",
       "├─────────────────────────────────┼────────────────────────────────────┼──────────────────┤\n",
       "│ 感谢认领露思好漂亮              │ 赵露思好美                         │ [0.6969, 0.3031] │\n",
       "├─────────────────────────────────┼────────────────────────────────────┼──────────────────┤\n",
       "│ 杀了那么多人 蛇蝎心肠 还不够死� │ 他很好？很好为什么逮捕她？杀人     │ [0.2459, 0.7541] │\n",
       "├─────────────────────────────────┼────────────────────────────────────┼──────────────────┤\n",
       "│ 她的辩护律师想通过帮她翻案，    │ 二审维持原判还能上诉吗？           │ [0.2872, 0.7128] │\n",
       "├─────────────────────────────────┼────────────────────────────────────┼──────────────────┤\n",
       "│ 妈的 这个律师有点良心吧 维持原  │ 感谢认领.                          │ [0.5942, 0.4058] │\n",
       "├─────────────────────────────────┼────────────────────────────────────┼──────────────────┤\n",
       "│ 她的辩护律师想通过帮她翻案，    │ 她家人没事吧？果然不是一家人，不进 │ [0.2912, 0.7088] │\n",
       "├─────────────────────────────────┼────────────────────────────────────┼──────────────────┤\n",
       "│ 《互联网黑历史现状》            │ 《你看看》                         │ [0.604, 0.396]   │\n",
       "└─────────────────────────────────┴────────────────────────────────────┴──────────────────┘\n",
       "</pre>\n"
      ],
      "text/plain": [
       "┏━━━━━━━━━━━━━━━━━━━━━━━━━━━━━━━━━┳━━━━━━━━━━━━━━━━━━━━━━━━━━━━━━━━━━━━┳━━━━━━━━━━━━━━━━━━┓\n",
       "┃\u001b[1m \u001b[0m\u001b[1mchosen_text                    \u001b[0m\u001b[1m \u001b[0m┃\u001b[1m \u001b[0m\u001b[1mrejected_text                     \u001b[0m\u001b[1m \u001b[0m┃\u001b[1m \u001b[0m\u001b[1mlogits          \u001b[0m\u001b[1m \u001b[0m┃\n",
       "┡━━━━━━━━━━━━━━━━━━━━━━━━━━━━━━━━━╇━━━━━━━━━━━━━━━━━━━━━━━━━━━━━━━━━━━━╇━━━━━━━━━━━━━━━━━━┩\n",
       "│ 感谢认领.                       │ 公主                               │ [0.5949, 0.4051] │\n",
       "├─────────────────────────────────┼────────────────────────────────────┼──────────────────┤\n",
       "│ 感谢认领露思好漂亮              │ 感谢认领美丽露宝~                  │ [0.5665, 0.4335] │\n",
       "├─────────────────────────────────┼────────────────────────────────────┼──────────────────┤\n",
       "│ 感谢认领露思好漂亮              │ 赵露思好美                         │ [0.6969, 0.3031] │\n",
       "├─────────────────────────────────┼────────────────────────────────────┼──────────────────┤\n",
       "│ 杀了那么多人 蛇蝎心肠 还不够死� │ 他很好？很好为什么逮捕她？杀人     │ [0.2459, 0.7541] │\n",
       "├─────────────────────────────────┼────────────────────────────────────┼──────────────────┤\n",
       "│ 她的辩护律师想通过帮她翻案，    │ 二审维持原判还能上诉吗？           │ [0.2872, 0.7128] │\n",
       "├─────────────────────────────────┼────────────────────────────────────┼──────────────────┤\n",
       "│ 妈的 这个律师有点良心吧 维持原  │ 感谢认领.                          │ [0.5942, 0.4058] │\n",
       "├─────────────────────────────────┼────────────────────────────────────┼──────────────────┤\n",
       "│ 她的辩护律师想通过帮她翻案，    │ 她家人没事吧？果然不是一家人，不进 │ [0.2912, 0.7088] │\n",
       "├─────────────────────────────────┼────────────────────────────────────┼──────────────────┤\n",
       "│ 《互联网黑历史现状》            │ 《你看看》                         │ [0.604, 0.396]   │\n",
       "└─────────────────────────────────┴────────────────────────────────────┴──────────────────┘\n"
      ]
     },
     "metadata": {},
     "output_type": "display_data"
    },
    {
     "data": {
      "text/html": [
       "<pre style=\"white-space:pre;overflow-x:auto;line-height:normal;font-family:Menlo,'DejaVu Sans Mono',consolas,'Courier New',monospace\">┏━━━━━━━━━━━━━━━━━━━━━━━━━━━━━━━━━┳━━━━━━━━━━━━━━━━━━━━━━━━━━━━━━━━┳━━━━━━━━━━━━━━━━━━┓\n",
       "┃<span style=\"font-weight: bold\"> chosen_text                     </span>┃<span style=\"font-weight: bold\"> rejected_text                  </span>┃<span style=\"font-weight: bold\"> logits           </span>┃\n",
       "┡━━━━━━━━━━━━━━━━━━━━━━━━━━━━━━━━━╇━━━━━━━━━━━━━━━━━━━━━━━━━━━━━━━━╇━━━━━━━━━━━━━━━━━━┩\n",
       "│ 感谢认领.                       │ 公主                           │ [0.5949, 0.4051] │\n",
       "├─────────────────────────────────┼────────────────────────────────┼──────────────────┤\n",
       "│ 感谢认领露思好漂亮              │ 感谢认领美丽露宝~              │ [0.5665, 0.4335] │\n",
       "├─────────────────────────────────┼────────────────────────────────┼──────────────────┤\n",
       "│ 感谢认领露思好漂亮              │ 赵露思好美                     │ [0.6969, 0.3031] │\n",
       "├─────────────────────────────────┼────────────────────────────────┼──────────────────┤\n",
       "│ 杀了那么多人 蛇蝎心肠 还不够死� │ 他很好？很好为什么逮捕她？杀人 │ [0.2459, 0.7541] │\n",
       "└─────────────────────────────────┴────────────────────────────────┴──────────────────┘\n",
       "</pre>\n"
      ],
      "text/plain": [
       "┏━━━━━━━━━━━━━━━━━━━━━━━━━━━━━━━━━┳━━━━━━━━━━━━━━━━━━━━━━━━━━━━━━━━┳━━━━━━━━━━━━━━━━━━┓\n",
       "┃\u001b[1m \u001b[0m\u001b[1mchosen_text                    \u001b[0m\u001b[1m \u001b[0m┃\u001b[1m \u001b[0m\u001b[1mrejected_text                 \u001b[0m\u001b[1m \u001b[0m┃\u001b[1m \u001b[0m\u001b[1mlogits          \u001b[0m\u001b[1m \u001b[0m┃\n",
       "┡━━━━━━━━━━━━━━━━━━━━━━━━━━━━━━━━━╇━━━━━━━━━━━━━━━━━━━━━━━━━━━━━━━━╇━━━━━━━━━━━━━━━━━━┩\n",
       "│ 感谢认领.                       │ 公主                           │ [0.5949, 0.4051] │\n",
       "├─────────────────────────────────┼────────────────────────────────┼──────────────────┤\n",
       "│ 感谢认领露思好漂亮              │ 感谢认领美丽露宝~              │ [0.5665, 0.4335] │\n",
       "├─────────────────────────────────┼────────────────────────────────┼──────────────────┤\n",
       "│ 感谢认领露思好漂亮              │ 赵露思好美                     │ [0.6969, 0.3031] │\n",
       "├─────────────────────────────────┼────────────────────────────────┼──────────────────┤\n",
       "│ 杀了那么多人 蛇蝎心肠 还不够死� │ 他很好？很好为什么逮捕她？杀人 │ [0.2459, 0.7541] │\n",
       "└─────────────────────────────────┴────────────────────────────────┴──────────────────┘\n"
      ]
     },
     "metadata": {},
     "output_type": "display_data"
    },
    {
     "name": "stderr",
     "output_type": "stream",
     "text": [
      "/usr/local/lib/python3.8/dist-packages/transformers/tokenization_utils_base.py:2778: UserWarning: `max_length` is ignored when `padding`=`True` and there is no truncation strategy. To pad to max length, use `padding='max_length'`.\n",
      "  warnings.warn(\n",
      "/usr/local/lib/python3.8/dist-packages/trl/trainer/utils.py:599: UserWarning: There are 22 out of 3451 instances where the predictions for both options are equal. As a consequence the accuracy can be misleading.\n",
      "  warnings.warn(\n",
      "/usr/local/lib/python3.8/dist-packages/transformers/tokenization_utils_base.py:2778: UserWarning: `max_length` is ignored when `padding`=`True` and there is no truncation strategy. To pad to max length, use `padding='max_length'`.\n",
      "  warnings.warn(\n",
      "/usr/local/lib/python3.8/dist-packages/torch/utils/checkpoint.py:464: UserWarning: torch.utils.checkpoint: the use_reentrant parameter should be passed explicitly. In version 2.4 we will raise an exception if use_reentrant is not passed. use_reentrant=False is recommended, but if you need to preserve the current default behavior, you can pass use_reentrant=True. Refer to docs for more details on the differences between the two variants.\n",
      "  warnings.warn(\n",
      "/usr/local/lib/python3.8/dist-packages/torch/utils/checkpoint.py:91: UserWarning: None of the inputs have requires_grad=True. Gradients will be None\n",
      "  warnings.warn(\n"
     ]
    },
    {
     "data": {
      "text/html": [
       "<pre style=\"white-space:pre;overflow-x:auto;line-height:normal;font-family:Menlo,'DejaVu Sans Mono',consolas,'Courier New',monospace\">┏━━━━━━━━━━━━━━━━━━━━━━━━━━━━━━━━━┳━━━━━━━━━━━━━━━━━━━━━━━━━━━━━━━━━━━━┳━━━━━━━━━━━━━━━━━━┓\n",
       "┃<span style=\"font-weight: bold\"> chosen_text                     </span>┃<span style=\"font-weight: bold\"> rejected_text                      </span>┃<span style=\"font-weight: bold\"> logits           </span>┃\n",
       "┡━━━━━━━━━━━━━━━━━━━━━━━━━━━━━━━━━╇━━━━━━━━━━━━━━━━━━━━━━━━━━━━━━━━━━━━╇━━━━━━━━━━━━━━━━━━┩\n",
       "│ 感谢认领.                       │ 公主                               │ [0.673, 0.327]   │\n",
       "├─────────────────────────────────┼────────────────────────────────────┼──────────────────┤\n",
       "│ 感谢认领露思好漂亮              │ 感谢认领美丽露宝~                  │ [0.5894, 0.4106] │\n",
       "├─────────────────────────────────┼────────────────────────────────────┼──────────────────┤\n",
       "│ 感谢认领露思好漂亮              │ 赵露思好美                         │ [0.4283, 0.5717] │\n",
       "├─────────────────────────────────┼────────────────────────────────────┼──────────────────┤\n",
       "│ 杀了那么多人 蛇蝎心肠 还不够死� │ 他很好？很好为什么逮捕她？杀人     │ [0.305, 0.695]   │\n",
       "├─────────────────────────────────┼────────────────────────────────────┼──────────────────┤\n",
       "│ 她的辩护律师想通过帮她翻案，    │ 二审维持原判还能上诉吗？           │ [0.3888, 0.6112] │\n",
       "├─────────────────────────────────┼────────────────────────────────────┼──────────────────┤\n",
       "│ 妈的 这个律师有点良心吧 维持原  │ 感谢认领.                          │ [0.5264, 0.4736] │\n",
       "├─────────────────────────────────┼────────────────────────────────────┼──────────────────┤\n",
       "│ 她的辩护律师想通过帮她翻案，    │ 她家人没事吧？果然不是一家人，不进 │ [0.3697, 0.6303] │\n",
       "├─────────────────────────────────┼────────────────────────────────────┼──────────────────┤\n",
       "│ 《互联网黑历史现状》            │ 《你看看》                         │ [0.6021, 0.3979] │\n",
       "└─────────────────────────────────┴────────────────────────────────────┴──────────────────┘\n",
       "</pre>\n"
      ],
      "text/plain": [
       "┏━━━━━━━━━━━━━━━━━━━━━━━━━━━━━━━━━┳━━━━━━━━━━━━━━━━━━━━━━━━━━━━━━━━━━━━┳━━━━━━━━━━━━━━━━━━┓\n",
       "┃\u001b[1m \u001b[0m\u001b[1mchosen_text                    \u001b[0m\u001b[1m \u001b[0m┃\u001b[1m \u001b[0m\u001b[1mrejected_text                     \u001b[0m\u001b[1m \u001b[0m┃\u001b[1m \u001b[0m\u001b[1mlogits          \u001b[0m\u001b[1m \u001b[0m┃\n",
       "┡━━━━━━━━━━━━━━━━━━━━━━━━━━━━━━━━━╇━━━━━━━━━━━━━━━━━━━━━━━━━━━━━━━━━━━━╇━━━━━━━━━━━━━━━━━━┩\n",
       "│ 感谢认领.                       │ 公主                               │ [0.673, 0.327]   │\n",
       "├─────────────────────────────────┼────────────────────────────────────┼──────────────────┤\n",
       "│ 感谢认领露思好漂亮              │ 感谢认领美丽露宝~                  │ [0.5894, 0.4106] │\n",
       "├─────────────────────────────────┼────────────────────────────────────┼──────────────────┤\n",
       "│ 感谢认领露思好漂亮              │ 赵露思好美                         │ [0.4283, 0.5717] │\n",
       "├─────────────────────────────────┼────────────────────────────────────┼──────────────────┤\n",
       "│ 杀了那么多人 蛇蝎心肠 还不够死� │ 他很好？很好为什么逮捕她？杀人     │ [0.305, 0.695]   │\n",
       "├─────────────────────────────────┼────────────────────────────────────┼──────────────────┤\n",
       "│ 她的辩护律师想通过帮她翻案，    │ 二审维持原判还能上诉吗？           │ [0.3888, 0.6112] │\n",
       "├─────────────────────────────────┼────────────────────────────────────┼──────────────────┤\n",
       "│ 妈的 这个律师有点良心吧 维持原  │ 感谢认领.                          │ [0.5264, 0.4736] │\n",
       "├─────────────────────────────────┼────────────────────────────────────┼──────────────────┤\n",
       "│ 她的辩护律师想通过帮她翻案，    │ 她家人没事吧？果然不是一家人，不进 │ [0.3697, 0.6303] │\n",
       "├─────────────────────────────────┼────────────────────────────────────┼──────────────────┤\n",
       "│ 《互联网黑历史现状》            │ 《你看看》                         │ [0.6021, 0.3979] │\n",
       "└─────────────────────────────────┴────────────────────────────────────┴──────────────────┘\n"
      ]
     },
     "metadata": {},
     "output_type": "display_data"
    },
    {
     "data": {
      "text/html": [
       "<pre style=\"white-space:pre;overflow-x:auto;line-height:normal;font-family:Menlo,'DejaVu Sans Mono',consolas,'Courier New',monospace\">┏━━━━━━━━━━━━━━━━━━━━━━━━━━━━━━━━━┳━━━━━━━━━━━━━━━━━━━━━━━━━━━━━━━━┳━━━━━━━━━━━━━━━━━━┓\n",
       "┃<span style=\"font-weight: bold\"> chosen_text                     </span>┃<span style=\"font-weight: bold\"> rejected_text                  </span>┃<span style=\"font-weight: bold\"> logits           </span>┃\n",
       "┡━━━━━━━━━━━━━━━━━━━━━━━━━━━━━━━━━╇━━━━━━━━━━━━━━━━━━━━━━━━━━━━━━━━╇━━━━━━━━━━━━━━━━━━┩\n",
       "│ 感谢认领.                       │ 公主                           │ [0.673, 0.327]   │\n",
       "├─────────────────────────────────┼────────────────────────────────┼──────────────────┤\n",
       "│ 感谢认领露思好漂亮              │ 感谢认领美丽露宝~              │ [0.5894, 0.4106] │\n",
       "├─────────────────────────────────┼────────────────────────────────┼──────────────────┤\n",
       "│ 感谢认领露思好漂亮              │ 赵露思好美                     │ [0.4283, 0.5717] │\n",
       "├─────────────────────────────────┼────────────────────────────────┼──────────────────┤\n",
       "│ 杀了那么多人 蛇蝎心肠 还不够死� │ 他很好？很好为什么逮捕她？杀人 │ [0.305, 0.695]   │\n",
       "└─────────────────────────────────┴────────────────────────────────┴──────────────────┘\n",
       "</pre>\n"
      ],
      "text/plain": [
       "┏━━━━━━━━━━━━━━━━━━━━━━━━━━━━━━━━━┳━━━━━━━━━━━━━━━━━━━━━━━━━━━━━━━━┳━━━━━━━━━━━━━━━━━━┓\n",
       "┃\u001b[1m \u001b[0m\u001b[1mchosen_text                    \u001b[0m\u001b[1m \u001b[0m┃\u001b[1m \u001b[0m\u001b[1mrejected_text                 \u001b[0m\u001b[1m \u001b[0m┃\u001b[1m \u001b[0m\u001b[1mlogits          \u001b[0m\u001b[1m \u001b[0m┃\n",
       "┡━━━━━━━━━━━━━━━━━━━━━━━━━━━━━━━━━╇━━━━━━━━━━━━━━━━━━━━━━━━━━━━━━━━╇━━━━━━━━━━━━━━━━━━┩\n",
       "│ 感谢认领.                       │ 公主                           │ [0.673, 0.327]   │\n",
       "├─────────────────────────────────┼────────────────────────────────┼──────────────────┤\n",
       "│ 感谢认领露思好漂亮              │ 感谢认领美丽露宝~              │ [0.5894, 0.4106] │\n",
       "├─────────────────────────────────┼────────────────────────────────┼──────────────────┤\n",
       "│ 感谢认领露思好漂亮              │ 赵露思好美                     │ [0.4283, 0.5717] │\n",
       "├─────────────────────────────────┼────────────────────────────────┼──────────────────┤\n",
       "│ 杀了那么多人 蛇蝎心肠 还不够死� │ 他很好？很好为什么逮捕她？杀人 │ [0.305, 0.695]   │\n",
       "└─────────────────────────────────┴────────────────────────────────┴──────────────────┘\n"
      ]
     },
     "metadata": {},
     "output_type": "display_data"
    },
    {
     "name": "stderr",
     "output_type": "stream",
     "text": [
      "/usr/local/lib/python3.8/dist-packages/transformers/tokenization_utils_base.py:2778: UserWarning: `max_length` is ignored when `padding`=`True` and there is no truncation strategy. To pad to max length, use `padding='max_length'`.\n",
      "  warnings.warn(\n",
      "/usr/local/lib/python3.8/dist-packages/trl/trainer/utils.py:599: UserWarning: There are 22 out of 3451 instances where the predictions for both options are equal. As a consequence the accuracy can be misleading.\n",
      "  warnings.warn(\n",
      "/usr/local/lib/python3.8/dist-packages/transformers/tokenization_utils_base.py:2778: UserWarning: `max_length` is ignored when `padding`=`True` and there is no truncation strategy. To pad to max length, use `padding='max_length'`.\n",
      "  warnings.warn(\n",
      "/usr/local/lib/python3.8/dist-packages/torch/utils/checkpoint.py:464: UserWarning: torch.utils.checkpoint: the use_reentrant parameter should be passed explicitly. In version 2.4 we will raise an exception if use_reentrant is not passed. use_reentrant=False is recommended, but if you need to preserve the current default behavior, you can pass use_reentrant=True. Refer to docs for more details on the differences between the two variants.\n",
      "  warnings.warn(\n",
      "/usr/local/lib/python3.8/dist-packages/torch/utils/checkpoint.py:91: UserWarning: None of the inputs have requires_grad=True. Gradients will be None\n",
      "  warnings.warn(\n"
     ]
    },
    {
     "data": {
      "text/html": [
       "<pre style=\"white-space:pre;overflow-x:auto;line-height:normal;font-family:Menlo,'DejaVu Sans Mono',consolas,'Courier New',monospace\">┏━━━━━━━━━━━━━━━━━━━━━━━━━━━━━━━━━┳━━━━━━━━━━━━━━━━━━━━━━━━━━━━━━━━━━━━┳━━━━━━━━━━━━━━━━━━┓\n",
       "┃<span style=\"font-weight: bold\"> chosen_text                     </span>┃<span style=\"font-weight: bold\"> rejected_text                      </span>┃<span style=\"font-weight: bold\"> logits           </span>┃\n",
       "┡━━━━━━━━━━━━━━━━━━━━━━━━━━━━━━━━━╇━━━━━━━━━━━━━━━━━━━━━━━━━━━━━━━━━━━━╇━━━━━━━━━━━━━━━━━━┩\n",
       "│ 感谢认领.                       │ 公主                               │ [0.5507, 0.4493] │\n",
       "├─────────────────────────────────┼────────────────────────────────────┼──────────────────┤\n",
       "│ 感谢认领露思好漂亮              │ 感谢认领美丽露宝~                  │ [0.5324, 0.4676] │\n",
       "├─────────────────────────────────┼────────────────────────────────────┼──────────────────┤\n",
       "│ 感谢认领露思好漂亮              │ 赵露思好美                         │ [0.469, 0.531]   │\n",
       "├─────────────────────────────────┼────────────────────────────────────┼──────────────────┤\n",
       "│ 杀了那么多人 蛇蝎心肠 还不够死� │ 他很好？很好为什么逮捕她？杀人     │ [0.3256, 0.6744] │\n",
       "├─────────────────────────────────┼────────────────────────────────────┼──────────────────┤\n",
       "│ 她的辩护律师想通过帮她翻案，    │ 二审维持原判还能上诉吗？           │ [0.5209, 0.4791] │\n",
       "├─────────────────────────────────┼────────────────────────────────────┼──────────────────┤\n",
       "│ 妈的 这个律师有点良心吧 维持原  │ 感谢认领.                          │ [0.6328, 0.3672] │\n",
       "├─────────────────────────────────┼────────────────────────────────────┼──────────────────┤\n",
       "│ 她的辩护律师想通过帮她翻案，    │ 她家人没事吧？果然不是一家人，不进 │ [0.3934, 0.6066] │\n",
       "├─────────────────────────────────┼────────────────────────────────────┼──────────────────┤\n",
       "│ 《互联网黑历史现状》            │ 《你看看》                         │ [0.7718, 0.2282] │\n",
       "└─────────────────────────────────┴────────────────────────────────────┴──────────────────┘\n",
       "</pre>\n"
      ],
      "text/plain": [
       "┏━━━━━━━━━━━━━━━━━━━━━━━━━━━━━━━━━┳━━━━━━━━━━━━━━━━━━━━━━━━━━━━━━━━━━━━┳━━━━━━━━━━━━━━━━━━┓\n",
       "┃\u001b[1m \u001b[0m\u001b[1mchosen_text                    \u001b[0m\u001b[1m \u001b[0m┃\u001b[1m \u001b[0m\u001b[1mrejected_text                     \u001b[0m\u001b[1m \u001b[0m┃\u001b[1m \u001b[0m\u001b[1mlogits          \u001b[0m\u001b[1m \u001b[0m┃\n",
       "┡━━━━━━━━━━━━━━━━━━━━━━━━━━━━━━━━━╇━━━━━━━━━━━━━━━━━━━━━━━━━━━━━━━━━━━━╇━━━━━━━━━━━━━━━━━━┩\n",
       "│ 感谢认领.                       │ 公主                               │ [0.5507, 0.4493] │\n",
       "├─────────────────────────────────┼────────────────────────────────────┼──────────────────┤\n",
       "│ 感谢认领露思好漂亮              │ 感谢认领美丽露宝~                  │ [0.5324, 0.4676] │\n",
       "├─────────────────────────────────┼────────────────────────────────────┼──────────────────┤\n",
       "│ 感谢认领露思好漂亮              │ 赵露思好美                         │ [0.469, 0.531]   │\n",
       "├─────────────────────────────────┼────────────────────────────────────┼──────────────────┤\n",
       "│ 杀了那么多人 蛇蝎心肠 还不够死� │ 他很好？很好为什么逮捕她？杀人     │ [0.3256, 0.6744] │\n",
       "├─────────────────────────────────┼────────────────────────────────────┼──────────────────┤\n",
       "│ 她的辩护律师想通过帮她翻案，    │ 二审维持原判还能上诉吗？           │ [0.5209, 0.4791] │\n",
       "├─────────────────────────────────┼────────────────────────────────────┼──────────────────┤\n",
       "│ 妈的 这个律师有点良心吧 维持原  │ 感谢认领.                          │ [0.6328, 0.3672] │\n",
       "├─────────────────────────────────┼────────────────────────────────────┼──────────────────┤\n",
       "│ 她的辩护律师想通过帮她翻案，    │ 她家人没事吧？果然不是一家人，不进 │ [0.3934, 0.6066] │\n",
       "├─────────────────────────────────┼────────────────────────────────────┼──────────────────┤\n",
       "│ 《互联网黑历史现状》            │ 《你看看》                         │ [0.7718, 0.2282] │\n",
       "└─────────────────────────────────┴────────────────────────────────────┴──────────────────┘\n"
      ]
     },
     "metadata": {},
     "output_type": "display_data"
    },
    {
     "data": {
      "text/html": [
       "<pre style=\"white-space:pre;overflow-x:auto;line-height:normal;font-family:Menlo,'DejaVu Sans Mono',consolas,'Courier New',monospace\">┏━━━━━━━━━━━━━━━━━━━━━━━━━━━━━━━━━┳━━━━━━━━━━━━━━━━━━━━━━━━━━━━━━━━┳━━━━━━━━━━━━━━━━━━┓\n",
       "┃<span style=\"font-weight: bold\"> chosen_text                     </span>┃<span style=\"font-weight: bold\"> rejected_text                  </span>┃<span style=\"font-weight: bold\"> logits           </span>┃\n",
       "┡━━━━━━━━━━━━━━━━━━━━━━━━━━━━━━━━━╇━━━━━━━━━━━━━━━━━━━━━━━━━━━━━━━━╇━━━━━━━━━━━━━━━━━━┩\n",
       "│ 感谢认领.                       │ 公主                           │ [0.5507, 0.4493] │\n",
       "├─────────────────────────────────┼────────────────────────────────┼──────────────────┤\n",
       "│ 感谢认领露思好漂亮              │ 感谢认领美丽露宝~              │ [0.5324, 0.4676] │\n",
       "├─────────────────────────────────┼────────────────────────────────┼──────────────────┤\n",
       "│ 感谢认领露思好漂亮              │ 赵露思好美                     │ [0.469, 0.531]   │\n",
       "├─────────────────────────────────┼────────────────────────────────┼──────────────────┤\n",
       "│ 杀了那么多人 蛇蝎心肠 还不够死� │ 他很好？很好为什么逮捕她？杀人 │ [0.3256, 0.6744] │\n",
       "└─────────────────────────────────┴────────────────────────────────┴──────────────────┘\n",
       "</pre>\n"
      ],
      "text/plain": [
       "┏━━━━━━━━━━━━━━━━━━━━━━━━━━━━━━━━━┳━━━━━━━━━━━━━━━━━━━━━━━━━━━━━━━━┳━━━━━━━━━━━━━━━━━━┓\n",
       "┃\u001b[1m \u001b[0m\u001b[1mchosen_text                    \u001b[0m\u001b[1m \u001b[0m┃\u001b[1m \u001b[0m\u001b[1mrejected_text                 \u001b[0m\u001b[1m \u001b[0m┃\u001b[1m \u001b[0m\u001b[1mlogits          \u001b[0m\u001b[1m \u001b[0m┃\n",
       "┡━━━━━━━━━━━━━━━━━━━━━━━━━━━━━━━━━╇━━━━━━━━━━━━━━━━━━━━━━━━━━━━━━━━╇━━━━━━━━━━━━━━━━━━┩\n",
       "│ 感谢认领.                       │ 公主                           │ [0.5507, 0.4493] │\n",
       "├─────────────────────────────────┼────────────────────────────────┼──────────────────┤\n",
       "│ 感谢认领露思好漂亮              │ 感谢认领美丽露宝~              │ [0.5324, 0.4676] │\n",
       "├─────────────────────────────────┼────────────────────────────────┼──────────────────┤\n",
       "│ 感谢认领露思好漂亮              │ 赵露思好美                     │ [0.469, 0.531]   │\n",
       "├─────────────────────────────────┼────────────────────────────────┼──────────────────┤\n",
       "│ 杀了那么多人 蛇蝎心肠 还不够死� │ 他很好？很好为什么逮捕她？杀人 │ [0.3256, 0.6744] │\n",
       "└─────────────────────────────────┴────────────────────────────────┴──────────────────┘\n"
      ]
     },
     "metadata": {},
     "output_type": "display_data"
    },
    {
     "name": "stderr",
     "output_type": "stream",
     "text": [
      "/usr/local/lib/python3.8/dist-packages/transformers/tokenization_utils_base.py:2778: UserWarning: `max_length` is ignored when `padding`=`True` and there is no truncation strategy. To pad to max length, use `padding='max_length'`.\n",
      "  warnings.warn(\n",
      "/usr/local/lib/python3.8/dist-packages/trl/trainer/utils.py:599: UserWarning: There are 22 out of 3451 instances where the predictions for both options are equal. As a consequence the accuracy can be misleading.\n",
      "  warnings.warn(\n",
      "/usr/local/lib/python3.8/dist-packages/transformers/tokenization_utils_base.py:2778: UserWarning: `max_length` is ignored when `padding`=`True` and there is no truncation strategy. To pad to max length, use `padding='max_length'`.\n",
      "  warnings.warn(\n",
      "/usr/local/lib/python3.8/dist-packages/torch/utils/checkpoint.py:464: UserWarning: torch.utils.checkpoint: the use_reentrant parameter should be passed explicitly. In version 2.4 we will raise an exception if use_reentrant is not passed. use_reentrant=False is recommended, but if you need to preserve the current default behavior, you can pass use_reentrant=True. Refer to docs for more details on the differences between the two variants.\n",
      "  warnings.warn(\n",
      "/usr/local/lib/python3.8/dist-packages/torch/utils/checkpoint.py:91: UserWarning: None of the inputs have requires_grad=True. Gradients will be None\n",
      "  warnings.warn(\n"
     ]
    },
    {
     "data": {
      "text/html": [
       "<pre style=\"white-space:pre;overflow-x:auto;line-height:normal;font-family:Menlo,'DejaVu Sans Mono',consolas,'Courier New',monospace\">┏━━━━━━━━━━━━━━━━━━━━━━━━━━━━━━━━━┳━━━━━━━━━━━━━━━━━━━━━━━━━━━━━━━━━━━━┳━━━━━━━━━━━━━━━━━━┓\n",
       "┃<span style=\"font-weight: bold\"> chosen_text                     </span>┃<span style=\"font-weight: bold\"> rejected_text                      </span>┃<span style=\"font-weight: bold\"> logits           </span>┃\n",
       "┡━━━━━━━━━━━━━━━━━━━━━━━━━━━━━━━━━╇━━━━━━━━━━━━━━━━━━━━━━━━━━━━━━━━━━━━╇━━━━━━━━━━━━━━━━━━┩\n",
       "│ 感谢认领.                       │ 公主                               │ [0.7138, 0.2862] │\n",
       "├─────────────────────────────────┼────────────────────────────────────┼──────────────────┤\n",
       "│ 感谢认领露思好漂亮              │ 感谢认领美丽露宝~                  │ [0.5651, 0.4349] │\n",
       "├─────────────────────────────────┼────────────────────────────────────┼──────────────────┤\n",
       "│ 感谢认领露思好漂亮              │ 赵露思好美                         │ [0.6899, 0.3101] │\n",
       "├─────────────────────────────────┼────────────────────────────────────┼──────────────────┤\n",
       "│ 杀了那么多人 蛇蝎心肠 还不够死� │ 他很好？很好为什么逮捕她？杀人     │ [0.1511, 0.8489] │\n",
       "├─────────────────────────────────┼────────────────────────────────────┼──────────────────┤\n",
       "│ 她的辩护律师想通过帮她翻案，    │ 二审维持原判还能上诉吗？           │ [0.2988, 0.7012] │\n",
       "├─────────────────────────────────┼────────────────────────────────────┼──────────────────┤\n",
       "│ 妈的 这个律师有点良心吧 维持原  │ 感谢认领.                          │ [0.5677, 0.4323] │\n",
       "├─────────────────────────────────┼────────────────────────────────────┼──────────────────┤\n",
       "│ 她的辩护律师想通过帮她翻案，    │ 她家人没事吧？果然不是一家人，不进 │ [0.3928, 0.6072] │\n",
       "├─────────────────────────────────┼────────────────────────────────────┼──────────────────┤\n",
       "│ 《互联网黑历史现状》            │ 《你看看》                         │ [0.5694, 0.4306] │\n",
       "└─────────────────────────────────┴────────────────────────────────────┴──────────────────┘\n",
       "</pre>\n"
      ],
      "text/plain": [
       "┏━━━━━━━━━━━━━━━━━━━━━━━━━━━━━━━━━┳━━━━━━━━━━━━━━━━━━━━━━━━━━━━━━━━━━━━┳━━━━━━━━━━━━━━━━━━┓\n",
       "┃\u001b[1m \u001b[0m\u001b[1mchosen_text                    \u001b[0m\u001b[1m \u001b[0m┃\u001b[1m \u001b[0m\u001b[1mrejected_text                     \u001b[0m\u001b[1m \u001b[0m┃\u001b[1m \u001b[0m\u001b[1mlogits          \u001b[0m\u001b[1m \u001b[0m┃\n",
       "┡━━━━━━━━━━━━━━━━━━━━━━━━━━━━━━━━━╇━━━━━━━━━━━━━━━━━━━━━━━━━━━━━━━━━━━━╇━━━━━━━━━━━━━━━━━━┩\n",
       "│ 感谢认领.                       │ 公主                               │ [0.7138, 0.2862] │\n",
       "├─────────────────────────────────┼────────────────────────────────────┼──────────────────┤\n",
       "│ 感谢认领露思好漂亮              │ 感谢认领美丽露宝~                  │ [0.5651, 0.4349] │\n",
       "├─────────────────────────────────┼────────────────────────────────────┼──────────────────┤\n",
       "│ 感谢认领露思好漂亮              │ 赵露思好美                         │ [0.6899, 0.3101] │\n",
       "├─────────────────────────────────┼────────────────────────────────────┼──────────────────┤\n",
       "│ 杀了那么多人 蛇蝎心肠 还不够死� │ 他很好？很好为什么逮捕她？杀人     │ [0.1511, 0.8489] │\n",
       "├─────────────────────────────────┼────────────────────────────────────┼──────────────────┤\n",
       "│ 她的辩护律师想通过帮她翻案，    │ 二审维持原判还能上诉吗？           │ [0.2988, 0.7012] │\n",
       "├─────────────────────────────────┼────────────────────────────────────┼──────────────────┤\n",
       "│ 妈的 这个律师有点良心吧 维持原  │ 感谢认领.                          │ [0.5677, 0.4323] │\n",
       "├─────────────────────────────────┼────────────────────────────────────┼──────────────────┤\n",
       "│ 她的辩护律师想通过帮她翻案，    │ 她家人没事吧？果然不是一家人，不进 │ [0.3928, 0.6072] │\n",
       "├─────────────────────────────────┼────────────────────────────────────┼──────────────────┤\n",
       "│ 《互联网黑历史现状》            │ 《你看看》                         │ [0.5694, 0.4306] │\n",
       "└─────────────────────────────────┴────────────────────────────────────┴──────────────────┘\n"
      ]
     },
     "metadata": {},
     "output_type": "display_data"
    },
    {
     "data": {
      "text/html": [
       "<pre style=\"white-space:pre;overflow-x:auto;line-height:normal;font-family:Menlo,'DejaVu Sans Mono',consolas,'Courier New',monospace\">┏━━━━━━━━━━━━━━━━━━━━━━━━━━━━━━━━━┳━━━━━━━━━━━━━━━━━━━━━━━━━━━━━━━━┳━━━━━━━━━━━━━━━━━━┓\n",
       "┃<span style=\"font-weight: bold\"> chosen_text                     </span>┃<span style=\"font-weight: bold\"> rejected_text                  </span>┃<span style=\"font-weight: bold\"> logits           </span>┃\n",
       "┡━━━━━━━━━━━━━━━━━━━━━━━━━━━━━━━━━╇━━━━━━━━━━━━━━━━━━━━━━━━━━━━━━━━╇━━━━━━━━━━━━━━━━━━┩\n",
       "│ 感谢认领.                       │ 公主                           │ [0.7138, 0.2862] │\n",
       "├─────────────────────────────────┼────────────────────────────────┼──────────────────┤\n",
       "│ 感谢认领露思好漂亮              │ 感谢认领美丽露宝~              │ [0.5651, 0.4349] │\n",
       "├─────────────────────────────────┼────────────────────────────────┼──────────────────┤\n",
       "│ 感谢认领露思好漂亮              │ 赵露思好美                     │ [0.6899, 0.3101] │\n",
       "├─────────────────────────────────┼────────────────────────────────┼──────────────────┤\n",
       "│ 杀了那么多人 蛇蝎心肠 还不够死� │ 他很好？很好为什么逮捕她？杀人 │ [0.1511, 0.8489] │\n",
       "└─────────────────────────────────┴────────────────────────────────┴──────────────────┘\n",
       "</pre>\n"
      ],
      "text/plain": [
       "┏━━━━━━━━━━━━━━━━━━━━━━━━━━━━━━━━━┳━━━━━━━━━━━━━━━━━━━━━━━━━━━━━━━━┳━━━━━━━━━━━━━━━━━━┓\n",
       "┃\u001b[1m \u001b[0m\u001b[1mchosen_text                    \u001b[0m\u001b[1m \u001b[0m┃\u001b[1m \u001b[0m\u001b[1mrejected_text                 \u001b[0m\u001b[1m \u001b[0m┃\u001b[1m \u001b[0m\u001b[1mlogits          \u001b[0m\u001b[1m \u001b[0m┃\n",
       "┡━━━━━━━━━━━━━━━━━━━━━━━━━━━━━━━━━╇━━━━━━━━━━━━━━━━━━━━━━━━━━━━━━━━╇━━━━━━━━━━━━━━━━━━┩\n",
       "│ 感谢认领.                       │ 公主                           │ [0.7138, 0.2862] │\n",
       "├─────────────────────────────────┼────────────────────────────────┼──────────────────┤\n",
       "│ 感谢认领露思好漂亮              │ 感谢认领美丽露宝~              │ [0.5651, 0.4349] │\n",
       "├─────────────────────────────────┼────────────────────────────────┼──────────────────┤\n",
       "│ 感谢认领露思好漂亮              │ 赵露思好美                     │ [0.6899, 0.3101] │\n",
       "├─────────────────────────────────┼────────────────────────────────┼──────────────────┤\n",
       "│ 杀了那么多人 蛇蝎心肠 还不够死� │ 他很好？很好为什么逮捕她？杀人 │ [0.1511, 0.8489] │\n",
       "└─────────────────────────────────┴────────────────────────────────┴──────────────────┘\n"
      ]
     },
     "metadata": {},
     "output_type": "display_data"
    },
    {
     "name": "stderr",
     "output_type": "stream",
     "text": [
      "/usr/local/lib/python3.8/dist-packages/transformers/tokenization_utils_base.py:2778: UserWarning: `max_length` is ignored when `padding`=`True` and there is no truncation strategy. To pad to max length, use `padding='max_length'`.\n",
      "  warnings.warn(\n",
      "/usr/local/lib/python3.8/dist-packages/trl/trainer/utils.py:599: UserWarning: There are 22 out of 3451 instances where the predictions for both options are equal. As a consequence the accuracy can be misleading.\n",
      "  warnings.warn(\n",
      "/usr/local/lib/python3.8/dist-packages/transformers/tokenization_utils_base.py:2778: UserWarning: `max_length` is ignored when `padding`=`True` and there is no truncation strategy. To pad to max length, use `padding='max_length'`.\n",
      "  warnings.warn(\n",
      "/usr/local/lib/python3.8/dist-packages/torch/utils/checkpoint.py:464: UserWarning: torch.utils.checkpoint: the use_reentrant parameter should be passed explicitly. In version 2.4 we will raise an exception if use_reentrant is not passed. use_reentrant=False is recommended, but if you need to preserve the current default behavior, you can pass use_reentrant=True. Refer to docs for more details on the differences between the two variants.\n",
      "  warnings.warn(\n",
      "/usr/local/lib/python3.8/dist-packages/torch/utils/checkpoint.py:91: UserWarning: None of the inputs have requires_grad=True. Gradients will be None\n",
      "  warnings.warn(\n"
     ]
    }
   ],
   "source": [
    "trainer = RewardTrainer(\n",
    "    model=rm_model,\n",
    "    tokenizer=tokenizer,\n",
    "    args=config,\n",
    "    train_dataset=rm_train_dataset,\n",
    "    eval_dataset=rm_eval_dataset,\n",
    "    peft_config=peft_config,\n",
    ")\n",
    "trainer.train()\n",
    "trainer.save_model(config.output_dir)"
   ]
  },
  {
   "cell_type": "code",
   "execution_count": null,
   "id": "74d369e5-b2f8-4dd9-a0f9-08d7f4c44a68",
   "metadata": {},
   "outputs": [],
   "source": [
    "### Third Formal Trial (Failed, Gradient Explosion) bs = 32, lr = 2e-2, 150 epochs, g_c = 1"
   ]
  },
  {
   "cell_type": "code",
   "execution_count": 33,
   "id": "7254ae59-862d-4b51-9b21-a08103ddf2aa",
   "metadata": {},
   "outputs": [
    {
     "name": "stderr",
     "output_type": "stream",
     "text": [
      "Detected kernel version 5.4.0, which is below the recommended minimum of 5.5.0; this can cause the process to hang. It is recommended to upgrade the kernel to the minimum version or higher.\n",
      "/usr/local/lib/python3.8/dist-packages/transformers/tokenization_utils_base.py:2778: UserWarning: `max_length` is ignored when `padding`=`True` and there is no truncation strategy. To pad to max length, use `padding='max_length'`.\n",
      "  warnings.warn(\n",
      "/usr/local/lib/python3.8/dist-packages/torch/utils/checkpoint.py:464: UserWarning: torch.utils.checkpoint: the use_reentrant parameter should be passed explicitly. In version 2.4 we will raise an exception if use_reentrant is not passed. use_reentrant=False is recommended, but if you need to preserve the current default behavior, you can pass use_reentrant=True. Refer to docs for more details on the differences between the two variants.\n",
      "  warnings.warn(\n"
     ]
    },
    {
     "data": {
      "text/html": [
       "\n",
       "    <div>\n",
       "      \n",
       "      <progress value='2108' max='46950' style='width:300px; height:20px; vertical-align: middle;'></progress>\n",
       "      [ 2108/46950 03:04 < 1:05:28, 11.41 it/s, Epoch 6.73/150]\n",
       "    </div>\n",
       "    <table border=\"1\" class=\"dataframe\">\n",
       "  <thead>\n",
       " <tr style=\"text-align: left;\">\n",
       "      <th>Step</th>\n",
       "      <th>Training Loss</th>\n",
       "      <th>Validation Loss</th>\n",
       "      <th>Accuracy</th>\n",
       "    </tr>\n",
       "  </thead>\n",
       "  <tbody>\n",
       "    <tr>\n",
       "      <td>500</td>\n",
       "      <td>0.758700</td>\n",
       "      <td>0.691762</td>\n",
       "      <td>0.525065</td>\n",
       "    </tr>\n",
       "    <tr>\n",
       "      <td>1000</td>\n",
       "      <td>0.730000</td>\n",
       "      <td>0.692003</td>\n",
       "      <td>0.532889</td>\n",
       "    </tr>\n",
       "    <tr>\n",
       "      <td>1500</td>\n",
       "      <td>0.000000</td>\n",
       "      <td>nan</td>\n",
       "      <td>1.000000</td>\n",
       "    </tr>\n",
       "    <tr>\n",
       "      <td>2000</td>\n",
       "      <td>0.000000</td>\n",
       "      <td>nan</td>\n",
       "      <td>1.000000</td>\n",
       "    </tr>\n",
       "  </tbody>\n",
       "</table><p>"
      ],
      "text/plain": [
       "<IPython.core.display.HTML object>"
      ]
     },
     "metadata": {},
     "output_type": "display_data"
    },
    {
     "name": "stderr",
     "output_type": "stream",
     "text": [
      "/usr/local/lib/python3.8/dist-packages/torch/utils/checkpoint.py:91: UserWarning: None of the inputs have requires_grad=True. Gradients will be None\n",
      "  warnings.warn(\n"
     ]
    },
    {
     "data": {
      "text/html": [
       "<pre style=\"white-space:pre;overflow-x:auto;line-height:normal;font-family:Menlo,'DejaVu Sans Mono',consolas,'Courier New',monospace\">┏━━━━━━━━━━━━━━━━━━━━━━━━━━━━━━━━━┳━━━━━━━━━━━━━━━━━━━━━━━━━━━━━━━━━━━━┳━━━━━━━━━━━━━━━━━━┓\n",
       "┃<span style=\"font-weight: bold\"> chosen_text                     </span>┃<span style=\"font-weight: bold\"> rejected_text                      </span>┃<span style=\"font-weight: bold\"> logits           </span>┃\n",
       "┡━━━━━━━━━━━━━━━━━━━━━━━━━━━━━━━━━╇━━━━━━━━━━━━━━━━━━━━━━━━━━━━━━━━━━━━╇━━━━━━━━━━━━━━━━━━┩\n",
       "│ 感谢认领.                       │ 公主                               │ [0.2203, 0.7797] │\n",
       "├─────────────────────────────────┼────────────────────────────────────┼──────────────────┤\n",
       "│ 感谢认领露思好漂亮              │ 感谢认领美丽露宝~                  │ [0.3775, 0.6225] │\n",
       "├─────────────────────────────────┼────────────────────────────────────┼──────────────────┤\n",
       "│ 感谢认领露思好漂亮              │ 赵露思好美                         │ [0.2475, 0.7525] │\n",
       "├─────────────────────────────────┼────────────────────────────────────┼──────────────────┤\n",
       "│ 杀了那么多人 蛇蝎心肠 还不够死� │ 他很好？很好为什么逮捕她？杀人     │ [0.6222, 0.3778] │\n",
       "├─────────────────────────────────┼────────────────────────────────────┼──────────────────┤\n",
       "│ 她的辩护律师想通过帮她翻案，    │ 二审维持原判还能上诉吗？           │ [0.1966, 0.8034] │\n",
       "├─────────────────────────────────┼────────────────────────────────────┼──────────────────┤\n",
       "│ 妈的 这个律师有点良心吧 维持原  │ 感谢认领.                          │ [0.6084, 0.3916] │\n",
       "├─────────────────────────────────┼────────────────────────────────────┼──────────────────┤\n",
       "│ 她的辩护律师想通过帮她翻案，    │ 她家人没事吧？果然不是一家人，不进 │ [0.603, 0.397]   │\n",
       "├─────────────────────────────────┼────────────────────────────────────┼──────────────────┤\n",
       "│ 《互联网黑历史现状》            │ 《你看看》                         │ [0.5533, 0.4467] │\n",
       "└─────────────────────────────────┴────────────────────────────────────┴──────────────────┘\n",
       "</pre>\n"
      ],
      "text/plain": [
       "┏━━━━━━━━━━━━━━━━━━━━━━━━━━━━━━━━━┳━━━━━━━━━━━━━━━━━━━━━━━━━━━━━━━━━━━━┳━━━━━━━━━━━━━━━━━━┓\n",
       "┃\u001b[1m \u001b[0m\u001b[1mchosen_text                    \u001b[0m\u001b[1m \u001b[0m┃\u001b[1m \u001b[0m\u001b[1mrejected_text                     \u001b[0m\u001b[1m \u001b[0m┃\u001b[1m \u001b[0m\u001b[1mlogits          \u001b[0m\u001b[1m \u001b[0m┃\n",
       "┡━━━━━━━━━━━━━━━━━━━━━━━━━━━━━━━━━╇━━━━━━━━━━━━━━━━━━━━━━━━━━━━━━━━━━━━╇━━━━━━━━━━━━━━━━━━┩\n",
       "│ 感谢认领.                       │ 公主                               │ [0.2203, 0.7797] │\n",
       "├─────────────────────────────────┼────────────────────────────────────┼──────────────────┤\n",
       "│ 感谢认领露思好漂亮              │ 感谢认领美丽露宝~                  │ [0.3775, 0.6225] │\n",
       "├─────────────────────────────────┼────────────────────────────────────┼──────────────────┤\n",
       "│ 感谢认领露思好漂亮              │ 赵露思好美                         │ [0.2475, 0.7525] │\n",
       "├─────────────────────────────────┼────────────────────────────────────┼──────────────────┤\n",
       "│ 杀了那么多人 蛇蝎心肠 还不够死� │ 他很好？很好为什么逮捕她？杀人     │ [0.6222, 0.3778] │\n",
       "├─────────────────────────────────┼────────────────────────────────────┼──────────────────┤\n",
       "│ 她的辩护律师想通过帮她翻案，    │ 二审维持原判还能上诉吗？           │ [0.1966, 0.8034] │\n",
       "├─────────────────────────────────┼────────────────────────────────────┼──────────────────┤\n",
       "│ 妈的 这个律师有点良心吧 维持原  │ 感谢认领.                          │ [0.6084, 0.3916] │\n",
       "├─────────────────────────────────┼────────────────────────────────────┼──────────────────┤\n",
       "│ 她的辩护律师想通过帮她翻案，    │ 她家人没事吧？果然不是一家人，不进 │ [0.603, 0.397]   │\n",
       "├─────────────────────────────────┼────────────────────────────────────┼──────────────────┤\n",
       "│ 《互联网黑历史现状》            │ 《你看看》                         │ [0.5533, 0.4467] │\n",
       "└─────────────────────────────────┴────────────────────────────────────┴──────────────────┘\n"
      ]
     },
     "metadata": {},
     "output_type": "display_data"
    },
    {
     "data": {
      "text/html": [
       "<pre style=\"white-space:pre;overflow-x:auto;line-height:normal;font-family:Menlo,'DejaVu Sans Mono',consolas,'Courier New',monospace\">┏━━━━━━━━━━━━━━━━━━━━━━━━━━━━━━━━━┳━━━━━━━━━━━━━━━━━━━━━━━━━━━━━━━━┳━━━━━━━━━━━━━━━━━━┓\n",
       "┃<span style=\"font-weight: bold\"> chosen_text                     </span>┃<span style=\"font-weight: bold\"> rejected_text                  </span>┃<span style=\"font-weight: bold\"> logits           </span>┃\n",
       "┡━━━━━━━━━━━━━━━━━━━━━━━━━━━━━━━━━╇━━━━━━━━━━━━━━━━━━━━━━━━━━━━━━━━╇━━━━━━━━━━━━━━━━━━┩\n",
       "│ 感谢认领.                       │ 公主                           │ [0.2203, 0.7797] │\n",
       "├─────────────────────────────────┼────────────────────────────────┼──────────────────┤\n",
       "│ 感谢认领露思好漂亮              │ 感谢认领美丽露宝~              │ [0.3775, 0.6225] │\n",
       "├─────────────────────────────────┼────────────────────────────────┼──────────────────┤\n",
       "│ 感谢认领露思好漂亮              │ 赵露思好美                     │ [0.2475, 0.7525] │\n",
       "├─────────────────────────────────┼────────────────────────────────┼──────────────────┤\n",
       "│ 杀了那么多人 蛇蝎心肠 还不够死� │ 他很好？很好为什么逮捕她？杀人 │ [0.6222, 0.3778] │\n",
       "└─────────────────────────────────┴────────────────────────────────┴──────────────────┘\n",
       "</pre>\n"
      ],
      "text/plain": [
       "┏━━━━━━━━━━━━━━━━━━━━━━━━━━━━━━━━━┳━━━━━━━━━━━━━━━━━━━━━━━━━━━━━━━━┳━━━━━━━━━━━━━━━━━━┓\n",
       "┃\u001b[1m \u001b[0m\u001b[1mchosen_text                    \u001b[0m\u001b[1m \u001b[0m┃\u001b[1m \u001b[0m\u001b[1mrejected_text                 \u001b[0m\u001b[1m \u001b[0m┃\u001b[1m \u001b[0m\u001b[1mlogits          \u001b[0m\u001b[1m \u001b[0m┃\n",
       "┡━━━━━━━━━━━━━━━━━━━━━━━━━━━━━━━━━╇━━━━━━━━━━━━━━━━━━━━━━━━━━━━━━━━╇━━━━━━━━━━━━━━━━━━┩\n",
       "│ 感谢认领.                       │ 公主                           │ [0.2203, 0.7797] │\n",
       "├─────────────────────────────────┼────────────────────────────────┼──────────────────┤\n",
       "│ 感谢认领露思好漂亮              │ 感谢认领美丽露宝~              │ [0.3775, 0.6225] │\n",
       "├─────────────────────────────────┼────────────────────────────────┼──────────────────┤\n",
       "│ 感谢认领露思好漂亮              │ 赵露思好美                     │ [0.2475, 0.7525] │\n",
       "├─────────────────────────────────┼────────────────────────────────┼──────────────────┤\n",
       "│ 杀了那么多人 蛇蝎心肠 还不够死� │ 他很好？很好为什么逮捕她？杀人 │ [0.6222, 0.3778] │\n",
       "└─────────────────────────────────┴────────────────────────────────┴──────────────────┘\n"
      ]
     },
     "metadata": {},
     "output_type": "display_data"
    },
    {
     "name": "stderr",
     "output_type": "stream",
     "text": [
      "/usr/local/lib/python3.8/dist-packages/transformers/tokenization_utils_base.py:2778: UserWarning: `max_length` is ignored when `padding`=`True` and there is no truncation strategy. To pad to max length, use `padding='max_length'`.\n",
      "  warnings.warn(\n",
      "/usr/local/lib/python3.8/dist-packages/trl/trainer/utils.py:599: UserWarning: There are 22 out of 3451 instances where the predictions for both options are equal. As a consequence the accuracy can be misleading.\n",
      "  warnings.warn(\n",
      "/usr/local/lib/python3.8/dist-packages/transformers/tokenization_utils_base.py:2778: UserWarning: `max_length` is ignored when `padding`=`True` and there is no truncation strategy. To pad to max length, use `padding='max_length'`.\n",
      "  warnings.warn(\n",
      "/usr/local/lib/python3.8/dist-packages/torch/utils/checkpoint.py:464: UserWarning: torch.utils.checkpoint: the use_reentrant parameter should be passed explicitly. In version 2.4 we will raise an exception if use_reentrant is not passed. use_reentrant=False is recommended, but if you need to preserve the current default behavior, you can pass use_reentrant=True. Refer to docs for more details on the differences between the two variants.\n",
      "  warnings.warn(\n",
      "/usr/local/lib/python3.8/dist-packages/torch/utils/checkpoint.py:91: UserWarning: None of the inputs have requires_grad=True. Gradients will be None\n",
      "  warnings.warn(\n"
     ]
    },
    {
     "data": {
      "text/html": [
       "<pre style=\"white-space:pre;overflow-x:auto;line-height:normal;font-family:Menlo,'DejaVu Sans Mono',consolas,'Courier New',monospace\">┏━━━━━━━━━━━━━━━━━━━━━━━━━━━━━━━━━┳━━━━━━━━━━━━━━━━━━━━━━━━━━━━━━━━━━━━┳━━━━━━━━━━━━━━━━━━┓\n",
       "┃<span style=\"font-weight: bold\"> chosen_text                     </span>┃<span style=\"font-weight: bold\"> rejected_text                      </span>┃<span style=\"font-weight: bold\"> logits           </span>┃\n",
       "┡━━━━━━━━━━━━━━━━━━━━━━━━━━━━━━━━━╇━━━━━━━━━━━━━━━━━━━━━━━━━━━━━━━━━━━━╇━━━━━━━━━━━━━━━━━━┩\n",
       "│ 感谢认领.                       │ 公主                               │ [0.2716, 0.7284] │\n",
       "├─────────────────────────────────┼────────────────────────────────────┼──────────────────┤\n",
       "│ 感谢认领露思好漂亮              │ 感谢认领美丽露宝~                  │ [0.397, 0.603]   │\n",
       "├─────────────────────────────────┼────────────────────────────────────┼──────────────────┤\n",
       "│ 感谢认领露思好漂亮              │ 赵露思好美                         │ [0.2803, 0.7197] │\n",
       "├─────────────────────────────────┼────────────────────────────────────┼──────────────────┤\n",
       "│ 杀了那么多人 蛇蝎心肠 还不够死� │ 他很好？很好为什么逮捕她？杀人     │ [0.5473, 0.4527] │\n",
       "├─────────────────────────────────┼────────────────────────────────────┼──────────────────┤\n",
       "│ 她的辩护律师想通过帮她翻案，    │ 二审维持原判还能上诉吗？           │ [0.5554, 0.4446] │\n",
       "├─────────────────────────────────┼────────────────────────────────────┼──────────────────┤\n",
       "│ 妈的 这个律师有点良心吧 维持原  │ 感谢认领.                          │ [0.7702, 0.2298] │\n",
       "├─────────────────────────────────┼────────────────────────────────────┼──────────────────┤\n",
       "│ 她的辩护律师想通过帮她翻案，    │ 她家人没事吧？果然不是一家人，不进 │ [0.6934, 0.3066] │\n",
       "├─────────────────────────────────┼────────────────────────────────────┼──────────────────┤\n",
       "│ 《互联网黑历史现状》            │ 《你看看》                         │ [0.6952, 0.3048] │\n",
       "└─────────────────────────────────┴────────────────────────────────────┴──────────────────┘\n",
       "</pre>\n"
      ],
      "text/plain": [
       "┏━━━━━━━━━━━━━━━━━━━━━━━━━━━━━━━━━┳━━━━━━━━━━━━━━━━━━━━━━━━━━━━━━━━━━━━┳━━━━━━━━━━━━━━━━━━┓\n",
       "┃\u001b[1m \u001b[0m\u001b[1mchosen_text                    \u001b[0m\u001b[1m \u001b[0m┃\u001b[1m \u001b[0m\u001b[1mrejected_text                     \u001b[0m\u001b[1m \u001b[0m┃\u001b[1m \u001b[0m\u001b[1mlogits          \u001b[0m\u001b[1m \u001b[0m┃\n",
       "┡━━━━━━━━━━━━━━━━━━━━━━━━━━━━━━━━━╇━━━━━━━━━━━━━━━━━━━━━━━━━━━━━━━━━━━━╇━━━━━━━━━━━━━━━━━━┩\n",
       "│ 感谢认领.                       │ 公主                               │ [0.2716, 0.7284] │\n",
       "├─────────────────────────────────┼────────────────────────────────────┼──────────────────┤\n",
       "│ 感谢认领露思好漂亮              │ 感谢认领美丽露宝~                  │ [0.397, 0.603]   │\n",
       "├─────────────────────────────────┼────────────────────────────────────┼──────────────────┤\n",
       "│ 感谢认领露思好漂亮              │ 赵露思好美                         │ [0.2803, 0.7197] │\n",
       "├─────────────────────────────────┼────────────────────────────────────┼──────────────────┤\n",
       "│ 杀了那么多人 蛇蝎心肠 还不够死� │ 他很好？很好为什么逮捕她？杀人     │ [0.5473, 0.4527] │\n",
       "├─────────────────────────────────┼────────────────────────────────────┼──────────────────┤\n",
       "│ 她的辩护律师想通过帮她翻案，    │ 二审维持原判还能上诉吗？           │ [0.5554, 0.4446] │\n",
       "├─────────────────────────────────┼────────────────────────────────────┼──────────────────┤\n",
       "│ 妈的 这个律师有点良心吧 维持原  │ 感谢认领.                          │ [0.7702, 0.2298] │\n",
       "├─────────────────────────────────┼────────────────────────────────────┼──────────────────┤\n",
       "│ 她的辩护律师想通过帮她翻案，    │ 她家人没事吧？果然不是一家人，不进 │ [0.6934, 0.3066] │\n",
       "├─────────────────────────────────┼────────────────────────────────────┼──────────────────┤\n",
       "│ 《互联网黑历史现状》            │ 《你看看》                         │ [0.6952, 0.3048] │\n",
       "└─────────────────────────────────┴────────────────────────────────────┴──────────────────┘\n"
      ]
     },
     "metadata": {},
     "output_type": "display_data"
    },
    {
     "data": {
      "text/html": [
       "<pre style=\"white-space:pre;overflow-x:auto;line-height:normal;font-family:Menlo,'DejaVu Sans Mono',consolas,'Courier New',monospace\">┏━━━━━━━━━━━━━━━━━━━━━━━━━━━━━━━━━┳━━━━━━━━━━━━━━━━━━━━━━━━━━━━━━━━┳━━━━━━━━━━━━━━━━━━┓\n",
       "┃<span style=\"font-weight: bold\"> chosen_text                     </span>┃<span style=\"font-weight: bold\"> rejected_text                  </span>┃<span style=\"font-weight: bold\"> logits           </span>┃\n",
       "┡━━━━━━━━━━━━━━━━━━━━━━━━━━━━━━━━━╇━━━━━━━━━━━━━━━━━━━━━━━━━━━━━━━━╇━━━━━━━━━━━━━━━━━━┩\n",
       "│ 感谢认领.                       │ 公主                           │ [0.2716, 0.7284] │\n",
       "├─────────────────────────────────┼────────────────────────────────┼──────────────────┤\n",
       "│ 感谢认领露思好漂亮              │ 感谢认领美丽露宝~              │ [0.397, 0.603]   │\n",
       "├─────────────────────────────────┼────────────────────────────────┼──────────────────┤\n",
       "│ 感谢认领露思好漂亮              │ 赵露思好美                     │ [0.2803, 0.7197] │\n",
       "├─────────────────────────────────┼────────────────────────────────┼──────────────────┤\n",
       "│ 杀了那么多人 蛇蝎心肠 还不够死� │ 他很好？很好为什么逮捕她？杀人 │ [0.5473, 0.4527] │\n",
       "└─────────────────────────────────┴────────────────────────────────┴──────────────────┘\n",
       "</pre>\n"
      ],
      "text/plain": [
       "┏━━━━━━━━━━━━━━━━━━━━━━━━━━━━━━━━━┳━━━━━━━━━━━━━━━━━━━━━━━━━━━━━━━━┳━━━━━━━━━━━━━━━━━━┓\n",
       "┃\u001b[1m \u001b[0m\u001b[1mchosen_text                    \u001b[0m\u001b[1m \u001b[0m┃\u001b[1m \u001b[0m\u001b[1mrejected_text                 \u001b[0m\u001b[1m \u001b[0m┃\u001b[1m \u001b[0m\u001b[1mlogits          \u001b[0m\u001b[1m \u001b[0m┃\n",
       "┡━━━━━━━━━━━━━━━━━━━━━━━━━━━━━━━━━╇━━━━━━━━━━━━━━━━━━━━━━━━━━━━━━━━╇━━━━━━━━━━━━━━━━━━┩\n",
       "│ 感谢认领.                       │ 公主                           │ [0.2716, 0.7284] │\n",
       "├─────────────────────────────────┼────────────────────────────────┼──────────────────┤\n",
       "│ 感谢认领露思好漂亮              │ 感谢认领美丽露宝~              │ [0.397, 0.603]   │\n",
       "├─────────────────────────────────┼────────────────────────────────┼──────────────────┤\n",
       "│ 感谢认领露思好漂亮              │ 赵露思好美                     │ [0.2803, 0.7197] │\n",
       "├─────────────────────────────────┼────────────────────────────────┼──────────────────┤\n",
       "│ 杀了那么多人 蛇蝎心肠 还不够死� │ 他很好？很好为什么逮捕她？杀人 │ [0.5473, 0.4527] │\n",
       "└─────────────────────────────────┴────────────────────────────────┴──────────────────┘\n"
      ]
     },
     "metadata": {},
     "output_type": "display_data"
    },
    {
     "name": "stderr",
     "output_type": "stream",
     "text": [
      "/usr/local/lib/python3.8/dist-packages/transformers/tokenization_utils_base.py:2778: UserWarning: `max_length` is ignored when `padding`=`True` and there is no truncation strategy. To pad to max length, use `padding='max_length'`.\n",
      "  warnings.warn(\n",
      "/usr/local/lib/python3.8/dist-packages/trl/trainer/utils.py:599: UserWarning: There are 22 out of 3451 instances where the predictions for both options are equal. As a consequence the accuracy can be misleading.\n",
      "  warnings.warn(\n",
      "/usr/local/lib/python3.8/dist-packages/transformers/tokenization_utils_base.py:2778: UserWarning: `max_length` is ignored when `padding`=`True` and there is no truncation strategy. To pad to max length, use `padding='max_length'`.\n",
      "  warnings.warn(\n",
      "/usr/local/lib/python3.8/dist-packages/torch/utils/checkpoint.py:464: UserWarning: torch.utils.checkpoint: the use_reentrant parameter should be passed explicitly. In version 2.4 we will raise an exception if use_reentrant is not passed. use_reentrant=False is recommended, but if you need to preserve the current default behavior, you can pass use_reentrant=True. Refer to docs for more details on the differences between the two variants.\n",
      "  warnings.warn(\n",
      "NaN or Inf found in input tensor.\n",
      "NaN or Inf found in input tensor.\n",
      "NaN or Inf found in input tensor.\n",
      "NaN or Inf found in input tensor.\n",
      "NaN or Inf found in input tensor.\n",
      "NaN or Inf found in input tensor.\n",
      "NaN or Inf found in input tensor.\n",
      "NaN or Inf found in input tensor.\n",
      "NaN or Inf found in input tensor.\n",
      "NaN or Inf found in input tensor.\n",
      "NaN or Inf found in input tensor.\n",
      "NaN or Inf found in input tensor.\n",
      "NaN or Inf found in input tensor.\n",
      "NaN or Inf found in input tensor.\n",
      "NaN or Inf found in input tensor.\n",
      "NaN or Inf found in input tensor.\n",
      "NaN or Inf found in input tensor.\n",
      "NaN or Inf found in input tensor.\n",
      "NaN or Inf found in input tensor.\n",
      "NaN or Inf found in input tensor.\n",
      "NaN or Inf found in input tensor.\n",
      "NaN or Inf found in input tensor.\n",
      "NaN or Inf found in input tensor.\n",
      "NaN or Inf found in input tensor.\n",
      "NaN or Inf found in input tensor.\n",
      "NaN or Inf found in input tensor.\n",
      "NaN or Inf found in input tensor.\n",
      "NaN or Inf found in input tensor.\n",
      "NaN or Inf found in input tensor.\n",
      "NaN or Inf found in input tensor.\n",
      "NaN or Inf found in input tensor.\n",
      "NaN or Inf found in input tensor.\n",
      "NaN or Inf found in input tensor.\n",
      "NaN or Inf found in input tensor.\n",
      "NaN or Inf found in input tensor.\n",
      "NaN or Inf found in input tensor.\n",
      "NaN or Inf found in input tensor.\n",
      "NaN or Inf found in input tensor.\n",
      "NaN or Inf found in input tensor.\n",
      "NaN or Inf found in input tensor.\n",
      "NaN or Inf found in input tensor.\n",
      "NaN or Inf found in input tensor.\n",
      "NaN or Inf found in input tensor.\n",
      "NaN or Inf found in input tensor.\n",
      "NaN or Inf found in input tensor.\n",
      "NaN or Inf found in input tensor.\n",
      "NaN or Inf found in input tensor.\n",
      "NaN or Inf found in input tensor.\n",
      "NaN or Inf found in input tensor.\n",
      "NaN or Inf found in input tensor.\n",
      "/usr/local/lib/python3.8/dist-packages/torch/utils/checkpoint.py:91: UserWarning: None of the inputs have requires_grad=True. Gradients will be None\n",
      "  warnings.warn(\n"
     ]
    },
    {
     "data": {
      "text/html": [
       "<pre style=\"white-space:pre;overflow-x:auto;line-height:normal;font-family:Menlo,'DejaVu Sans Mono',consolas,'Courier New',monospace\">┏━━━━━━━━━━━━━━━━━━━━━━━━━━━━━━━━━┳━━━━━━━━━━━━━━━━━━━━━━━━━━━━━━━━━━━━┳━━━━━━━━┓\n",
       "┃<span style=\"font-weight: bold\"> chosen_text                     </span>┃<span style=\"font-weight: bold\"> rejected_text                      </span>┃<span style=\"font-weight: bold\"> logits </span>┃\n",
       "┡━━━━━━━━━━━━━━━━━━━━━━━━━━━━━━━━━╇━━━━━━━━━━━━━━━━━━━━━━━━━━━━━━━━━━━━╇━━━━━━━━┩\n",
       "│ 感谢认领.                       │ 公主                               │        │\n",
       "├─────────────────────────────────┼────────────────────────────────────┼────────┤\n",
       "│ 感谢认领露思好漂亮              │ 感谢认领美丽露宝~                  │        │\n",
       "├─────────────────────────────────┼────────────────────────────────────┼────────┤\n",
       "│ 感谢认领露思好漂亮              │ 赵露思好美                         │        │\n",
       "├─────────────────────────────────┼────────────────────────────────────┼────────┤\n",
       "│ 杀了那么多人 蛇蝎心肠 还不够死� │ 他很好？很好为什么逮捕她？杀人     │        │\n",
       "├─────────────────────────────────┼────────────────────────────────────┼────────┤\n",
       "│ 她的辩护律师想通过帮她翻案，    │ 二审维持原判还能上诉吗？           │        │\n",
       "├─────────────────────────────────┼────────────────────────────────────┼────────┤\n",
       "│ 妈的 这个律师有点良心吧 维持原  │ 感谢认领.                          │        │\n",
       "├─────────────────────────────────┼────────────────────────────────────┼────────┤\n",
       "│ 她的辩护律师想通过帮她翻案，    │ 她家人没事吧？果然不是一家人，不进 │        │\n",
       "├─────────────────────────────────┼────────────────────────────────────┼────────┤\n",
       "│ 《互联网黑历史现状》            │ 《你看看》                         │        │\n",
       "└─────────────────────────────────┴────────────────────────────────────┴────────┘\n",
       "</pre>\n"
      ],
      "text/plain": [
       "┏━━━━━━━━━━━━━━━━━━━━━━━━━━━━━━━━━┳━━━━━━━━━━━━━━━━━━━━━━━━━━━━━━━━━━━━┳━━━━━━━━┓\n",
       "┃\u001b[1m \u001b[0m\u001b[1mchosen_text                    \u001b[0m\u001b[1m \u001b[0m┃\u001b[1m \u001b[0m\u001b[1mrejected_text                     \u001b[0m\u001b[1m \u001b[0m┃\u001b[1m \u001b[0m\u001b[1mlogits\u001b[0m\u001b[1m \u001b[0m┃\n",
       "┡━━━━━━━━━━━━━━━━━━━━━━━━━━━━━━━━━╇━━━━━━━━━━━━━━━━━━━━━━━━━━━━━━━━━━━━╇━━━━━━━━┩\n",
       "│ 感谢认领.                       │ 公主                               │        │\n",
       "├─────────────────────────────────┼────────────────────────────────────┼────────┤\n",
       "│ 感谢认领露思好漂亮              │ 感谢认领美丽露宝~                  │        │\n",
       "├─────────────────────────────────┼────────────────────────────────────┼────────┤\n",
       "│ 感谢认领露思好漂亮              │ 赵露思好美                         │        │\n",
       "├─────────────────────────────────┼────────────────────────────────────┼────────┤\n",
       "│ 杀了那么多人 蛇蝎心肠 还不够死� │ 他很好？很好为什么逮捕她？杀人     │        │\n",
       "├─────────────────────────────────┼────────────────────────────────────┼────────┤\n",
       "│ 她的辩护律师想通过帮她翻案，    │ 二审维持原判还能上诉吗？           │        │\n",
       "├─────────────────────────────────┼────────────────────────────────────┼────────┤\n",
       "│ 妈的 这个律师有点良心吧 维持原  │ 感谢认领.                          │        │\n",
       "├─────────────────────────────────┼────────────────────────────────────┼────────┤\n",
       "│ 她的辩护律师想通过帮她翻案，    │ 她家人没事吧？果然不是一家人，不进 │        │\n",
       "├─────────────────────────────────┼────────────────────────────────────┼────────┤\n",
       "│ 《互联网黑历史现状》            │ 《你看看》                         │        │\n",
       "└─────────────────────────────────┴────────────────────────────────────┴────────┘\n"
      ]
     },
     "metadata": {},
     "output_type": "display_data"
    },
    {
     "data": {
      "text/html": [
       "<pre style=\"white-space:pre;overflow-x:auto;line-height:normal;font-family:Menlo,'DejaVu Sans Mono',consolas,'Courier New',monospace\">┏━━━━━━━━━━━━━━━━━━━━━━━━━━━━━━━━━┳━━━━━━━━━━━━━━━━━━━━━━━━━━━━━━━━┳━━━━━━━━┓\n",
       "┃<span style=\"font-weight: bold\"> chosen_text                     </span>┃<span style=\"font-weight: bold\"> rejected_text                  </span>┃<span style=\"font-weight: bold\"> logits </span>┃\n",
       "┡━━━━━━━━━━━━━━━━━━━━━━━━━━━━━━━━━╇━━━━━━━━━━━━━━━━━━━━━━━━━━━━━━━━╇━━━━━━━━┩\n",
       "│ 感谢认领.                       │ 公主                           │        │\n",
       "├─────────────────────────────────┼────────────────────────────────┼────────┤\n",
       "│ 感谢认领露思好漂亮              │ 感谢认领美丽露宝~              │        │\n",
       "├─────────────────────────────────┼────────────────────────────────┼────────┤\n",
       "│ 感谢认领露思好漂亮              │ 赵露思好美                     │        │\n",
       "├─────────────────────────────────┼────────────────────────────────┼────────┤\n",
       "│ 杀了那么多人 蛇蝎心肠 还不够死� │ 他很好？很好为什么逮捕她？杀人 │        │\n",
       "└─────────────────────────────────┴────────────────────────────────┴────────┘\n",
       "</pre>\n"
      ],
      "text/plain": [
       "┏━━━━━━━━━━━━━━━━━━━━━━━━━━━━━━━━━┳━━━━━━━━━━━━━━━━━━━━━━━━━━━━━━━━┳━━━━━━━━┓\n",
       "┃\u001b[1m \u001b[0m\u001b[1mchosen_text                    \u001b[0m\u001b[1m \u001b[0m┃\u001b[1m \u001b[0m\u001b[1mrejected_text                 \u001b[0m\u001b[1m \u001b[0m┃\u001b[1m \u001b[0m\u001b[1mlogits\u001b[0m\u001b[1m \u001b[0m┃\n",
       "┡━━━━━━━━━━━━━━━━━━━━━━━━━━━━━━━━━╇━━━━━━━━━━━━━━━━━━━━━━━━━━━━━━━━╇━━━━━━━━┩\n",
       "│ 感谢认领.                       │ 公主                           │        │\n",
       "├─────────────────────────────────┼────────────────────────────────┼────────┤\n",
       "│ 感谢认领露思好漂亮              │ 感谢认领美丽露宝~              │        │\n",
       "├─────────────────────────────────┼────────────────────────────────┼────────┤\n",
       "│ 感谢认领露思好漂亮              │ 赵露思好美                     │        │\n",
       "├─────────────────────────────────┼────────────────────────────────┼────────┤\n",
       "│ 杀了那么多人 蛇蝎心肠 还不够死� │ 他很好？很好为什么逮捕她？杀人 │        │\n",
       "└─────────────────────────────────┴────────────────────────────────┴────────┘\n"
      ]
     },
     "metadata": {},
     "output_type": "display_data"
    },
    {
     "name": "stderr",
     "output_type": "stream",
     "text": [
      "/usr/local/lib/python3.8/dist-packages/transformers/tokenization_utils_base.py:2778: UserWarning: `max_length` is ignored when `padding`=`True` and there is no truncation strategy. To pad to max length, use `padding='max_length'`.\n",
      "  warnings.warn(\n",
      "NaN or Inf found in input tensor.\n",
      "/usr/local/lib/python3.8/dist-packages/transformers/tokenization_utils_base.py:2778: UserWarning: `max_length` is ignored when `padding`=`True` and there is no truncation strategy. To pad to max length, use `padding='max_length'`.\n",
      "  warnings.warn(\n",
      "/usr/local/lib/python3.8/dist-packages/torch/utils/checkpoint.py:464: UserWarning: torch.utils.checkpoint: the use_reentrant parameter should be passed explicitly. In version 2.4 we will raise an exception if use_reentrant is not passed. use_reentrant=False is recommended, but if you need to preserve the current default behavior, you can pass use_reentrant=True. Refer to docs for more details on the differences between the two variants.\n",
      "  warnings.warn(\n",
      "NaN or Inf found in input tensor.\n",
      "NaN or Inf found in input tensor.\n",
      "NaN or Inf found in input tensor.\n",
      "NaN or Inf found in input tensor.\n",
      "NaN or Inf found in input tensor.\n",
      "NaN or Inf found in input tensor.\n",
      "NaN or Inf found in input tensor.\n",
      "NaN or Inf found in input tensor.\n",
      "NaN or Inf found in input tensor.\n",
      "NaN or Inf found in input tensor.\n",
      "NaN or Inf found in input tensor.\n",
      "NaN or Inf found in input tensor.\n",
      "NaN or Inf found in input tensor.\n",
      "NaN or Inf found in input tensor.\n",
      "NaN or Inf found in input tensor.\n",
      "NaN or Inf found in input tensor.\n",
      "NaN or Inf found in input tensor.\n",
      "NaN or Inf found in input tensor.\n",
      "NaN or Inf found in input tensor.\n",
      "NaN or Inf found in input tensor.\n",
      "NaN or Inf found in input tensor.\n",
      "NaN or Inf found in input tensor.\n",
      "NaN or Inf found in input tensor.\n",
      "NaN or Inf found in input tensor.\n",
      "NaN or Inf found in input tensor.\n",
      "NaN or Inf found in input tensor.\n",
      "NaN or Inf found in input tensor.\n",
      "NaN or Inf found in input tensor.\n",
      "NaN or Inf found in input tensor.\n",
      "NaN or Inf found in input tensor.\n",
      "NaN or Inf found in input tensor.\n",
      "NaN or Inf found in input tensor.\n",
      "NaN or Inf found in input tensor.\n",
      "NaN or Inf found in input tensor.\n",
      "NaN or Inf found in input tensor.\n",
      "NaN or Inf found in input tensor.\n",
      "NaN or Inf found in input tensor.\n",
      "NaN or Inf found in input tensor.\n",
      "NaN or Inf found in input tensor.\n",
      "NaN or Inf found in input tensor.\n",
      "NaN or Inf found in input tensor.\n",
      "NaN or Inf found in input tensor.\n",
      "NaN or Inf found in input tensor.\n",
      "NaN or Inf found in input tensor.\n",
      "NaN or Inf found in input tensor.\n",
      "NaN or Inf found in input tensor.\n",
      "NaN or Inf found in input tensor.\n",
      "NaN or Inf found in input tensor.\n",
      "NaN or Inf found in input tensor.\n",
      "NaN or Inf found in input tensor.\n",
      "/usr/local/lib/python3.8/dist-packages/torch/utils/checkpoint.py:91: UserWarning: None of the inputs have requires_grad=True. Gradients will be None\n",
      "  warnings.warn(\n"
     ]
    },
    {
     "data": {
      "text/html": [
       "<pre style=\"white-space:pre;overflow-x:auto;line-height:normal;font-family:Menlo,'DejaVu Sans Mono',consolas,'Courier New',monospace\">┏━━━━━━━━━━━━━━━━━━━━━━━━━━━━━━━━━┳━━━━━━━━━━━━━━━━━━━━━━━━━━━━━━━━━━━━┳━━━━━━━━┓\n",
       "┃<span style=\"font-weight: bold\"> chosen_text                     </span>┃<span style=\"font-weight: bold\"> rejected_text                      </span>┃<span style=\"font-weight: bold\"> logits </span>┃\n",
       "┡━━━━━━━━━━━━━━━━━━━━━━━━━━━━━━━━━╇━━━━━━━━━━━━━━━━━━━━━━━━━━━━━━━━━━━━╇━━━━━━━━┩\n",
       "│ 感谢认领.                       │ 公主                               │        │\n",
       "├─────────────────────────────────┼────────────────────────────────────┼────────┤\n",
       "│ 感谢认领露思好漂亮              │ 感谢认领美丽露宝~                  │        │\n",
       "├─────────────────────────────────┼────────────────────────────────────┼────────┤\n",
       "│ 感谢认领露思好漂亮              │ 赵露思好美                         │        │\n",
       "├─────────────────────────────────┼────────────────────────────────────┼────────┤\n",
       "│ 杀了那么多人 蛇蝎心肠 还不够死� │ 他很好？很好为什么逮捕她？杀人     │        │\n",
       "├─────────────────────────────────┼────────────────────────────────────┼────────┤\n",
       "│ 她的辩护律师想通过帮她翻案，    │ 二审维持原判还能上诉吗？           │        │\n",
       "├─────────────────────────────────┼────────────────────────────────────┼────────┤\n",
       "│ 妈的 这个律师有点良心吧 维持原  │ 感谢认领.                          │        │\n",
       "├─────────────────────────────────┼────────────────────────────────────┼────────┤\n",
       "│ 她的辩护律师想通过帮她翻案，    │ 她家人没事吧？果然不是一家人，不进 │        │\n",
       "├─────────────────────────────────┼────────────────────────────────────┼────────┤\n",
       "│ 《互联网黑历史现状》            │ 《你看看》                         │        │\n",
       "└─────────────────────────────────┴────────────────────────────────────┴────────┘\n",
       "</pre>\n"
      ],
      "text/plain": [
       "┏━━━━━━━━━━━━━━━━━━━━━━━━━━━━━━━━━┳━━━━━━━━━━━━━━━━━━━━━━━━━━━━━━━━━━━━┳━━━━━━━━┓\n",
       "┃\u001b[1m \u001b[0m\u001b[1mchosen_text                    \u001b[0m\u001b[1m \u001b[0m┃\u001b[1m \u001b[0m\u001b[1mrejected_text                     \u001b[0m\u001b[1m \u001b[0m┃\u001b[1m \u001b[0m\u001b[1mlogits\u001b[0m\u001b[1m \u001b[0m┃\n",
       "┡━━━━━━━━━━━━━━━━━━━━━━━━━━━━━━━━━╇━━━━━━━━━━━━━━━━━━━━━━━━━━━━━━━━━━━━╇━━━━━━━━┩\n",
       "│ 感谢认领.                       │ 公主                               │        │\n",
       "├─────────────────────────────────┼────────────────────────────────────┼────────┤\n",
       "│ 感谢认领露思好漂亮              │ 感谢认领美丽露宝~                  │        │\n",
       "├─────────────────────────────────┼────────────────────────────────────┼────────┤\n",
       "│ 感谢认领露思好漂亮              │ 赵露思好美                         │        │\n",
       "├─────────────────────────────────┼────────────────────────────────────┼────────┤\n",
       "│ 杀了那么多人 蛇蝎心肠 还不够死� │ 他很好？很好为什么逮捕她？杀人     │        │\n",
       "├─────────────────────────────────┼────────────────────────────────────┼────────┤\n",
       "│ 她的辩护律师想通过帮她翻案，    │ 二审维持原判还能上诉吗？           │        │\n",
       "├─────────────────────────────────┼────────────────────────────────────┼────────┤\n",
       "│ 妈的 这个律师有点良心吧 维持原  │ 感谢认领.                          │        │\n",
       "├─────────────────────────────────┼────────────────────────────────────┼────────┤\n",
       "│ 她的辩护律师想通过帮她翻案，    │ 她家人没事吧？果然不是一家人，不进 │        │\n",
       "├─────────────────────────────────┼────────────────────────────────────┼────────┤\n",
       "│ 《互联网黑历史现状》            │ 《你看看》                         │        │\n",
       "└─────────────────────────────────┴────────────────────────────────────┴────────┘\n"
      ]
     },
     "metadata": {},
     "output_type": "display_data"
    },
    {
     "data": {
      "text/html": [
       "<pre style=\"white-space:pre;overflow-x:auto;line-height:normal;font-family:Menlo,'DejaVu Sans Mono',consolas,'Courier New',monospace\">┏━━━━━━━━━━━━━━━━━━━━━━━━━━━━━━━━━┳━━━━━━━━━━━━━━━━━━━━━━━━━━━━━━━━┳━━━━━━━━┓\n",
       "┃<span style=\"font-weight: bold\"> chosen_text                     </span>┃<span style=\"font-weight: bold\"> rejected_text                  </span>┃<span style=\"font-weight: bold\"> logits </span>┃\n",
       "┡━━━━━━━━━━━━━━━━━━━━━━━━━━━━━━━━━╇━━━━━━━━━━━━━━━━━━━━━━━━━━━━━━━━╇━━━━━━━━┩\n",
       "│ 感谢认领.                       │ 公主                           │        │\n",
       "├─────────────────────────────────┼────────────────────────────────┼────────┤\n",
       "│ 感谢认领露思好漂亮              │ 感谢认领美丽露宝~              │        │\n",
       "├─────────────────────────────────┼────────────────────────────────┼────────┤\n",
       "│ 感谢认领露思好漂亮              │ 赵露思好美                     │        │\n",
       "├─────────────────────────────────┼────────────────────────────────┼────────┤\n",
       "│ 杀了那么多人 蛇蝎心肠 还不够死� │ 他很好？很好为什么逮捕她？杀人 │        │\n",
       "└─────────────────────────────────┴────────────────────────────────┴────────┘\n",
       "</pre>\n"
      ],
      "text/plain": [
       "┏━━━━━━━━━━━━━━━━━━━━━━━━━━━━━━━━━┳━━━━━━━━━━━━━━━━━━━━━━━━━━━━━━━━┳━━━━━━━━┓\n",
       "┃\u001b[1m \u001b[0m\u001b[1mchosen_text                    \u001b[0m\u001b[1m \u001b[0m┃\u001b[1m \u001b[0m\u001b[1mrejected_text                 \u001b[0m\u001b[1m \u001b[0m┃\u001b[1m \u001b[0m\u001b[1mlogits\u001b[0m\u001b[1m \u001b[0m┃\n",
       "┡━━━━━━━━━━━━━━━━━━━━━━━━━━━━━━━━━╇━━━━━━━━━━━━━━━━━━━━━━━━━━━━━━━━╇━━━━━━━━┩\n",
       "│ 感谢认领.                       │ 公主                           │        │\n",
       "├─────────────────────────────────┼────────────────────────────────┼────────┤\n",
       "│ 感谢认领露思好漂亮              │ 感谢认领美丽露宝~              │        │\n",
       "├─────────────────────────────────┼────────────────────────────────┼────────┤\n",
       "│ 感谢认领露思好漂亮              │ 赵露思好美                     │        │\n",
       "├─────────────────────────────────┼────────────────────────────────┼────────┤\n",
       "│ 杀了那么多人 蛇蝎心肠 还不够死� │ 他很好？很好为什么逮捕她？杀人 │        │\n",
       "└─────────────────────────────────┴────────────────────────────────┴────────┘\n"
      ]
     },
     "metadata": {},
     "output_type": "display_data"
    },
    {
     "name": "stderr",
     "output_type": "stream",
     "text": [
      "/usr/local/lib/python3.8/dist-packages/transformers/tokenization_utils_base.py:2778: UserWarning: `max_length` is ignored when `padding`=`True` and there is no truncation strategy. To pad to max length, use `padding='max_length'`.\n",
      "  warnings.warn(\n",
      "NaN or Inf found in input tensor.\n",
      "/usr/local/lib/python3.8/dist-packages/transformers/tokenization_utils_base.py:2778: UserWarning: `max_length` is ignored when `padding`=`True` and there is no truncation strategy. To pad to max length, use `padding='max_length'`.\n",
      "  warnings.warn(\n",
      "/usr/local/lib/python3.8/dist-packages/torch/utils/checkpoint.py:464: UserWarning: torch.utils.checkpoint: the use_reentrant parameter should be passed explicitly. In version 2.4 we will raise an exception if use_reentrant is not passed. use_reentrant=False is recommended, but if you need to preserve the current default behavior, you can pass use_reentrant=True. Refer to docs for more details on the differences between the two variants.\n",
      "  warnings.warn(\n",
      "NaN or Inf found in input tensor.\n",
      "NaN or Inf found in input tensor.\n",
      "NaN or Inf found in input tensor.\n",
      "NaN or Inf found in input tensor.\n",
      "NaN or Inf found in input tensor.\n",
      "NaN or Inf found in input tensor.\n",
      "NaN or Inf found in input tensor.\n",
      "NaN or Inf found in input tensor.\n",
      "NaN or Inf found in input tensor.\n",
      "NaN or Inf found in input tensor.\n",
      "\n",
      "KeyboardInterrupt\n",
      "\n"
     ]
    }
   ],
   "source": [
    "trainer = RewardTrainer(\n",
    "    model=rm_model,\n",
    "    tokenizer=tokenizer,\n",
    "    args=config,\n",
    "    train_dataset=rm_train_dataset,\n",
    "    eval_dataset=rm_eval_dataset,\n",
    "    peft_config=peft_config,\n",
    ")\n",
    "trainer.train()\n",
    "trainer.save_model(config.output_dir)"
   ]
  },
  {
   "cell_type": "code",
   "execution_count": 11,
   "id": "8bb58814-d5a6-4c25-845d-beb0b70b2115",
   "metadata": {},
   "outputs": [],
   "source": [
    "### Seventh Formal Trial"
   ]
  },
  {
   "cell_type": "code",
   "execution_count": 12,
   "id": "57ada177-8526-4269-ba10-489a59836688",
   "metadata": {},
   "outputs": [
    {
     "name": "stderr",
     "output_type": "stream",
     "text": [
      "/usr/local/lib/python3.8/dist-packages/peft/tuners/lora/layer.py:1119: UserWarning: fan_in_fan_out is set to False but the target module is `Conv1D`. Setting fan_in_fan_out to True.\n",
      "  warnings.warn(\n",
      "Detected kernel version 5.4.0, which is below the recommended minimum of 5.5.0; this can cause the process to hang. It is recommended to upgrade the kernel to the minimum version or higher.\n",
      "You're using a GPT2TokenizerFast tokenizer. Please note that with a fast tokenizer, using the `__call__` method is faster than using a method to encode the text followed by a call to the `pad` method to get a padded encoding.\n",
      "/usr/local/lib/python3.8/dist-packages/transformers/tokenization_utils_base.py:2778: UserWarning: `max_length` is ignored when `padding`=`True` and there is no truncation strategy. To pad to max length, use `padding='max_length'`.\n",
      "  warnings.warn(\n",
      "`use_cache=True` is incompatible with gradient checkpointing. Setting `use_cache=False`...\n",
      "/usr/local/lib/python3.8/dist-packages/torch/utils/checkpoint.py:464: UserWarning: torch.utils.checkpoint: the use_reentrant parameter should be passed explicitly. In version 2.4 we will raise an exception if use_reentrant is not passed. use_reentrant=False is recommended, but if you need to preserve the current default behavior, you can pass use_reentrant=True. Refer to docs for more details on the differences between the two variants.\n",
      "  warnings.warn(\n",
      "/usr/local/lib/python3.8/dist-packages/torch/utils/checkpoint.py:91: UserWarning: None of the inputs have requires_grad=True. Gradients will be None\n",
      "  warnings.warn(\n",
      "Could not estimate the number of tokens of the input, floating-point operations will not be computed\n"
     ]
    },
    {
     "data": {
      "text/html": [
       "\n",
       "    <div>\n",
       "      \n",
       "      <progress value='11700' max='11700' style='width:300px; height:20px; vertical-align: middle;'></progress>\n",
       "      [11700/11700 24:24, Epoch 149/150]\n",
       "    </div>\n",
       "    <table border=\"1\" class=\"dataframe\">\n",
       "  <thead>\n",
       " <tr style=\"text-align: left;\">\n",
       "      <th>Step</th>\n",
       "      <th>Training Loss</th>\n",
       "      <th>Validation Loss</th>\n",
       "      <th>Accuracy</th>\n",
       "    </tr>\n",
       "  </thead>\n",
       "  <tbody>\n",
       "    <tr>\n",
       "      <td>500</td>\n",
       "      <td>0.697900</td>\n",
       "      <td>0.716391</td>\n",
       "      <td>0.541582</td>\n",
       "    </tr>\n",
       "    <tr>\n",
       "      <td>1000</td>\n",
       "      <td>0.698900</td>\n",
       "      <td>0.703380</td>\n",
       "      <td>0.556360</td>\n",
       "    </tr>\n",
       "    <tr>\n",
       "      <td>1500</td>\n",
       "      <td>0.701100</td>\n",
       "      <td>0.712082</td>\n",
       "      <td>0.551145</td>\n",
       "    </tr>\n",
       "    <tr>\n",
       "      <td>2000</td>\n",
       "      <td>0.683200</td>\n",
       "      <td>0.711820</td>\n",
       "      <td>0.548826</td>\n",
       "    </tr>\n",
       "    <tr>\n",
       "      <td>2500</td>\n",
       "      <td>0.691500</td>\n",
       "      <td>0.708923</td>\n",
       "      <td>0.549696</td>\n",
       "    </tr>\n",
       "    <tr>\n",
       "      <td>3000</td>\n",
       "      <td>0.684800</td>\n",
       "      <td>0.733570</td>\n",
       "      <td>0.527673</td>\n",
       "    </tr>\n",
       "    <tr>\n",
       "      <td>3500</td>\n",
       "      <td>0.676900</td>\n",
       "      <td>0.704638</td>\n",
       "      <td>0.565054</td>\n",
       "    </tr>\n",
       "    <tr>\n",
       "      <td>4000</td>\n",
       "      <td>0.664800</td>\n",
       "      <td>0.705384</td>\n",
       "      <td>0.553463</td>\n",
       "    </tr>\n",
       "    <tr>\n",
       "      <td>4500</td>\n",
       "      <td>0.693400</td>\n",
       "      <td>0.705815</td>\n",
       "      <td>0.556650</td>\n",
       "    </tr>\n",
       "    <tr>\n",
       "      <td>5000</td>\n",
       "      <td>0.703800</td>\n",
       "      <td>0.712788</td>\n",
       "      <td>0.543611</td>\n",
       "    </tr>\n",
       "    <tr>\n",
       "      <td>5500</td>\n",
       "      <td>0.660600</td>\n",
       "      <td>0.704844</td>\n",
       "      <td>0.560707</td>\n",
       "    </tr>\n",
       "    <tr>\n",
       "      <td>6000</td>\n",
       "      <td>0.687400</td>\n",
       "      <td>0.703599</td>\n",
       "      <td>0.556940</td>\n",
       "    </tr>\n",
       "    <tr>\n",
       "      <td>6500</td>\n",
       "      <td>0.671000</td>\n",
       "      <td>0.702174</td>\n",
       "      <td>0.544480</td>\n",
       "    </tr>\n",
       "    <tr>\n",
       "      <td>7000</td>\n",
       "      <td>0.672300</td>\n",
       "      <td>0.710946</td>\n",
       "      <td>0.548537</td>\n",
       "    </tr>\n",
       "    <tr>\n",
       "      <td>7500</td>\n",
       "      <td>0.676800</td>\n",
       "      <td>0.707522</td>\n",
       "      <td>0.538395</td>\n",
       "    </tr>\n",
       "    <tr>\n",
       "      <td>8000</td>\n",
       "      <td>0.679400</td>\n",
       "      <td>0.707327</td>\n",
       "      <td>0.556650</td>\n",
       "    </tr>\n",
       "    <tr>\n",
       "      <td>8500</td>\n",
       "      <td>0.666400</td>\n",
       "      <td>0.699953</td>\n",
       "      <td>0.543321</td>\n",
       "    </tr>\n",
       "    <tr>\n",
       "      <td>9000</td>\n",
       "      <td>0.660400</td>\n",
       "      <td>0.700803</td>\n",
       "      <td>0.554622</td>\n",
       "    </tr>\n",
       "    <tr>\n",
       "      <td>9500</td>\n",
       "      <td>0.673500</td>\n",
       "      <td>0.700248</td>\n",
       "      <td>0.559838</td>\n",
       "    </tr>\n",
       "    <tr>\n",
       "      <td>10000</td>\n",
       "      <td>0.661000</td>\n",
       "      <td>0.699150</td>\n",
       "      <td>0.550855</td>\n",
       "    </tr>\n",
       "    <tr>\n",
       "      <td>10500</td>\n",
       "      <td>0.658400</td>\n",
       "      <td>0.698956</td>\n",
       "      <td>0.544480</td>\n",
       "    </tr>\n",
       "    <tr>\n",
       "      <td>11000</td>\n",
       "      <td>0.662900</td>\n",
       "      <td>0.699243</td>\n",
       "      <td>0.548826</td>\n",
       "    </tr>\n",
       "    <tr>\n",
       "      <td>11500</td>\n",
       "      <td>0.660700</td>\n",
       "      <td>0.699315</td>\n",
       "      <td>0.548537</td>\n",
       "    </tr>\n",
       "  </tbody>\n",
       "</table><p>"
      ],
      "text/plain": [
       "<IPython.core.display.HTML object>"
      ]
     },
     "metadata": {},
     "output_type": "display_data"
    },
    {
     "data": {
      "text/html": [
       "<pre style=\"white-space:pre;overflow-x:auto;line-height:normal;font-family:Menlo,'DejaVu Sans Mono',consolas,'Courier New',monospace\">┏━━━━━━━━━━━━━━━━━━━━━━━━━━━━━━━━━┳━━━━━━━━━━━━━━━━━━━━━━━━━━━━━━━━━━━━┳━━━━━━━━━━━━━━━━━━┓\n",
       "┃<span style=\"font-weight: bold\"> chosen_text                     </span>┃<span style=\"font-weight: bold\"> rejected_text                      </span>┃<span style=\"font-weight: bold\"> logits           </span>┃\n",
       "┡━━━━━━━━━━━━━━━━━━━━━━━━━━━━━━━━━╇━━━━━━━━━━━━━━━━━━━━━━━━━━━━━━━━━━━━╇━━━━━━━━━━━━━━━━━━┩\n",
       "│ 感谢认领.                       │ 公主                               │ [0.5969, 0.4031] │\n",
       "├─────────────────────────────────┼────────────────────────────────────┼──────────────────┤\n",
       "│ 感谢认领露思好漂亮              │ 感谢认领美丽露宝~                  │ [0.4726, 0.5274] │\n",
       "├─────────────────────────────────┼────────────────────────────────────┼──────────────────┤\n",
       "│ 感谢认领露思好漂亮              │ 赵露思好美                         │ [0.6267, 0.3733] │\n",
       "├─────────────────────────────────┼────────────────────────────────────┼──────────────────┤\n",
       "│ 杀了那么多人 蛇蝎心肠 还不够死� │ 他很好？很好为什么逮捕她？杀人     │ [0.2765, 0.7235] │\n",
       "├─────────────────────────────────┼────────────────────────────────────┼──────────────────┤\n",
       "│ 她的辩护律师想通过帮她翻案，    │ 二审维持原判还能上诉吗？           │ [0.2182, 0.7818] │\n",
       "├─────────────────────────────────┼────────────────────────────────────┼──────────────────┤\n",
       "│ 妈的 这个律师有点良心吧 维持原  │ 感谢认领.                          │ [0.6182, 0.3818] │\n",
       "├─────────────────────────────────┼────────────────────────────────────┼──────────────────┤\n",
       "│ 她的辩护律师想通过帮她翻案，    │ 她家人没事吧？果然不是一家人，不进 │ [0.3422, 0.6578] │\n",
       "├─────────────────────────────────┼────────────────────────────────────┼──────────────────┤\n",
       "│ 《互联网黑历史现状》            │ 《你看看》                         │ [0.4888, 0.5112] │\n",
       "└─────────────────────────────────┴────────────────────────────────────┴──────────────────┘\n",
       "</pre>\n"
      ],
      "text/plain": [
       "┏━━━━━━━━━━━━━━━━━━━━━━━━━━━━━━━━━┳━━━━━━━━━━━━━━━━━━━━━━━━━━━━━━━━━━━━┳━━━━━━━━━━━━━━━━━━┓\n",
       "┃\u001b[1m \u001b[0m\u001b[1mchosen_text                    \u001b[0m\u001b[1m \u001b[0m┃\u001b[1m \u001b[0m\u001b[1mrejected_text                     \u001b[0m\u001b[1m \u001b[0m┃\u001b[1m \u001b[0m\u001b[1mlogits          \u001b[0m\u001b[1m \u001b[0m┃\n",
       "┡━━━━━━━━━━━━━━━━━━━━━━━━━━━━━━━━━╇━━━━━━━━━━━━━━━━━━━━━━━━━━━━━━━━━━━━╇━━━━━━━━━━━━━━━━━━┩\n",
       "│ 感谢认领.                       │ 公主                               │ [0.5969, 0.4031] │\n",
       "├─────────────────────────────────┼────────────────────────────────────┼──────────────────┤\n",
       "│ 感谢认领露思好漂亮              │ 感谢认领美丽露宝~                  │ [0.4726, 0.5274] │\n",
       "├─────────────────────────────────┼────────────────────────────────────┼──────────────────┤\n",
       "│ 感谢认领露思好漂亮              │ 赵露思好美                         │ [0.6267, 0.3733] │\n",
       "├─────────────────────────────────┼────────────────────────────────────┼──────────────────┤\n",
       "│ 杀了那么多人 蛇蝎心肠 还不够死� │ 他很好？很好为什么逮捕她？杀人     │ [0.2765, 0.7235] │\n",
       "├─────────────────────────────────┼────────────────────────────────────┼──────────────────┤\n",
       "│ 她的辩护律师想通过帮她翻案，    │ 二审维持原判还能上诉吗？           │ [0.2182, 0.7818] │\n",
       "├─────────────────────────────────┼────────────────────────────────────┼──────────────────┤\n",
       "│ 妈的 这个律师有点良心吧 维持原  │ 感谢认领.                          │ [0.6182, 0.3818] │\n",
       "├─────────────────────────────────┼────────────────────────────────────┼──────────────────┤\n",
       "│ 她的辩护律师想通过帮她翻案，    │ 她家人没事吧？果然不是一家人，不进 │ [0.3422, 0.6578] │\n",
       "├─────────────────────────────────┼────────────────────────────────────┼──────────────────┤\n",
       "│ 《互联网黑历史现状》            │ 《你看看》                         │ [0.4888, 0.5112] │\n",
       "└─────────────────────────────────┴────────────────────────────────────┴──────────────────┘\n"
      ]
     },
     "metadata": {},
     "output_type": "display_data"
    },
    {
     "data": {
      "text/html": [
       "<pre style=\"white-space:pre;overflow-x:auto;line-height:normal;font-family:Menlo,'DejaVu Sans Mono',consolas,'Courier New',monospace\">┏━━━━━━━━━━━━━━━━━━━━━━━━━━━━━━━━━┳━━━━━━━━━━━━━━━━━━━━━━━━━━━━━━━━┳━━━━━━━━━━━━━━━━━━┓\n",
       "┃<span style=\"font-weight: bold\"> chosen_text                     </span>┃<span style=\"font-weight: bold\"> rejected_text                  </span>┃<span style=\"font-weight: bold\"> logits           </span>┃\n",
       "┡━━━━━━━━━━━━━━━━━━━━━━━━━━━━━━━━━╇━━━━━━━━━━━━━━━━━━━━━━━━━━━━━━━━╇━━━━━━━━━━━━━━━━━━┩\n",
       "│ 感谢认领.                       │ 公主                           │ [0.5969, 0.4031] │\n",
       "├─────────────────────────────────┼────────────────────────────────┼──────────────────┤\n",
       "│ 感谢认领露思好漂亮              │ 感谢认领美丽露宝~              │ [0.4726, 0.5274] │\n",
       "├─────────────────────────────────┼────────────────────────────────┼──────────────────┤\n",
       "│ 感谢认领露思好漂亮              │ 赵露思好美                     │ [0.6267, 0.3733] │\n",
       "├─────────────────────────────────┼────────────────────────────────┼──────────────────┤\n",
       "│ 杀了那么多人 蛇蝎心肠 还不够死� │ 他很好？很好为什么逮捕她？杀人 │ [0.2765, 0.7235] │\n",
       "└─────────────────────────────────┴────────────────────────────────┴──────────────────┘\n",
       "</pre>\n"
      ],
      "text/plain": [
       "┏━━━━━━━━━━━━━━━━━━━━━━━━━━━━━━━━━┳━━━━━━━━━━━━━━━━━━━━━━━━━━━━━━━━┳━━━━━━━━━━━━━━━━━━┓\n",
       "┃\u001b[1m \u001b[0m\u001b[1mchosen_text                    \u001b[0m\u001b[1m \u001b[0m┃\u001b[1m \u001b[0m\u001b[1mrejected_text                 \u001b[0m\u001b[1m \u001b[0m┃\u001b[1m \u001b[0m\u001b[1mlogits          \u001b[0m\u001b[1m \u001b[0m┃\n",
       "┡━━━━━━━━━━━━━━━━━━━━━━━━━━━━━━━━━╇━━━━━━━━━━━━━━━━━━━━━━━━━━━━━━━━╇━━━━━━━━━━━━━━━━━━┩\n",
       "│ 感谢认领.                       │ 公主                           │ [0.5969, 0.4031] │\n",
       "├─────────────────────────────────┼────────────────────────────────┼──────────────────┤\n",
       "│ 感谢认领露思好漂亮              │ 感谢认领美丽露宝~              │ [0.4726, 0.5274] │\n",
       "├─────────────────────────────────┼────────────────────────────────┼──────────────────┤\n",
       "│ 感谢认领露思好漂亮              │ 赵露思好美                     │ [0.6267, 0.3733] │\n",
       "├─────────────────────────────────┼────────────────────────────────┼──────────────────┤\n",
       "│ 杀了那么多人 蛇蝎心肠 还不够死� │ 他很好？很好为什么逮捕她？杀人 │ [0.2765, 0.7235] │\n",
       "└─────────────────────────────────┴────────────────────────────────┴──────────────────┘\n"
      ]
     },
     "metadata": {},
     "output_type": "display_data"
    },
    {
     "name": "stderr",
     "output_type": "stream",
     "text": [
      "/usr/local/lib/python3.8/dist-packages/transformers/tokenization_utils_base.py:2778: UserWarning: `max_length` is ignored when `padding`=`True` and there is no truncation strategy. To pad to max length, use `padding='max_length'`.\n",
      "  warnings.warn(\n",
      "/usr/local/lib/python3.8/dist-packages/trl/trainer/utils.py:599: UserWarning: There are 22 out of 3451 instances where the predictions for both options are equal. As a consequence the accuracy can be misleading.\n",
      "  warnings.warn(\n",
      "/usr/local/lib/python3.8/dist-packages/transformers/tokenization_utils_base.py:2778: UserWarning: `max_length` is ignored when `padding`=`True` and there is no truncation strategy. To pad to max length, use `padding='max_length'`.\n",
      "  warnings.warn(\n",
      "/usr/local/lib/python3.8/dist-packages/torch/utils/checkpoint.py:464: UserWarning: torch.utils.checkpoint: the use_reentrant parameter should be passed explicitly. In version 2.4 we will raise an exception if use_reentrant is not passed. use_reentrant=False is recommended, but if you need to preserve the current default behavior, you can pass use_reentrant=True. Refer to docs for more details on the differences between the two variants.\n",
      "  warnings.warn(\n",
      "/usr/local/lib/python3.8/dist-packages/torch/utils/checkpoint.py:91: UserWarning: None of the inputs have requires_grad=True. Gradients will be None\n",
      "  warnings.warn(\n"
     ]
    },
    {
     "data": {
      "text/html": [
       "<pre style=\"white-space:pre;overflow-x:auto;line-height:normal;font-family:Menlo,'DejaVu Sans Mono',consolas,'Courier New',monospace\">┏━━━━━━━━━━━━━━━━━━━━━━━━━━━━━━━━━┳━━━━━━━━━━━━━━━━━━━━━━━━━━━━━━━━━━━━┳━━━━━━━━━━━━━━━━━━┓\n",
       "┃<span style=\"font-weight: bold\"> chosen_text                     </span>┃<span style=\"font-weight: bold\"> rejected_text                      </span>┃<span style=\"font-weight: bold\"> logits           </span>┃\n",
       "┡━━━━━━━━━━━━━━━━━━━━━━━━━━━━━━━━━╇━━━━━━━━━━━━━━━━━━━━━━━━━━━━━━━━━━━━╇━━━━━━━━━━━━━━━━━━┩\n",
       "│ 感谢认领.                       │ 公主                               │ [0.3841, 0.6159] │\n",
       "├─────────────────────────────────┼────────────────────────────────────┼──────────────────┤\n",
       "│ 感谢认领露思好漂亮              │ 感谢认领美丽露宝~                  │ [0.4986, 0.5014] │\n",
       "├─────────────────────────────────┼────────────────────────────────────┼──────────────────┤\n",
       "│ 感谢认领露思好漂亮              │ 赵露思好美                         │ [0.6627, 0.3373] │\n",
       "├─────────────────────────────────┼────────────────────────────────────┼──────────────────┤\n",
       "│ 杀了那么多人 蛇蝎心肠 还不够死� │ 他很好？很好为什么逮捕她？杀人     │ [0.2675, 0.7325] │\n",
       "├─────────────────────────────────┼────────────────────────────────────┼──────────────────┤\n",
       "│ 她的辩护律师想通过帮她翻案，    │ 二审维持原判还能上诉吗？           │ [0.4047, 0.5953] │\n",
       "├─────────────────────────────────┼────────────────────────────────────┼──────────────────┤\n",
       "│ 妈的 这个律师有点良心吧 维持原  │ 感谢认领.                          │ [0.5793, 0.4207] │\n",
       "├─────────────────────────────────┼────────────────────────────────────┼──────────────────┤\n",
       "│ 她的辩护律师想通过帮她翻案，    │ 她家人没事吧？果然不是一家人，不进 │ [0.4303, 0.5697] │\n",
       "├─────────────────────────────────┼────────────────────────────────────┼──────────────────┤\n",
       "│ 《互联网黑历史现状》            │ 《你看看》                         │ [0.6724, 0.3276] │\n",
       "└─────────────────────────────────┴────────────────────────────────────┴──────────────────┘\n",
       "</pre>\n"
      ],
      "text/plain": [
       "┏━━━━━━━━━━━━━━━━━━━━━━━━━━━━━━━━━┳━━━━━━━━━━━━━━━━━━━━━━━━━━━━━━━━━━━━┳━━━━━━━━━━━━━━━━━━┓\n",
       "┃\u001b[1m \u001b[0m\u001b[1mchosen_text                    \u001b[0m\u001b[1m \u001b[0m┃\u001b[1m \u001b[0m\u001b[1mrejected_text                     \u001b[0m\u001b[1m \u001b[0m┃\u001b[1m \u001b[0m\u001b[1mlogits          \u001b[0m\u001b[1m \u001b[0m┃\n",
       "┡━━━━━━━━━━━━━━━━━━━━━━━━━━━━━━━━━╇━━━━━━━━━━━━━━━━━━━━━━━━━━━━━━━━━━━━╇━━━━━━━━━━━━━━━━━━┩\n",
       "│ 感谢认领.                       │ 公主                               │ [0.3841, 0.6159] │\n",
       "├─────────────────────────────────┼────────────────────────────────────┼──────────────────┤\n",
       "│ 感谢认领露思好漂亮              │ 感谢认领美丽露宝~                  │ [0.4986, 0.5014] │\n",
       "├─────────────────────────────────┼────────────────────────────────────┼──────────────────┤\n",
       "│ 感谢认领露思好漂亮              │ 赵露思好美                         │ [0.6627, 0.3373] │\n",
       "├─────────────────────────────────┼────────────────────────────────────┼──────────────────┤\n",
       "│ 杀了那么多人 蛇蝎心肠 还不够死� │ 他很好？很好为什么逮捕她？杀人     │ [0.2675, 0.7325] │\n",
       "├─────────────────────────────────┼────────────────────────────────────┼──────────────────┤\n",
       "│ 她的辩护律师想通过帮她翻案，    │ 二审维持原判还能上诉吗？           │ [0.4047, 0.5953] │\n",
       "├─────────────────────────────────┼────────────────────────────────────┼──────────────────┤\n",
       "│ 妈的 这个律师有点良心吧 维持原  │ 感谢认领.                          │ [0.5793, 0.4207] │\n",
       "├─────────────────────────────────┼────────────────────────────────────┼──────────────────┤\n",
       "│ 她的辩护律师想通过帮她翻案，    │ 她家人没事吧？果然不是一家人，不进 │ [0.4303, 0.5697] │\n",
       "├─────────────────────────────────┼────────────────────────────────────┼──────────────────┤\n",
       "│ 《互联网黑历史现状》            │ 《你看看》                         │ [0.6724, 0.3276] │\n",
       "└─────────────────────────────────┴────────────────────────────────────┴──────────────────┘\n"
      ]
     },
     "metadata": {},
     "output_type": "display_data"
    },
    {
     "data": {
      "text/html": [
       "<pre style=\"white-space:pre;overflow-x:auto;line-height:normal;font-family:Menlo,'DejaVu Sans Mono',consolas,'Courier New',monospace\">┏━━━━━━━━━━━━━━━━━━━━━━━━━━━━━━━━━┳━━━━━━━━━━━━━━━━━━━━━━━━━━━━━━━━┳━━━━━━━━━━━━━━━━━━┓\n",
       "┃<span style=\"font-weight: bold\"> chosen_text                     </span>┃<span style=\"font-weight: bold\"> rejected_text                  </span>┃<span style=\"font-weight: bold\"> logits           </span>┃\n",
       "┡━━━━━━━━━━━━━━━━━━━━━━━━━━━━━━━━━╇━━━━━━━━━━━━━━━━━━━━━━━━━━━━━━━━╇━━━━━━━━━━━━━━━━━━┩\n",
       "│ 感谢认领.                       │ 公主                           │ [0.3841, 0.6159] │\n",
       "├─────────────────────────────────┼────────────────────────────────┼──────────────────┤\n",
       "│ 感谢认领露思好漂亮              │ 感谢认领美丽露宝~              │ [0.4986, 0.5014] │\n",
       "├─────────────────────────────────┼────────────────────────────────┼──────────────────┤\n",
       "│ 感谢认领露思好漂亮              │ 赵露思好美                     │ [0.6627, 0.3373] │\n",
       "├─────────────────────────────────┼────────────────────────────────┼──────────────────┤\n",
       "│ 杀了那么多人 蛇蝎心肠 还不够死� │ 他很好？很好为什么逮捕她？杀人 │ [0.2675, 0.7325] │\n",
       "└─────────────────────────────────┴────────────────────────────────┴──────────────────┘\n",
       "</pre>\n"
      ],
      "text/plain": [
       "┏━━━━━━━━━━━━━━━━━━━━━━━━━━━━━━━━━┳━━━━━━━━━━━━━━━━━━━━━━━━━━━━━━━━┳━━━━━━━━━━━━━━━━━━┓\n",
       "┃\u001b[1m \u001b[0m\u001b[1mchosen_text                    \u001b[0m\u001b[1m \u001b[0m┃\u001b[1m \u001b[0m\u001b[1mrejected_text                 \u001b[0m\u001b[1m \u001b[0m┃\u001b[1m \u001b[0m\u001b[1mlogits          \u001b[0m\u001b[1m \u001b[0m┃\n",
       "┡━━━━━━━━━━━━━━━━━━━━━━━━━━━━━━━━━╇━━━━━━━━━━━━━━━━━━━━━━━━━━━━━━━━╇━━━━━━━━━━━━━━━━━━┩\n",
       "│ 感谢认领.                       │ 公主                           │ [0.3841, 0.6159] │\n",
       "├─────────────────────────────────┼────────────────────────────────┼──────────────────┤\n",
       "│ 感谢认领露思好漂亮              │ 感谢认领美丽露宝~              │ [0.4986, 0.5014] │\n",
       "├─────────────────────────────────┼────────────────────────────────┼──────────────────┤\n",
       "│ 感谢认领露思好漂亮              │ 赵露思好美                     │ [0.6627, 0.3373] │\n",
       "├─────────────────────────────────┼────────────────────────────────┼──────────────────┤\n",
       "│ 杀了那么多人 蛇蝎心肠 还不够死� │ 他很好？很好为什么逮捕她？杀人 │ [0.2675, 0.7325] │\n",
       "└─────────────────────────────────┴────────────────────────────────┴──────────────────┘\n"
      ]
     },
     "metadata": {},
     "output_type": "display_data"
    },
    {
     "name": "stderr",
     "output_type": "stream",
     "text": [
      "/usr/local/lib/python3.8/dist-packages/transformers/tokenization_utils_base.py:2778: UserWarning: `max_length` is ignored when `padding`=`True` and there is no truncation strategy. To pad to max length, use `padding='max_length'`.\n",
      "  warnings.warn(\n",
      "/usr/local/lib/python3.8/dist-packages/trl/trainer/utils.py:599: UserWarning: There are 22 out of 3451 instances where the predictions for both options are equal. As a consequence the accuracy can be misleading.\n",
      "  warnings.warn(\n",
      "/usr/local/lib/python3.8/dist-packages/transformers/tokenization_utils_base.py:2778: UserWarning: `max_length` is ignored when `padding`=`True` and there is no truncation strategy. To pad to max length, use `padding='max_length'`.\n",
      "  warnings.warn(\n",
      "/usr/local/lib/python3.8/dist-packages/torch/utils/checkpoint.py:464: UserWarning: torch.utils.checkpoint: the use_reentrant parameter should be passed explicitly. In version 2.4 we will raise an exception if use_reentrant is not passed. use_reentrant=False is recommended, but if you need to preserve the current default behavior, you can pass use_reentrant=True. Refer to docs for more details on the differences between the two variants.\n",
      "  warnings.warn(\n",
      "/usr/local/lib/python3.8/dist-packages/torch/utils/checkpoint.py:91: UserWarning: None of the inputs have requires_grad=True. Gradients will be None\n",
      "  warnings.warn(\n"
     ]
    },
    {
     "data": {
      "text/html": [
       "<pre style=\"white-space:pre;overflow-x:auto;line-height:normal;font-family:Menlo,'DejaVu Sans Mono',consolas,'Courier New',monospace\">┏━━━━━━━━━━━━━━━━━━━━━━━━━━━━━━━━━┳━━━━━━━━━━━━━━━━━━━━━━━━━━━━━━━━━━━━┳━━━━━━━━━━━━━━━━━━┓\n",
       "┃<span style=\"font-weight: bold\"> chosen_text                     </span>┃<span style=\"font-weight: bold\"> rejected_text                      </span>┃<span style=\"font-weight: bold\"> logits           </span>┃\n",
       "┡━━━━━━━━━━━━━━━━━━━━━━━━━━━━━━━━━╇━━━━━━━━━━━━━━━━━━━━━━━━━━━━━━━━━━━━╇━━━━━━━━━━━━━━━━━━┩\n",
       "│ 感谢认领.                       │ 公主                               │ [0.7264, 0.2736] │\n",
       "├─────────────────────────────────┼────────────────────────────────────┼──────────────────┤\n",
       "│ 感谢认领露思好漂亮              │ 感谢认领美丽露宝~                  │ [0.4633, 0.5367] │\n",
       "├─────────────────────────────────┼────────────────────────────────────┼──────────────────┤\n",
       "│ 感谢认领露思好漂亮              │ 赵露思好美                         │ [0.7743, 0.2257] │\n",
       "├─────────────────────────────────┼────────────────────────────────────┼──────────────────┤\n",
       "│ 杀了那么多人 蛇蝎心肠 还不够死� │ 他很好？很好为什么逮捕她？杀人     │ [0.28, 0.72]     │\n",
       "├─────────────────────────────────┼────────────────────────────────────┼──────────────────┤\n",
       "│ 她的辩护律师想通过帮她翻案，    │ 二审维持原判还能上诉吗？           │ [0.473, 0.527]   │\n",
       "├─────────────────────────────────┼────────────────────────────────────┼──────────────────┤\n",
       "│ 妈的 这个律师有点良心吧 维持原  │ 感谢认领.                          │ [0.575, 0.425]   │\n",
       "├─────────────────────────────────┼────────────────────────────────────┼──────────────────┤\n",
       "│ 她的辩护律师想通过帮她翻案，    │ 她家人没事吧？果然不是一家人，不进 │ [0.3578, 0.6422] │\n",
       "├─────────────────────────────────┼────────────────────────────────────┼──────────────────┤\n",
       "│ 《互联网黑历史现状》            │ 《你看看》                         │ [0.682, 0.318]   │\n",
       "└─────────────────────────────────┴────────────────────────────────────┴──────────────────┘\n",
       "</pre>\n"
      ],
      "text/plain": [
       "┏━━━━━━━━━━━━━━━━━━━━━━━━━━━━━━━━━┳━━━━━━━━━━━━━━━━━━━━━━━━━━━━━━━━━━━━┳━━━━━━━━━━━━━━━━━━┓\n",
       "┃\u001b[1m \u001b[0m\u001b[1mchosen_text                    \u001b[0m\u001b[1m \u001b[0m┃\u001b[1m \u001b[0m\u001b[1mrejected_text                     \u001b[0m\u001b[1m \u001b[0m┃\u001b[1m \u001b[0m\u001b[1mlogits          \u001b[0m\u001b[1m \u001b[0m┃\n",
       "┡━━━━━━━━━━━━━━━━━━━━━━━━━━━━━━━━━╇━━━━━━━━━━━━━━━━━━━━━━━━━━━━━━━━━━━━╇━━━━━━━━━━━━━━━━━━┩\n",
       "│ 感谢认领.                       │ 公主                               │ [0.7264, 0.2736] │\n",
       "├─────────────────────────────────┼────────────────────────────────────┼──────────────────┤\n",
       "│ 感谢认领露思好漂亮              │ 感谢认领美丽露宝~                  │ [0.4633, 0.5367] │\n",
       "├─────────────────────────────────┼────────────────────────────────────┼──────────────────┤\n",
       "│ 感谢认领露思好漂亮              │ 赵露思好美                         │ [0.7743, 0.2257] │\n",
       "├─────────────────────────────────┼────────────────────────────────────┼──────────────────┤\n",
       "│ 杀了那么多人 蛇蝎心肠 还不够死� │ 他很好？很好为什么逮捕她？杀人     │ [0.28, 0.72]     │\n",
       "├─────────────────────────────────┼────────────────────────────────────┼──────────────────┤\n",
       "│ 她的辩护律师想通过帮她翻案，    │ 二审维持原判还能上诉吗？           │ [0.473, 0.527]   │\n",
       "├─────────────────────────────────┼────────────────────────────────────┼──────────────────┤\n",
       "│ 妈的 这个律师有点良心吧 维持原  │ 感谢认领.                          │ [0.575, 0.425]   │\n",
       "├─────────────────────────────────┼────────────────────────────────────┼──────────────────┤\n",
       "│ 她的辩护律师想通过帮她翻案，    │ 她家人没事吧？果然不是一家人，不进 │ [0.3578, 0.6422] │\n",
       "├─────────────────────────────────┼────────────────────────────────────┼──────────────────┤\n",
       "│ 《互联网黑历史现状》            │ 《你看看》                         │ [0.682, 0.318]   │\n",
       "└─────────────────────────────────┴────────────────────────────────────┴──────────────────┘\n"
      ]
     },
     "metadata": {},
     "output_type": "display_data"
    },
    {
     "data": {
      "text/html": [
       "<pre style=\"white-space:pre;overflow-x:auto;line-height:normal;font-family:Menlo,'DejaVu Sans Mono',consolas,'Courier New',monospace\">┏━━━━━━━━━━━━━━━━━━━━━━━━━━━━━━━━━┳━━━━━━━━━━━━━━━━━━━━━━━━━━━━━━━━┳━━━━━━━━━━━━━━━━━━┓\n",
       "┃<span style=\"font-weight: bold\"> chosen_text                     </span>┃<span style=\"font-weight: bold\"> rejected_text                  </span>┃<span style=\"font-weight: bold\"> logits           </span>┃\n",
       "┡━━━━━━━━━━━━━━━━━━━━━━━━━━━━━━━━━╇━━━━━━━━━━━━━━━━━━━━━━━━━━━━━━━━╇━━━━━━━━━━━━━━━━━━┩\n",
       "│ 感谢认领.                       │ 公主                           │ [0.7264, 0.2736] │\n",
       "├─────────────────────────────────┼────────────────────────────────┼──────────────────┤\n",
       "│ 感谢认领露思好漂亮              │ 感谢认领美丽露宝~              │ [0.4633, 0.5367] │\n",
       "├─────────────────────────────────┼────────────────────────────────┼──────────────────┤\n",
       "│ 感谢认领露思好漂亮              │ 赵露思好美                     │ [0.7743, 0.2257] │\n",
       "├─────────────────────────────────┼────────────────────────────────┼──────────────────┤\n",
       "│ 杀了那么多人 蛇蝎心肠 还不够死� │ 他很好？很好为什么逮捕她？杀人 │ [0.28, 0.72]     │\n",
       "└─────────────────────────────────┴────────────────────────────────┴──────────────────┘\n",
       "</pre>\n"
      ],
      "text/plain": [
       "┏━━━━━━━━━━━━━━━━━━━━━━━━━━━━━━━━━┳━━━━━━━━━━━━━━━━━━━━━━━━━━━━━━━━┳━━━━━━━━━━━━━━━━━━┓\n",
       "┃\u001b[1m \u001b[0m\u001b[1mchosen_text                    \u001b[0m\u001b[1m \u001b[0m┃\u001b[1m \u001b[0m\u001b[1mrejected_text                 \u001b[0m\u001b[1m \u001b[0m┃\u001b[1m \u001b[0m\u001b[1mlogits          \u001b[0m\u001b[1m \u001b[0m┃\n",
       "┡━━━━━━━━━━━━━━━━━━━━━━━━━━━━━━━━━╇━━━━━━━━━━━━━━━━━━━━━━━━━━━━━━━━╇━━━━━━━━━━━━━━━━━━┩\n",
       "│ 感谢认领.                       │ 公主                           │ [0.7264, 0.2736] │\n",
       "├─────────────────────────────────┼────────────────────────────────┼──────────────────┤\n",
       "│ 感谢认领露思好漂亮              │ 感谢认领美丽露宝~              │ [0.4633, 0.5367] │\n",
       "├─────────────────────────────────┼────────────────────────────────┼──────────────────┤\n",
       "│ 感谢认领露思好漂亮              │ 赵露思好美                     │ [0.7743, 0.2257] │\n",
       "├─────────────────────────────────┼────────────────────────────────┼──────────────────┤\n",
       "│ 杀了那么多人 蛇蝎心肠 还不够死� │ 他很好？很好为什么逮捕她？杀人 │ [0.28, 0.72]     │\n",
       "└─────────────────────────────────┴────────────────────────────────┴──────────────────┘\n"
      ]
     },
     "metadata": {},
     "output_type": "display_data"
    },
    {
     "name": "stderr",
     "output_type": "stream",
     "text": [
      "/usr/local/lib/python3.8/dist-packages/transformers/tokenization_utils_base.py:2778: UserWarning: `max_length` is ignored when `padding`=`True` and there is no truncation strategy. To pad to max length, use `padding='max_length'`.\n",
      "  warnings.warn(\n",
      "/usr/local/lib/python3.8/dist-packages/trl/trainer/utils.py:599: UserWarning: There are 22 out of 3451 instances where the predictions for both options are equal. As a consequence the accuracy can be misleading.\n",
      "  warnings.warn(\n",
      "/usr/local/lib/python3.8/dist-packages/transformers/tokenization_utils_base.py:2778: UserWarning: `max_length` is ignored when `padding`=`True` and there is no truncation strategy. To pad to max length, use `padding='max_length'`.\n",
      "  warnings.warn(\n",
      "/usr/local/lib/python3.8/dist-packages/torch/utils/checkpoint.py:464: UserWarning: torch.utils.checkpoint: the use_reentrant parameter should be passed explicitly. In version 2.4 we will raise an exception if use_reentrant is not passed. use_reentrant=False is recommended, but if you need to preserve the current default behavior, you can pass use_reentrant=True. Refer to docs for more details on the differences between the two variants.\n",
      "  warnings.warn(\n",
      "/usr/local/lib/python3.8/dist-packages/torch/utils/checkpoint.py:91: UserWarning: None of the inputs have requires_grad=True. Gradients will be None\n",
      "  warnings.warn(\n"
     ]
    },
    {
     "data": {
      "text/html": [
       "<pre style=\"white-space:pre;overflow-x:auto;line-height:normal;font-family:Menlo,'DejaVu Sans Mono',consolas,'Courier New',monospace\">┏━━━━━━━━━━━━━━━━━━━━━━━━━━━━━━━━━┳━━━━━━━━━━━━━━━━━━━━━━━━━━━━━━━━━━━━┳━━━━━━━━━━━━━━━━━━┓\n",
       "┃<span style=\"font-weight: bold\"> chosen_text                     </span>┃<span style=\"font-weight: bold\"> rejected_text                      </span>┃<span style=\"font-weight: bold\"> logits           </span>┃\n",
       "┡━━━━━━━━━━━━━━━━━━━━━━━━━━━━━━━━━╇━━━━━━━━━━━━━━━━━━━━━━━━━━━━━━━━━━━━╇━━━━━━━━━━━━━━━━━━┩\n",
       "│ 感谢认领.                       │ 公主                               │ [0.6202, 0.3798] │\n",
       "├─────────────────────────────────┼────────────────────────────────────┼──────────────────┤\n",
       "│ 感谢认领露思好漂亮              │ 感谢认领美丽露宝~                  │ [0.5921, 0.4079] │\n",
       "├─────────────────────────────────┼────────────────────────────────────┼──────────────────┤\n",
       "│ 感谢认领露思好漂亮              │ 赵露思好美                         │ [0.5157, 0.4843] │\n",
       "├─────────────────────────────────┼────────────────────────────────────┼──────────────────┤\n",
       "│ 杀了那么多人 蛇蝎心肠 还不够死� │ 他很好？很好为什么逮捕她？杀人     │ [0.2086, 0.7914] │\n",
       "├─────────────────────────────────┼────────────────────────────────────┼──────────────────┤\n",
       "│ 她的辩护律师想通过帮她翻案，    │ 二审维持原判还能上诉吗？           │ [0.401, 0.599]   │\n",
       "├─────────────────────────────────┼────────────────────────────────────┼──────────────────┤\n",
       "│ 妈的 这个律师有点良心吧 维持原  │ 感谢认领.                          │ [0.6554, 0.3446] │\n",
       "├─────────────────────────────────┼────────────────────────────────────┼──────────────────┤\n",
       "│ 她的辩护律师想通过帮她翻案，    │ 她家人没事吧？果然不是一家人，不进 │ [0.2415, 0.7585] │\n",
       "├─────────────────────────────────┼────────────────────────────────────┼──────────────────┤\n",
       "│ 《互联网黑历史现状》            │ 《你看看》                         │ [0.5453, 0.4547] │\n",
       "└─────────────────────────────────┴────────────────────────────────────┴──────────────────┘\n",
       "</pre>\n"
      ],
      "text/plain": [
       "┏━━━━━━━━━━━━━━━━━━━━━━━━━━━━━━━━━┳━━━━━━━━━━━━━━━━━━━━━━━━━━━━━━━━━━━━┳━━━━━━━━━━━━━━━━━━┓\n",
       "┃\u001b[1m \u001b[0m\u001b[1mchosen_text                    \u001b[0m\u001b[1m \u001b[0m┃\u001b[1m \u001b[0m\u001b[1mrejected_text                     \u001b[0m\u001b[1m \u001b[0m┃\u001b[1m \u001b[0m\u001b[1mlogits          \u001b[0m\u001b[1m \u001b[0m┃\n",
       "┡━━━━━━━━━━━━━━━━━━━━━━━━━━━━━━━━━╇━━━━━━━━━━━━━━━━━━━━━━━━━━━━━━━━━━━━╇━━━━━━━━━━━━━━━━━━┩\n",
       "│ 感谢认领.                       │ 公主                               │ [0.6202, 0.3798] │\n",
       "├─────────────────────────────────┼────────────────────────────────────┼──────────────────┤\n",
       "│ 感谢认领露思好漂亮              │ 感谢认领美丽露宝~                  │ [0.5921, 0.4079] │\n",
       "├─────────────────────────────────┼────────────────────────────────────┼──────────────────┤\n",
       "│ 感谢认领露思好漂亮              │ 赵露思好美                         │ [0.5157, 0.4843] │\n",
       "├─────────────────────────────────┼────────────────────────────────────┼──────────────────┤\n",
       "│ 杀了那么多人 蛇蝎心肠 还不够死� │ 他很好？很好为什么逮捕她？杀人     │ [0.2086, 0.7914] │\n",
       "├─────────────────────────────────┼────────────────────────────────────┼──────────────────┤\n",
       "│ 她的辩护律师想通过帮她翻案，    │ 二审维持原判还能上诉吗？           │ [0.401, 0.599]   │\n",
       "├─────────────────────────────────┼────────────────────────────────────┼──────────────────┤\n",
       "│ 妈的 这个律师有点良心吧 维持原  │ 感谢认领.                          │ [0.6554, 0.3446] │\n",
       "├─────────────────────────────────┼────────────────────────────────────┼──────────────────┤\n",
       "│ 她的辩护律师想通过帮她翻案，    │ 她家人没事吧？果然不是一家人，不进 │ [0.2415, 0.7585] │\n",
       "├─────────────────────────────────┼────────────────────────────────────┼──────────────────┤\n",
       "│ 《互联网黑历史现状》            │ 《你看看》                         │ [0.5453, 0.4547] │\n",
       "└─────────────────────────────────┴────────────────────────────────────┴──────────────────┘\n"
      ]
     },
     "metadata": {},
     "output_type": "display_data"
    },
    {
     "data": {
      "text/html": [
       "<pre style=\"white-space:pre;overflow-x:auto;line-height:normal;font-family:Menlo,'DejaVu Sans Mono',consolas,'Courier New',monospace\">┏━━━━━━━━━━━━━━━━━━━━━━━━━━━━━━━━━┳━━━━━━━━━━━━━━━━━━━━━━━━━━━━━━━━┳━━━━━━━━━━━━━━━━━━┓\n",
       "┃<span style=\"font-weight: bold\"> chosen_text                     </span>┃<span style=\"font-weight: bold\"> rejected_text                  </span>┃<span style=\"font-weight: bold\"> logits           </span>┃\n",
       "┡━━━━━━━━━━━━━━━━━━━━━━━━━━━━━━━━━╇━━━━━━━━━━━━━━━━━━━━━━━━━━━━━━━━╇━━━━━━━━━━━━━━━━━━┩\n",
       "│ 感谢认领.                       │ 公主                           │ [0.6202, 0.3798] │\n",
       "├─────────────────────────────────┼────────────────────────────────┼──────────────────┤\n",
       "│ 感谢认领露思好漂亮              │ 感谢认领美丽露宝~              │ [0.5921, 0.4079] │\n",
       "├─────────────────────────────────┼────────────────────────────────┼──────────────────┤\n",
       "│ 感谢认领露思好漂亮              │ 赵露思好美                     │ [0.5157, 0.4843] │\n",
       "├─────────────────────────────────┼────────────────────────────────┼──────────────────┤\n",
       "│ 杀了那么多人 蛇蝎心肠 还不够死� │ 他很好？很好为什么逮捕她？杀人 │ [0.2086, 0.7914] │\n",
       "└─────────────────────────────────┴────────────────────────────────┴──────────────────┘\n",
       "</pre>\n"
      ],
      "text/plain": [
       "┏━━━━━━━━━━━━━━━━━━━━━━━━━━━━━━━━━┳━━━━━━━━━━━━━━━━━━━━━━━━━━━━━━━━┳━━━━━━━━━━━━━━━━━━┓\n",
       "┃\u001b[1m \u001b[0m\u001b[1mchosen_text                    \u001b[0m\u001b[1m \u001b[0m┃\u001b[1m \u001b[0m\u001b[1mrejected_text                 \u001b[0m\u001b[1m \u001b[0m┃\u001b[1m \u001b[0m\u001b[1mlogits          \u001b[0m\u001b[1m \u001b[0m┃\n",
       "┡━━━━━━━━━━━━━━━━━━━━━━━━━━━━━━━━━╇━━━━━━━━━━━━━━━━━━━━━━━━━━━━━━━━╇━━━━━━━━━━━━━━━━━━┩\n",
       "│ 感谢认领.                       │ 公主                           │ [0.6202, 0.3798] │\n",
       "├─────────────────────────────────┼────────────────────────────────┼──────────────────┤\n",
       "│ 感谢认领露思好漂亮              │ 感谢认领美丽露宝~              │ [0.5921, 0.4079] │\n",
       "├─────────────────────────────────┼────────────────────────────────┼──────────────────┤\n",
       "│ 感谢认领露思好漂亮              │ 赵露思好美                     │ [0.5157, 0.4843] │\n",
       "├─────────────────────────────────┼────────────────────────────────┼──────────────────┤\n",
       "│ 杀了那么多人 蛇蝎心肠 还不够死� │ 他很好？很好为什么逮捕她？杀人 │ [0.2086, 0.7914] │\n",
       "└─────────────────────────────────┴────────────────────────────────┴──────────────────┘\n"
      ]
     },
     "metadata": {},
     "output_type": "display_data"
    },
    {
     "name": "stderr",
     "output_type": "stream",
     "text": [
      "/usr/local/lib/python3.8/dist-packages/transformers/tokenization_utils_base.py:2778: UserWarning: `max_length` is ignored when `padding`=`True` and there is no truncation strategy. To pad to max length, use `padding='max_length'`.\n",
      "  warnings.warn(\n",
      "/usr/local/lib/python3.8/dist-packages/trl/trainer/utils.py:599: UserWarning: There are 22 out of 3451 instances where the predictions for both options are equal. As a consequence the accuracy can be misleading.\n",
      "  warnings.warn(\n",
      "/usr/local/lib/python3.8/dist-packages/transformers/tokenization_utils_base.py:2778: UserWarning: `max_length` is ignored when `padding`=`True` and there is no truncation strategy. To pad to max length, use `padding='max_length'`.\n",
      "  warnings.warn(\n",
      "/usr/local/lib/python3.8/dist-packages/torch/utils/checkpoint.py:464: UserWarning: torch.utils.checkpoint: the use_reentrant parameter should be passed explicitly. In version 2.4 we will raise an exception if use_reentrant is not passed. use_reentrant=False is recommended, but if you need to preserve the current default behavior, you can pass use_reentrant=True. Refer to docs for more details on the differences between the two variants.\n",
      "  warnings.warn(\n",
      "/usr/local/lib/python3.8/dist-packages/torch/utils/checkpoint.py:91: UserWarning: None of the inputs have requires_grad=True. Gradients will be None\n",
      "  warnings.warn(\n"
     ]
    },
    {
     "data": {
      "text/html": [
       "<pre style=\"white-space:pre;overflow-x:auto;line-height:normal;font-family:Menlo,'DejaVu Sans Mono',consolas,'Courier New',monospace\">┏━━━━━━━━━━━━━━━━━━━━━━━━━━━━━━━━━┳━━━━━━━━━━━━━━━━━━━━━━━━━━━━━━━━━━━━┳━━━━━━━━━━━━━━━━━━┓\n",
       "┃<span style=\"font-weight: bold\"> chosen_text                     </span>┃<span style=\"font-weight: bold\"> rejected_text                      </span>┃<span style=\"font-weight: bold\"> logits           </span>┃\n",
       "┡━━━━━━━━━━━━━━━━━━━━━━━━━━━━━━━━━╇━━━━━━━━━━━━━━━━━━━━━━━━━━━━━━━━━━━━╇━━━━━━━━━━━━━━━━━━┩\n",
       "│ 感谢认领.                       │ 公主                               │ [0.5747, 0.4253] │\n",
       "├─────────────────────────────────┼────────────────────────────────────┼──────────────────┤\n",
       "│ 感谢认领露思好漂亮              │ 感谢认领美丽露宝~                  │ [0.6129, 0.3871] │\n",
       "├─────────────────────────────────┼────────────────────────────────────┼──────────────────┤\n",
       "│ 感谢认领露思好漂亮              │ 赵露思好美                         │ [0.4923, 0.5077] │\n",
       "├─────────────────────────────────┼────────────────────────────────────┼──────────────────┤\n",
       "│ 杀了那么多人 蛇蝎心肠 还不够死� │ 他很好？很好为什么逮捕她？杀人     │ [0.2904, 0.7096] │\n",
       "├─────────────────────────────────┼────────────────────────────────────┼──────────────────┤\n",
       "│ 她的辩护律师想通过帮她翻案，    │ 二审维持原判还能上诉吗？           │ [0.4006, 0.5994] │\n",
       "├─────────────────────────────────┼────────────────────────────────────┼──────────────────┤\n",
       "│ 妈的 这个律师有点良心吧 维持原  │ 感谢认领.                          │ [0.6702, 0.3298] │\n",
       "├─────────────────────────────────┼────────────────────────────────────┼──────────────────┤\n",
       "│ 她的辩护律师想通过帮她翻案，    │ 她家人没事吧？果然不是一家人，不进 │ [0.5701, 0.4299] │\n",
       "├─────────────────────────────────┼────────────────────────────────────┼──────────────────┤\n",
       "│ 《互联网黑历史现状》            │ 《你看看》                         │ [0.7336, 0.2664] │\n",
       "└─────────────────────────────────┴────────────────────────────────────┴──────────────────┘\n",
       "</pre>\n"
      ],
      "text/plain": [
       "┏━━━━━━━━━━━━━━━━━━━━━━━━━━━━━━━━━┳━━━━━━━━━━━━━━━━━━━━━━━━━━━━━━━━━━━━┳━━━━━━━━━━━━━━━━━━┓\n",
       "┃\u001b[1m \u001b[0m\u001b[1mchosen_text                    \u001b[0m\u001b[1m \u001b[0m┃\u001b[1m \u001b[0m\u001b[1mrejected_text                     \u001b[0m\u001b[1m \u001b[0m┃\u001b[1m \u001b[0m\u001b[1mlogits          \u001b[0m\u001b[1m \u001b[0m┃\n",
       "┡━━━━━━━━━━━━━━━━━━━━━━━━━━━━━━━━━╇━━━━━━━━━━━━━━━━━━━━━━━━━━━━━━━━━━━━╇━━━━━━━━━━━━━━━━━━┩\n",
       "│ 感谢认领.                       │ 公主                               │ [0.5747, 0.4253] │\n",
       "├─────────────────────────────────┼────────────────────────────────────┼──────────────────┤\n",
       "│ 感谢认领露思好漂亮              │ 感谢认领美丽露宝~                  │ [0.6129, 0.3871] │\n",
       "├─────────────────────────────────┼────────────────────────────────────┼──────────────────┤\n",
       "│ 感谢认领露思好漂亮              │ 赵露思好美                         │ [0.4923, 0.5077] │\n",
       "├─────────────────────────────────┼────────────────────────────────────┼──────────────────┤\n",
       "│ 杀了那么多人 蛇蝎心肠 还不够死� │ 他很好？很好为什么逮捕她？杀人     │ [0.2904, 0.7096] │\n",
       "├─────────────────────────────────┼────────────────────────────────────┼──────────────────┤\n",
       "│ 她的辩护律师想通过帮她翻案，    │ 二审维持原判还能上诉吗？           │ [0.4006, 0.5994] │\n",
       "├─────────────────────────────────┼────────────────────────────────────┼──────────────────┤\n",
       "│ 妈的 这个律师有点良心吧 维持原  │ 感谢认领.                          │ [0.6702, 0.3298] │\n",
       "├─────────────────────────────────┼────────────────────────────────────┼──────────────────┤\n",
       "│ 她的辩护律师想通过帮她翻案，    │ 她家人没事吧？果然不是一家人，不进 │ [0.5701, 0.4299] │\n",
       "├─────────────────────────────────┼────────────────────────────────────┼──────────────────┤\n",
       "│ 《互联网黑历史现状》            │ 《你看看》                         │ [0.7336, 0.2664] │\n",
       "└─────────────────────────────────┴────────────────────────────────────┴──────────────────┘\n"
      ]
     },
     "metadata": {},
     "output_type": "display_data"
    },
    {
     "data": {
      "text/html": [
       "<pre style=\"white-space:pre;overflow-x:auto;line-height:normal;font-family:Menlo,'DejaVu Sans Mono',consolas,'Courier New',monospace\">┏━━━━━━━━━━━━━━━━━━━━━━━━━━━━━━━━━┳━━━━━━━━━━━━━━━━━━━━━━━━━━━━━━━━┳━━━━━━━━━━━━━━━━━━┓\n",
       "┃<span style=\"font-weight: bold\"> chosen_text                     </span>┃<span style=\"font-weight: bold\"> rejected_text                  </span>┃<span style=\"font-weight: bold\"> logits           </span>┃\n",
       "┡━━━━━━━━━━━━━━━━━━━━━━━━━━━━━━━━━╇━━━━━━━━━━━━━━━━━━━━━━━━━━━━━━━━╇━━━━━━━━━━━━━━━━━━┩\n",
       "│ 感谢认领.                       │ 公主                           │ [0.5747, 0.4253] │\n",
       "├─────────────────────────────────┼────────────────────────────────┼──────────────────┤\n",
       "│ 感谢认领露思好漂亮              │ 感谢认领美丽露宝~              │ [0.6129, 0.3871] │\n",
       "├─────────────────────────────────┼────────────────────────────────┼──────────────────┤\n",
       "│ 感谢认领露思好漂亮              │ 赵露思好美                     │ [0.4923, 0.5077] │\n",
       "├─────────────────────────────────┼────────────────────────────────┼──────────────────┤\n",
       "│ 杀了那么多人 蛇蝎心肠 还不够死� │ 他很好？很好为什么逮捕她？杀人 │ [0.2904, 0.7096] │\n",
       "└─────────────────────────────────┴────────────────────────────────┴──────────────────┘\n",
       "</pre>\n"
      ],
      "text/plain": [
       "┏━━━━━━━━━━━━━━━━━━━━━━━━━━━━━━━━━┳━━━━━━━━━━━━━━━━━━━━━━━━━━━━━━━━┳━━━━━━━━━━━━━━━━━━┓\n",
       "┃\u001b[1m \u001b[0m\u001b[1mchosen_text                    \u001b[0m\u001b[1m \u001b[0m┃\u001b[1m \u001b[0m\u001b[1mrejected_text                 \u001b[0m\u001b[1m \u001b[0m┃\u001b[1m \u001b[0m\u001b[1mlogits          \u001b[0m\u001b[1m \u001b[0m┃\n",
       "┡━━━━━━━━━━━━━━━━━━━━━━━━━━━━━━━━━╇━━━━━━━━━━━━━━━━━━━━━━━━━━━━━━━━╇━━━━━━━━━━━━━━━━━━┩\n",
       "│ 感谢认领.                       │ 公主                           │ [0.5747, 0.4253] │\n",
       "├─────────────────────────────────┼────────────────────────────────┼──────────────────┤\n",
       "│ 感谢认领露思好漂亮              │ 感谢认领美丽露宝~              │ [0.6129, 0.3871] │\n",
       "├─────────────────────────────────┼────────────────────────────────┼──────────────────┤\n",
       "│ 感谢认领露思好漂亮              │ 赵露思好美                     │ [0.4923, 0.5077] │\n",
       "├─────────────────────────────────┼────────────────────────────────┼──────────────────┤\n",
       "│ 杀了那么多人 蛇蝎心肠 还不够死� │ 他很好？很好为什么逮捕她？杀人 │ [0.2904, 0.7096] │\n",
       "└─────────────────────────────────┴────────────────────────────────┴──────────────────┘\n"
      ]
     },
     "metadata": {},
     "output_type": "display_data"
    },
    {
     "name": "stderr",
     "output_type": "stream",
     "text": [
      "/usr/local/lib/python3.8/dist-packages/transformers/tokenization_utils_base.py:2778: UserWarning: `max_length` is ignored when `padding`=`True` and there is no truncation strategy. To pad to max length, use `padding='max_length'`.\n",
      "  warnings.warn(\n",
      "/usr/local/lib/python3.8/dist-packages/trl/trainer/utils.py:599: UserWarning: There are 22 out of 3451 instances where the predictions for both options are equal. As a consequence the accuracy can be misleading.\n",
      "  warnings.warn(\n",
      "/usr/local/lib/python3.8/dist-packages/transformers/tokenization_utils_base.py:2778: UserWarning: `max_length` is ignored when `padding`=`True` and there is no truncation strategy. To pad to max length, use `padding='max_length'`.\n",
      "  warnings.warn(\n",
      "/usr/local/lib/python3.8/dist-packages/torch/utils/checkpoint.py:464: UserWarning: torch.utils.checkpoint: the use_reentrant parameter should be passed explicitly. In version 2.4 we will raise an exception if use_reentrant is not passed. use_reentrant=False is recommended, but if you need to preserve the current default behavior, you can pass use_reentrant=True. Refer to docs for more details on the differences between the two variants.\n",
      "  warnings.warn(\n",
      "/usr/local/lib/python3.8/dist-packages/torch/utils/checkpoint.py:91: UserWarning: None of the inputs have requires_grad=True. Gradients will be None\n",
      "  warnings.warn(\n"
     ]
    },
    {
     "data": {
      "text/html": [
       "<pre style=\"white-space:pre;overflow-x:auto;line-height:normal;font-family:Menlo,'DejaVu Sans Mono',consolas,'Courier New',monospace\">┏━━━━━━━━━━━━━━━━━━━━━━━━━━━━━━━━━┳━━━━━━━━━━━━━━━━━━━━━━━━━━━━━━━━━━━━┳━━━━━━━━━━━━━━━━━━┓\n",
       "┃<span style=\"font-weight: bold\"> chosen_text                     </span>┃<span style=\"font-weight: bold\"> rejected_text                      </span>┃<span style=\"font-weight: bold\"> logits           </span>┃\n",
       "┡━━━━━━━━━━━━━━━━━━━━━━━━━━━━━━━━━╇━━━━━━━━━━━━━━━━━━━━━━━━━━━━━━━━━━━━╇━━━━━━━━━━━━━━━━━━┩\n",
       "│ 感谢认领.                       │ 公主                               │ [0.5973, 0.4027] │\n",
       "├─────────────────────────────────┼────────────────────────────────────┼──────────────────┤\n",
       "│ 感谢认领露思好漂亮              │ 感谢认领美丽露宝~                  │ [0.4285, 0.5715] │\n",
       "├─────────────────────────────────┼────────────────────────────────────┼──────────────────┤\n",
       "│ 感谢认领露思好漂亮              │ 赵露思好美                         │ [0.6618, 0.3382] │\n",
       "├─────────────────────────────────┼────────────────────────────────────┼──────────────────┤\n",
       "│ 杀了那么多人 蛇蝎心肠 还不够死� │ 他很好？很好为什么逮捕她？杀人     │ [0.1351, 0.8649] │\n",
       "├─────────────────────────────────┼────────────────────────────────────┼──────────────────┤\n",
       "│ 她的辩护律师想通过帮她翻案，    │ 二审维持原判还能上诉吗？           │ [0.3783, 0.6217] │\n",
       "├─────────────────────────────────┼────────────────────────────────────┼──────────────────┤\n",
       "│ 妈的 这个律师有点良心吧 维持原  │ 感谢认领.                          │ [0.6533, 0.3467] │\n",
       "├─────────────────────────────────┼────────────────────────────────────┼──────────────────┤\n",
       "│ 她的辩护律师想通过帮她翻案，    │ 她家人没事吧？果然不是一家人，不进 │ [0.3611, 0.6389] │\n",
       "├─────────────────────────────────┼────────────────────────────────────┼──────────────────┤\n",
       "│ 《互联网黑历史现状》            │ 《你看看》                         │ [0.5393, 0.4607] │\n",
       "└─────────────────────────────────┴────────────────────────────────────┴──────────────────┘\n",
       "</pre>\n"
      ],
      "text/plain": [
       "┏━━━━━━━━━━━━━━━━━━━━━━━━━━━━━━━━━┳━━━━━━━━━━━━━━━━━━━━━━━━━━━━━━━━━━━━┳━━━━━━━━━━━━━━━━━━┓\n",
       "┃\u001b[1m \u001b[0m\u001b[1mchosen_text                    \u001b[0m\u001b[1m \u001b[0m┃\u001b[1m \u001b[0m\u001b[1mrejected_text                     \u001b[0m\u001b[1m \u001b[0m┃\u001b[1m \u001b[0m\u001b[1mlogits          \u001b[0m\u001b[1m \u001b[0m┃\n",
       "┡━━━━━━━━━━━━━━━━━━━━━━━━━━━━━━━━━╇━━━━━━━━━━━━━━━━━━━━━━━━━━━━━━━━━━━━╇━━━━━━━━━━━━━━━━━━┩\n",
       "│ 感谢认领.                       │ 公主                               │ [0.5973, 0.4027] │\n",
       "├─────────────────────────────────┼────────────────────────────────────┼──────────────────┤\n",
       "│ 感谢认领露思好漂亮              │ 感谢认领美丽露宝~                  │ [0.4285, 0.5715] │\n",
       "├─────────────────────────────────┼────────────────────────────────────┼──────────────────┤\n",
       "│ 感谢认领露思好漂亮              │ 赵露思好美                         │ [0.6618, 0.3382] │\n",
       "├─────────────────────────────────┼────────────────────────────────────┼──────────────────┤\n",
       "│ 杀了那么多人 蛇蝎心肠 还不够死� │ 他很好？很好为什么逮捕她？杀人     │ [0.1351, 0.8649] │\n",
       "├─────────────────────────────────┼────────────────────────────────────┼──────────────────┤\n",
       "│ 她的辩护律师想通过帮她翻案，    │ 二审维持原判还能上诉吗？           │ [0.3783, 0.6217] │\n",
       "├─────────────────────────────────┼────────────────────────────────────┼──────────────────┤\n",
       "│ 妈的 这个律师有点良心吧 维持原  │ 感谢认领.                          │ [0.6533, 0.3467] │\n",
       "├─────────────────────────────────┼────────────────────────────────────┼──────────────────┤\n",
       "│ 她的辩护律师想通过帮她翻案，    │ 她家人没事吧？果然不是一家人，不进 │ [0.3611, 0.6389] │\n",
       "├─────────────────────────────────┼────────────────────────────────────┼──────────────────┤\n",
       "│ 《互联网黑历史现状》            │ 《你看看》                         │ [0.5393, 0.4607] │\n",
       "└─────────────────────────────────┴────────────────────────────────────┴──────────────────┘\n"
      ]
     },
     "metadata": {},
     "output_type": "display_data"
    },
    {
     "data": {
      "text/html": [
       "<pre style=\"white-space:pre;overflow-x:auto;line-height:normal;font-family:Menlo,'DejaVu Sans Mono',consolas,'Courier New',monospace\">┏━━━━━━━━━━━━━━━━━━━━━━━━━━━━━━━━━┳━━━━━━━━━━━━━━━━━━━━━━━━━━━━━━━━┳━━━━━━━━━━━━━━━━━━┓\n",
       "┃<span style=\"font-weight: bold\"> chosen_text                     </span>┃<span style=\"font-weight: bold\"> rejected_text                  </span>┃<span style=\"font-weight: bold\"> logits           </span>┃\n",
       "┡━━━━━━━━━━━━━━━━━━━━━━━━━━━━━━━━━╇━━━━━━━━━━━━━━━━━━━━━━━━━━━━━━━━╇━━━━━━━━━━━━━━━━━━┩\n",
       "│ 感谢认领.                       │ 公主                           │ [0.5973, 0.4027] │\n",
       "├─────────────────────────────────┼────────────────────────────────┼──────────────────┤\n",
       "│ 感谢认领露思好漂亮              │ 感谢认领美丽露宝~              │ [0.4285, 0.5715] │\n",
       "├─────────────────────────────────┼────────────────────────────────┼──────────────────┤\n",
       "│ 感谢认领露思好漂亮              │ 赵露思好美                     │ [0.6618, 0.3382] │\n",
       "├─────────────────────────────────┼────────────────────────────────┼──────────────────┤\n",
       "│ 杀了那么多人 蛇蝎心肠 还不够死� │ 他很好？很好为什么逮捕她？杀人 │ [0.1351, 0.8649] │\n",
       "└─────────────────────────────────┴────────────────────────────────┴──────────────────┘\n",
       "</pre>\n"
      ],
      "text/plain": [
       "┏━━━━━━━━━━━━━━━━━━━━━━━━━━━━━━━━━┳━━━━━━━━━━━━━━━━━━━━━━━━━━━━━━━━┳━━━━━━━━━━━━━━━━━━┓\n",
       "┃\u001b[1m \u001b[0m\u001b[1mchosen_text                    \u001b[0m\u001b[1m \u001b[0m┃\u001b[1m \u001b[0m\u001b[1mrejected_text                 \u001b[0m\u001b[1m \u001b[0m┃\u001b[1m \u001b[0m\u001b[1mlogits          \u001b[0m\u001b[1m \u001b[0m┃\n",
       "┡━━━━━━━━━━━━━━━━━━━━━━━━━━━━━━━━━╇━━━━━━━━━━━━━━━━━━━━━━━━━━━━━━━━╇━━━━━━━━━━━━━━━━━━┩\n",
       "│ 感谢认领.                       │ 公主                           │ [0.5973, 0.4027] │\n",
       "├─────────────────────────────────┼────────────────────────────────┼──────────────────┤\n",
       "│ 感谢认领露思好漂亮              │ 感谢认领美丽露宝~              │ [0.4285, 0.5715] │\n",
       "├─────────────────────────────────┼────────────────────────────────┼──────────────────┤\n",
       "│ 感谢认领露思好漂亮              │ 赵露思好美                     │ [0.6618, 0.3382] │\n",
       "├─────────────────────────────────┼────────────────────────────────┼──────────────────┤\n",
       "│ 杀了那么多人 蛇蝎心肠 还不够死� │ 他很好？很好为什么逮捕她？杀人 │ [0.1351, 0.8649] │\n",
       "└─────────────────────────────────┴────────────────────────────────┴──────────────────┘\n"
      ]
     },
     "metadata": {},
     "output_type": "display_data"
    },
    {
     "name": "stderr",
     "output_type": "stream",
     "text": [
      "/usr/local/lib/python3.8/dist-packages/transformers/tokenization_utils_base.py:2778: UserWarning: `max_length` is ignored when `padding`=`True` and there is no truncation strategy. To pad to max length, use `padding='max_length'`.\n",
      "  warnings.warn(\n",
      "/usr/local/lib/python3.8/dist-packages/trl/trainer/utils.py:599: UserWarning: There are 22 out of 3451 instances where the predictions for both options are equal. As a consequence the accuracy can be misleading.\n",
      "  warnings.warn(\n",
      "/usr/local/lib/python3.8/dist-packages/transformers/tokenization_utils_base.py:2778: UserWarning: `max_length` is ignored when `padding`=`True` and there is no truncation strategy. To pad to max length, use `padding='max_length'`.\n",
      "  warnings.warn(\n",
      "/usr/local/lib/python3.8/dist-packages/torch/utils/checkpoint.py:464: UserWarning: torch.utils.checkpoint: the use_reentrant parameter should be passed explicitly. In version 2.4 we will raise an exception if use_reentrant is not passed. use_reentrant=False is recommended, but if you need to preserve the current default behavior, you can pass use_reentrant=True. Refer to docs for more details on the differences between the two variants.\n",
      "  warnings.warn(\n",
      "/usr/local/lib/python3.8/dist-packages/torch/utils/checkpoint.py:91: UserWarning: None of the inputs have requires_grad=True. Gradients will be None\n",
      "  warnings.warn(\n"
     ]
    },
    {
     "data": {
      "text/html": [
       "<pre style=\"white-space:pre;overflow-x:auto;line-height:normal;font-family:Menlo,'DejaVu Sans Mono',consolas,'Courier New',monospace\">┏━━━━━━━━━━━━━━━━━━━━━━━━━━━━━━━━━┳━━━━━━━━━━━━━━━━━━━━━━━━━━━━━━━━━━━━┳━━━━━━━━━━━━━━━━━━┓\n",
       "┃<span style=\"font-weight: bold\"> chosen_text                     </span>┃<span style=\"font-weight: bold\"> rejected_text                      </span>┃<span style=\"font-weight: bold\"> logits           </span>┃\n",
       "┡━━━━━━━━━━━━━━━━━━━━━━━━━━━━━━━━━╇━━━━━━━━━━━━━━━━━━━━━━━━━━━━━━━━━━━━╇━━━━━━━━━━━━━━━━━━┩\n",
       "│ 感谢认领.                       │ 公主                               │ [0.8086, 0.1914] │\n",
       "├─────────────────────────────────┼────────────────────────────────────┼──────────────────┤\n",
       "│ 感谢认领露思好漂亮              │ 感谢认领美丽露宝~                  │ [0.4729, 0.5271] │\n",
       "├─────────────────────────────────┼────────────────────────────────────┼──────────────────┤\n",
       "│ 感谢认领露思好漂亮              │ 赵露思好美                         │ [0.6092, 0.3908] │\n",
       "├─────────────────────────────────┼────────────────────────────────────┼──────────────────┤\n",
       "│ 杀了那么多人 蛇蝎心肠 还不够死� │ 他很好？很好为什么逮捕她？杀人     │ [0.2649, 0.7351] │\n",
       "├─────────────────────────────────┼────────────────────────────────────┼──────────────────┤\n",
       "│ 她的辩护律师想通过帮她翻案，    │ 二审维持原判还能上诉吗？           │ [0.2246, 0.7754] │\n",
       "├─────────────────────────────────┼────────────────────────────────────┼──────────────────┤\n",
       "│ 妈的 这个律师有点良心吧 维持原  │ 感谢认领.                          │ [0.5194, 0.4806] │\n",
       "├─────────────────────────────────┼────────────────────────────────────┼──────────────────┤\n",
       "│ 她的辩护律师想通过帮她翻案，    │ 她家人没事吧？果然不是一家人，不进 │ [0.2295, 0.7705] │\n",
       "├─────────────────────────────────┼────────────────────────────────────┼──────────────────┤\n",
       "│ 《互联网黑历史现状》            │ 《你看看》                         │ [0.6459, 0.3541] │\n",
       "└─────────────────────────────────┴────────────────────────────────────┴──────────────────┘\n",
       "</pre>\n"
      ],
      "text/plain": [
       "┏━━━━━━━━━━━━━━━━━━━━━━━━━━━━━━━━━┳━━━━━━━━━━━━━━━━━━━━━━━━━━━━━━━━━━━━┳━━━━━━━━━━━━━━━━━━┓\n",
       "┃\u001b[1m \u001b[0m\u001b[1mchosen_text                    \u001b[0m\u001b[1m \u001b[0m┃\u001b[1m \u001b[0m\u001b[1mrejected_text                     \u001b[0m\u001b[1m \u001b[0m┃\u001b[1m \u001b[0m\u001b[1mlogits          \u001b[0m\u001b[1m \u001b[0m┃\n",
       "┡━━━━━━━━━━━━━━━━━━━━━━━━━━━━━━━━━╇━━━━━━━━━━━━━━━━━━━━━━━━━━━━━━━━━━━━╇━━━━━━━━━━━━━━━━━━┩\n",
       "│ 感谢认领.                       │ 公主                               │ [0.8086, 0.1914] │\n",
       "├─────────────────────────────────┼────────────────────────────────────┼──────────────────┤\n",
       "│ 感谢认领露思好漂亮              │ 感谢认领美丽露宝~                  │ [0.4729, 0.5271] │\n",
       "├─────────────────────────────────┼────────────────────────────────────┼──────────────────┤\n",
       "│ 感谢认领露思好漂亮              │ 赵露思好美                         │ [0.6092, 0.3908] │\n",
       "├─────────────────────────────────┼────────────────────────────────────┼──────────────────┤\n",
       "│ 杀了那么多人 蛇蝎心肠 还不够死� │ 他很好？很好为什么逮捕她？杀人     │ [0.2649, 0.7351] │\n",
       "├─────────────────────────────────┼────────────────────────────────────┼──────────────────┤\n",
       "│ 她的辩护律师想通过帮她翻案，    │ 二审维持原判还能上诉吗？           │ [0.2246, 0.7754] │\n",
       "├─────────────────────────────────┼────────────────────────────────────┼──────────────────┤\n",
       "│ 妈的 这个律师有点良心吧 维持原  │ 感谢认领.                          │ [0.5194, 0.4806] │\n",
       "├─────────────────────────────────┼────────────────────────────────────┼──────────────────┤\n",
       "│ 她的辩护律师想通过帮她翻案，    │ 她家人没事吧？果然不是一家人，不进 │ [0.2295, 0.7705] │\n",
       "├─────────────────────────────────┼────────────────────────────────────┼──────────────────┤\n",
       "│ 《互联网黑历史现状》            │ 《你看看》                         │ [0.6459, 0.3541] │\n",
       "└─────────────────────────────────┴────────────────────────────────────┴──────────────────┘\n"
      ]
     },
     "metadata": {},
     "output_type": "display_data"
    },
    {
     "data": {
      "text/html": [
       "<pre style=\"white-space:pre;overflow-x:auto;line-height:normal;font-family:Menlo,'DejaVu Sans Mono',consolas,'Courier New',monospace\">┏━━━━━━━━━━━━━━━━━━━━━━━━━━━━━━━━━┳━━━━━━━━━━━━━━━━━━━━━━━━━━━━━━━━┳━━━━━━━━━━━━━━━━━━┓\n",
       "┃<span style=\"font-weight: bold\"> chosen_text                     </span>┃<span style=\"font-weight: bold\"> rejected_text                  </span>┃<span style=\"font-weight: bold\"> logits           </span>┃\n",
       "┡━━━━━━━━━━━━━━━━━━━━━━━━━━━━━━━━━╇━━━━━━━━━━━━━━━━━━━━━━━━━━━━━━━━╇━━━━━━━━━━━━━━━━━━┩\n",
       "│ 感谢认领.                       │ 公主                           │ [0.8086, 0.1914] │\n",
       "├─────────────────────────────────┼────────────────────────────────┼──────────────────┤\n",
       "│ 感谢认领露思好漂亮              │ 感谢认领美丽露宝~              │ [0.4729, 0.5271] │\n",
       "├─────────────────────────────────┼────────────────────────────────┼──────────────────┤\n",
       "│ 感谢认领露思好漂亮              │ 赵露思好美                     │ [0.6092, 0.3908] │\n",
       "├─────────────────────────────────┼────────────────────────────────┼──────────────────┤\n",
       "│ 杀了那么多人 蛇蝎心肠 还不够死� │ 他很好？很好为什么逮捕她？杀人 │ [0.2649, 0.7351] │\n",
       "└─────────────────────────────────┴────────────────────────────────┴──────────────────┘\n",
       "</pre>\n"
      ],
      "text/plain": [
       "┏━━━━━━━━━━━━━━━━━━━━━━━━━━━━━━━━━┳━━━━━━━━━━━━━━━━━━━━━━━━━━━━━━━━┳━━━━━━━━━━━━━━━━━━┓\n",
       "┃\u001b[1m \u001b[0m\u001b[1mchosen_text                    \u001b[0m\u001b[1m \u001b[0m┃\u001b[1m \u001b[0m\u001b[1mrejected_text                 \u001b[0m\u001b[1m \u001b[0m┃\u001b[1m \u001b[0m\u001b[1mlogits          \u001b[0m\u001b[1m \u001b[0m┃\n",
       "┡━━━━━━━━━━━━━━━━━━━━━━━━━━━━━━━━━╇━━━━━━━━━━━━━━━━━━━━━━━━━━━━━━━━╇━━━━━━━━━━━━━━━━━━┩\n",
       "│ 感谢认领.                       │ 公主                           │ [0.8086, 0.1914] │\n",
       "├─────────────────────────────────┼────────────────────────────────┼──────────────────┤\n",
       "│ 感谢认领露思好漂亮              │ 感谢认领美丽露宝~              │ [0.4729, 0.5271] │\n",
       "├─────────────────────────────────┼────────────────────────────────┼──────────────────┤\n",
       "│ 感谢认领露思好漂亮              │ 赵露思好美                     │ [0.6092, 0.3908] │\n",
       "├─────────────────────────────────┼────────────────────────────────┼──────────────────┤\n",
       "│ 杀了那么多人 蛇蝎心肠 还不够死� │ 他很好？很好为什么逮捕她？杀人 │ [0.2649, 0.7351] │\n",
       "└─────────────────────────────────┴────────────────────────────────┴──────────────────┘\n"
      ]
     },
     "metadata": {},
     "output_type": "display_data"
    },
    {
     "name": "stderr",
     "output_type": "stream",
     "text": [
      "/usr/local/lib/python3.8/dist-packages/transformers/tokenization_utils_base.py:2778: UserWarning: `max_length` is ignored when `padding`=`True` and there is no truncation strategy. To pad to max length, use `padding='max_length'`.\n",
      "  warnings.warn(\n",
      "/usr/local/lib/python3.8/dist-packages/trl/trainer/utils.py:599: UserWarning: There are 22 out of 3451 instances where the predictions for both options are equal. As a consequence the accuracy can be misleading.\n",
      "  warnings.warn(\n",
      "/usr/local/lib/python3.8/dist-packages/transformers/tokenization_utils_base.py:2778: UserWarning: `max_length` is ignored when `padding`=`True` and there is no truncation strategy. To pad to max length, use `padding='max_length'`.\n",
      "  warnings.warn(\n",
      "/usr/local/lib/python3.8/dist-packages/torch/utils/checkpoint.py:464: UserWarning: torch.utils.checkpoint: the use_reentrant parameter should be passed explicitly. In version 2.4 we will raise an exception if use_reentrant is not passed. use_reentrant=False is recommended, but if you need to preserve the current default behavior, you can pass use_reentrant=True. Refer to docs for more details on the differences between the two variants.\n",
      "  warnings.warn(\n",
      "/usr/local/lib/python3.8/dist-packages/torch/utils/checkpoint.py:91: UserWarning: None of the inputs have requires_grad=True. Gradients will be None\n",
      "  warnings.warn(\n"
     ]
    },
    {
     "data": {
      "text/html": [
       "<pre style=\"white-space:pre;overflow-x:auto;line-height:normal;font-family:Menlo,'DejaVu Sans Mono',consolas,'Courier New',monospace\">┏━━━━━━━━━━━━━━━━━━━━━━━━━━━━━━━━━┳━━━━━━━━━━━━━━━━━━━━━━━━━━━━━━━━━━━━┳━━━━━━━━━━━━━━━━━━┓\n",
       "┃<span style=\"font-weight: bold\"> chosen_text                     </span>┃<span style=\"font-weight: bold\"> rejected_text                      </span>┃<span style=\"font-weight: bold\"> logits           </span>┃\n",
       "┡━━━━━━━━━━━━━━━━━━━━━━━━━━━━━━━━━╇━━━━━━━━━━━━━━━━━━━━━━━━━━━━━━━━━━━━╇━━━━━━━━━━━━━━━━━━┩\n",
       "│ 感谢认领.                       │ 公主                               │ [0.6291, 0.3709] │\n",
       "├─────────────────────────────────┼────────────────────────────────────┼──────────────────┤\n",
       "│ 感谢认领露思好漂亮              │ 感谢认领美丽露宝~                  │ [0.4702, 0.5298] │\n",
       "├─────────────────────────────────┼────────────────────────────────────┼──────────────────┤\n",
       "│ 感谢认领露思好漂亮              │ 赵露思好美                         │ [0.6946, 0.3054] │\n",
       "├─────────────────────────────────┼────────────────────────────────────┼──────────────────┤\n",
       "│ 杀了那么多人 蛇蝎心肠 还不够死� │ 他很好？很好为什么逮捕她？杀人     │ [0.4121, 0.5879] │\n",
       "├─────────────────────────────────┼────────────────────────────────────┼──────────────────┤\n",
       "│ 她的辩护律师想通过帮她翻案，    │ 二审维持原判还能上诉吗？           │ [0.5074, 0.4926] │\n",
       "├─────────────────────────────────┼────────────────────────────────────┼──────────────────┤\n",
       "│ 妈的 这个律师有点良心吧 维持原  │ 感谢认领.                          │ [0.4266, 0.5734] │\n",
       "├─────────────────────────────────┼────────────────────────────────────┼──────────────────┤\n",
       "│ 她的辩护律师想通过帮她翻案，    │ 她家人没事吧？果然不是一家人，不进 │ [0.276, 0.724]   │\n",
       "├─────────────────────────────────┼────────────────────────────────────┼──────────────────┤\n",
       "│ 《互联网黑历史现状》            │ 《你看看》                         │ [0.7146, 0.2854] │\n",
       "└─────────────────────────────────┴────────────────────────────────────┴──────────────────┘\n",
       "</pre>\n"
      ],
      "text/plain": [
       "┏━━━━━━━━━━━━━━━━━━━━━━━━━━━━━━━━━┳━━━━━━━━━━━━━━━━━━━━━━━━━━━━━━━━━━━━┳━━━━━━━━━━━━━━━━━━┓\n",
       "┃\u001b[1m \u001b[0m\u001b[1mchosen_text                    \u001b[0m\u001b[1m \u001b[0m┃\u001b[1m \u001b[0m\u001b[1mrejected_text                     \u001b[0m\u001b[1m \u001b[0m┃\u001b[1m \u001b[0m\u001b[1mlogits          \u001b[0m\u001b[1m \u001b[0m┃\n",
       "┡━━━━━━━━━━━━━━━━━━━━━━━━━━━━━━━━━╇━━━━━━━━━━━━━━━━━━━━━━━━━━━━━━━━━━━━╇━━━━━━━━━━━━━━━━━━┩\n",
       "│ 感谢认领.                       │ 公主                               │ [0.6291, 0.3709] │\n",
       "├─────────────────────────────────┼────────────────────────────────────┼──────────────────┤\n",
       "│ 感谢认领露思好漂亮              │ 感谢认领美丽露宝~                  │ [0.4702, 0.5298] │\n",
       "├─────────────────────────────────┼────────────────────────────────────┼──────────────────┤\n",
       "│ 感谢认领露思好漂亮              │ 赵露思好美                         │ [0.6946, 0.3054] │\n",
       "├─────────────────────────────────┼────────────────────────────────────┼──────────────────┤\n",
       "│ 杀了那么多人 蛇蝎心肠 还不够死� │ 他很好？很好为什么逮捕她？杀人     │ [0.4121, 0.5879] │\n",
       "├─────────────────────────────────┼────────────────────────────────────┼──────────────────┤\n",
       "│ 她的辩护律师想通过帮她翻案，    │ 二审维持原判还能上诉吗？           │ [0.5074, 0.4926] │\n",
       "├─────────────────────────────────┼────────────────────────────────────┼──────────────────┤\n",
       "│ 妈的 这个律师有点良心吧 维持原  │ 感谢认领.                          │ [0.4266, 0.5734] │\n",
       "├─────────────────────────────────┼────────────────────────────────────┼──────────────────┤\n",
       "│ 她的辩护律师想通过帮她翻案，    │ 她家人没事吧？果然不是一家人，不进 │ [0.276, 0.724]   │\n",
       "├─────────────────────────────────┼────────────────────────────────────┼──────────────────┤\n",
       "│ 《互联网黑历史现状》            │ 《你看看》                         │ [0.7146, 0.2854] │\n",
       "└─────────────────────────────────┴────────────────────────────────────┴──────────────────┘\n"
      ]
     },
     "metadata": {},
     "output_type": "display_data"
    },
    {
     "data": {
      "text/html": [
       "<pre style=\"white-space:pre;overflow-x:auto;line-height:normal;font-family:Menlo,'DejaVu Sans Mono',consolas,'Courier New',monospace\">┏━━━━━━━━━━━━━━━━━━━━━━━━━━━━━━━━━┳━━━━━━━━━━━━━━━━━━━━━━━━━━━━━━━━┳━━━━━━━━━━━━━━━━━━┓\n",
       "┃<span style=\"font-weight: bold\"> chosen_text                     </span>┃<span style=\"font-weight: bold\"> rejected_text                  </span>┃<span style=\"font-weight: bold\"> logits           </span>┃\n",
       "┡━━━━━━━━━━━━━━━━━━━━━━━━━━━━━━━━━╇━━━━━━━━━━━━━━━━━━━━━━━━━━━━━━━━╇━━━━━━━━━━━━━━━━━━┩\n",
       "│ 感谢认领.                       │ 公主                           │ [0.6291, 0.3709] │\n",
       "├─────────────────────────────────┼────────────────────────────────┼──────────────────┤\n",
       "│ 感谢认领露思好漂亮              │ 感谢认领美丽露宝~              │ [0.4702, 0.5298] │\n",
       "├─────────────────────────────────┼────────────────────────────────┼──────────────────┤\n",
       "│ 感谢认领露思好漂亮              │ 赵露思好美                     │ [0.6946, 0.3054] │\n",
       "├─────────────────────────────────┼────────────────────────────────┼──────────────────┤\n",
       "│ 杀了那么多人 蛇蝎心肠 还不够死� │ 他很好？很好为什么逮捕她？杀人 │ [0.4121, 0.5879] │\n",
       "└─────────────────────────────────┴────────────────────────────────┴──────────────────┘\n",
       "</pre>\n"
      ],
      "text/plain": [
       "┏━━━━━━━━━━━━━━━━━━━━━━━━━━━━━━━━━┳━━━━━━━━━━━━━━━━━━━━━━━━━━━━━━━━┳━━━━━━━━━━━━━━━━━━┓\n",
       "┃\u001b[1m \u001b[0m\u001b[1mchosen_text                    \u001b[0m\u001b[1m \u001b[0m┃\u001b[1m \u001b[0m\u001b[1mrejected_text                 \u001b[0m\u001b[1m \u001b[0m┃\u001b[1m \u001b[0m\u001b[1mlogits          \u001b[0m\u001b[1m \u001b[0m┃\n",
       "┡━━━━━━━━━━━━━━━━━━━━━━━━━━━━━━━━━╇━━━━━━━━━━━━━━━━━━━━━━━━━━━━━━━━╇━━━━━━━━━━━━━━━━━━┩\n",
       "│ 感谢认领.                       │ 公主                           │ [0.6291, 0.3709] │\n",
       "├─────────────────────────────────┼────────────────────────────────┼──────────────────┤\n",
       "│ 感谢认领露思好漂亮              │ 感谢认领美丽露宝~              │ [0.4702, 0.5298] │\n",
       "├─────────────────────────────────┼────────────────────────────────┼──────────────────┤\n",
       "│ 感谢认领露思好漂亮              │ 赵露思好美                     │ [0.6946, 0.3054] │\n",
       "├─────────────────────────────────┼────────────────────────────────┼──────────────────┤\n",
       "│ 杀了那么多人 蛇蝎心肠 还不够死� │ 他很好？很好为什么逮捕她？杀人 │ [0.4121, 0.5879] │\n",
       "└─────────────────────────────────┴────────────────────────────────┴──────────────────┘\n"
      ]
     },
     "metadata": {},
     "output_type": "display_data"
    },
    {
     "name": "stderr",
     "output_type": "stream",
     "text": [
      "/usr/local/lib/python3.8/dist-packages/transformers/tokenization_utils_base.py:2778: UserWarning: `max_length` is ignored when `padding`=`True` and there is no truncation strategy. To pad to max length, use `padding='max_length'`.\n",
      "  warnings.warn(\n",
      "/usr/local/lib/python3.8/dist-packages/trl/trainer/utils.py:599: UserWarning: There are 22 out of 3451 instances where the predictions for both options are equal. As a consequence the accuracy can be misleading.\n",
      "  warnings.warn(\n",
      "/usr/local/lib/python3.8/dist-packages/transformers/tokenization_utils_base.py:2778: UserWarning: `max_length` is ignored when `padding`=`True` and there is no truncation strategy. To pad to max length, use `padding='max_length'`.\n",
      "  warnings.warn(\n",
      "/usr/local/lib/python3.8/dist-packages/torch/utils/checkpoint.py:464: UserWarning: torch.utils.checkpoint: the use_reentrant parameter should be passed explicitly. In version 2.4 we will raise an exception if use_reentrant is not passed. use_reentrant=False is recommended, but if you need to preserve the current default behavior, you can pass use_reentrant=True. Refer to docs for more details on the differences between the two variants.\n",
      "  warnings.warn(\n",
      "/usr/local/lib/python3.8/dist-packages/torch/utils/checkpoint.py:91: UserWarning: None of the inputs have requires_grad=True. Gradients will be None\n",
      "  warnings.warn(\n"
     ]
    },
    {
     "data": {
      "text/html": [
       "<pre style=\"white-space:pre;overflow-x:auto;line-height:normal;font-family:Menlo,'DejaVu Sans Mono',consolas,'Courier New',monospace\">┏━━━━━━━━━━━━━━━━━━━━━━━━━━━━━━━━━┳━━━━━━━━━━━━━━━━━━━━━━━━━━━━━━━━━━━━┳━━━━━━━━━━━━━━━━━━┓\n",
       "┃<span style=\"font-weight: bold\"> chosen_text                     </span>┃<span style=\"font-weight: bold\"> rejected_text                      </span>┃<span style=\"font-weight: bold\"> logits           </span>┃\n",
       "┡━━━━━━━━━━━━━━━━━━━━━━━━━━━━━━━━━╇━━━━━━━━━━━━━━━━━━━━━━━━━━━━━━━━━━━━╇━━━━━━━━━━━━━━━━━━┩\n",
       "│ 感谢认领.                       │ 公主                               │ [0.4796, 0.5204] │\n",
       "├─────────────────────────────────┼────────────────────────────────────┼──────────────────┤\n",
       "│ 感谢认领露思好漂亮              │ 感谢认领美丽露宝~                  │ [0.6227, 0.3773] │\n",
       "├─────────────────────────────────┼────────────────────────────────────┼──────────────────┤\n",
       "│ 感谢认领露思好漂亮              │ 赵露思好美                         │ [0.5901, 0.4099] │\n",
       "├─────────────────────────────────┼────────────────────────────────────┼──────────────────┤\n",
       "│ 杀了那么多人 蛇蝎心肠 还不够死� │ 他很好？很好为什么逮捕她？杀人     │ [0.3062, 0.6938] │\n",
       "├─────────────────────────────────┼────────────────────────────────────┼──────────────────┤\n",
       "│ 她的辩护律师想通过帮她翻案，    │ 二审维持原判还能上诉吗？           │ [0.4139, 0.5861] │\n",
       "├─────────────────────────────────┼────────────────────────────────────┼──────────────────┤\n",
       "│ 妈的 这个律师有点良心吧 维持原  │ 感谢认领.                          │ [0.7185, 0.2815] │\n",
       "├─────────────────────────────────┼────────────────────────────────────┼──────────────────┤\n",
       "│ 她的辩护律师想通过帮她翻案，    │ 她家人没事吧？果然不是一家人，不进 │ [0.2147, 0.7853] │\n",
       "├─────────────────────────────────┼────────────────────────────────────┼──────────────────┤\n",
       "│ 《互联网黑历史现状》            │ 《你看看》                         │ [0.6858, 0.3142] │\n",
       "└─────────────────────────────────┴────────────────────────────────────┴──────────────────┘\n",
       "</pre>\n"
      ],
      "text/plain": [
       "┏━━━━━━━━━━━━━━━━━━━━━━━━━━━━━━━━━┳━━━━━━━━━━━━━━━━━━━━━━━━━━━━━━━━━━━━┳━━━━━━━━━━━━━━━━━━┓\n",
       "┃\u001b[1m \u001b[0m\u001b[1mchosen_text                    \u001b[0m\u001b[1m \u001b[0m┃\u001b[1m \u001b[0m\u001b[1mrejected_text                     \u001b[0m\u001b[1m \u001b[0m┃\u001b[1m \u001b[0m\u001b[1mlogits          \u001b[0m\u001b[1m \u001b[0m┃\n",
       "┡━━━━━━━━━━━━━━━━━━━━━━━━━━━━━━━━━╇━━━━━━━━━━━━━━━━━━━━━━━━━━━━━━━━━━━━╇━━━━━━━━━━━━━━━━━━┩\n",
       "│ 感谢认领.                       │ 公主                               │ [0.4796, 0.5204] │\n",
       "├─────────────────────────────────┼────────────────────────────────────┼──────────────────┤\n",
       "│ 感谢认领露思好漂亮              │ 感谢认领美丽露宝~                  │ [0.6227, 0.3773] │\n",
       "├─────────────────────────────────┼────────────────────────────────────┼──────────────────┤\n",
       "│ 感谢认领露思好漂亮              │ 赵露思好美                         │ [0.5901, 0.4099] │\n",
       "├─────────────────────────────────┼────────────────────────────────────┼──────────────────┤\n",
       "│ 杀了那么多人 蛇蝎心肠 还不够死� │ 他很好？很好为什么逮捕她？杀人     │ [0.3062, 0.6938] │\n",
       "├─────────────────────────────────┼────────────────────────────────────┼──────────────────┤\n",
       "│ 她的辩护律师想通过帮她翻案，    │ 二审维持原判还能上诉吗？           │ [0.4139, 0.5861] │\n",
       "├─────────────────────────────────┼────────────────────────────────────┼──────────────────┤\n",
       "│ 妈的 这个律师有点良心吧 维持原  │ 感谢认领.                          │ [0.7185, 0.2815] │\n",
       "├─────────────────────────────────┼────────────────────────────────────┼──────────────────┤\n",
       "│ 她的辩护律师想通过帮她翻案，    │ 她家人没事吧？果然不是一家人，不进 │ [0.2147, 0.7853] │\n",
       "├─────────────────────────────────┼────────────────────────────────────┼──────────────────┤\n",
       "│ 《互联网黑历史现状》            │ 《你看看》                         │ [0.6858, 0.3142] │\n",
       "└─────────────────────────────────┴────────────────────────────────────┴──────────────────┘\n"
      ]
     },
     "metadata": {},
     "output_type": "display_data"
    },
    {
     "data": {
      "text/html": [
       "<pre style=\"white-space:pre;overflow-x:auto;line-height:normal;font-family:Menlo,'DejaVu Sans Mono',consolas,'Courier New',monospace\">┏━━━━━━━━━━━━━━━━━━━━━━━━━━━━━━━━━┳━━━━━━━━━━━━━━━━━━━━━━━━━━━━━━━━┳━━━━━━━━━━━━━━━━━━┓\n",
       "┃<span style=\"font-weight: bold\"> chosen_text                     </span>┃<span style=\"font-weight: bold\"> rejected_text                  </span>┃<span style=\"font-weight: bold\"> logits           </span>┃\n",
       "┡━━━━━━━━━━━━━━━━━━━━━━━━━━━━━━━━━╇━━━━━━━━━━━━━━━━━━━━━━━━━━━━━━━━╇━━━━━━━━━━━━━━━━━━┩\n",
       "│ 感谢认领.                       │ 公主                           │ [0.4796, 0.5204] │\n",
       "├─────────────────────────────────┼────────────────────────────────┼──────────────────┤\n",
       "│ 感谢认领露思好漂亮              │ 感谢认领美丽露宝~              │ [0.6227, 0.3773] │\n",
       "├─────────────────────────────────┼────────────────────────────────┼──────────────────┤\n",
       "│ 感谢认领露思好漂亮              │ 赵露思好美                     │ [0.5901, 0.4099] │\n",
       "├─────────────────────────────────┼────────────────────────────────┼──────────────────┤\n",
       "│ 杀了那么多人 蛇蝎心肠 还不够死� │ 他很好？很好为什么逮捕她？杀人 │ [0.3062, 0.6938] │\n",
       "└─────────────────────────────────┴────────────────────────────────┴──────────────────┘\n",
       "</pre>\n"
      ],
      "text/plain": [
       "┏━━━━━━━━━━━━━━━━━━━━━━━━━━━━━━━━━┳━━━━━━━━━━━━━━━━━━━━━━━━━━━━━━━━┳━━━━━━━━━━━━━━━━━━┓\n",
       "┃\u001b[1m \u001b[0m\u001b[1mchosen_text                    \u001b[0m\u001b[1m \u001b[0m┃\u001b[1m \u001b[0m\u001b[1mrejected_text                 \u001b[0m\u001b[1m \u001b[0m┃\u001b[1m \u001b[0m\u001b[1mlogits          \u001b[0m\u001b[1m \u001b[0m┃\n",
       "┡━━━━━━━━━━━━━━━━━━━━━━━━━━━━━━━━━╇━━━━━━━━━━━━━━━━━━━━━━━━━━━━━━━━╇━━━━━━━━━━━━━━━━━━┩\n",
       "│ 感谢认领.                       │ 公主                           │ [0.4796, 0.5204] │\n",
       "├─────────────────────────────────┼────────────────────────────────┼──────────────────┤\n",
       "│ 感谢认领露思好漂亮              │ 感谢认领美丽露宝~              │ [0.6227, 0.3773] │\n",
       "├─────────────────────────────────┼────────────────────────────────┼──────────────────┤\n",
       "│ 感谢认领露思好漂亮              │ 赵露思好美                     │ [0.5901, 0.4099] │\n",
       "├─────────────────────────────────┼────────────────────────────────┼──────────────────┤\n",
       "│ 杀了那么多人 蛇蝎心肠 还不够死� │ 他很好？很好为什么逮捕她？杀人 │ [0.3062, 0.6938] │\n",
       "└─────────────────────────────────┴────────────────────────────────┴──────────────────┘\n"
      ]
     },
     "metadata": {},
     "output_type": "display_data"
    },
    {
     "name": "stderr",
     "output_type": "stream",
     "text": [
      "/usr/local/lib/python3.8/dist-packages/transformers/tokenization_utils_base.py:2778: UserWarning: `max_length` is ignored when `padding`=`True` and there is no truncation strategy. To pad to max length, use `padding='max_length'`.\n",
      "  warnings.warn(\n",
      "/usr/local/lib/python3.8/dist-packages/trl/trainer/utils.py:599: UserWarning: There are 22 out of 3451 instances where the predictions for both options are equal. As a consequence the accuracy can be misleading.\n",
      "  warnings.warn(\n",
      "/usr/local/lib/python3.8/dist-packages/transformers/tokenization_utils_base.py:2778: UserWarning: `max_length` is ignored when `padding`=`True` and there is no truncation strategy. To pad to max length, use `padding='max_length'`.\n",
      "  warnings.warn(\n",
      "/usr/local/lib/python3.8/dist-packages/torch/utils/checkpoint.py:464: UserWarning: torch.utils.checkpoint: the use_reentrant parameter should be passed explicitly. In version 2.4 we will raise an exception if use_reentrant is not passed. use_reentrant=False is recommended, but if you need to preserve the current default behavior, you can pass use_reentrant=True. Refer to docs for more details on the differences between the two variants.\n",
      "  warnings.warn(\n",
      "/usr/local/lib/python3.8/dist-packages/torch/utils/checkpoint.py:91: UserWarning: None of the inputs have requires_grad=True. Gradients will be None\n",
      "  warnings.warn(\n"
     ]
    },
    {
     "data": {
      "text/html": [
       "<pre style=\"white-space:pre;overflow-x:auto;line-height:normal;font-family:Menlo,'DejaVu Sans Mono',consolas,'Courier New',monospace\">┏━━━━━━━━━━━━━━━━━━━━━━━━━━━━━━━━━┳━━━━━━━━━━━━━━━━━━━━━━━━━━━━━━━━━━━━┳━━━━━━━━━━━━━━━━━━┓\n",
       "┃<span style=\"font-weight: bold\"> chosen_text                     </span>┃<span style=\"font-weight: bold\"> rejected_text                      </span>┃<span style=\"font-weight: bold\"> logits           </span>┃\n",
       "┡━━━━━━━━━━━━━━━━━━━━━━━━━━━━━━━━━╇━━━━━━━━━━━━━━━━━━━━━━━━━━━━━━━━━━━━╇━━━━━━━━━━━━━━━━━━┩\n",
       "│ 感谢认领.                       │ 公主                               │ [0.6627, 0.3373] │\n",
       "├─────────────────────────────────┼────────────────────────────────────┼──────────────────┤\n",
       "│ 感谢认领露思好漂亮              │ 感谢认领美丽露宝~                  │ [0.6237, 0.3763] │\n",
       "├─────────────────────────────────┼────────────────────────────────────┼──────────────────┤\n",
       "│ 感谢认领露思好漂亮              │ 赵露思好美                         │ [0.3969, 0.6031] │\n",
       "├─────────────────────────────────┼────────────────────────────────────┼──────────────────┤\n",
       "│ 杀了那么多人 蛇蝎心肠 还不够死� │ 他很好？很好为什么逮捕她？杀人     │ [0.1551, 0.8449] │\n",
       "├─────────────────────────────────┼────────────────────────────────────┼──────────────────┤\n",
       "│ 她的辩护律师想通过帮她翻案，    │ 二审维持原判还能上诉吗？           │ [0.2867, 0.7133] │\n",
       "├─────────────────────────────────┼────────────────────────────────────┼──────────────────┤\n",
       "│ 妈的 这个律师有点良心吧 维持原  │ 感谢认领.                          │ [0.7048, 0.2952] │\n",
       "├─────────────────────────────────┼────────────────────────────────────┼──────────────────┤\n",
       "│ 她的辩护律师想通过帮她翻案，    │ 她家人没事吧？果然不是一家人，不进 │ [0.3108, 0.6892] │\n",
       "├─────────────────────────────────┼────────────────────────────────────┼──────────────────┤\n",
       "│ 《互联网黑历史现状》            │ 《你看看》                         │ [0.621, 0.379]   │\n",
       "└─────────────────────────────────┴────────────────────────────────────┴──────────────────┘\n",
       "</pre>\n"
      ],
      "text/plain": [
       "┏━━━━━━━━━━━━━━━━━━━━━━━━━━━━━━━━━┳━━━━━━━━━━━━━━━━━━━━━━━━━━━━━━━━━━━━┳━━━━━━━━━━━━━━━━━━┓\n",
       "┃\u001b[1m \u001b[0m\u001b[1mchosen_text                    \u001b[0m\u001b[1m \u001b[0m┃\u001b[1m \u001b[0m\u001b[1mrejected_text                     \u001b[0m\u001b[1m \u001b[0m┃\u001b[1m \u001b[0m\u001b[1mlogits          \u001b[0m\u001b[1m \u001b[0m┃\n",
       "┡━━━━━━━━━━━━━━━━━━━━━━━━━━━━━━━━━╇━━━━━━━━━━━━━━━━━━━━━━━━━━━━━━━━━━━━╇━━━━━━━━━━━━━━━━━━┩\n",
       "│ 感谢认领.                       │ 公主                               │ [0.6627, 0.3373] │\n",
       "├─────────────────────────────────┼────────────────────────────────────┼──────────────────┤\n",
       "│ 感谢认领露思好漂亮              │ 感谢认领美丽露宝~                  │ [0.6237, 0.3763] │\n",
       "├─────────────────────────────────┼────────────────────────────────────┼──────────────────┤\n",
       "│ 感谢认领露思好漂亮              │ 赵露思好美                         │ [0.3969, 0.6031] │\n",
       "├─────────────────────────────────┼────────────────────────────────────┼──────────────────┤\n",
       "│ 杀了那么多人 蛇蝎心肠 还不够死� │ 他很好？很好为什么逮捕她？杀人     │ [0.1551, 0.8449] │\n",
       "├─────────────────────────────────┼────────────────────────────────────┼──────────────────┤\n",
       "│ 她的辩护律师想通过帮她翻案，    │ 二审维持原判还能上诉吗？           │ [0.2867, 0.7133] │\n",
       "├─────────────────────────────────┼────────────────────────────────────┼──────────────────┤\n",
       "│ 妈的 这个律师有点良心吧 维持原  │ 感谢认领.                          │ [0.7048, 0.2952] │\n",
       "├─────────────────────────────────┼────────────────────────────────────┼──────────────────┤\n",
       "│ 她的辩护律师想通过帮她翻案，    │ 她家人没事吧？果然不是一家人，不进 │ [0.3108, 0.6892] │\n",
       "├─────────────────────────────────┼────────────────────────────────────┼──────────────────┤\n",
       "│ 《互联网黑历史现状》            │ 《你看看》                         │ [0.621, 0.379]   │\n",
       "└─────────────────────────────────┴────────────────────────────────────┴──────────────────┘\n"
      ]
     },
     "metadata": {},
     "output_type": "display_data"
    },
    {
     "data": {
      "text/html": [
       "<pre style=\"white-space:pre;overflow-x:auto;line-height:normal;font-family:Menlo,'DejaVu Sans Mono',consolas,'Courier New',monospace\">┏━━━━━━━━━━━━━━━━━━━━━━━━━━━━━━━━━┳━━━━━━━━━━━━━━━━━━━━━━━━━━━━━━━━┳━━━━━━━━━━━━━━━━━━┓\n",
       "┃<span style=\"font-weight: bold\"> chosen_text                     </span>┃<span style=\"font-weight: bold\"> rejected_text                  </span>┃<span style=\"font-weight: bold\"> logits           </span>┃\n",
       "┡━━━━━━━━━━━━━━━━━━━━━━━━━━━━━━━━━╇━━━━━━━━━━━━━━━━━━━━━━━━━━━━━━━━╇━━━━━━━━━━━━━━━━━━┩\n",
       "│ 感谢认领.                       │ 公主                           │ [0.6627, 0.3373] │\n",
       "├─────────────────────────────────┼────────────────────────────────┼──────────────────┤\n",
       "│ 感谢认领露思好漂亮              │ 感谢认领美丽露宝~              │ [0.6237, 0.3763] │\n",
       "├─────────────────────────────────┼────────────────────────────────┼──────────────────┤\n",
       "│ 感谢认领露思好漂亮              │ 赵露思好美                     │ [0.3969, 0.6031] │\n",
       "├─────────────────────────────────┼────────────────────────────────┼──────────────────┤\n",
       "│ 杀了那么多人 蛇蝎心肠 还不够死� │ 他很好？很好为什么逮捕她？杀人 │ [0.1551, 0.8449] │\n",
       "└─────────────────────────────────┴────────────────────────────────┴──────────────────┘\n",
       "</pre>\n"
      ],
      "text/plain": [
       "┏━━━━━━━━━━━━━━━━━━━━━━━━━━━━━━━━━┳━━━━━━━━━━━━━━━━━━━━━━━━━━━━━━━━┳━━━━━━━━━━━━━━━━━━┓\n",
       "┃\u001b[1m \u001b[0m\u001b[1mchosen_text                    \u001b[0m\u001b[1m \u001b[0m┃\u001b[1m \u001b[0m\u001b[1mrejected_text                 \u001b[0m\u001b[1m \u001b[0m┃\u001b[1m \u001b[0m\u001b[1mlogits          \u001b[0m\u001b[1m \u001b[0m┃\n",
       "┡━━━━━━━━━━━━━━━━━━━━━━━━━━━━━━━━━╇━━━━━━━━━━━━━━━━━━━━━━━━━━━━━━━━╇━━━━━━━━━━━━━━━━━━┩\n",
       "│ 感谢认领.                       │ 公主                           │ [0.6627, 0.3373] │\n",
       "├─────────────────────────────────┼────────────────────────────────┼──────────────────┤\n",
       "│ 感谢认领露思好漂亮              │ 感谢认领美丽露宝~              │ [0.6237, 0.3763] │\n",
       "├─────────────────────────────────┼────────────────────────────────┼──────────────────┤\n",
       "│ 感谢认领露思好漂亮              │ 赵露思好美                     │ [0.3969, 0.6031] │\n",
       "├─────────────────────────────────┼────────────────────────────────┼──────────────────┤\n",
       "│ 杀了那么多人 蛇蝎心肠 还不够死� │ 他很好？很好为什么逮捕她？杀人 │ [0.1551, 0.8449] │\n",
       "└─────────────────────────────────┴────────────────────────────────┴──────────────────┘\n"
      ]
     },
     "metadata": {},
     "output_type": "display_data"
    },
    {
     "name": "stderr",
     "output_type": "stream",
     "text": [
      "/usr/local/lib/python3.8/dist-packages/transformers/tokenization_utils_base.py:2778: UserWarning: `max_length` is ignored when `padding`=`True` and there is no truncation strategy. To pad to max length, use `padding='max_length'`.\n",
      "  warnings.warn(\n",
      "/usr/local/lib/python3.8/dist-packages/trl/trainer/utils.py:599: UserWarning: There are 22 out of 3451 instances where the predictions for both options are equal. As a consequence the accuracy can be misleading.\n",
      "  warnings.warn(\n",
      "/usr/local/lib/python3.8/dist-packages/transformers/tokenization_utils_base.py:2778: UserWarning: `max_length` is ignored when `padding`=`True` and there is no truncation strategy. To pad to max length, use `padding='max_length'`.\n",
      "  warnings.warn(\n",
      "/usr/local/lib/python3.8/dist-packages/torch/utils/checkpoint.py:464: UserWarning: torch.utils.checkpoint: the use_reentrant parameter should be passed explicitly. In version 2.4 we will raise an exception if use_reentrant is not passed. use_reentrant=False is recommended, but if you need to preserve the current default behavior, you can pass use_reentrant=True. Refer to docs for more details on the differences between the two variants.\n",
      "  warnings.warn(\n",
      "/usr/local/lib/python3.8/dist-packages/torch/utils/checkpoint.py:91: UserWarning: None of the inputs have requires_grad=True. Gradients will be None\n",
      "  warnings.warn(\n"
     ]
    },
    {
     "data": {
      "text/html": [
       "<pre style=\"white-space:pre;overflow-x:auto;line-height:normal;font-family:Menlo,'DejaVu Sans Mono',consolas,'Courier New',monospace\">┏━━━━━━━━━━━━━━━━━━━━━━━━━━━━━━━━━┳━━━━━━━━━━━━━━━━━━━━━━━━━━━━━━━━━━━━┳━━━━━━━━━━━━━━━━━━┓\n",
       "┃<span style=\"font-weight: bold\"> chosen_text                     </span>┃<span style=\"font-weight: bold\"> rejected_text                      </span>┃<span style=\"font-weight: bold\"> logits           </span>┃\n",
       "┡━━━━━━━━━━━━━━━━━━━━━━━━━━━━━━━━━╇━━━━━━━━━━━━━━━━━━━━━━━━━━━━━━━━━━━━╇━━━━━━━━━━━━━━━━━━┩\n",
       "│ 感谢认领.                       │ 公主                               │ [0.7966, 0.2034] │\n",
       "├─────────────────────────────────┼────────────────────────────────────┼──────────────────┤\n",
       "│ 感谢认领露思好漂亮              │ 感谢认领美丽露宝~                  │ [0.4167, 0.5833] │\n",
       "├─────────────────────────────────┼────────────────────────────────────┼──────────────────┤\n",
       "│ 感谢认领露思好漂亮              │ 赵露思好美                         │ [0.4228, 0.5772] │\n",
       "├─────────────────────────────────┼────────────────────────────────────┼──────────────────┤\n",
       "│ 杀了那么多人 蛇蝎心肠 还不够死� │ 他很好？很好为什么逮捕她？杀人     │ [0.1642, 0.8358] │\n",
       "├─────────────────────────────────┼────────────────────────────────────┼──────────────────┤\n",
       "│ 她的辩护律师想通过帮她翻案，    │ 二审维持原判还能上诉吗？           │ [0.3284, 0.6716] │\n",
       "├─────────────────────────────────┼────────────────────────────────────┼──────────────────┤\n",
       "│ 妈的 这个律师有点良心吧 维持原  │ 感谢认领.                          │ [0.7034, 0.2966] │\n",
       "├─────────────────────────────────┼────────────────────────────────────┼──────────────────┤\n",
       "│ 她的辩护律师想通过帮她翻案，    │ 她家人没事吧？果然不是一家人，不进 │ [0.2693, 0.7307] │\n",
       "├─────────────────────────────────┼────────────────────────────────────┼──────────────────┤\n",
       "│ 《互联网黑历史现状》            │ 《你看看》                         │ [0.6498, 0.3502] │\n",
       "└─────────────────────────────────┴────────────────────────────────────┴──────────────────┘\n",
       "</pre>\n"
      ],
      "text/plain": [
       "┏━━━━━━━━━━━━━━━━━━━━━━━━━━━━━━━━━┳━━━━━━━━━━━━━━━━━━━━━━━━━━━━━━━━━━━━┳━━━━━━━━━━━━━━━━━━┓\n",
       "┃\u001b[1m \u001b[0m\u001b[1mchosen_text                    \u001b[0m\u001b[1m \u001b[0m┃\u001b[1m \u001b[0m\u001b[1mrejected_text                     \u001b[0m\u001b[1m \u001b[0m┃\u001b[1m \u001b[0m\u001b[1mlogits          \u001b[0m\u001b[1m \u001b[0m┃\n",
       "┡━━━━━━━━━━━━━━━━━━━━━━━━━━━━━━━━━╇━━━━━━━━━━━━━━━━━━━━━━━━━━━━━━━━━━━━╇━━━━━━━━━━━━━━━━━━┩\n",
       "│ 感谢认领.                       │ 公主                               │ [0.7966, 0.2034] │\n",
       "├─────────────────────────────────┼────────────────────────────────────┼──────────────────┤\n",
       "│ 感谢认领露思好漂亮              │ 感谢认领美丽露宝~                  │ [0.4167, 0.5833] │\n",
       "├─────────────────────────────────┼────────────────────────────────────┼──────────────────┤\n",
       "│ 感谢认领露思好漂亮              │ 赵露思好美                         │ [0.4228, 0.5772] │\n",
       "├─────────────────────────────────┼────────────────────────────────────┼──────────────────┤\n",
       "│ 杀了那么多人 蛇蝎心肠 还不够死� │ 他很好？很好为什么逮捕她？杀人     │ [0.1642, 0.8358] │\n",
       "├─────────────────────────────────┼────────────────────────────────────┼──────────────────┤\n",
       "│ 她的辩护律师想通过帮她翻案，    │ 二审维持原判还能上诉吗？           │ [0.3284, 0.6716] │\n",
       "├─────────────────────────────────┼────────────────────────────────────┼──────────────────┤\n",
       "│ 妈的 这个律师有点良心吧 维持原  │ 感谢认领.                          │ [0.7034, 0.2966] │\n",
       "├─────────────────────────────────┼────────────────────────────────────┼──────────────────┤\n",
       "│ 她的辩护律师想通过帮她翻案，    │ 她家人没事吧？果然不是一家人，不进 │ [0.2693, 0.7307] │\n",
       "├─────────────────────────────────┼────────────────────────────────────┼──────────────────┤\n",
       "│ 《互联网黑历史现状》            │ 《你看看》                         │ [0.6498, 0.3502] │\n",
       "└─────────────────────────────────┴────────────────────────────────────┴──────────────────┘\n"
      ]
     },
     "metadata": {},
     "output_type": "display_data"
    },
    {
     "data": {
      "text/html": [
       "<pre style=\"white-space:pre;overflow-x:auto;line-height:normal;font-family:Menlo,'DejaVu Sans Mono',consolas,'Courier New',monospace\">┏━━━━━━━━━━━━━━━━━━━━━━━━━━━━━━━━━┳━━━━━━━━━━━━━━━━━━━━━━━━━━━━━━━━┳━━━━━━━━━━━━━━━━━━┓\n",
       "┃<span style=\"font-weight: bold\"> chosen_text                     </span>┃<span style=\"font-weight: bold\"> rejected_text                  </span>┃<span style=\"font-weight: bold\"> logits           </span>┃\n",
       "┡━━━━━━━━━━━━━━━━━━━━━━━━━━━━━━━━━╇━━━━━━━━━━━━━━━━━━━━━━━━━━━━━━━━╇━━━━━━━━━━━━━━━━━━┩\n",
       "│ 感谢认领.                       │ 公主                           │ [0.7966, 0.2034] │\n",
       "├─────────────────────────────────┼────────────────────────────────┼──────────────────┤\n",
       "│ 感谢认领露思好漂亮              │ 感谢认领美丽露宝~              │ [0.4167, 0.5833] │\n",
       "├─────────────────────────────────┼────────────────────────────────┼──────────────────┤\n",
       "│ 感谢认领露思好漂亮              │ 赵露思好美                     │ [0.4228, 0.5772] │\n",
       "├─────────────────────────────────┼────────────────────────────────┼──────────────────┤\n",
       "│ 杀了那么多人 蛇蝎心肠 还不够死� │ 他很好？很好为什么逮捕她？杀人 │ [0.1642, 0.8358] │\n",
       "└─────────────────────────────────┴────────────────────────────────┴──────────────────┘\n",
       "</pre>\n"
      ],
      "text/plain": [
       "┏━━━━━━━━━━━━━━━━━━━━━━━━━━━━━━━━━┳━━━━━━━━━━━━━━━━━━━━━━━━━━━━━━━━┳━━━━━━━━━━━━━━━━━━┓\n",
       "┃\u001b[1m \u001b[0m\u001b[1mchosen_text                    \u001b[0m\u001b[1m \u001b[0m┃\u001b[1m \u001b[0m\u001b[1mrejected_text                 \u001b[0m\u001b[1m \u001b[0m┃\u001b[1m \u001b[0m\u001b[1mlogits          \u001b[0m\u001b[1m \u001b[0m┃\n",
       "┡━━━━━━━━━━━━━━━━━━━━━━━━━━━━━━━━━╇━━━━━━━━━━━━━━━━━━━━━━━━━━━━━━━━╇━━━━━━━━━━━━━━━━━━┩\n",
       "│ 感谢认领.                       │ 公主                           │ [0.7966, 0.2034] │\n",
       "├─────────────────────────────────┼────────────────────────────────┼──────────────────┤\n",
       "│ 感谢认领露思好漂亮              │ 感谢认领美丽露宝~              │ [0.4167, 0.5833] │\n",
       "├─────────────────────────────────┼────────────────────────────────┼──────────────────┤\n",
       "│ 感谢认领露思好漂亮              │ 赵露思好美                     │ [0.4228, 0.5772] │\n",
       "├─────────────────────────────────┼────────────────────────────────┼──────────────────┤\n",
       "│ 杀了那么多人 蛇蝎心肠 还不够死� │ 他很好？很好为什么逮捕她？杀人 │ [0.1642, 0.8358] │\n",
       "└─────────────────────────────────┴────────────────────────────────┴──────────────────┘\n"
      ]
     },
     "metadata": {},
     "output_type": "display_data"
    },
    {
     "name": "stderr",
     "output_type": "stream",
     "text": [
      "/usr/local/lib/python3.8/dist-packages/transformers/tokenization_utils_base.py:2778: UserWarning: `max_length` is ignored when `padding`=`True` and there is no truncation strategy. To pad to max length, use `padding='max_length'`.\n",
      "  warnings.warn(\n",
      "/usr/local/lib/python3.8/dist-packages/trl/trainer/utils.py:599: UserWarning: There are 22 out of 3451 instances where the predictions for both options are equal. As a consequence the accuracy can be misleading.\n",
      "  warnings.warn(\n",
      "/usr/local/lib/python3.8/dist-packages/transformers/tokenization_utils_base.py:2778: UserWarning: `max_length` is ignored when `padding`=`True` and there is no truncation strategy. To pad to max length, use `padding='max_length'`.\n",
      "  warnings.warn(\n",
      "/usr/local/lib/python3.8/dist-packages/torch/utils/checkpoint.py:464: UserWarning: torch.utils.checkpoint: the use_reentrant parameter should be passed explicitly. In version 2.4 we will raise an exception if use_reentrant is not passed. use_reentrant=False is recommended, but if you need to preserve the current default behavior, you can pass use_reentrant=True. Refer to docs for more details on the differences between the two variants.\n",
      "  warnings.warn(\n",
      "/usr/local/lib/python3.8/dist-packages/torch/utils/checkpoint.py:91: UserWarning: None of the inputs have requires_grad=True. Gradients will be None\n",
      "  warnings.warn(\n"
     ]
    },
    {
     "data": {
      "text/html": [
       "<pre style=\"white-space:pre;overflow-x:auto;line-height:normal;font-family:Menlo,'DejaVu Sans Mono',consolas,'Courier New',monospace\">┏━━━━━━━━━━━━━━━━━━━━━━━━━━━━━━━━━┳━━━━━━━━━━━━━━━━━━━━━━━━━━━━━━━━━━━━┳━━━━━━━━━━━━━━━━━━┓\n",
       "┃<span style=\"font-weight: bold\"> chosen_text                     </span>┃<span style=\"font-weight: bold\"> rejected_text                      </span>┃<span style=\"font-weight: bold\"> logits           </span>┃\n",
       "┡━━━━━━━━━━━━━━━━━━━━━━━━━━━━━━━━━╇━━━━━━━━━━━━━━━━━━━━━━━━━━━━━━━━━━━━╇━━━━━━━━━━━━━━━━━━┩\n",
       "│ 感谢认领.                       │ 公主                               │ [0.6326, 0.3674] │\n",
       "├─────────────────────────────────┼────────────────────────────────────┼──────────────────┤\n",
       "│ 感谢认领露思好漂亮              │ 感谢认领美丽露宝~                  │ [0.6786, 0.3214] │\n",
       "├─────────────────────────────────┼────────────────────────────────────┼──────────────────┤\n",
       "│ 感谢认领露思好漂亮              │ 赵露思好美                         │ [0.6508, 0.3492] │\n",
       "├─────────────────────────────────┼────────────────────────────────────┼──────────────────┤\n",
       "│ 杀了那么多人 蛇蝎心肠 还不够死� │ 他很好？很好为什么逮捕她？杀人     │ [0.2368, 0.7632] │\n",
       "├─────────────────────────────────┼────────────────────────────────────┼──────────────────┤\n",
       "│ 她的辩护律师想通过帮她翻案，    │ 二审维持原判还能上诉吗？           │ [0.3773, 0.6227] │\n",
       "├─────────────────────────────────┼────────────────────────────────────┼──────────────────┤\n",
       "│ 妈的 这个律师有点良心吧 维持原  │ 感谢认领.                          │ [0.4517, 0.5483] │\n",
       "├─────────────────────────────────┼────────────────────────────────────┼──────────────────┤\n",
       "│ 她的辩护律师想通过帮她翻案，    │ 她家人没事吧？果然不是一家人，不进 │ [0.4556, 0.5444] │\n",
       "├─────────────────────────────────┼────────────────────────────────────┼──────────────────┤\n",
       "│ 《互联网黑历史现状》            │ 《你看看》                         │ [0.6483, 0.3517] │\n",
       "└─────────────────────────────────┴────────────────────────────────────┴──────────────────┘\n",
       "</pre>\n"
      ],
      "text/plain": [
       "┏━━━━━━━━━━━━━━━━━━━━━━━━━━━━━━━━━┳━━━━━━━━━━━━━━━━━━━━━━━━━━━━━━━━━━━━┳━━━━━━━━━━━━━━━━━━┓\n",
       "┃\u001b[1m \u001b[0m\u001b[1mchosen_text                    \u001b[0m\u001b[1m \u001b[0m┃\u001b[1m \u001b[0m\u001b[1mrejected_text                     \u001b[0m\u001b[1m \u001b[0m┃\u001b[1m \u001b[0m\u001b[1mlogits          \u001b[0m\u001b[1m \u001b[0m┃\n",
       "┡━━━━━━━━━━━━━━━━━━━━━━━━━━━━━━━━━╇━━━━━━━━━━━━━━━━━━━━━━━━━━━━━━━━━━━━╇━━━━━━━━━━━━━━━━━━┩\n",
       "│ 感谢认领.                       │ 公主                               │ [0.6326, 0.3674] │\n",
       "├─────────────────────────────────┼────────────────────────────────────┼──────────────────┤\n",
       "│ 感谢认领露思好漂亮              │ 感谢认领美丽露宝~                  │ [0.6786, 0.3214] │\n",
       "├─────────────────────────────────┼────────────────────────────────────┼──────────────────┤\n",
       "│ 感谢认领露思好漂亮              │ 赵露思好美                         │ [0.6508, 0.3492] │\n",
       "├─────────────────────────────────┼────────────────────────────────────┼──────────────────┤\n",
       "│ 杀了那么多人 蛇蝎心肠 还不够死� │ 他很好？很好为什么逮捕她？杀人     │ [0.2368, 0.7632] │\n",
       "├─────────────────────────────────┼────────────────────────────────────┼──────────────────┤\n",
       "│ 她的辩护律师想通过帮她翻案，    │ 二审维持原判还能上诉吗？           │ [0.3773, 0.6227] │\n",
       "├─────────────────────────────────┼────────────────────────────────────┼──────────────────┤\n",
       "│ 妈的 这个律师有点良心吧 维持原  │ 感谢认领.                          │ [0.4517, 0.5483] │\n",
       "├─────────────────────────────────┼────────────────────────────────────┼──────────────────┤\n",
       "│ 她的辩护律师想通过帮她翻案，    │ 她家人没事吧？果然不是一家人，不进 │ [0.4556, 0.5444] │\n",
       "├─────────────────────────────────┼────────────────────────────────────┼──────────────────┤\n",
       "│ 《互联网黑历史现状》            │ 《你看看》                         │ [0.6483, 0.3517] │\n",
       "└─────────────────────────────────┴────────────────────────────────────┴──────────────────┘\n"
      ]
     },
     "metadata": {},
     "output_type": "display_data"
    },
    {
     "data": {
      "text/html": [
       "<pre style=\"white-space:pre;overflow-x:auto;line-height:normal;font-family:Menlo,'DejaVu Sans Mono',consolas,'Courier New',monospace\">┏━━━━━━━━━━━━━━━━━━━━━━━━━━━━━━━━━┳━━━━━━━━━━━━━━━━━━━━━━━━━━━━━━━━┳━━━━━━━━━━━━━━━━━━┓\n",
       "┃<span style=\"font-weight: bold\"> chosen_text                     </span>┃<span style=\"font-weight: bold\"> rejected_text                  </span>┃<span style=\"font-weight: bold\"> logits           </span>┃\n",
       "┡━━━━━━━━━━━━━━━━━━━━━━━━━━━━━━━━━╇━━━━━━━━━━━━━━━━━━━━━━━━━━━━━━━━╇━━━━━━━━━━━━━━━━━━┩\n",
       "│ 感谢认领.                       │ 公主                           │ [0.6326, 0.3674] │\n",
       "├─────────────────────────────────┼────────────────────────────────┼──────────────────┤\n",
       "│ 感谢认领露思好漂亮              │ 感谢认领美丽露宝~              │ [0.6786, 0.3214] │\n",
       "├─────────────────────────────────┼────────────────────────────────┼──────────────────┤\n",
       "│ 感谢认领露思好漂亮              │ 赵露思好美                     │ [0.6508, 0.3492] │\n",
       "├─────────────────────────────────┼────────────────────────────────┼──────────────────┤\n",
       "│ 杀了那么多人 蛇蝎心肠 还不够死� │ 他很好？很好为什么逮捕她？杀人 │ [0.2368, 0.7632] │\n",
       "└─────────────────────────────────┴────────────────────────────────┴──────────────────┘\n",
       "</pre>\n"
      ],
      "text/plain": [
       "┏━━━━━━━━━━━━━━━━━━━━━━━━━━━━━━━━━┳━━━━━━━━━━━━━━━━━━━━━━━━━━━━━━━━┳━━━━━━━━━━━━━━━━━━┓\n",
       "┃\u001b[1m \u001b[0m\u001b[1mchosen_text                    \u001b[0m\u001b[1m \u001b[0m┃\u001b[1m \u001b[0m\u001b[1mrejected_text                 \u001b[0m\u001b[1m \u001b[0m┃\u001b[1m \u001b[0m\u001b[1mlogits          \u001b[0m\u001b[1m \u001b[0m┃\n",
       "┡━━━━━━━━━━━━━━━━━━━━━━━━━━━━━━━━━╇━━━━━━━━━━━━━━━━━━━━━━━━━━━━━━━━╇━━━━━━━━━━━━━━━━━━┩\n",
       "│ 感谢认领.                       │ 公主                           │ [0.6326, 0.3674] │\n",
       "├─────────────────────────────────┼────────────────────────────────┼──────────────────┤\n",
       "│ 感谢认领露思好漂亮              │ 感谢认领美丽露宝~              │ [0.6786, 0.3214] │\n",
       "├─────────────────────────────────┼────────────────────────────────┼──────────────────┤\n",
       "│ 感谢认领露思好漂亮              │ 赵露思好美                     │ [0.6508, 0.3492] │\n",
       "├─────────────────────────────────┼────────────────────────────────┼──────────────────┤\n",
       "│ 杀了那么多人 蛇蝎心肠 还不够死� │ 他很好？很好为什么逮捕她？杀人 │ [0.2368, 0.7632] │\n",
       "└─────────────────────────────────┴────────────────────────────────┴──────────────────┘\n"
      ]
     },
     "metadata": {},
     "output_type": "display_data"
    },
    {
     "name": "stderr",
     "output_type": "stream",
     "text": [
      "/usr/local/lib/python3.8/dist-packages/transformers/tokenization_utils_base.py:2778: UserWarning: `max_length` is ignored when `padding`=`True` and there is no truncation strategy. To pad to max length, use `padding='max_length'`.\n",
      "  warnings.warn(\n",
      "/usr/local/lib/python3.8/dist-packages/trl/trainer/utils.py:599: UserWarning: There are 22 out of 3451 instances where the predictions for both options are equal. As a consequence the accuracy can be misleading.\n",
      "  warnings.warn(\n",
      "/usr/local/lib/python3.8/dist-packages/transformers/tokenization_utils_base.py:2778: UserWarning: `max_length` is ignored when `padding`=`True` and there is no truncation strategy. To pad to max length, use `padding='max_length'`.\n",
      "  warnings.warn(\n",
      "/usr/local/lib/python3.8/dist-packages/torch/utils/checkpoint.py:464: UserWarning: torch.utils.checkpoint: the use_reentrant parameter should be passed explicitly. In version 2.4 we will raise an exception if use_reentrant is not passed. use_reentrant=False is recommended, but if you need to preserve the current default behavior, you can pass use_reentrant=True. Refer to docs for more details on the differences between the two variants.\n",
      "  warnings.warn(\n",
      "/usr/local/lib/python3.8/dist-packages/torch/utils/checkpoint.py:91: UserWarning: None of the inputs have requires_grad=True. Gradients will be None\n",
      "  warnings.warn(\n"
     ]
    },
    {
     "data": {
      "text/html": [
       "<pre style=\"white-space:pre;overflow-x:auto;line-height:normal;font-family:Menlo,'DejaVu Sans Mono',consolas,'Courier New',monospace\">┏━━━━━━━━━━━━━━━━━━━━━━━━━━━━━━━━━┳━━━━━━━━━━━━━━━━━━━━━━━━━━━━━━━━━━━━┳━━━━━━━━━━━━━━━━━━┓\n",
       "┃<span style=\"font-weight: bold\"> chosen_text                     </span>┃<span style=\"font-weight: bold\"> rejected_text                      </span>┃<span style=\"font-weight: bold\"> logits           </span>┃\n",
       "┡━━━━━━━━━━━━━━━━━━━━━━━━━━━━━━━━━╇━━━━━━━━━━━━━━━━━━━━━━━━━━━━━━━━━━━━╇━━━━━━━━━━━━━━━━━━┩\n",
       "│ 感谢认领.                       │ 公主                               │ [0.4246, 0.5754] │\n",
       "├─────────────────────────────────┼────────────────────────────────────┼──────────────────┤\n",
       "│ 感谢认领露思好漂亮              │ 感谢认领美丽露宝~                  │ [0.6453, 0.3547] │\n",
       "├─────────────────────────────────┼────────────────────────────────────┼──────────────────┤\n",
       "│ 感谢认领露思好漂亮              │ 赵露思好美                         │ [0.5289, 0.4711] │\n",
       "├─────────────────────────────────┼────────────────────────────────────┼──────────────────┤\n",
       "│ 杀了那么多人 蛇蝎心肠 还不够死� │ 他很好？很好为什么逮捕她？杀人     │ [0.4609, 0.5391] │\n",
       "├─────────────────────────────────┼────────────────────────────────────┼──────────────────┤\n",
       "│ 她的辩护律师想通过帮她翻案，    │ 二审维持原判还能上诉吗？           │ [0.2908, 0.7092] │\n",
       "├─────────────────────────────────┼────────────────────────────────────┼──────────────────┤\n",
       "│ 妈的 这个律师有点良心吧 维持原  │ 感谢认领.                          │ [0.5767, 0.4233] │\n",
       "├─────────────────────────────────┼────────────────────────────────────┼──────────────────┤\n",
       "│ 她的辩护律师想通过帮她翻案，    │ 她家人没事吧？果然不是一家人，不进 │ [0.2656, 0.7344] │\n",
       "├─────────────────────────────────┼────────────────────────────────────┼──────────────────┤\n",
       "│ 《互联网黑历史现状》            │ 《你看看》                         │ [0.6151, 0.3849] │\n",
       "└─────────────────────────────────┴────────────────────────────────────┴──────────────────┘\n",
       "</pre>\n"
      ],
      "text/plain": [
       "┏━━━━━━━━━━━━━━━━━━━━━━━━━━━━━━━━━┳━━━━━━━━━━━━━━━━━━━━━━━━━━━━━━━━━━━━┳━━━━━━━━━━━━━━━━━━┓\n",
       "┃\u001b[1m \u001b[0m\u001b[1mchosen_text                    \u001b[0m\u001b[1m \u001b[0m┃\u001b[1m \u001b[0m\u001b[1mrejected_text                     \u001b[0m\u001b[1m \u001b[0m┃\u001b[1m \u001b[0m\u001b[1mlogits          \u001b[0m\u001b[1m \u001b[0m┃\n",
       "┡━━━━━━━━━━━━━━━━━━━━━━━━━━━━━━━━━╇━━━━━━━━━━━━━━━━━━━━━━━━━━━━━━━━━━━━╇━━━━━━━━━━━━━━━━━━┩\n",
       "│ 感谢认领.                       │ 公主                               │ [0.4246, 0.5754] │\n",
       "├─────────────────────────────────┼────────────────────────────────────┼──────────────────┤\n",
       "│ 感谢认领露思好漂亮              │ 感谢认领美丽露宝~                  │ [0.6453, 0.3547] │\n",
       "├─────────────────────────────────┼────────────────────────────────────┼──────────────────┤\n",
       "│ 感谢认领露思好漂亮              │ 赵露思好美                         │ [0.5289, 0.4711] │\n",
       "├─────────────────────────────────┼────────────────────────────────────┼──────────────────┤\n",
       "│ 杀了那么多人 蛇蝎心肠 还不够死� │ 他很好？很好为什么逮捕她？杀人     │ [0.4609, 0.5391] │\n",
       "├─────────────────────────────────┼────────────────────────────────────┼──────────────────┤\n",
       "│ 她的辩护律师想通过帮她翻案，    │ 二审维持原判还能上诉吗？           │ [0.2908, 0.7092] │\n",
       "├─────────────────────────────────┼────────────────────────────────────┼──────────────────┤\n",
       "│ 妈的 这个律师有点良心吧 维持原  │ 感谢认领.                          │ [0.5767, 0.4233] │\n",
       "├─────────────────────────────────┼────────────────────────────────────┼──────────────────┤\n",
       "│ 她的辩护律师想通过帮她翻案，    │ 她家人没事吧？果然不是一家人，不进 │ [0.2656, 0.7344] │\n",
       "├─────────────────────────────────┼────────────────────────────────────┼──────────────────┤\n",
       "│ 《互联网黑历史现状》            │ 《你看看》                         │ [0.6151, 0.3849] │\n",
       "└─────────────────────────────────┴────────────────────────────────────┴──────────────────┘\n"
      ]
     },
     "metadata": {},
     "output_type": "display_data"
    },
    {
     "data": {
      "text/html": [
       "<pre style=\"white-space:pre;overflow-x:auto;line-height:normal;font-family:Menlo,'DejaVu Sans Mono',consolas,'Courier New',monospace\">┏━━━━━━━━━━━━━━━━━━━━━━━━━━━━━━━━━┳━━━━━━━━━━━━━━━━━━━━━━━━━━━━━━━━┳━━━━━━━━━━━━━━━━━━┓\n",
       "┃<span style=\"font-weight: bold\"> chosen_text                     </span>┃<span style=\"font-weight: bold\"> rejected_text                  </span>┃<span style=\"font-weight: bold\"> logits           </span>┃\n",
       "┡━━━━━━━━━━━━━━━━━━━━━━━━━━━━━━━━━╇━━━━━━━━━━━━━━━━━━━━━━━━━━━━━━━━╇━━━━━━━━━━━━━━━━━━┩\n",
       "│ 感谢认领.                       │ 公主                           │ [0.4246, 0.5754] │\n",
       "├─────────────────────────────────┼────────────────────────────────┼──────────────────┤\n",
       "│ 感谢认领露思好漂亮              │ 感谢认领美丽露宝~              │ [0.6453, 0.3547] │\n",
       "├─────────────────────────────────┼────────────────────────────────┼──────────────────┤\n",
       "│ 感谢认领露思好漂亮              │ 赵露思好美                     │ [0.5289, 0.4711] │\n",
       "├─────────────────────────────────┼────────────────────────────────┼──────────────────┤\n",
       "│ 杀了那么多人 蛇蝎心肠 还不够死� │ 他很好？很好为什么逮捕她？杀人 │ [0.4609, 0.5391] │\n",
       "└─────────────────────────────────┴────────────────────────────────┴──────────────────┘\n",
       "</pre>\n"
      ],
      "text/plain": [
       "┏━━━━━━━━━━━━━━━━━━━━━━━━━━━━━━━━━┳━━━━━━━━━━━━━━━━━━━━━━━━━━━━━━━━┳━━━━━━━━━━━━━━━━━━┓\n",
       "┃\u001b[1m \u001b[0m\u001b[1mchosen_text                    \u001b[0m\u001b[1m \u001b[0m┃\u001b[1m \u001b[0m\u001b[1mrejected_text                 \u001b[0m\u001b[1m \u001b[0m┃\u001b[1m \u001b[0m\u001b[1mlogits          \u001b[0m\u001b[1m \u001b[0m┃\n",
       "┡━━━━━━━━━━━━━━━━━━━━━━━━━━━━━━━━━╇━━━━━━━━━━━━━━━━━━━━━━━━━━━━━━━━╇━━━━━━━━━━━━━━━━━━┩\n",
       "│ 感谢认领.                       │ 公主                           │ [0.4246, 0.5754] │\n",
       "├─────────────────────────────────┼────────────────────────────────┼──────────────────┤\n",
       "│ 感谢认领露思好漂亮              │ 感谢认领美丽露宝~              │ [0.6453, 0.3547] │\n",
       "├─────────────────────────────────┼────────────────────────────────┼──────────────────┤\n",
       "│ 感谢认领露思好漂亮              │ 赵露思好美                     │ [0.5289, 0.4711] │\n",
       "├─────────────────────────────────┼────────────────────────────────┼──────────────────┤\n",
       "│ 杀了那么多人 蛇蝎心肠 还不够死� │ 他很好？很好为什么逮捕她？杀人 │ [0.4609, 0.5391] │\n",
       "└─────────────────────────────────┴────────────────────────────────┴──────────────────┘\n"
      ]
     },
     "metadata": {},
     "output_type": "display_data"
    },
    {
     "name": "stderr",
     "output_type": "stream",
     "text": [
      "/usr/local/lib/python3.8/dist-packages/transformers/tokenization_utils_base.py:2778: UserWarning: `max_length` is ignored when `padding`=`True` and there is no truncation strategy. To pad to max length, use `padding='max_length'`.\n",
      "  warnings.warn(\n",
      "/usr/local/lib/python3.8/dist-packages/trl/trainer/utils.py:599: UserWarning: There are 22 out of 3451 instances where the predictions for both options are equal. As a consequence the accuracy can be misleading.\n",
      "  warnings.warn(\n",
      "/usr/local/lib/python3.8/dist-packages/transformers/tokenization_utils_base.py:2778: UserWarning: `max_length` is ignored when `padding`=`True` and there is no truncation strategy. To pad to max length, use `padding='max_length'`.\n",
      "  warnings.warn(\n",
      "/usr/local/lib/python3.8/dist-packages/torch/utils/checkpoint.py:464: UserWarning: torch.utils.checkpoint: the use_reentrant parameter should be passed explicitly. In version 2.4 we will raise an exception if use_reentrant is not passed. use_reentrant=False is recommended, but if you need to preserve the current default behavior, you can pass use_reentrant=True. Refer to docs for more details on the differences between the two variants.\n",
      "  warnings.warn(\n",
      "/usr/local/lib/python3.8/dist-packages/torch/utils/checkpoint.py:91: UserWarning: None of the inputs have requires_grad=True. Gradients will be None\n",
      "  warnings.warn(\n"
     ]
    },
    {
     "data": {
      "text/html": [
       "<pre style=\"white-space:pre;overflow-x:auto;line-height:normal;font-family:Menlo,'DejaVu Sans Mono',consolas,'Courier New',monospace\">┏━━━━━━━━━━━━━━━━━━━━━━━━━━━━━━━━━┳━━━━━━━━━━━━━━━━━━━━━━━━━━━━━━━━━━━━┳━━━━━━━━━━━━━━━━━━┓\n",
       "┃<span style=\"font-weight: bold\"> chosen_text                     </span>┃<span style=\"font-weight: bold\"> rejected_text                      </span>┃<span style=\"font-weight: bold\"> logits           </span>┃\n",
       "┡━━━━━━━━━━━━━━━━━━━━━━━━━━━━━━━━━╇━━━━━━━━━━━━━━━━━━━━━━━━━━━━━━━━━━━━╇━━━━━━━━━━━━━━━━━━┩\n",
       "│ 感谢认领.                       │ 公主                               │ [0.5916, 0.4084] │\n",
       "├─────────────────────────────────┼────────────────────────────────────┼──────────────────┤\n",
       "│ 感谢认领露思好漂亮              │ 感谢认领美丽露宝~                  │ [0.4866, 0.5134] │\n",
       "├─────────────────────────────────┼────────────────────────────────────┼──────────────────┤\n",
       "│ 感谢认领露思好漂亮              │ 赵露思好美                         │ [0.5691, 0.4309] │\n",
       "├─────────────────────────────────┼────────────────────────────────────┼──────────────────┤\n",
       "│ 杀了那么多人 蛇蝎心肠 还不够死� │ 他很好？很好为什么逮捕她？杀人     │ [0.3836, 0.6164] │\n",
       "├─────────────────────────────────┼────────────────────────────────────┼──────────────────┤\n",
       "│ 她的辩护律师想通过帮她翻案，    │ 二审维持原判还能上诉吗？           │ [0.3501, 0.6499] │\n",
       "├─────────────────────────────────┼────────────────────────────────────┼──────────────────┤\n",
       "│ 妈的 这个律师有点良心吧 维持原  │ 感谢认领.                          │ [0.6214, 0.3786] │\n",
       "├─────────────────────────────────┼────────────────────────────────────┼──────────────────┤\n",
       "│ 她的辩护律师想通过帮她翻案，    │ 她家人没事吧？果然不是一家人，不进 │ [0.5265, 0.4735] │\n",
       "├─────────────────────────────────┼────────────────────────────────────┼──────────────────┤\n",
       "│ 《互联网黑历史现状》            │ 《你看看》                         │ [0.5964, 0.4036] │\n",
       "└─────────────────────────────────┴────────────────────────────────────┴──────────────────┘\n",
       "</pre>\n"
      ],
      "text/plain": [
       "┏━━━━━━━━━━━━━━━━━━━━━━━━━━━━━━━━━┳━━━━━━━━━━━━━━━━━━━━━━━━━━━━━━━━━━━━┳━━━━━━━━━━━━━━━━━━┓\n",
       "┃\u001b[1m \u001b[0m\u001b[1mchosen_text                    \u001b[0m\u001b[1m \u001b[0m┃\u001b[1m \u001b[0m\u001b[1mrejected_text                     \u001b[0m\u001b[1m \u001b[0m┃\u001b[1m \u001b[0m\u001b[1mlogits          \u001b[0m\u001b[1m \u001b[0m┃\n",
       "┡━━━━━━━━━━━━━━━━━━━━━━━━━━━━━━━━━╇━━━━━━━━━━━━━━━━━━━━━━━━━━━━━━━━━━━━╇━━━━━━━━━━━━━━━━━━┩\n",
       "│ 感谢认领.                       │ 公主                               │ [0.5916, 0.4084] │\n",
       "├─────────────────────────────────┼────────────────────────────────────┼──────────────────┤\n",
       "│ 感谢认领露思好漂亮              │ 感谢认领美丽露宝~                  │ [0.4866, 0.5134] │\n",
       "├─────────────────────────────────┼────────────────────────────────────┼──────────────────┤\n",
       "│ 感谢认领露思好漂亮              │ 赵露思好美                         │ [0.5691, 0.4309] │\n",
       "├─────────────────────────────────┼────────────────────────────────────┼──────────────────┤\n",
       "│ 杀了那么多人 蛇蝎心肠 还不够死� │ 他很好？很好为什么逮捕她？杀人     │ [0.3836, 0.6164] │\n",
       "├─────────────────────────────────┼────────────────────────────────────┼──────────────────┤\n",
       "│ 她的辩护律师想通过帮她翻案，    │ 二审维持原判还能上诉吗？           │ [0.3501, 0.6499] │\n",
       "├─────────────────────────────────┼────────────────────────────────────┼──────────────────┤\n",
       "│ 妈的 这个律师有点良心吧 维持原  │ 感谢认领.                          │ [0.6214, 0.3786] │\n",
       "├─────────────────────────────────┼────────────────────────────────────┼──────────────────┤\n",
       "│ 她的辩护律师想通过帮她翻案，    │ 她家人没事吧？果然不是一家人，不进 │ [0.5265, 0.4735] │\n",
       "├─────────────────────────────────┼────────────────────────────────────┼──────────────────┤\n",
       "│ 《互联网黑历史现状》            │ 《你看看》                         │ [0.5964, 0.4036] │\n",
       "└─────────────────────────────────┴────────────────────────────────────┴──────────────────┘\n"
      ]
     },
     "metadata": {},
     "output_type": "display_data"
    },
    {
     "data": {
      "text/html": [
       "<pre style=\"white-space:pre;overflow-x:auto;line-height:normal;font-family:Menlo,'DejaVu Sans Mono',consolas,'Courier New',monospace\">┏━━━━━━━━━━━━━━━━━━━━━━━━━━━━━━━━━┳━━━━━━━━━━━━━━━━━━━━━━━━━━━━━━━━┳━━━━━━━━━━━━━━━━━━┓\n",
       "┃<span style=\"font-weight: bold\"> chosen_text                     </span>┃<span style=\"font-weight: bold\"> rejected_text                  </span>┃<span style=\"font-weight: bold\"> logits           </span>┃\n",
       "┡━━━━━━━━━━━━━━━━━━━━━━━━━━━━━━━━━╇━━━━━━━━━━━━━━━━━━━━━━━━━━━━━━━━╇━━━━━━━━━━━━━━━━━━┩\n",
       "│ 感谢认领.                       │ 公主                           │ [0.5916, 0.4084] │\n",
       "├─────────────────────────────────┼────────────────────────────────┼──────────────────┤\n",
       "│ 感谢认领露思好漂亮              │ 感谢认领美丽露宝~              │ [0.4866, 0.5134] │\n",
       "├─────────────────────────────────┼────────────────────────────────┼──────────────────┤\n",
       "│ 感谢认领露思好漂亮              │ 赵露思好美                     │ [0.5691, 0.4309] │\n",
       "├─────────────────────────────────┼────────────────────────────────┼──────────────────┤\n",
       "│ 杀了那么多人 蛇蝎心肠 还不够死� │ 他很好？很好为什么逮捕她？杀人 │ [0.3836, 0.6164] │\n",
       "└─────────────────────────────────┴────────────────────────────────┴──────────────────┘\n",
       "</pre>\n"
      ],
      "text/plain": [
       "┏━━━━━━━━━━━━━━━━━━━━━━━━━━━━━━━━━┳━━━━━━━━━━━━━━━━━━━━━━━━━━━━━━━━┳━━━━━━━━━━━━━━━━━━┓\n",
       "┃\u001b[1m \u001b[0m\u001b[1mchosen_text                    \u001b[0m\u001b[1m \u001b[0m┃\u001b[1m \u001b[0m\u001b[1mrejected_text                 \u001b[0m\u001b[1m \u001b[0m┃\u001b[1m \u001b[0m\u001b[1mlogits          \u001b[0m\u001b[1m \u001b[0m┃\n",
       "┡━━━━━━━━━━━━━━━━━━━━━━━━━━━━━━━━━╇━━━━━━━━━━━━━━━━━━━━━━━━━━━━━━━━╇━━━━━━━━━━━━━━━━━━┩\n",
       "│ 感谢认领.                       │ 公主                           │ [0.5916, 0.4084] │\n",
       "├─────────────────────────────────┼────────────────────────────────┼──────────────────┤\n",
       "│ 感谢认领露思好漂亮              │ 感谢认领美丽露宝~              │ [0.4866, 0.5134] │\n",
       "├─────────────────────────────────┼────────────────────────────────┼──────────────────┤\n",
       "│ 感谢认领露思好漂亮              │ 赵露思好美                     │ [0.5691, 0.4309] │\n",
       "├─────────────────────────────────┼────────────────────────────────┼──────────────────┤\n",
       "│ 杀了那么多人 蛇蝎心肠 还不够死� │ 他很好？很好为什么逮捕她？杀人 │ [0.3836, 0.6164] │\n",
       "└─────────────────────────────────┴────────────────────────────────┴──────────────────┘\n"
      ]
     },
     "metadata": {},
     "output_type": "display_data"
    },
    {
     "name": "stderr",
     "output_type": "stream",
     "text": [
      "/usr/local/lib/python3.8/dist-packages/transformers/tokenization_utils_base.py:2778: UserWarning: `max_length` is ignored when `padding`=`True` and there is no truncation strategy. To pad to max length, use `padding='max_length'`.\n",
      "  warnings.warn(\n",
      "/usr/local/lib/python3.8/dist-packages/trl/trainer/utils.py:599: UserWarning: There are 22 out of 3451 instances where the predictions for both options are equal. As a consequence the accuracy can be misleading.\n",
      "  warnings.warn(\n",
      "/usr/local/lib/python3.8/dist-packages/transformers/tokenization_utils_base.py:2778: UserWarning: `max_length` is ignored when `padding`=`True` and there is no truncation strategy. To pad to max length, use `padding='max_length'`.\n",
      "  warnings.warn(\n",
      "/usr/local/lib/python3.8/dist-packages/torch/utils/checkpoint.py:464: UserWarning: torch.utils.checkpoint: the use_reentrant parameter should be passed explicitly. In version 2.4 we will raise an exception if use_reentrant is not passed. use_reentrant=False is recommended, but if you need to preserve the current default behavior, you can pass use_reentrant=True. Refer to docs for more details on the differences between the two variants.\n",
      "  warnings.warn(\n",
      "/usr/local/lib/python3.8/dist-packages/torch/utils/checkpoint.py:91: UserWarning: None of the inputs have requires_grad=True. Gradients will be None\n",
      "  warnings.warn(\n"
     ]
    },
    {
     "data": {
      "text/html": [
       "<pre style=\"white-space:pre;overflow-x:auto;line-height:normal;font-family:Menlo,'DejaVu Sans Mono',consolas,'Courier New',monospace\">┏━━━━━━━━━━━━━━━━━━━━━━━━━━━━━━━━━┳━━━━━━━━━━━━━━━━━━━━━━━━━━━━━━━━━━━━┳━━━━━━━━━━━━━━━━━━┓\n",
       "┃<span style=\"font-weight: bold\"> chosen_text                     </span>┃<span style=\"font-weight: bold\"> rejected_text                      </span>┃<span style=\"font-weight: bold\"> logits           </span>┃\n",
       "┡━━━━━━━━━━━━━━━━━━━━━━━━━━━━━━━━━╇━━━━━━━━━━━━━━━━━━━━━━━━━━━━━━━━━━━━╇━━━━━━━━━━━━━━━━━━┩\n",
       "│ 感谢认领.                       │ 公主                               │ [0.6369, 0.3631] │\n",
       "├─────────────────────────────────┼────────────────────────────────────┼──────────────────┤\n",
       "│ 感谢认领露思好漂亮              │ 感谢认领美丽露宝~                  │ [0.4868, 0.5132] │\n",
       "├─────────────────────────────────┼────────────────────────────────────┼──────────────────┤\n",
       "│ 感谢认领露思好漂亮              │ 赵露思好美                         │ [0.3738, 0.6262] │\n",
       "├─────────────────────────────────┼────────────────────────────────────┼──────────────────┤\n",
       "│ 杀了那么多人 蛇蝎心肠 还不够死� │ 他很好？很好为什么逮捕她？杀人     │ [0.1174, 0.8826] │\n",
       "├─────────────────────────────────┼────────────────────────────────────┼──────────────────┤\n",
       "│ 她的辩护律师想通过帮她翻案，    │ 二审维持原判还能上诉吗？           │ [0.3689, 0.6311] │\n",
       "├─────────────────────────────────┼────────────────────────────────────┼──────────────────┤\n",
       "│ 妈的 这个律师有点良心吧 维持原  │ 感谢认领.                          │ [0.4817, 0.5183] │\n",
       "├─────────────────────────────────┼────────────────────────────────────┼──────────────────┤\n",
       "│ 她的辩护律师想通过帮她翻案，    │ 她家人没事吧？果然不是一家人，不进 │ [0.3199, 0.6801] │\n",
       "├─────────────────────────────────┼────────────────────────────────────┼──────────────────┤\n",
       "│ 《互联网黑历史现状》            │ 《你看看》                         │ [0.5329, 0.4671] │\n",
       "└─────────────────────────────────┴────────────────────────────────────┴──────────────────┘\n",
       "</pre>\n"
      ],
      "text/plain": [
       "┏━━━━━━━━━━━━━━━━━━━━━━━━━━━━━━━━━┳━━━━━━━━━━━━━━━━━━━━━━━━━━━━━━━━━━━━┳━━━━━━━━━━━━━━━━━━┓\n",
       "┃\u001b[1m \u001b[0m\u001b[1mchosen_text                    \u001b[0m\u001b[1m \u001b[0m┃\u001b[1m \u001b[0m\u001b[1mrejected_text                     \u001b[0m\u001b[1m \u001b[0m┃\u001b[1m \u001b[0m\u001b[1mlogits          \u001b[0m\u001b[1m \u001b[0m┃\n",
       "┡━━━━━━━━━━━━━━━━━━━━━━━━━━━━━━━━━╇━━━━━━━━━━━━━━━━━━━━━━━━━━━━━━━━━━━━╇━━━━━━━━━━━━━━━━━━┩\n",
       "│ 感谢认领.                       │ 公主                               │ [0.6369, 0.3631] │\n",
       "├─────────────────────────────────┼────────────────────────────────────┼──────────────────┤\n",
       "│ 感谢认领露思好漂亮              │ 感谢认领美丽露宝~                  │ [0.4868, 0.5132] │\n",
       "├─────────────────────────────────┼────────────────────────────────────┼──────────────────┤\n",
       "│ 感谢认领露思好漂亮              │ 赵露思好美                         │ [0.3738, 0.6262] │\n",
       "├─────────────────────────────────┼────────────────────────────────────┼──────────────────┤\n",
       "│ 杀了那么多人 蛇蝎心肠 还不够死� │ 他很好？很好为什么逮捕她？杀人     │ [0.1174, 0.8826] │\n",
       "├─────────────────────────────────┼────────────────────────────────────┼──────────────────┤\n",
       "│ 她的辩护律师想通过帮她翻案，    │ 二审维持原判还能上诉吗？           │ [0.3689, 0.6311] │\n",
       "├─────────────────────────────────┼────────────────────────────────────┼──────────────────┤\n",
       "│ 妈的 这个律师有点良心吧 维持原  │ 感谢认领.                          │ [0.4817, 0.5183] │\n",
       "├─────────────────────────────────┼────────────────────────────────────┼──────────────────┤\n",
       "│ 她的辩护律师想通过帮她翻案，    │ 她家人没事吧？果然不是一家人，不进 │ [0.3199, 0.6801] │\n",
       "├─────────────────────────────────┼────────────────────────────────────┼──────────────────┤\n",
       "│ 《互联网黑历史现状》            │ 《你看看》                         │ [0.5329, 0.4671] │\n",
       "└─────────────────────────────────┴────────────────────────────────────┴──────────────────┘\n"
      ]
     },
     "metadata": {},
     "output_type": "display_data"
    },
    {
     "data": {
      "text/html": [
       "<pre style=\"white-space:pre;overflow-x:auto;line-height:normal;font-family:Menlo,'DejaVu Sans Mono',consolas,'Courier New',monospace\">┏━━━━━━━━━━━━━━━━━━━━━━━━━━━━━━━━━┳━━━━━━━━━━━━━━━━━━━━━━━━━━━━━━━━┳━━━━━━━━━━━━━━━━━━┓\n",
       "┃<span style=\"font-weight: bold\"> chosen_text                     </span>┃<span style=\"font-weight: bold\"> rejected_text                  </span>┃<span style=\"font-weight: bold\"> logits           </span>┃\n",
       "┡━━━━━━━━━━━━━━━━━━━━━━━━━━━━━━━━━╇━━━━━━━━━━━━━━━━━━━━━━━━━━━━━━━━╇━━━━━━━━━━━━━━━━━━┩\n",
       "│ 感谢认领.                       │ 公主                           │ [0.6369, 0.3631] │\n",
       "├─────────────────────────────────┼────────────────────────────────┼──────────────────┤\n",
       "│ 感谢认领露思好漂亮              │ 感谢认领美丽露宝~              │ [0.4868, 0.5132] │\n",
       "├─────────────────────────────────┼────────────────────────────────┼──────────────────┤\n",
       "│ 感谢认领露思好漂亮              │ 赵露思好美                     │ [0.3738, 0.6262] │\n",
       "├─────────────────────────────────┼────────────────────────────────┼──────────────────┤\n",
       "│ 杀了那么多人 蛇蝎心肠 还不够死� │ 他很好？很好为什么逮捕她？杀人 │ [0.1174, 0.8826] │\n",
       "└─────────────────────────────────┴────────────────────────────────┴──────────────────┘\n",
       "</pre>\n"
      ],
      "text/plain": [
       "┏━━━━━━━━━━━━━━━━━━━━━━━━━━━━━━━━━┳━━━━━━━━━━━━━━━━━━━━━━━━━━━━━━━━┳━━━━━━━━━━━━━━━━━━┓\n",
       "┃\u001b[1m \u001b[0m\u001b[1mchosen_text                    \u001b[0m\u001b[1m \u001b[0m┃\u001b[1m \u001b[0m\u001b[1mrejected_text                 \u001b[0m\u001b[1m \u001b[0m┃\u001b[1m \u001b[0m\u001b[1mlogits          \u001b[0m\u001b[1m \u001b[0m┃\n",
       "┡━━━━━━━━━━━━━━━━━━━━━━━━━━━━━━━━━╇━━━━━━━━━━━━━━━━━━━━━━━━━━━━━━━━╇━━━━━━━━━━━━━━━━━━┩\n",
       "│ 感谢认领.                       │ 公主                           │ [0.6369, 0.3631] │\n",
       "├─────────────────────────────────┼────────────────────────────────┼──────────────────┤\n",
       "│ 感谢认领露思好漂亮              │ 感谢认领美丽露宝~              │ [0.4868, 0.5132] │\n",
       "├─────────────────────────────────┼────────────────────────────────┼──────────────────┤\n",
       "│ 感谢认领露思好漂亮              │ 赵露思好美                     │ [0.3738, 0.6262] │\n",
       "├─────────────────────────────────┼────────────────────────────────┼──────────────────┤\n",
       "│ 杀了那么多人 蛇蝎心肠 还不够死� │ 他很好？很好为什么逮捕她？杀人 │ [0.1174, 0.8826] │\n",
       "└─────────────────────────────────┴────────────────────────────────┴──────────────────┘\n"
      ]
     },
     "metadata": {},
     "output_type": "display_data"
    },
    {
     "name": "stderr",
     "output_type": "stream",
     "text": [
      "/usr/local/lib/python3.8/dist-packages/transformers/tokenization_utils_base.py:2778: UserWarning: `max_length` is ignored when `padding`=`True` and there is no truncation strategy. To pad to max length, use `padding='max_length'`.\n",
      "  warnings.warn(\n",
      "/usr/local/lib/python3.8/dist-packages/trl/trainer/utils.py:599: UserWarning: There are 22 out of 3451 instances where the predictions for both options are equal. As a consequence the accuracy can be misleading.\n",
      "  warnings.warn(\n",
      "/usr/local/lib/python3.8/dist-packages/transformers/tokenization_utils_base.py:2778: UserWarning: `max_length` is ignored when `padding`=`True` and there is no truncation strategy. To pad to max length, use `padding='max_length'`.\n",
      "  warnings.warn(\n",
      "/usr/local/lib/python3.8/dist-packages/torch/utils/checkpoint.py:464: UserWarning: torch.utils.checkpoint: the use_reentrant parameter should be passed explicitly. In version 2.4 we will raise an exception if use_reentrant is not passed. use_reentrant=False is recommended, but if you need to preserve the current default behavior, you can pass use_reentrant=True. Refer to docs for more details on the differences between the two variants.\n",
      "  warnings.warn(\n",
      "/usr/local/lib/python3.8/dist-packages/torch/utils/checkpoint.py:91: UserWarning: None of the inputs have requires_grad=True. Gradients will be None\n",
      "  warnings.warn(\n"
     ]
    },
    {
     "data": {
      "text/html": [
       "<pre style=\"white-space:pre;overflow-x:auto;line-height:normal;font-family:Menlo,'DejaVu Sans Mono',consolas,'Courier New',monospace\">┏━━━━━━━━━━━━━━━━━━━━━━━━━━━━━━━━━┳━━━━━━━━━━━━━━━━━━━━━━━━━━━━━━━━━━━━┳━━━━━━━━━━━━━━━━━━┓\n",
       "┃<span style=\"font-weight: bold\"> chosen_text                     </span>┃<span style=\"font-weight: bold\"> rejected_text                      </span>┃<span style=\"font-weight: bold\"> logits           </span>┃\n",
       "┡━━━━━━━━━━━━━━━━━━━━━━━━━━━━━━━━━╇━━━━━━━━━━━━━━━━━━━━━━━━━━━━━━━━━━━━╇━━━━━━━━━━━━━━━━━━┩\n",
       "│ 感谢认领.                       │ 公主                               │ [0.6667, 0.3333] │\n",
       "├─────────────────────────────────┼────────────────────────────────────┼──────────────────┤\n",
       "│ 感谢认领露思好漂亮              │ 感谢认领美丽露宝~                  │ [0.5471, 0.4529] │\n",
       "├─────────────────────────────────┼────────────────────────────────────┼──────────────────┤\n",
       "│ 感谢认领露思好漂亮              │ 赵露思好美                         │ [0.5056, 0.4944] │\n",
       "├─────────────────────────────────┼────────────────────────────────────┼──────────────────┤\n",
       "│ 杀了那么多人 蛇蝎心肠 还不够死� │ 他很好？很好为什么逮捕她？杀人     │ [0.1909, 0.8091] │\n",
       "├─────────────────────────────────┼────────────────────────────────────┼──────────────────┤\n",
       "│ 她的辩护律师想通过帮她翻案，    │ 二审维持原判还能上诉吗？           │ [0.3334, 0.6666] │\n",
       "├─────────────────────────────────┼────────────────────────────────────┼──────────────────┤\n",
       "│ 妈的 这个律师有点良心吧 维持原  │ 感谢认领.                          │ [0.5382, 0.4618] │\n",
       "├─────────────────────────────────┼────────────────────────────────────┼──────────────────┤\n",
       "│ 她的辩护律师想通过帮她翻案，    │ 她家人没事吧？果然不是一家人，不进 │ [0.4983, 0.5017] │\n",
       "├─────────────────────────────────┼────────────────────────────────────┼──────────────────┤\n",
       "│ 《互联网黑历史现状》            │ 《你看看》                         │ [0.6785, 0.3215] │\n",
       "└─────────────────────────────────┴────────────────────────────────────┴──────────────────┘\n",
       "</pre>\n"
      ],
      "text/plain": [
       "┏━━━━━━━━━━━━━━━━━━━━━━━━━━━━━━━━━┳━━━━━━━━━━━━━━━━━━━━━━━━━━━━━━━━━━━━┳━━━━━━━━━━━━━━━━━━┓\n",
       "┃\u001b[1m \u001b[0m\u001b[1mchosen_text                    \u001b[0m\u001b[1m \u001b[0m┃\u001b[1m \u001b[0m\u001b[1mrejected_text                     \u001b[0m\u001b[1m \u001b[0m┃\u001b[1m \u001b[0m\u001b[1mlogits          \u001b[0m\u001b[1m \u001b[0m┃\n",
       "┡━━━━━━━━━━━━━━━━━━━━━━━━━━━━━━━━━╇━━━━━━━━━━━━━━━━━━━━━━━━━━━━━━━━━━━━╇━━━━━━━━━━━━━━━━━━┩\n",
       "│ 感谢认领.                       │ 公主                               │ [0.6667, 0.3333] │\n",
       "├─────────────────────────────────┼────────────────────────────────────┼──────────────────┤\n",
       "│ 感谢认领露思好漂亮              │ 感谢认领美丽露宝~                  │ [0.5471, 0.4529] │\n",
       "├─────────────────────────────────┼────────────────────────────────────┼──────────────────┤\n",
       "│ 感谢认领露思好漂亮              │ 赵露思好美                         │ [0.5056, 0.4944] │\n",
       "├─────────────────────────────────┼────────────────────────────────────┼──────────────────┤\n",
       "│ 杀了那么多人 蛇蝎心肠 还不够死� │ 他很好？很好为什么逮捕她？杀人     │ [0.1909, 0.8091] │\n",
       "├─────────────────────────────────┼────────────────────────────────────┼──────────────────┤\n",
       "│ 她的辩护律师想通过帮她翻案，    │ 二审维持原判还能上诉吗？           │ [0.3334, 0.6666] │\n",
       "├─────────────────────────────────┼────────────────────────────────────┼──────────────────┤\n",
       "│ 妈的 这个律师有点良心吧 维持原  │ 感谢认领.                          │ [0.5382, 0.4618] │\n",
       "├─────────────────────────────────┼────────────────────────────────────┼──────────────────┤\n",
       "│ 她的辩护律师想通过帮她翻案，    │ 她家人没事吧？果然不是一家人，不进 │ [0.4983, 0.5017] │\n",
       "├─────────────────────────────────┼────────────────────────────────────┼──────────────────┤\n",
       "│ 《互联网黑历史现状》            │ 《你看看》                         │ [0.6785, 0.3215] │\n",
       "└─────────────────────────────────┴────────────────────────────────────┴──────────────────┘\n"
      ]
     },
     "metadata": {},
     "output_type": "display_data"
    },
    {
     "data": {
      "text/html": [
       "<pre style=\"white-space:pre;overflow-x:auto;line-height:normal;font-family:Menlo,'DejaVu Sans Mono',consolas,'Courier New',monospace\">┏━━━━━━━━━━━━━━━━━━━━━━━━━━━━━━━━━┳━━━━━━━━━━━━━━━━━━━━━━━━━━━━━━━━┳━━━━━━━━━━━━━━━━━━┓\n",
       "┃<span style=\"font-weight: bold\"> chosen_text                     </span>┃<span style=\"font-weight: bold\"> rejected_text                  </span>┃<span style=\"font-weight: bold\"> logits           </span>┃\n",
       "┡━━━━━━━━━━━━━━━━━━━━━━━━━━━━━━━━━╇━━━━━━━━━━━━━━━━━━━━━━━━━━━━━━━━╇━━━━━━━━━━━━━━━━━━┩\n",
       "│ 感谢认领.                       │ 公主                           │ [0.6667, 0.3333] │\n",
       "├─────────────────────────────────┼────────────────────────────────┼──────────────────┤\n",
       "│ 感谢认领露思好漂亮              │ 感谢认领美丽露宝~              │ [0.5471, 0.4529] │\n",
       "├─────────────────────────────────┼────────────────────────────────┼──────────────────┤\n",
       "│ 感谢认领露思好漂亮              │ 赵露思好美                     │ [0.5056, 0.4944] │\n",
       "├─────────────────────────────────┼────────────────────────────────┼──────────────────┤\n",
       "│ 杀了那么多人 蛇蝎心肠 还不够死� │ 他很好？很好为什么逮捕她？杀人 │ [0.1909, 0.8091] │\n",
       "└─────────────────────────────────┴────────────────────────────────┴──────────────────┘\n",
       "</pre>\n"
      ],
      "text/plain": [
       "┏━━━━━━━━━━━━━━━━━━━━━━━━━━━━━━━━━┳━━━━━━━━━━━━━━━━━━━━━━━━━━━━━━━━┳━━━━━━━━━━━━━━━━━━┓\n",
       "┃\u001b[1m \u001b[0m\u001b[1mchosen_text                    \u001b[0m\u001b[1m \u001b[0m┃\u001b[1m \u001b[0m\u001b[1mrejected_text                 \u001b[0m\u001b[1m \u001b[0m┃\u001b[1m \u001b[0m\u001b[1mlogits          \u001b[0m\u001b[1m \u001b[0m┃\n",
       "┡━━━━━━━━━━━━━━━━━━━━━━━━━━━━━━━━━╇━━━━━━━━━━━━━━━━━━━━━━━━━━━━━━━━╇━━━━━━━━━━━━━━━━━━┩\n",
       "│ 感谢认领.                       │ 公主                           │ [0.6667, 0.3333] │\n",
       "├─────────────────────────────────┼────────────────────────────────┼──────────────────┤\n",
       "│ 感谢认领露思好漂亮              │ 感谢认领美丽露宝~              │ [0.5471, 0.4529] │\n",
       "├─────────────────────────────────┼────────────────────────────────┼──────────────────┤\n",
       "│ 感谢认领露思好漂亮              │ 赵露思好美                     │ [0.5056, 0.4944] │\n",
       "├─────────────────────────────────┼────────────────────────────────┼──────────────────┤\n",
       "│ 杀了那么多人 蛇蝎心肠 还不够死� │ 他很好？很好为什么逮捕她？杀人 │ [0.1909, 0.8091] │\n",
       "└─────────────────────────────────┴────────────────────────────────┴──────────────────┘\n"
      ]
     },
     "metadata": {},
     "output_type": "display_data"
    },
    {
     "name": "stderr",
     "output_type": "stream",
     "text": [
      "/usr/local/lib/python3.8/dist-packages/transformers/tokenization_utils_base.py:2778: UserWarning: `max_length` is ignored when `padding`=`True` and there is no truncation strategy. To pad to max length, use `padding='max_length'`.\n",
      "  warnings.warn(\n",
      "/usr/local/lib/python3.8/dist-packages/trl/trainer/utils.py:599: UserWarning: There are 22 out of 3451 instances where the predictions for both options are equal. As a consequence the accuracy can be misleading.\n",
      "  warnings.warn(\n",
      "/usr/local/lib/python3.8/dist-packages/transformers/tokenization_utils_base.py:2778: UserWarning: `max_length` is ignored when `padding`=`True` and there is no truncation strategy. To pad to max length, use `padding='max_length'`.\n",
      "  warnings.warn(\n",
      "/usr/local/lib/python3.8/dist-packages/torch/utils/checkpoint.py:464: UserWarning: torch.utils.checkpoint: the use_reentrant parameter should be passed explicitly. In version 2.4 we will raise an exception if use_reentrant is not passed. use_reentrant=False is recommended, but if you need to preserve the current default behavior, you can pass use_reentrant=True. Refer to docs for more details on the differences between the two variants.\n",
      "  warnings.warn(\n",
      "/usr/local/lib/python3.8/dist-packages/torch/utils/checkpoint.py:91: UserWarning: None of the inputs have requires_grad=True. Gradients will be None\n",
      "  warnings.warn(\n"
     ]
    },
    {
     "data": {
      "text/html": [
       "<pre style=\"white-space:pre;overflow-x:auto;line-height:normal;font-family:Menlo,'DejaVu Sans Mono',consolas,'Courier New',monospace\">┏━━━━━━━━━━━━━━━━━━━━━━━━━━━━━━━━━┳━━━━━━━━━━━━━━━━━━━━━━━━━━━━━━━━━━━━┳━━━━━━━━━━━━━━━━━━┓\n",
       "┃<span style=\"font-weight: bold\"> chosen_text                     </span>┃<span style=\"font-weight: bold\"> rejected_text                      </span>┃<span style=\"font-weight: bold\"> logits           </span>┃\n",
       "┡━━━━━━━━━━━━━━━━━━━━━━━━━━━━━━━━━╇━━━━━━━━━━━━━━━━━━━━━━━━━━━━━━━━━━━━╇━━━━━━━━━━━━━━━━━━┩\n",
       "│ 感谢认领.                       │ 公主                               │ [0.8616, 0.1384] │\n",
       "├─────────────────────────────────┼────────────────────────────────────┼──────────────────┤\n",
       "│ 感谢认领露思好漂亮              │ 感谢认领美丽露宝~                  │ [0.5428, 0.4572] │\n",
       "├─────────────────────────────────┼────────────────────────────────────┼──────────────────┤\n",
       "│ 感谢认领露思好漂亮              │ 赵露思好美                         │ [0.5852, 0.4148] │\n",
       "├─────────────────────────────────┼────────────────────────────────────┼──────────────────┤\n",
       "│ 杀了那么多人 蛇蝎心肠 还不够死� │ 他很好？很好为什么逮捕她？杀人     │ [0.2325, 0.7675] │\n",
       "├─────────────────────────────────┼────────────────────────────────────┼──────────────────┤\n",
       "│ 她的辩护律师想通过帮她翻案，    │ 二审维持原判还能上诉吗？           │ [0.5156, 0.4844] │\n",
       "├─────────────────────────────────┼────────────────────────────────────┼──────────────────┤\n",
       "│ 妈的 这个律师有点良心吧 维持原  │ 感谢认领.                          │ [0.6024, 0.3976] │\n",
       "├─────────────────────────────────┼────────────────────────────────────┼──────────────────┤\n",
       "│ 她的辩护律师想通过帮她翻案，    │ 她家人没事吧？果然不是一家人，不进 │ [0.4932, 0.5068] │\n",
       "├─────────────────────────────────┼────────────────────────────────────┼──────────────────┤\n",
       "│ 《互联网黑历史现状》            │ 《你看看》                         │ [0.7189, 0.2811] │\n",
       "└─────────────────────────────────┴────────────────────────────────────┴──────────────────┘\n",
       "</pre>\n"
      ],
      "text/plain": [
       "┏━━━━━━━━━━━━━━━━━━━━━━━━━━━━━━━━━┳━━━━━━━━━━━━━━━━━━━━━━━━━━━━━━━━━━━━┳━━━━━━━━━━━━━━━━━━┓\n",
       "┃\u001b[1m \u001b[0m\u001b[1mchosen_text                    \u001b[0m\u001b[1m \u001b[0m┃\u001b[1m \u001b[0m\u001b[1mrejected_text                     \u001b[0m\u001b[1m \u001b[0m┃\u001b[1m \u001b[0m\u001b[1mlogits          \u001b[0m\u001b[1m \u001b[0m┃\n",
       "┡━━━━━━━━━━━━━━━━━━━━━━━━━━━━━━━━━╇━━━━━━━━━━━━━━━━━━━━━━━━━━━━━━━━━━━━╇━━━━━━━━━━━━━━━━━━┩\n",
       "│ 感谢认领.                       │ 公主                               │ [0.8616, 0.1384] │\n",
       "├─────────────────────────────────┼────────────────────────────────────┼──────────────────┤\n",
       "│ 感谢认领露思好漂亮              │ 感谢认领美丽露宝~                  │ [0.5428, 0.4572] │\n",
       "├─────────────────────────────────┼────────────────────────────────────┼──────────────────┤\n",
       "│ 感谢认领露思好漂亮              │ 赵露思好美                         │ [0.5852, 0.4148] │\n",
       "├─────────────────────────────────┼────────────────────────────────────┼──────────────────┤\n",
       "│ 杀了那么多人 蛇蝎心肠 还不够死� │ 他很好？很好为什么逮捕她？杀人     │ [0.2325, 0.7675] │\n",
       "├─────────────────────────────────┼────────────────────────────────────┼──────────────────┤\n",
       "│ 她的辩护律师想通过帮她翻案，    │ 二审维持原判还能上诉吗？           │ [0.5156, 0.4844] │\n",
       "├─────────────────────────────────┼────────────────────────────────────┼──────────────────┤\n",
       "│ 妈的 这个律师有点良心吧 维持原  │ 感谢认领.                          │ [0.6024, 0.3976] │\n",
       "├─────────────────────────────────┼────────────────────────────────────┼──────────────────┤\n",
       "│ 她的辩护律师想通过帮她翻案，    │ 她家人没事吧？果然不是一家人，不进 │ [0.4932, 0.5068] │\n",
       "├─────────────────────────────────┼────────────────────────────────────┼──────────────────┤\n",
       "│ 《互联网黑历史现状》            │ 《你看看》                         │ [0.7189, 0.2811] │\n",
       "└─────────────────────────────────┴────────────────────────────────────┴──────────────────┘\n"
      ]
     },
     "metadata": {},
     "output_type": "display_data"
    },
    {
     "data": {
      "text/html": [
       "<pre style=\"white-space:pre;overflow-x:auto;line-height:normal;font-family:Menlo,'DejaVu Sans Mono',consolas,'Courier New',monospace\">┏━━━━━━━━━━━━━━━━━━━━━━━━━━━━━━━━━┳━━━━━━━━━━━━━━━━━━━━━━━━━━━━━━━━┳━━━━━━━━━━━━━━━━━━┓\n",
       "┃<span style=\"font-weight: bold\"> chosen_text                     </span>┃<span style=\"font-weight: bold\"> rejected_text                  </span>┃<span style=\"font-weight: bold\"> logits           </span>┃\n",
       "┡━━━━━━━━━━━━━━━━━━━━━━━━━━━━━━━━━╇━━━━━━━━━━━━━━━━━━━━━━━━━━━━━━━━╇━━━━━━━━━━━━━━━━━━┩\n",
       "│ 感谢认领.                       │ 公主                           │ [0.8616, 0.1384] │\n",
       "├─────────────────────────────────┼────────────────────────────────┼──────────────────┤\n",
       "│ 感谢认领露思好漂亮              │ 感谢认领美丽露宝~              │ [0.5428, 0.4572] │\n",
       "├─────────────────────────────────┼────────────────────────────────┼──────────────────┤\n",
       "│ 感谢认领露思好漂亮              │ 赵露思好美                     │ [0.5852, 0.4148] │\n",
       "├─────────────────────────────────┼────────────────────────────────┼──────────────────┤\n",
       "│ 杀了那么多人 蛇蝎心肠 还不够死� │ 他很好？很好为什么逮捕她？杀人 │ [0.2325, 0.7675] │\n",
       "└─────────────────────────────────┴────────────────────────────────┴──────────────────┘\n",
       "</pre>\n"
      ],
      "text/plain": [
       "┏━━━━━━━━━━━━━━━━━━━━━━━━━━━━━━━━━┳━━━━━━━━━━━━━━━━━━━━━━━━━━━━━━━━┳━━━━━━━━━━━━━━━━━━┓\n",
       "┃\u001b[1m \u001b[0m\u001b[1mchosen_text                    \u001b[0m\u001b[1m \u001b[0m┃\u001b[1m \u001b[0m\u001b[1mrejected_text                 \u001b[0m\u001b[1m \u001b[0m┃\u001b[1m \u001b[0m\u001b[1mlogits          \u001b[0m\u001b[1m \u001b[0m┃\n",
       "┡━━━━━━━━━━━━━━━━━━━━━━━━━━━━━━━━━╇━━━━━━━━━━━━━━━━━━━━━━━━━━━━━━━━╇━━━━━━━━━━━━━━━━━━┩\n",
       "│ 感谢认领.                       │ 公主                           │ [0.8616, 0.1384] │\n",
       "├─────────────────────────────────┼────────────────────────────────┼──────────────────┤\n",
       "│ 感谢认领露思好漂亮              │ 感谢认领美丽露宝~              │ [0.5428, 0.4572] │\n",
       "├─────────────────────────────────┼────────────────────────────────┼──────────────────┤\n",
       "│ 感谢认领露思好漂亮              │ 赵露思好美                     │ [0.5852, 0.4148] │\n",
       "├─────────────────────────────────┼────────────────────────────────┼──────────────────┤\n",
       "│ 杀了那么多人 蛇蝎心肠 还不够死� │ 他很好？很好为什么逮捕她？杀人 │ [0.2325, 0.7675] │\n",
       "└─────────────────────────────────┴────────────────────────────────┴──────────────────┘\n"
      ]
     },
     "metadata": {},
     "output_type": "display_data"
    },
    {
     "name": "stderr",
     "output_type": "stream",
     "text": [
      "/usr/local/lib/python3.8/dist-packages/transformers/tokenization_utils_base.py:2778: UserWarning: `max_length` is ignored when `padding`=`True` and there is no truncation strategy. To pad to max length, use `padding='max_length'`.\n",
      "  warnings.warn(\n",
      "/usr/local/lib/python3.8/dist-packages/trl/trainer/utils.py:599: UserWarning: There are 22 out of 3451 instances where the predictions for both options are equal. As a consequence the accuracy can be misleading.\n",
      "  warnings.warn(\n",
      "/usr/local/lib/python3.8/dist-packages/transformers/tokenization_utils_base.py:2778: UserWarning: `max_length` is ignored when `padding`=`True` and there is no truncation strategy. To pad to max length, use `padding='max_length'`.\n",
      "  warnings.warn(\n",
      "/usr/local/lib/python3.8/dist-packages/torch/utils/checkpoint.py:464: UserWarning: torch.utils.checkpoint: the use_reentrant parameter should be passed explicitly. In version 2.4 we will raise an exception if use_reentrant is not passed. use_reentrant=False is recommended, but if you need to preserve the current default behavior, you can pass use_reentrant=True. Refer to docs for more details on the differences between the two variants.\n",
      "  warnings.warn(\n",
      "/usr/local/lib/python3.8/dist-packages/torch/utils/checkpoint.py:91: UserWarning: None of the inputs have requires_grad=True. Gradients will be None\n",
      "  warnings.warn(\n"
     ]
    },
    {
     "data": {
      "text/html": [
       "<pre style=\"white-space:pre;overflow-x:auto;line-height:normal;font-family:Menlo,'DejaVu Sans Mono',consolas,'Courier New',monospace\">┏━━━━━━━━━━━━━━━━━━━━━━━━━━━━━━━━━┳━━━━━━━━━━━━━━━━━━━━━━━━━━━━━━━━━━━━┳━━━━━━━━━━━━━━━━━━┓\n",
       "┃<span style=\"font-weight: bold\"> chosen_text                     </span>┃<span style=\"font-weight: bold\"> rejected_text                      </span>┃<span style=\"font-weight: bold\"> logits           </span>┃\n",
       "┡━━━━━━━━━━━━━━━━━━━━━━━━━━━━━━━━━╇━━━━━━━━━━━━━━━━━━━━━━━━━━━━━━━━━━━━╇━━━━━━━━━━━━━━━━━━┩\n",
       "│ 感谢认领.                       │ 公主                               │ [0.6153, 0.3847] │\n",
       "├─────────────────────────────────┼────────────────────────────────────┼──────────────────┤\n",
       "│ 感谢认领露思好漂亮              │ 感谢认领美丽露宝~                  │ [0.5559, 0.4441] │\n",
       "├─────────────────────────────────┼────────────────────────────────────┼──────────────────┤\n",
       "│ 感谢认领露思好漂亮              │ 赵露思好美                         │ [0.6032, 0.3968] │\n",
       "├─────────────────────────────────┼────────────────────────────────────┼──────────────────┤\n",
       "│ 杀了那么多人 蛇蝎心肠 还不够死� │ 他很好？很好为什么逮捕她？杀人     │ [0.3347, 0.6653] │\n",
       "├─────────────────────────────────┼────────────────────────────────────┼──────────────────┤\n",
       "│ 她的辩护律师想通过帮她翻案，    │ 二审维持原判还能上诉吗？           │ [0.3189, 0.6811] │\n",
       "├─────────────────────────────────┼────────────────────────────────────┼──────────────────┤\n",
       "│ 妈的 这个律师有点良心吧 维持原  │ 感谢认领.                          │ [0.5369, 0.4631] │\n",
       "├─────────────────────────────────┼────────────────────────────────────┼──────────────────┤\n",
       "│ 她的辩护律师想通过帮她翻案，    │ 她家人没事吧？果然不是一家人，不进 │ [0.4283, 0.5717] │\n",
       "├─────────────────────────────────┼────────────────────────────────────┼──────────────────┤\n",
       "│ 《互联网黑历史现状》            │ 《你看看》                         │ [0.5343, 0.4657] │\n",
       "└─────────────────────────────────┴────────────────────────────────────┴──────────────────┘\n",
       "</pre>\n"
      ],
      "text/plain": [
       "┏━━━━━━━━━━━━━━━━━━━━━━━━━━━━━━━━━┳━━━━━━━━━━━━━━━━━━━━━━━━━━━━━━━━━━━━┳━━━━━━━━━━━━━━━━━━┓\n",
       "┃\u001b[1m \u001b[0m\u001b[1mchosen_text                    \u001b[0m\u001b[1m \u001b[0m┃\u001b[1m \u001b[0m\u001b[1mrejected_text                     \u001b[0m\u001b[1m \u001b[0m┃\u001b[1m \u001b[0m\u001b[1mlogits          \u001b[0m\u001b[1m \u001b[0m┃\n",
       "┡━━━━━━━━━━━━━━━━━━━━━━━━━━━━━━━━━╇━━━━━━━━━━━━━━━━━━━━━━━━━━━━━━━━━━━━╇━━━━━━━━━━━━━━━━━━┩\n",
       "│ 感谢认领.                       │ 公主                               │ [0.6153, 0.3847] │\n",
       "├─────────────────────────────────┼────────────────────────────────────┼──────────────────┤\n",
       "│ 感谢认领露思好漂亮              │ 感谢认领美丽露宝~                  │ [0.5559, 0.4441] │\n",
       "├─────────────────────────────────┼────────────────────────────────────┼──────────────────┤\n",
       "│ 感谢认领露思好漂亮              │ 赵露思好美                         │ [0.6032, 0.3968] │\n",
       "├─────────────────────────────────┼────────────────────────────────────┼──────────────────┤\n",
       "│ 杀了那么多人 蛇蝎心肠 还不够死� │ 他很好？很好为什么逮捕她？杀人     │ [0.3347, 0.6653] │\n",
       "├─────────────────────────────────┼────────────────────────────────────┼──────────────────┤\n",
       "│ 她的辩护律师想通过帮她翻案，    │ 二审维持原判还能上诉吗？           │ [0.3189, 0.6811] │\n",
       "├─────────────────────────────────┼────────────────────────────────────┼──────────────────┤\n",
       "│ 妈的 这个律师有点良心吧 维持原  │ 感谢认领.                          │ [0.5369, 0.4631] │\n",
       "├─────────────────────────────────┼────────────────────────────────────┼──────────────────┤\n",
       "│ 她的辩护律师想通过帮她翻案，    │ 她家人没事吧？果然不是一家人，不进 │ [0.4283, 0.5717] │\n",
       "├─────────────────────────────────┼────────────────────────────────────┼──────────────────┤\n",
       "│ 《互联网黑历史现状》            │ 《你看看》                         │ [0.5343, 0.4657] │\n",
       "└─────────────────────────────────┴────────────────────────────────────┴──────────────────┘\n"
      ]
     },
     "metadata": {},
     "output_type": "display_data"
    },
    {
     "data": {
      "text/html": [
       "<pre style=\"white-space:pre;overflow-x:auto;line-height:normal;font-family:Menlo,'DejaVu Sans Mono',consolas,'Courier New',monospace\">┏━━━━━━━━━━━━━━━━━━━━━━━━━━━━━━━━━┳━━━━━━━━━━━━━━━━━━━━━━━━━━━━━━━━┳━━━━━━━━━━━━━━━━━━┓\n",
       "┃<span style=\"font-weight: bold\"> chosen_text                     </span>┃<span style=\"font-weight: bold\"> rejected_text                  </span>┃<span style=\"font-weight: bold\"> logits           </span>┃\n",
       "┡━━━━━━━━━━━━━━━━━━━━━━━━━━━━━━━━━╇━━━━━━━━━━━━━━━━━━━━━━━━━━━━━━━━╇━━━━━━━━━━━━━━━━━━┩\n",
       "│ 感谢认领.                       │ 公主                           │ [0.6153, 0.3847] │\n",
       "├─────────────────────────────────┼────────────────────────────────┼──────────────────┤\n",
       "│ 感谢认领露思好漂亮              │ 感谢认领美丽露宝~              │ [0.5559, 0.4441] │\n",
       "├─────────────────────────────────┼────────────────────────────────┼──────────────────┤\n",
       "│ 感谢认领露思好漂亮              │ 赵露思好美                     │ [0.6032, 0.3968] │\n",
       "├─────────────────────────────────┼────────────────────────────────┼──────────────────┤\n",
       "│ 杀了那么多人 蛇蝎心肠 还不够死� │ 他很好？很好为什么逮捕她？杀人 │ [0.3347, 0.6653] │\n",
       "└─────────────────────────────────┴────────────────────────────────┴──────────────────┘\n",
       "</pre>\n"
      ],
      "text/plain": [
       "┏━━━━━━━━━━━━━━━━━━━━━━━━━━━━━━━━━┳━━━━━━━━━━━━━━━━━━━━━━━━━━━━━━━━┳━━━━━━━━━━━━━━━━━━┓\n",
       "┃\u001b[1m \u001b[0m\u001b[1mchosen_text                    \u001b[0m\u001b[1m \u001b[0m┃\u001b[1m \u001b[0m\u001b[1mrejected_text                 \u001b[0m\u001b[1m \u001b[0m┃\u001b[1m \u001b[0m\u001b[1mlogits          \u001b[0m\u001b[1m \u001b[0m┃\n",
       "┡━━━━━━━━━━━━━━━━━━━━━━━━━━━━━━━━━╇━━━━━━━━━━━━━━━━━━━━━━━━━━━━━━━━╇━━━━━━━━━━━━━━━━━━┩\n",
       "│ 感谢认领.                       │ 公主                           │ [0.6153, 0.3847] │\n",
       "├─────────────────────────────────┼────────────────────────────────┼──────────────────┤\n",
       "│ 感谢认领露思好漂亮              │ 感谢认领美丽露宝~              │ [0.5559, 0.4441] │\n",
       "├─────────────────────────────────┼────────────────────────────────┼──────────────────┤\n",
       "│ 感谢认领露思好漂亮              │ 赵露思好美                     │ [0.6032, 0.3968] │\n",
       "├─────────────────────────────────┼────────────────────────────────┼──────────────────┤\n",
       "│ 杀了那么多人 蛇蝎心肠 还不够死� │ 他很好？很好为什么逮捕她？杀人 │ [0.3347, 0.6653] │\n",
       "└─────────────────────────────────┴────────────────────────────────┴──────────────────┘\n"
      ]
     },
     "metadata": {},
     "output_type": "display_data"
    },
    {
     "name": "stderr",
     "output_type": "stream",
     "text": [
      "/usr/local/lib/python3.8/dist-packages/transformers/tokenization_utils_base.py:2778: UserWarning: `max_length` is ignored when `padding`=`True` and there is no truncation strategy. To pad to max length, use `padding='max_length'`.\n",
      "  warnings.warn(\n",
      "/usr/local/lib/python3.8/dist-packages/trl/trainer/utils.py:599: UserWarning: There are 22 out of 3451 instances where the predictions for both options are equal. As a consequence the accuracy can be misleading.\n",
      "  warnings.warn(\n",
      "/usr/local/lib/python3.8/dist-packages/transformers/tokenization_utils_base.py:2778: UserWarning: `max_length` is ignored when `padding`=`True` and there is no truncation strategy. To pad to max length, use `padding='max_length'`.\n",
      "  warnings.warn(\n",
      "/usr/local/lib/python3.8/dist-packages/torch/utils/checkpoint.py:464: UserWarning: torch.utils.checkpoint: the use_reentrant parameter should be passed explicitly. In version 2.4 we will raise an exception if use_reentrant is not passed. use_reentrant=False is recommended, but if you need to preserve the current default behavior, you can pass use_reentrant=True. Refer to docs for more details on the differences between the two variants.\n",
      "  warnings.warn(\n",
      "/usr/local/lib/python3.8/dist-packages/torch/utils/checkpoint.py:91: UserWarning: None of the inputs have requires_grad=True. Gradients will be None\n",
      "  warnings.warn(\n"
     ]
    },
    {
     "data": {
      "text/html": [
       "<pre style=\"white-space:pre;overflow-x:auto;line-height:normal;font-family:Menlo,'DejaVu Sans Mono',consolas,'Courier New',monospace\">┏━━━━━━━━━━━━━━━━━━━━━━━━━━━━━━━━━┳━━━━━━━━━━━━━━━━━━━━━━━━━━━━━━━━━━━━┳━━━━━━━━━━━━━━━━━━┓\n",
       "┃<span style=\"font-weight: bold\"> chosen_text                     </span>┃<span style=\"font-weight: bold\"> rejected_text                      </span>┃<span style=\"font-weight: bold\"> logits           </span>┃\n",
       "┡━━━━━━━━━━━━━━━━━━━━━━━━━━━━━━━━━╇━━━━━━━━━━━━━━━━━━━━━━━━━━━━━━━━━━━━╇━━━━━━━━━━━━━━━━━━┩\n",
       "│ 感谢认领.                       │ 公主                               │ [0.4829, 0.5171] │\n",
       "├─────────────────────────────────┼────────────────────────────────────┼──────────────────┤\n",
       "│ 感谢认领露思好漂亮              │ 感谢认领美丽露宝~                  │ [0.4824, 0.5176] │\n",
       "├─────────────────────────────────┼────────────────────────────────────┼──────────────────┤\n",
       "│ 感谢认领露思好漂亮              │ 赵露思好美                         │ [0.5217, 0.4783] │\n",
       "├─────────────────────────────────┼────────────────────────────────────┼──────────────────┤\n",
       "│ 杀了那么多人 蛇蝎心肠 还不够死� │ 他很好？很好为什么逮捕她？杀人     │ [0.386, 0.614]   │\n",
       "├─────────────────────────────────┼────────────────────────────────────┼──────────────────┤\n",
       "│ 她的辩护律师想通过帮她翻案，    │ 二审维持原判还能上诉吗？           │ [0.1763, 0.8237] │\n",
       "├─────────────────────────────────┼────────────────────────────────────┼──────────────────┤\n",
       "│ 妈的 这个律师有点良心吧 维持原  │ 感谢认领.                          │ [0.667, 0.333]   │\n",
       "├─────────────────────────────────┼────────────────────────────────────┼──────────────────┤\n",
       "│ 她的辩护律师想通过帮她翻案，    │ 她家人没事吧？果然不是一家人，不进 │ [0.307, 0.693]   │\n",
       "├─────────────────────────────────┼────────────────────────────────────┼──────────────────┤\n",
       "│ 《互联网黑历史现状》            │ 《你看看》                         │ [0.6977, 0.3023] │\n",
       "└─────────────────────────────────┴────────────────────────────────────┴──────────────────┘\n",
       "</pre>\n"
      ],
      "text/plain": [
       "┏━━━━━━━━━━━━━━━━━━━━━━━━━━━━━━━━━┳━━━━━━━━━━━━━━━━━━━━━━━━━━━━━━━━━━━━┳━━━━━━━━━━━━━━━━━━┓\n",
       "┃\u001b[1m \u001b[0m\u001b[1mchosen_text                    \u001b[0m\u001b[1m \u001b[0m┃\u001b[1m \u001b[0m\u001b[1mrejected_text                     \u001b[0m\u001b[1m \u001b[0m┃\u001b[1m \u001b[0m\u001b[1mlogits          \u001b[0m\u001b[1m \u001b[0m┃\n",
       "┡━━━━━━━━━━━━━━━━━━━━━━━━━━━━━━━━━╇━━━━━━━━━━━━━━━━━━━━━━━━━━━━━━━━━━━━╇━━━━━━━━━━━━━━━━━━┩\n",
       "│ 感谢认领.                       │ 公主                               │ [0.4829, 0.5171] │\n",
       "├─────────────────────────────────┼────────────────────────────────────┼──────────────────┤\n",
       "│ 感谢认领露思好漂亮              │ 感谢认领美丽露宝~                  │ [0.4824, 0.5176] │\n",
       "├─────────────────────────────────┼────────────────────────────────────┼──────────────────┤\n",
       "│ 感谢认领露思好漂亮              │ 赵露思好美                         │ [0.5217, 0.4783] │\n",
       "├─────────────────────────────────┼────────────────────────────────────┼──────────────────┤\n",
       "│ 杀了那么多人 蛇蝎心肠 还不够死� │ 他很好？很好为什么逮捕她？杀人     │ [0.386, 0.614]   │\n",
       "├─────────────────────────────────┼────────────────────────────────────┼──────────────────┤\n",
       "│ 她的辩护律师想通过帮她翻案，    │ 二审维持原判还能上诉吗？           │ [0.1763, 0.8237] │\n",
       "├─────────────────────────────────┼────────────────────────────────────┼──────────────────┤\n",
       "│ 妈的 这个律师有点良心吧 维持原  │ 感谢认领.                          │ [0.667, 0.333]   │\n",
       "├─────────────────────────────────┼────────────────────────────────────┼──────────────────┤\n",
       "│ 她的辩护律师想通过帮她翻案，    │ 她家人没事吧？果然不是一家人，不进 │ [0.307, 0.693]   │\n",
       "├─────────────────────────────────┼────────────────────────────────────┼──────────────────┤\n",
       "│ 《互联网黑历史现状》            │ 《你看看》                         │ [0.6977, 0.3023] │\n",
       "└─────────────────────────────────┴────────────────────────────────────┴──────────────────┘\n"
      ]
     },
     "metadata": {},
     "output_type": "display_data"
    },
    {
     "data": {
      "text/html": [
       "<pre style=\"white-space:pre;overflow-x:auto;line-height:normal;font-family:Menlo,'DejaVu Sans Mono',consolas,'Courier New',monospace\">┏━━━━━━━━━━━━━━━━━━━━━━━━━━━━━━━━━┳━━━━━━━━━━━━━━━━━━━━━━━━━━━━━━━━┳━━━━━━━━━━━━━━━━━━┓\n",
       "┃<span style=\"font-weight: bold\"> chosen_text                     </span>┃<span style=\"font-weight: bold\"> rejected_text                  </span>┃<span style=\"font-weight: bold\"> logits           </span>┃\n",
       "┡━━━━━━━━━━━━━━━━━━━━━━━━━━━━━━━━━╇━━━━━━━━━━━━━━━━━━━━━━━━━━━━━━━━╇━━━━━━━━━━━━━━━━━━┩\n",
       "│ 感谢认领.                       │ 公主                           │ [0.4829, 0.5171] │\n",
       "├─────────────────────────────────┼────────────────────────────────┼──────────────────┤\n",
       "│ 感谢认领露思好漂亮              │ 感谢认领美丽露宝~              │ [0.4824, 0.5176] │\n",
       "├─────────────────────────────────┼────────────────────────────────┼──────────────────┤\n",
       "│ 感谢认领露思好漂亮              │ 赵露思好美                     │ [0.5217, 0.4783] │\n",
       "├─────────────────────────────────┼────────────────────────────────┼──────────────────┤\n",
       "│ 杀了那么多人 蛇蝎心肠 还不够死� │ 他很好？很好为什么逮捕她？杀人 │ [0.386, 0.614]   │\n",
       "└─────────────────────────────────┴────────────────────────────────┴──────────────────┘\n",
       "</pre>\n"
      ],
      "text/plain": [
       "┏━━━━━━━━━━━━━━━━━━━━━━━━━━━━━━━━━┳━━━━━━━━━━━━━━━━━━━━━━━━━━━━━━━━┳━━━━━━━━━━━━━━━━━━┓\n",
       "┃\u001b[1m \u001b[0m\u001b[1mchosen_text                    \u001b[0m\u001b[1m \u001b[0m┃\u001b[1m \u001b[0m\u001b[1mrejected_text                 \u001b[0m\u001b[1m \u001b[0m┃\u001b[1m \u001b[0m\u001b[1mlogits          \u001b[0m\u001b[1m \u001b[0m┃\n",
       "┡━━━━━━━━━━━━━━━━━━━━━━━━━━━━━━━━━╇━━━━━━━━━━━━━━━━━━━━━━━━━━━━━━━━╇━━━━━━━━━━━━━━━━━━┩\n",
       "│ 感谢认领.                       │ 公主                           │ [0.4829, 0.5171] │\n",
       "├─────────────────────────────────┼────────────────────────────────┼──────────────────┤\n",
       "│ 感谢认领露思好漂亮              │ 感谢认领美丽露宝~              │ [0.4824, 0.5176] │\n",
       "├─────────────────────────────────┼────────────────────────────────┼──────────────────┤\n",
       "│ 感谢认领露思好漂亮              │ 赵露思好美                     │ [0.5217, 0.4783] │\n",
       "├─────────────────────────────────┼────────────────────────────────┼──────────────────┤\n",
       "│ 杀了那么多人 蛇蝎心肠 还不够死� │ 他很好？很好为什么逮捕她？杀人 │ [0.386, 0.614]   │\n",
       "└─────────────────────────────────┴────────────────────────────────┴──────────────────┘\n"
      ]
     },
     "metadata": {},
     "output_type": "display_data"
    },
    {
     "name": "stderr",
     "output_type": "stream",
     "text": [
      "/usr/local/lib/python3.8/dist-packages/transformers/tokenization_utils_base.py:2778: UserWarning: `max_length` is ignored when `padding`=`True` and there is no truncation strategy. To pad to max length, use `padding='max_length'`.\n",
      "  warnings.warn(\n",
      "/usr/local/lib/python3.8/dist-packages/trl/trainer/utils.py:599: UserWarning: There are 22 out of 3451 instances where the predictions for both options are equal. As a consequence the accuracy can be misleading.\n",
      "  warnings.warn(\n",
      "/usr/local/lib/python3.8/dist-packages/transformers/tokenization_utils_base.py:2778: UserWarning: `max_length` is ignored when `padding`=`True` and there is no truncation strategy. To pad to max length, use `padding='max_length'`.\n",
      "  warnings.warn(\n",
      "/usr/local/lib/python3.8/dist-packages/torch/utils/checkpoint.py:464: UserWarning: torch.utils.checkpoint: the use_reentrant parameter should be passed explicitly. In version 2.4 we will raise an exception if use_reentrant is not passed. use_reentrant=False is recommended, but if you need to preserve the current default behavior, you can pass use_reentrant=True. Refer to docs for more details on the differences between the two variants.\n",
      "  warnings.warn(\n",
      "/usr/local/lib/python3.8/dist-packages/torch/utils/checkpoint.py:91: UserWarning: None of the inputs have requires_grad=True. Gradients will be None\n",
      "  warnings.warn(\n"
     ]
    },
    {
     "data": {
      "text/html": [
       "<pre style=\"white-space:pre;overflow-x:auto;line-height:normal;font-family:Menlo,'DejaVu Sans Mono',consolas,'Courier New',monospace\">┏━━━━━━━━━━━━━━━━━━━━━━━━━━━━━━━━━┳━━━━━━━━━━━━━━━━━━━━━━━━━━━━━━━━━━━━┳━━━━━━━━━━━━━━━━━━┓\n",
       "┃<span style=\"font-weight: bold\"> chosen_text                     </span>┃<span style=\"font-weight: bold\"> rejected_text                      </span>┃<span style=\"font-weight: bold\"> logits           </span>┃\n",
       "┡━━━━━━━━━━━━━━━━━━━━━━━━━━━━━━━━━╇━━━━━━━━━━━━━━━━━━━━━━━━━━━━━━━━━━━━╇━━━━━━━━━━━━━━━━━━┩\n",
       "│ 感谢认领.                       │ 公主                               │ [0.7689, 0.2311] │\n",
       "├─────────────────────────────────┼────────────────────────────────────┼──────────────────┤\n",
       "│ 感谢认领露思好漂亮              │ 感谢认领美丽露宝~                  │ [0.5049, 0.4951] │\n",
       "├─────────────────────────────────┼────────────────────────────────────┼──────────────────┤\n",
       "│ 感谢认领露思好漂亮              │ 赵露思好美                         │ [0.4801, 0.5199] │\n",
       "├─────────────────────────────────┼────────────────────────────────────┼──────────────────┤\n",
       "│ 杀了那么多人 蛇蝎心肠 还不够死� │ 他很好？很好为什么逮捕她？杀人     │ [0.2656, 0.7344] │\n",
       "├─────────────────────────────────┼────────────────────────────────────┼──────────────────┤\n",
       "│ 她的辩护律师想通过帮她翻案，    │ 二审维持原判还能上诉吗？           │ [0.3074, 0.6926] │\n",
       "├─────────────────────────────────┼────────────────────────────────────┼──────────────────┤\n",
       "│ 妈的 这个律师有点良心吧 维持原  │ 感谢认领.                          │ [0.7878, 0.2122] │\n",
       "├─────────────────────────────────┼────────────────────────────────────┼──────────────────┤\n",
       "│ 她的辩护律师想通过帮她翻案，    │ 她家人没事吧？果然不是一家人，不进 │ [0.3642, 0.6358] │\n",
       "├─────────────────────────────────┼────────────────────────────────────┼──────────────────┤\n",
       "│ 《互联网黑历史现状》            │ 《你看看》                         │ [0.668, 0.332]   │\n",
       "└─────────────────────────────────┴────────────────────────────────────┴──────────────────┘\n",
       "</pre>\n"
      ],
      "text/plain": [
       "┏━━━━━━━━━━━━━━━━━━━━━━━━━━━━━━━━━┳━━━━━━━━━━━━━━━━━━━━━━━━━━━━━━━━━━━━┳━━━━━━━━━━━━━━━━━━┓\n",
       "┃\u001b[1m \u001b[0m\u001b[1mchosen_text                    \u001b[0m\u001b[1m \u001b[0m┃\u001b[1m \u001b[0m\u001b[1mrejected_text                     \u001b[0m\u001b[1m \u001b[0m┃\u001b[1m \u001b[0m\u001b[1mlogits          \u001b[0m\u001b[1m \u001b[0m┃\n",
       "┡━━━━━━━━━━━━━━━━━━━━━━━━━━━━━━━━━╇━━━━━━━━━━━━━━━━━━━━━━━━━━━━━━━━━━━━╇━━━━━━━━━━━━━━━━━━┩\n",
       "│ 感谢认领.                       │ 公主                               │ [0.7689, 0.2311] │\n",
       "├─────────────────────────────────┼────────────────────────────────────┼──────────────────┤\n",
       "│ 感谢认领露思好漂亮              │ 感谢认领美丽露宝~                  │ [0.5049, 0.4951] │\n",
       "├─────────────────────────────────┼────────────────────────────────────┼──────────────────┤\n",
       "│ 感谢认领露思好漂亮              │ 赵露思好美                         │ [0.4801, 0.5199] │\n",
       "├─────────────────────────────────┼────────────────────────────────────┼──────────────────┤\n",
       "│ 杀了那么多人 蛇蝎心肠 还不够死� │ 他很好？很好为什么逮捕她？杀人     │ [0.2656, 0.7344] │\n",
       "├─────────────────────────────────┼────────────────────────────────────┼──────────────────┤\n",
       "│ 她的辩护律师想通过帮她翻案，    │ 二审维持原判还能上诉吗？           │ [0.3074, 0.6926] │\n",
       "├─────────────────────────────────┼────────────────────────────────────┼──────────────────┤\n",
       "│ 妈的 这个律师有点良心吧 维持原  │ 感谢认领.                          │ [0.7878, 0.2122] │\n",
       "├─────────────────────────────────┼────────────────────────────────────┼──────────────────┤\n",
       "│ 她的辩护律师想通过帮她翻案，    │ 她家人没事吧？果然不是一家人，不进 │ [0.3642, 0.6358] │\n",
       "├─────────────────────────────────┼────────────────────────────────────┼──────────────────┤\n",
       "│ 《互联网黑历史现状》            │ 《你看看》                         │ [0.668, 0.332]   │\n",
       "└─────────────────────────────────┴────────────────────────────────────┴──────────────────┘\n"
      ]
     },
     "metadata": {},
     "output_type": "display_data"
    },
    {
     "data": {
      "text/html": [
       "<pre style=\"white-space:pre;overflow-x:auto;line-height:normal;font-family:Menlo,'DejaVu Sans Mono',consolas,'Courier New',monospace\">┏━━━━━━━━━━━━━━━━━━━━━━━━━━━━━━━━━┳━━━━━━━━━━━━━━━━━━━━━━━━━━━━━━━━┳━━━━━━━━━━━━━━━━━━┓\n",
       "┃<span style=\"font-weight: bold\"> chosen_text                     </span>┃<span style=\"font-weight: bold\"> rejected_text                  </span>┃<span style=\"font-weight: bold\"> logits           </span>┃\n",
       "┡━━━━━━━━━━━━━━━━━━━━━━━━━━━━━━━━━╇━━━━━━━━━━━━━━━━━━━━━━━━━━━━━━━━╇━━━━━━━━━━━━━━━━━━┩\n",
       "│ 感谢认领.                       │ 公主                           │ [0.7689, 0.2311] │\n",
       "├─────────────────────────────────┼────────────────────────────────┼──────────────────┤\n",
       "│ 感谢认领露思好漂亮              │ 感谢认领美丽露宝~              │ [0.5049, 0.4951] │\n",
       "├─────────────────────────────────┼────────────────────────────────┼──────────────────┤\n",
       "│ 感谢认领露思好漂亮              │ 赵露思好美                     │ [0.4801, 0.5199] │\n",
       "├─────────────────────────────────┼────────────────────────────────┼──────────────────┤\n",
       "│ 杀了那么多人 蛇蝎心肠 还不够死� │ 他很好？很好为什么逮捕她？杀人 │ [0.2656, 0.7344] │\n",
       "└─────────────────────────────────┴────────────────────────────────┴──────────────────┘\n",
       "</pre>\n"
      ],
      "text/plain": [
       "┏━━━━━━━━━━━━━━━━━━━━━━━━━━━━━━━━━┳━━━━━━━━━━━━━━━━━━━━━━━━━━━━━━━━┳━━━━━━━━━━━━━━━━━━┓\n",
       "┃\u001b[1m \u001b[0m\u001b[1mchosen_text                    \u001b[0m\u001b[1m \u001b[0m┃\u001b[1m \u001b[0m\u001b[1mrejected_text                 \u001b[0m\u001b[1m \u001b[0m┃\u001b[1m \u001b[0m\u001b[1mlogits          \u001b[0m\u001b[1m \u001b[0m┃\n",
       "┡━━━━━━━━━━━━━━━━━━━━━━━━━━━━━━━━━╇━━━━━━━━━━━━━━━━━━━━━━━━━━━━━━━━╇━━━━━━━━━━━━━━━━━━┩\n",
       "│ 感谢认领.                       │ 公主                           │ [0.7689, 0.2311] │\n",
       "├─────────────────────────────────┼────────────────────────────────┼──────────────────┤\n",
       "│ 感谢认领露思好漂亮              │ 感谢认领美丽露宝~              │ [0.5049, 0.4951] │\n",
       "├─────────────────────────────────┼────────────────────────────────┼──────────────────┤\n",
       "│ 感谢认领露思好漂亮              │ 赵露思好美                     │ [0.4801, 0.5199] │\n",
       "├─────────────────────────────────┼────────────────────────────────┼──────────────────┤\n",
       "│ 杀了那么多人 蛇蝎心肠 还不够死� │ 他很好？很好为什么逮捕她？杀人 │ [0.2656, 0.7344] │\n",
       "└─────────────────────────────────┴────────────────────────────────┴──────────────────┘\n"
      ]
     },
     "metadata": {},
     "output_type": "display_data"
    },
    {
     "name": "stderr",
     "output_type": "stream",
     "text": [
      "/usr/local/lib/python3.8/dist-packages/transformers/tokenization_utils_base.py:2778: UserWarning: `max_length` is ignored when `padding`=`True` and there is no truncation strategy. To pad to max length, use `padding='max_length'`.\n",
      "  warnings.warn(\n",
      "/usr/local/lib/python3.8/dist-packages/trl/trainer/utils.py:599: UserWarning: There are 22 out of 3451 instances where the predictions for both options are equal. As a consequence the accuracy can be misleading.\n",
      "  warnings.warn(\n",
      "/usr/local/lib/python3.8/dist-packages/transformers/tokenization_utils_base.py:2778: UserWarning: `max_length` is ignored when `padding`=`True` and there is no truncation strategy. To pad to max length, use `padding='max_length'`.\n",
      "  warnings.warn(\n",
      "/usr/local/lib/python3.8/dist-packages/torch/utils/checkpoint.py:464: UserWarning: torch.utils.checkpoint: the use_reentrant parameter should be passed explicitly. In version 2.4 we will raise an exception if use_reentrant is not passed. use_reentrant=False is recommended, but if you need to preserve the current default behavior, you can pass use_reentrant=True. Refer to docs for more details on the differences between the two variants.\n",
      "  warnings.warn(\n",
      "/usr/local/lib/python3.8/dist-packages/torch/utils/checkpoint.py:91: UserWarning: None of the inputs have requires_grad=True. Gradients will be None\n",
      "  warnings.warn(\n"
     ]
    },
    {
     "data": {
      "text/html": [
       "<pre style=\"white-space:pre;overflow-x:auto;line-height:normal;font-family:Menlo,'DejaVu Sans Mono',consolas,'Courier New',monospace\">┏━━━━━━━━━━━━━━━━━━━━━━━━━━━━━━━━━┳━━━━━━━━━━━━━━━━━━━━━━━━━━━━━━━━━━━━┳━━━━━━━━━━━━━━━━━━┓\n",
       "┃<span style=\"font-weight: bold\"> chosen_text                     </span>┃<span style=\"font-weight: bold\"> rejected_text                      </span>┃<span style=\"font-weight: bold\"> logits           </span>┃\n",
       "┡━━━━━━━━━━━━━━━━━━━━━━━━━━━━━━━━━╇━━━━━━━━━━━━━━━━━━━━━━━━━━━━━━━━━━━━╇━━━━━━━━━━━━━━━━━━┩\n",
       "│ 感谢认领.                       │ 公主                               │ [0.4854, 0.5146] │\n",
       "├─────────────────────────────────┼────────────────────────────────────┼──────────────────┤\n",
       "│ 感谢认领露思好漂亮              │ 感谢认领美丽露宝~                  │ [0.525, 0.475]   │\n",
       "├─────────────────────────────────┼────────────────────────────────────┼──────────────────┤\n",
       "│ 感谢认领露思好漂亮              │ 赵露思好美                         │ [0.6259, 0.3741] │\n",
       "├─────────────────────────────────┼────────────────────────────────────┼──────────────────┤\n",
       "│ 杀了那么多人 蛇蝎心肠 还不够死� │ 他很好？很好为什么逮捕她？杀人     │ [0.3509, 0.6491] │\n",
       "├─────────────────────────────────┼────────────────────────────────────┼──────────────────┤\n",
       "│ 她的辩护律师想通过帮她翻案，    │ 二审维持原判还能上诉吗？           │ [0.2598, 0.7402] │\n",
       "├─────────────────────────────────┼────────────────────────────────────┼──────────────────┤\n",
       "│ 妈的 这个律师有点良心吧 维持原  │ 感谢认领.                          │ [0.683, 0.317]   │\n",
       "├─────────────────────────────────┼────────────────────────────────────┼──────────────────┤\n",
       "│ 她的辩护律师想通过帮她翻案，    │ 她家人没事吧？果然不是一家人，不进 │ [0.3788, 0.6212] │\n",
       "├─────────────────────────────────┼────────────────────────────────────┼──────────────────┤\n",
       "│ 《互联网黑历史现状》            │ 《你看看》                         │ [0.5471, 0.4529] │\n",
       "└─────────────────────────────────┴────────────────────────────────────┴──────────────────┘\n",
       "</pre>\n"
      ],
      "text/plain": [
       "┏━━━━━━━━━━━━━━━━━━━━━━━━━━━━━━━━━┳━━━━━━━━━━━━━━━━━━━━━━━━━━━━━━━━━━━━┳━━━━━━━━━━━━━━━━━━┓\n",
       "┃\u001b[1m \u001b[0m\u001b[1mchosen_text                    \u001b[0m\u001b[1m \u001b[0m┃\u001b[1m \u001b[0m\u001b[1mrejected_text                     \u001b[0m\u001b[1m \u001b[0m┃\u001b[1m \u001b[0m\u001b[1mlogits          \u001b[0m\u001b[1m \u001b[0m┃\n",
       "┡━━━━━━━━━━━━━━━━━━━━━━━━━━━━━━━━━╇━━━━━━━━━━━━━━━━━━━━━━━━━━━━━━━━━━━━╇━━━━━━━━━━━━━━━━━━┩\n",
       "│ 感谢认领.                       │ 公主                               │ [0.4854, 0.5146] │\n",
       "├─────────────────────────────────┼────────────────────────────────────┼──────────────────┤\n",
       "│ 感谢认领露思好漂亮              │ 感谢认领美丽露宝~                  │ [0.525, 0.475]   │\n",
       "├─────────────────────────────────┼────────────────────────────────────┼──────────────────┤\n",
       "│ 感谢认领露思好漂亮              │ 赵露思好美                         │ [0.6259, 0.3741] │\n",
       "├─────────────────────────────────┼────────────────────────────────────┼──────────────────┤\n",
       "│ 杀了那么多人 蛇蝎心肠 还不够死� │ 他很好？很好为什么逮捕她？杀人     │ [0.3509, 0.6491] │\n",
       "├─────────────────────────────────┼────────────────────────────────────┼──────────────────┤\n",
       "│ 她的辩护律师想通过帮她翻案，    │ 二审维持原判还能上诉吗？           │ [0.2598, 0.7402] │\n",
       "├─────────────────────────────────┼────────────────────────────────────┼──────────────────┤\n",
       "│ 妈的 这个律师有点良心吧 维持原  │ 感谢认领.                          │ [0.683, 0.317]   │\n",
       "├─────────────────────────────────┼────────────────────────────────────┼──────────────────┤\n",
       "│ 她的辩护律师想通过帮她翻案，    │ 她家人没事吧？果然不是一家人，不进 │ [0.3788, 0.6212] │\n",
       "├─────────────────────────────────┼────────────────────────────────────┼──────────────────┤\n",
       "│ 《互联网黑历史现状》            │ 《你看看》                         │ [0.5471, 0.4529] │\n",
       "└─────────────────────────────────┴────────────────────────────────────┴──────────────────┘\n"
      ]
     },
     "metadata": {},
     "output_type": "display_data"
    },
    {
     "data": {
      "text/html": [
       "<pre style=\"white-space:pre;overflow-x:auto;line-height:normal;font-family:Menlo,'DejaVu Sans Mono',consolas,'Courier New',monospace\">┏━━━━━━━━━━━━━━━━━━━━━━━━━━━━━━━━━┳━━━━━━━━━━━━━━━━━━━━━━━━━━━━━━━━┳━━━━━━━━━━━━━━━━━━┓\n",
       "┃<span style=\"font-weight: bold\"> chosen_text                     </span>┃<span style=\"font-weight: bold\"> rejected_text                  </span>┃<span style=\"font-weight: bold\"> logits           </span>┃\n",
       "┡━━━━━━━━━━━━━━━━━━━━━━━━━━━━━━━━━╇━━━━━━━━━━━━━━━━━━━━━━━━━━━━━━━━╇━━━━━━━━━━━━━━━━━━┩\n",
       "│ 感谢认领.                       │ 公主                           │ [0.4854, 0.5146] │\n",
       "├─────────────────────────────────┼────────────────────────────────┼──────────────────┤\n",
       "│ 感谢认领露思好漂亮              │ 感谢认领美丽露宝~              │ [0.525, 0.475]   │\n",
       "├─────────────────────────────────┼────────────────────────────────┼──────────────────┤\n",
       "│ 感谢认领露思好漂亮              │ 赵露思好美                     │ [0.6259, 0.3741] │\n",
       "├─────────────────────────────────┼────────────────────────────────┼──────────────────┤\n",
       "│ 杀了那么多人 蛇蝎心肠 还不够死� │ 他很好？很好为什么逮捕她？杀人 │ [0.3509, 0.6491] │\n",
       "└─────────────────────────────────┴────────────────────────────────┴──────────────────┘\n",
       "</pre>\n"
      ],
      "text/plain": [
       "┏━━━━━━━━━━━━━━━━━━━━━━━━━━━━━━━━━┳━━━━━━━━━━━━━━━━━━━━━━━━━━━━━━━━┳━━━━━━━━━━━━━━━━━━┓\n",
       "┃\u001b[1m \u001b[0m\u001b[1mchosen_text                    \u001b[0m\u001b[1m \u001b[0m┃\u001b[1m \u001b[0m\u001b[1mrejected_text                 \u001b[0m\u001b[1m \u001b[0m┃\u001b[1m \u001b[0m\u001b[1mlogits          \u001b[0m\u001b[1m \u001b[0m┃\n",
       "┡━━━━━━━━━━━━━━━━━━━━━━━━━━━━━━━━━╇━━━━━━━━━━━━━━━━━━━━━━━━━━━━━━━━╇━━━━━━━━━━━━━━━━━━┩\n",
       "│ 感谢认领.                       │ 公主                           │ [0.4854, 0.5146] │\n",
       "├─────────────────────────────────┼────────────────────────────────┼──────────────────┤\n",
       "│ 感谢认领露思好漂亮              │ 感谢认领美丽露宝~              │ [0.525, 0.475]   │\n",
       "├─────────────────────────────────┼────────────────────────────────┼──────────────────┤\n",
       "│ 感谢认领露思好漂亮              │ 赵露思好美                     │ [0.6259, 0.3741] │\n",
       "├─────────────────────────────────┼────────────────────────────────┼──────────────────┤\n",
       "│ 杀了那么多人 蛇蝎心肠 还不够死� │ 他很好？很好为什么逮捕她？杀人 │ [0.3509, 0.6491] │\n",
       "└─────────────────────────────────┴────────────────────────────────┴──────────────────┘\n"
      ]
     },
     "metadata": {},
     "output_type": "display_data"
    },
    {
     "name": "stderr",
     "output_type": "stream",
     "text": [
      "/usr/local/lib/python3.8/dist-packages/transformers/tokenization_utils_base.py:2778: UserWarning: `max_length` is ignored when `padding`=`True` and there is no truncation strategy. To pad to max length, use `padding='max_length'`.\n",
      "  warnings.warn(\n",
      "/usr/local/lib/python3.8/dist-packages/trl/trainer/utils.py:599: UserWarning: There are 22 out of 3451 instances where the predictions for both options are equal. As a consequence the accuracy can be misleading.\n",
      "  warnings.warn(\n",
      "/usr/local/lib/python3.8/dist-packages/transformers/tokenization_utils_base.py:2778: UserWarning: `max_length` is ignored when `padding`=`True` and there is no truncation strategy. To pad to max length, use `padding='max_length'`.\n",
      "  warnings.warn(\n",
      "/usr/local/lib/python3.8/dist-packages/torch/utils/checkpoint.py:464: UserWarning: torch.utils.checkpoint: the use_reentrant parameter should be passed explicitly. In version 2.4 we will raise an exception if use_reentrant is not passed. use_reentrant=False is recommended, but if you need to preserve the current default behavior, you can pass use_reentrant=True. Refer to docs for more details on the differences between the two variants.\n",
      "  warnings.warn(\n",
      "/usr/local/lib/python3.8/dist-packages/torch/utils/checkpoint.py:91: UserWarning: None of the inputs have requires_grad=True. Gradients will be None\n",
      "  warnings.warn(\n"
     ]
    },
    {
     "data": {
      "text/html": [
       "<pre style=\"white-space:pre;overflow-x:auto;line-height:normal;font-family:Menlo,'DejaVu Sans Mono',consolas,'Courier New',monospace\">┏━━━━━━━━━━━━━━━━━━━━━━━━━━━━━━━━━┳━━━━━━━━━━━━━━━━━━━━━━━━━━━━━━━━━━━━┳━━━━━━━━━━━━━━━━━━┓\n",
       "┃<span style=\"font-weight: bold\"> chosen_text                     </span>┃<span style=\"font-weight: bold\"> rejected_text                      </span>┃<span style=\"font-weight: bold\"> logits           </span>┃\n",
       "┡━━━━━━━━━━━━━━━━━━━━━━━━━━━━━━━━━╇━━━━━━━━━━━━━━━━━━━━━━━━━━━━━━━━━━━━╇━━━━━━━━━━━━━━━━━━┩\n",
       "│ 感谢认领.                       │ 公主                               │ [0.5979, 0.4021] │\n",
       "├─────────────────────────────────┼────────────────────────────────────┼──────────────────┤\n",
       "│ 感谢认领露思好漂亮              │ 感谢认领美丽露宝~                  │ [0.4811, 0.5189] │\n",
       "├─────────────────────────────────┼────────────────────────────────────┼──────────────────┤\n",
       "│ 感谢认领露思好漂亮              │ 赵露思好美                         │ [0.5013, 0.4987] │\n",
       "├─────────────────────────────────┼────────────────────────────────────┼──────────────────┤\n",
       "│ 杀了那么多人 蛇蝎心肠 还不够死� │ 他很好？很好为什么逮捕她？杀人     │ [0.28, 0.72]     │\n",
       "├─────────────────────────────────┼────────────────────────────────────┼──────────────────┤\n",
       "│ 她的辩护律师想通过帮她翻案，    │ 二审维持原判还能上诉吗？           │ [0.363, 0.637]   │\n",
       "├─────────────────────────────────┼────────────────────────────────────┼──────────────────┤\n",
       "│ 妈的 这个律师有点良心吧 维持原  │ 感谢认领.                          │ [0.6849, 0.3151] │\n",
       "├─────────────────────────────────┼────────────────────────────────────┼──────────────────┤\n",
       "│ 她的辩护律师想通过帮她翻案，    │ 她家人没事吧？果然不是一家人，不进 │ [0.3461, 0.6539] │\n",
       "├─────────────────────────────────┼────────────────────────────────────┼──────────────────┤\n",
       "│ 《互联网黑历史现状》            │ 《你看看》                         │ [0.7209, 0.2791] │\n",
       "└─────────────────────────────────┴────────────────────────────────────┴──────────────────┘\n",
       "</pre>\n"
      ],
      "text/plain": [
       "┏━━━━━━━━━━━━━━━━━━━━━━━━━━━━━━━━━┳━━━━━━━━━━━━━━━━━━━━━━━━━━━━━━━━━━━━┳━━━━━━━━━━━━━━━━━━┓\n",
       "┃\u001b[1m \u001b[0m\u001b[1mchosen_text                    \u001b[0m\u001b[1m \u001b[0m┃\u001b[1m \u001b[0m\u001b[1mrejected_text                     \u001b[0m\u001b[1m \u001b[0m┃\u001b[1m \u001b[0m\u001b[1mlogits          \u001b[0m\u001b[1m \u001b[0m┃\n",
       "┡━━━━━━━━━━━━━━━━━━━━━━━━━━━━━━━━━╇━━━━━━━━━━━━━━━━━━━━━━━━━━━━━━━━━━━━╇━━━━━━━━━━━━━━━━━━┩\n",
       "│ 感谢认领.                       │ 公主                               │ [0.5979, 0.4021] │\n",
       "├─────────────────────────────────┼────────────────────────────────────┼──────────────────┤\n",
       "│ 感谢认领露思好漂亮              │ 感谢认领美丽露宝~                  │ [0.4811, 0.5189] │\n",
       "├─────────────────────────────────┼────────────────────────────────────┼──────────────────┤\n",
       "│ 感谢认领露思好漂亮              │ 赵露思好美                         │ [0.5013, 0.4987] │\n",
       "├─────────────────────────────────┼────────────────────────────────────┼──────────────────┤\n",
       "│ 杀了那么多人 蛇蝎心肠 还不够死� │ 他很好？很好为什么逮捕她？杀人     │ [0.28, 0.72]     │\n",
       "├─────────────────────────────────┼────────────────────────────────────┼──────────────────┤\n",
       "│ 她的辩护律师想通过帮她翻案，    │ 二审维持原判还能上诉吗？           │ [0.363, 0.637]   │\n",
       "├─────────────────────────────────┼────────────────────────────────────┼──────────────────┤\n",
       "│ 妈的 这个律师有点良心吧 维持原  │ 感谢认领.                          │ [0.6849, 0.3151] │\n",
       "├─────────────────────────────────┼────────────────────────────────────┼──────────────────┤\n",
       "│ 她的辩护律师想通过帮她翻案，    │ 她家人没事吧？果然不是一家人，不进 │ [0.3461, 0.6539] │\n",
       "├─────────────────────────────────┼────────────────────────────────────┼──────────────────┤\n",
       "│ 《互联网黑历史现状》            │ 《你看看》                         │ [0.7209, 0.2791] │\n",
       "└─────────────────────────────────┴────────────────────────────────────┴──────────────────┘\n"
      ]
     },
     "metadata": {},
     "output_type": "display_data"
    },
    {
     "data": {
      "text/html": [
       "<pre style=\"white-space:pre;overflow-x:auto;line-height:normal;font-family:Menlo,'DejaVu Sans Mono',consolas,'Courier New',monospace\">┏━━━━━━━━━━━━━━━━━━━━━━━━━━━━━━━━━┳━━━━━━━━━━━━━━━━━━━━━━━━━━━━━━━━┳━━━━━━━━━━━━━━━━━━┓\n",
       "┃<span style=\"font-weight: bold\"> chosen_text                     </span>┃<span style=\"font-weight: bold\"> rejected_text                  </span>┃<span style=\"font-weight: bold\"> logits           </span>┃\n",
       "┡━━━━━━━━━━━━━━━━━━━━━━━━━━━━━━━━━╇━━━━━━━━━━━━━━━━━━━━━━━━━━━━━━━━╇━━━━━━━━━━━━━━━━━━┩\n",
       "│ 感谢认领.                       │ 公主                           │ [0.5979, 0.4021] │\n",
       "├─────────────────────────────────┼────────────────────────────────┼──────────────────┤\n",
       "│ 感谢认领露思好漂亮              │ 感谢认领美丽露宝~              │ [0.4811, 0.5189] │\n",
       "├─────────────────────────────────┼────────────────────────────────┼──────────────────┤\n",
       "│ 感谢认领露思好漂亮              │ 赵露思好美                     │ [0.5013, 0.4987] │\n",
       "├─────────────────────────────────┼────────────────────────────────┼──────────────────┤\n",
       "│ 杀了那么多人 蛇蝎心肠 还不够死� │ 他很好？很好为什么逮捕她？杀人 │ [0.28, 0.72]     │\n",
       "└─────────────────────────────────┴────────────────────────────────┴──────────────────┘\n",
       "</pre>\n"
      ],
      "text/plain": [
       "┏━━━━━━━━━━━━━━━━━━━━━━━━━━━━━━━━━┳━━━━━━━━━━━━━━━━━━━━━━━━━━━━━━━━┳━━━━━━━━━━━━━━━━━━┓\n",
       "┃\u001b[1m \u001b[0m\u001b[1mchosen_text                    \u001b[0m\u001b[1m \u001b[0m┃\u001b[1m \u001b[0m\u001b[1mrejected_text                 \u001b[0m\u001b[1m \u001b[0m┃\u001b[1m \u001b[0m\u001b[1mlogits          \u001b[0m\u001b[1m \u001b[0m┃\n",
       "┡━━━━━━━━━━━━━━━━━━━━━━━━━━━━━━━━━╇━━━━━━━━━━━━━━━━━━━━━━━━━━━━━━━━╇━━━━━━━━━━━━━━━━━━┩\n",
       "│ 感谢认领.                       │ 公主                           │ [0.5979, 0.4021] │\n",
       "├─────────────────────────────────┼────────────────────────────────┼──────────────────┤\n",
       "│ 感谢认领露思好漂亮              │ 感谢认领美丽露宝~              │ [0.4811, 0.5189] │\n",
       "├─────────────────────────────────┼────────────────────────────────┼──────────────────┤\n",
       "│ 感谢认领露思好漂亮              │ 赵露思好美                     │ [0.5013, 0.4987] │\n",
       "├─────────────────────────────────┼────────────────────────────────┼──────────────────┤\n",
       "│ 杀了那么多人 蛇蝎心肠 还不够死� │ 他很好？很好为什么逮捕她？杀人 │ [0.28, 0.72]     │\n",
       "└─────────────────────────────────┴────────────────────────────────┴──────────────────┘\n"
      ]
     },
     "metadata": {},
     "output_type": "display_data"
    },
    {
     "name": "stderr",
     "output_type": "stream",
     "text": [
      "/usr/local/lib/python3.8/dist-packages/transformers/tokenization_utils_base.py:2778: UserWarning: `max_length` is ignored when `padding`=`True` and there is no truncation strategy. To pad to max length, use `padding='max_length'`.\n",
      "  warnings.warn(\n",
      "/usr/local/lib/python3.8/dist-packages/trl/trainer/utils.py:599: UserWarning: There are 22 out of 3451 instances where the predictions for both options are equal. As a consequence the accuracy can be misleading.\n",
      "  warnings.warn(\n",
      "/usr/local/lib/python3.8/dist-packages/transformers/tokenization_utils_base.py:2778: UserWarning: `max_length` is ignored when `padding`=`True` and there is no truncation strategy. To pad to max length, use `padding='max_length'`.\n",
      "  warnings.warn(\n",
      "/usr/local/lib/python3.8/dist-packages/torch/utils/checkpoint.py:464: UserWarning: torch.utils.checkpoint: the use_reentrant parameter should be passed explicitly. In version 2.4 we will raise an exception if use_reentrant is not passed. use_reentrant=False is recommended, but if you need to preserve the current default behavior, you can pass use_reentrant=True. Refer to docs for more details on the differences between the two variants.\n",
      "  warnings.warn(\n",
      "/usr/local/lib/python3.8/dist-packages/torch/utils/checkpoint.py:91: UserWarning: None of the inputs have requires_grad=True. Gradients will be None\n",
      "  warnings.warn(\n"
     ]
    },
    {
     "data": {
      "text/html": [
       "<pre style=\"white-space:pre;overflow-x:auto;line-height:normal;font-family:Menlo,'DejaVu Sans Mono',consolas,'Courier New',monospace\">┏━━━━━━━━━━━━━━━━━━━━━━━━━━━━━━━━━┳━━━━━━━━━━━━━━━━━━━━━━━━━━━━━━━━━━━━┳━━━━━━━━━━━━━━━━━━┓\n",
       "┃<span style=\"font-weight: bold\"> chosen_text                     </span>┃<span style=\"font-weight: bold\"> rejected_text                      </span>┃<span style=\"font-weight: bold\"> logits           </span>┃\n",
       "┡━━━━━━━━━━━━━━━━━━━━━━━━━━━━━━━━━╇━━━━━━━━━━━━━━━━━━━━━━━━━━━━━━━━━━━━╇━━━━━━━━━━━━━━━━━━┩\n",
       "│ 感谢认领.                       │ 公主                               │ [0.5335, 0.4665] │\n",
       "├─────────────────────────────────┼────────────────────────────────────┼──────────────────┤\n",
       "│ 感谢认领露思好漂亮              │ 感谢认领美丽露宝~                  │ [0.5092, 0.4908] │\n",
       "├─────────────────────────────────┼────────────────────────────────────┼──────────────────┤\n",
       "│ 感谢认领露思好漂亮              │ 赵露思好美                         │ [0.5165, 0.4835] │\n",
       "├─────────────────────────────────┼────────────────────────────────────┼──────────────────┤\n",
       "│ 杀了那么多人 蛇蝎心肠 还不够死� │ 他很好？很好为什么逮捕她？杀人     │ [0.1992, 0.8008] │\n",
       "├─────────────────────────────────┼────────────────────────────────────┼──────────────────┤\n",
       "│ 她的辩护律师想通过帮她翻案，    │ 二审维持原判还能上诉吗？           │ [0.4265, 0.5735] │\n",
       "├─────────────────────────────────┼────────────────────────────────────┼──────────────────┤\n",
       "│ 妈的 这个律师有点良心吧 维持原  │ 感谢认领.                          │ [0.616, 0.384]   │\n",
       "├─────────────────────────────────┼────────────────────────────────────┼──────────────────┤\n",
       "│ 她的辩护律师想通过帮她翻案，    │ 她家人没事吧？果然不是一家人，不进 │ [0.3564, 0.6436] │\n",
       "├─────────────────────────────────┼────────────────────────────────────┼──────────────────┤\n",
       "│ 《互联网黑历史现状》            │ 《你看看》                         │ [0.6041, 0.3959] │\n",
       "└─────────────────────────────────┴────────────────────────────────────┴──────────────────┘\n",
       "</pre>\n"
      ],
      "text/plain": [
       "┏━━━━━━━━━━━━━━━━━━━━━━━━━━━━━━━━━┳━━━━━━━━━━━━━━━━━━━━━━━━━━━━━━━━━━━━┳━━━━━━━━━━━━━━━━━━┓\n",
       "┃\u001b[1m \u001b[0m\u001b[1mchosen_text                    \u001b[0m\u001b[1m \u001b[0m┃\u001b[1m \u001b[0m\u001b[1mrejected_text                     \u001b[0m\u001b[1m \u001b[0m┃\u001b[1m \u001b[0m\u001b[1mlogits          \u001b[0m\u001b[1m \u001b[0m┃\n",
       "┡━━━━━━━━━━━━━━━━━━━━━━━━━━━━━━━━━╇━━━━━━━━━━━━━━━━━━━━━━━━━━━━━━━━━━━━╇━━━━━━━━━━━━━━━━━━┩\n",
       "│ 感谢认领.                       │ 公主                               │ [0.5335, 0.4665] │\n",
       "├─────────────────────────────────┼────────────────────────────────────┼──────────────────┤\n",
       "│ 感谢认领露思好漂亮              │ 感谢认领美丽露宝~                  │ [0.5092, 0.4908] │\n",
       "├─────────────────────────────────┼────────────────────────────────────┼──────────────────┤\n",
       "│ 感谢认领露思好漂亮              │ 赵露思好美                         │ [0.5165, 0.4835] │\n",
       "├─────────────────────────────────┼────────────────────────────────────┼──────────────────┤\n",
       "│ 杀了那么多人 蛇蝎心肠 还不够死� │ 他很好？很好为什么逮捕她？杀人     │ [0.1992, 0.8008] │\n",
       "├─────────────────────────────────┼────────────────────────────────────┼──────────────────┤\n",
       "│ 她的辩护律师想通过帮她翻案，    │ 二审维持原判还能上诉吗？           │ [0.4265, 0.5735] │\n",
       "├─────────────────────────────────┼────────────────────────────────────┼──────────────────┤\n",
       "│ 妈的 这个律师有点良心吧 维持原  │ 感谢认领.                          │ [0.616, 0.384]   │\n",
       "├─────────────────────────────────┼────────────────────────────────────┼──────────────────┤\n",
       "│ 她的辩护律师想通过帮她翻案，    │ 她家人没事吧？果然不是一家人，不进 │ [0.3564, 0.6436] │\n",
       "├─────────────────────────────────┼────────────────────────────────────┼──────────────────┤\n",
       "│ 《互联网黑历史现状》            │ 《你看看》                         │ [0.6041, 0.3959] │\n",
       "└─────────────────────────────────┴────────────────────────────────────┴──────────────────┘\n"
      ]
     },
     "metadata": {},
     "output_type": "display_data"
    },
    {
     "data": {
      "text/html": [
       "<pre style=\"white-space:pre;overflow-x:auto;line-height:normal;font-family:Menlo,'DejaVu Sans Mono',consolas,'Courier New',monospace\">┏━━━━━━━━━━━━━━━━━━━━━━━━━━━━━━━━━┳━━━━━━━━━━━━━━━━━━━━━━━━━━━━━━━━┳━━━━━━━━━━━━━━━━━━┓\n",
       "┃<span style=\"font-weight: bold\"> chosen_text                     </span>┃<span style=\"font-weight: bold\"> rejected_text                  </span>┃<span style=\"font-weight: bold\"> logits           </span>┃\n",
       "┡━━━━━━━━━━━━━━━━━━━━━━━━━━━━━━━━━╇━━━━━━━━━━━━━━━━━━━━━━━━━━━━━━━━╇━━━━━━━━━━━━━━━━━━┩\n",
       "│ 感谢认领.                       │ 公主                           │ [0.5335, 0.4665] │\n",
       "├─────────────────────────────────┼────────────────────────────────┼──────────────────┤\n",
       "│ 感谢认领露思好漂亮              │ 感谢认领美丽露宝~              │ [0.5092, 0.4908] │\n",
       "├─────────────────────────────────┼────────────────────────────────┼──────────────────┤\n",
       "│ 感谢认领露思好漂亮              │ 赵露思好美                     │ [0.5165, 0.4835] │\n",
       "├─────────────────────────────────┼────────────────────────────────┼──────────────────┤\n",
       "│ 杀了那么多人 蛇蝎心肠 还不够死� │ 他很好？很好为什么逮捕她？杀人 │ [0.1992, 0.8008] │\n",
       "└─────────────────────────────────┴────────────────────────────────┴──────────────────┘\n",
       "</pre>\n"
      ],
      "text/plain": [
       "┏━━━━━━━━━━━━━━━━━━━━━━━━━━━━━━━━━┳━━━━━━━━━━━━━━━━━━━━━━━━━━━━━━━━┳━━━━━━━━━━━━━━━━━━┓\n",
       "┃\u001b[1m \u001b[0m\u001b[1mchosen_text                    \u001b[0m\u001b[1m \u001b[0m┃\u001b[1m \u001b[0m\u001b[1mrejected_text                 \u001b[0m\u001b[1m \u001b[0m┃\u001b[1m \u001b[0m\u001b[1mlogits          \u001b[0m\u001b[1m \u001b[0m┃\n",
       "┡━━━━━━━━━━━━━━━━━━━━━━━━━━━━━━━━━╇━━━━━━━━━━━━━━━━━━━━━━━━━━━━━━━━╇━━━━━━━━━━━━━━━━━━┩\n",
       "│ 感谢认领.                       │ 公主                           │ [0.5335, 0.4665] │\n",
       "├─────────────────────────────────┼────────────────────────────────┼──────────────────┤\n",
       "│ 感谢认领露思好漂亮              │ 感谢认领美丽露宝~              │ [0.5092, 0.4908] │\n",
       "├─────────────────────────────────┼────────────────────────────────┼──────────────────┤\n",
       "│ 感谢认领露思好漂亮              │ 赵露思好美                     │ [0.5165, 0.4835] │\n",
       "├─────────────────────────────────┼────────────────────────────────┼──────────────────┤\n",
       "│ 杀了那么多人 蛇蝎心肠 还不够死� │ 他很好？很好为什么逮捕她？杀人 │ [0.1992, 0.8008] │\n",
       "└─────────────────────────────────┴────────────────────────────────┴──────────────────┘\n"
      ]
     },
     "metadata": {},
     "output_type": "display_data"
    },
    {
     "name": "stderr",
     "output_type": "stream",
     "text": [
      "/usr/local/lib/python3.8/dist-packages/transformers/tokenization_utils_base.py:2778: UserWarning: `max_length` is ignored when `padding`=`True` and there is no truncation strategy. To pad to max length, use `padding='max_length'`.\n",
      "  warnings.warn(\n",
      "/usr/local/lib/python3.8/dist-packages/trl/trainer/utils.py:599: UserWarning: There are 22 out of 3451 instances where the predictions for both options are equal. As a consequence the accuracy can be misleading.\n",
      "  warnings.warn(\n",
      "/usr/local/lib/python3.8/dist-packages/transformers/tokenization_utils_base.py:2778: UserWarning: `max_length` is ignored when `padding`=`True` and there is no truncation strategy. To pad to max length, use `padding='max_length'`.\n",
      "  warnings.warn(\n",
      "/usr/local/lib/python3.8/dist-packages/torch/utils/checkpoint.py:464: UserWarning: torch.utils.checkpoint: the use_reentrant parameter should be passed explicitly. In version 2.4 we will raise an exception if use_reentrant is not passed. use_reentrant=False is recommended, but if you need to preserve the current default behavior, you can pass use_reentrant=True. Refer to docs for more details on the differences between the two variants.\n",
      "  warnings.warn(\n",
      "/usr/local/lib/python3.8/dist-packages/torch/utils/checkpoint.py:91: UserWarning: None of the inputs have requires_grad=True. Gradients will be None\n",
      "  warnings.warn(\n"
     ]
    }
   ],
   "source": [
    "trainer = RewardTrainer(\n",
    "    model=rm_model,\n",
    "    tokenizer=tokenizer,\n",
    "    args=config,\n",
    "    train_dataset=rm_train_dataset,\n",
    "    eval_dataset=rm_eval_dataset,\n",
    "    peft_config=peft_config,\n",
    ")\n",
    "trainer.train()\n",
    "trainer.save_model(config.output_dir)"
   ]
  },
  {
   "cell_type": "code",
   "execution_count": null,
   "id": "c148f254-b8ca-4b30-a503-3d22c770f276",
   "metadata": {},
   "outputs": [],
   "source": []
  },
  {
   "cell_type": "code",
   "execution_count": 20,
   "id": "e3d04ace-729d-46a3-b563-f851185b402d",
   "metadata": {
    "scrolled": true
   },
   "outputs": [
    {
     "name": "stderr",
     "output_type": "stream",
     "text": [
      "/usr/local/lib/python3.8/dist-packages/transformers/tokenization_utils_base.py:2778: UserWarning: `max_length` is ignored when `padding`=`True` and there is no truncation strategy. To pad to max length, use `padding='max_length'`.\n",
      "  warnings.warn(\n",
      "/usr/local/lib/python3.8/dist-packages/torch/utils/checkpoint.py:464: UserWarning: torch.utils.checkpoint: the use_reentrant parameter should be passed explicitly. In version 2.4 we will raise an exception if use_reentrant is not passed. use_reentrant=False is recommended, but if you need to preserve the current default behavior, you can pass use_reentrant=True. Refer to docs for more details on the differences between the two variants.\n",
      "  warnings.warn(\n",
      "/usr/local/lib/python3.8/dist-packages/torch/utils/checkpoint.py:91: UserWarning: None of the inputs have requires_grad=True. Gradients will be None\n",
      "  warnings.warn(\n"
     ]
    },
    {
     "data": {
      "text/html": [
       "<pre style=\"white-space:pre;overflow-x:auto;line-height:normal;font-family:Menlo,'DejaVu Sans Mono',consolas,'Courier New',monospace\">┏━━━━━━━━━━━━━━━━━━━━━━━━━━━━━━━━━┳━━━━━━━━━━━━━━━━━━━━━━━━━━━━━━━━━━━━┳━━━━━━━━━━━━━━━━━━┓\n",
       "┃<span style=\"font-weight: bold\"> chosen_text                     </span>┃<span style=\"font-weight: bold\"> rejected_text                      </span>┃<span style=\"font-weight: bold\"> logits           </span>┃\n",
       "┡━━━━━━━━━━━━━━━━━━━━━━━━━━━━━━━━━╇━━━━━━━━━━━━━━━━━━━━━━━━━━━━━━━━━━━━╇━━━━━━━━━━━━━━━━━━┩\n",
       "│ 感谢认领.                       │ 公主                               │ [0.6196, 0.3804] │\n",
       "├─────────────────────────────────┼────────────────────────────────────┼──────────────────┤\n",
       "│ 感谢认领露思好漂亮              │ 感谢认领美丽露宝~                  │ [0.469, 0.531]   │\n",
       "├─────────────────────────────────┼────────────────────────────────────┼──────────────────┤\n",
       "│ 感谢认领露思好漂亮              │ 赵露思好美                         │ [0.5734, 0.4266] │\n",
       "├─────────────────────────────────┼────────────────────────────────────┼──────────────────┤\n",
       "│ 杀了那么多人 蛇蝎心肠 还不够死� │ 他很好？很好为什么逮捕她？杀人     │ [0.4774, 0.5226] │\n",
       "├─────────────────────────────────┼────────────────────────────────────┼──────────────────┤\n",
       "│ 她的辩护律师想通过帮她翻案，    │ 二审维持原判还能上诉吗？           │ [0.4709, 0.5291] │\n",
       "├─────────────────────────────────┼────────────────────────────────────┼──────────────────┤\n",
       "│ 妈的 这个律师有点良心吧 维持原  │ 感谢认领.                          │ [0.5602, 0.4398] │\n",
       "├─────────────────────────────────┼────────────────────────────────────┼──────────────────┤\n",
       "│ 她的辩护律师想通过帮她翻案，    │ 她家人没事吧？果然不是一家人，不进 │ [0.4567, 0.5433] │\n",
       "├─────────────────────────────────┼────────────────────────────────────┼──────────────────┤\n",
       "│ 《互联网黑历史现状》            │ 《你看看》                         │ [0.5686, 0.4314] │\n",
       "└─────────────────────────────────┴────────────────────────────────────┴──────────────────┘\n",
       "</pre>\n"
      ],
      "text/plain": [
       "┏━━━━━━━━━━━━━━━━━━━━━━━━━━━━━━━━━┳━━━━━━━━━━━━━━━━━━━━━━━━━━━━━━━━━━━━┳━━━━━━━━━━━━━━━━━━┓\n",
       "┃\u001b[1m \u001b[0m\u001b[1mchosen_text                    \u001b[0m\u001b[1m \u001b[0m┃\u001b[1m \u001b[0m\u001b[1mrejected_text                     \u001b[0m\u001b[1m \u001b[0m┃\u001b[1m \u001b[0m\u001b[1mlogits          \u001b[0m\u001b[1m \u001b[0m┃\n",
       "┡━━━━━━━━━━━━━━━━━━━━━━━━━━━━━━━━━╇━━━━━━━━━━━━━━━━━━━━━━━━━━━━━━━━━━━━╇━━━━━━━━━━━━━━━━━━┩\n",
       "│ 感谢认领.                       │ 公主                               │ [0.6196, 0.3804] │\n",
       "├─────────────────────────────────┼────────────────────────────────────┼──────────────────┤\n",
       "│ 感谢认领露思好漂亮              │ 感谢认领美丽露宝~                  │ [0.469, 0.531]   │\n",
       "├─────────────────────────────────┼────────────────────────────────────┼──────────────────┤\n",
       "│ 感谢认领露思好漂亮              │ 赵露思好美                         │ [0.5734, 0.4266] │\n",
       "├─────────────────────────────────┼────────────────────────────────────┼──────────────────┤\n",
       "│ 杀了那么多人 蛇蝎心肠 还不够死� │ 他很好？很好为什么逮捕她？杀人     │ [0.4774, 0.5226] │\n",
       "├─────────────────────────────────┼────────────────────────────────────┼──────────────────┤\n",
       "│ 她的辩护律师想通过帮她翻案，    │ 二审维持原判还能上诉吗？           │ [0.4709, 0.5291] │\n",
       "├─────────────────────────────────┼────────────────────────────────────┼──────────────────┤\n",
       "│ 妈的 这个律师有点良心吧 维持原  │ 感谢认领.                          │ [0.5602, 0.4398] │\n",
       "├─────────────────────────────────┼────────────────────────────────────┼──────────────────┤\n",
       "│ 她的辩护律师想通过帮她翻案，    │ 她家人没事吧？果然不是一家人，不进 │ [0.4567, 0.5433] │\n",
       "├─────────────────────────────────┼────────────────────────────────────┼──────────────────┤\n",
       "│ 《互联网黑历史现状》            │ 《你看看》                         │ [0.5686, 0.4314] │\n",
       "└─────────────────────────────────┴────────────────────────────────────┴──────────────────┘\n"
      ]
     },
     "metadata": {},
     "output_type": "display_data"
    },
    {
     "data": {
      "text/html": [
       "<pre style=\"white-space:pre;overflow-x:auto;line-height:normal;font-family:Menlo,'DejaVu Sans Mono',consolas,'Courier New',monospace\">┏━━━━━━━━━━━━━━━━━━━━━━━━━━━━━━━━━┳━━━━━━━━━━━━━━━━━━━━━━━━━━━━━━━━┳━━━━━━━━━━━━━━━━━━┓\n",
       "┃<span style=\"font-weight: bold\"> chosen_text                     </span>┃<span style=\"font-weight: bold\"> rejected_text                  </span>┃<span style=\"font-weight: bold\"> logits           </span>┃\n",
       "┡━━━━━━━━━━━━━━━━━━━━━━━━━━━━━━━━━╇━━━━━━━━━━━━━━━━━━━━━━━━━━━━━━━━╇━━━━━━━━━━━━━━━━━━┩\n",
       "│ 感谢认领.                       │ 公主                           │ [0.6196, 0.3804] │\n",
       "├─────────────────────────────────┼────────────────────────────────┼──────────────────┤\n",
       "│ 感谢认领露思好漂亮              │ 感谢认领美丽露宝~              │ [0.469, 0.531]   │\n",
       "├─────────────────────────────────┼────────────────────────────────┼──────────────────┤\n",
       "│ 感谢认领露思好漂亮              │ 赵露思好美                     │ [0.5734, 0.4266] │\n",
       "├─────────────────────────────────┼────────────────────────────────┼──────────────────┤\n",
       "│ 杀了那么多人 蛇蝎心肠 还不够死� │ 他很好？很好为什么逮捕她？杀人 │ [0.4774, 0.5226] │\n",
       "└─────────────────────────────────┴────────────────────────────────┴──────────────────┘\n",
       "</pre>\n"
      ],
      "text/plain": [
       "┏━━━━━━━━━━━━━━━━━━━━━━━━━━━━━━━━━┳━━━━━━━━━━━━━━━━━━━━━━━━━━━━━━━━┳━━━━━━━━━━━━━━━━━━┓\n",
       "┃\u001b[1m \u001b[0m\u001b[1mchosen_text                    \u001b[0m\u001b[1m \u001b[0m┃\u001b[1m \u001b[0m\u001b[1mrejected_text                 \u001b[0m\u001b[1m \u001b[0m┃\u001b[1m \u001b[0m\u001b[1mlogits          \u001b[0m\u001b[1m \u001b[0m┃\n",
       "┡━━━━━━━━━━━━━━━━━━━━━━━━━━━━━━━━━╇━━━━━━━━━━━━━━━━━━━━━━━━━━━━━━━━╇━━━━━━━━━━━━━━━━━━┩\n",
       "│ 感谢认领.                       │ 公主                           │ [0.6196, 0.3804] │\n",
       "├─────────────────────────────────┼────────────────────────────────┼──────────────────┤\n",
       "│ 感谢认领露思好漂亮              │ 感谢认领美丽露宝~              │ [0.469, 0.531]   │\n",
       "├─────────────────────────────────┼────────────────────────────────┼──────────────────┤\n",
       "│ 感谢认领露思好漂亮              │ 赵露思好美                     │ [0.5734, 0.4266] │\n",
       "├─────────────────────────────────┼────────────────────────────────┼──────────────────┤\n",
       "│ 杀了那么多人 蛇蝎心肠 还不够死� │ 他很好？很好为什么逮捕她？杀人 │ [0.4774, 0.5226] │\n",
       "└─────────────────────────────────┴────────────────────────────────┴──────────────────┘\n"
      ]
     },
     "metadata": {},
     "output_type": "display_data"
    },
    {
     "name": "stderr",
     "output_type": "stream",
     "text": [
      "/usr/local/lib/python3.8/dist-packages/transformers/tokenization_utils_base.py:2778: UserWarning: `max_length` is ignored when `padding`=`True` and there is no truncation strategy. To pad to max length, use `padding='max_length'`.\n",
      "  warnings.warn(\n"
     ]
    },
    {
     "data": {
      "text/html": [
       "\n",
       "    <div>\n",
       "      \n",
       "      <progress value='432' max='432' style='width:300px; height:20px; vertical-align: middle;'></progress>\n",
       "      [432/432 00:08]\n",
       "    </div>\n",
       "    "
      ],
      "text/plain": [
       "<IPython.core.display.HTML object>"
      ]
     },
     "metadata": {},
     "output_type": "display_data"
    },
    {
     "name": "stdout",
     "output_type": "stream",
     "text": [
      "***** eval metrics *****\n",
      "  epoch                   =      9.992\n",
      "  eval_accuracy           =      0.541\n",
      "  eval_loss               =     0.6884\n",
      "  eval_runtime            = 0:00:08.94\n",
      "  eval_samples_per_second =    385.626\n",
      "  eval_steps_per_second   =     48.273\n",
      "{'eval_loss': 0.6884294748306274, 'eval_accuracy': 0.5410026079397277, 'eval_runtime': 8.9491, 'eval_samples_per_second': 385.626, 'eval_steps_per_second': 48.273, 'epoch': 9.9919935948759}\n"
     ]
    },
    {
     "name": "stderr",
     "output_type": "stream",
     "text": [
      "/usr/local/lib/python3.8/dist-packages/trl/trainer/utils.py:599: UserWarning: There are 22 out of 3451 instances where the predictions for both options are equal. As a consequence the accuracy can be misleading.\n",
      "  warnings.warn(\n"
     ]
    }
   ],
   "source": [
    "metrics = trainer.evaluate()\n",
    "trainer.log_metrics(\"eval\", metrics)\n",
    "print(metrics)"
   ]
  },
  {
   "cell_type": "markdown",
   "id": "6e6e32d4-8744-46cf-9c15-4ba12dd67db9",
   "metadata": {},
   "source": [
    "## PPO Phase"
   ]
  },
  {
   "cell_type": "code",
   "execution_count": 1,
   "id": "a930ffc4",
   "metadata": {},
   "outputs": [],
   "source": [
    "from trl import PPOTrainer, PPOConfig, AutoModelForCausalLMWithValueHead"
   ]
  },
  {
   "cell_type": "markdown",
   "id": "389da285",
   "metadata": {},
   "source": [
    "### Configuration"
   ]
  },
  {
   "cell_type": "code",
   "execution_count": 2,
   "id": "417751f7",
   "metadata": {},
   "outputs": [],
   "source": [
    "ppo_config = PPOConfig(\n",
    "    model_name=\"SFT_Model_T5-Small\",\n",
    "    learning_rate=1.41e-5,\n",
    "    # log_with=\"wandb\",\n",
    ")"
   ]
  },
  {
   "cell_type": "code",
   "execution_count": 3,
   "id": "5f0b929c",
   "metadata": {},
   "outputs": [],
   "source": [
    "sent_kwargs = {\"return_all_scores\": True, \"function_to_apply\": \"none\", \"batch_size\": 1}"
   ]
  },
  {
   "cell_type": "markdown",
   "id": "c1bb5b4d",
   "metadata": {},
   "source": [
    "### Load Dataset"
   ]
  },
  {
   "cell_type": "code",
   "execution_count": 4,
   "id": "93959e51-a011-40f0-b1fe-0b1fce9312ad",
   "metadata": {},
   "outputs": [
    {
     "data": {
      "text/plain": [
       "DatasetDict({\n",
       "    train: Dataset({\n",
       "        features: ['weibo', 'resp'],\n",
       "        num_rows: 25140\n",
       "    })\n",
       "    validation: Dataset({\n",
       "        features: ['weibo', 'resp'],\n",
       "        num_rows: 8670\n",
       "    })\n",
       "})"
      ]
     },
     "execution_count": 4,
     "metadata": {},
     "output_type": "execute_result"
    }
   ],
   "source": [
    "from datasets import load_dataset\n",
    "\n",
    "ppo_dataset = load_dataset(\"gen_sft_dataset.py\", trust_remote_code=True) # gen_ppo_dataset\n",
    "ppo_dataset"
   ]
  },
  {
   "cell_type": "code",
   "execution_count": 5,
   "id": "bb4fb424-16a7-45e7-9216-e8a342d5efa3",
   "metadata": {
    "scrolled": true
   },
   "outputs": [
    {
     "data": {
      "text/plain": [
       "'不用呼吸机光速下班'"
      ]
     },
     "execution_count": 5,
     "metadata": {},
     "output_type": "execute_result"
    }
   ],
   "source": [
    "ppo_dataset[\"train\"][\"resp\"][1]"
   ]
  },
  {
   "cell_type": "markdown",
   "id": "e4a8c018",
   "metadata": {},
   "source": [
    "### Load Pre-trained SFT Model"
   ]
  },
  {
   "cell_type": "code",
   "execution_count": 6,
   "id": "ca563204-19d9-4c6f-91ad-9e2e34e85c95",
   "metadata": {},
   "outputs": [],
   "source": [
    "# from transformers import T5ForConditionalGeneration, T5Tokenizer\n",
    "from trl import AutoModelForSeq2SeqLMWithValueHead\n",
    "from transformers import AutoTokenizer"
   ]
  },
  {
   "cell_type": "code",
   "execution_count": 7,
   "id": "9aee398e-5ac4-419c-8db6-6b601758c6b0",
   "metadata": {},
   "outputs": [],
   "source": [
    "# model = AutoModelForCausalLMWithValueHead.from_pretrained(\"./SFT_Model_T5-Small\")\n",
    "# ref_model = AutoModelForCausalLMWithValueHead.from_pretrained(\"./SFT_Model_T5-Small\")\n",
    "# tokenizer = AutoTokenizer.from_pretrained(\"./SFT_Model_T5-Small\")\n",
    "\n",
    "model = AutoModelForSeq2SeqLMWithValueHead.from_pretrained(\"./SFT_Model_T5-Small/checkpoint-15720\")\n",
    "ref_model = AutoModelForSeq2SeqLMWithValueHead.from_pretrained(\"./SFT_Model_T5-Small/checkpoint-15720\")\n",
    "tokenizer = AutoTokenizer.from_pretrained(\"./SFT_Model_T5-Small/checkpoint-15720\")\n",
    "\n",
    "tokenizer.pad_token = tokenizer.eos_token"
   ]
  },
  {
   "cell_type": "code",
   "execution_count": 8,
   "id": "8b4217c6-2547-4c4e-8bed-8fa5ea978f03",
   "metadata": {},
   "outputs": [],
   "source": [
    "def tokenize(sample):\n",
    "    # sample[\"input_ids\"] = tokenizer.encode(sample[\"weibo\"])\n",
    "    sample = tokenizer(sample[\"weibo\"])\n",
    "    sample[\"query\"] = tokenizer.decode(sample[\"input_ids\"])\n",
    "    return sample\n",
    "\n",
    "ppo_train_dataset = ppo_dataset[\"train\"]\n",
    "ppo_train_dataset = ppo_train_dataset.map(tokenize) # Bug Fixed (Not In-place)\n",
    "ppo_train_dataset.set_format(type=\"torch\") # Important! Turn into tensors "
   ]
  },
  {
   "cell_type": "code",
   "execution_count": 9,
   "id": "cd1cfdcf-ec84-4807-bba4-4c6fc74bbf97",
   "metadata": {},
   "outputs": [
    {
     "data": {
      "text/plain": [
       "Dataset({\n",
       "    features: ['weibo', 'resp', 'input_ids', 'attention_mask', 'query'],\n",
       "    num_rows: 25140\n",
       "})"
      ]
     },
     "execution_count": 9,
     "metadata": {},
     "output_type": "execute_result"
    }
   ],
   "source": [
    "ppo_train_dataset"
   ]
  },
  {
   "cell_type": "code",
   "execution_count": 10,
   "id": "ec19238d-5811-422d-b45f-79d6c6ebe5aa",
   "metadata": {},
   "outputs": [
    {
     "name": "stdout",
     "output_type": "stream",
     "text": [
      "tensor([ 1713,   518,  9697,     2,  4663,     3,     2,   536, 13572,     2,\n",
      "        22773,     2,  2596,  3486,     6,  2596,  4278,     6,  2596,  6832,\n",
      "            1])\n"
     ]
    }
   ],
   "source": [
    "print(ppo_train_dataset[0]['input_ids'])"
   ]
  },
  {
   "cell_type": "markdown",
   "id": "cb4a0b3e",
   "metadata": {},
   "source": [
    "### Initialize PPOTrainer "
   ]
  },
  {
   "cell_type": "code",
   "execution_count": 11,
   "id": "a1017a92-4253-42d8-bb5a-426f5561625e",
   "metadata": {},
   "outputs": [],
   "source": [
    "# from transformers import DataCollatorForSeq2Seq\n",
    "\n",
    "# data_collator = DataCollatorForSeq2Seq(tokenizer, model=model)\n",
    "\n",
    "def collator(data):\n",
    "    return dict((key, [d[key] for d in data]) for key in data[0])"
   ]
  },
  {
   "cell_type": "code",
   "execution_count": 12,
   "id": "aed20fb9",
   "metadata": {},
   "outputs": [
    {
     "name": "stderr",
     "output_type": "stream",
     "text": [
      "Detected kernel version 5.4.0, which is below the recommended minimum of 5.5.0; this can cause the process to hang. It is recommended to upgrade the kernel to the minimum version or higher.\n"
     ]
    }
   ],
   "source": [
    "ppo_trainer = PPOTrainer(ppo_config, model, ref_model, tokenizer, dataset=ppo_train_dataset, data_collator=collator)"
   ]
  },
  {
   "cell_type": "markdown",
   "id": "85080f15",
   "metadata": {},
   "source": [
    "### Load Tuned Reward Model Trained in RM Phase"
   ]
  },
  {
   "cell_type": "code",
   "execution_count": 13,
   "id": "26db5eea",
   "metadata": {},
   "outputs": [
    {
     "name": "stderr",
     "output_type": "stream",
     "text": [
      "Some weights of GPT2ForSequenceClassification were not initialized from the model checkpoint at gpt2 and are newly initialized: ['score.weight']\n",
      "You should probably TRAIN this model on a down-stream task to be able to use it for predictions and inference.\n",
      "/usr/local/lib/python3.8/dist-packages/peft/tuners/lora/layer.py:1119: UserWarning: fan_in_fan_out is set to False but the target module is `Conv1D`. Setting fan_in_fan_out to True.\n",
      "  warnings.warn(\n",
      "Hardware accelerator e.g. GPU is available in the environment, but no `device` argument is passed to the `Pipeline` object. Model will be on CPU.\n"
     ]
    }
   ],
   "source": [
    "from transformers import AutoModelForSequenceClassification, AutoTokenizer, pipeline\n",
    "\n",
    "rm_model = AutoModelForSequenceClassification.from_pretrained(\"./RM_model/checkpoint-1560\")\n",
    "rm_tokenizer = AutoTokenizer.from_pretrained(\"./RM_model/checkpoint-1560\")\n",
    "rm_tokenizer.pad_token = tokenizer.eos_token\n",
    "# GPT\n",
    "rm_tokenizer.padding_side = \"right\"  # This ensures consistent padding\n",
    "rm_model.config.pad_token_id = rm_tokenizer.pad_token_id\n",
    "\n",
    "sentiment_pipe = pipeline(\"sentiment-analysis\", model=rm_model, tokenizer=rm_tokenizer, padding=True, truncation=True, max_length=32)"
   ]
  },
  {
   "cell_type": "markdown",
   "id": "71a2b86c",
   "metadata": {},
   "source": [
    "### Generation Settings "
   ]
  },
  {
   "cell_type": "code",
   "execution_count": 14,
   "id": "334bdea0",
   "metadata": {},
   "outputs": [],
   "source": [
    "gen_kwargs = {\"min_length\": -1, \"top_k\": 0.0, \"top_p\": 1.0, \"do_sample\": True, \"pad_token_id\": tokenizer.eos_token_id}"
   ]
  },
  {
   "cell_type": "markdown",
   "id": "f4b42765",
   "metadata": {},
   "source": [
    "### Training Loop for Model Optimization"
   ]
  },
  {
   "cell_type": "code",
   "execution_count": 15,
   "id": "df074f43-bcde-4e86-84f9-7b335d9d2144",
   "metadata": {},
   "outputs": [],
   "source": [
    "from tqdm import tqdm"
   ]
  },
  {
   "cell_type": "code",
   "execution_count": 16,
   "id": "7cd6f907-6d2c-46c8-9934-52cc3cf13275",
   "metadata": {},
   "outputs": [
    {
     "data": {
      "text/plain": [
       "<accelerate.data_loader.DataLoaderShard at 0x7f39df041040>"
      ]
     },
     "execution_count": 16,
     "metadata": {},
     "output_type": "execute_result"
    }
   ],
   "source": [
    "ppo_trainer.dataloader"
   ]
  },
  {
   "cell_type": "code",
   "execution_count": 17,
   "id": "0dc1f204-752a-42fc-8de1-5dcc096b6600",
   "metadata": {},
   "outputs": [
    {
     "name": "stdout",
     "output_type": "stream",
     "text": [
      "{'weibo': ['#WTT冠军赛布达佩斯站#\\xa0男单1/4决赛林高远3-0宇田幸矢11-3，11-4，11-7', '#WTT冠军赛布达佩斯站#\\xa0男单1/4决赛林高远3-0宇田幸矢11-3，11-4，11-7', '#WTT冠军赛布达佩斯站#\\xa0男单1/4决赛林高远3-0宇田幸矢11-3，11-4，11-7', '#WTT冠军赛布达佩斯站#\\xa0男单1/4决赛林高远3-0宇田幸矢11-3，11-4，11-7', '#WTT冠军赛布达佩斯站#\\xa0男单1/4决赛林高远3-0宇田幸矢11-3，11-4，11-7'], 'resp': ['别把我帅死林高远一直这么坚定下去吧！！！！别有太大压力，战胜自己就够了！！！！我永远相信小林将军', '不用呼吸机光速下班', '“人家肯定拼你的”，“对，所以说这个是被拼的时候，自己要扛住压力这个事。”今天发球落点速度节奏变化都好棒，让大家欣赏一下速度流明天的半决赛将迎战本站第一个右手，放平心态，你谁都不怕！', '“坚定都溢出来了”“怎么可以防的如此自如啊”“非常自信/冷静啊”…没有不可治愈的伤痛，没有不可结束的沉沦。所有失去的，会以另一种方式归来。林高远，好样的，这场打的真漂亮，继续加油，愈战愈勇！', '“全方位的碾压让对方看不到一丝希望！”林高远牛逼！是意气风发的小林将军林高远继续加油！！！！'], 'input_ids': tensor([[ 1713,   518,  9697,     2,  4663,     3,     2,   536, 13572,     2,\n",
      "         22773,     2,  2596,  3486,     6,  2596,  4278,     6,  2596,  6832,\n",
      "             1],\n",
      "        [ 1713,   518,  9697,     2,  4663,     3,     2,   536, 13572,     2,\n",
      "         22773,     2,  2596,  3486,     6,  2596,  4278,     6,  2596,  6832,\n",
      "             1],\n",
      "        [ 1713,   518,  9697,     2,  4663,     3,     2,   536, 13572,     2,\n",
      "         22773,     2,  2596,  3486,     6,  2596,  4278,     6,  2596,  6832,\n",
      "             1],\n",
      "        [ 1713,   518,  9697,     2,  4663,     3,     2,   536, 13572,     2,\n",
      "         22773,     2,  2596,  3486,     6,  2596,  4278,     6,  2596,  6832,\n",
      "             1],\n",
      "        [ 1713,   518,  9697,     2,  4663,     3,     2,   536, 13572,     2,\n",
      "         22773,     2,  2596,  3486,     6,  2596,  4278,     6,  2596,  6832,\n",
      "             1]]), 'attention_mask': tensor([[1, 1, 1, 1, 1, 1, 1, 1, 1, 1, 1, 1, 1, 1, 1, 1, 1, 1, 1, 1, 1],\n",
      "        [1, 1, 1, 1, 1, 1, 1, 1, 1, 1, 1, 1, 1, 1, 1, 1, 1, 1, 1, 1, 1],\n",
      "        [1, 1, 1, 1, 1, 1, 1, 1, 1, 1, 1, 1, 1, 1, 1, 1, 1, 1, 1, 1, 1],\n",
      "        [1, 1, 1, 1, 1, 1, 1, 1, 1, 1, 1, 1, 1, 1, 1, 1, 1, 1, 1, 1, 1],\n",
      "        [1, 1, 1, 1, 1, 1, 1, 1, 1, 1, 1, 1, 1, 1, 1, 1, 1, 1, 1, 1, 1]]), 'query': ['#WTT<unk># <unk>1/4<unk>3-0<unk>11-3,11-4,11-7</s>', '#WTT<unk># <unk>1/4<unk>3-0<unk>11-3,11-4,11-7</s>', '#WTT<unk># <unk>1/4<unk>3-0<unk>11-3,11-4,11-7</s>', '#WTT<unk># <unk>1/4<unk>3-0<unk>11-3,11-4,11-7</s>', '#WTT<unk># <unk>1/4<unk>3-0<unk>11-3,11-4,11-7</s>']}\n"
     ]
    }
   ],
   "source": [
    "print(ppo_train_dataset[:5])"
   ]
  },
  {
   "cell_type": "code",
   "execution_count": 18,
   "id": "29b51b8d-6721-4bd6-a440-5cb851901433",
   "metadata": {},
   "outputs": [],
   "source": [
    "import torch"
   ]
  },
  {
   "cell_type": "code",
   "execution_count": 19,
   "id": "7abfc490-bb92-47da-8d24-5095590db255",
   "metadata": {},
   "outputs": [],
   "source": [
    "# from trl.trainer import PPOTrainer\n",
    "\n",
    "# class DebugPPOTrainer(PPOTrainer):\n",
    "#     def compute_rewards(self, scores, logprobs, ref_logprobs, masks):\n",
    "#         print(f\"Mask: {masks}\")  # Print the mask tensor\n",
    "#         return super().compute_rewards(scores, logprobs, ref_logprobs, masks)"
   ]
  },
  {
   "cell_type": "code",
   "execution_count": 20,
   "id": "190d2522",
   "metadata": {
    "scrolled": true
   },
   "outputs": [
    {
     "name": "stderr",
     "output_type": "stream",
     "text": [
      "0it [00:00, ?it/s]"
     ]
    },
    {
     "name": "stdout",
     "output_type": "stream",
     "text": [
      "\n",
      "Start Epoch 0\n"
     ]
    },
    {
     "name": "stderr",
     "output_type": "stream",
     "text": [
      "/usr/local/lib/python3.8/dist-packages/transformers/pipelines/text_classification.py:104: UserWarning: `return_all_scores` is now deprecated,  if want a similar functionality use `top_k=None` instead of `return_all_scores=True` or `top_k=1` instead of `return_all_scores=False`.\n",
      "  warnings.warn(\n"
     ]
    },
    {
     "name": "stdout",
     "output_type": "stream",
     "text": [
      "Rewards: [tensor(0.3247), tensor(-0.4279), tensor(1.0311), tensor(1.3849), tensor(1.3149), tensor(0.7697), tensor(-0.0726), tensor(0.3974), tensor(0.8744), tensor(0.6990), tensor(0.7375), tensor(0.8521), tensor(1.3748), tensor(0.6267), tensor(0.4745), tensor(1.5654), tensor(1.2332), tensor(1.1041), tensor(0.6691), tensor(1.4607), tensor(0.8209), tensor(1.9314), tensor(1.0623), tensor(0.4732), tensor(0.2149), tensor(0.2790), tensor(1.1716), tensor(0.4938), tensor(0.8852), tensor(0.5833), tensor(1.0516), tensor(0.6871), tensor(0.2867), tensor(0.9077), tensor(1.0171), tensor(0.9477), tensor(0.6717), tensor(1.2082), tensor(1.0935), tensor(0.2660), tensor(2.1056), tensor(1.3770), tensor(1.4741), tensor(0.4571), tensor(1.0620), tensor(1.1657), tensor(0.4745), tensor(0.3918), tensor(0.6624), tensor(0.6110), tensor(0.4825), tensor(0.4429), tensor(1.5289), tensor(0.3845), tensor(1.3412), tensor(2.0855), tensor(1.0573), tensor(0.6064), tensor(1.1378), tensor(2.2293), tensor(1.4243), tensor(1.3685), tensor(1.4669), tensor(0.5937), tensor(-0.1683), tensor(0.6664), tensor(1.5274), tensor(1.6685), tensor(1.1713), tensor(1.2824), tensor(1.0871), tensor(1.7232), tensor(-0.5320), tensor(0.7242), tensor(0.3363), tensor(1.2450), tensor(-0.0655), tensor(1.2231), tensor(1.2543), tensor(0.6115), tensor(-0.4038), tensor(0.5407), tensor(1.4057), tensor(1.1265), tensor(1.5712), tensor(1.2628), tensor(1.2878), tensor(1.1306), tensor(-0.3115), tensor(0.3562), tensor(0.3846), tensor(1.1011), tensor(1.6999), tensor(1.7171), tensor(0.7092), tensor(0.8858), tensor(0.4063), tensor(1.1206), tensor(0.9032), tensor(0.6460), tensor(0.5455), tensor(0.4229), tensor(0.2777), tensor(0.6473), tensor(1.0604), tensor(0.3273), tensor(0.5135), tensor(1.3791), tensor(1.3345), tensor(1.1760), tensor(-0.1089), tensor(0.5662), tensor(0.2617), tensor(0.2353), tensor(1.1999), tensor(0.3039), tensor(1.1545), tensor(0.6868), tensor(0.2693), tensor(1.1312), tensor(0.3519), tensor(1.1878), tensor(0.6070), tensor(0.8211), tensor(0.5404), tensor(0.2940), tensor(1.2877), tensor(0.4961)]\n"
     ]
    },
    {
     "name": "stderr",
     "output_type": "stream",
     "text": [
      "1it [01:14, 74.69s/it]"
     ]
    },
    {
     "name": "stdout",
     "output_type": "stream",
     "text": [
      "\n",
      "Start Epoch 1\n",
      "Rewards: [tensor(1.6634), tensor(0.8338), tensor(0.8952), tensor(0.8450), tensor(1.1459), tensor(1.0398), tensor(1.3422), tensor(0.0995), tensor(1.0808), tensor(1.0666), tensor(1.3784), tensor(0.5546), tensor(1.1670), tensor(0.4264), tensor(0.8036), tensor(0.1371), tensor(0.4910), tensor(0.7096), tensor(0.4893), tensor(0.6423), tensor(0.5254), tensor(0.5462), tensor(0.1426), tensor(1.0184), tensor(0.2400), tensor(0.6576), tensor(0.7996), tensor(1.1127), tensor(1.1917), tensor(1.0329), tensor(0.4501), tensor(0.2414), tensor(0.4160), tensor(1.1485), tensor(0.4391), tensor(0.6793), tensor(0.5285), tensor(2.0681), tensor(1.4336), tensor(0.2664), tensor(1.4794), tensor(1.0813), tensor(1.0680), tensor(0.0994), tensor(1.1784), tensor(0.5999), tensor(0.6752), tensor(1.1913), tensor(0.3548), tensor(0.4093), tensor(0.8390), tensor(-0.0387), tensor(0.6551), tensor(0.5912), tensor(-1.9159), tensor(0.9960), tensor(-1.0077), tensor(0.9505), tensor(1.0042), tensor(1.1887), tensor(0.4813), tensor(0.6511), tensor(0.7125), tensor(0.6300), tensor(0.9678), tensor(0.2636), tensor(1.0528), tensor(1.3692), tensor(1.1690), tensor(1.2207), tensor(0.5098), tensor(1.2926), tensor(0.4264), tensor(-0.2016), tensor(1.1923), tensor(1.1601), tensor(0.9826), tensor(1.0697), tensor(-0.3144), tensor(0.4210), tensor(0.7459), tensor(1.2265), tensor(-0.0475), tensor(0.4461), tensor(0.6361), tensor(1.5622), tensor(0.3294), tensor(0.4185), tensor(0.6585), tensor(1.5464), tensor(1.0318), tensor(0.8588), tensor(0.6903), tensor(0.6779), tensor(0.0539), tensor(0.4105), tensor(1.1578), tensor(1.2008), tensor(0.3889), tensor(1.6486), tensor(0.9050), tensor(0.9917), tensor(0.3485), tensor(1.1225), tensor(1.0700), tensor(0.1950), tensor(0.8949), tensor(0.8384), tensor(1.2616), tensor(0.5187), tensor(0.6556), tensor(0.5714), tensor(1.0707), tensor(0.6954), tensor(0.9473), tensor(0.4231), tensor(1.0179), tensor(1.0428), tensor(0.8456), tensor(1.2594), tensor(0.2729), tensor(1.0851), tensor(0.6638), tensor(1.1600), tensor(-0.0757), tensor(1.0039), tensor(1.0352), tensor(1.0811)]\n"
     ]
    },
    {
     "name": "stderr",
     "output_type": "stream",
     "text": [
      "1it [02:14, 134.58s/it]\n"
     ]
    },
    {
     "ename": "OutOfMemoryError",
     "evalue": "CUDA out of memory. Tried to allocate 138.00 MiB. GPU ",
     "output_type": "error",
     "traceback": [
      "\u001b[0;31m---------------------------------------------------------------------------\u001b[0m",
      "\u001b[0;31mOutOfMemoryError\u001b[0m                          Traceback (most recent call last)",
      "Cell \u001b[0;32mIn[20], line 40\u001b[0m\n\u001b[1;32m     37\u001b[0m \u001b[38;5;28mprint\u001b[39m(\u001b[38;5;124mf\u001b[39m\u001b[38;5;124m\"\u001b[39m\u001b[38;5;124mRewards: \u001b[39m\u001b[38;5;132;01m{\u001b[39;00mrewards\u001b[38;5;132;01m}\u001b[39;00m\u001b[38;5;124m\"\u001b[39m)\n\u001b[1;32m     39\u001b[0m \u001b[38;5;66;03m#### Run PPO step\u001b[39;00m\n\u001b[0;32m---> 40\u001b[0m stats \u001b[38;5;241m=\u001b[39m \u001b[43mppo_trainer\u001b[49m\u001b[38;5;241;43m.\u001b[39;49m\u001b[43mstep\u001b[49m\u001b[43m(\u001b[49m\u001b[43mquery_tensors\u001b[49m\u001b[43m,\u001b[49m\u001b[43m \u001b[49m\u001b[43mresponse_tensors\u001b[49m\u001b[43m,\u001b[49m\u001b[43m \u001b[49m\u001b[43mrewards\u001b[49m\u001b[43m)\u001b[49m\n\u001b[1;32m     41\u001b[0m ppo_trainer\u001b[38;5;241m.\u001b[39mlog_stats(stats, batch, rewards)\n",
      "File \u001b[0;32m/usr/lib/python3.8/contextlib.py:75\u001b[0m, in \u001b[0;36mContextDecorator.__call__.<locals>.inner\u001b[0;34m(*args, **kwds)\u001b[0m\n\u001b[1;32m     72\u001b[0m \u001b[38;5;129m@wraps\u001b[39m(func)\n\u001b[1;32m     73\u001b[0m \u001b[38;5;28;01mdef\u001b[39;00m \u001b[38;5;21minner\u001b[39m(\u001b[38;5;241m*\u001b[39margs, \u001b[38;5;241m*\u001b[39m\u001b[38;5;241m*\u001b[39mkwds):\n\u001b[1;32m     74\u001b[0m     \u001b[38;5;28;01mwith\u001b[39;00m \u001b[38;5;28mself\u001b[39m\u001b[38;5;241m.\u001b[39m_recreate_cm():\n\u001b[0;32m---> 75\u001b[0m         \u001b[38;5;28;01mreturn\u001b[39;00m \u001b[43mfunc\u001b[49m\u001b[43m(\u001b[49m\u001b[38;5;241;43m*\u001b[39;49m\u001b[43margs\u001b[49m\u001b[43m,\u001b[49m\u001b[43m \u001b[49m\u001b[38;5;241;43m*\u001b[39;49m\u001b[38;5;241;43m*\u001b[39;49m\u001b[43mkwds\u001b[49m\u001b[43m)\u001b[49m\n",
      "File \u001b[0;32m/usr/local/lib/python3.8/dist-packages/trl/trainer/ppo_trainer.py:817\u001b[0m, in \u001b[0;36mPPOTrainer.step\u001b[0;34m(self, queries, responses, scores, response_masks)\u001b[0m\n\u001b[1;32m    814\u001b[0m \u001b[38;5;28;01mwith\u001b[39;00m \u001b[38;5;28mself\u001b[39m\u001b[38;5;241m.\u001b[39maccelerator\u001b[38;5;241m.\u001b[39maccumulate(\u001b[38;5;28mself\u001b[39m\u001b[38;5;241m.\u001b[39mmodel):\n\u001b[1;32m    815\u001b[0m     model_inputs \u001b[38;5;241m=\u001b[39m {k: mini_batch_dict[k] \u001b[38;5;28;01mfor\u001b[39;00m k \u001b[38;5;129;01min\u001b[39;00m model_inputs_names}\n\u001b[0;32m--> 817\u001b[0m     logprobs, logits, vpreds, _ \u001b[38;5;241m=\u001b[39m \u001b[38;5;28;43mself\u001b[39;49m\u001b[38;5;241;43m.\u001b[39;49m\u001b[43mbatched_forward_pass\u001b[49m\u001b[43m(\u001b[49m\n\u001b[1;32m    818\u001b[0m \u001b[43m        \u001b[49m\u001b[38;5;28;43mself\u001b[39;49m\u001b[38;5;241;43m.\u001b[39;49m\u001b[43mmodel\u001b[49m\u001b[43m,\u001b[49m\n\u001b[1;32m    819\u001b[0m \u001b[43m        \u001b[49m\u001b[43mmini_batch_dict\u001b[49m\u001b[43m[\u001b[49m\u001b[38;5;124;43m\"\u001b[39;49m\u001b[38;5;124;43mqueries\u001b[39;49m\u001b[38;5;124;43m\"\u001b[39;49m\u001b[43m]\u001b[49m\u001b[43m,\u001b[49m\n\u001b[1;32m    820\u001b[0m \u001b[43m        \u001b[49m\u001b[43mmini_batch_dict\u001b[49m\u001b[43m[\u001b[49m\u001b[38;5;124;43m\"\u001b[39;49m\u001b[38;5;124;43mresponses\u001b[39;49m\u001b[38;5;124;43m\"\u001b[39;49m\u001b[43m]\u001b[49m\u001b[43m,\u001b[49m\n\u001b[1;32m    821\u001b[0m \u001b[43m        \u001b[49m\u001b[43mmodel_inputs\u001b[49m\u001b[43m,\u001b[49m\n\u001b[1;32m    822\u001b[0m \u001b[43m        \u001b[49m\u001b[43mreturn_logits\u001b[49m\u001b[38;5;241;43m=\u001b[39;49m\u001b[38;5;28;43;01mTrue\u001b[39;49;00m\u001b[43m,\u001b[49m\n\u001b[1;32m    823\u001b[0m \u001b[43m    \u001b[49m\u001b[43m)\u001b[49m\n\u001b[1;32m    824\u001b[0m     train_stats \u001b[38;5;241m=\u001b[39m \u001b[38;5;28mself\u001b[39m\u001b[38;5;241m.\u001b[39mtrain_minibatch(\n\u001b[1;32m    825\u001b[0m         mini_batch_dict[\u001b[38;5;124m\"\u001b[39m\u001b[38;5;124mlogprobs\u001b[39m\u001b[38;5;124m\"\u001b[39m],\n\u001b[1;32m    826\u001b[0m         mini_batch_dict[\u001b[38;5;124m\"\u001b[39m\u001b[38;5;124mvalues\u001b[39m\u001b[38;5;124m\"\u001b[39m],\n\u001b[0;32m   (...)\u001b[0m\n\u001b[1;32m    832\u001b[0m         mini_batch_dict[\u001b[38;5;124m\"\u001b[39m\u001b[38;5;124mreturns\u001b[39m\u001b[38;5;124m\"\u001b[39m],\n\u001b[1;32m    833\u001b[0m     )\n\u001b[1;32m    834\u001b[0m     all_stats\u001b[38;5;241m.\u001b[39mappend(train_stats)\n",
      "File \u001b[0;32m/usr/lib/python3.8/contextlib.py:75\u001b[0m, in \u001b[0;36mContextDecorator.__call__.<locals>.inner\u001b[0;34m(*args, **kwds)\u001b[0m\n\u001b[1;32m     72\u001b[0m \u001b[38;5;129m@wraps\u001b[39m(func)\n\u001b[1;32m     73\u001b[0m \u001b[38;5;28;01mdef\u001b[39;00m \u001b[38;5;21minner\u001b[39m(\u001b[38;5;241m*\u001b[39margs, \u001b[38;5;241m*\u001b[39m\u001b[38;5;241m*\u001b[39mkwds):\n\u001b[1;32m     74\u001b[0m     \u001b[38;5;28;01mwith\u001b[39;00m \u001b[38;5;28mself\u001b[39m\u001b[38;5;241m.\u001b[39m_recreate_cm():\n\u001b[0;32m---> 75\u001b[0m         \u001b[38;5;28;01mreturn\u001b[39;00m \u001b[43mfunc\u001b[49m\u001b[43m(\u001b[49m\u001b[38;5;241;43m*\u001b[39;49m\u001b[43margs\u001b[49m\u001b[43m,\u001b[49m\u001b[43m \u001b[49m\u001b[38;5;241;43m*\u001b[39;49m\u001b[38;5;241;43m*\u001b[39;49m\u001b[43mkwds\u001b[49m\u001b[43m)\u001b[49m\n",
      "File \u001b[0;32m/usr/local/lib/python3.8/dist-packages/trl/trainer/ppo_trainer.py:1013\u001b[0m, in \u001b[0;36mPPOTrainer.batched_forward_pass\u001b[0;34m(self, model, queries, responses, model_inputs, return_logits, response_masks)\u001b[0m\n\u001b[1;32m   1011\u001b[0m \u001b[38;5;28;01mif\u001b[39;00m response_masks \u001b[38;5;129;01mis\u001b[39;00m \u001b[38;5;129;01mnot\u001b[39;00m \u001b[38;5;28;01mNone\u001b[39;00m:\n\u001b[1;32m   1012\u001b[0m     response_masks_batch \u001b[38;5;241m=\u001b[39m response_masks[i \u001b[38;5;241m*\u001b[39m fbs : (i \u001b[38;5;241m+\u001b[39m \u001b[38;5;241m1\u001b[39m) \u001b[38;5;241m*\u001b[39m fbs]\n\u001b[0;32m-> 1013\u001b[0m logits, _, values \u001b[38;5;241m=\u001b[39m \u001b[43mmodel\u001b[49m\u001b[43m(\u001b[49m\u001b[38;5;241;43m*\u001b[39;49m\u001b[38;5;241;43m*\u001b[39;49m\u001b[43minput_kwargs\u001b[49m\u001b[43m)\u001b[49m\n\u001b[1;32m   1015\u001b[0m \u001b[38;5;28;01mif\u001b[39;00m \u001b[38;5;28mself\u001b[39m\u001b[38;5;241m.\u001b[39mis_encoder_decoder:\n\u001b[1;32m   1016\u001b[0m     input_ids \u001b[38;5;241m=\u001b[39m input_kwargs[\u001b[38;5;124m\"\u001b[39m\u001b[38;5;124mdecoder_input_ids\u001b[39m\u001b[38;5;124m\"\u001b[39m]\n",
      "File \u001b[0;32m/usr/local/lib/python3.8/dist-packages/torch/nn/modules/module.py:1532\u001b[0m, in \u001b[0;36mModule._wrapped_call_impl\u001b[0;34m(self, *args, **kwargs)\u001b[0m\n\u001b[1;32m   1530\u001b[0m     \u001b[38;5;28;01mreturn\u001b[39;00m \u001b[38;5;28mself\u001b[39m\u001b[38;5;241m.\u001b[39m_compiled_call_impl(\u001b[38;5;241m*\u001b[39margs, \u001b[38;5;241m*\u001b[39m\u001b[38;5;241m*\u001b[39mkwargs)  \u001b[38;5;66;03m# type: ignore[misc]\u001b[39;00m\n\u001b[1;32m   1531\u001b[0m \u001b[38;5;28;01melse\u001b[39;00m:\n\u001b[0;32m-> 1532\u001b[0m     \u001b[38;5;28;01mreturn\u001b[39;00m \u001b[38;5;28;43mself\u001b[39;49m\u001b[38;5;241;43m.\u001b[39;49m\u001b[43m_call_impl\u001b[49m\u001b[43m(\u001b[49m\u001b[38;5;241;43m*\u001b[39;49m\u001b[43margs\u001b[49m\u001b[43m,\u001b[49m\u001b[43m \u001b[49m\u001b[38;5;241;43m*\u001b[39;49m\u001b[38;5;241;43m*\u001b[39;49m\u001b[43mkwargs\u001b[49m\u001b[43m)\u001b[49m\n",
      "File \u001b[0;32m/usr/local/lib/python3.8/dist-packages/torch/nn/modules/module.py:1541\u001b[0m, in \u001b[0;36mModule._call_impl\u001b[0;34m(self, *args, **kwargs)\u001b[0m\n\u001b[1;32m   1536\u001b[0m \u001b[38;5;66;03m# If we don't have any hooks, we want to skip the rest of the logic in\u001b[39;00m\n\u001b[1;32m   1537\u001b[0m \u001b[38;5;66;03m# this function, and just call forward.\u001b[39;00m\n\u001b[1;32m   1538\u001b[0m \u001b[38;5;28;01mif\u001b[39;00m \u001b[38;5;129;01mnot\u001b[39;00m (\u001b[38;5;28mself\u001b[39m\u001b[38;5;241m.\u001b[39m_backward_hooks \u001b[38;5;129;01mor\u001b[39;00m \u001b[38;5;28mself\u001b[39m\u001b[38;5;241m.\u001b[39m_backward_pre_hooks \u001b[38;5;129;01mor\u001b[39;00m \u001b[38;5;28mself\u001b[39m\u001b[38;5;241m.\u001b[39m_forward_hooks \u001b[38;5;129;01mor\u001b[39;00m \u001b[38;5;28mself\u001b[39m\u001b[38;5;241m.\u001b[39m_forward_pre_hooks\n\u001b[1;32m   1539\u001b[0m         \u001b[38;5;129;01mor\u001b[39;00m _global_backward_pre_hooks \u001b[38;5;129;01mor\u001b[39;00m _global_backward_hooks\n\u001b[1;32m   1540\u001b[0m         \u001b[38;5;129;01mor\u001b[39;00m _global_forward_hooks \u001b[38;5;129;01mor\u001b[39;00m _global_forward_pre_hooks):\n\u001b[0;32m-> 1541\u001b[0m     \u001b[38;5;28;01mreturn\u001b[39;00m \u001b[43mforward_call\u001b[49m\u001b[43m(\u001b[49m\u001b[38;5;241;43m*\u001b[39;49m\u001b[43margs\u001b[49m\u001b[43m,\u001b[49m\u001b[43m \u001b[49m\u001b[38;5;241;43m*\u001b[39;49m\u001b[38;5;241;43m*\u001b[39;49m\u001b[43mkwargs\u001b[49m\u001b[43m)\u001b[49m\n\u001b[1;32m   1543\u001b[0m \u001b[38;5;28;01mtry\u001b[39;00m:\n\u001b[1;32m   1544\u001b[0m     result \u001b[38;5;241m=\u001b[39m \u001b[38;5;28;01mNone\u001b[39;00m\n",
      "File \u001b[0;32m/usr/local/lib/python3.8/dist-packages/trl/models/modeling_value_head.py:415\u001b[0m, in \u001b[0;36mAutoModelForSeq2SeqLMWithValueHead.forward\u001b[0;34m(self, input_ids, past_key_values, attention_mask, **kwargs)\u001b[0m\n\u001b[1;32m    412\u001b[0m \u001b[38;5;28;01mif\u001b[39;00m \u001b[38;5;28mself\u001b[39m\u001b[38;5;241m.\u001b[39mis_peft_model \u001b[38;5;129;01mand\u001b[39;00m \u001b[38;5;28mself\u001b[39m\u001b[38;5;241m.\u001b[39mpretrained_model\u001b[38;5;241m.\u001b[39mactive_peft_config\u001b[38;5;241m.\u001b[39mpeft_type \u001b[38;5;241m==\u001b[39m \u001b[38;5;124m\"\u001b[39m\u001b[38;5;124mPREFIX_TUNING\u001b[39m\u001b[38;5;124m\"\u001b[39m:\n\u001b[1;32m    413\u001b[0m     kwargs\u001b[38;5;241m.\u001b[39mpop(\u001b[38;5;124m\"\u001b[39m\u001b[38;5;124mpast_key_values\u001b[39m\u001b[38;5;124m\"\u001b[39m)\n\u001b[0;32m--> 415\u001b[0m base_model_output \u001b[38;5;241m=\u001b[39m \u001b[38;5;28;43mself\u001b[39;49m\u001b[38;5;241;43m.\u001b[39;49m\u001b[43mpretrained_model\u001b[49m\u001b[43m(\u001b[49m\n\u001b[1;32m    416\u001b[0m \u001b[43m    \u001b[49m\u001b[43minput_ids\u001b[49m\u001b[38;5;241;43m=\u001b[39;49m\u001b[43minput_ids\u001b[49m\u001b[43m,\u001b[49m\n\u001b[1;32m    417\u001b[0m \u001b[43m    \u001b[49m\u001b[43mattention_mask\u001b[49m\u001b[38;5;241;43m=\u001b[39;49m\u001b[43mattention_mask\u001b[49m\u001b[43m,\u001b[49m\n\u001b[1;32m    418\u001b[0m \u001b[43m    \u001b[49m\u001b[43moutput_hidden_states\u001b[49m\u001b[38;5;241;43m=\u001b[39;49m\u001b[38;5;28;43;01mTrue\u001b[39;49;00m\u001b[43m,\u001b[49m\u001b[43m  \u001b[49m\u001b[38;5;66;43;03m# We force the model to output hidden states\u001b[39;49;00m\n\u001b[1;32m    419\u001b[0m \u001b[43m    \u001b[49m\u001b[38;5;241;43m*\u001b[39;49m\u001b[38;5;241;43m*\u001b[39;49m\u001b[43mkwargs\u001b[49m\u001b[43m,\u001b[49m\n\u001b[1;32m    420\u001b[0m \u001b[43m\u001b[49m\u001b[43m)\u001b[49m\n\u001b[1;32m    422\u001b[0m last_hidden_state \u001b[38;5;241m=\u001b[39m base_model_output\u001b[38;5;241m.\u001b[39mdecoder_hidden_states[\u001b[38;5;241m-\u001b[39m\u001b[38;5;241m1\u001b[39m]\n\u001b[1;32m    423\u001b[0m lm_logits \u001b[38;5;241m=\u001b[39m base_model_output\u001b[38;5;241m.\u001b[39mlogits\n",
      "File \u001b[0;32m/usr/local/lib/python3.8/dist-packages/torch/nn/modules/module.py:1532\u001b[0m, in \u001b[0;36mModule._wrapped_call_impl\u001b[0;34m(self, *args, **kwargs)\u001b[0m\n\u001b[1;32m   1530\u001b[0m     \u001b[38;5;28;01mreturn\u001b[39;00m \u001b[38;5;28mself\u001b[39m\u001b[38;5;241m.\u001b[39m_compiled_call_impl(\u001b[38;5;241m*\u001b[39margs, \u001b[38;5;241m*\u001b[39m\u001b[38;5;241m*\u001b[39mkwargs)  \u001b[38;5;66;03m# type: ignore[misc]\u001b[39;00m\n\u001b[1;32m   1531\u001b[0m \u001b[38;5;28;01melse\u001b[39;00m:\n\u001b[0;32m-> 1532\u001b[0m     \u001b[38;5;28;01mreturn\u001b[39;00m \u001b[38;5;28;43mself\u001b[39;49m\u001b[38;5;241;43m.\u001b[39;49m\u001b[43m_call_impl\u001b[49m\u001b[43m(\u001b[49m\u001b[38;5;241;43m*\u001b[39;49m\u001b[43margs\u001b[49m\u001b[43m,\u001b[49m\u001b[43m \u001b[49m\u001b[38;5;241;43m*\u001b[39;49m\u001b[38;5;241;43m*\u001b[39;49m\u001b[43mkwargs\u001b[49m\u001b[43m)\u001b[49m\n",
      "File \u001b[0;32m/usr/local/lib/python3.8/dist-packages/torch/nn/modules/module.py:1541\u001b[0m, in \u001b[0;36mModule._call_impl\u001b[0;34m(self, *args, **kwargs)\u001b[0m\n\u001b[1;32m   1536\u001b[0m \u001b[38;5;66;03m# If we don't have any hooks, we want to skip the rest of the logic in\u001b[39;00m\n\u001b[1;32m   1537\u001b[0m \u001b[38;5;66;03m# this function, and just call forward.\u001b[39;00m\n\u001b[1;32m   1538\u001b[0m \u001b[38;5;28;01mif\u001b[39;00m \u001b[38;5;129;01mnot\u001b[39;00m (\u001b[38;5;28mself\u001b[39m\u001b[38;5;241m.\u001b[39m_backward_hooks \u001b[38;5;129;01mor\u001b[39;00m \u001b[38;5;28mself\u001b[39m\u001b[38;5;241m.\u001b[39m_backward_pre_hooks \u001b[38;5;129;01mor\u001b[39;00m \u001b[38;5;28mself\u001b[39m\u001b[38;5;241m.\u001b[39m_forward_hooks \u001b[38;5;129;01mor\u001b[39;00m \u001b[38;5;28mself\u001b[39m\u001b[38;5;241m.\u001b[39m_forward_pre_hooks\n\u001b[1;32m   1539\u001b[0m         \u001b[38;5;129;01mor\u001b[39;00m _global_backward_pre_hooks \u001b[38;5;129;01mor\u001b[39;00m _global_backward_hooks\n\u001b[1;32m   1540\u001b[0m         \u001b[38;5;129;01mor\u001b[39;00m _global_forward_hooks \u001b[38;5;129;01mor\u001b[39;00m _global_forward_pre_hooks):\n\u001b[0;32m-> 1541\u001b[0m     \u001b[38;5;28;01mreturn\u001b[39;00m \u001b[43mforward_call\u001b[49m\u001b[43m(\u001b[49m\u001b[38;5;241;43m*\u001b[39;49m\u001b[43margs\u001b[49m\u001b[43m,\u001b[49m\u001b[43m \u001b[49m\u001b[38;5;241;43m*\u001b[39;49m\u001b[38;5;241;43m*\u001b[39;49m\u001b[43mkwargs\u001b[49m\u001b[43m)\u001b[49m\n\u001b[1;32m   1543\u001b[0m \u001b[38;5;28;01mtry\u001b[39;00m:\n\u001b[1;32m   1544\u001b[0m     result \u001b[38;5;241m=\u001b[39m \u001b[38;5;28;01mNone\u001b[39;00m\n",
      "File \u001b[0;32m/usr/local/lib/python3.8/dist-packages/transformers/models/t5/modeling_t5.py:1702\u001b[0m, in \u001b[0;36mT5ForConditionalGeneration.forward\u001b[0;34m(self, input_ids, attention_mask, decoder_input_ids, decoder_attention_mask, head_mask, decoder_head_mask, cross_attn_head_mask, encoder_outputs, past_key_values, inputs_embeds, decoder_inputs_embeds, labels, use_cache, output_attentions, output_hidden_states, return_dict)\u001b[0m\n\u001b[1;32m   1699\u001b[0m \u001b[38;5;66;03m# Encode if needed (training, first prediction pass)\u001b[39;00m\n\u001b[1;32m   1700\u001b[0m \u001b[38;5;28;01mif\u001b[39;00m encoder_outputs \u001b[38;5;129;01mis\u001b[39;00m \u001b[38;5;28;01mNone\u001b[39;00m:\n\u001b[1;32m   1701\u001b[0m     \u001b[38;5;66;03m# Convert encoder inputs in embeddings if needed\u001b[39;00m\n\u001b[0;32m-> 1702\u001b[0m     encoder_outputs \u001b[38;5;241m=\u001b[39m \u001b[38;5;28;43mself\u001b[39;49m\u001b[38;5;241;43m.\u001b[39;49m\u001b[43mencoder\u001b[49m\u001b[43m(\u001b[49m\n\u001b[1;32m   1703\u001b[0m \u001b[43m        \u001b[49m\u001b[43minput_ids\u001b[49m\u001b[38;5;241;43m=\u001b[39;49m\u001b[43minput_ids\u001b[49m\u001b[43m,\u001b[49m\n\u001b[1;32m   1704\u001b[0m \u001b[43m        \u001b[49m\u001b[43mattention_mask\u001b[49m\u001b[38;5;241;43m=\u001b[39;49m\u001b[43mattention_mask\u001b[49m\u001b[43m,\u001b[49m\n\u001b[1;32m   1705\u001b[0m \u001b[43m        \u001b[49m\u001b[43minputs_embeds\u001b[49m\u001b[38;5;241;43m=\u001b[39;49m\u001b[43minputs_embeds\u001b[49m\u001b[43m,\u001b[49m\n\u001b[1;32m   1706\u001b[0m \u001b[43m        \u001b[49m\u001b[43mhead_mask\u001b[49m\u001b[38;5;241;43m=\u001b[39;49m\u001b[43mhead_mask\u001b[49m\u001b[43m,\u001b[49m\n\u001b[1;32m   1707\u001b[0m \u001b[43m        \u001b[49m\u001b[43moutput_attentions\u001b[49m\u001b[38;5;241;43m=\u001b[39;49m\u001b[43moutput_attentions\u001b[49m\u001b[43m,\u001b[49m\n\u001b[1;32m   1708\u001b[0m \u001b[43m        \u001b[49m\u001b[43moutput_hidden_states\u001b[49m\u001b[38;5;241;43m=\u001b[39;49m\u001b[43moutput_hidden_states\u001b[49m\u001b[43m,\u001b[49m\n\u001b[1;32m   1709\u001b[0m \u001b[43m        \u001b[49m\u001b[43mreturn_dict\u001b[49m\u001b[38;5;241;43m=\u001b[39;49m\u001b[43mreturn_dict\u001b[49m\u001b[43m,\u001b[49m\n\u001b[1;32m   1710\u001b[0m \u001b[43m    \u001b[49m\u001b[43m)\u001b[49m\n\u001b[1;32m   1711\u001b[0m \u001b[38;5;28;01melif\u001b[39;00m return_dict \u001b[38;5;129;01mand\u001b[39;00m \u001b[38;5;129;01mnot\u001b[39;00m \u001b[38;5;28misinstance\u001b[39m(encoder_outputs, BaseModelOutput):\n\u001b[1;32m   1712\u001b[0m     encoder_outputs \u001b[38;5;241m=\u001b[39m BaseModelOutput(\n\u001b[1;32m   1713\u001b[0m         last_hidden_state\u001b[38;5;241m=\u001b[39mencoder_outputs[\u001b[38;5;241m0\u001b[39m],\n\u001b[1;32m   1714\u001b[0m         hidden_states\u001b[38;5;241m=\u001b[39mencoder_outputs[\u001b[38;5;241m1\u001b[39m] \u001b[38;5;28;01mif\u001b[39;00m \u001b[38;5;28mlen\u001b[39m(encoder_outputs) \u001b[38;5;241m>\u001b[39m \u001b[38;5;241m1\u001b[39m \u001b[38;5;28;01melse\u001b[39;00m \u001b[38;5;28;01mNone\u001b[39;00m,\n\u001b[1;32m   1715\u001b[0m         attentions\u001b[38;5;241m=\u001b[39mencoder_outputs[\u001b[38;5;241m2\u001b[39m] \u001b[38;5;28;01mif\u001b[39;00m \u001b[38;5;28mlen\u001b[39m(encoder_outputs) \u001b[38;5;241m>\u001b[39m \u001b[38;5;241m2\u001b[39m \u001b[38;5;28;01melse\u001b[39;00m \u001b[38;5;28;01mNone\u001b[39;00m,\n\u001b[1;32m   1716\u001b[0m     )\n",
      "File \u001b[0;32m/usr/local/lib/python3.8/dist-packages/torch/nn/modules/module.py:1532\u001b[0m, in \u001b[0;36mModule._wrapped_call_impl\u001b[0;34m(self, *args, **kwargs)\u001b[0m\n\u001b[1;32m   1530\u001b[0m     \u001b[38;5;28;01mreturn\u001b[39;00m \u001b[38;5;28mself\u001b[39m\u001b[38;5;241m.\u001b[39m_compiled_call_impl(\u001b[38;5;241m*\u001b[39margs, \u001b[38;5;241m*\u001b[39m\u001b[38;5;241m*\u001b[39mkwargs)  \u001b[38;5;66;03m# type: ignore[misc]\u001b[39;00m\n\u001b[1;32m   1531\u001b[0m \u001b[38;5;28;01melse\u001b[39;00m:\n\u001b[0;32m-> 1532\u001b[0m     \u001b[38;5;28;01mreturn\u001b[39;00m \u001b[38;5;28;43mself\u001b[39;49m\u001b[38;5;241;43m.\u001b[39;49m\u001b[43m_call_impl\u001b[49m\u001b[43m(\u001b[49m\u001b[38;5;241;43m*\u001b[39;49m\u001b[43margs\u001b[49m\u001b[43m,\u001b[49m\u001b[43m \u001b[49m\u001b[38;5;241;43m*\u001b[39;49m\u001b[38;5;241;43m*\u001b[39;49m\u001b[43mkwargs\u001b[49m\u001b[43m)\u001b[49m\n",
      "File \u001b[0;32m/usr/local/lib/python3.8/dist-packages/torch/nn/modules/module.py:1541\u001b[0m, in \u001b[0;36mModule._call_impl\u001b[0;34m(self, *args, **kwargs)\u001b[0m\n\u001b[1;32m   1536\u001b[0m \u001b[38;5;66;03m# If we don't have any hooks, we want to skip the rest of the logic in\u001b[39;00m\n\u001b[1;32m   1537\u001b[0m \u001b[38;5;66;03m# this function, and just call forward.\u001b[39;00m\n\u001b[1;32m   1538\u001b[0m \u001b[38;5;28;01mif\u001b[39;00m \u001b[38;5;129;01mnot\u001b[39;00m (\u001b[38;5;28mself\u001b[39m\u001b[38;5;241m.\u001b[39m_backward_hooks \u001b[38;5;129;01mor\u001b[39;00m \u001b[38;5;28mself\u001b[39m\u001b[38;5;241m.\u001b[39m_backward_pre_hooks \u001b[38;5;129;01mor\u001b[39;00m \u001b[38;5;28mself\u001b[39m\u001b[38;5;241m.\u001b[39m_forward_hooks \u001b[38;5;129;01mor\u001b[39;00m \u001b[38;5;28mself\u001b[39m\u001b[38;5;241m.\u001b[39m_forward_pre_hooks\n\u001b[1;32m   1539\u001b[0m         \u001b[38;5;129;01mor\u001b[39;00m _global_backward_pre_hooks \u001b[38;5;129;01mor\u001b[39;00m _global_backward_hooks\n\u001b[1;32m   1540\u001b[0m         \u001b[38;5;129;01mor\u001b[39;00m _global_forward_hooks \u001b[38;5;129;01mor\u001b[39;00m _global_forward_pre_hooks):\n\u001b[0;32m-> 1541\u001b[0m     \u001b[38;5;28;01mreturn\u001b[39;00m \u001b[43mforward_call\u001b[49m\u001b[43m(\u001b[49m\u001b[38;5;241;43m*\u001b[39;49m\u001b[43margs\u001b[49m\u001b[43m,\u001b[49m\u001b[43m \u001b[49m\u001b[38;5;241;43m*\u001b[39;49m\u001b[38;5;241;43m*\u001b[39;49m\u001b[43mkwargs\u001b[49m\u001b[43m)\u001b[49m\n\u001b[1;32m   1543\u001b[0m \u001b[38;5;28;01mtry\u001b[39;00m:\n\u001b[1;32m   1544\u001b[0m     result \u001b[38;5;241m=\u001b[39m \u001b[38;5;28;01mNone\u001b[39;00m\n",
      "File \u001b[0;32m/usr/local/lib/python3.8/dist-packages/transformers/models/t5/modeling_t5.py:1106\u001b[0m, in \u001b[0;36mT5Stack.forward\u001b[0;34m(self, input_ids, attention_mask, encoder_hidden_states, encoder_attention_mask, inputs_embeds, head_mask, cross_attn_head_mask, past_key_values, use_cache, output_attentions, output_hidden_states, return_dict)\u001b[0m\n\u001b[1;32m   1091\u001b[0m     layer_outputs \u001b[38;5;241m=\u001b[39m \u001b[38;5;28mself\u001b[39m\u001b[38;5;241m.\u001b[39m_gradient_checkpointing_func(\n\u001b[1;32m   1092\u001b[0m         layer_module\u001b[38;5;241m.\u001b[39mforward,\n\u001b[1;32m   1093\u001b[0m         hidden_states,\n\u001b[0;32m   (...)\u001b[0m\n\u001b[1;32m   1103\u001b[0m         output_attentions,\n\u001b[1;32m   1104\u001b[0m     )\n\u001b[1;32m   1105\u001b[0m \u001b[38;5;28;01melse\u001b[39;00m:\n\u001b[0;32m-> 1106\u001b[0m     layer_outputs \u001b[38;5;241m=\u001b[39m \u001b[43mlayer_module\u001b[49m\u001b[43m(\u001b[49m\n\u001b[1;32m   1107\u001b[0m \u001b[43m        \u001b[49m\u001b[43mhidden_states\u001b[49m\u001b[43m,\u001b[49m\n\u001b[1;32m   1108\u001b[0m \u001b[43m        \u001b[49m\u001b[43mattention_mask\u001b[49m\u001b[38;5;241;43m=\u001b[39;49m\u001b[43mextended_attention_mask\u001b[49m\u001b[43m,\u001b[49m\n\u001b[1;32m   1109\u001b[0m \u001b[43m        \u001b[49m\u001b[43mposition_bias\u001b[49m\u001b[38;5;241;43m=\u001b[39;49m\u001b[43mposition_bias\u001b[49m\u001b[43m,\u001b[49m\n\u001b[1;32m   1110\u001b[0m \u001b[43m        \u001b[49m\u001b[43mencoder_hidden_states\u001b[49m\u001b[38;5;241;43m=\u001b[39;49m\u001b[43mencoder_hidden_states\u001b[49m\u001b[43m,\u001b[49m\n\u001b[1;32m   1111\u001b[0m \u001b[43m        \u001b[49m\u001b[43mencoder_attention_mask\u001b[49m\u001b[38;5;241;43m=\u001b[39;49m\u001b[43mencoder_extended_attention_mask\u001b[49m\u001b[43m,\u001b[49m\n\u001b[1;32m   1112\u001b[0m \u001b[43m        \u001b[49m\u001b[43mencoder_decoder_position_bias\u001b[49m\u001b[38;5;241;43m=\u001b[39;49m\u001b[43mencoder_decoder_position_bias\u001b[49m\u001b[43m,\u001b[49m\n\u001b[1;32m   1113\u001b[0m \u001b[43m        \u001b[49m\u001b[43mlayer_head_mask\u001b[49m\u001b[38;5;241;43m=\u001b[39;49m\u001b[43mlayer_head_mask\u001b[49m\u001b[43m,\u001b[49m\n\u001b[1;32m   1114\u001b[0m \u001b[43m        \u001b[49m\u001b[43mcross_attn_layer_head_mask\u001b[49m\u001b[38;5;241;43m=\u001b[39;49m\u001b[43mcross_attn_layer_head_mask\u001b[49m\u001b[43m,\u001b[49m\n\u001b[1;32m   1115\u001b[0m \u001b[43m        \u001b[49m\u001b[43mpast_key_value\u001b[49m\u001b[38;5;241;43m=\u001b[39;49m\u001b[43mpast_key_value\u001b[49m\u001b[43m,\u001b[49m\n\u001b[1;32m   1116\u001b[0m \u001b[43m        \u001b[49m\u001b[43muse_cache\u001b[49m\u001b[38;5;241;43m=\u001b[39;49m\u001b[43muse_cache\u001b[49m\u001b[43m,\u001b[49m\n\u001b[1;32m   1117\u001b[0m \u001b[43m        \u001b[49m\u001b[43moutput_attentions\u001b[49m\u001b[38;5;241;43m=\u001b[39;49m\u001b[43moutput_attentions\u001b[49m\u001b[43m,\u001b[49m\n\u001b[1;32m   1118\u001b[0m \u001b[43m    \u001b[49m\u001b[43m)\u001b[49m\n\u001b[1;32m   1120\u001b[0m \u001b[38;5;66;03m# layer_outputs is a tuple with:\u001b[39;00m\n\u001b[1;32m   1121\u001b[0m \u001b[38;5;66;03m# hidden-states, key-value-states, (self-attention position bias), (self-attention weights), (cross-attention position bias), (cross-attention weights)\u001b[39;00m\n\u001b[1;32m   1122\u001b[0m \u001b[38;5;28;01mif\u001b[39;00m use_cache \u001b[38;5;129;01mis\u001b[39;00m \u001b[38;5;28;01mFalse\u001b[39;00m:\n",
      "File \u001b[0;32m/usr/local/lib/python3.8/dist-packages/torch/nn/modules/module.py:1532\u001b[0m, in \u001b[0;36mModule._wrapped_call_impl\u001b[0;34m(self, *args, **kwargs)\u001b[0m\n\u001b[1;32m   1530\u001b[0m     \u001b[38;5;28;01mreturn\u001b[39;00m \u001b[38;5;28mself\u001b[39m\u001b[38;5;241m.\u001b[39m_compiled_call_impl(\u001b[38;5;241m*\u001b[39margs, \u001b[38;5;241m*\u001b[39m\u001b[38;5;241m*\u001b[39mkwargs)  \u001b[38;5;66;03m# type: ignore[misc]\u001b[39;00m\n\u001b[1;32m   1531\u001b[0m \u001b[38;5;28;01melse\u001b[39;00m:\n\u001b[0;32m-> 1532\u001b[0m     \u001b[38;5;28;01mreturn\u001b[39;00m \u001b[38;5;28;43mself\u001b[39;49m\u001b[38;5;241;43m.\u001b[39;49m\u001b[43m_call_impl\u001b[49m\u001b[43m(\u001b[49m\u001b[38;5;241;43m*\u001b[39;49m\u001b[43margs\u001b[49m\u001b[43m,\u001b[49m\u001b[43m \u001b[49m\u001b[38;5;241;43m*\u001b[39;49m\u001b[38;5;241;43m*\u001b[39;49m\u001b[43mkwargs\u001b[49m\u001b[43m)\u001b[49m\n",
      "File \u001b[0;32m/usr/local/lib/python3.8/dist-packages/torch/nn/modules/module.py:1541\u001b[0m, in \u001b[0;36mModule._call_impl\u001b[0;34m(self, *args, **kwargs)\u001b[0m\n\u001b[1;32m   1536\u001b[0m \u001b[38;5;66;03m# If we don't have any hooks, we want to skip the rest of the logic in\u001b[39;00m\n\u001b[1;32m   1537\u001b[0m \u001b[38;5;66;03m# this function, and just call forward.\u001b[39;00m\n\u001b[1;32m   1538\u001b[0m \u001b[38;5;28;01mif\u001b[39;00m \u001b[38;5;129;01mnot\u001b[39;00m (\u001b[38;5;28mself\u001b[39m\u001b[38;5;241m.\u001b[39m_backward_hooks \u001b[38;5;129;01mor\u001b[39;00m \u001b[38;5;28mself\u001b[39m\u001b[38;5;241m.\u001b[39m_backward_pre_hooks \u001b[38;5;129;01mor\u001b[39;00m \u001b[38;5;28mself\u001b[39m\u001b[38;5;241m.\u001b[39m_forward_hooks \u001b[38;5;129;01mor\u001b[39;00m \u001b[38;5;28mself\u001b[39m\u001b[38;5;241m.\u001b[39m_forward_pre_hooks\n\u001b[1;32m   1539\u001b[0m         \u001b[38;5;129;01mor\u001b[39;00m _global_backward_pre_hooks \u001b[38;5;129;01mor\u001b[39;00m _global_backward_hooks\n\u001b[1;32m   1540\u001b[0m         \u001b[38;5;129;01mor\u001b[39;00m _global_forward_hooks \u001b[38;5;129;01mor\u001b[39;00m _global_forward_pre_hooks):\n\u001b[0;32m-> 1541\u001b[0m     \u001b[38;5;28;01mreturn\u001b[39;00m \u001b[43mforward_call\u001b[49m\u001b[43m(\u001b[49m\u001b[38;5;241;43m*\u001b[39;49m\u001b[43margs\u001b[49m\u001b[43m,\u001b[49m\u001b[43m \u001b[49m\u001b[38;5;241;43m*\u001b[39;49m\u001b[38;5;241;43m*\u001b[39;49m\u001b[43mkwargs\u001b[49m\u001b[43m)\u001b[49m\n\u001b[1;32m   1543\u001b[0m \u001b[38;5;28;01mtry\u001b[39;00m:\n\u001b[1;32m   1544\u001b[0m     result \u001b[38;5;241m=\u001b[39m \u001b[38;5;28;01mNone\u001b[39;00m\n",
      "File \u001b[0;32m/usr/local/lib/python3.8/dist-packages/transformers/models/t5/modeling_t5.py:686\u001b[0m, in \u001b[0;36mT5Block.forward\u001b[0;34m(self, hidden_states, attention_mask, position_bias, encoder_hidden_states, encoder_attention_mask, encoder_decoder_position_bias, layer_head_mask, cross_attn_layer_head_mask, past_key_value, use_cache, output_attentions, return_dict)\u001b[0m\n\u001b[1;32m    683\u001b[0m \u001b[38;5;28;01melse\u001b[39;00m:\n\u001b[1;32m    684\u001b[0m     self_attn_past_key_value, cross_attn_past_key_value \u001b[38;5;241m=\u001b[39m \u001b[38;5;28;01mNone\u001b[39;00m, \u001b[38;5;28;01mNone\u001b[39;00m\n\u001b[0;32m--> 686\u001b[0m self_attention_outputs \u001b[38;5;241m=\u001b[39m \u001b[38;5;28;43mself\u001b[39;49m\u001b[38;5;241;43m.\u001b[39;49m\u001b[43mlayer\u001b[49m\u001b[43m[\u001b[49m\u001b[38;5;241;43m0\u001b[39;49m\u001b[43m]\u001b[49m\u001b[43m(\u001b[49m\n\u001b[1;32m    687\u001b[0m \u001b[43m    \u001b[49m\u001b[43mhidden_states\u001b[49m\u001b[43m,\u001b[49m\n\u001b[1;32m    688\u001b[0m \u001b[43m    \u001b[49m\u001b[43mattention_mask\u001b[49m\u001b[38;5;241;43m=\u001b[39;49m\u001b[43mattention_mask\u001b[49m\u001b[43m,\u001b[49m\n\u001b[1;32m    689\u001b[0m \u001b[43m    \u001b[49m\u001b[43mposition_bias\u001b[49m\u001b[38;5;241;43m=\u001b[39;49m\u001b[43mposition_bias\u001b[49m\u001b[43m,\u001b[49m\n\u001b[1;32m    690\u001b[0m \u001b[43m    \u001b[49m\u001b[43mlayer_head_mask\u001b[49m\u001b[38;5;241;43m=\u001b[39;49m\u001b[43mlayer_head_mask\u001b[49m\u001b[43m,\u001b[49m\n\u001b[1;32m    691\u001b[0m \u001b[43m    \u001b[49m\u001b[43mpast_key_value\u001b[49m\u001b[38;5;241;43m=\u001b[39;49m\u001b[43mself_attn_past_key_value\u001b[49m\u001b[43m,\u001b[49m\n\u001b[1;32m    692\u001b[0m \u001b[43m    \u001b[49m\u001b[43muse_cache\u001b[49m\u001b[38;5;241;43m=\u001b[39;49m\u001b[43muse_cache\u001b[49m\u001b[43m,\u001b[49m\n\u001b[1;32m    693\u001b[0m \u001b[43m    \u001b[49m\u001b[43moutput_attentions\u001b[49m\u001b[38;5;241;43m=\u001b[39;49m\u001b[43moutput_attentions\u001b[49m\u001b[43m,\u001b[49m\n\u001b[1;32m    694\u001b[0m \u001b[43m\u001b[49m\u001b[43m)\u001b[49m\n\u001b[1;32m    695\u001b[0m hidden_states, present_key_value_state \u001b[38;5;241m=\u001b[39m self_attention_outputs[:\u001b[38;5;241m2\u001b[39m]\n\u001b[1;32m    696\u001b[0m attention_outputs \u001b[38;5;241m=\u001b[39m self_attention_outputs[\u001b[38;5;241m2\u001b[39m:]  \u001b[38;5;66;03m# Keep self-attention outputs and relative position weights\u001b[39;00m\n",
      "File \u001b[0;32m/usr/local/lib/python3.8/dist-packages/torch/nn/modules/module.py:1532\u001b[0m, in \u001b[0;36mModule._wrapped_call_impl\u001b[0;34m(self, *args, **kwargs)\u001b[0m\n\u001b[1;32m   1530\u001b[0m     \u001b[38;5;28;01mreturn\u001b[39;00m \u001b[38;5;28mself\u001b[39m\u001b[38;5;241m.\u001b[39m_compiled_call_impl(\u001b[38;5;241m*\u001b[39margs, \u001b[38;5;241m*\u001b[39m\u001b[38;5;241m*\u001b[39mkwargs)  \u001b[38;5;66;03m# type: ignore[misc]\u001b[39;00m\n\u001b[1;32m   1531\u001b[0m \u001b[38;5;28;01melse\u001b[39;00m:\n\u001b[0;32m-> 1532\u001b[0m     \u001b[38;5;28;01mreturn\u001b[39;00m \u001b[38;5;28;43mself\u001b[39;49m\u001b[38;5;241;43m.\u001b[39;49m\u001b[43m_call_impl\u001b[49m\u001b[43m(\u001b[49m\u001b[38;5;241;43m*\u001b[39;49m\u001b[43margs\u001b[49m\u001b[43m,\u001b[49m\u001b[43m \u001b[49m\u001b[38;5;241;43m*\u001b[39;49m\u001b[38;5;241;43m*\u001b[39;49m\u001b[43mkwargs\u001b[49m\u001b[43m)\u001b[49m\n",
      "File \u001b[0;32m/usr/local/lib/python3.8/dist-packages/torch/nn/modules/module.py:1541\u001b[0m, in \u001b[0;36mModule._call_impl\u001b[0;34m(self, *args, **kwargs)\u001b[0m\n\u001b[1;32m   1536\u001b[0m \u001b[38;5;66;03m# If we don't have any hooks, we want to skip the rest of the logic in\u001b[39;00m\n\u001b[1;32m   1537\u001b[0m \u001b[38;5;66;03m# this function, and just call forward.\u001b[39;00m\n\u001b[1;32m   1538\u001b[0m \u001b[38;5;28;01mif\u001b[39;00m \u001b[38;5;129;01mnot\u001b[39;00m (\u001b[38;5;28mself\u001b[39m\u001b[38;5;241m.\u001b[39m_backward_hooks \u001b[38;5;129;01mor\u001b[39;00m \u001b[38;5;28mself\u001b[39m\u001b[38;5;241m.\u001b[39m_backward_pre_hooks \u001b[38;5;129;01mor\u001b[39;00m \u001b[38;5;28mself\u001b[39m\u001b[38;5;241m.\u001b[39m_forward_hooks \u001b[38;5;129;01mor\u001b[39;00m \u001b[38;5;28mself\u001b[39m\u001b[38;5;241m.\u001b[39m_forward_pre_hooks\n\u001b[1;32m   1539\u001b[0m         \u001b[38;5;129;01mor\u001b[39;00m _global_backward_pre_hooks \u001b[38;5;129;01mor\u001b[39;00m _global_backward_hooks\n\u001b[1;32m   1540\u001b[0m         \u001b[38;5;129;01mor\u001b[39;00m _global_forward_hooks \u001b[38;5;129;01mor\u001b[39;00m _global_forward_pre_hooks):\n\u001b[0;32m-> 1541\u001b[0m     \u001b[38;5;28;01mreturn\u001b[39;00m \u001b[43mforward_call\u001b[49m\u001b[43m(\u001b[49m\u001b[38;5;241;43m*\u001b[39;49m\u001b[43margs\u001b[49m\u001b[43m,\u001b[49m\u001b[43m \u001b[49m\u001b[38;5;241;43m*\u001b[39;49m\u001b[38;5;241;43m*\u001b[39;49m\u001b[43mkwargs\u001b[49m\u001b[43m)\u001b[49m\n\u001b[1;32m   1543\u001b[0m \u001b[38;5;28;01mtry\u001b[39;00m:\n\u001b[1;32m   1544\u001b[0m     result \u001b[38;5;241m=\u001b[39m \u001b[38;5;28;01mNone\u001b[39;00m\n",
      "File \u001b[0;32m/usr/local/lib/python3.8/dist-packages/transformers/models/t5/modeling_t5.py:593\u001b[0m, in \u001b[0;36mT5LayerSelfAttention.forward\u001b[0;34m(self, hidden_states, attention_mask, position_bias, layer_head_mask, past_key_value, use_cache, output_attentions)\u001b[0m\n\u001b[1;32m    582\u001b[0m \u001b[38;5;28;01mdef\u001b[39;00m \u001b[38;5;21mforward\u001b[39m(\n\u001b[1;32m    583\u001b[0m     \u001b[38;5;28mself\u001b[39m,\n\u001b[1;32m    584\u001b[0m     hidden_states,\n\u001b[0;32m   (...)\u001b[0m\n\u001b[1;32m    590\u001b[0m     output_attentions\u001b[38;5;241m=\u001b[39m\u001b[38;5;28;01mFalse\u001b[39;00m,\n\u001b[1;32m    591\u001b[0m ):\n\u001b[1;32m    592\u001b[0m     normed_hidden_states \u001b[38;5;241m=\u001b[39m \u001b[38;5;28mself\u001b[39m\u001b[38;5;241m.\u001b[39mlayer_norm(hidden_states)\n\u001b[0;32m--> 593\u001b[0m     attention_output \u001b[38;5;241m=\u001b[39m \u001b[38;5;28;43mself\u001b[39;49m\u001b[38;5;241;43m.\u001b[39;49m\u001b[43mSelfAttention\u001b[49m\u001b[43m(\u001b[49m\n\u001b[1;32m    594\u001b[0m \u001b[43m        \u001b[49m\u001b[43mnormed_hidden_states\u001b[49m\u001b[43m,\u001b[49m\n\u001b[1;32m    595\u001b[0m \u001b[43m        \u001b[49m\u001b[43mmask\u001b[49m\u001b[38;5;241;43m=\u001b[39;49m\u001b[43mattention_mask\u001b[49m\u001b[43m,\u001b[49m\n\u001b[1;32m    596\u001b[0m \u001b[43m        \u001b[49m\u001b[43mposition_bias\u001b[49m\u001b[38;5;241;43m=\u001b[39;49m\u001b[43mposition_bias\u001b[49m\u001b[43m,\u001b[49m\n\u001b[1;32m    597\u001b[0m \u001b[43m        \u001b[49m\u001b[43mlayer_head_mask\u001b[49m\u001b[38;5;241;43m=\u001b[39;49m\u001b[43mlayer_head_mask\u001b[49m\u001b[43m,\u001b[49m\n\u001b[1;32m    598\u001b[0m \u001b[43m        \u001b[49m\u001b[43mpast_key_value\u001b[49m\u001b[38;5;241;43m=\u001b[39;49m\u001b[43mpast_key_value\u001b[49m\u001b[43m,\u001b[49m\n\u001b[1;32m    599\u001b[0m \u001b[43m        \u001b[49m\u001b[43muse_cache\u001b[49m\u001b[38;5;241;43m=\u001b[39;49m\u001b[43muse_cache\u001b[49m\u001b[43m,\u001b[49m\n\u001b[1;32m    600\u001b[0m \u001b[43m        \u001b[49m\u001b[43moutput_attentions\u001b[49m\u001b[38;5;241;43m=\u001b[39;49m\u001b[43moutput_attentions\u001b[49m\u001b[43m,\u001b[49m\n\u001b[1;32m    601\u001b[0m \u001b[43m    \u001b[49m\u001b[43m)\u001b[49m\n\u001b[1;32m    602\u001b[0m     hidden_states \u001b[38;5;241m=\u001b[39m hidden_states \u001b[38;5;241m+\u001b[39m \u001b[38;5;28mself\u001b[39m\u001b[38;5;241m.\u001b[39mdropout(attention_output[\u001b[38;5;241m0\u001b[39m])\n\u001b[1;32m    603\u001b[0m     outputs \u001b[38;5;241m=\u001b[39m (hidden_states,) \u001b[38;5;241m+\u001b[39m attention_output[\u001b[38;5;241m1\u001b[39m:]  \u001b[38;5;66;03m# add attentions if we output them\u001b[39;00m\n",
      "File \u001b[0;32m/usr/local/lib/python3.8/dist-packages/torch/nn/modules/module.py:1532\u001b[0m, in \u001b[0;36mModule._wrapped_call_impl\u001b[0;34m(self, *args, **kwargs)\u001b[0m\n\u001b[1;32m   1530\u001b[0m     \u001b[38;5;28;01mreturn\u001b[39;00m \u001b[38;5;28mself\u001b[39m\u001b[38;5;241m.\u001b[39m_compiled_call_impl(\u001b[38;5;241m*\u001b[39margs, \u001b[38;5;241m*\u001b[39m\u001b[38;5;241m*\u001b[39mkwargs)  \u001b[38;5;66;03m# type: ignore[misc]\u001b[39;00m\n\u001b[1;32m   1531\u001b[0m \u001b[38;5;28;01melse\u001b[39;00m:\n\u001b[0;32m-> 1532\u001b[0m     \u001b[38;5;28;01mreturn\u001b[39;00m \u001b[38;5;28;43mself\u001b[39;49m\u001b[38;5;241;43m.\u001b[39;49m\u001b[43m_call_impl\u001b[49m\u001b[43m(\u001b[49m\u001b[38;5;241;43m*\u001b[39;49m\u001b[43margs\u001b[49m\u001b[43m,\u001b[49m\u001b[43m \u001b[49m\u001b[38;5;241;43m*\u001b[39;49m\u001b[38;5;241;43m*\u001b[39;49m\u001b[43mkwargs\u001b[49m\u001b[43m)\u001b[49m\n",
      "File \u001b[0;32m/usr/local/lib/python3.8/dist-packages/torch/nn/modules/module.py:1541\u001b[0m, in \u001b[0;36mModule._call_impl\u001b[0;34m(self, *args, **kwargs)\u001b[0m\n\u001b[1;32m   1536\u001b[0m \u001b[38;5;66;03m# If we don't have any hooks, we want to skip the rest of the logic in\u001b[39;00m\n\u001b[1;32m   1537\u001b[0m \u001b[38;5;66;03m# this function, and just call forward.\u001b[39;00m\n\u001b[1;32m   1538\u001b[0m \u001b[38;5;28;01mif\u001b[39;00m \u001b[38;5;129;01mnot\u001b[39;00m (\u001b[38;5;28mself\u001b[39m\u001b[38;5;241m.\u001b[39m_backward_hooks \u001b[38;5;129;01mor\u001b[39;00m \u001b[38;5;28mself\u001b[39m\u001b[38;5;241m.\u001b[39m_backward_pre_hooks \u001b[38;5;129;01mor\u001b[39;00m \u001b[38;5;28mself\u001b[39m\u001b[38;5;241m.\u001b[39m_forward_hooks \u001b[38;5;129;01mor\u001b[39;00m \u001b[38;5;28mself\u001b[39m\u001b[38;5;241m.\u001b[39m_forward_pre_hooks\n\u001b[1;32m   1539\u001b[0m         \u001b[38;5;129;01mor\u001b[39;00m _global_backward_pre_hooks \u001b[38;5;129;01mor\u001b[39;00m _global_backward_hooks\n\u001b[1;32m   1540\u001b[0m         \u001b[38;5;129;01mor\u001b[39;00m _global_forward_hooks \u001b[38;5;129;01mor\u001b[39;00m _global_forward_pre_hooks):\n\u001b[0;32m-> 1541\u001b[0m     \u001b[38;5;28;01mreturn\u001b[39;00m \u001b[43mforward_call\u001b[49m\u001b[43m(\u001b[49m\u001b[38;5;241;43m*\u001b[39;49m\u001b[43margs\u001b[49m\u001b[43m,\u001b[49m\u001b[43m \u001b[49m\u001b[38;5;241;43m*\u001b[39;49m\u001b[38;5;241;43m*\u001b[39;49m\u001b[43mkwargs\u001b[49m\u001b[43m)\u001b[49m\n\u001b[1;32m   1543\u001b[0m \u001b[38;5;28;01mtry\u001b[39;00m:\n\u001b[1;32m   1544\u001b[0m     result \u001b[38;5;241m=\u001b[39m \u001b[38;5;28;01mNone\u001b[39;00m\n",
      "File \u001b[0;32m/usr/local/lib/python3.8/dist-packages/transformers/models/t5/modeling_t5.py:564\u001b[0m, in \u001b[0;36mT5Attention.forward\u001b[0;34m(self, hidden_states, mask, key_value_states, position_bias, past_key_value, layer_head_mask, query_length, use_cache, output_attentions)\u001b[0m\n\u001b[1;32m    561\u001b[0m \u001b[38;5;28;01mif\u001b[39;00m layer_head_mask \u001b[38;5;129;01mis\u001b[39;00m \u001b[38;5;129;01mnot\u001b[39;00m \u001b[38;5;28;01mNone\u001b[39;00m:\n\u001b[1;32m    562\u001b[0m     attn_weights \u001b[38;5;241m=\u001b[39m attn_weights \u001b[38;5;241m*\u001b[39m layer_head_mask\n\u001b[0;32m--> 564\u001b[0m attn_output \u001b[38;5;241m=\u001b[39m \u001b[43munshape\u001b[49m\u001b[43m(\u001b[49m\u001b[43mtorch\u001b[49m\u001b[38;5;241;43m.\u001b[39;49m\u001b[43mmatmul\u001b[49m\u001b[43m(\u001b[49m\u001b[43mattn_weights\u001b[49m\u001b[43m,\u001b[49m\u001b[43m \u001b[49m\u001b[43mvalue_states\u001b[49m\u001b[43m)\u001b[49m\u001b[43m)\u001b[49m  \u001b[38;5;66;03m# (batch_size, seq_length, dim)\u001b[39;00m\n\u001b[1;32m    565\u001b[0m attn_output \u001b[38;5;241m=\u001b[39m \u001b[38;5;28mself\u001b[39m\u001b[38;5;241m.\u001b[39mo(attn_output)\n\u001b[1;32m    567\u001b[0m present_key_value_state \u001b[38;5;241m=\u001b[39m (key_states, value_states) \u001b[38;5;28;01mif\u001b[39;00m (\u001b[38;5;28mself\u001b[39m\u001b[38;5;241m.\u001b[39mis_decoder \u001b[38;5;129;01mand\u001b[39;00m use_cache) \u001b[38;5;28;01melse\u001b[39;00m \u001b[38;5;28;01mNone\u001b[39;00m\n",
      "File \u001b[0;32m/usr/local/lib/python3.8/dist-packages/transformers/models/t5/modeling_t5.py:482\u001b[0m, in \u001b[0;36mT5Attention.forward.<locals>.unshape\u001b[0;34m(states)\u001b[0m\n\u001b[1;32m    480\u001b[0m \u001b[38;5;28;01mdef\u001b[39;00m \u001b[38;5;21munshape\u001b[39m(states):\n\u001b[1;32m    481\u001b[0m \u001b[38;5;250m    \u001b[39m\u001b[38;5;124;03m\"\"\"reshape\"\"\"\u001b[39;00m\n\u001b[0;32m--> 482\u001b[0m     \u001b[38;5;28;01mreturn\u001b[39;00m \u001b[43mstates\u001b[49m\u001b[38;5;241;43m.\u001b[39;49m\u001b[43mtranspose\u001b[49m\u001b[43m(\u001b[49m\u001b[38;5;241;43m1\u001b[39;49m\u001b[43m,\u001b[49m\u001b[43m \u001b[49m\u001b[38;5;241;43m2\u001b[39;49m\u001b[43m)\u001b[49m\u001b[38;5;241;43m.\u001b[39;49m\u001b[43mcontiguous\u001b[49m\u001b[43m(\u001b[49m\u001b[43m)\u001b[49m\u001b[38;5;241m.\u001b[39mview(batch_size, \u001b[38;5;241m-\u001b[39m\u001b[38;5;241m1\u001b[39m, \u001b[38;5;28mself\u001b[39m\u001b[38;5;241m.\u001b[39minner_dim)\n",
      "\u001b[0;31mOutOfMemoryError\u001b[0m: CUDA out of memory. Tried to allocate 138.00 MiB. GPU "
     ]
    }
   ],
   "source": [
    "# output_min_length = 4\n",
    "# output_max_length = 16\n",
    "# output_length_sampler = LengthSampler(output_min_length, output_max_length)\n",
    "\n",
    "generation_kwargs = {\n",
    "    \"min_length\": -1,\n",
    "    \"top_k\": 0.0,\n",
    "    \"top_p\": 0.7,\n",
    "    \"temperature\": 0.95, # This one is set implicitly in SFTTrainer as well.\n",
    "    \"do_sample\": True,\n",
    "    \"pad_token_id\": tokenizer.eos_token_id,\n",
    "}\n",
    "\n",
    "\n",
    "for epoch, batch in tqdm(enumerate(ppo_trainer.dataloader)): # Need the specific type of data_collator\n",
    "    print(f\"\\nStart Epoch {epoch}\")\n",
    "    # print(batch)\n",
    "    query_tensors = batch[\"input_ids\"]\n",
    "    attention_masks = batch[\"attention_mask\"]\n",
    "    # attention_masks = [query_tensors != tokenizer.pad_token_id]\n",
    "    # print(attention_masks)\n",
    "\n",
    "    #### Get response from gpt2\n",
    "    response_tensors = []\n",
    "    for i, query in enumerate(query_tensors):\n",
    "        # gen_len = output_length_sampler()\n",
    "        generation_kwargs[\"max_new_tokens\"] = 32\n",
    "        # print(attention_masks[i])\n",
    "        response = ppo_trainer.generate(query, **generation_kwargs, attention_mask=attention_masks[i].unsqueeze(0))\n",
    "        response_tensors.append(response.squeeze()[-32:])\n",
    "    batch[\"response\"] = [tokenizer.decode(r.squeeze()) for r in response_tensors]\n",
    "\n",
    "    #### Compute sentiment score\n",
    "    texts = [q + r for q, r in zip(batch[\"query\"], batch[\"response\"])]\n",
    "    pipe_outputs = sentiment_pipe(texts, **sent_kwargs)\n",
    "    rewards = [torch.tensor(output[1][\"score\"]) for output in pipe_outputs]\n",
    "    print(f\"Rewards: {rewards}\")\n",
    "\n",
    "    #### Run PPO step\n",
    "    stats = ppo_trainer.step(query_tensors, response_tensors, rewards)\n",
    "    ppo_trainer.log_stats(stats, batch, rewards)"
   ]
  },
  {
   "cell_type": "code",
   "execution_count": null,
   "id": "b11e6c1d",
   "metadata": {},
   "outputs": [],
   "source": []
  },
  {
   "cell_type": "code",
   "execution_count": null,
   "id": "52a086cf",
   "metadata": {},
   "outputs": [],
   "source": []
  },
  {
   "cell_type": "code",
   "execution_count": null,
   "id": "6ba6f644-370b-4340-9753-91426cef6232",
   "metadata": {},
   "outputs": [],
   "source": []
  },
  {
   "cell_type": "code",
   "execution_count": null,
   "id": "81de80fe-2fba-494f-a28e-343a79c93790",
   "metadata": {},
   "outputs": [],
   "source": []
  },
  {
   "cell_type": "code",
   "execution_count": null,
   "id": "d4d015e9-9a04-4b17-ac0c-e246745d1211",
   "metadata": {},
   "outputs": [],
   "source": []
  },
  {
   "cell_type": "code",
   "execution_count": null,
   "id": "364608a4-748a-4dbe-b736-694b13f30ab8",
   "metadata": {},
   "outputs": [],
   "source": []
  }
 ],
 "metadata": {
  "kernelspec": {
   "display_name": "Python 3 (ipykernel)",
   "language": "python",
   "name": "python3"
  },
  "language_info": {
   "codemirror_mode": {
    "name": "ipython",
    "version": 3
   },
   "file_extension": ".py",
   "mimetype": "text/x-python",
   "name": "python",
   "nbconvert_exporter": "python",
   "pygments_lexer": "ipython3",
   "version": "3.9.12"
  }
 },
 "nbformat": 4,
 "nbformat_minor": 5
}
