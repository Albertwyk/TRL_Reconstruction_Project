{
 "cells": [
  {
   "cell_type": "code",
   "execution_count": 1,
   "id": "24f8fdb6-0a16-4d2f-ac78-f53d6b6c9dd8",
   "metadata": {
    "collapsed": true
   },
   "outputs": [
    {
     "name": "stdout",
     "output_type": "stream",
     "text": [
      "Requirement already satisfied: trl in /usr/local/lib/python3.8/dist-packages (0.9.4)\n",
      "Requirement already satisfied: accelerate in /usr/local/lib/python3.8/dist-packages (from trl) (0.31.0)\n",
      "Requirement already satisfied: tyro>=0.5.11 in /usr/local/lib/python3.8/dist-packages (from trl) (0.8.5)\n",
      "Requirement already satisfied: torch>=1.4.0 in /usr/local/lib/python3.8/dist-packages (from trl) (2.3.1)\n",
      "Requirement already satisfied: datasets in /usr/local/lib/python3.8/dist-packages (from trl) (2.20.0)\n",
      "Requirement already satisfied: transformers>=4.31.0 in /usr/local/lib/python3.8/dist-packages (from trl) (4.42.3)\n",
      "Requirement already satisfied: numpy>=1.18.2 in /usr/local/lib/python3.8/dist-packages (from trl) (1.24.4)\n",
      "Requirement already satisfied: psutil in /usr/local/lib/python3.8/dist-packages (from accelerate->trl) (5.9.8)\n",
      "Requirement already satisfied: safetensors>=0.3.1 in /usr/local/lib/python3.8/dist-packages (from accelerate->trl) (0.4.3)\n",
      "Requirement already satisfied: pyyaml in /usr/local/lib/python3.8/dist-packages (from accelerate->trl) (6.0.1)\n",
      "Requirement already satisfied: packaging>=20.0 in /usr/local/lib/python3.8/dist-packages (from accelerate->trl) (23.2)\n",
      "Requirement already satisfied: huggingface-hub in /usr/local/lib/python3.8/dist-packages (from accelerate->trl) (0.23.4)\n",
      "Requirement already satisfied: rich>=11.1.0 in /usr/local/lib/python3.8/dist-packages (from tyro>=0.5.11->trl) (13.7.1)\n",
      "Requirement already satisfied: shtab>=1.5.6 in /usr/local/lib/python3.8/dist-packages (from tyro>=0.5.11->trl) (1.7.1)\n",
      "Requirement already satisfied: docstring-parser>=0.16 in /usr/local/lib/python3.8/dist-packages (from tyro>=0.5.11->trl) (0.16)\n",
      "Requirement already satisfied: typing-extensions>=4.7.0 in /usr/local/lib/python3.8/dist-packages (from tyro>=0.5.11->trl) (4.9.0)\n",
      "Requirement already satisfied: eval-type-backport>=0.1.3; python_version < \"3.10\" in /usr/local/lib/python3.8/dist-packages (from tyro>=0.5.11->trl) (0.2.0)\n",
      "Requirement already satisfied: nvidia-cuda-runtime-cu12==12.1.105; platform_system == \"Linux\" and platform_machine == \"x86_64\" in /usr/local/lib/python3.8/dist-packages (from torch>=1.4.0->trl) (12.1.105)\n",
      "Requirement already satisfied: triton==2.3.1; platform_system == \"Linux\" and platform_machine == \"x86_64\" and python_version < \"3.12\" in /usr/local/lib/python3.8/dist-packages (from torch>=1.4.0->trl) (2.3.1)\n",
      "Requirement already satisfied: nvidia-cuda-cupti-cu12==12.1.105; platform_system == \"Linux\" and platform_machine == \"x86_64\" in /usr/local/lib/python3.8/dist-packages (from torch>=1.4.0->trl) (12.1.105)\n",
      "Requirement already satisfied: nvidia-cuda-nvrtc-cu12==12.1.105; platform_system == \"Linux\" and platform_machine == \"x86_64\" in /usr/local/lib/python3.8/dist-packages (from torch>=1.4.0->trl) (12.1.105)\n",
      "Requirement already satisfied: nvidia-cublas-cu12==12.1.3.1; platform_system == \"Linux\" and platform_machine == \"x86_64\" in /usr/local/lib/python3.8/dist-packages (from torch>=1.4.0->trl) (12.1.3.1)\n",
      "Requirement already satisfied: fsspec in /usr/local/lib/python3.8/dist-packages (from torch>=1.4.0->trl) (2024.5.0)\n",
      "Requirement already satisfied: nvidia-nccl-cu12==2.20.5; platform_system == \"Linux\" and platform_machine == \"x86_64\" in /usr/local/lib/python3.8/dist-packages (from torch>=1.4.0->trl) (2.20.5)\n",
      "Requirement already satisfied: networkx in /usr/local/lib/python3.8/dist-packages (from torch>=1.4.0->trl) (3.1)\n",
      "Requirement already satisfied: nvidia-cufft-cu12==11.0.2.54; platform_system == \"Linux\" and platform_machine == \"x86_64\" in /usr/local/lib/python3.8/dist-packages (from torch>=1.4.0->trl) (11.0.2.54)\n",
      "Requirement already satisfied: nvidia-nvtx-cu12==12.1.105; platform_system == \"Linux\" and platform_machine == \"x86_64\" in /usr/local/lib/python3.8/dist-packages (from torch>=1.4.0->trl) (12.1.105)\n",
      "Requirement already satisfied: nvidia-curand-cu12==10.3.2.106; platform_system == \"Linux\" and platform_machine == \"x86_64\" in /usr/local/lib/python3.8/dist-packages (from torch>=1.4.0->trl) (10.3.2.106)\n",
      "Requirement already satisfied: filelock in /usr/local/lib/python3.8/dist-packages (from torch>=1.4.0->trl) (3.15.4)\n",
      "Requirement already satisfied: sympy in /usr/local/lib/python3.8/dist-packages (from torch>=1.4.0->trl) (1.12.1)\n",
      "Requirement already satisfied: nvidia-cusparse-cu12==12.1.0.106; platform_system == \"Linux\" and platform_machine == \"x86_64\" in /usr/local/lib/python3.8/dist-packages (from torch>=1.4.0->trl) (12.1.0.106)\n",
      "Requirement already satisfied: nvidia-cudnn-cu12==8.9.2.26; platform_system == \"Linux\" and platform_machine == \"x86_64\" in /usr/local/lib/python3.8/dist-packages (from torch>=1.4.0->trl) (8.9.2.26)\n",
      "Requirement already satisfied: nvidia-cusolver-cu12==11.4.5.107; platform_system == \"Linux\" and platform_machine == \"x86_64\" in /usr/local/lib/python3.8/dist-packages (from torch>=1.4.0->trl) (11.4.5.107)\n",
      "Requirement already satisfied: jinja2 in /usr/local/lib/python3.8/dist-packages (from torch>=1.4.0->trl) (3.1.3)\n",
      "Requirement already satisfied: dill<0.3.9,>=0.3.0 in /usr/local/lib/python3.8/dist-packages (from datasets->trl) (0.3.8)\n",
      "Requirement already satisfied: pandas in /usr/local/lib/python3.8/dist-packages (from datasets->trl) (2.0.3)\n",
      "Requirement already satisfied: aiohttp in /usr/local/lib/python3.8/dist-packages (from datasets->trl) (3.9.5)\n",
      "Requirement already satisfied: tqdm>=4.66.3 in /usr/local/lib/python3.8/dist-packages (from datasets->trl) (4.66.4)\n",
      "Requirement already satisfied: xxhash in /usr/local/lib/python3.8/dist-packages (from datasets->trl) (3.4.1)\n",
      "Requirement already satisfied: multiprocess in /usr/local/lib/python3.8/dist-packages (from datasets->trl) (0.70.16)\n",
      "Requirement already satisfied: pyarrow-hotfix in /usr/local/lib/python3.8/dist-packages (from datasets->trl) (0.6)\n",
      "Requirement already satisfied: pyarrow>=15.0.0 in /usr/local/lib/python3.8/dist-packages (from datasets->trl) (16.1.0)\n",
      "Requirement already satisfied: requests>=2.32.2 in /usr/local/lib/python3.8/dist-packages (from datasets->trl) (2.32.3)\n",
      "Requirement already satisfied: regex!=2019.12.17 in /usr/local/lib/python3.8/dist-packages (from transformers>=4.31.0->trl) (2024.5.15)\n",
      "Requirement already satisfied: tokenizers<0.20,>=0.19 in /usr/local/lib/python3.8/dist-packages (from transformers>=4.31.0->trl) (0.19.1)\n",
      "Requirement already satisfied: markdown-it-py>=2.2.0 in /usr/local/lib/python3.8/dist-packages (from rich>=11.1.0->tyro>=0.5.11->trl) (3.0.0)\n",
      "Requirement already satisfied: pygments<3.0.0,>=2.13.0 in /usr/local/lib/python3.8/dist-packages (from rich>=11.1.0->tyro>=0.5.11->trl) (2.17.2)\n",
      "Requirement already satisfied: mpmath<1.4.0,>=1.1.0 in /usr/local/lib/python3.8/dist-packages (from sympy->torch>=1.4.0->trl) (1.3.0)\n",
      "Requirement already satisfied: nvidia-nvjitlink-cu12 in /usr/local/lib/python3.8/dist-packages (from nvidia-cusparse-cu12==12.1.0.106; platform_system == \"Linux\" and platform_machine == \"x86_64\"->torch>=1.4.0->trl) (12.5.82)\n",
      "Requirement already satisfied: MarkupSafe>=2.0 in /usr/local/lib/python3.8/dist-packages (from jinja2->torch>=1.4.0->trl) (2.1.4)\n",
      "Requirement already satisfied: python-dateutil>=2.8.2 in /usr/local/lib/python3.8/dist-packages (from pandas->datasets->trl) (2.8.2)\n",
      "Requirement already satisfied: pytz>=2020.1 in /usr/local/lib/python3.8/dist-packages (from pandas->datasets->trl) (2023.3.post1)\n",
      "Requirement already satisfied: tzdata>=2022.1 in /usr/local/lib/python3.8/dist-packages (from pandas->datasets->trl) (2024.1)\n",
      "Requirement already satisfied: aiosignal>=1.1.2 in /usr/local/lib/python3.8/dist-packages (from aiohttp->datasets->trl) (1.3.1)\n",
      "Requirement already satisfied: multidict<7.0,>=4.5 in /usr/local/lib/python3.8/dist-packages (from aiohttp->datasets->trl) (6.0.5)\n",
      "Requirement already satisfied: frozenlist>=1.1.1 in /usr/local/lib/python3.8/dist-packages (from aiohttp->datasets->trl) (1.4.1)\n",
      "Requirement already satisfied: yarl<2.0,>=1.0 in /usr/local/lib/python3.8/dist-packages (from aiohttp->datasets->trl) (1.9.4)\n",
      "Requirement already satisfied: attrs>=17.3.0 in /usr/local/lib/python3.8/dist-packages (from aiohttp->datasets->trl) (23.2.0)\n",
      "Requirement already satisfied: async-timeout<5.0,>=4.0; python_version < \"3.11\" in /usr/local/lib/python3.8/dist-packages (from aiohttp->datasets->trl) (4.0.3)\n",
      "Requirement already satisfied: certifi>=2017.4.17 in /usr/lib/python3/dist-packages (from requests>=2.32.2->datasets->trl) (2019.11.28)\n",
      "Requirement already satisfied: charset-normalizer<4,>=2 in /usr/local/lib/python3.8/dist-packages (from requests>=2.32.2->datasets->trl) (3.3.2)\n",
      "Requirement already satisfied: urllib3<3,>=1.21.1 in /usr/lib/python3/dist-packages (from requests>=2.32.2->datasets->trl) (1.25.8)\n",
      "Requirement already satisfied: idna<4,>=2.5 in /usr/lib/python3/dist-packages (from requests>=2.32.2->datasets->trl) (2.8)\n",
      "Requirement already satisfied: mdurl~=0.1 in /usr/local/lib/python3.8/dist-packages (from markdown-it-py>=2.2.0->rich>=11.1.0->tyro>=0.5.11->trl) (0.1.2)\n",
      "Requirement already satisfied: six>=1.5 in /usr/lib/python3/dist-packages (from python-dateutil>=2.8.2->pandas->datasets->trl) (1.14.0)\n"
     ]
    }
   ],
   "source": [
    "!pip install trl"
   ]
  },
  {
   "cell_type": "code",
   "execution_count": 5,
   "id": "8ac2311e-c1a2-4242-9e9b-fa3092a86ac5",
   "metadata": {
    "collapsed": true
   },
   "outputs": [
    {
     "name": "stdout",
     "output_type": "stream",
     "text": [
      "Collecting datasets\n",
      "  Using cached datasets-2.20.0-py3-none-any.whl (547 kB)\n",
      "Requirement already satisfied: tqdm>=4.66.3 in /usr/local/lib/python3.8/dist-packages (from datasets) (4.66.4)\n",
      "Collecting multiprocess\n",
      "  Using cached multiprocess-0.70.16-py38-none-any.whl (132 kB)\n",
      "Collecting pyarrow-hotfix\n",
      "  Using cached pyarrow_hotfix-0.6-py3-none-any.whl (7.9 kB)\n",
      "Requirement already satisfied: pyyaml>=5.1 in /usr/local/lib/python3.8/dist-packages (from datasets) (6.0.1)\n",
      "Collecting xxhash\n",
      "  Using cached xxhash-3.4.1-cp38-cp38-manylinux_2_17_x86_64.manylinux2014_x86_64.whl (194 kB)\n",
      "Collecting dill<0.3.9,>=0.3.0\n",
      "  Using cached dill-0.3.8-py3-none-any.whl (116 kB)\n",
      "Collecting requests>=2.32.2\n",
      "  Downloading requests-2.32.3-py3-none-any.whl (64 kB)\n",
      "\u001b[K     |████████████████████████████████| 64 kB 1.1 MB/s eta 0:00:01\n",
      "\u001b[?25hCollecting pandas\n",
      "  Using cached pandas-2.0.3-cp38-cp38-manylinux_2_17_x86_64.manylinux2014_x86_64.whl (12.4 MB)\n",
      "Requirement already satisfied: huggingface-hub>=0.21.2 in /usr/local/lib/python3.8/dist-packages (from datasets) (0.23.4)\n",
      "Requirement already satisfied: packaging in /usr/local/lib/python3.8/dist-packages (from datasets) (23.2)\n",
      "Requirement already satisfied: filelock in /usr/local/lib/python3.8/dist-packages (from datasets) (3.15.4)\n",
      "Collecting pyarrow>=15.0.0\n",
      "  Using cached pyarrow-16.1.0-cp38-cp38-manylinux_2_17_x86_64.manylinux2014_x86_64.whl (41.0 MB)\n",
      "Requirement already satisfied: numpy>=1.17 in /usr/local/lib/python3.8/dist-packages (from datasets) (1.24.4)\n",
      "Requirement already satisfied: aiohttp in /usr/local/lib/python3.8/dist-packages (from datasets) (3.9.5)\n",
      "Requirement already satisfied: fsspec[http]<=2024.5.0,>=2023.1.0 in /usr/local/lib/python3.8/dist-packages (from datasets) (2024.5.0)\n",
      "Requirement already satisfied: certifi>=2017.4.17 in /usr/lib/python3/dist-packages (from requests>=2.32.2->datasets) (2019.11.28)\n",
      "Requirement already satisfied: idna<4,>=2.5 in /usr/lib/python3/dist-packages (from requests>=2.32.2->datasets) (2.8)\n",
      "Requirement already satisfied: charset-normalizer<4,>=2 in /usr/local/lib/python3.8/dist-packages (from requests>=2.32.2->datasets) (3.3.2)\n",
      "Requirement already satisfied: urllib3<3,>=1.21.1 in /usr/lib/python3/dist-packages (from requests>=2.32.2->datasets) (1.25.8)\n",
      "Requirement already satisfied: python-dateutil>=2.8.2 in /usr/local/lib/python3.8/dist-packages (from pandas->datasets) (2.8.2)\n",
      "Requirement already satisfied: pytz>=2020.1 in /usr/local/lib/python3.8/dist-packages (from pandas->datasets) (2023.3.post1)\n",
      "Collecting tzdata>=2022.1\n",
      "  Using cached tzdata-2024.1-py2.py3-none-any.whl (345 kB)\n",
      "Requirement already satisfied: typing-extensions>=3.7.4.3 in /usr/local/lib/python3.8/dist-packages (from huggingface-hub>=0.21.2->datasets) (4.9.0)\n",
      "Requirement already satisfied: async-timeout<5.0,>=4.0; python_version < \"3.11\" in /usr/local/lib/python3.8/dist-packages (from aiohttp->datasets) (4.0.3)\n",
      "Requirement already satisfied: multidict<7.0,>=4.5 in /usr/local/lib/python3.8/dist-packages (from aiohttp->datasets) (6.0.5)\n",
      "Requirement already satisfied: attrs>=17.3.0 in /usr/local/lib/python3.8/dist-packages (from aiohttp->datasets) (23.2.0)\n",
      "Requirement already satisfied: aiosignal>=1.1.2 in /usr/local/lib/python3.8/dist-packages (from aiohttp->datasets) (1.3.1)\n",
      "Requirement already satisfied: frozenlist>=1.1.1 in /usr/local/lib/python3.8/dist-packages (from aiohttp->datasets) (1.4.1)\n",
      "Requirement already satisfied: yarl<2.0,>=1.0 in /usr/local/lib/python3.8/dist-packages (from aiohttp->datasets) (1.9.4)\n",
      "Requirement already satisfied: six>=1.5 in /usr/lib/python3/dist-packages (from python-dateutil>=2.8.2->pandas->datasets) (1.14.0)\n",
      "Installing collected packages: dill, multiprocess, pyarrow-hotfix, xxhash, requests, tzdata, pandas, pyarrow, datasets\n",
      "  Attempting uninstall: requests\n",
      "    Found existing installation: requests 2.31.0\n",
      "    Uninstalling requests-2.31.0:\n",
      "      Successfully uninstalled requests-2.31.0\n",
      "Successfully installed datasets-2.20.0 dill-0.3.8 multiprocess-0.70.16 pandas-2.0.3 pyarrow-16.1.0 pyarrow-hotfix-0.6 requests-2.32.3 tzdata-2024.1 xxhash-3.4.1\n"
     ]
    }
   ],
   "source": [
    "!pip install datasets"
   ]
  },
  {
   "cell_type": "code",
   "execution_count": 6,
   "id": "d62389ae-feba-444a-afc9-fcb808b69b53",
   "metadata": {
    "collapsed": true
   },
   "outputs": [
    {
     "name": "stdout",
     "output_type": "stream",
     "text": [
      "Collecting sentencepiece\n",
      "  Downloading sentencepiece-0.2.0-cp38-cp38-manylinux_2_17_x86_64.manylinux2014_x86_64.whl (1.3 MB)\n",
      "\u001b[K     |████████████████████████████████| 1.3 MB 972 kB/s eta 0:00:01\n",
      "\u001b[?25hInstalling collected packages: sentencepiece\n",
      "Successfully installed sentencepiece-0.2.0\n"
     ]
    }
   ],
   "source": [
    "!pip install sentencepiece"
   ]
  },
  {
   "cell_type": "code",
   "execution_count": 7,
   "id": "a5f987e2-3b2f-41c5-a6ac-deac3af6e813",
   "metadata": {
    "collapsed": true
   },
   "outputs": [
    {
     "name": "stdout",
     "output_type": "stream",
     "text": [
      "Collecting peft\n",
      "  Using cached peft-0.11.1-py3-none-any.whl (251 kB)\n",
      "Requirement already satisfied: safetensors in /usr/local/lib/python3.8/dist-packages (from peft) (0.4.3)\n",
      "Requirement already satisfied: transformers in /usr/local/lib/python3.8/dist-packages (from peft) (4.42.3)\n",
      "Requirement already satisfied: torch>=1.13.0 in /usr/local/lib/python3.8/dist-packages (from peft) (2.3.1)\n",
      "Requirement already satisfied: packaging>=20.0 in /usr/local/lib/python3.8/dist-packages (from peft) (23.2)\n",
      "Requirement already satisfied: tqdm in /usr/local/lib/python3.8/dist-packages (from peft) (4.66.4)\n",
      "Requirement already satisfied: psutil in /usr/local/lib/python3.8/dist-packages (from peft) (5.9.8)\n",
      "Requirement already satisfied: pyyaml in /usr/local/lib/python3.8/dist-packages (from peft) (6.0.1)\n",
      "Requirement already satisfied: numpy>=1.17 in /usr/local/lib/python3.8/dist-packages (from peft) (1.24.4)\n",
      "Requirement already satisfied: huggingface-hub>=0.17.0 in /usr/local/lib/python3.8/dist-packages (from peft) (0.23.4)\n",
      "Requirement already satisfied: accelerate>=0.21.0 in /usr/local/lib/python3.8/dist-packages (from peft) (0.31.0)\n",
      "Requirement already satisfied: tokenizers<0.20,>=0.19 in /usr/local/lib/python3.8/dist-packages (from transformers->peft) (0.19.1)\n",
      "Requirement already satisfied: filelock in /usr/local/lib/python3.8/dist-packages (from transformers->peft) (3.15.4)\n",
      "Requirement already satisfied: regex!=2019.12.17 in /usr/local/lib/python3.8/dist-packages (from transformers->peft) (2024.5.15)\n",
      "Requirement already satisfied: requests in /usr/local/lib/python3.8/dist-packages (from transformers->peft) (2.32.3)\n",
      "Requirement already satisfied: jinja2 in /usr/local/lib/python3.8/dist-packages (from torch>=1.13.0->peft) (3.1.3)\n",
      "Requirement already satisfied: nvidia-cudnn-cu12==8.9.2.26; platform_system == \"Linux\" and platform_machine == \"x86_64\" in /usr/local/lib/python3.8/dist-packages (from torch>=1.13.0->peft) (8.9.2.26)\n",
      "Requirement already satisfied: sympy in /usr/local/lib/python3.8/dist-packages (from torch>=1.13.0->peft) (1.12.1)\n",
      "Requirement already satisfied: nvidia-curand-cu12==10.3.2.106; platform_system == \"Linux\" and platform_machine == \"x86_64\" in /usr/local/lib/python3.8/dist-packages (from torch>=1.13.0->peft) (10.3.2.106)\n",
      "Requirement already satisfied: nvidia-cuda-nvrtc-cu12==12.1.105; platform_system == \"Linux\" and platform_machine == \"x86_64\" in /usr/local/lib/python3.8/dist-packages (from torch>=1.13.0->peft) (12.1.105)\n",
      "Requirement already satisfied: nvidia-cuda-cupti-cu12==12.1.105; platform_system == \"Linux\" and platform_machine == \"x86_64\" in /usr/local/lib/python3.8/dist-packages (from torch>=1.13.0->peft) (12.1.105)\n",
      "Requirement already satisfied: nvidia-nccl-cu12==2.20.5; platform_system == \"Linux\" and platform_machine == \"x86_64\" in /usr/local/lib/python3.8/dist-packages (from torch>=1.13.0->peft) (2.20.5)\n",
      "Requirement already satisfied: triton==2.3.1; platform_system == \"Linux\" and platform_machine == \"x86_64\" and python_version < \"3.12\" in /usr/local/lib/python3.8/dist-packages (from torch>=1.13.0->peft) (2.3.1)\n",
      "Requirement already satisfied: networkx in /usr/local/lib/python3.8/dist-packages (from torch>=1.13.0->peft) (3.1)\n",
      "Requirement already satisfied: nvidia-cusolver-cu12==11.4.5.107; platform_system == \"Linux\" and platform_machine == \"x86_64\" in /usr/local/lib/python3.8/dist-packages (from torch>=1.13.0->peft) (11.4.5.107)\n",
      "Requirement already satisfied: nvidia-cuda-runtime-cu12==12.1.105; platform_system == \"Linux\" and platform_machine == \"x86_64\" in /usr/local/lib/python3.8/dist-packages (from torch>=1.13.0->peft) (12.1.105)\n",
      "Requirement already satisfied: nvidia-cusparse-cu12==12.1.0.106; platform_system == \"Linux\" and platform_machine == \"x86_64\" in /usr/local/lib/python3.8/dist-packages (from torch>=1.13.0->peft) (12.1.0.106)\n",
      "Requirement already satisfied: nvidia-nvtx-cu12==12.1.105; platform_system == \"Linux\" and platform_machine == \"x86_64\" in /usr/local/lib/python3.8/dist-packages (from torch>=1.13.0->peft) (12.1.105)\n",
      "Requirement already satisfied: typing-extensions>=4.8.0 in /usr/local/lib/python3.8/dist-packages (from torch>=1.13.0->peft) (4.9.0)\n",
      "Requirement already satisfied: nvidia-cufft-cu12==11.0.2.54; platform_system == \"Linux\" and platform_machine == \"x86_64\" in /usr/local/lib/python3.8/dist-packages (from torch>=1.13.0->peft) (11.0.2.54)\n",
      "Requirement already satisfied: nvidia-cublas-cu12==12.1.3.1; platform_system == \"Linux\" and platform_machine == \"x86_64\" in /usr/local/lib/python3.8/dist-packages (from torch>=1.13.0->peft) (12.1.3.1)\n",
      "Requirement already satisfied: fsspec in /usr/local/lib/python3.8/dist-packages (from torch>=1.13.0->peft) (2024.5.0)\n",
      "Requirement already satisfied: certifi>=2017.4.17 in /usr/lib/python3/dist-packages (from requests->transformers->peft) (2019.11.28)\n",
      "Requirement already satisfied: charset-normalizer<4,>=2 in /usr/local/lib/python3.8/dist-packages (from requests->transformers->peft) (3.3.2)\n",
      "Requirement already satisfied: urllib3<3,>=1.21.1 in /usr/lib/python3/dist-packages (from requests->transformers->peft) (1.25.8)\n",
      "Requirement already satisfied: idna<4,>=2.5 in /usr/lib/python3/dist-packages (from requests->transformers->peft) (2.8)\n",
      "Requirement already satisfied: MarkupSafe>=2.0 in /usr/local/lib/python3.8/dist-packages (from jinja2->torch>=1.13.0->peft) (2.1.4)\n",
      "Requirement already satisfied: mpmath<1.4.0,>=1.1.0 in /usr/local/lib/python3.8/dist-packages (from sympy->torch>=1.13.0->peft) (1.3.0)\n",
      "Requirement already satisfied: nvidia-nvjitlink-cu12 in /usr/local/lib/python3.8/dist-packages (from nvidia-cusolver-cu12==11.4.5.107; platform_system == \"Linux\" and platform_machine == \"x86_64\"->torch>=1.13.0->peft) (12.5.82)\n",
      "Installing collected packages: peft\n",
      "Successfully installed peft-0.11.1\n"
     ]
    }
   ],
   "source": [
    "!pip install peft"
   ]
  },
  {
   "cell_type": "code",
   "execution_count": 8,
   "id": "3af57564-65a4-44ec-b000-d3e159553d4a",
   "metadata": {
    "collapsed": true
   },
   "outputs": [
    {
     "name": "stdout",
     "output_type": "stream",
     "text": [
      "Collecting tensorboardX\n",
      "  Downloading tensorboardX-2.6.2.2-py2.py3-none-any.whl (101 kB)\n",
      "\u001b[K     |████████████████████████████████| 101 kB 1.3 MB/s ta 0:00:01\n",
      "\u001b[?25hRequirement already satisfied: packaging in /usr/local/lib/python3.8/dist-packages (from tensorboardX) (23.2)\n",
      "Requirement already satisfied: numpy in /usr/local/lib/python3.8/dist-packages (from tensorboardX) (1.24.4)\n",
      "Collecting protobuf>=3.20\n",
      "  Downloading protobuf-5.27.2-cp38-abi3-manylinux2014_x86_64.whl (309 kB)\n",
      "\u001b[K     |████████████████████████████████| 309 kB 5.4 MB/s eta 0:00:01\n",
      "\u001b[?25hInstalling collected packages: protobuf, tensorboardX\n",
      "Successfully installed protobuf-5.27.2 tensorboardX-2.6.2.2\n"
     ]
    }
   ],
   "source": [
    "!pip install tensorboardX"
   ]
  },
  {
   "cell_type": "code",
   "execution_count": 1,
   "id": "7b3be55d-d361-4992-9a3b-e7ebb639fe2d",
   "metadata": {},
   "outputs": [],
   "source": [
    "from datasets import load_dataset\n",
    "from peft import LoraConfig, get_peft_model"
   ]
  },
  {
   "cell_type": "markdown",
   "id": "1876afc6-1a78-45ad-828f-644ad3674ca0",
   "metadata": {},
   "source": [
    "**Note:**\n",
    "\n",
    "Add pad_token to resolve `AssertionError`: Cannot handle batch sizes > 1 if no padding token is defined."
   ]
  },
  {
   "cell_type": "code",
   "execution_count": 2,
   "id": "a6fe4973-a69e-4a0b-823d-7944e7bb6b3b",
   "metadata": {},
   "outputs": [
    {
     "data": {
      "text/plain": [
       "DatasetDict({\n",
       "    train: Dataset({\n",
       "        features: ['weibo', 'text_j', 'text_k', 'text_j_like', 'text_k_like'],\n",
       "        num_rows: 9985\n",
       "    })\n",
       "    validation: Dataset({\n",
       "        features: ['weibo', 'text_j', 'text_k', 'text_j_like', 'text_k_like'],\n",
       "        num_rows: 3451\n",
       "    })\n",
       "    test: Dataset({\n",
       "        features: ['weibo', 'text_j', 'text_k', 'text_j_like', 'text_k_like'],\n",
       "        num_rows: 7249\n",
       "    })\n",
       "})"
      ]
     },
     "execution_count": 2,
     "metadata": {},
     "output_type": "execute_result"
    }
   ],
   "source": [
    "rm_dataset = load_dataset(\"gen_rm_dataset.py\", trust_remote_code=True)\n",
    "rm_dataset"
   ]
  },
  {
   "cell_type": "code",
   "execution_count": 3,
   "id": "d4a87359-f215-4685-94e1-e8d65d7a0f1c",
   "metadata": {},
   "outputs": [],
   "source": [
    "def preprocess_function(examples):\n",
    "    new_examples = {\n",
    "        \"input_ids_chosen\": [],\n",
    "        \"attention_mask_chosen\": [],\n",
    "        \"input_ids_rejected\": [],\n",
    "        \"attention_mask_rejected\": [],\n",
    "    }\n",
    "    for text_j, text_k, text_j_like, text_k_like in zip(examples[\"text_j\"], examples[\"text_k\"], examples[\"text_j_like\"], examples[\"text_k_like\"]):\n",
    "        if text_j_like >= text_k_like:\n",
    "            chosen = text_j\n",
    "            rejected = text_k\n",
    "        else:\n",
    "            chosen = text_k\n",
    "            rejected = text_j        \n",
    "        \n",
    "        tokenized_chosen = tokenizer(chosen, padding=\"max_length\", max_length=32, truncation=True) # Same Problem as SFT\n",
    "        tokenized_rejected = tokenizer(rejected, padding=\"max_length\", max_length=32, truncation=True) # Same Problem as SFT\n",
    "\n",
    "        new_examples[\"input_ids_chosen\"].append(tokenized_chosen[\"input_ids\"])\n",
    "        new_examples[\"attention_mask_chosen\"].append(tokenized_chosen[\"attention_mask\"])\n",
    "        new_examples[\"input_ids_rejected\"].append(tokenized_rejected[\"input_ids\"])\n",
    "        new_examples[\"attention_mask_rejected\"].append(tokenized_rejected[\"attention_mask\"])\n",
    "\n",
    "    return new_examples"
   ]
  },
  {
   "cell_type": "code",
   "execution_count": 4,
   "id": "ba8c88f2-c337-4ea4-acb4-4a1a38bbcf1d",
   "metadata": {},
   "outputs": [
    {
     "name": "stderr",
     "output_type": "stream",
     "text": [
      "Some weights of GPT2ForSequenceClassification were not initialized from the model checkpoint at gpt2 and are newly initialized: ['score.weight']\n",
      "You should probably TRAIN this model on a down-stream task to be able to use it for predictions and inference.\n"
     ]
    }
   ],
   "source": [
    "from transformers import AutoModelForSequenceClassification, AutoTokenizer\n",
    "\n",
    "# Initial Reward Model\n",
    "rm_model = AutoModelForSequenceClassification.from_pretrained(\"gpt2\")\n",
    "\n",
    "# Initial Tokenizer for RM\n",
    "tokenizer = AutoTokenizer.from_pretrained(\"gpt2\", use_fast=True)\n",
    "tokenizer.pad_token = tokenizer.eos_token\n",
    "rm_model.config.pad_token_id = tokenizer.pad_token_id # Suggested by Claude 3.5 Sonnet"
   ]
  },
  {
   "cell_type": "code",
   "execution_count": 5,
   "id": "c3358283-88bb-48eb-b72a-a92cd3a7055c",
   "metadata": {},
   "outputs": [],
   "source": [
    "# Preprocess the dataset\n",
    "rm_dataset = rm_dataset.map(\n",
    "    preprocess_function,\n",
    "    batched=True,\n",
    "    num_proc=4,\n",
    ")"
   ]
  },
  {
   "cell_type": "code",
   "execution_count": 6,
   "id": "37e1660a-15e9-4acc-98e5-c492d770079d",
   "metadata": {},
   "outputs": [],
   "source": [
    "rm_train_dataset = rm_dataset[\"train\"]\n",
    "rm_eval_dataset = rm_dataset[\"validation\"]"
   ]
  },
  {
   "cell_type": "code",
   "execution_count": 9,
   "id": "07464f05-f7f2-4b38-9ed3-2acf71f47b95",
   "metadata": {},
   "outputs": [],
   "source": [
    "from trl import RewardTrainer, RewardConfig\n",
    "\n",
    "config = RewardConfig(\n",
    "    output_dir=\"RM_model7\",\n",
    "    per_device_train_batch_size=32,\n",
    "    num_train_epochs=150,\n",
    "    gradient_accumulation_steps=4,\n",
    "    gradient_checkpointing=True,\n",
    "    learning_rate=5e-3,\n",
    "    report_to=\"tensorboard\",\n",
    "    logging_dir=\"./results/rm7-Latest7\",\n",
    "    remove_unused_columns=False,\n",
    "    optim=\"adamw_torch\",\n",
    "    logging_steps=10,\n",
    "    eval_strategy=\"steps\",\n",
    "    eval_steps=500,\n",
    "    max_length=256,\n",
    ")"
   ]
  },
  {
   "cell_type": "code",
   "execution_count": 10,
   "id": "72cf2550-b17c-4ef5-9bbd-f29a1f76ea1a",
   "metadata": {},
   "outputs": [],
   "source": [
    "peft_config = LoraConfig(\n",
    "    task_type=\"SEQ_CLS\", # NOT CAUSAL_LM (bug)\n",
    "    inference_mode=False,\n",
    "    r=8,\n",
    "    lora_alpha=32,\n",
    "    lora_dropout=0.1,\n",
    ")"
   ]
  },
  {
   "cell_type": "markdown",
   "id": "e5b1d1e8",
   "metadata": {},
   "source": [
    "##### `First` Formal Trial (1560 steps) \n",
    "bs = 8, lr ~ 5e-5, 10 epochs"
   ]
  },
  {
   "cell_type": "code",
   "execution_count": 19,
   "id": "195ee871-9ca5-42b2-90de-50033cc6c2b2",
   "metadata": {
    "scrolled": true
   },
   "outputs": [
    {
     "name": "stderr",
     "output_type": "stream",
     "text": [
      "Detected kernel version 5.4.0, which is below the recommended minimum of 5.5.0; this can cause the process to hang. It is recommended to upgrade the kernel to the minimum version or higher.\n",
      "/usr/local/lib/python3.8/dist-packages/transformers/tokenization_utils_base.py:2778: UserWarning: `max_length` is ignored when `padding`=`True` and there is no truncation strategy. To pad to max length, use `padding='max_length'`.\n",
      "  warnings.warn(\n",
      "/usr/local/lib/python3.8/dist-packages/torch/utils/checkpoint.py:464: UserWarning: torch.utils.checkpoint: the use_reentrant parameter should be passed explicitly. In version 2.4 we will raise an exception if use_reentrant is not passed. use_reentrant=False is recommended, but if you need to preserve the current default behavior, you can pass use_reentrant=True. Refer to docs for more details on the differences between the two variants.\n",
      "  warnings.warn(\n"
     ]
    },
    {
     "data": {
      "text/html": [
       "\n",
       "    <div>\n",
       "      \n",
       "      <progress value='1560' max='1560' style='width:300px; height:20px; vertical-align: middle;'></progress>\n",
       "      [1560/1560 17:42, Epoch 9/10]\n",
       "    </div>\n",
       "    <table border=\"1\" class=\"dataframe\">\n",
       "  <thead>\n",
       " <tr style=\"text-align: left;\">\n",
       "      <th>Step</th>\n",
       "      <th>Training Loss</th>\n",
       "      <th>Validation Loss</th>\n",
       "      <th>Accuracy</th>\n",
       "    </tr>\n",
       "  </thead>\n",
       "  <tbody>\n",
       "    <tr>\n",
       "      <td>500</td>\n",
       "      <td>0.724600</td>\n",
       "      <td>0.705777</td>\n",
       "      <td>0.509128</td>\n",
       "    </tr>\n",
       "    <tr>\n",
       "      <td>1000</td>\n",
       "      <td>0.691900</td>\n",
       "      <td>0.690434</td>\n",
       "      <td>0.538974</td>\n",
       "    </tr>\n",
       "    <tr>\n",
       "      <td>1500</td>\n",
       "      <td>0.704100</td>\n",
       "      <td>0.688446</td>\n",
       "      <td>0.541292</td>\n",
       "    </tr>\n",
       "  </tbody>\n",
       "</table><p>"
      ],
      "text/plain": [
       "<IPython.core.display.HTML object>"
      ]
     },
     "metadata": {},
     "output_type": "display_data"
    },
    {
     "name": "stderr",
     "output_type": "stream",
     "text": [
      "/usr/local/lib/python3.8/dist-packages/torch/utils/checkpoint.py:91: UserWarning: None of the inputs have requires_grad=True. Gradients will be None\n",
      "  warnings.warn(\n"
     ]
    },
    {
     "data": {
      "text/html": [
       "<pre style=\"white-space:pre;overflow-x:auto;line-height:normal;font-family:Menlo,'DejaVu Sans Mono',consolas,'Courier New',monospace\">┏━━━━━━━━━━━━━━━━━━━━━━━━━━━━━━━━━┳━━━━━━━━━━━━━━━━━━━━━━━━━━━━━━━━━━━━┳━━━━━━━━━━━━━━━━━━┓\n",
       "┃<span style=\"font-weight: bold\"> chosen_text                     </span>┃<span style=\"font-weight: bold\"> rejected_text                      </span>┃<span style=\"font-weight: bold\"> logits           </span>┃\n",
       "┡━━━━━━━━━━━━━━━━━━━━━━━━━━━━━━━━━╇━━━━━━━━━━━━━━━━━━━━━━━━━━━━━━━━━━━━╇━━━━━━━━━━━━━━━━━━┩\n",
       "│ 感谢认领.                       │ 公主                               │ [0.6038, 0.3962] │\n",
       "├─────────────────────────────────┼────────────────────────────────────┼──────────────────┤\n",
       "│ 感谢认领露思好漂亮              │ 感谢认领美丽露宝~                  │ [0.4613, 0.5387] │\n",
       "├─────────────────────────────────┼────────────────────────────────────┼──────────────────┤\n",
       "│ 感谢认领露思好漂亮              │ 赵露思好美                         │ [0.5586, 0.4414] │\n",
       "├─────────────────────────────────┼────────────────────────────────────┼──────────────────┤\n",
       "│ 杀了那么多人 蛇蝎心肠 还不够死� │ 他很好？很好为什么逮捕她？杀人     │ [0.459, 0.541]   │\n",
       "├─────────────────────────────────┼────────────────────────────────────┼──────────────────┤\n",
       "│ 她的辩护律师想通过帮她翻案，    │ 二审维持原判还能上诉吗？           │ [0.5083, 0.4917] │\n",
       "├─────────────────────────────────┼────────────────────────────────────┼──────────────────┤\n",
       "│ 妈的 这个律师有点良心吧 维持原  │ 感谢认领.                          │ [0.5686, 0.4314] │\n",
       "├─────────────────────────────────┼────────────────────────────────────┼──────────────────┤\n",
       "│ 她的辩护律师想通过帮她翻案，    │ 她家人没事吧？果然不是一家人，不进 │ [0.4935, 0.5065] │\n",
       "├─────────────────────────────────┼────────────────────────────────────┼──────────────────┤\n",
       "│ 《互联网黑历史现状》            │ 《你看看》                         │ [0.547, 0.453]   │\n",
       "└─────────────────────────────────┴────────────────────────────────────┴──────────────────┘\n",
       "</pre>\n"
      ],
      "text/plain": [
       "┏━━━━━━━━━━━━━━━━━━━━━━━━━━━━━━━━━┳━━━━━━━━━━━━━━━━━━━━━━━━━━━━━━━━━━━━┳━━━━━━━━━━━━━━━━━━┓\n",
       "┃\u001b[1m \u001b[0m\u001b[1mchosen_text                    \u001b[0m\u001b[1m \u001b[0m┃\u001b[1m \u001b[0m\u001b[1mrejected_text                     \u001b[0m\u001b[1m \u001b[0m┃\u001b[1m \u001b[0m\u001b[1mlogits          \u001b[0m\u001b[1m \u001b[0m┃\n",
       "┡━━━━━━━━━━━━━━━━━━━━━━━━━━━━━━━━━╇━━━━━━━━━━━━━━━━━━━━━━━━━━━━━━━━━━━━╇━━━━━━━━━━━━━━━━━━┩\n",
       "│ 感谢认领.                       │ 公主                               │ [0.6038, 0.3962] │\n",
       "├─────────────────────────────────┼────────────────────────────────────┼──────────────────┤\n",
       "│ 感谢认领露思好漂亮              │ 感谢认领美丽露宝~                  │ [0.4613, 0.5387] │\n",
       "├─────────────────────────────────┼────────────────────────────────────┼──────────────────┤\n",
       "│ 感谢认领露思好漂亮              │ 赵露思好美                         │ [0.5586, 0.4414] │\n",
       "├─────────────────────────────────┼────────────────────────────────────┼──────────────────┤\n",
       "│ 杀了那么多人 蛇蝎心肠 还不够死� │ 他很好？很好为什么逮捕她？杀人     │ [0.459, 0.541]   │\n",
       "├─────────────────────────────────┼────────────────────────────────────┼──────────────────┤\n",
       "│ 她的辩护律师想通过帮她翻案，    │ 二审维持原判还能上诉吗？           │ [0.5083, 0.4917] │\n",
       "├─────────────────────────────────┼────────────────────────────────────┼──────────────────┤\n",
       "│ 妈的 这个律师有点良心吧 维持原  │ 感谢认领.                          │ [0.5686, 0.4314] │\n",
       "├─────────────────────────────────┼────────────────────────────────────┼──────────────────┤\n",
       "│ 她的辩护律师想通过帮她翻案，    │ 她家人没事吧？果然不是一家人，不进 │ [0.4935, 0.5065] │\n",
       "├─────────────────────────────────┼────────────────────────────────────┼──────────────────┤\n",
       "│ 《互联网黑历史现状》            │ 《你看看》                         │ [0.547, 0.453]   │\n",
       "└─────────────────────────────────┴────────────────────────────────────┴──────────────────┘\n"
      ]
     },
     "metadata": {},
     "output_type": "display_data"
    },
    {
     "data": {
      "text/html": [
       "<pre style=\"white-space:pre;overflow-x:auto;line-height:normal;font-family:Menlo,'DejaVu Sans Mono',consolas,'Courier New',monospace\">┏━━━━━━━━━━━━━━━━━━━━━━━━━━━━━━━━━┳━━━━━━━━━━━━━━━━━━━━━━━━━━━━━━━━┳━━━━━━━━━━━━━━━━━━┓\n",
       "┃<span style=\"font-weight: bold\"> chosen_text                     </span>┃<span style=\"font-weight: bold\"> rejected_text                  </span>┃<span style=\"font-weight: bold\"> logits           </span>┃\n",
       "┡━━━━━━━━━━━━━━━━━━━━━━━━━━━━━━━━━╇━━━━━━━━━━━━━━━━━━━━━━━━━━━━━━━━╇━━━━━━━━━━━━━━━━━━┩\n",
       "│ 感谢认领.                       │ 公主                           │ [0.6038, 0.3962] │\n",
       "├─────────────────────────────────┼────────────────────────────────┼──────────────────┤\n",
       "│ 感谢认领露思好漂亮              │ 感谢认领美丽露宝~              │ [0.4613, 0.5387] │\n",
       "├─────────────────────────────────┼────────────────────────────────┼──────────────────┤\n",
       "│ 感谢认领露思好漂亮              │ 赵露思好美                     │ [0.5586, 0.4414] │\n",
       "├─────────────────────────────────┼────────────────────────────────┼──────────────────┤\n",
       "│ 杀了那么多人 蛇蝎心肠 还不够死� │ 他很好？很好为什么逮捕她？杀人 │ [0.459, 0.541]   │\n",
       "└─────────────────────────────────┴────────────────────────────────┴──────────────────┘\n",
       "</pre>\n"
      ],
      "text/plain": [
       "┏━━━━━━━━━━━━━━━━━━━━━━━━━━━━━━━━━┳━━━━━━━━━━━━━━━━━━━━━━━━━━━━━━━━┳━━━━━━━━━━━━━━━━━━┓\n",
       "┃\u001b[1m \u001b[0m\u001b[1mchosen_text                    \u001b[0m\u001b[1m \u001b[0m┃\u001b[1m \u001b[0m\u001b[1mrejected_text                 \u001b[0m\u001b[1m \u001b[0m┃\u001b[1m \u001b[0m\u001b[1mlogits          \u001b[0m\u001b[1m \u001b[0m┃\n",
       "┡━━━━━━━━━━━━━━━━━━━━━━━━━━━━━━━━━╇━━━━━━━━━━━━━━━━━━━━━━━━━━━━━━━━╇━━━━━━━━━━━━━━━━━━┩\n",
       "│ 感谢认领.                       │ 公主                           │ [0.6038, 0.3962] │\n",
       "├─────────────────────────────────┼────────────────────────────────┼──────────────────┤\n",
       "│ 感谢认领露思好漂亮              │ 感谢认领美丽露宝~              │ [0.4613, 0.5387] │\n",
       "├─────────────────────────────────┼────────────────────────────────┼──────────────────┤\n",
       "│ 感谢认领露思好漂亮              │ 赵露思好美                     │ [0.5586, 0.4414] │\n",
       "├─────────────────────────────────┼────────────────────────────────┼──────────────────┤\n",
       "│ 杀了那么多人 蛇蝎心肠 还不够死� │ 他很好？很好为什么逮捕她？杀人 │ [0.459, 0.541]   │\n",
       "└─────────────────────────────────┴────────────────────────────────┴──────────────────┘\n"
      ]
     },
     "metadata": {},
     "output_type": "display_data"
    },
    {
     "name": "stderr",
     "output_type": "stream",
     "text": [
      "/usr/local/lib/python3.8/dist-packages/transformers/tokenization_utils_base.py:2778: UserWarning: `max_length` is ignored when `padding`=`True` and there is no truncation strategy. To pad to max length, use `padding='max_length'`.\n",
      "  warnings.warn(\n",
      "/usr/local/lib/python3.8/dist-packages/trl/trainer/utils.py:599: UserWarning: There are 22 out of 3451 instances where the predictions for both options are equal. As a consequence the accuracy can be misleading.\n",
      "  warnings.warn(\n",
      "/usr/local/lib/python3.8/dist-packages/transformers/tokenization_utils_base.py:2778: UserWarning: `max_length` is ignored when `padding`=`True` and there is no truncation strategy. To pad to max length, use `padding='max_length'`.\n",
      "  warnings.warn(\n",
      "/usr/local/lib/python3.8/dist-packages/torch/utils/checkpoint.py:464: UserWarning: torch.utils.checkpoint: the use_reentrant parameter should be passed explicitly. In version 2.4 we will raise an exception if use_reentrant is not passed. use_reentrant=False is recommended, but if you need to preserve the current default behavior, you can pass use_reentrant=True. Refer to docs for more details on the differences between the two variants.\n",
      "  warnings.warn(\n",
      "/usr/local/lib/python3.8/dist-packages/torch/utils/checkpoint.py:91: UserWarning: None of the inputs have requires_grad=True. Gradients will be None\n",
      "  warnings.warn(\n"
     ]
    },
    {
     "data": {
      "text/html": [
       "<pre style=\"white-space:pre;overflow-x:auto;line-height:normal;font-family:Menlo,'DejaVu Sans Mono',consolas,'Courier New',monospace\">┏━━━━━━━━━━━━━━━━━━━━━━━━━━━━━━━━━┳━━━━━━━━━━━━━━━━━━━━━━━━━━━━━━━━━━━━┳━━━━━━━━━━━━━━━━━━┓\n",
       "┃<span style=\"font-weight: bold\"> chosen_text                     </span>┃<span style=\"font-weight: bold\"> rejected_text                      </span>┃<span style=\"font-weight: bold\"> logits           </span>┃\n",
       "┡━━━━━━━━━━━━━━━━━━━━━━━━━━━━━━━━━╇━━━━━━━━━━━━━━━━━━━━━━━━━━━━━━━━━━━━╇━━━━━━━━━━━━━━━━━━┩\n",
       "│ 感谢认领.                       │ 公主                               │ [0.5971, 0.4029] │\n",
       "├─────────────────────────────────┼────────────────────────────────────┼──────────────────┤\n",
       "│ 感谢认领露思好漂亮              │ 感谢认领美丽露宝~                  │ [0.46, 0.54]     │\n",
       "├─────────────────────────────────┼────────────────────────────────────┼──────────────────┤\n",
       "│ 感谢认领露思好漂亮              │ 赵露思好美                         │ [0.5406, 0.4594] │\n",
       "├─────────────────────────────────┼────────────────────────────────────┼──────────────────┤\n",
       "│ 杀了那么多人 蛇蝎心肠 还不够死� │ 他很好？很好为什么逮捕她？杀人     │ [0.5499, 0.4501] │\n",
       "├─────────────────────────────────┼────────────────────────────────────┼──────────────────┤\n",
       "│ 她的辩护律师想通过帮她翻案，    │ 二审维持原判还能上诉吗？           │ [0.4931, 0.5069] │\n",
       "├─────────────────────────────────┼────────────────────────────────────┼──────────────────┤\n",
       "│ 妈的 这个律师有点良心吧 维持原  │ 感谢认领.                          │ [0.5875, 0.4125] │\n",
       "├─────────────────────────────────┼────────────────────────────────────┼──────────────────┤\n",
       "│ 她的辩护律师想通过帮她翻案，    │ 她家人没事吧？果然不是一家人，不进 │ [0.4702, 0.5298] │\n",
       "├─────────────────────────────────┼────────────────────────────────────┼──────────────────┤\n",
       "│ 《互联网黑历史现状》            │ 《你看看》                         │ [0.5406, 0.4594] │\n",
       "└─────────────────────────────────┴────────────────────────────────────┴──────────────────┘\n",
       "</pre>\n"
      ],
      "text/plain": [
       "┏━━━━━━━━━━━━━━━━━━━━━━━━━━━━━━━━━┳━━━━━━━━━━━━━━━━━━━━━━━━━━━━━━━━━━━━┳━━━━━━━━━━━━━━━━━━┓\n",
       "┃\u001b[1m \u001b[0m\u001b[1mchosen_text                    \u001b[0m\u001b[1m \u001b[0m┃\u001b[1m \u001b[0m\u001b[1mrejected_text                     \u001b[0m\u001b[1m \u001b[0m┃\u001b[1m \u001b[0m\u001b[1mlogits          \u001b[0m\u001b[1m \u001b[0m┃\n",
       "┡━━━━━━━━━━━━━━━━━━━━━━━━━━━━━━━━━╇━━━━━━━━━━━━━━━━━━━━━━━━━━━━━━━━━━━━╇━━━━━━━━━━━━━━━━━━┩\n",
       "│ 感谢认领.                       │ 公主                               │ [0.5971, 0.4029] │\n",
       "├─────────────────────────────────┼────────────────────────────────────┼──────────────────┤\n",
       "│ 感谢认领露思好漂亮              │ 感谢认领美丽露宝~                  │ [0.46, 0.54]     │\n",
       "├─────────────────────────────────┼────────────────────────────────────┼──────────────────┤\n",
       "│ 感谢认领露思好漂亮              │ 赵露思好美                         │ [0.5406, 0.4594] │\n",
       "├─────────────────────────────────┼────────────────────────────────────┼──────────────────┤\n",
       "│ 杀了那么多人 蛇蝎心肠 还不够死� │ 他很好？很好为什么逮捕她？杀人     │ [0.5499, 0.4501] │\n",
       "├─────────────────────────────────┼────────────────────────────────────┼──────────────────┤\n",
       "│ 她的辩护律师想通过帮她翻案，    │ 二审维持原判还能上诉吗？           │ [0.4931, 0.5069] │\n",
       "├─────────────────────────────────┼────────────────────────────────────┼──────────────────┤\n",
       "│ 妈的 这个律师有点良心吧 维持原  │ 感谢认领.                          │ [0.5875, 0.4125] │\n",
       "├─────────────────────────────────┼────────────────────────────────────┼──────────────────┤\n",
       "│ 她的辩护律师想通过帮她翻案，    │ 她家人没事吧？果然不是一家人，不进 │ [0.4702, 0.5298] │\n",
       "├─────────────────────────────────┼────────────────────────────────────┼──────────────────┤\n",
       "│ 《互联网黑历史现状》            │ 《你看看》                         │ [0.5406, 0.4594] │\n",
       "└─────────────────────────────────┴────────────────────────────────────┴──────────────────┘\n"
      ]
     },
     "metadata": {},
     "output_type": "display_data"
    },
    {
     "data": {
      "text/html": [
       "<pre style=\"white-space:pre;overflow-x:auto;line-height:normal;font-family:Menlo,'DejaVu Sans Mono',consolas,'Courier New',monospace\">┏━━━━━━━━━━━━━━━━━━━━━━━━━━━━━━━━━┳━━━━━━━━━━━━━━━━━━━━━━━━━━━━━━━━┳━━━━━━━━━━━━━━━━━━┓\n",
       "┃<span style=\"font-weight: bold\"> chosen_text                     </span>┃<span style=\"font-weight: bold\"> rejected_text                  </span>┃<span style=\"font-weight: bold\"> logits           </span>┃\n",
       "┡━━━━━━━━━━━━━━━━━━━━━━━━━━━━━━━━━╇━━━━━━━━━━━━━━━━━━━━━━━━━━━━━━━━╇━━━━━━━━━━━━━━━━━━┩\n",
       "│ 感谢认领.                       │ 公主                           │ [0.5971, 0.4029] │\n",
       "├─────────────────────────────────┼────────────────────────────────┼──────────────────┤\n",
       "│ 感谢认领露思好漂亮              │ 感谢认领美丽露宝~              │ [0.46, 0.54]     │\n",
       "├─────────────────────────────────┼────────────────────────────────┼──────────────────┤\n",
       "│ 感谢认领露思好漂亮              │ 赵露思好美                     │ [0.5406, 0.4594] │\n",
       "├─────────────────────────────────┼────────────────────────────────┼──────────────────┤\n",
       "│ 杀了那么多人 蛇蝎心肠 还不够死� │ 他很好？很好为什么逮捕她？杀人 │ [0.5499, 0.4501] │\n",
       "└─────────────────────────────────┴────────────────────────────────┴──────────────────┘\n",
       "</pre>\n"
      ],
      "text/plain": [
       "┏━━━━━━━━━━━━━━━━━━━━━━━━━━━━━━━━━┳━━━━━━━━━━━━━━━━━━━━━━━━━━━━━━━━┳━━━━━━━━━━━━━━━━━━┓\n",
       "┃\u001b[1m \u001b[0m\u001b[1mchosen_text                    \u001b[0m\u001b[1m \u001b[0m┃\u001b[1m \u001b[0m\u001b[1mrejected_text                 \u001b[0m\u001b[1m \u001b[0m┃\u001b[1m \u001b[0m\u001b[1mlogits          \u001b[0m\u001b[1m \u001b[0m┃\n",
       "┡━━━━━━━━━━━━━━━━━━━━━━━━━━━━━━━━━╇━━━━━━━━━━━━━━━━━━━━━━━━━━━━━━━━╇━━━━━━━━━━━━━━━━━━┩\n",
       "│ 感谢认领.                       │ 公主                           │ [0.5971, 0.4029] │\n",
       "├─────────────────────────────────┼────────────────────────────────┼──────────────────┤\n",
       "│ 感谢认领露思好漂亮              │ 感谢认领美丽露宝~              │ [0.46, 0.54]     │\n",
       "├─────────────────────────────────┼────────────────────────────────┼──────────────────┤\n",
       "│ 感谢认领露思好漂亮              │ 赵露思好美                     │ [0.5406, 0.4594] │\n",
       "├─────────────────────────────────┼────────────────────────────────┼──────────────────┤\n",
       "│ 杀了那么多人 蛇蝎心肠 还不够死� │ 他很好？很好为什么逮捕她？杀人 │ [0.5499, 0.4501] │\n",
       "└─────────────────────────────────┴────────────────────────────────┴──────────────────┘\n"
      ]
     },
     "metadata": {},
     "output_type": "display_data"
    },
    {
     "name": "stderr",
     "output_type": "stream",
     "text": [
      "/usr/local/lib/python3.8/dist-packages/transformers/tokenization_utils_base.py:2778: UserWarning: `max_length` is ignored when `padding`=`True` and there is no truncation strategy. To pad to max length, use `padding='max_length'`.\n",
      "  warnings.warn(\n",
      "/usr/local/lib/python3.8/dist-packages/trl/trainer/utils.py:599: UserWarning: There are 22 out of 3451 instances where the predictions for both options are equal. As a consequence the accuracy can be misleading.\n",
      "  warnings.warn(\n",
      "/usr/local/lib/python3.8/dist-packages/transformers/tokenization_utils_base.py:2778: UserWarning: `max_length` is ignored when `padding`=`True` and there is no truncation strategy. To pad to max length, use `padding='max_length'`.\n",
      "  warnings.warn(\n",
      "/usr/local/lib/python3.8/dist-packages/torch/utils/checkpoint.py:464: UserWarning: torch.utils.checkpoint: the use_reentrant parameter should be passed explicitly. In version 2.4 we will raise an exception if use_reentrant is not passed. use_reentrant=False is recommended, but if you need to preserve the current default behavior, you can pass use_reentrant=True. Refer to docs for more details on the differences between the two variants.\n",
      "  warnings.warn(\n",
      "/usr/local/lib/python3.8/dist-packages/torch/utils/checkpoint.py:91: UserWarning: None of the inputs have requires_grad=True. Gradients will be None\n",
      "  warnings.warn(\n"
     ]
    },
    {
     "data": {
      "text/html": [
       "<pre style=\"white-space:pre;overflow-x:auto;line-height:normal;font-family:Menlo,'DejaVu Sans Mono',consolas,'Courier New',monospace\">┏━━━━━━━━━━━━━━━━━━━━━━━━━━━━━━━━━┳━━━━━━━━━━━━━━━━━━━━━━━━━━━━━━━━━━━━┳━━━━━━━━━━━━━━━━━━┓\n",
       "┃<span style=\"font-weight: bold\"> chosen_text                     </span>┃<span style=\"font-weight: bold\"> rejected_text                      </span>┃<span style=\"font-weight: bold\"> logits           </span>┃\n",
       "┡━━━━━━━━━━━━━━━━━━━━━━━━━━━━━━━━━╇━━━━━━━━━━━━━━━━━━━━━━━━━━━━━━━━━━━━╇━━━━━━━━━━━━━━━━━━┩\n",
       "│ 感谢认领.                       │ 公主                               │ [0.6156, 0.3844] │\n",
       "├─────────────────────────────────┼────────────────────────────────────┼──────────────────┤\n",
       "│ 感谢认领露思好漂亮              │ 感谢认领美丽露宝~                  │ [0.4655, 0.5345] │\n",
       "├─────────────────────────────────┼────────────────────────────────────┼──────────────────┤\n",
       "│ 感谢认领露思好漂亮              │ 赵露思好美                         │ [0.5744, 0.4256] │\n",
       "├─────────────────────────────────┼────────────────────────────────────┼──────────────────┤\n",
       "│ 杀了那么多人 蛇蝎心肠 还不够死� │ 他很好？很好为什么逮捕她？杀人     │ [0.5342, 0.4658] │\n",
       "├─────────────────────────────────┼────────────────────────────────────┼──────────────────┤\n",
       "│ 她的辩护律师想通过帮她翻案，    │ 二审维持原判还能上诉吗？           │ [0.448, 0.552]   │\n",
       "├─────────────────────────────────┼────────────────────────────────────┼──────────────────┤\n",
       "│ 妈的 这个律师有点良心吧 维持原  │ 感谢认领.                          │ [0.5437, 0.4563] │\n",
       "├─────────────────────────────────┼────────────────────────────────────┼──────────────────┤\n",
       "│ 她的辩护律师想通过帮她翻案，    │ 她家人没事吧？果然不是一家人，不进 │ [0.4865, 0.5135] │\n",
       "├─────────────────────────────────┼────────────────────────────────────┼──────────────────┤\n",
       "│ 《互联网黑历史现状》            │ 《你看看》                         │ [0.5721, 0.4279] │\n",
       "└─────────────────────────────────┴────────────────────────────────────┴──────────────────┘\n",
       "</pre>\n"
      ],
      "text/plain": [
       "┏━━━━━━━━━━━━━━━━━━━━━━━━━━━━━━━━━┳━━━━━━━━━━━━━━━━━━━━━━━━━━━━━━━━━━━━┳━━━━━━━━━━━━━━━━━━┓\n",
       "┃\u001b[1m \u001b[0m\u001b[1mchosen_text                    \u001b[0m\u001b[1m \u001b[0m┃\u001b[1m \u001b[0m\u001b[1mrejected_text                     \u001b[0m\u001b[1m \u001b[0m┃\u001b[1m \u001b[0m\u001b[1mlogits          \u001b[0m\u001b[1m \u001b[0m┃\n",
       "┡━━━━━━━━━━━━━━━━━━━━━━━━━━━━━━━━━╇━━━━━━━━━━━━━━━━━━━━━━━━━━━━━━━━━━━━╇━━━━━━━━━━━━━━━━━━┩\n",
       "│ 感谢认领.                       │ 公主                               │ [0.6156, 0.3844] │\n",
       "├─────────────────────────────────┼────────────────────────────────────┼──────────────────┤\n",
       "│ 感谢认领露思好漂亮              │ 感谢认领美丽露宝~                  │ [0.4655, 0.5345] │\n",
       "├─────────────────────────────────┼────────────────────────────────────┼──────────────────┤\n",
       "│ 感谢认领露思好漂亮              │ 赵露思好美                         │ [0.5744, 0.4256] │\n",
       "├─────────────────────────────────┼────────────────────────────────────┼──────────────────┤\n",
       "│ 杀了那么多人 蛇蝎心肠 还不够死� │ 他很好？很好为什么逮捕她？杀人     │ [0.5342, 0.4658] │\n",
       "├─────────────────────────────────┼────────────────────────────────────┼──────────────────┤\n",
       "│ 她的辩护律师想通过帮她翻案，    │ 二审维持原判还能上诉吗？           │ [0.448, 0.552]   │\n",
       "├─────────────────────────────────┼────────────────────────────────────┼──────────────────┤\n",
       "│ 妈的 这个律师有点良心吧 维持原  │ 感谢认领.                          │ [0.5437, 0.4563] │\n",
       "├─────────────────────────────────┼────────────────────────────────────┼──────────────────┤\n",
       "│ 她的辩护律师想通过帮她翻案，    │ 她家人没事吧？果然不是一家人，不进 │ [0.4865, 0.5135] │\n",
       "├─────────────────────────────────┼────────────────────────────────────┼──────────────────┤\n",
       "│ 《互联网黑历史现状》            │ 《你看看》                         │ [0.5721, 0.4279] │\n",
       "└─────────────────────────────────┴────────────────────────────────────┴──────────────────┘\n"
      ]
     },
     "metadata": {},
     "output_type": "display_data"
    },
    {
     "data": {
      "text/html": [
       "<pre style=\"white-space:pre;overflow-x:auto;line-height:normal;font-family:Menlo,'DejaVu Sans Mono',consolas,'Courier New',monospace\">┏━━━━━━━━━━━━━━━━━━━━━━━━━━━━━━━━━┳━━━━━━━━━━━━━━━━━━━━━━━━━━━━━━━━┳━━━━━━━━━━━━━━━━━━┓\n",
       "┃<span style=\"font-weight: bold\"> chosen_text                     </span>┃<span style=\"font-weight: bold\"> rejected_text                  </span>┃<span style=\"font-weight: bold\"> logits           </span>┃\n",
       "┡━━━━━━━━━━━━━━━━━━━━━━━━━━━━━━━━━╇━━━━━━━━━━━━━━━━━━━━━━━━━━━━━━━━╇━━━━━━━━━━━━━━━━━━┩\n",
       "│ 感谢认领.                       │ 公主                           │ [0.6156, 0.3844] │\n",
       "├─────────────────────────────────┼────────────────────────────────┼──────────────────┤\n",
       "│ 感谢认领露思好漂亮              │ 感谢认领美丽露宝~              │ [0.4655, 0.5345] │\n",
       "├─────────────────────────────────┼────────────────────────────────┼──────────────────┤\n",
       "│ 感谢认领露思好漂亮              │ 赵露思好美                     │ [0.5744, 0.4256] │\n",
       "├─────────────────────────────────┼────────────────────────────────┼──────────────────┤\n",
       "│ 杀了那么多人 蛇蝎心肠 还不够死� │ 他很好？很好为什么逮捕她？杀人 │ [0.5342, 0.4658] │\n",
       "└─────────────────────────────────┴────────────────────────────────┴──────────────────┘\n",
       "</pre>\n"
      ],
      "text/plain": [
       "┏━━━━━━━━━━━━━━━━━━━━━━━━━━━━━━━━━┳━━━━━━━━━━━━━━━━━━━━━━━━━━━━━━━━┳━━━━━━━━━━━━━━━━━━┓\n",
       "┃\u001b[1m \u001b[0m\u001b[1mchosen_text                    \u001b[0m\u001b[1m \u001b[0m┃\u001b[1m \u001b[0m\u001b[1mrejected_text                 \u001b[0m\u001b[1m \u001b[0m┃\u001b[1m \u001b[0m\u001b[1mlogits          \u001b[0m\u001b[1m \u001b[0m┃\n",
       "┡━━━━━━━━━━━━━━━━━━━━━━━━━━━━━━━━━╇━━━━━━━━━━━━━━━━━━━━━━━━━━━━━━━━╇━━━━━━━━━━━━━━━━━━┩\n",
       "│ 感谢认领.                       │ 公主                           │ [0.6156, 0.3844] │\n",
       "├─────────────────────────────────┼────────────────────────────────┼──────────────────┤\n",
       "│ 感谢认领露思好漂亮              │ 感谢认领美丽露宝~              │ [0.4655, 0.5345] │\n",
       "├─────────────────────────────────┼────────────────────────────────┼──────────────────┤\n",
       "│ 感谢认领露思好漂亮              │ 赵露思好美                     │ [0.5744, 0.4256] │\n",
       "├─────────────────────────────────┼────────────────────────────────┼──────────────────┤\n",
       "│ 杀了那么多人 蛇蝎心肠 还不够死� │ 他很好？很好为什么逮捕她？杀人 │ [0.5342, 0.4658] │\n",
       "└─────────────────────────────────┴────────────────────────────────┴──────────────────┘\n"
      ]
     },
     "metadata": {},
     "output_type": "display_data"
    },
    {
     "name": "stderr",
     "output_type": "stream",
     "text": [
      "/usr/local/lib/python3.8/dist-packages/transformers/tokenization_utils_base.py:2778: UserWarning: `max_length` is ignored when `padding`=`True` and there is no truncation strategy. To pad to max length, use `padding='max_length'`.\n",
      "  warnings.warn(\n",
      "/usr/local/lib/python3.8/dist-packages/trl/trainer/utils.py:599: UserWarning: There are 22 out of 3451 instances where the predictions for both options are equal. As a consequence the accuracy can be misleading.\n",
      "  warnings.warn(\n",
      "/usr/local/lib/python3.8/dist-packages/transformers/tokenization_utils_base.py:2778: UserWarning: `max_length` is ignored when `padding`=`True` and there is no truncation strategy. To pad to max length, use `padding='max_length'`.\n",
      "  warnings.warn(\n",
      "/usr/local/lib/python3.8/dist-packages/torch/utils/checkpoint.py:464: UserWarning: torch.utils.checkpoint: the use_reentrant parameter should be passed explicitly. In version 2.4 we will raise an exception if use_reentrant is not passed. use_reentrant=False is recommended, but if you need to preserve the current default behavior, you can pass use_reentrant=True. Refer to docs for more details on the differences between the two variants.\n",
      "  warnings.warn(\n"
     ]
    }
   ],
   "source": [
    "trainer = RewardTrainer(\n",
    "    model=rm_model,\n",
    "    tokenizer=tokenizer,\n",
    "    args=config,\n",
    "    train_dataset=rm_train_dataset,\n",
    "    eval_dataset=rm_eval_dataset,\n",
    "    peft_config=peft_config,\n",
    ")\n",
    "trainer.train()\n",
    "trainer.save_model(config.output_dir)"
   ]
  },
  {
   "cell_type": "markdown",
   "id": "24d06692",
   "metadata": {},
   "source": [
    "##### `Second` Formal Trial \n",
    "bs = 16, lr = 2e-3, 40 epochs"
   ]
  },
  {
   "cell_type": "code",
   "execution_count": 22,
   "id": "f2aed01f-b8c1-4511-adea-7ad6da6a1b52",
   "metadata": {},
   "outputs": [
    {
     "name": "stderr",
     "output_type": "stream",
     "text": [
      "/usr/local/lib/python3.8/dist-packages/peft/tuners/lora/layer.py:1119: UserWarning: fan_in_fan_out is set to False but the target module is `Conv1D`. Setting fan_in_fan_out to True.\n",
      "  warnings.warn(\n",
      "Detected kernel version 5.4.0, which is below the recommended minimum of 5.5.0; this can cause the process to hang. It is recommended to upgrade the kernel to the minimum version or higher.\n",
      "You're using a GPT2TokenizerFast tokenizer. Please note that with a fast tokenizer, using the `__call__` method is faster than using a method to encode the text followed by a call to the `pad` method to get a padded encoding.\n",
      "/usr/local/lib/python3.8/dist-packages/transformers/tokenization_utils_base.py:2778: UserWarning: `max_length` is ignored when `padding`=`True` and there is no truncation strategy. To pad to max length, use `padding='max_length'`.\n",
      "  warnings.warn(\n",
      "`use_cache=True` is incompatible with gradient checkpointing. Setting `use_cache=False`...\n",
      "/usr/local/lib/python3.8/dist-packages/torch/utils/checkpoint.py:464: UserWarning: torch.utils.checkpoint: the use_reentrant parameter should be passed explicitly. In version 2.4 we will raise an exception if use_reentrant is not passed. use_reentrant=False is recommended, but if you need to preserve the current default behavior, you can pass use_reentrant=True. Refer to docs for more details on the differences between the two variants.\n",
      "  warnings.warn(\n",
      "/usr/local/lib/python3.8/dist-packages/torch/utils/checkpoint.py:91: UserWarning: None of the inputs have requires_grad=True. Gradients will be None\n",
      "  warnings.warn(\n",
      "Could not estimate the number of tokens of the input, floating-point operations will not be computed\n"
     ]
    },
    {
     "data": {
      "text/html": [
       "\n",
       "    <div>\n",
       "      \n",
       "      <progress value='6240' max='6240' style='width:300px; height:20px; vertical-align: middle;'></progress>\n",
       "      [6240/6240 12:05, Epoch 39/40]\n",
       "    </div>\n",
       "    <table border=\"1\" class=\"dataframe\">\n",
       "  <thead>\n",
       " <tr style=\"text-align: left;\">\n",
       "      <th>Step</th>\n",
       "      <th>Training Loss</th>\n",
       "      <th>Validation Loss</th>\n",
       "      <th>Accuracy</th>\n",
       "    </tr>\n",
       "  </thead>\n",
       "  <tbody>\n",
       "    <tr>\n",
       "      <td>500</td>\n",
       "      <td>0.692500</td>\n",
       "      <td>0.706630</td>\n",
       "      <td>0.548826</td>\n",
       "    </tr>\n",
       "    <tr>\n",
       "      <td>1000</td>\n",
       "      <td>0.697100</td>\n",
       "      <td>0.708805</td>\n",
       "      <td>0.549406</td>\n",
       "    </tr>\n",
       "    <tr>\n",
       "      <td>1500</td>\n",
       "      <td>0.692700</td>\n",
       "      <td>0.711551</td>\n",
       "      <td>0.542741</td>\n",
       "    </tr>\n",
       "    <tr>\n",
       "      <td>2000</td>\n",
       "      <td>0.705700</td>\n",
       "      <td>0.706410</td>\n",
       "      <td>0.542162</td>\n",
       "    </tr>\n",
       "    <tr>\n",
       "      <td>2500</td>\n",
       "      <td>0.678400</td>\n",
       "      <td>0.709342</td>\n",
       "      <td>0.545059</td>\n",
       "    </tr>\n",
       "    <tr>\n",
       "      <td>3000</td>\n",
       "      <td>0.685000</td>\n",
       "      <td>0.727206</td>\n",
       "      <td>0.545639</td>\n",
       "    </tr>\n",
       "    <tr>\n",
       "      <td>3500</td>\n",
       "      <td>0.684100</td>\n",
       "      <td>0.718486</td>\n",
       "      <td>0.540133</td>\n",
       "    </tr>\n",
       "    <tr>\n",
       "      <td>4000</td>\n",
       "      <td>0.679900</td>\n",
       "      <td>0.706571</td>\n",
       "      <td>0.548247</td>\n",
       "    </tr>\n",
       "    <tr>\n",
       "      <td>4500</td>\n",
       "      <td>0.668000</td>\n",
       "      <td>0.701843</td>\n",
       "      <td>0.551434</td>\n",
       "    </tr>\n",
       "    <tr>\n",
       "      <td>5000</td>\n",
       "      <td>0.683000</td>\n",
       "      <td>0.700610</td>\n",
       "      <td>0.555781</td>\n",
       "    </tr>\n",
       "    <tr>\n",
       "      <td>5500</td>\n",
       "      <td>0.654900</td>\n",
       "      <td>0.701501</td>\n",
       "      <td>0.553173</td>\n",
       "    </tr>\n",
       "    <tr>\n",
       "      <td>6000</td>\n",
       "      <td>0.668600</td>\n",
       "      <td>0.701183</td>\n",
       "      <td>0.553173</td>\n",
       "    </tr>\n",
       "  </tbody>\n",
       "</table><p>"
      ],
      "text/plain": [
       "<IPython.core.display.HTML object>"
      ]
     },
     "metadata": {},
     "output_type": "display_data"
    },
    {
     "data": {
      "text/html": [
       "<pre style=\"white-space:pre;overflow-x:auto;line-height:normal;font-family:Menlo,'DejaVu Sans Mono',consolas,'Courier New',monospace\">┏━━━━━━━━━━━━━━━━━━━━━━━━━━━━━━━━━┳━━━━━━━━━━━━━━━━━━━━━━━━━━━━━━━━━━━━┳━━━━━━━━━━━━━━━━━━┓\n",
       "┃<span style=\"font-weight: bold\"> chosen_text                     </span>┃<span style=\"font-weight: bold\"> rejected_text                      </span>┃<span style=\"font-weight: bold\"> logits           </span>┃\n",
       "┡━━━━━━━━━━━━━━━━━━━━━━━━━━━━━━━━━╇━━━━━━━━━━━━━━━━━━━━━━━━━━━━━━━━━━━━╇━━━━━━━━━━━━━━━━━━┩\n",
       "│ 感谢认领.                       │ 公主                               │ [0.65, 0.35]     │\n",
       "├─────────────────────────────────┼────────────────────────────────────┼──────────────────┤\n",
       "│ 感谢认领露思好漂亮              │ 感谢认领美丽露宝~                  │ [0.5452, 0.4548] │\n",
       "├─────────────────────────────────┼────────────────────────────────────┼──────────────────┤\n",
       "│ 感谢认领露思好漂亮              │ 赵露思好美                         │ [0.5919, 0.4081] │\n",
       "├─────────────────────────────────┼────────────────────────────────────┼──────────────────┤\n",
       "│ 杀了那么多人 蛇蝎心肠 还不够死� │ 他很好？很好为什么逮捕她？杀人     │ [0.3362, 0.6638] │\n",
       "├─────────────────────────────────┼────────────────────────────────────┼──────────────────┤\n",
       "│ 她的辩护律师想通过帮她翻案，    │ 二审维持原判还能上诉吗？           │ [0.3192, 0.6808] │\n",
       "├─────────────────────────────────┼────────────────────────────────────┼──────────────────┤\n",
       "│ 妈的 这个律师有点良心吧 维持原  │ 感谢认领.                          │ [0.6533, 0.3467] │\n",
       "├─────────────────────────────────┼────────────────────────────────────┼──────────────────┤\n",
       "│ 她的辩护律师想通过帮她翻案，    │ 她家人没事吧？果然不是一家人，不进 │ [0.33, 0.67]     │\n",
       "├─────────────────────────────────┼────────────────────────────────────┼──────────────────┤\n",
       "│ 《互联网黑历史现状》            │ 《你看看》                         │ [0.6855, 0.3145] │\n",
       "└─────────────────────────────────┴────────────────────────────────────┴──────────────────┘\n",
       "</pre>\n"
      ],
      "text/plain": [
       "┏━━━━━━━━━━━━━━━━━━━━━━━━━━━━━━━━━┳━━━━━━━━━━━━━━━━━━━━━━━━━━━━━━━━━━━━┳━━━━━━━━━━━━━━━━━━┓\n",
       "┃\u001b[1m \u001b[0m\u001b[1mchosen_text                    \u001b[0m\u001b[1m \u001b[0m┃\u001b[1m \u001b[0m\u001b[1mrejected_text                     \u001b[0m\u001b[1m \u001b[0m┃\u001b[1m \u001b[0m\u001b[1mlogits          \u001b[0m\u001b[1m \u001b[0m┃\n",
       "┡━━━━━━━━━━━━━━━━━━━━━━━━━━━━━━━━━╇━━━━━━━━━━━━━━━━━━━━━━━━━━━━━━━━━━━━╇━━━━━━━━━━━━━━━━━━┩\n",
       "│ 感谢认领.                       │ 公主                               │ [0.65, 0.35]     │\n",
       "├─────────────────────────────────┼────────────────────────────────────┼──────────────────┤\n",
       "│ 感谢认领露思好漂亮              │ 感谢认领美丽露宝~                  │ [0.5452, 0.4548] │\n",
       "├─────────────────────────────────┼────────────────────────────────────┼──────────────────┤\n",
       "│ 感谢认领露思好漂亮              │ 赵露思好美                         │ [0.5919, 0.4081] │\n",
       "├─────────────────────────────────┼────────────────────────────────────┼──────────────────┤\n",
       "│ 杀了那么多人 蛇蝎心肠 还不够死� │ 他很好？很好为什么逮捕她？杀人     │ [0.3362, 0.6638] │\n",
       "├─────────────────────────────────┼────────────────────────────────────┼──────────────────┤\n",
       "│ 她的辩护律师想通过帮她翻案，    │ 二审维持原判还能上诉吗？           │ [0.3192, 0.6808] │\n",
       "├─────────────────────────────────┼────────────────────────────────────┼──────────────────┤\n",
       "│ 妈的 这个律师有点良心吧 维持原  │ 感谢认领.                          │ [0.6533, 0.3467] │\n",
       "├─────────────────────────────────┼────────────────────────────────────┼──────────────────┤\n",
       "│ 她的辩护律师想通过帮她翻案，    │ 她家人没事吧？果然不是一家人，不进 │ [0.33, 0.67]     │\n",
       "├─────────────────────────────────┼────────────────────────────────────┼──────────────────┤\n",
       "│ 《互联网黑历史现状》            │ 《你看看》                         │ [0.6855, 0.3145] │\n",
       "└─────────────────────────────────┴────────────────────────────────────┴──────────────────┘\n"
      ]
     },
     "metadata": {},
     "output_type": "display_data"
    },
    {
     "data": {
      "text/html": [
       "<pre style=\"white-space:pre;overflow-x:auto;line-height:normal;font-family:Menlo,'DejaVu Sans Mono',consolas,'Courier New',monospace\">┏━━━━━━━━━━━━━━━━━━━━━━━━━━━━━━━━━┳━━━━━━━━━━━━━━━━━━━━━━━━━━━━━━━━┳━━━━━━━━━━━━━━━━━━┓\n",
       "┃<span style=\"font-weight: bold\"> chosen_text                     </span>┃<span style=\"font-weight: bold\"> rejected_text                  </span>┃<span style=\"font-weight: bold\"> logits           </span>┃\n",
       "┡━━━━━━━━━━━━━━━━━━━━━━━━━━━━━━━━━╇━━━━━━━━━━━━━━━━━━━━━━━━━━━━━━━━╇━━━━━━━━━━━━━━━━━━┩\n",
       "│ 感谢认领.                       │ 公主                           │ [0.65, 0.35]     │\n",
       "├─────────────────────────────────┼────────────────────────────────┼──────────────────┤\n",
       "│ 感谢认领露思好漂亮              │ 感谢认领美丽露宝~              │ [0.5452, 0.4548] │\n",
       "├─────────────────────────────────┼────────────────────────────────┼──────────────────┤\n",
       "│ 感谢认领露思好漂亮              │ 赵露思好美                     │ [0.5919, 0.4081] │\n",
       "├─────────────────────────────────┼────────────────────────────────┼──────────────────┤\n",
       "│ 杀了那么多人 蛇蝎心肠 还不够死� │ 他很好？很好为什么逮捕她？杀人 │ [0.3362, 0.6638] │\n",
       "└─────────────────────────────────┴────────────────────────────────┴──────────────────┘\n",
       "</pre>\n"
      ],
      "text/plain": [
       "┏━━━━━━━━━━━━━━━━━━━━━━━━━━━━━━━━━┳━━━━━━━━━━━━━━━━━━━━━━━━━━━━━━━━┳━━━━━━━━━━━━━━━━━━┓\n",
       "┃\u001b[1m \u001b[0m\u001b[1mchosen_text                    \u001b[0m\u001b[1m \u001b[0m┃\u001b[1m \u001b[0m\u001b[1mrejected_text                 \u001b[0m\u001b[1m \u001b[0m┃\u001b[1m \u001b[0m\u001b[1mlogits          \u001b[0m\u001b[1m \u001b[0m┃\n",
       "┡━━━━━━━━━━━━━━━━━━━━━━━━━━━━━━━━━╇━━━━━━━━━━━━━━━━━━━━━━━━━━━━━━━━╇━━━━━━━━━━━━━━━━━━┩\n",
       "│ 感谢认领.                       │ 公主                           │ [0.65, 0.35]     │\n",
       "├─────────────────────────────────┼────────────────────────────────┼──────────────────┤\n",
       "│ 感谢认领露思好漂亮              │ 感谢认领美丽露宝~              │ [0.5452, 0.4548] │\n",
       "├─────────────────────────────────┼────────────────────────────────┼──────────────────┤\n",
       "│ 感谢认领露思好漂亮              │ 赵露思好美                     │ [0.5919, 0.4081] │\n",
       "├─────────────────────────────────┼────────────────────────────────┼──────────────────┤\n",
       "│ 杀了那么多人 蛇蝎心肠 还不够死� │ 他很好？很好为什么逮捕她？杀人 │ [0.3362, 0.6638] │\n",
       "└─────────────────────────────────┴────────────────────────────────┴──────────────────┘\n"
      ]
     },
     "metadata": {},
     "output_type": "display_data"
    },
    {
     "name": "stderr",
     "output_type": "stream",
     "text": [
      "/usr/local/lib/python3.8/dist-packages/transformers/tokenization_utils_base.py:2778: UserWarning: `max_length` is ignored when `padding`=`True` and there is no truncation strategy. To pad to max length, use `padding='max_length'`.\n",
      "  warnings.warn(\n",
      "/usr/local/lib/python3.8/dist-packages/trl/trainer/utils.py:599: UserWarning: There are 22 out of 3451 instances where the predictions for both options are equal. As a consequence the accuracy can be misleading.\n",
      "  warnings.warn(\n",
      "/usr/local/lib/python3.8/dist-packages/transformers/tokenization_utils_base.py:2778: UserWarning: `max_length` is ignored when `padding`=`True` and there is no truncation strategy. To pad to max length, use `padding='max_length'`.\n",
      "  warnings.warn(\n",
      "/usr/local/lib/python3.8/dist-packages/torch/utils/checkpoint.py:464: UserWarning: torch.utils.checkpoint: the use_reentrant parameter should be passed explicitly. In version 2.4 we will raise an exception if use_reentrant is not passed. use_reentrant=False is recommended, but if you need to preserve the current default behavior, you can pass use_reentrant=True. Refer to docs for more details on the differences between the two variants.\n",
      "  warnings.warn(\n",
      "/usr/local/lib/python3.8/dist-packages/torch/utils/checkpoint.py:91: UserWarning: None of the inputs have requires_grad=True. Gradients will be None\n",
      "  warnings.warn(\n"
     ]
    },
    {
     "data": {
      "text/html": [
       "<pre style=\"white-space:pre;overflow-x:auto;line-height:normal;font-family:Menlo,'DejaVu Sans Mono',consolas,'Courier New',monospace\">┏━━━━━━━━━━━━━━━━━━━━━━━━━━━━━━━━━┳━━━━━━━━━━━━━━━━━━━━━━━━━━━━━━━━━━━━┳━━━━━━━━━━━━━━━━━━┓\n",
       "┃<span style=\"font-weight: bold\"> chosen_text                     </span>┃<span style=\"font-weight: bold\"> rejected_text                      </span>┃<span style=\"font-weight: bold\"> logits           </span>┃\n",
       "┡━━━━━━━━━━━━━━━━━━━━━━━━━━━━━━━━━╇━━━━━━━━━━━━━━━━━━━━━━━━━━━━━━━━━━━━╇━━━━━━━━━━━━━━━━━━┩\n",
       "│ 感谢认领.                       │ 公主                               │ [0.5191, 0.4809] │\n",
       "├─────────────────────────────────┼────────────────────────────────────┼──────────────────┤\n",
       "│ 感谢认领露思好漂亮              │ 感谢认领美丽露宝~                  │ [0.6257, 0.3743] │\n",
       "├─────────────────────────────────┼────────────────────────────────────┼──────────────────┤\n",
       "│ 感谢认领露思好漂亮              │ 赵露思好美                         │ [0.7082, 0.2918] │\n",
       "├─────────────────────────────────┼────────────────────────────────────┼──────────────────┤\n",
       "│ 杀了那么多人 蛇蝎心肠 还不够死� │ 他很好？很好为什么逮捕她？杀人     │ [0.3833, 0.6167] │\n",
       "├─────────────────────────────────┼────────────────────────────────────┼──────────────────┤\n",
       "│ 她的辩护律师想通过帮她翻案，    │ 二审维持原判还能上诉吗？           │ [0.4282, 0.5718] │\n",
       "├─────────────────────────────────┼────────────────────────────────────┼──────────────────┤\n",
       "│ 妈的 这个律师有点良心吧 维持原  │ 感谢认领.                          │ [0.5712, 0.4288] │\n",
       "├─────────────────────────────────┼────────────────────────────────────┼──────────────────┤\n",
       "│ 她的辩护律师想通过帮她翻案，    │ 她家人没事吧？果然不是一家人，不进 │ [0.3214, 0.6786] │\n",
       "├─────────────────────────────────┼────────────────────────────────────┼──────────────────┤\n",
       "│ 《互联网黑历史现状》            │ 《你看看》                         │ [0.6331, 0.3669] │\n",
       "└─────────────────────────────────┴────────────────────────────────────┴──────────────────┘\n",
       "</pre>\n"
      ],
      "text/plain": [
       "┏━━━━━━━━━━━━━━━━━━━━━━━━━━━━━━━━━┳━━━━━━━━━━━━━━━━━━━━━━━━━━━━━━━━━━━━┳━━━━━━━━━━━━━━━━━━┓\n",
       "┃\u001b[1m \u001b[0m\u001b[1mchosen_text                    \u001b[0m\u001b[1m \u001b[0m┃\u001b[1m \u001b[0m\u001b[1mrejected_text                     \u001b[0m\u001b[1m \u001b[0m┃\u001b[1m \u001b[0m\u001b[1mlogits          \u001b[0m\u001b[1m \u001b[0m┃\n",
       "┡━━━━━━━━━━━━━━━━━━━━━━━━━━━━━━━━━╇━━━━━━━━━━━━━━━━━━━━━━━━━━━━━━━━━━━━╇━━━━━━━━━━━━━━━━━━┩\n",
       "│ 感谢认领.                       │ 公主                               │ [0.5191, 0.4809] │\n",
       "├─────────────────────────────────┼────────────────────────────────────┼──────────────────┤\n",
       "│ 感谢认领露思好漂亮              │ 感谢认领美丽露宝~                  │ [0.6257, 0.3743] │\n",
       "├─────────────────────────────────┼────────────────────────────────────┼──────────────────┤\n",
       "│ 感谢认领露思好漂亮              │ 赵露思好美                         │ [0.7082, 0.2918] │\n",
       "├─────────────────────────────────┼────────────────────────────────────┼──────────────────┤\n",
       "│ 杀了那么多人 蛇蝎心肠 还不够死� │ 他很好？很好为什么逮捕她？杀人     │ [0.3833, 0.6167] │\n",
       "├─────────────────────────────────┼────────────────────────────────────┼──────────────────┤\n",
       "│ 她的辩护律师想通过帮她翻案，    │ 二审维持原判还能上诉吗？           │ [0.4282, 0.5718] │\n",
       "├─────────────────────────────────┼────────────────────────────────────┼──────────────────┤\n",
       "│ 妈的 这个律师有点良心吧 维持原  │ 感谢认领.                          │ [0.5712, 0.4288] │\n",
       "├─────────────────────────────────┼────────────────────────────────────┼──────────────────┤\n",
       "│ 她的辩护律师想通过帮她翻案，    │ 她家人没事吧？果然不是一家人，不进 │ [0.3214, 0.6786] │\n",
       "├─────────────────────────────────┼────────────────────────────────────┼──────────────────┤\n",
       "│ 《互联网黑历史现状》            │ 《你看看》                         │ [0.6331, 0.3669] │\n",
       "└─────────────────────────────────┴────────────────────────────────────┴──────────────────┘\n"
      ]
     },
     "metadata": {},
     "output_type": "display_data"
    },
    {
     "data": {
      "text/html": [
       "<pre style=\"white-space:pre;overflow-x:auto;line-height:normal;font-family:Menlo,'DejaVu Sans Mono',consolas,'Courier New',monospace\">┏━━━━━━━━━━━━━━━━━━━━━━━━━━━━━━━━━┳━━━━━━━━━━━━━━━━━━━━━━━━━━━━━━━━┳━━━━━━━━━━━━━━━━━━┓\n",
       "┃<span style=\"font-weight: bold\"> chosen_text                     </span>┃<span style=\"font-weight: bold\"> rejected_text                  </span>┃<span style=\"font-weight: bold\"> logits           </span>┃\n",
       "┡━━━━━━━━━━━━━━━━━━━━━━━━━━━━━━━━━╇━━━━━━━━━━━━━━━━━━━━━━━━━━━━━━━━╇━━━━━━━━━━━━━━━━━━┩\n",
       "│ 感谢认领.                       │ 公主                           │ [0.5191, 0.4809] │\n",
       "├─────────────────────────────────┼────────────────────────────────┼──────────────────┤\n",
       "│ 感谢认领露思好漂亮              │ 感谢认领美丽露宝~              │ [0.6257, 0.3743] │\n",
       "├─────────────────────────────────┼────────────────────────────────┼──────────────────┤\n",
       "│ 感谢认领露思好漂亮              │ 赵露思好美                     │ [0.7082, 0.2918] │\n",
       "├─────────────────────────────────┼────────────────────────────────┼──────────────────┤\n",
       "│ 杀了那么多人 蛇蝎心肠 还不够死� │ 他很好？很好为什么逮捕她？杀人 │ [0.3833, 0.6167] │\n",
       "└─────────────────────────────────┴────────────────────────────────┴──────────────────┘\n",
       "</pre>\n"
      ],
      "text/plain": [
       "┏━━━━━━━━━━━━━━━━━━━━━━━━━━━━━━━━━┳━━━━━━━━━━━━━━━━━━━━━━━━━━━━━━━━┳━━━━━━━━━━━━━━━━━━┓\n",
       "┃\u001b[1m \u001b[0m\u001b[1mchosen_text                    \u001b[0m\u001b[1m \u001b[0m┃\u001b[1m \u001b[0m\u001b[1mrejected_text                 \u001b[0m\u001b[1m \u001b[0m┃\u001b[1m \u001b[0m\u001b[1mlogits          \u001b[0m\u001b[1m \u001b[0m┃\n",
       "┡━━━━━━━━━━━━━━━━━━━━━━━━━━━━━━━━━╇━━━━━━━━━━━━━━━━━━━━━━━━━━━━━━━━╇━━━━━━━━━━━━━━━━━━┩\n",
       "│ 感谢认领.                       │ 公主                           │ [0.5191, 0.4809] │\n",
       "├─────────────────────────────────┼────────────────────────────────┼──────────────────┤\n",
       "│ 感谢认领露思好漂亮              │ 感谢认领美丽露宝~              │ [0.6257, 0.3743] │\n",
       "├─────────────────────────────────┼────────────────────────────────┼──────────────────┤\n",
       "│ 感谢认领露思好漂亮              │ 赵露思好美                     │ [0.7082, 0.2918] │\n",
       "├─────────────────────────────────┼────────────────────────────────┼──────────────────┤\n",
       "│ 杀了那么多人 蛇蝎心肠 还不够死� │ 他很好？很好为什么逮捕她？杀人 │ [0.3833, 0.6167] │\n",
       "└─────────────────────────────────┴────────────────────────────────┴──────────────────┘\n"
      ]
     },
     "metadata": {},
     "output_type": "display_data"
    },
    {
     "name": "stderr",
     "output_type": "stream",
     "text": [
      "/usr/local/lib/python3.8/dist-packages/transformers/tokenization_utils_base.py:2778: UserWarning: `max_length` is ignored when `padding`=`True` and there is no truncation strategy. To pad to max length, use `padding='max_length'`.\n",
      "  warnings.warn(\n",
      "/usr/local/lib/python3.8/dist-packages/trl/trainer/utils.py:599: UserWarning: There are 22 out of 3451 instances where the predictions for both options are equal. As a consequence the accuracy can be misleading.\n",
      "  warnings.warn(\n",
      "/usr/local/lib/python3.8/dist-packages/transformers/tokenization_utils_base.py:2778: UserWarning: `max_length` is ignored when `padding`=`True` and there is no truncation strategy. To pad to max length, use `padding='max_length'`.\n",
      "  warnings.warn(\n",
      "/usr/local/lib/python3.8/dist-packages/torch/utils/checkpoint.py:464: UserWarning: torch.utils.checkpoint: the use_reentrant parameter should be passed explicitly. In version 2.4 we will raise an exception if use_reentrant is not passed. use_reentrant=False is recommended, but if you need to preserve the current default behavior, you can pass use_reentrant=True. Refer to docs for more details on the differences between the two variants.\n",
      "  warnings.warn(\n",
      "/usr/local/lib/python3.8/dist-packages/torch/utils/checkpoint.py:91: UserWarning: None of the inputs have requires_grad=True. Gradients will be None\n",
      "  warnings.warn(\n"
     ]
    },
    {
     "data": {
      "text/html": [
       "<pre style=\"white-space:pre;overflow-x:auto;line-height:normal;font-family:Menlo,'DejaVu Sans Mono',consolas,'Courier New',monospace\">┏━━━━━━━━━━━━━━━━━━━━━━━━━━━━━━━━━┳━━━━━━━━━━━━━━━━━━━━━━━━━━━━━━━━━━━━┳━━━━━━━━━━━━━━━━━━┓\n",
       "┃<span style=\"font-weight: bold\"> chosen_text                     </span>┃<span style=\"font-weight: bold\"> rejected_text                      </span>┃<span style=\"font-weight: bold\"> logits           </span>┃\n",
       "┡━━━━━━━━━━━━━━━━━━━━━━━━━━━━━━━━━╇━━━━━━━━━━━━━━━━━━━━━━━━━━━━━━━━━━━━╇━━━━━━━━━━━━━━━━━━┩\n",
       "│ 感谢认领.                       │ 公主                               │ [0.6467, 0.3533] │\n",
       "├─────────────────────────────────┼────────────────────────────────────┼──────────────────┤\n",
       "│ 感谢认领露思好漂亮              │ 感谢认领美丽露宝~                  │ [0.4103, 0.5897] │\n",
       "├─────────────────────────────────┼────────────────────────────────────┼──────────────────┤\n",
       "│ 感谢认领露思好漂亮              │ 赵露思好美                         │ [0.5048, 0.4952] │\n",
       "├─────────────────────────────────┼────────────────────────────────────┼──────────────────┤\n",
       "│ 杀了那么多人 蛇蝎心肠 还不够死� │ 他很好？很好为什么逮捕她？杀人     │ [0.3136, 0.6864] │\n",
       "├─────────────────────────────────┼────────────────────────────────────┼──────────────────┤\n",
       "│ 她的辩护律师想通过帮她翻案，    │ 二审维持原判还能上诉吗？           │ [0.4858, 0.5142] │\n",
       "├─────────────────────────────────┼────────────────────────────────────┼──────────────────┤\n",
       "│ 妈的 这个律师有点良心吧 维持原  │ 感谢认领.                          │ [0.6136, 0.3864] │\n",
       "├─────────────────────────────────┼────────────────────────────────────┼──────────────────┤\n",
       "│ 她的辩护律师想通过帮她翻案，    │ 她家人没事吧？果然不是一家人，不进 │ [0.2767, 0.7233] │\n",
       "├─────────────────────────────────┼────────────────────────────────────┼──────────────────┤\n",
       "│ 《互联网黑历史现状》            │ 《你看看》                         │ [0.4224, 0.5776] │\n",
       "└─────────────────────────────────┴────────────────────────────────────┴──────────────────┘\n",
       "</pre>\n"
      ],
      "text/plain": [
       "┏━━━━━━━━━━━━━━━━━━━━━━━━━━━━━━━━━┳━━━━━━━━━━━━━━━━━━━━━━━━━━━━━━━━━━━━┳━━━━━━━━━━━━━━━━━━┓\n",
       "┃\u001b[1m \u001b[0m\u001b[1mchosen_text                    \u001b[0m\u001b[1m \u001b[0m┃\u001b[1m \u001b[0m\u001b[1mrejected_text                     \u001b[0m\u001b[1m \u001b[0m┃\u001b[1m \u001b[0m\u001b[1mlogits          \u001b[0m\u001b[1m \u001b[0m┃\n",
       "┡━━━━━━━━━━━━━━━━━━━━━━━━━━━━━━━━━╇━━━━━━━━━━━━━━━━━━━━━━━━━━━━━━━━━━━━╇━━━━━━━━━━━━━━━━━━┩\n",
       "│ 感谢认领.                       │ 公主                               │ [0.6467, 0.3533] │\n",
       "├─────────────────────────────────┼────────────────────────────────────┼──────────────────┤\n",
       "│ 感谢认领露思好漂亮              │ 感谢认领美丽露宝~                  │ [0.4103, 0.5897] │\n",
       "├─────────────────────────────────┼────────────────────────────────────┼──────────────────┤\n",
       "│ 感谢认领露思好漂亮              │ 赵露思好美                         │ [0.5048, 0.4952] │\n",
       "├─────────────────────────────────┼────────────────────────────────────┼──────────────────┤\n",
       "│ 杀了那么多人 蛇蝎心肠 还不够死� │ 他很好？很好为什么逮捕她？杀人     │ [0.3136, 0.6864] │\n",
       "├─────────────────────────────────┼────────────────────────────────────┼──────────────────┤\n",
       "│ 她的辩护律师想通过帮她翻案，    │ 二审维持原判还能上诉吗？           │ [0.4858, 0.5142] │\n",
       "├─────────────────────────────────┼────────────────────────────────────┼──────────────────┤\n",
       "│ 妈的 这个律师有点良心吧 维持原  │ 感谢认领.                          │ [0.6136, 0.3864] │\n",
       "├─────────────────────────────────┼────────────────────────────────────┼──────────────────┤\n",
       "│ 她的辩护律师想通过帮她翻案，    │ 她家人没事吧？果然不是一家人，不进 │ [0.2767, 0.7233] │\n",
       "├─────────────────────────────────┼────────────────────────────────────┼──────────────────┤\n",
       "│ 《互联网黑历史现状》            │ 《你看看》                         │ [0.4224, 0.5776] │\n",
       "└─────────────────────────────────┴────────────────────────────────────┴──────────────────┘\n"
      ]
     },
     "metadata": {},
     "output_type": "display_data"
    },
    {
     "data": {
      "text/html": [
       "<pre style=\"white-space:pre;overflow-x:auto;line-height:normal;font-family:Menlo,'DejaVu Sans Mono',consolas,'Courier New',monospace\">┏━━━━━━━━━━━━━━━━━━━━━━━━━━━━━━━━━┳━━━━━━━━━━━━━━━━━━━━━━━━━━━━━━━━┳━━━━━━━━━━━━━━━━━━┓\n",
       "┃<span style=\"font-weight: bold\"> chosen_text                     </span>┃<span style=\"font-weight: bold\"> rejected_text                  </span>┃<span style=\"font-weight: bold\"> logits           </span>┃\n",
       "┡━━━━━━━━━━━━━━━━━━━━━━━━━━━━━━━━━╇━━━━━━━━━━━━━━━━━━━━━━━━━━━━━━━━╇━━━━━━━━━━━━━━━━━━┩\n",
       "│ 感谢认领.                       │ 公主                           │ [0.6467, 0.3533] │\n",
       "├─────────────────────────────────┼────────────────────────────────┼──────────────────┤\n",
       "│ 感谢认领露思好漂亮              │ 感谢认领美丽露宝~              │ [0.4103, 0.5897] │\n",
       "├─────────────────────────────────┼────────────────────────────────┼──────────────────┤\n",
       "│ 感谢认领露思好漂亮              │ 赵露思好美                     │ [0.5048, 0.4952] │\n",
       "├─────────────────────────────────┼────────────────────────────────┼──────────────────┤\n",
       "│ 杀了那么多人 蛇蝎心肠 还不够死� │ 他很好？很好为什么逮捕她？杀人 │ [0.3136, 0.6864] │\n",
       "└─────────────────────────────────┴────────────────────────────────┴──────────────────┘\n",
       "</pre>\n"
      ],
      "text/plain": [
       "┏━━━━━━━━━━━━━━━━━━━━━━━━━━━━━━━━━┳━━━━━━━━━━━━━━━━━━━━━━━━━━━━━━━━┳━━━━━━━━━━━━━━━━━━┓\n",
       "┃\u001b[1m \u001b[0m\u001b[1mchosen_text                    \u001b[0m\u001b[1m \u001b[0m┃\u001b[1m \u001b[0m\u001b[1mrejected_text                 \u001b[0m\u001b[1m \u001b[0m┃\u001b[1m \u001b[0m\u001b[1mlogits          \u001b[0m\u001b[1m \u001b[0m┃\n",
       "┡━━━━━━━━━━━━━━━━━━━━━━━━━━━━━━━━━╇━━━━━━━━━━━━━━━━━━━━━━━━━━━━━━━━╇━━━━━━━━━━━━━━━━━━┩\n",
       "│ 感谢认领.                       │ 公主                           │ [0.6467, 0.3533] │\n",
       "├─────────────────────────────────┼────────────────────────────────┼──────────────────┤\n",
       "│ 感谢认领露思好漂亮              │ 感谢认领美丽露宝~              │ [0.4103, 0.5897] │\n",
       "├─────────────────────────────────┼────────────────────────────────┼──────────────────┤\n",
       "│ 感谢认领露思好漂亮              │ 赵露思好美                     │ [0.5048, 0.4952] │\n",
       "├─────────────────────────────────┼────────────────────────────────┼──────────────────┤\n",
       "│ 杀了那么多人 蛇蝎心肠 还不够死� │ 他很好？很好为什么逮捕她？杀人 │ [0.3136, 0.6864] │\n",
       "└─────────────────────────────────┴────────────────────────────────┴──────────────────┘\n"
      ]
     },
     "metadata": {},
     "output_type": "display_data"
    },
    {
     "name": "stderr",
     "output_type": "stream",
     "text": [
      "/usr/local/lib/python3.8/dist-packages/transformers/tokenization_utils_base.py:2778: UserWarning: `max_length` is ignored when `padding`=`True` and there is no truncation strategy. To pad to max length, use `padding='max_length'`.\n",
      "  warnings.warn(\n",
      "/usr/local/lib/python3.8/dist-packages/trl/trainer/utils.py:599: UserWarning: There are 22 out of 3451 instances where the predictions for both options are equal. As a consequence the accuracy can be misleading.\n",
      "  warnings.warn(\n",
      "/usr/local/lib/python3.8/dist-packages/transformers/tokenization_utils_base.py:2778: UserWarning: `max_length` is ignored when `padding`=`True` and there is no truncation strategy. To pad to max length, use `padding='max_length'`.\n",
      "  warnings.warn(\n",
      "/usr/local/lib/python3.8/dist-packages/torch/utils/checkpoint.py:464: UserWarning: torch.utils.checkpoint: the use_reentrant parameter should be passed explicitly. In version 2.4 we will raise an exception if use_reentrant is not passed. use_reentrant=False is recommended, but if you need to preserve the current default behavior, you can pass use_reentrant=True. Refer to docs for more details on the differences between the two variants.\n",
      "  warnings.warn(\n",
      "/usr/local/lib/python3.8/dist-packages/torch/utils/checkpoint.py:91: UserWarning: None of the inputs have requires_grad=True. Gradients will be None\n",
      "  warnings.warn(\n"
     ]
    },
    {
     "data": {
      "text/html": [
       "<pre style=\"white-space:pre;overflow-x:auto;line-height:normal;font-family:Menlo,'DejaVu Sans Mono',consolas,'Courier New',monospace\">┏━━━━━━━━━━━━━━━━━━━━━━━━━━━━━━━━━┳━━━━━━━━━━━━━━━━━━━━━━━━━━━━━━━━━━━━┳━━━━━━━━━━━━━━━━━━┓\n",
       "┃<span style=\"font-weight: bold\"> chosen_text                     </span>┃<span style=\"font-weight: bold\"> rejected_text                      </span>┃<span style=\"font-weight: bold\"> logits           </span>┃\n",
       "┡━━━━━━━━━━━━━━━━━━━━━━━━━━━━━━━━━╇━━━━━━━━━━━━━━━━━━━━━━━━━━━━━━━━━━━━╇━━━━━━━━━━━━━━━━━━┩\n",
       "│ 感谢认领.                       │ 公主                               │ [0.5965, 0.4035] │\n",
       "├─────────────────────────────────┼────────────────────────────────────┼──────────────────┤\n",
       "│ 感谢认领露思好漂亮              │ 感谢认领美丽露宝~                  │ [0.544, 0.456]   │\n",
       "├─────────────────────────────────┼────────────────────────────────────┼──────────────────┤\n",
       "│ 感谢认领露思好漂亮              │ 赵露思好美                         │ [0.5748, 0.4252] │\n",
       "├─────────────────────────────────┼────────────────────────────────────┼──────────────────┤\n",
       "│ 杀了那么多人 蛇蝎心肠 还不够死� │ 他很好？很好为什么逮捕她？杀人     │ [0.3441, 0.6559] │\n",
       "├─────────────────────────────────┼────────────────────────────────────┼──────────────────┤\n",
       "│ 她的辩护律师想通过帮她翻案，    │ 二审维持原判还能上诉吗？           │ [0.3687, 0.6313] │\n",
       "├─────────────────────────────────┼────────────────────────────────────┼──────────────────┤\n",
       "│ 妈的 这个律师有点良心吧 维持原  │ 感谢认领.                          │ [0.5149, 0.4851] │\n",
       "├─────────────────────────────────┼────────────────────────────────────┼──────────────────┤\n",
       "│ 她的辩护律师想通过帮她翻案，    │ 她家人没事吧？果然不是一家人，不进 │ [0.3928, 0.6072] │\n",
       "├─────────────────────────────────┼────────────────────────────────────┼──────────────────┤\n",
       "│ 《互联网黑历史现状》            │ 《你看看》                         │ [0.589, 0.411]   │\n",
       "└─────────────────────────────────┴────────────────────────────────────┴──────────────────┘\n",
       "</pre>\n"
      ],
      "text/plain": [
       "┏━━━━━━━━━━━━━━━━━━━━━━━━━━━━━━━━━┳━━━━━━━━━━━━━━━━━━━━━━━━━━━━━━━━━━━━┳━━━━━━━━━━━━━━━━━━┓\n",
       "┃\u001b[1m \u001b[0m\u001b[1mchosen_text                    \u001b[0m\u001b[1m \u001b[0m┃\u001b[1m \u001b[0m\u001b[1mrejected_text                     \u001b[0m\u001b[1m \u001b[0m┃\u001b[1m \u001b[0m\u001b[1mlogits          \u001b[0m\u001b[1m \u001b[0m┃\n",
       "┡━━━━━━━━━━━━━━━━━━━━━━━━━━━━━━━━━╇━━━━━━━━━━━━━━━━━━━━━━━━━━━━━━━━━━━━╇━━━━━━━━━━━━━━━━━━┩\n",
       "│ 感谢认领.                       │ 公主                               │ [0.5965, 0.4035] │\n",
       "├─────────────────────────────────┼────────────────────────────────────┼──────────────────┤\n",
       "│ 感谢认领露思好漂亮              │ 感谢认领美丽露宝~                  │ [0.544, 0.456]   │\n",
       "├─────────────────────────────────┼────────────────────────────────────┼──────────────────┤\n",
       "│ 感谢认领露思好漂亮              │ 赵露思好美                         │ [0.5748, 0.4252] │\n",
       "├─────────────────────────────────┼────────────────────────────────────┼──────────────────┤\n",
       "│ 杀了那么多人 蛇蝎心肠 还不够死� │ 他很好？很好为什么逮捕她？杀人     │ [0.3441, 0.6559] │\n",
       "├─────────────────────────────────┼────────────────────────────────────┼──────────────────┤\n",
       "│ 她的辩护律师想通过帮她翻案，    │ 二审维持原判还能上诉吗？           │ [0.3687, 0.6313] │\n",
       "├─────────────────────────────────┼────────────────────────────────────┼──────────────────┤\n",
       "│ 妈的 这个律师有点良心吧 维持原  │ 感谢认领.                          │ [0.5149, 0.4851] │\n",
       "├─────────────────────────────────┼────────────────────────────────────┼──────────────────┤\n",
       "│ 她的辩护律师想通过帮她翻案，    │ 她家人没事吧？果然不是一家人，不进 │ [0.3928, 0.6072] │\n",
       "├─────────────────────────────────┼────────────────────────────────────┼──────────────────┤\n",
       "│ 《互联网黑历史现状》            │ 《你看看》                         │ [0.589, 0.411]   │\n",
       "└─────────────────────────────────┴────────────────────────────────────┴──────────────────┘\n"
      ]
     },
     "metadata": {},
     "output_type": "display_data"
    },
    {
     "data": {
      "text/html": [
       "<pre style=\"white-space:pre;overflow-x:auto;line-height:normal;font-family:Menlo,'DejaVu Sans Mono',consolas,'Courier New',monospace\">┏━━━━━━━━━━━━━━━━━━━━━━━━━━━━━━━━━┳━━━━━━━━━━━━━━━━━━━━━━━━━━━━━━━━┳━━━━━━━━━━━━━━━━━━┓\n",
       "┃<span style=\"font-weight: bold\"> chosen_text                     </span>┃<span style=\"font-weight: bold\"> rejected_text                  </span>┃<span style=\"font-weight: bold\"> logits           </span>┃\n",
       "┡━━━━━━━━━━━━━━━━━━━━━━━━━━━━━━━━━╇━━━━━━━━━━━━━━━━━━━━━━━━━━━━━━━━╇━━━━━━━━━━━━━━━━━━┩\n",
       "│ 感谢认领.                       │ 公主                           │ [0.5965, 0.4035] │\n",
       "├─────────────────────────────────┼────────────────────────────────┼──────────────────┤\n",
       "│ 感谢认领露思好漂亮              │ 感谢认领美丽露宝~              │ [0.544, 0.456]   │\n",
       "├─────────────────────────────────┼────────────────────────────────┼──────────────────┤\n",
       "│ 感谢认领露思好漂亮              │ 赵露思好美                     │ [0.5748, 0.4252] │\n",
       "├─────────────────────────────────┼────────────────────────────────┼──────────────────┤\n",
       "│ 杀了那么多人 蛇蝎心肠 还不够死� │ 他很好？很好为什么逮捕她？杀人 │ [0.3441, 0.6559] │\n",
       "└─────────────────────────────────┴────────────────────────────────┴──────────────────┘\n",
       "</pre>\n"
      ],
      "text/plain": [
       "┏━━━━━━━━━━━━━━━━━━━━━━━━━━━━━━━━━┳━━━━━━━━━━━━━━━━━━━━━━━━━━━━━━━━┳━━━━━━━━━━━━━━━━━━┓\n",
       "┃\u001b[1m \u001b[0m\u001b[1mchosen_text                    \u001b[0m\u001b[1m \u001b[0m┃\u001b[1m \u001b[0m\u001b[1mrejected_text                 \u001b[0m\u001b[1m \u001b[0m┃\u001b[1m \u001b[0m\u001b[1mlogits          \u001b[0m\u001b[1m \u001b[0m┃\n",
       "┡━━━━━━━━━━━━━━━━━━━━━━━━━━━━━━━━━╇━━━━━━━━━━━━━━━━━━━━━━━━━━━━━━━━╇━━━━━━━━━━━━━━━━━━┩\n",
       "│ 感谢认领.                       │ 公主                           │ [0.5965, 0.4035] │\n",
       "├─────────────────────────────────┼────────────────────────────────┼──────────────────┤\n",
       "│ 感谢认领露思好漂亮              │ 感谢认领美丽露宝~              │ [0.544, 0.456]   │\n",
       "├─────────────────────────────────┼────────────────────────────────┼──────────────────┤\n",
       "│ 感谢认领露思好漂亮              │ 赵露思好美                     │ [0.5748, 0.4252] │\n",
       "├─────────────────────────────────┼────────────────────────────────┼──────────────────┤\n",
       "│ 杀了那么多人 蛇蝎心肠 还不够死� │ 他很好？很好为什么逮捕她？杀人 │ [0.3441, 0.6559] │\n",
       "└─────────────────────────────────┴────────────────────────────────┴──────────────────┘\n"
      ]
     },
     "metadata": {},
     "output_type": "display_data"
    },
    {
     "name": "stderr",
     "output_type": "stream",
     "text": [
      "/usr/local/lib/python3.8/dist-packages/transformers/tokenization_utils_base.py:2778: UserWarning: `max_length` is ignored when `padding`=`True` and there is no truncation strategy. To pad to max length, use `padding='max_length'`.\n",
      "  warnings.warn(\n",
      "/usr/local/lib/python3.8/dist-packages/trl/trainer/utils.py:599: UserWarning: There are 22 out of 3451 instances where the predictions for both options are equal. As a consequence the accuracy can be misleading.\n",
      "  warnings.warn(\n",
      "/usr/local/lib/python3.8/dist-packages/transformers/tokenization_utils_base.py:2778: UserWarning: `max_length` is ignored when `padding`=`True` and there is no truncation strategy. To pad to max length, use `padding='max_length'`.\n",
      "  warnings.warn(\n",
      "/usr/local/lib/python3.8/dist-packages/torch/utils/checkpoint.py:464: UserWarning: torch.utils.checkpoint: the use_reentrant parameter should be passed explicitly. In version 2.4 we will raise an exception if use_reentrant is not passed. use_reentrant=False is recommended, but if you need to preserve the current default behavior, you can pass use_reentrant=True. Refer to docs for more details on the differences between the two variants.\n",
      "  warnings.warn(\n",
      "/usr/local/lib/python3.8/dist-packages/torch/utils/checkpoint.py:91: UserWarning: None of the inputs have requires_grad=True. Gradients will be None\n",
      "  warnings.warn(\n"
     ]
    },
    {
     "data": {
      "text/html": [
       "<pre style=\"white-space:pre;overflow-x:auto;line-height:normal;font-family:Menlo,'DejaVu Sans Mono',consolas,'Courier New',monospace\">┏━━━━━━━━━━━━━━━━━━━━━━━━━━━━━━━━━┳━━━━━━━━━━━━━━━━━━━━━━━━━━━━━━━━━━━━┳━━━━━━━━━━━━━━━━━━┓\n",
       "┃<span style=\"font-weight: bold\"> chosen_text                     </span>┃<span style=\"font-weight: bold\"> rejected_text                      </span>┃<span style=\"font-weight: bold\"> logits           </span>┃\n",
       "┡━━━━━━━━━━━━━━━━━━━━━━━━━━━━━━━━━╇━━━━━━━━━━━━━━━━━━━━━━━━━━━━━━━━━━━━╇━━━━━━━━━━━━━━━━━━┩\n",
       "│ 感谢认领.                       │ 公主                               │ [0.4811, 0.5189] │\n",
       "├─────────────────────────────────┼────────────────────────────────────┼──────────────────┤\n",
       "│ 感谢认领露思好漂亮              │ 感谢认领美丽露宝~                  │ [0.6112, 0.3888] │\n",
       "├─────────────────────────────────┼────────────────────────────────────┼──────────────────┤\n",
       "│ 感谢认领露思好漂亮              │ 赵露思好美                         │ [0.5342, 0.4658] │\n",
       "├─────────────────────────────────┼────────────────────────────────────┼──────────────────┤\n",
       "│ 杀了那么多人 蛇蝎心肠 还不够死� │ 他很好？很好为什么逮捕她？杀人     │ [0.1885, 0.8115] │\n",
       "├─────────────────────────────────┼────────────────────────────────────┼──────────────────┤\n",
       "│ 她的辩护律师想通过帮她翻案，    │ 二审维持原判还能上诉吗？           │ [0.3589, 0.6411] │\n",
       "├─────────────────────────────────┼────────────────────────────────────┼──────────────────┤\n",
       "│ 妈的 这个律师有点良心吧 维持原  │ 感谢认领.                          │ [0.671, 0.329]   │\n",
       "├─────────────────────────────────┼────────────────────────────────────┼──────────────────┤\n",
       "│ 她的辩护律师想通过帮她翻案，    │ 她家人没事吧？果然不是一家人，不进 │ [0.2866, 0.7134] │\n",
       "├─────────────────────────────────┼────────────────────────────────────┼──────────────────┤\n",
       "│ 《互联网黑历史现状》            │ 《你看看》                         │ [0.6629, 0.3371] │\n",
       "└─────────────────────────────────┴────────────────────────────────────┴──────────────────┘\n",
       "</pre>\n"
      ],
      "text/plain": [
       "┏━━━━━━━━━━━━━━━━━━━━━━━━━━━━━━━━━┳━━━━━━━━━━━━━━━━━━━━━━━━━━━━━━━━━━━━┳━━━━━━━━━━━━━━━━━━┓\n",
       "┃\u001b[1m \u001b[0m\u001b[1mchosen_text                    \u001b[0m\u001b[1m \u001b[0m┃\u001b[1m \u001b[0m\u001b[1mrejected_text                     \u001b[0m\u001b[1m \u001b[0m┃\u001b[1m \u001b[0m\u001b[1mlogits          \u001b[0m\u001b[1m \u001b[0m┃\n",
       "┡━━━━━━━━━━━━━━━━━━━━━━━━━━━━━━━━━╇━━━━━━━━━━━━━━━━━━━━━━━━━━━━━━━━━━━━╇━━━━━━━━━━━━━━━━━━┩\n",
       "│ 感谢认领.                       │ 公主                               │ [0.4811, 0.5189] │\n",
       "├─────────────────────────────────┼────────────────────────────────────┼──────────────────┤\n",
       "│ 感谢认领露思好漂亮              │ 感谢认领美丽露宝~                  │ [0.6112, 0.3888] │\n",
       "├─────────────────────────────────┼────────────────────────────────────┼──────────────────┤\n",
       "│ 感谢认领露思好漂亮              │ 赵露思好美                         │ [0.5342, 0.4658] │\n",
       "├─────────────────────────────────┼────────────────────────────────────┼──────────────────┤\n",
       "│ 杀了那么多人 蛇蝎心肠 还不够死� │ 他很好？很好为什么逮捕她？杀人     │ [0.1885, 0.8115] │\n",
       "├─────────────────────────────────┼────────────────────────────────────┼──────────────────┤\n",
       "│ 她的辩护律师想通过帮她翻案，    │ 二审维持原判还能上诉吗？           │ [0.3589, 0.6411] │\n",
       "├─────────────────────────────────┼────────────────────────────────────┼──────────────────┤\n",
       "│ 妈的 这个律师有点良心吧 维持原  │ 感谢认领.                          │ [0.671, 0.329]   │\n",
       "├─────────────────────────────────┼────────────────────────────────────┼──────────────────┤\n",
       "│ 她的辩护律师想通过帮她翻案，    │ 她家人没事吧？果然不是一家人，不进 │ [0.2866, 0.7134] │\n",
       "├─────────────────────────────────┼────────────────────────────────────┼──────────────────┤\n",
       "│ 《互联网黑历史现状》            │ 《你看看》                         │ [0.6629, 0.3371] │\n",
       "└─────────────────────────────────┴────────────────────────────────────┴──────────────────┘\n"
      ]
     },
     "metadata": {},
     "output_type": "display_data"
    },
    {
     "data": {
      "text/html": [
       "<pre style=\"white-space:pre;overflow-x:auto;line-height:normal;font-family:Menlo,'DejaVu Sans Mono',consolas,'Courier New',monospace\">┏━━━━━━━━━━━━━━━━━━━━━━━━━━━━━━━━━┳━━━━━━━━━━━━━━━━━━━━━━━━━━━━━━━━┳━━━━━━━━━━━━━━━━━━┓\n",
       "┃<span style=\"font-weight: bold\"> chosen_text                     </span>┃<span style=\"font-weight: bold\"> rejected_text                  </span>┃<span style=\"font-weight: bold\"> logits           </span>┃\n",
       "┡━━━━━━━━━━━━━━━━━━━━━━━━━━━━━━━━━╇━━━━━━━━━━━━━━━━━━━━━━━━━━━━━━━━╇━━━━━━━━━━━━━━━━━━┩\n",
       "│ 感谢认领.                       │ 公主                           │ [0.4811, 0.5189] │\n",
       "├─────────────────────────────────┼────────────────────────────────┼──────────────────┤\n",
       "│ 感谢认领露思好漂亮              │ 感谢认领美丽露宝~              │ [0.6112, 0.3888] │\n",
       "├─────────────────────────────────┼────────────────────────────────┼──────────────────┤\n",
       "│ 感谢认领露思好漂亮              │ 赵露思好美                     │ [0.5342, 0.4658] │\n",
       "├─────────────────────────────────┼────────────────────────────────┼──────────────────┤\n",
       "│ 杀了那么多人 蛇蝎心肠 还不够死� │ 他很好？很好为什么逮捕她？杀人 │ [0.1885, 0.8115] │\n",
       "└─────────────────────────────────┴────────────────────────────────┴──────────────────┘\n",
       "</pre>\n"
      ],
      "text/plain": [
       "┏━━━━━━━━━━━━━━━━━━━━━━━━━━━━━━━━━┳━━━━━━━━━━━━━━━━━━━━━━━━━━━━━━━━┳━━━━━━━━━━━━━━━━━━┓\n",
       "┃\u001b[1m \u001b[0m\u001b[1mchosen_text                    \u001b[0m\u001b[1m \u001b[0m┃\u001b[1m \u001b[0m\u001b[1mrejected_text                 \u001b[0m\u001b[1m \u001b[0m┃\u001b[1m \u001b[0m\u001b[1mlogits          \u001b[0m\u001b[1m \u001b[0m┃\n",
       "┡━━━━━━━━━━━━━━━━━━━━━━━━━━━━━━━━━╇━━━━━━━━━━━━━━━━━━━━━━━━━━━━━━━━╇━━━━━━━━━━━━━━━━━━┩\n",
       "│ 感谢认领.                       │ 公主                           │ [0.4811, 0.5189] │\n",
       "├─────────────────────────────────┼────────────────────────────────┼──────────────────┤\n",
       "│ 感谢认领露思好漂亮              │ 感谢认领美丽露宝~              │ [0.6112, 0.3888] │\n",
       "├─────────────────────────────────┼────────────────────────────────┼──────────────────┤\n",
       "│ 感谢认领露思好漂亮              │ 赵露思好美                     │ [0.5342, 0.4658] │\n",
       "├─────────────────────────────────┼────────────────────────────────┼──────────────────┤\n",
       "│ 杀了那么多人 蛇蝎心肠 还不够死� │ 他很好？很好为什么逮捕她？杀人 │ [0.1885, 0.8115] │\n",
       "└─────────────────────────────────┴────────────────────────────────┴──────────────────┘\n"
      ]
     },
     "metadata": {},
     "output_type": "display_data"
    },
    {
     "name": "stderr",
     "output_type": "stream",
     "text": [
      "/usr/local/lib/python3.8/dist-packages/transformers/tokenization_utils_base.py:2778: UserWarning: `max_length` is ignored when `padding`=`True` and there is no truncation strategy. To pad to max length, use `padding='max_length'`.\n",
      "  warnings.warn(\n",
      "/usr/local/lib/python3.8/dist-packages/trl/trainer/utils.py:599: UserWarning: There are 22 out of 3451 instances where the predictions for both options are equal. As a consequence the accuracy can be misleading.\n",
      "  warnings.warn(\n",
      "/usr/local/lib/python3.8/dist-packages/transformers/tokenization_utils_base.py:2778: UserWarning: `max_length` is ignored when `padding`=`True` and there is no truncation strategy. To pad to max length, use `padding='max_length'`.\n",
      "  warnings.warn(\n",
      "/usr/local/lib/python3.8/dist-packages/torch/utils/checkpoint.py:464: UserWarning: torch.utils.checkpoint: the use_reentrant parameter should be passed explicitly. In version 2.4 we will raise an exception if use_reentrant is not passed. use_reentrant=False is recommended, but if you need to preserve the current default behavior, you can pass use_reentrant=True. Refer to docs for more details on the differences between the two variants.\n",
      "  warnings.warn(\n",
      "/usr/local/lib/python3.8/dist-packages/torch/utils/checkpoint.py:91: UserWarning: None of the inputs have requires_grad=True. Gradients will be None\n",
      "  warnings.warn(\n"
     ]
    },
    {
     "data": {
      "text/html": [
       "<pre style=\"white-space:pre;overflow-x:auto;line-height:normal;font-family:Menlo,'DejaVu Sans Mono',consolas,'Courier New',monospace\">┏━━━━━━━━━━━━━━━━━━━━━━━━━━━━━━━━━┳━━━━━━━━━━━━━━━━━━━━━━━━━━━━━━━━━━━━┳━━━━━━━━━━━━━━━━━━┓\n",
       "┃<span style=\"font-weight: bold\"> chosen_text                     </span>┃<span style=\"font-weight: bold\"> rejected_text                      </span>┃<span style=\"font-weight: bold\"> logits           </span>┃\n",
       "┡━━━━━━━━━━━━━━━━━━━━━━━━━━━━━━━━━╇━━━━━━━━━━━━━━━━━━━━━━━━━━━━━━━━━━━━╇━━━━━━━━━━━━━━━━━━┩\n",
       "│ 感谢认领.                       │ 公主                               │ [0.622, 0.378]   │\n",
       "├─────────────────────────────────┼────────────────────────────────────┼──────────────────┤\n",
       "│ 感谢认领露思好漂亮              │ 感谢认领美丽露宝~                  │ [0.5525, 0.4475] │\n",
       "├─────────────────────────────────┼────────────────────────────────────┼──────────────────┤\n",
       "│ 感谢认领露思好漂亮              │ 赵露思好美                         │ [0.5188, 0.4812] │\n",
       "├─────────────────────────────────┼────────────────────────────────────┼──────────────────┤\n",
       "│ 杀了那么多人 蛇蝎心肠 还不够死� │ 他很好？很好为什么逮捕她？杀人     │ [0.3469, 0.6531] │\n",
       "├─────────────────────────────────┼────────────────────────────────────┼──────────────────┤\n",
       "│ 她的辩护律师想通过帮她翻案，    │ 二审维持原判还能上诉吗？           │ [0.3367, 0.6633] │\n",
       "├─────────────────────────────────┼────────────────────────────────────┼──────────────────┤\n",
       "│ 妈的 这个律师有点良心吧 维持原  │ 感谢认领.                          │ [0.4988, 0.5012] │\n",
       "├─────────────────────────────────┼────────────────────────────────────┼──────────────────┤\n",
       "│ 她的辩护律师想通过帮她翻案，    │ 她家人没事吧？果然不是一家人，不进 │ [0.3773, 0.6227] │\n",
       "├─────────────────────────────────┼────────────────────────────────────┼──────────────────┤\n",
       "│ 《互联网黑历史现状》            │ 《你看看》                         │ [0.5763, 0.4237] │\n",
       "└─────────────────────────────────┴────────────────────────────────────┴──────────────────┘\n",
       "</pre>\n"
      ],
      "text/plain": [
       "┏━━━━━━━━━━━━━━━━━━━━━━━━━━━━━━━━━┳━━━━━━━━━━━━━━━━━━━━━━━━━━━━━━━━━━━━┳━━━━━━━━━━━━━━━━━━┓\n",
       "┃\u001b[1m \u001b[0m\u001b[1mchosen_text                    \u001b[0m\u001b[1m \u001b[0m┃\u001b[1m \u001b[0m\u001b[1mrejected_text                     \u001b[0m\u001b[1m \u001b[0m┃\u001b[1m \u001b[0m\u001b[1mlogits          \u001b[0m\u001b[1m \u001b[0m┃\n",
       "┡━━━━━━━━━━━━━━━━━━━━━━━━━━━━━━━━━╇━━━━━━━━━━━━━━━━━━━━━━━━━━━━━━━━━━━━╇━━━━━━━━━━━━━━━━━━┩\n",
       "│ 感谢认领.                       │ 公主                               │ [0.622, 0.378]   │\n",
       "├─────────────────────────────────┼────────────────────────────────────┼──────────────────┤\n",
       "│ 感谢认领露思好漂亮              │ 感谢认领美丽露宝~                  │ [0.5525, 0.4475] │\n",
       "├─────────────────────────────────┼────────────────────────────────────┼──────────────────┤\n",
       "│ 感谢认领露思好漂亮              │ 赵露思好美                         │ [0.5188, 0.4812] │\n",
       "├─────────────────────────────────┼────────────────────────────────────┼──────────────────┤\n",
       "│ 杀了那么多人 蛇蝎心肠 还不够死� │ 他很好？很好为什么逮捕她？杀人     │ [0.3469, 0.6531] │\n",
       "├─────────────────────────────────┼────────────────────────────────────┼──────────────────┤\n",
       "│ 她的辩护律师想通过帮她翻案，    │ 二审维持原判还能上诉吗？           │ [0.3367, 0.6633] │\n",
       "├─────────────────────────────────┼────────────────────────────────────┼──────────────────┤\n",
       "│ 妈的 这个律师有点良心吧 维持原  │ 感谢认领.                          │ [0.4988, 0.5012] │\n",
       "├─────────────────────────────────┼────────────────────────────────────┼──────────────────┤\n",
       "│ 她的辩护律师想通过帮她翻案，    │ 她家人没事吧？果然不是一家人，不进 │ [0.3773, 0.6227] │\n",
       "├─────────────────────────────────┼────────────────────────────────────┼──────────────────┤\n",
       "│ 《互联网黑历史现状》            │ 《你看看》                         │ [0.5763, 0.4237] │\n",
       "└─────────────────────────────────┴────────────────────────────────────┴──────────────────┘\n"
      ]
     },
     "metadata": {},
     "output_type": "display_data"
    },
    {
     "data": {
      "text/html": [
       "<pre style=\"white-space:pre;overflow-x:auto;line-height:normal;font-family:Menlo,'DejaVu Sans Mono',consolas,'Courier New',monospace\">┏━━━━━━━━━━━━━━━━━━━━━━━━━━━━━━━━━┳━━━━━━━━━━━━━━━━━━━━━━━━━━━━━━━━┳━━━━━━━━━━━━━━━━━━┓\n",
       "┃<span style=\"font-weight: bold\"> chosen_text                     </span>┃<span style=\"font-weight: bold\"> rejected_text                  </span>┃<span style=\"font-weight: bold\"> logits           </span>┃\n",
       "┡━━━━━━━━━━━━━━━━━━━━━━━━━━━━━━━━━╇━━━━━━━━━━━━━━━━━━━━━━━━━━━━━━━━╇━━━━━━━━━━━━━━━━━━┩\n",
       "│ 感谢认领.                       │ 公主                           │ [0.622, 0.378]   │\n",
       "├─────────────────────────────────┼────────────────────────────────┼──────────────────┤\n",
       "│ 感谢认领露思好漂亮              │ 感谢认领美丽露宝~              │ [0.5525, 0.4475] │\n",
       "├─────────────────────────────────┼────────────────────────────────┼──────────────────┤\n",
       "│ 感谢认领露思好漂亮              │ 赵露思好美                     │ [0.5188, 0.4812] │\n",
       "├─────────────────────────────────┼────────────────────────────────┼──────────────────┤\n",
       "│ 杀了那么多人 蛇蝎心肠 还不够死� │ 他很好？很好为什么逮捕她？杀人 │ [0.3469, 0.6531] │\n",
       "└─────────────────────────────────┴────────────────────────────────┴──────────────────┘\n",
       "</pre>\n"
      ],
      "text/plain": [
       "┏━━━━━━━━━━━━━━━━━━━━━━━━━━━━━━━━━┳━━━━━━━━━━━━━━━━━━━━━━━━━━━━━━━━┳━━━━━━━━━━━━━━━━━━┓\n",
       "┃\u001b[1m \u001b[0m\u001b[1mchosen_text                    \u001b[0m\u001b[1m \u001b[0m┃\u001b[1m \u001b[0m\u001b[1mrejected_text                 \u001b[0m\u001b[1m \u001b[0m┃\u001b[1m \u001b[0m\u001b[1mlogits          \u001b[0m\u001b[1m \u001b[0m┃\n",
       "┡━━━━━━━━━━━━━━━━━━━━━━━━━━━━━━━━━╇━━━━━━━━━━━━━━━━━━━━━━━━━━━━━━━━╇━━━━━━━━━━━━━━━━━━┩\n",
       "│ 感谢认领.                       │ 公主                           │ [0.622, 0.378]   │\n",
       "├─────────────────────────────────┼────────────────────────────────┼──────────────────┤\n",
       "│ 感谢认领露思好漂亮              │ 感谢认领美丽露宝~              │ [0.5525, 0.4475] │\n",
       "├─────────────────────────────────┼────────────────────────────────┼──────────────────┤\n",
       "│ 感谢认领露思好漂亮              │ 赵露思好美                     │ [0.5188, 0.4812] │\n",
       "├─────────────────────────────────┼────────────────────────────────┼──────────────────┤\n",
       "│ 杀了那么多人 蛇蝎心肠 还不够死� │ 他很好？很好为什么逮捕她？杀人 │ [0.3469, 0.6531] │\n",
       "└─────────────────────────────────┴────────────────────────────────┴──────────────────┘\n"
      ]
     },
     "metadata": {},
     "output_type": "display_data"
    },
    {
     "name": "stderr",
     "output_type": "stream",
     "text": [
      "/usr/local/lib/python3.8/dist-packages/transformers/tokenization_utils_base.py:2778: UserWarning: `max_length` is ignored when `padding`=`True` and there is no truncation strategy. To pad to max length, use `padding='max_length'`.\n",
      "  warnings.warn(\n",
      "/usr/local/lib/python3.8/dist-packages/trl/trainer/utils.py:599: UserWarning: There are 22 out of 3451 instances where the predictions for both options are equal. As a consequence the accuracy can be misleading.\n",
      "  warnings.warn(\n",
      "/usr/local/lib/python3.8/dist-packages/transformers/tokenization_utils_base.py:2778: UserWarning: `max_length` is ignored when `padding`=`True` and there is no truncation strategy. To pad to max length, use `padding='max_length'`.\n",
      "  warnings.warn(\n",
      "/usr/local/lib/python3.8/dist-packages/torch/utils/checkpoint.py:464: UserWarning: torch.utils.checkpoint: the use_reentrant parameter should be passed explicitly. In version 2.4 we will raise an exception if use_reentrant is not passed. use_reentrant=False is recommended, but if you need to preserve the current default behavior, you can pass use_reentrant=True. Refer to docs for more details on the differences between the two variants.\n",
      "  warnings.warn(\n",
      "/usr/local/lib/python3.8/dist-packages/torch/utils/checkpoint.py:91: UserWarning: None of the inputs have requires_grad=True. Gradients will be None\n",
      "  warnings.warn(\n"
     ]
    },
    {
     "data": {
      "text/html": [
       "<pre style=\"white-space:pre;overflow-x:auto;line-height:normal;font-family:Menlo,'DejaVu Sans Mono',consolas,'Courier New',monospace\">┏━━━━━━━━━━━━━━━━━━━━━━━━━━━━━━━━━┳━━━━━━━━━━━━━━━━━━━━━━━━━━━━━━━━━━━━┳━━━━━━━━━━━━━━━━━━┓\n",
       "┃<span style=\"font-weight: bold\"> chosen_text                     </span>┃<span style=\"font-weight: bold\"> rejected_text                      </span>┃<span style=\"font-weight: bold\"> logits           </span>┃\n",
       "┡━━━━━━━━━━━━━━━━━━━━━━━━━━━━━━━━━╇━━━━━━━━━━━━━━━━━━━━━━━━━━━━━━━━━━━━╇━━━━━━━━━━━━━━━━━━┩\n",
       "│ 感谢认领.                       │ 公主                               │ [0.5739, 0.4261] │\n",
       "├─────────────────────────────────┼────────────────────────────────────┼──────────────────┤\n",
       "│ 感谢认领露思好漂亮              │ 感谢认领美丽露宝~                  │ [0.5763, 0.4237] │\n",
       "├─────────────────────────────────┼────────────────────────────────────┼──────────────────┤\n",
       "│ 感谢认领露思好漂亮              │ 赵露思好美                         │ [0.8158, 0.1842] │\n",
       "├─────────────────────────────────┼────────────────────────────────────┼──────────────────┤\n",
       "│ 杀了那么多人 蛇蝎心肠 还不够死� │ 他很好？很好为什么逮捕她？杀人     │ [0.2452, 0.7548] │\n",
       "├─────────────────────────────────┼────────────────────────────────────┼──────────────────┤\n",
       "│ 她的辩护律师想通过帮她翻案，    │ 二审维持原判还能上诉吗？           │ [0.4058, 0.5942] │\n",
       "├─────────────────────────────────┼────────────────────────────────────┼──────────────────┤\n",
       "│ 妈的 这个律师有点良心吧 维持原  │ 感谢认领.                          │ [0.6095, 0.3905] │\n",
       "├─────────────────────────────────┼────────────────────────────────────┼──────────────────┤\n",
       "│ 她的辩护律师想通过帮她翻案，    │ 她家人没事吧？果然不是一家人，不进 │ [0.2379, 0.7621] │\n",
       "├─────────────────────────────────┼────────────────────────────────────┼──────────────────┤\n",
       "│ 《互联网黑历史现状》            │ 《你看看》                         │ [0.5969, 0.4031] │\n",
       "└─────────────────────────────────┴────────────────────────────────────┴──────────────────┘\n",
       "</pre>\n"
      ],
      "text/plain": [
       "┏━━━━━━━━━━━━━━━━━━━━━━━━━━━━━━━━━┳━━━━━━━━━━━━━━━━━━━━━━━━━━━━━━━━━━━━┳━━━━━━━━━━━━━━━━━━┓\n",
       "┃\u001b[1m \u001b[0m\u001b[1mchosen_text                    \u001b[0m\u001b[1m \u001b[0m┃\u001b[1m \u001b[0m\u001b[1mrejected_text                     \u001b[0m\u001b[1m \u001b[0m┃\u001b[1m \u001b[0m\u001b[1mlogits          \u001b[0m\u001b[1m \u001b[0m┃\n",
       "┡━━━━━━━━━━━━━━━━━━━━━━━━━━━━━━━━━╇━━━━━━━━━━━━━━━━━━━━━━━━━━━━━━━━━━━━╇━━━━━━━━━━━━━━━━━━┩\n",
       "│ 感谢认领.                       │ 公主                               │ [0.5739, 0.4261] │\n",
       "├─────────────────────────────────┼────────────────────────────────────┼──────────────────┤\n",
       "│ 感谢认领露思好漂亮              │ 感谢认领美丽露宝~                  │ [0.5763, 0.4237] │\n",
       "├─────────────────────────────────┼────────────────────────────────────┼──────────────────┤\n",
       "│ 感谢认领露思好漂亮              │ 赵露思好美                         │ [0.8158, 0.1842] │\n",
       "├─────────────────────────────────┼────────────────────────────────────┼──────────────────┤\n",
       "│ 杀了那么多人 蛇蝎心肠 还不够死� │ 他很好？很好为什么逮捕她？杀人     │ [0.2452, 0.7548] │\n",
       "├─────────────────────────────────┼────────────────────────────────────┼──────────────────┤\n",
       "│ 她的辩护律师想通过帮她翻案，    │ 二审维持原判还能上诉吗？           │ [0.4058, 0.5942] │\n",
       "├─────────────────────────────────┼────────────────────────────────────┼──────────────────┤\n",
       "│ 妈的 这个律师有点良心吧 维持原  │ 感谢认领.                          │ [0.6095, 0.3905] │\n",
       "├─────────────────────────────────┼────────────────────────────────────┼──────────────────┤\n",
       "│ 她的辩护律师想通过帮她翻案，    │ 她家人没事吧？果然不是一家人，不进 │ [0.2379, 0.7621] │\n",
       "├─────────────────────────────────┼────────────────────────────────────┼──────────────────┤\n",
       "│ 《互联网黑历史现状》            │ 《你看看》                         │ [0.5969, 0.4031] │\n",
       "└─────────────────────────────────┴────────────────────────────────────┴──────────────────┘\n"
      ]
     },
     "metadata": {},
     "output_type": "display_data"
    },
    {
     "data": {
      "text/html": [
       "<pre style=\"white-space:pre;overflow-x:auto;line-height:normal;font-family:Menlo,'DejaVu Sans Mono',consolas,'Courier New',monospace\">┏━━━━━━━━━━━━━━━━━━━━━━━━━━━━━━━━━┳━━━━━━━━━━━━━━━━━━━━━━━━━━━━━━━━┳━━━━━━━━━━━━━━━━━━┓\n",
       "┃<span style=\"font-weight: bold\"> chosen_text                     </span>┃<span style=\"font-weight: bold\"> rejected_text                  </span>┃<span style=\"font-weight: bold\"> logits           </span>┃\n",
       "┡━━━━━━━━━━━━━━━━━━━━━━━━━━━━━━━━━╇━━━━━━━━━━━━━━━━━━━━━━━━━━━━━━━━╇━━━━━━━━━━━━━━━━━━┩\n",
       "│ 感谢认领.                       │ 公主                           │ [0.5739, 0.4261] │\n",
       "├─────────────────────────────────┼────────────────────────────────┼──────────────────┤\n",
       "│ 感谢认领露思好漂亮              │ 感谢认领美丽露宝~              │ [0.5763, 0.4237] │\n",
       "├─────────────────────────────────┼────────────────────────────────┼──────────────────┤\n",
       "│ 感谢认领露思好漂亮              │ 赵露思好美                     │ [0.8158, 0.1842] │\n",
       "├─────────────────────────────────┼────────────────────────────────┼──────────────────┤\n",
       "│ 杀了那么多人 蛇蝎心肠 还不够死� │ 他很好？很好为什么逮捕她？杀人 │ [0.2452, 0.7548] │\n",
       "└─────────────────────────────────┴────────────────────────────────┴──────────────────┘\n",
       "</pre>\n"
      ],
      "text/plain": [
       "┏━━━━━━━━━━━━━━━━━━━━━━━━━━━━━━━━━┳━━━━━━━━━━━━━━━━━━━━━━━━━━━━━━━━┳━━━━━━━━━━━━━━━━━━┓\n",
       "┃\u001b[1m \u001b[0m\u001b[1mchosen_text                    \u001b[0m\u001b[1m \u001b[0m┃\u001b[1m \u001b[0m\u001b[1mrejected_text                 \u001b[0m\u001b[1m \u001b[0m┃\u001b[1m \u001b[0m\u001b[1mlogits          \u001b[0m\u001b[1m \u001b[0m┃\n",
       "┡━━━━━━━━━━━━━━━━━━━━━━━━━━━━━━━━━╇━━━━━━━━━━━━━━━━━━━━━━━━━━━━━━━━╇━━━━━━━━━━━━━━━━━━┩\n",
       "│ 感谢认领.                       │ 公主                           │ [0.5739, 0.4261] │\n",
       "├─────────────────────────────────┼────────────────────────────────┼──────────────────┤\n",
       "│ 感谢认领露思好漂亮              │ 感谢认领美丽露宝~              │ [0.5763, 0.4237] │\n",
       "├─────────────────────────────────┼────────────────────────────────┼──────────────────┤\n",
       "│ 感谢认领露思好漂亮              │ 赵露思好美                     │ [0.8158, 0.1842] │\n",
       "├─────────────────────────────────┼────────────────────────────────┼──────────────────┤\n",
       "│ 杀了那么多人 蛇蝎心肠 还不够死� │ 他很好？很好为什么逮捕她？杀人 │ [0.2452, 0.7548] │\n",
       "└─────────────────────────────────┴────────────────────────────────┴──────────────────┘\n"
      ]
     },
     "metadata": {},
     "output_type": "display_data"
    },
    {
     "name": "stderr",
     "output_type": "stream",
     "text": [
      "/usr/local/lib/python3.8/dist-packages/transformers/tokenization_utils_base.py:2778: UserWarning: `max_length` is ignored when `padding`=`True` and there is no truncation strategy. To pad to max length, use `padding='max_length'`.\n",
      "  warnings.warn(\n",
      "/usr/local/lib/python3.8/dist-packages/trl/trainer/utils.py:599: UserWarning: There are 22 out of 3451 instances where the predictions for both options are equal. As a consequence the accuracy can be misleading.\n",
      "  warnings.warn(\n",
      "/usr/local/lib/python3.8/dist-packages/transformers/tokenization_utils_base.py:2778: UserWarning: `max_length` is ignored when `padding`=`True` and there is no truncation strategy. To pad to max length, use `padding='max_length'`.\n",
      "  warnings.warn(\n",
      "/usr/local/lib/python3.8/dist-packages/torch/utils/checkpoint.py:464: UserWarning: torch.utils.checkpoint: the use_reentrant parameter should be passed explicitly. In version 2.4 we will raise an exception if use_reentrant is not passed. use_reentrant=False is recommended, but if you need to preserve the current default behavior, you can pass use_reentrant=True. Refer to docs for more details on the differences between the two variants.\n",
      "  warnings.warn(\n",
      "/usr/local/lib/python3.8/dist-packages/torch/utils/checkpoint.py:91: UserWarning: None of the inputs have requires_grad=True. Gradients will be None\n",
      "  warnings.warn(\n"
     ]
    },
    {
     "data": {
      "text/html": [
       "<pre style=\"white-space:pre;overflow-x:auto;line-height:normal;font-family:Menlo,'DejaVu Sans Mono',consolas,'Courier New',monospace\">┏━━━━━━━━━━━━━━━━━━━━━━━━━━━━━━━━━┳━━━━━━━━━━━━━━━━━━━━━━━━━━━━━━━━━━━━┳━━━━━━━━━━━━━━━━━━┓\n",
       "┃<span style=\"font-weight: bold\"> chosen_text                     </span>┃<span style=\"font-weight: bold\"> rejected_text                      </span>┃<span style=\"font-weight: bold\"> logits           </span>┃\n",
       "┡━━━━━━━━━━━━━━━━━━━━━━━━━━━━━━━━━╇━━━━━━━━━━━━━━━━━━━━━━━━━━━━━━━━━━━━╇━━━━━━━━━━━━━━━━━━┩\n",
       "│ 感谢认领.                       │ 公主                               │ [0.7422, 0.2578] │\n",
       "├─────────────────────────────────┼────────────────────────────────────┼──────────────────┤\n",
       "│ 感谢认领露思好漂亮              │ 感谢认领美丽露宝~                  │ [0.5704, 0.4296] │\n",
       "├─────────────────────────────────┼────────────────────────────────────┼──────────────────┤\n",
       "│ 感谢认领露思好漂亮              │ 赵露思好美                         │ [0.5382, 0.4618] │\n",
       "├─────────────────────────────────┼────────────────────────────────────┼──────────────────┤\n",
       "│ 杀了那么多人 蛇蝎心肠 还不够死� │ 他很好？很好为什么逮捕她？杀人     │ [0.39, 0.61]     │\n",
       "├─────────────────────────────────┼────────────────────────────────────┼──────────────────┤\n",
       "│ 她的辩护律师想通过帮她翻案，    │ 二审维持原判还能上诉吗？           │ [0.3235, 0.6765] │\n",
       "├─────────────────────────────────┼────────────────────────────────────┼──────────────────┤\n",
       "│ 妈的 这个律师有点良心吧 维持原  │ 感谢认领.                          │ [0.641, 0.359]   │\n",
       "├─────────────────────────────────┼────────────────────────────────────┼──────────────────┤\n",
       "│ 她的辩护律师想通过帮她翻案，    │ 她家人没事吧？果然不是一家人，不进 │ [0.3795, 0.6205] │\n",
       "├─────────────────────────────────┼────────────────────────────────────┼──────────────────┤\n",
       "│ 《互联网黑历史现状》            │ 《你看看》                         │ [0.4634, 0.5366] │\n",
       "└─────────────────────────────────┴────────────────────────────────────┴──────────────────┘\n",
       "</pre>\n"
      ],
      "text/plain": [
       "┏━━━━━━━━━━━━━━━━━━━━━━━━━━━━━━━━━┳━━━━━━━━━━━━━━━━━━━━━━━━━━━━━━━━━━━━┳━━━━━━━━━━━━━━━━━━┓\n",
       "┃\u001b[1m \u001b[0m\u001b[1mchosen_text                    \u001b[0m\u001b[1m \u001b[0m┃\u001b[1m \u001b[0m\u001b[1mrejected_text                     \u001b[0m\u001b[1m \u001b[0m┃\u001b[1m \u001b[0m\u001b[1mlogits          \u001b[0m\u001b[1m \u001b[0m┃\n",
       "┡━━━━━━━━━━━━━━━━━━━━━━━━━━━━━━━━━╇━━━━━━━━━━━━━━━━━━━━━━━━━━━━━━━━━━━━╇━━━━━━━━━━━━━━━━━━┩\n",
       "│ 感谢认领.                       │ 公主                               │ [0.7422, 0.2578] │\n",
       "├─────────────────────────────────┼────────────────────────────────────┼──────────────────┤\n",
       "│ 感谢认领露思好漂亮              │ 感谢认领美丽露宝~                  │ [0.5704, 0.4296] │\n",
       "├─────────────────────────────────┼────────────────────────────────────┼──────────────────┤\n",
       "│ 感谢认领露思好漂亮              │ 赵露思好美                         │ [0.5382, 0.4618] │\n",
       "├─────────────────────────────────┼────────────────────────────────────┼──────────────────┤\n",
       "│ 杀了那么多人 蛇蝎心肠 还不够死� │ 他很好？很好为什么逮捕她？杀人     │ [0.39, 0.61]     │\n",
       "├─────────────────────────────────┼────────────────────────────────────┼──────────────────┤\n",
       "│ 她的辩护律师想通过帮她翻案，    │ 二审维持原判还能上诉吗？           │ [0.3235, 0.6765] │\n",
       "├─────────────────────────────────┼────────────────────────────────────┼──────────────────┤\n",
       "│ 妈的 这个律师有点良心吧 维持原  │ 感谢认领.                          │ [0.641, 0.359]   │\n",
       "├─────────────────────────────────┼────────────────────────────────────┼──────────────────┤\n",
       "│ 她的辩护律师想通过帮她翻案，    │ 她家人没事吧？果然不是一家人，不进 │ [0.3795, 0.6205] │\n",
       "├─────────────────────────────────┼────────────────────────────────────┼──────────────────┤\n",
       "│ 《互联网黑历史现状》            │ 《你看看》                         │ [0.4634, 0.5366] │\n",
       "└─────────────────────────────────┴────────────────────────────────────┴──────────────────┘\n"
      ]
     },
     "metadata": {},
     "output_type": "display_data"
    },
    {
     "data": {
      "text/html": [
       "<pre style=\"white-space:pre;overflow-x:auto;line-height:normal;font-family:Menlo,'DejaVu Sans Mono',consolas,'Courier New',monospace\">┏━━━━━━━━━━━━━━━━━━━━━━━━━━━━━━━━━┳━━━━━━━━━━━━━━━━━━━━━━━━━━━━━━━━┳━━━━━━━━━━━━━━━━━━┓\n",
       "┃<span style=\"font-weight: bold\"> chosen_text                     </span>┃<span style=\"font-weight: bold\"> rejected_text                  </span>┃<span style=\"font-weight: bold\"> logits           </span>┃\n",
       "┡━━━━━━━━━━━━━━━━━━━━━━━━━━━━━━━━━╇━━━━━━━━━━━━━━━━━━━━━━━━━━━━━━━━╇━━━━━━━━━━━━━━━━━━┩\n",
       "│ 感谢认领.                       │ 公主                           │ [0.7422, 0.2578] │\n",
       "├─────────────────────────────────┼────────────────────────────────┼──────────────────┤\n",
       "│ 感谢认领露思好漂亮              │ 感谢认领美丽露宝~              │ [0.5704, 0.4296] │\n",
       "├─────────────────────────────────┼────────────────────────────────┼──────────────────┤\n",
       "│ 感谢认领露思好漂亮              │ 赵露思好美                     │ [0.5382, 0.4618] │\n",
       "├─────────────────────────────────┼────────────────────────────────┼──────────────────┤\n",
       "│ 杀了那么多人 蛇蝎心肠 还不够死� │ 他很好？很好为什么逮捕她？杀人 │ [0.39, 0.61]     │\n",
       "└─────────────────────────────────┴────────────────────────────────┴──────────────────┘\n",
       "</pre>\n"
      ],
      "text/plain": [
       "┏━━━━━━━━━━━━━━━━━━━━━━━━━━━━━━━━━┳━━━━━━━━━━━━━━━━━━━━━━━━━━━━━━━━┳━━━━━━━━━━━━━━━━━━┓\n",
       "┃\u001b[1m \u001b[0m\u001b[1mchosen_text                    \u001b[0m\u001b[1m \u001b[0m┃\u001b[1m \u001b[0m\u001b[1mrejected_text                 \u001b[0m\u001b[1m \u001b[0m┃\u001b[1m \u001b[0m\u001b[1mlogits          \u001b[0m\u001b[1m \u001b[0m┃\n",
       "┡━━━━━━━━━━━━━━━━━━━━━━━━━━━━━━━━━╇━━━━━━━━━━━━━━━━━━━━━━━━━━━━━━━━╇━━━━━━━━━━━━━━━━━━┩\n",
       "│ 感谢认领.                       │ 公主                           │ [0.7422, 0.2578] │\n",
       "├─────────────────────────────────┼────────────────────────────────┼──────────────────┤\n",
       "│ 感谢认领露思好漂亮              │ 感谢认领美丽露宝~              │ [0.5704, 0.4296] │\n",
       "├─────────────────────────────────┼────────────────────────────────┼──────────────────┤\n",
       "│ 感谢认领露思好漂亮              │ 赵露思好美                     │ [0.5382, 0.4618] │\n",
       "├─────────────────────────────────┼────────────────────────────────┼──────────────────┤\n",
       "│ 杀了那么多人 蛇蝎心肠 还不够死� │ 他很好？很好为什么逮捕她？杀人 │ [0.39, 0.61]     │\n",
       "└─────────────────────────────────┴────────────────────────────────┴──────────────────┘\n"
      ]
     },
     "metadata": {},
     "output_type": "display_data"
    },
    {
     "name": "stderr",
     "output_type": "stream",
     "text": [
      "/usr/local/lib/python3.8/dist-packages/transformers/tokenization_utils_base.py:2778: UserWarning: `max_length` is ignored when `padding`=`True` and there is no truncation strategy. To pad to max length, use `padding='max_length'`.\n",
      "  warnings.warn(\n",
      "/usr/local/lib/python3.8/dist-packages/trl/trainer/utils.py:599: UserWarning: There are 22 out of 3451 instances where the predictions for both options are equal. As a consequence the accuracy can be misleading.\n",
      "  warnings.warn(\n",
      "/usr/local/lib/python3.8/dist-packages/transformers/tokenization_utils_base.py:2778: UserWarning: `max_length` is ignored when `padding`=`True` and there is no truncation strategy. To pad to max length, use `padding='max_length'`.\n",
      "  warnings.warn(\n",
      "/usr/local/lib/python3.8/dist-packages/torch/utils/checkpoint.py:464: UserWarning: torch.utils.checkpoint: the use_reentrant parameter should be passed explicitly. In version 2.4 we will raise an exception if use_reentrant is not passed. use_reentrant=False is recommended, but if you need to preserve the current default behavior, you can pass use_reentrant=True. Refer to docs for more details on the differences between the two variants.\n",
      "  warnings.warn(\n",
      "/usr/local/lib/python3.8/dist-packages/torch/utils/checkpoint.py:91: UserWarning: None of the inputs have requires_grad=True. Gradients will be None\n",
      "  warnings.warn(\n"
     ]
    },
    {
     "data": {
      "text/html": [
       "<pre style=\"white-space:pre;overflow-x:auto;line-height:normal;font-family:Menlo,'DejaVu Sans Mono',consolas,'Courier New',monospace\">┏━━━━━━━━━━━━━━━━━━━━━━━━━━━━━━━━━┳━━━━━━━━━━━━━━━━━━━━━━━━━━━━━━━━━━━━┳━━━━━━━━━━━━━━━━━━┓\n",
       "┃<span style=\"font-weight: bold\"> chosen_text                     </span>┃<span style=\"font-weight: bold\"> rejected_text                      </span>┃<span style=\"font-weight: bold\"> logits           </span>┃\n",
       "┡━━━━━━━━━━━━━━━━━━━━━━━━━━━━━━━━━╇━━━━━━━━━━━━━━━━━━━━━━━━━━━━━━━━━━━━╇━━━━━━━━━━━━━━━━━━┩\n",
       "│ 感谢认领.                       │ 公主                               │ [0.5949, 0.4051] │\n",
       "├─────────────────────────────────┼────────────────────────────────────┼──────────────────┤\n",
       "│ 感谢认领露思好漂亮              │ 感谢认领美丽露宝~                  │ [0.5665, 0.4335] │\n",
       "├─────────────────────────────────┼────────────────────────────────────┼──────────────────┤\n",
       "│ 感谢认领露思好漂亮              │ 赵露思好美                         │ [0.6969, 0.3031] │\n",
       "├─────────────────────────────────┼────────────────────────────────────┼──────────────────┤\n",
       "│ 杀了那么多人 蛇蝎心肠 还不够死� │ 他很好？很好为什么逮捕她？杀人     │ [0.2459, 0.7541] │\n",
       "├─────────────────────────────────┼────────────────────────────────────┼──────────────────┤\n",
       "│ 她的辩护律师想通过帮她翻案，    │ 二审维持原判还能上诉吗？           │ [0.2872, 0.7128] │\n",
       "├─────────────────────────────────┼────────────────────────────────────┼──────────────────┤\n",
       "│ 妈的 这个律师有点良心吧 维持原  │ 感谢认领.                          │ [0.5942, 0.4058] │\n",
       "├─────────────────────────────────┼────────────────────────────────────┼──────────────────┤\n",
       "│ 她的辩护律师想通过帮她翻案，    │ 她家人没事吧？果然不是一家人，不进 │ [0.2912, 0.7088] │\n",
       "├─────────────────────────────────┼────────────────────────────────────┼──────────────────┤\n",
       "│ 《互联网黑历史现状》            │ 《你看看》                         │ [0.604, 0.396]   │\n",
       "└─────────────────────────────────┴────────────────────────────────────┴──────────────────┘\n",
       "</pre>\n"
      ],
      "text/plain": [
       "┏━━━━━━━━━━━━━━━━━━━━━━━━━━━━━━━━━┳━━━━━━━━━━━━━━━━━━━━━━━━━━━━━━━━━━━━┳━━━━━━━━━━━━━━━━━━┓\n",
       "┃\u001b[1m \u001b[0m\u001b[1mchosen_text                    \u001b[0m\u001b[1m \u001b[0m┃\u001b[1m \u001b[0m\u001b[1mrejected_text                     \u001b[0m\u001b[1m \u001b[0m┃\u001b[1m \u001b[0m\u001b[1mlogits          \u001b[0m\u001b[1m \u001b[0m┃\n",
       "┡━━━━━━━━━━━━━━━━━━━━━━━━━━━━━━━━━╇━━━━━━━━━━━━━━━━━━━━━━━━━━━━━━━━━━━━╇━━━━━━━━━━━━━━━━━━┩\n",
       "│ 感谢认领.                       │ 公主                               │ [0.5949, 0.4051] │\n",
       "├─────────────────────────────────┼────────────────────────────────────┼──────────────────┤\n",
       "│ 感谢认领露思好漂亮              │ 感谢认领美丽露宝~                  │ [0.5665, 0.4335] │\n",
       "├─────────────────────────────────┼────────────────────────────────────┼──────────────────┤\n",
       "│ 感谢认领露思好漂亮              │ 赵露思好美                         │ [0.6969, 0.3031] │\n",
       "├─────────────────────────────────┼────────────────────────────────────┼──────────────────┤\n",
       "│ 杀了那么多人 蛇蝎心肠 还不够死� │ 他很好？很好为什么逮捕她？杀人     │ [0.2459, 0.7541] │\n",
       "├─────────────────────────────────┼────────────────────────────────────┼──────────────────┤\n",
       "│ 她的辩护律师想通过帮她翻案，    │ 二审维持原判还能上诉吗？           │ [0.2872, 0.7128] │\n",
       "├─────────────────────────────────┼────────────────────────────────────┼──────────────────┤\n",
       "│ 妈的 这个律师有点良心吧 维持原  │ 感谢认领.                          │ [0.5942, 0.4058] │\n",
       "├─────────────────────────────────┼────────────────────────────────────┼──────────────────┤\n",
       "│ 她的辩护律师想通过帮她翻案，    │ 她家人没事吧？果然不是一家人，不进 │ [0.2912, 0.7088] │\n",
       "├─────────────────────────────────┼────────────────────────────────────┼──────────────────┤\n",
       "│ 《互联网黑历史现状》            │ 《你看看》                         │ [0.604, 0.396]   │\n",
       "└─────────────────────────────────┴────────────────────────────────────┴──────────────────┘\n"
      ]
     },
     "metadata": {},
     "output_type": "display_data"
    },
    {
     "data": {
      "text/html": [
       "<pre style=\"white-space:pre;overflow-x:auto;line-height:normal;font-family:Menlo,'DejaVu Sans Mono',consolas,'Courier New',monospace\">┏━━━━━━━━━━━━━━━━━━━━━━━━━━━━━━━━━┳━━━━━━━━━━━━━━━━━━━━━━━━━━━━━━━━┳━━━━━━━━━━━━━━━━━━┓\n",
       "┃<span style=\"font-weight: bold\"> chosen_text                     </span>┃<span style=\"font-weight: bold\"> rejected_text                  </span>┃<span style=\"font-weight: bold\"> logits           </span>┃\n",
       "┡━━━━━━━━━━━━━━━━━━━━━━━━━━━━━━━━━╇━━━━━━━━━━━━━━━━━━━━━━━━━━━━━━━━╇━━━━━━━━━━━━━━━━━━┩\n",
       "│ 感谢认领.                       │ 公主                           │ [0.5949, 0.4051] │\n",
       "├─────────────────────────────────┼────────────────────────────────┼──────────────────┤\n",
       "│ 感谢认领露思好漂亮              │ 感谢认领美丽露宝~              │ [0.5665, 0.4335] │\n",
       "├─────────────────────────────────┼────────────────────────────────┼──────────────────┤\n",
       "│ 感谢认领露思好漂亮              │ 赵露思好美                     │ [0.6969, 0.3031] │\n",
       "├─────────────────────────────────┼────────────────────────────────┼──────────────────┤\n",
       "│ 杀了那么多人 蛇蝎心肠 还不够死� │ 他很好？很好为什么逮捕她？杀人 │ [0.2459, 0.7541] │\n",
       "└─────────────────────────────────┴────────────────────────────────┴──────────────────┘\n",
       "</pre>\n"
      ],
      "text/plain": [
       "┏━━━━━━━━━━━━━━━━━━━━━━━━━━━━━━━━━┳━━━━━━━━━━━━━━━━━━━━━━━━━━━━━━━━┳━━━━━━━━━━━━━━━━━━┓\n",
       "┃\u001b[1m \u001b[0m\u001b[1mchosen_text                    \u001b[0m\u001b[1m \u001b[0m┃\u001b[1m \u001b[0m\u001b[1mrejected_text                 \u001b[0m\u001b[1m \u001b[0m┃\u001b[1m \u001b[0m\u001b[1mlogits          \u001b[0m\u001b[1m \u001b[0m┃\n",
       "┡━━━━━━━━━━━━━━━━━━━━━━━━━━━━━━━━━╇━━━━━━━━━━━━━━━━━━━━━━━━━━━━━━━━╇━━━━━━━━━━━━━━━━━━┩\n",
       "│ 感谢认领.                       │ 公主                           │ [0.5949, 0.4051] │\n",
       "├─────────────────────────────────┼────────────────────────────────┼──────────────────┤\n",
       "│ 感谢认领露思好漂亮              │ 感谢认领美丽露宝~              │ [0.5665, 0.4335] │\n",
       "├─────────────────────────────────┼────────────────────────────────┼──────────────────┤\n",
       "│ 感谢认领露思好漂亮              │ 赵露思好美                     │ [0.6969, 0.3031] │\n",
       "├─────────────────────────────────┼────────────────────────────────┼──────────────────┤\n",
       "│ 杀了那么多人 蛇蝎心肠 还不够死� │ 他很好？很好为什么逮捕她？杀人 │ [0.2459, 0.7541] │\n",
       "└─────────────────────────────────┴────────────────────────────────┴──────────────────┘\n"
      ]
     },
     "metadata": {},
     "output_type": "display_data"
    },
    {
     "name": "stderr",
     "output_type": "stream",
     "text": [
      "/usr/local/lib/python3.8/dist-packages/transformers/tokenization_utils_base.py:2778: UserWarning: `max_length` is ignored when `padding`=`True` and there is no truncation strategy. To pad to max length, use `padding='max_length'`.\n",
      "  warnings.warn(\n",
      "/usr/local/lib/python3.8/dist-packages/trl/trainer/utils.py:599: UserWarning: There are 22 out of 3451 instances where the predictions for both options are equal. As a consequence the accuracy can be misleading.\n",
      "  warnings.warn(\n",
      "/usr/local/lib/python3.8/dist-packages/transformers/tokenization_utils_base.py:2778: UserWarning: `max_length` is ignored when `padding`=`True` and there is no truncation strategy. To pad to max length, use `padding='max_length'`.\n",
      "  warnings.warn(\n",
      "/usr/local/lib/python3.8/dist-packages/torch/utils/checkpoint.py:464: UserWarning: torch.utils.checkpoint: the use_reentrant parameter should be passed explicitly. In version 2.4 we will raise an exception if use_reentrant is not passed. use_reentrant=False is recommended, but if you need to preserve the current default behavior, you can pass use_reentrant=True. Refer to docs for more details on the differences between the two variants.\n",
      "  warnings.warn(\n",
      "/usr/local/lib/python3.8/dist-packages/torch/utils/checkpoint.py:91: UserWarning: None of the inputs have requires_grad=True. Gradients will be None\n",
      "  warnings.warn(\n"
     ]
    },
    {
     "data": {
      "text/html": [
       "<pre style=\"white-space:pre;overflow-x:auto;line-height:normal;font-family:Menlo,'DejaVu Sans Mono',consolas,'Courier New',monospace\">┏━━━━━━━━━━━━━━━━━━━━━━━━━━━━━━━━━┳━━━━━━━━━━━━━━━━━━━━━━━━━━━━━━━━━━━━┳━━━━━━━━━━━━━━━━━━┓\n",
       "┃<span style=\"font-weight: bold\"> chosen_text                     </span>┃<span style=\"font-weight: bold\"> rejected_text                      </span>┃<span style=\"font-weight: bold\"> logits           </span>┃\n",
       "┡━━━━━━━━━━━━━━━━━━━━━━━━━━━━━━━━━╇━━━━━━━━━━━━━━━━━━━━━━━━━━━━━━━━━━━━╇━━━━━━━━━━━━━━━━━━┩\n",
       "│ 感谢认领.                       │ 公主                               │ [0.673, 0.327]   │\n",
       "├─────────────────────────────────┼────────────────────────────────────┼──────────────────┤\n",
       "│ 感谢认领露思好漂亮              │ 感谢认领美丽露宝~                  │ [0.5894, 0.4106] │\n",
       "├─────────────────────────────────┼────────────────────────────────────┼──────────────────┤\n",
       "│ 感谢认领露思好漂亮              │ 赵露思好美                         │ [0.4283, 0.5717] │\n",
       "├─────────────────────────────────┼────────────────────────────────────┼──────────────────┤\n",
       "│ 杀了那么多人 蛇蝎心肠 还不够死� │ 他很好？很好为什么逮捕她？杀人     │ [0.305, 0.695]   │\n",
       "├─────────────────────────────────┼────────────────────────────────────┼──────────────────┤\n",
       "│ 她的辩护律师想通过帮她翻案，    │ 二审维持原判还能上诉吗？           │ [0.3888, 0.6112] │\n",
       "├─────────────────────────────────┼────────────────────────────────────┼──────────────────┤\n",
       "│ 妈的 这个律师有点良心吧 维持原  │ 感谢认领.                          │ [0.5264, 0.4736] │\n",
       "├─────────────────────────────────┼────────────────────────────────────┼──────────────────┤\n",
       "│ 她的辩护律师想通过帮她翻案，    │ 她家人没事吧？果然不是一家人，不进 │ [0.3697, 0.6303] │\n",
       "├─────────────────────────────────┼────────────────────────────────────┼──────────────────┤\n",
       "│ 《互联网黑历史现状》            │ 《你看看》                         │ [0.6021, 0.3979] │\n",
       "└─────────────────────────────────┴────────────────────────────────────┴──────────────────┘\n",
       "</pre>\n"
      ],
      "text/plain": [
       "┏━━━━━━━━━━━━━━━━━━━━━━━━━━━━━━━━━┳━━━━━━━━━━━━━━━━━━━━━━━━━━━━━━━━━━━━┳━━━━━━━━━━━━━━━━━━┓\n",
       "┃\u001b[1m \u001b[0m\u001b[1mchosen_text                    \u001b[0m\u001b[1m \u001b[0m┃\u001b[1m \u001b[0m\u001b[1mrejected_text                     \u001b[0m\u001b[1m \u001b[0m┃\u001b[1m \u001b[0m\u001b[1mlogits          \u001b[0m\u001b[1m \u001b[0m┃\n",
       "┡━━━━━━━━━━━━━━━━━━━━━━━━━━━━━━━━━╇━━━━━━━━━━━━━━━━━━━━━━━━━━━━━━━━━━━━╇━━━━━━━━━━━━━━━━━━┩\n",
       "│ 感谢认领.                       │ 公主                               │ [0.673, 0.327]   │\n",
       "├─────────────────────────────────┼────────────────────────────────────┼──────────────────┤\n",
       "│ 感谢认领露思好漂亮              │ 感谢认领美丽露宝~                  │ [0.5894, 0.4106] │\n",
       "├─────────────────────────────────┼────────────────────────────────────┼──────────────────┤\n",
       "│ 感谢认领露思好漂亮              │ 赵露思好美                         │ [0.4283, 0.5717] │\n",
       "├─────────────────────────────────┼────────────────────────────────────┼──────────────────┤\n",
       "│ 杀了那么多人 蛇蝎心肠 还不够死� │ 他很好？很好为什么逮捕她？杀人     │ [0.305, 0.695]   │\n",
       "├─────────────────────────────────┼────────────────────────────────────┼──────────────────┤\n",
       "│ 她的辩护律师想通过帮她翻案，    │ 二审维持原判还能上诉吗？           │ [0.3888, 0.6112] │\n",
       "├─────────────────────────────────┼────────────────────────────────────┼──────────────────┤\n",
       "│ 妈的 这个律师有点良心吧 维持原  │ 感谢认领.                          │ [0.5264, 0.4736] │\n",
       "├─────────────────────────────────┼────────────────────────────────────┼──────────────────┤\n",
       "│ 她的辩护律师想通过帮她翻案，    │ 她家人没事吧？果然不是一家人，不进 │ [0.3697, 0.6303] │\n",
       "├─────────────────────────────────┼────────────────────────────────────┼──────────────────┤\n",
       "│ 《互联网黑历史现状》            │ 《你看看》                         │ [0.6021, 0.3979] │\n",
       "└─────────────────────────────────┴────────────────────────────────────┴──────────────────┘\n"
      ]
     },
     "metadata": {},
     "output_type": "display_data"
    },
    {
     "data": {
      "text/html": [
       "<pre style=\"white-space:pre;overflow-x:auto;line-height:normal;font-family:Menlo,'DejaVu Sans Mono',consolas,'Courier New',monospace\">┏━━━━━━━━━━━━━━━━━━━━━━━━━━━━━━━━━┳━━━━━━━━━━━━━━━━━━━━━━━━━━━━━━━━┳━━━━━━━━━━━━━━━━━━┓\n",
       "┃<span style=\"font-weight: bold\"> chosen_text                     </span>┃<span style=\"font-weight: bold\"> rejected_text                  </span>┃<span style=\"font-weight: bold\"> logits           </span>┃\n",
       "┡━━━━━━━━━━━━━━━━━━━━━━━━━━━━━━━━━╇━━━━━━━━━━━━━━━━━━━━━━━━━━━━━━━━╇━━━━━━━━━━━━━━━━━━┩\n",
       "│ 感谢认领.                       │ 公主                           │ [0.673, 0.327]   │\n",
       "├─────────────────────────────────┼────────────────────────────────┼──────────────────┤\n",
       "│ 感谢认领露思好漂亮              │ 感谢认领美丽露宝~              │ [0.5894, 0.4106] │\n",
       "├─────────────────────────────────┼────────────────────────────────┼──────────────────┤\n",
       "│ 感谢认领露思好漂亮              │ 赵露思好美                     │ [0.4283, 0.5717] │\n",
       "├─────────────────────────────────┼────────────────────────────────┼──────────────────┤\n",
       "│ 杀了那么多人 蛇蝎心肠 还不够死� │ 他很好？很好为什么逮捕她？杀人 │ [0.305, 0.695]   │\n",
       "└─────────────────────────────────┴────────────────────────────────┴──────────────────┘\n",
       "</pre>\n"
      ],
      "text/plain": [
       "┏━━━━━━━━━━━━━━━━━━━━━━━━━━━━━━━━━┳━━━━━━━━━━━━━━━━━━━━━━━━━━━━━━━━┳━━━━━━━━━━━━━━━━━━┓\n",
       "┃\u001b[1m \u001b[0m\u001b[1mchosen_text                    \u001b[0m\u001b[1m \u001b[0m┃\u001b[1m \u001b[0m\u001b[1mrejected_text                 \u001b[0m\u001b[1m \u001b[0m┃\u001b[1m \u001b[0m\u001b[1mlogits          \u001b[0m\u001b[1m \u001b[0m┃\n",
       "┡━━━━━━━━━━━━━━━━━━━━━━━━━━━━━━━━━╇━━━━━━━━━━━━━━━━━━━━━━━━━━━━━━━━╇━━━━━━━━━━━━━━━━━━┩\n",
       "│ 感谢认领.                       │ 公主                           │ [0.673, 0.327]   │\n",
       "├─────────────────────────────────┼────────────────────────────────┼──────────────────┤\n",
       "│ 感谢认领露思好漂亮              │ 感谢认领美丽露宝~              │ [0.5894, 0.4106] │\n",
       "├─────────────────────────────────┼────────────────────────────────┼──────────────────┤\n",
       "│ 感谢认领露思好漂亮              │ 赵露思好美                     │ [0.4283, 0.5717] │\n",
       "├─────────────────────────────────┼────────────────────────────────┼──────────────────┤\n",
       "│ 杀了那么多人 蛇蝎心肠 还不够死� │ 他很好？很好为什么逮捕她？杀人 │ [0.305, 0.695]   │\n",
       "└─────────────────────────────────┴────────────────────────────────┴──────────────────┘\n"
      ]
     },
     "metadata": {},
     "output_type": "display_data"
    },
    {
     "name": "stderr",
     "output_type": "stream",
     "text": [
      "/usr/local/lib/python3.8/dist-packages/transformers/tokenization_utils_base.py:2778: UserWarning: `max_length` is ignored when `padding`=`True` and there is no truncation strategy. To pad to max length, use `padding='max_length'`.\n",
      "  warnings.warn(\n",
      "/usr/local/lib/python3.8/dist-packages/trl/trainer/utils.py:599: UserWarning: There are 22 out of 3451 instances where the predictions for both options are equal. As a consequence the accuracy can be misleading.\n",
      "  warnings.warn(\n",
      "/usr/local/lib/python3.8/dist-packages/transformers/tokenization_utils_base.py:2778: UserWarning: `max_length` is ignored when `padding`=`True` and there is no truncation strategy. To pad to max length, use `padding='max_length'`.\n",
      "  warnings.warn(\n",
      "/usr/local/lib/python3.8/dist-packages/torch/utils/checkpoint.py:464: UserWarning: torch.utils.checkpoint: the use_reentrant parameter should be passed explicitly. In version 2.4 we will raise an exception if use_reentrant is not passed. use_reentrant=False is recommended, but if you need to preserve the current default behavior, you can pass use_reentrant=True. Refer to docs for more details on the differences between the two variants.\n",
      "  warnings.warn(\n",
      "/usr/local/lib/python3.8/dist-packages/torch/utils/checkpoint.py:91: UserWarning: None of the inputs have requires_grad=True. Gradients will be None\n",
      "  warnings.warn(\n"
     ]
    },
    {
     "data": {
      "text/html": [
       "<pre style=\"white-space:pre;overflow-x:auto;line-height:normal;font-family:Menlo,'DejaVu Sans Mono',consolas,'Courier New',monospace\">┏━━━━━━━━━━━━━━━━━━━━━━━━━━━━━━━━━┳━━━━━━━━━━━━━━━━━━━━━━━━━━━━━━━━━━━━┳━━━━━━━━━━━━━━━━━━┓\n",
       "┃<span style=\"font-weight: bold\"> chosen_text                     </span>┃<span style=\"font-weight: bold\"> rejected_text                      </span>┃<span style=\"font-weight: bold\"> logits           </span>┃\n",
       "┡━━━━━━━━━━━━━━━━━━━━━━━━━━━━━━━━━╇━━━━━━━━━━━━━━━━━━━━━━━━━━━━━━━━━━━━╇━━━━━━━━━━━━━━━━━━┩\n",
       "│ 感谢认领.                       │ 公主                               │ [0.5507, 0.4493] │\n",
       "├─────────────────────────────────┼────────────────────────────────────┼──────────────────┤\n",
       "│ 感谢认领露思好漂亮              │ 感谢认领美丽露宝~                  │ [0.5324, 0.4676] │\n",
       "├─────────────────────────────────┼────────────────────────────────────┼──────────────────┤\n",
       "│ 感谢认领露思好漂亮              │ 赵露思好美                         │ [0.469, 0.531]   │\n",
       "├─────────────────────────────────┼────────────────────────────────────┼──────────────────┤\n",
       "│ 杀了那么多人 蛇蝎心肠 还不够死� │ 他很好？很好为什么逮捕她？杀人     │ [0.3256, 0.6744] │\n",
       "├─────────────────────────────────┼────────────────────────────────────┼──────────────────┤\n",
       "│ 她的辩护律师想通过帮她翻案，    │ 二审维持原判还能上诉吗？           │ [0.5209, 0.4791] │\n",
       "├─────────────────────────────────┼────────────────────────────────────┼──────────────────┤\n",
       "│ 妈的 这个律师有点良心吧 维持原  │ 感谢认领.                          │ [0.6328, 0.3672] │\n",
       "├─────────────────────────────────┼────────────────────────────────────┼──────────────────┤\n",
       "│ 她的辩护律师想通过帮她翻案，    │ 她家人没事吧？果然不是一家人，不进 │ [0.3934, 0.6066] │\n",
       "├─────────────────────────────────┼────────────────────────────────────┼──────────────────┤\n",
       "│ 《互联网黑历史现状》            │ 《你看看》                         │ [0.7718, 0.2282] │\n",
       "└─────────────────────────────────┴────────────────────────────────────┴──────────────────┘\n",
       "</pre>\n"
      ],
      "text/plain": [
       "┏━━━━━━━━━━━━━━━━━━━━━━━━━━━━━━━━━┳━━━━━━━━━━━━━━━━━━━━━━━━━━━━━━━━━━━━┳━━━━━━━━━━━━━━━━━━┓\n",
       "┃\u001b[1m \u001b[0m\u001b[1mchosen_text                    \u001b[0m\u001b[1m \u001b[0m┃\u001b[1m \u001b[0m\u001b[1mrejected_text                     \u001b[0m\u001b[1m \u001b[0m┃\u001b[1m \u001b[0m\u001b[1mlogits          \u001b[0m\u001b[1m \u001b[0m┃\n",
       "┡━━━━━━━━━━━━━━━━━━━━━━━━━━━━━━━━━╇━━━━━━━━━━━━━━━━━━━━━━━━━━━━━━━━━━━━╇━━━━━━━━━━━━━━━━━━┩\n",
       "│ 感谢认领.                       │ 公主                               │ [0.5507, 0.4493] │\n",
       "├─────────────────────────────────┼────────────────────────────────────┼──────────────────┤\n",
       "│ 感谢认领露思好漂亮              │ 感谢认领美丽露宝~                  │ [0.5324, 0.4676] │\n",
       "├─────────────────────────────────┼────────────────────────────────────┼──────────────────┤\n",
       "│ 感谢认领露思好漂亮              │ 赵露思好美                         │ [0.469, 0.531]   │\n",
       "├─────────────────────────────────┼────────────────────────────────────┼──────────────────┤\n",
       "│ 杀了那么多人 蛇蝎心肠 还不够死� │ 他很好？很好为什么逮捕她？杀人     │ [0.3256, 0.6744] │\n",
       "├─────────────────────────────────┼────────────────────────────────────┼──────────────────┤\n",
       "│ 她的辩护律师想通过帮她翻案，    │ 二审维持原判还能上诉吗？           │ [0.5209, 0.4791] │\n",
       "├─────────────────────────────────┼────────────────────────────────────┼──────────────────┤\n",
       "│ 妈的 这个律师有点良心吧 维持原  │ 感谢认领.                          │ [0.6328, 0.3672] │\n",
       "├─────────────────────────────────┼────────────────────────────────────┼──────────────────┤\n",
       "│ 她的辩护律师想通过帮她翻案，    │ 她家人没事吧？果然不是一家人，不进 │ [0.3934, 0.6066] │\n",
       "├─────────────────────────────────┼────────────────────────────────────┼──────────────────┤\n",
       "│ 《互联网黑历史现状》            │ 《你看看》                         │ [0.7718, 0.2282] │\n",
       "└─────────────────────────────────┴────────────────────────────────────┴──────────────────┘\n"
      ]
     },
     "metadata": {},
     "output_type": "display_data"
    },
    {
     "data": {
      "text/html": [
       "<pre style=\"white-space:pre;overflow-x:auto;line-height:normal;font-family:Menlo,'DejaVu Sans Mono',consolas,'Courier New',monospace\">┏━━━━━━━━━━━━━━━━━━━━━━━━━━━━━━━━━┳━━━━━━━━━━━━━━━━━━━━━━━━━━━━━━━━┳━━━━━━━━━━━━━━━━━━┓\n",
       "┃<span style=\"font-weight: bold\"> chosen_text                     </span>┃<span style=\"font-weight: bold\"> rejected_text                  </span>┃<span style=\"font-weight: bold\"> logits           </span>┃\n",
       "┡━━━━━━━━━━━━━━━━━━━━━━━━━━━━━━━━━╇━━━━━━━━━━━━━━━━━━━━━━━━━━━━━━━━╇━━━━━━━━━━━━━━━━━━┩\n",
       "│ 感谢认领.                       │ 公主                           │ [0.5507, 0.4493] │\n",
       "├─────────────────────────────────┼────────────────────────────────┼──────────────────┤\n",
       "│ 感谢认领露思好漂亮              │ 感谢认领美丽露宝~              │ [0.5324, 0.4676] │\n",
       "├─────────────────────────────────┼────────────────────────────────┼──────────────────┤\n",
       "│ 感谢认领露思好漂亮              │ 赵露思好美                     │ [0.469, 0.531]   │\n",
       "├─────────────────────────────────┼────────────────────────────────┼──────────────────┤\n",
       "│ 杀了那么多人 蛇蝎心肠 还不够死� │ 他很好？很好为什么逮捕她？杀人 │ [0.3256, 0.6744] │\n",
       "└─────────────────────────────────┴────────────────────────────────┴──────────────────┘\n",
       "</pre>\n"
      ],
      "text/plain": [
       "┏━━━━━━━━━━━━━━━━━━━━━━━━━━━━━━━━━┳━━━━━━━━━━━━━━━━━━━━━━━━━━━━━━━━┳━━━━━━━━━━━━━━━━━━┓\n",
       "┃\u001b[1m \u001b[0m\u001b[1mchosen_text                    \u001b[0m\u001b[1m \u001b[0m┃\u001b[1m \u001b[0m\u001b[1mrejected_text                 \u001b[0m\u001b[1m \u001b[0m┃\u001b[1m \u001b[0m\u001b[1mlogits          \u001b[0m\u001b[1m \u001b[0m┃\n",
       "┡━━━━━━━━━━━━━━━━━━━━━━━━━━━━━━━━━╇━━━━━━━━━━━━━━━━━━━━━━━━━━━━━━━━╇━━━━━━━━━━━━━━━━━━┩\n",
       "│ 感谢认领.                       │ 公主                           │ [0.5507, 0.4493] │\n",
       "├─────────────────────────────────┼────────────────────────────────┼──────────────────┤\n",
       "│ 感谢认领露思好漂亮              │ 感谢认领美丽露宝~              │ [0.5324, 0.4676] │\n",
       "├─────────────────────────────────┼────────────────────────────────┼──────────────────┤\n",
       "│ 感谢认领露思好漂亮              │ 赵露思好美                     │ [0.469, 0.531]   │\n",
       "├─────────────────────────────────┼────────────────────────────────┼──────────────────┤\n",
       "│ 杀了那么多人 蛇蝎心肠 还不够死� │ 他很好？很好为什么逮捕她？杀人 │ [0.3256, 0.6744] │\n",
       "└─────────────────────────────────┴────────────────────────────────┴──────────────────┘\n"
      ]
     },
     "metadata": {},
     "output_type": "display_data"
    },
    {
     "name": "stderr",
     "output_type": "stream",
     "text": [
      "/usr/local/lib/python3.8/dist-packages/transformers/tokenization_utils_base.py:2778: UserWarning: `max_length` is ignored when `padding`=`True` and there is no truncation strategy. To pad to max length, use `padding='max_length'`.\n",
      "  warnings.warn(\n",
      "/usr/local/lib/python3.8/dist-packages/trl/trainer/utils.py:599: UserWarning: There are 22 out of 3451 instances where the predictions for both options are equal. As a consequence the accuracy can be misleading.\n",
      "  warnings.warn(\n",
      "/usr/local/lib/python3.8/dist-packages/transformers/tokenization_utils_base.py:2778: UserWarning: `max_length` is ignored when `padding`=`True` and there is no truncation strategy. To pad to max length, use `padding='max_length'`.\n",
      "  warnings.warn(\n",
      "/usr/local/lib/python3.8/dist-packages/torch/utils/checkpoint.py:464: UserWarning: torch.utils.checkpoint: the use_reentrant parameter should be passed explicitly. In version 2.4 we will raise an exception if use_reentrant is not passed. use_reentrant=False is recommended, but if you need to preserve the current default behavior, you can pass use_reentrant=True. Refer to docs for more details on the differences between the two variants.\n",
      "  warnings.warn(\n",
      "/usr/local/lib/python3.8/dist-packages/torch/utils/checkpoint.py:91: UserWarning: None of the inputs have requires_grad=True. Gradients will be None\n",
      "  warnings.warn(\n"
     ]
    },
    {
     "data": {
      "text/html": [
       "<pre style=\"white-space:pre;overflow-x:auto;line-height:normal;font-family:Menlo,'DejaVu Sans Mono',consolas,'Courier New',monospace\">┏━━━━━━━━━━━━━━━━━━━━━━━━━━━━━━━━━┳━━━━━━━━━━━━━━━━━━━━━━━━━━━━━━━━━━━━┳━━━━━━━━━━━━━━━━━━┓\n",
       "┃<span style=\"font-weight: bold\"> chosen_text                     </span>┃<span style=\"font-weight: bold\"> rejected_text                      </span>┃<span style=\"font-weight: bold\"> logits           </span>┃\n",
       "┡━━━━━━━━━━━━━━━━━━━━━━━━━━━━━━━━━╇━━━━━━━━━━━━━━━━━━━━━━━━━━━━━━━━━━━━╇━━━━━━━━━━━━━━━━━━┩\n",
       "│ 感谢认领.                       │ 公主                               │ [0.7138, 0.2862] │\n",
       "├─────────────────────────────────┼────────────────────────────────────┼──────────────────┤\n",
       "│ 感谢认领露思好漂亮              │ 感谢认领美丽露宝~                  │ [0.5651, 0.4349] │\n",
       "├─────────────────────────────────┼────────────────────────────────────┼──────────────────┤\n",
       "│ 感谢认领露思好漂亮              │ 赵露思好美                         │ [0.6899, 0.3101] │\n",
       "├─────────────────────────────────┼────────────────────────────────────┼──────────────────┤\n",
       "│ 杀了那么多人 蛇蝎心肠 还不够死� │ 他很好？很好为什么逮捕她？杀人     │ [0.1511, 0.8489] │\n",
       "├─────────────────────────────────┼────────────────────────────────────┼──────────────────┤\n",
       "│ 她的辩护律师想通过帮她翻案，    │ 二审维持原判还能上诉吗？           │ [0.2988, 0.7012] │\n",
       "├─────────────────────────────────┼────────────────────────────────────┼──────────────────┤\n",
       "│ 妈的 这个律师有点良心吧 维持原  │ 感谢认领.                          │ [0.5677, 0.4323] │\n",
       "├─────────────────────────────────┼────────────────────────────────────┼──────────────────┤\n",
       "│ 她的辩护律师想通过帮她翻案，    │ 她家人没事吧？果然不是一家人，不进 │ [0.3928, 0.6072] │\n",
       "├─────────────────────────────────┼────────────────────────────────────┼──────────────────┤\n",
       "│ 《互联网黑历史现状》            │ 《你看看》                         │ [0.5694, 0.4306] │\n",
       "└─────────────────────────────────┴────────────────────────────────────┴──────────────────┘\n",
       "</pre>\n"
      ],
      "text/plain": [
       "┏━━━━━━━━━━━━━━━━━━━━━━━━━━━━━━━━━┳━━━━━━━━━━━━━━━━━━━━━━━━━━━━━━━━━━━━┳━━━━━━━━━━━━━━━━━━┓\n",
       "┃\u001b[1m \u001b[0m\u001b[1mchosen_text                    \u001b[0m\u001b[1m \u001b[0m┃\u001b[1m \u001b[0m\u001b[1mrejected_text                     \u001b[0m\u001b[1m \u001b[0m┃\u001b[1m \u001b[0m\u001b[1mlogits          \u001b[0m\u001b[1m \u001b[0m┃\n",
       "┡━━━━━━━━━━━━━━━━━━━━━━━━━━━━━━━━━╇━━━━━━━━━━━━━━━━━━━━━━━━━━━━━━━━━━━━╇━━━━━━━━━━━━━━━━━━┩\n",
       "│ 感谢认领.                       │ 公主                               │ [0.7138, 0.2862] │\n",
       "├─────────────────────────────────┼────────────────────────────────────┼──────────────────┤\n",
       "│ 感谢认领露思好漂亮              │ 感谢认领美丽露宝~                  │ [0.5651, 0.4349] │\n",
       "├─────────────────────────────────┼────────────────────────────────────┼──────────────────┤\n",
       "│ 感谢认领露思好漂亮              │ 赵露思好美                         │ [0.6899, 0.3101] │\n",
       "├─────────────────────────────────┼────────────────────────────────────┼──────────────────┤\n",
       "│ 杀了那么多人 蛇蝎心肠 还不够死� │ 他很好？很好为什么逮捕她？杀人     │ [0.1511, 0.8489] │\n",
       "├─────────────────────────────────┼────────────────────────────────────┼──────────────────┤\n",
       "│ 她的辩护律师想通过帮她翻案，    │ 二审维持原判还能上诉吗？           │ [0.2988, 0.7012] │\n",
       "├─────────────────────────────────┼────────────────────────────────────┼──────────────────┤\n",
       "│ 妈的 这个律师有点良心吧 维持原  │ 感谢认领.                          │ [0.5677, 0.4323] │\n",
       "├─────────────────────────────────┼────────────────────────────────────┼──────────────────┤\n",
       "│ 她的辩护律师想通过帮她翻案，    │ 她家人没事吧？果然不是一家人，不进 │ [0.3928, 0.6072] │\n",
       "├─────────────────────────────────┼────────────────────────────────────┼──────────────────┤\n",
       "│ 《互联网黑历史现状》            │ 《你看看》                         │ [0.5694, 0.4306] │\n",
       "└─────────────────────────────────┴────────────────────────────────────┴──────────────────┘\n"
      ]
     },
     "metadata": {},
     "output_type": "display_data"
    },
    {
     "data": {
      "text/html": [
       "<pre style=\"white-space:pre;overflow-x:auto;line-height:normal;font-family:Menlo,'DejaVu Sans Mono',consolas,'Courier New',monospace\">┏━━━━━━━━━━━━━━━━━━━━━━━━━━━━━━━━━┳━━━━━━━━━━━━━━━━━━━━━━━━━━━━━━━━┳━━━━━━━━━━━━━━━━━━┓\n",
       "┃<span style=\"font-weight: bold\"> chosen_text                     </span>┃<span style=\"font-weight: bold\"> rejected_text                  </span>┃<span style=\"font-weight: bold\"> logits           </span>┃\n",
       "┡━━━━━━━━━━━━━━━━━━━━━━━━━━━━━━━━━╇━━━━━━━━━━━━━━━━━━━━━━━━━━━━━━━━╇━━━━━━━━━━━━━━━━━━┩\n",
       "│ 感谢认领.                       │ 公主                           │ [0.7138, 0.2862] │\n",
       "├─────────────────────────────────┼────────────────────────────────┼──────────────────┤\n",
       "│ 感谢认领露思好漂亮              │ 感谢认领美丽露宝~              │ [0.5651, 0.4349] │\n",
       "├─────────────────────────────────┼────────────────────────────────┼──────────────────┤\n",
       "│ 感谢认领露思好漂亮              │ 赵露思好美                     │ [0.6899, 0.3101] │\n",
       "├─────────────────────────────────┼────────────────────────────────┼──────────────────┤\n",
       "│ 杀了那么多人 蛇蝎心肠 还不够死� │ 他很好？很好为什么逮捕她？杀人 │ [0.1511, 0.8489] │\n",
       "└─────────────────────────────────┴────────────────────────────────┴──────────────────┘\n",
       "</pre>\n"
      ],
      "text/plain": [
       "┏━━━━━━━━━━━━━━━━━━━━━━━━━━━━━━━━━┳━━━━━━━━━━━━━━━━━━━━━━━━━━━━━━━━┳━━━━━━━━━━━━━━━━━━┓\n",
       "┃\u001b[1m \u001b[0m\u001b[1mchosen_text                    \u001b[0m\u001b[1m \u001b[0m┃\u001b[1m \u001b[0m\u001b[1mrejected_text                 \u001b[0m\u001b[1m \u001b[0m┃\u001b[1m \u001b[0m\u001b[1mlogits          \u001b[0m\u001b[1m \u001b[0m┃\n",
       "┡━━━━━━━━━━━━━━━━━━━━━━━━━━━━━━━━━╇━━━━━━━━━━━━━━━━━━━━━━━━━━━━━━━━╇━━━━━━━━━━━━━━━━━━┩\n",
       "│ 感谢认领.                       │ 公主                           │ [0.7138, 0.2862] │\n",
       "├─────────────────────────────────┼────────────────────────────────┼──────────────────┤\n",
       "│ 感谢认领露思好漂亮              │ 感谢认领美丽露宝~              │ [0.5651, 0.4349] │\n",
       "├─────────────────────────────────┼────────────────────────────────┼──────────────────┤\n",
       "│ 感谢认领露思好漂亮              │ 赵露思好美                     │ [0.6899, 0.3101] │\n",
       "├─────────────────────────────────┼────────────────────────────────┼──────────────────┤\n",
       "│ 杀了那么多人 蛇蝎心肠 还不够死� │ 他很好？很好为什么逮捕她？杀人 │ [0.1511, 0.8489] │\n",
       "└─────────────────────────────────┴────────────────────────────────┴──────────────────┘\n"
      ]
     },
     "metadata": {},
     "output_type": "display_data"
    },
    {
     "name": "stderr",
     "output_type": "stream",
     "text": [
      "/usr/local/lib/python3.8/dist-packages/transformers/tokenization_utils_base.py:2778: UserWarning: `max_length` is ignored when `padding`=`True` and there is no truncation strategy. To pad to max length, use `padding='max_length'`.\n",
      "  warnings.warn(\n",
      "/usr/local/lib/python3.8/dist-packages/trl/trainer/utils.py:599: UserWarning: There are 22 out of 3451 instances where the predictions for both options are equal. As a consequence the accuracy can be misleading.\n",
      "  warnings.warn(\n",
      "/usr/local/lib/python3.8/dist-packages/transformers/tokenization_utils_base.py:2778: UserWarning: `max_length` is ignored when `padding`=`True` and there is no truncation strategy. To pad to max length, use `padding='max_length'`.\n",
      "  warnings.warn(\n",
      "/usr/local/lib/python3.8/dist-packages/torch/utils/checkpoint.py:464: UserWarning: torch.utils.checkpoint: the use_reentrant parameter should be passed explicitly. In version 2.4 we will raise an exception if use_reentrant is not passed. use_reentrant=False is recommended, but if you need to preserve the current default behavior, you can pass use_reentrant=True. Refer to docs for more details on the differences between the two variants.\n",
      "  warnings.warn(\n",
      "/usr/local/lib/python3.8/dist-packages/torch/utils/checkpoint.py:91: UserWarning: None of the inputs have requires_grad=True. Gradients will be None\n",
      "  warnings.warn(\n"
     ]
    }
   ],
   "source": [
    "trainer = RewardTrainer(\n",
    "    model=rm_model,\n",
    "    tokenizer=tokenizer,\n",
    "    args=config,\n",
    "    train_dataset=rm_train_dataset,\n",
    "    eval_dataset=rm_eval_dataset,\n",
    "    peft_config=peft_config,\n",
    ")\n",
    "trainer.train()\n",
    "trainer.save_model(config.output_dir)"
   ]
  },
  {
   "cell_type": "markdown",
   "id": "543a46bd",
   "metadata": {},
   "source": [
    "##### `Third` Formal Trial (Failed, Gradient Explosion)\n",
    "bs = 32, lr = 2e-2, 150 epochs, grad_accum = 1"
   ]
  },
  {
   "cell_type": "code",
   "execution_count": 33,
   "id": "7254ae59-862d-4b51-9b21-a08103ddf2aa",
   "metadata": {},
   "outputs": [
    {
     "name": "stderr",
     "output_type": "stream",
     "text": [
      "Detected kernel version 5.4.0, which is below the recommended minimum of 5.5.0; this can cause the process to hang. It is recommended to upgrade the kernel to the minimum version or higher.\n",
      "/usr/local/lib/python3.8/dist-packages/transformers/tokenization_utils_base.py:2778: UserWarning: `max_length` is ignored when `padding`=`True` and there is no truncation strategy. To pad to max length, use `padding='max_length'`.\n",
      "  warnings.warn(\n",
      "/usr/local/lib/python3.8/dist-packages/torch/utils/checkpoint.py:464: UserWarning: torch.utils.checkpoint: the use_reentrant parameter should be passed explicitly. In version 2.4 we will raise an exception if use_reentrant is not passed. use_reentrant=False is recommended, but if you need to preserve the current default behavior, you can pass use_reentrant=True. Refer to docs for more details on the differences between the two variants.\n",
      "  warnings.warn(\n"
     ]
    },
    {
     "data": {
      "text/html": [
       "\n",
       "    <div>\n",
       "      \n",
       "      <progress value='2108' max='46950' style='width:300px; height:20px; vertical-align: middle;'></progress>\n",
       "      [ 2108/46950 03:04 < 1:05:28, 11.41 it/s, Epoch 6.73/150]\n",
       "    </div>\n",
       "    <table border=\"1\" class=\"dataframe\">\n",
       "  <thead>\n",
       " <tr style=\"text-align: left;\">\n",
       "      <th>Step</th>\n",
       "      <th>Training Loss</th>\n",
       "      <th>Validation Loss</th>\n",
       "      <th>Accuracy</th>\n",
       "    </tr>\n",
       "  </thead>\n",
       "  <tbody>\n",
       "    <tr>\n",
       "      <td>500</td>\n",
       "      <td>0.758700</td>\n",
       "      <td>0.691762</td>\n",
       "      <td>0.525065</td>\n",
       "    </tr>\n",
       "    <tr>\n",
       "      <td>1000</td>\n",
       "      <td>0.730000</td>\n",
       "      <td>0.692003</td>\n",
       "      <td>0.532889</td>\n",
       "    </tr>\n",
       "    <tr>\n",
       "      <td>1500</td>\n",
       "      <td>0.000000</td>\n",
       "      <td>nan</td>\n",
       "      <td>1.000000</td>\n",
       "    </tr>\n",
       "    <tr>\n",
       "      <td>2000</td>\n",
       "      <td>0.000000</td>\n",
       "      <td>nan</td>\n",
       "      <td>1.000000</td>\n",
       "    </tr>\n",
       "  </tbody>\n",
       "</table><p>"
      ],
      "text/plain": [
       "<IPython.core.display.HTML object>"
      ]
     },
     "metadata": {},
     "output_type": "display_data"
    },
    {
     "name": "stderr",
     "output_type": "stream",
     "text": [
      "/usr/local/lib/python3.8/dist-packages/torch/utils/checkpoint.py:91: UserWarning: None of the inputs have requires_grad=True. Gradients will be None\n",
      "  warnings.warn(\n"
     ]
    },
    {
     "data": {
      "text/html": [
       "<pre style=\"white-space:pre;overflow-x:auto;line-height:normal;font-family:Menlo,'DejaVu Sans Mono',consolas,'Courier New',monospace\">┏━━━━━━━━━━━━━━━━━━━━━━━━━━━━━━━━━┳━━━━━━━━━━━━━━━━━━━━━━━━━━━━━━━━━━━━┳━━━━━━━━━━━━━━━━━━┓\n",
       "┃<span style=\"font-weight: bold\"> chosen_text                     </span>┃<span style=\"font-weight: bold\"> rejected_text                      </span>┃<span style=\"font-weight: bold\"> logits           </span>┃\n",
       "┡━━━━━━━━━━━━━━━━━━━━━━━━━━━━━━━━━╇━━━━━━━━━━━━━━━━━━━━━━━━━━━━━━━━━━━━╇━━━━━━━━━━━━━━━━━━┩\n",
       "│ 感谢认领.                       │ 公主                               │ [0.2203, 0.7797] │\n",
       "├─────────────────────────────────┼────────────────────────────────────┼──────────────────┤\n",
       "│ 感谢认领露思好漂亮              │ 感谢认领美丽露宝~                  │ [0.3775, 0.6225] │\n",
       "├─────────────────────────────────┼────────────────────────────────────┼──────────────────┤\n",
       "│ 感谢认领露思好漂亮              │ 赵露思好美                         │ [0.2475, 0.7525] │\n",
       "├─────────────────────────────────┼────────────────────────────────────┼──────────────────┤\n",
       "│ 杀了那么多人 蛇蝎心肠 还不够死� │ 他很好？很好为什么逮捕她？杀人     │ [0.6222, 0.3778] │\n",
       "├─────────────────────────────────┼────────────────────────────────────┼──────────────────┤\n",
       "│ 她的辩护律师想通过帮她翻案，    │ 二审维持原判还能上诉吗？           │ [0.1966, 0.8034] │\n",
       "├─────────────────────────────────┼────────────────────────────────────┼──────────────────┤\n",
       "│ 妈的 这个律师有点良心吧 维持原  │ 感谢认领.                          │ [0.6084, 0.3916] │\n",
       "├─────────────────────────────────┼────────────────────────────────────┼──────────────────┤\n",
       "│ 她的辩护律师想通过帮她翻案，    │ 她家人没事吧？果然不是一家人，不进 │ [0.603, 0.397]   │\n",
       "├─────────────────────────────────┼────────────────────────────────────┼──────────────────┤\n",
       "│ 《互联网黑历史现状》            │ 《你看看》                         │ [0.5533, 0.4467] │\n",
       "└─────────────────────────────────┴────────────────────────────────────┴──────────────────┘\n",
       "</pre>\n"
      ],
      "text/plain": [
       "┏━━━━━━━━━━━━━━━━━━━━━━━━━━━━━━━━━┳━━━━━━━━━━━━━━━━━━━━━━━━━━━━━━━━━━━━┳━━━━━━━━━━━━━━━━━━┓\n",
       "┃\u001b[1m \u001b[0m\u001b[1mchosen_text                    \u001b[0m\u001b[1m \u001b[0m┃\u001b[1m \u001b[0m\u001b[1mrejected_text                     \u001b[0m\u001b[1m \u001b[0m┃\u001b[1m \u001b[0m\u001b[1mlogits          \u001b[0m\u001b[1m \u001b[0m┃\n",
       "┡━━━━━━━━━━━━━━━━━━━━━━━━━━━━━━━━━╇━━━━━━━━━━━━━━━━━━━━━━━━━━━━━━━━━━━━╇━━━━━━━━━━━━━━━━━━┩\n",
       "│ 感谢认领.                       │ 公主                               │ [0.2203, 0.7797] │\n",
       "├─────────────────────────────────┼────────────────────────────────────┼──────────────────┤\n",
       "│ 感谢认领露思好漂亮              │ 感谢认领美丽露宝~                  │ [0.3775, 0.6225] │\n",
       "├─────────────────────────────────┼────────────────────────────────────┼──────────────────┤\n",
       "│ 感谢认领露思好漂亮              │ 赵露思好美                         │ [0.2475, 0.7525] │\n",
       "├─────────────────────────────────┼────────────────────────────────────┼──────────────────┤\n",
       "│ 杀了那么多人 蛇蝎心肠 还不够死� │ 他很好？很好为什么逮捕她？杀人     │ [0.6222, 0.3778] │\n",
       "├─────────────────────────────────┼────────────────────────────────────┼──────────────────┤\n",
       "│ 她的辩护律师想通过帮她翻案，    │ 二审维持原判还能上诉吗？           │ [0.1966, 0.8034] │\n",
       "├─────────────────────────────────┼────────────────────────────────────┼──────────────────┤\n",
       "│ 妈的 这个律师有点良心吧 维持原  │ 感谢认领.                          │ [0.6084, 0.3916] │\n",
       "├─────────────────────────────────┼────────────────────────────────────┼──────────────────┤\n",
       "│ 她的辩护律师想通过帮她翻案，    │ 她家人没事吧？果然不是一家人，不进 │ [0.603, 0.397]   │\n",
       "├─────────────────────────────────┼────────────────────────────────────┼──────────────────┤\n",
       "│ 《互联网黑历史现状》            │ 《你看看》                         │ [0.5533, 0.4467] │\n",
       "└─────────────────────────────────┴────────────────────────────────────┴──────────────────┘\n"
      ]
     },
     "metadata": {},
     "output_type": "display_data"
    },
    {
     "data": {
      "text/html": [
       "<pre style=\"white-space:pre;overflow-x:auto;line-height:normal;font-family:Menlo,'DejaVu Sans Mono',consolas,'Courier New',monospace\">┏━━━━━━━━━━━━━━━━━━━━━━━━━━━━━━━━━┳━━━━━━━━━━━━━━━━━━━━━━━━━━━━━━━━┳━━━━━━━━━━━━━━━━━━┓\n",
       "┃<span style=\"font-weight: bold\"> chosen_text                     </span>┃<span style=\"font-weight: bold\"> rejected_text                  </span>┃<span style=\"font-weight: bold\"> logits           </span>┃\n",
       "┡━━━━━━━━━━━━━━━━━━━━━━━━━━━━━━━━━╇━━━━━━━━━━━━━━━━━━━━━━━━━━━━━━━━╇━━━━━━━━━━━━━━━━━━┩\n",
       "│ 感谢认领.                       │ 公主                           │ [0.2203, 0.7797] │\n",
       "├─────────────────────────────────┼────────────────────────────────┼──────────────────┤\n",
       "│ 感谢认领露思好漂亮              │ 感谢认领美丽露宝~              │ [0.3775, 0.6225] │\n",
       "├─────────────────────────────────┼────────────────────────────────┼──────────────────┤\n",
       "│ 感谢认领露思好漂亮              │ 赵露思好美                     │ [0.2475, 0.7525] │\n",
       "├─────────────────────────────────┼────────────────────────────────┼──────────────────┤\n",
       "│ 杀了那么多人 蛇蝎心肠 还不够死� │ 他很好？很好为什么逮捕她？杀人 │ [0.6222, 0.3778] │\n",
       "└─────────────────────────────────┴────────────────────────────────┴──────────────────┘\n",
       "</pre>\n"
      ],
      "text/plain": [
       "┏━━━━━━━━━━━━━━━━━━━━━━━━━━━━━━━━━┳━━━━━━━━━━━━━━━━━━━━━━━━━━━━━━━━┳━━━━━━━━━━━━━━━━━━┓\n",
       "┃\u001b[1m \u001b[0m\u001b[1mchosen_text                    \u001b[0m\u001b[1m \u001b[0m┃\u001b[1m \u001b[0m\u001b[1mrejected_text                 \u001b[0m\u001b[1m \u001b[0m┃\u001b[1m \u001b[0m\u001b[1mlogits          \u001b[0m\u001b[1m \u001b[0m┃\n",
       "┡━━━━━━━━━━━━━━━━━━━━━━━━━━━━━━━━━╇━━━━━━━━━━━━━━━━━━━━━━━━━━━━━━━━╇━━━━━━━━━━━━━━━━━━┩\n",
       "│ 感谢认领.                       │ 公主                           │ [0.2203, 0.7797] │\n",
       "├─────────────────────────────────┼────────────────────────────────┼──────────────────┤\n",
       "│ 感谢认领露思好漂亮              │ 感谢认领美丽露宝~              │ [0.3775, 0.6225] │\n",
       "├─────────────────────────────────┼────────────────────────────────┼──────────────────┤\n",
       "│ 感谢认领露思好漂亮              │ 赵露思好美                     │ [0.2475, 0.7525] │\n",
       "├─────────────────────────────────┼────────────────────────────────┼──────────────────┤\n",
       "│ 杀了那么多人 蛇蝎心肠 还不够死� │ 他很好？很好为什么逮捕她？杀人 │ [0.6222, 0.3778] │\n",
       "└─────────────────────────────────┴────────────────────────────────┴──────────────────┘\n"
      ]
     },
     "metadata": {},
     "output_type": "display_data"
    },
    {
     "name": "stderr",
     "output_type": "stream",
     "text": [
      "/usr/local/lib/python3.8/dist-packages/transformers/tokenization_utils_base.py:2778: UserWarning: `max_length` is ignored when `padding`=`True` and there is no truncation strategy. To pad to max length, use `padding='max_length'`.\n",
      "  warnings.warn(\n",
      "/usr/local/lib/python3.8/dist-packages/trl/trainer/utils.py:599: UserWarning: There are 22 out of 3451 instances where the predictions for both options are equal. As a consequence the accuracy can be misleading.\n",
      "  warnings.warn(\n",
      "/usr/local/lib/python3.8/dist-packages/transformers/tokenization_utils_base.py:2778: UserWarning: `max_length` is ignored when `padding`=`True` and there is no truncation strategy. To pad to max length, use `padding='max_length'`.\n",
      "  warnings.warn(\n",
      "/usr/local/lib/python3.8/dist-packages/torch/utils/checkpoint.py:464: UserWarning: torch.utils.checkpoint: the use_reentrant parameter should be passed explicitly. In version 2.4 we will raise an exception if use_reentrant is not passed. use_reentrant=False is recommended, but if you need to preserve the current default behavior, you can pass use_reentrant=True. Refer to docs for more details on the differences between the two variants.\n",
      "  warnings.warn(\n",
      "/usr/local/lib/python3.8/dist-packages/torch/utils/checkpoint.py:91: UserWarning: None of the inputs have requires_grad=True. Gradients will be None\n",
      "  warnings.warn(\n"
     ]
    },
    {
     "data": {
      "text/html": [
       "<pre style=\"white-space:pre;overflow-x:auto;line-height:normal;font-family:Menlo,'DejaVu Sans Mono',consolas,'Courier New',monospace\">┏━━━━━━━━━━━━━━━━━━━━━━━━━━━━━━━━━┳━━━━━━━━━━━━━━━━━━━━━━━━━━━━━━━━━━━━┳━━━━━━━━━━━━━━━━━━┓\n",
       "┃<span style=\"font-weight: bold\"> chosen_text                     </span>┃<span style=\"font-weight: bold\"> rejected_text                      </span>┃<span style=\"font-weight: bold\"> logits           </span>┃\n",
       "┡━━━━━━━━━━━━━━━━━━━━━━━━━━━━━━━━━╇━━━━━━━━━━━━━━━━━━━━━━━━━━━━━━━━━━━━╇━━━━━━━━━━━━━━━━━━┩\n",
       "│ 感谢认领.                       │ 公主                               │ [0.2716, 0.7284] │\n",
       "├─────────────────────────────────┼────────────────────────────────────┼──────────────────┤\n",
       "│ 感谢认领露思好漂亮              │ 感谢认领美丽露宝~                  │ [0.397, 0.603]   │\n",
       "├─────────────────────────────────┼────────────────────────────────────┼──────────────────┤\n",
       "│ 感谢认领露思好漂亮              │ 赵露思好美                         │ [0.2803, 0.7197] │\n",
       "├─────────────────────────────────┼────────────────────────────────────┼──────────────────┤\n",
       "│ 杀了那么多人 蛇蝎心肠 还不够死� │ 他很好？很好为什么逮捕她？杀人     │ [0.5473, 0.4527] │\n",
       "├─────────────────────────────────┼────────────────────────────────────┼──────────────────┤\n",
       "│ 她的辩护律师想通过帮她翻案，    │ 二审维持原判还能上诉吗？           │ [0.5554, 0.4446] │\n",
       "├─────────────────────────────────┼────────────────────────────────────┼──────────────────┤\n",
       "│ 妈的 这个律师有点良心吧 维持原  │ 感谢认领.                          │ [0.7702, 0.2298] │\n",
       "├─────────────────────────────────┼────────────────────────────────────┼──────────────────┤\n",
       "│ 她的辩护律师想通过帮她翻案，    │ 她家人没事吧？果然不是一家人，不进 │ [0.6934, 0.3066] │\n",
       "├─────────────────────────────────┼────────────────────────────────────┼──────────────────┤\n",
       "│ 《互联网黑历史现状》            │ 《你看看》                         │ [0.6952, 0.3048] │\n",
       "└─────────────────────────────────┴────────────────────────────────────┴──────────────────┘\n",
       "</pre>\n"
      ],
      "text/plain": [
       "┏━━━━━━━━━━━━━━━━━━━━━━━━━━━━━━━━━┳━━━━━━━━━━━━━━━━━━━━━━━━━━━━━━━━━━━━┳━━━━━━━━━━━━━━━━━━┓\n",
       "┃\u001b[1m \u001b[0m\u001b[1mchosen_text                    \u001b[0m\u001b[1m \u001b[0m┃\u001b[1m \u001b[0m\u001b[1mrejected_text                     \u001b[0m\u001b[1m \u001b[0m┃\u001b[1m \u001b[0m\u001b[1mlogits          \u001b[0m\u001b[1m \u001b[0m┃\n",
       "┡━━━━━━━━━━━━━━━━━━━━━━━━━━━━━━━━━╇━━━━━━━━━━━━━━━━━━━━━━━━━━━━━━━━━━━━╇━━━━━━━━━━━━━━━━━━┩\n",
       "│ 感谢认领.                       │ 公主                               │ [0.2716, 0.7284] │\n",
       "├─────────────────────────────────┼────────────────────────────────────┼──────────────────┤\n",
       "│ 感谢认领露思好漂亮              │ 感谢认领美丽露宝~                  │ [0.397, 0.603]   │\n",
       "├─────────────────────────────────┼────────────────────────────────────┼──────────────────┤\n",
       "│ 感谢认领露思好漂亮              │ 赵露思好美                         │ [0.2803, 0.7197] │\n",
       "├─────────────────────────────────┼────────────────────────────────────┼──────────────────┤\n",
       "│ 杀了那么多人 蛇蝎心肠 还不够死� │ 他很好？很好为什么逮捕她？杀人     │ [0.5473, 0.4527] │\n",
       "├─────────────────────────────────┼────────────────────────────────────┼──────────────────┤\n",
       "│ 她的辩护律师想通过帮她翻案，    │ 二审维持原判还能上诉吗？           │ [0.5554, 0.4446] │\n",
       "├─────────────────────────────────┼────────────────────────────────────┼──────────────────┤\n",
       "│ 妈的 这个律师有点良心吧 维持原  │ 感谢认领.                          │ [0.7702, 0.2298] │\n",
       "├─────────────────────────────────┼────────────────────────────────────┼──────────────────┤\n",
       "│ 她的辩护律师想通过帮她翻案，    │ 她家人没事吧？果然不是一家人，不进 │ [0.6934, 0.3066] │\n",
       "├─────────────────────────────────┼────────────────────────────────────┼──────────────────┤\n",
       "│ 《互联网黑历史现状》            │ 《你看看》                         │ [0.6952, 0.3048] │\n",
       "└─────────────────────────────────┴────────────────────────────────────┴──────────────────┘\n"
      ]
     },
     "metadata": {},
     "output_type": "display_data"
    },
    {
     "data": {
      "text/html": [
       "<pre style=\"white-space:pre;overflow-x:auto;line-height:normal;font-family:Menlo,'DejaVu Sans Mono',consolas,'Courier New',monospace\">┏━━━━━━━━━━━━━━━━━━━━━━━━━━━━━━━━━┳━━━━━━━━━━━━━━━━━━━━━━━━━━━━━━━━┳━━━━━━━━━━━━━━━━━━┓\n",
       "┃<span style=\"font-weight: bold\"> chosen_text                     </span>┃<span style=\"font-weight: bold\"> rejected_text                  </span>┃<span style=\"font-weight: bold\"> logits           </span>┃\n",
       "┡━━━━━━━━━━━━━━━━━━━━━━━━━━━━━━━━━╇━━━━━━━━━━━━━━━━━━━━━━━━━━━━━━━━╇━━━━━━━━━━━━━━━━━━┩\n",
       "│ 感谢认领.                       │ 公主                           │ [0.2716, 0.7284] │\n",
       "├─────────────────────────────────┼────────────────────────────────┼──────────────────┤\n",
       "│ 感谢认领露思好漂亮              │ 感谢认领美丽露宝~              │ [0.397, 0.603]   │\n",
       "├─────────────────────────────────┼────────────────────────────────┼──────────────────┤\n",
       "│ 感谢认领露思好漂亮              │ 赵露思好美                     │ [0.2803, 0.7197] │\n",
       "├─────────────────────────────────┼────────────────────────────────┼──────────────────┤\n",
       "│ 杀了那么多人 蛇蝎心肠 还不够死� │ 他很好？很好为什么逮捕她？杀人 │ [0.5473, 0.4527] │\n",
       "└─────────────────────────────────┴────────────────────────────────┴──────────────────┘\n",
       "</pre>\n"
      ],
      "text/plain": [
       "┏━━━━━━━━━━━━━━━━━━━━━━━━━━━━━━━━━┳━━━━━━━━━━━━━━━━━━━━━━━━━━━━━━━━┳━━━━━━━━━━━━━━━━━━┓\n",
       "┃\u001b[1m \u001b[0m\u001b[1mchosen_text                    \u001b[0m\u001b[1m \u001b[0m┃\u001b[1m \u001b[0m\u001b[1mrejected_text                 \u001b[0m\u001b[1m \u001b[0m┃\u001b[1m \u001b[0m\u001b[1mlogits          \u001b[0m\u001b[1m \u001b[0m┃\n",
       "┡━━━━━━━━━━━━━━━━━━━━━━━━━━━━━━━━━╇━━━━━━━━━━━━━━━━━━━━━━━━━━━━━━━━╇━━━━━━━━━━━━━━━━━━┩\n",
       "│ 感谢认领.                       │ 公主                           │ [0.2716, 0.7284] │\n",
       "├─────────────────────────────────┼────────────────────────────────┼──────────────────┤\n",
       "│ 感谢认领露思好漂亮              │ 感谢认领美丽露宝~              │ [0.397, 0.603]   │\n",
       "├─────────────────────────────────┼────────────────────────────────┼──────────────────┤\n",
       "│ 感谢认领露思好漂亮              │ 赵露思好美                     │ [0.2803, 0.7197] │\n",
       "├─────────────────────────────────┼────────────────────────────────┼──────────────────┤\n",
       "│ 杀了那么多人 蛇蝎心肠 还不够死� │ 他很好？很好为什么逮捕她？杀人 │ [0.5473, 0.4527] │\n",
       "└─────────────────────────────────┴────────────────────────────────┴──────────────────┘\n"
      ]
     },
     "metadata": {},
     "output_type": "display_data"
    },
    {
     "name": "stderr",
     "output_type": "stream",
     "text": [
      "/usr/local/lib/python3.8/dist-packages/transformers/tokenization_utils_base.py:2778: UserWarning: `max_length` is ignored when `padding`=`True` and there is no truncation strategy. To pad to max length, use `padding='max_length'`.\n",
      "  warnings.warn(\n",
      "/usr/local/lib/python3.8/dist-packages/trl/trainer/utils.py:599: UserWarning: There are 22 out of 3451 instances where the predictions for both options are equal. As a consequence the accuracy can be misleading.\n",
      "  warnings.warn(\n",
      "/usr/local/lib/python3.8/dist-packages/transformers/tokenization_utils_base.py:2778: UserWarning: `max_length` is ignored when `padding`=`True` and there is no truncation strategy. To pad to max length, use `padding='max_length'`.\n",
      "  warnings.warn(\n",
      "/usr/local/lib/python3.8/dist-packages/torch/utils/checkpoint.py:464: UserWarning: torch.utils.checkpoint: the use_reentrant parameter should be passed explicitly. In version 2.4 we will raise an exception if use_reentrant is not passed. use_reentrant=False is recommended, but if you need to preserve the current default behavior, you can pass use_reentrant=True. Refer to docs for more details on the differences between the two variants.\n",
      "  warnings.warn(\n",
      "NaN or Inf found in input tensor.\n",
      "NaN or Inf found in input tensor.\n",
      "NaN or Inf found in input tensor.\n",
      "NaN or Inf found in input tensor.\n",
      "NaN or Inf found in input tensor.\n",
      "NaN or Inf found in input tensor.\n",
      "NaN or Inf found in input tensor.\n",
      "NaN or Inf found in input tensor.\n",
      "NaN or Inf found in input tensor.\n",
      "NaN or Inf found in input tensor.\n",
      "NaN or Inf found in input tensor.\n",
      "NaN or Inf found in input tensor.\n",
      "NaN or Inf found in input tensor.\n",
      "NaN or Inf found in input tensor.\n",
      "NaN or Inf found in input tensor.\n",
      "NaN or Inf found in input tensor.\n",
      "NaN or Inf found in input tensor.\n",
      "NaN or Inf found in input tensor.\n",
      "NaN or Inf found in input tensor.\n",
      "NaN or Inf found in input tensor.\n",
      "NaN or Inf found in input tensor.\n",
      "NaN or Inf found in input tensor.\n",
      "NaN or Inf found in input tensor.\n",
      "NaN or Inf found in input tensor.\n",
      "NaN or Inf found in input tensor.\n",
      "NaN or Inf found in input tensor.\n",
      "NaN or Inf found in input tensor.\n",
      "NaN or Inf found in input tensor.\n",
      "NaN or Inf found in input tensor.\n",
      "NaN or Inf found in input tensor.\n",
      "NaN or Inf found in input tensor.\n",
      "NaN or Inf found in input tensor.\n",
      "NaN or Inf found in input tensor.\n",
      "NaN or Inf found in input tensor.\n",
      "NaN or Inf found in input tensor.\n",
      "NaN or Inf found in input tensor.\n",
      "NaN or Inf found in input tensor.\n",
      "NaN or Inf found in input tensor.\n",
      "NaN or Inf found in input tensor.\n",
      "NaN or Inf found in input tensor.\n",
      "NaN or Inf found in input tensor.\n",
      "NaN or Inf found in input tensor.\n",
      "NaN or Inf found in input tensor.\n",
      "NaN or Inf found in input tensor.\n",
      "NaN or Inf found in input tensor.\n",
      "NaN or Inf found in input tensor.\n",
      "NaN or Inf found in input tensor.\n",
      "NaN or Inf found in input tensor.\n",
      "NaN or Inf found in input tensor.\n",
      "NaN or Inf found in input tensor.\n",
      "/usr/local/lib/python3.8/dist-packages/torch/utils/checkpoint.py:91: UserWarning: None of the inputs have requires_grad=True. Gradients will be None\n",
      "  warnings.warn(\n"
     ]
    },
    {
     "data": {
      "text/html": [
       "<pre style=\"white-space:pre;overflow-x:auto;line-height:normal;font-family:Menlo,'DejaVu Sans Mono',consolas,'Courier New',monospace\">┏━━━━━━━━━━━━━━━━━━━━━━━━━━━━━━━━━┳━━━━━━━━━━━━━━━━━━━━━━━━━━━━━━━━━━━━┳━━━━━━━━┓\n",
       "┃<span style=\"font-weight: bold\"> chosen_text                     </span>┃<span style=\"font-weight: bold\"> rejected_text                      </span>┃<span style=\"font-weight: bold\"> logits </span>┃\n",
       "┡━━━━━━━━━━━━━━━━━━━━━━━━━━━━━━━━━╇━━━━━━━━━━━━━━━━━━━━━━━━━━━━━━━━━━━━╇━━━━━━━━┩\n",
       "│ 感谢认领.                       │ 公主                               │        │\n",
       "├─────────────────────────────────┼────────────────────────────────────┼────────┤\n",
       "│ 感谢认领露思好漂亮              │ 感谢认领美丽露宝~                  │        │\n",
       "├─────────────────────────────────┼────────────────────────────────────┼────────┤\n",
       "│ 感谢认领露思好漂亮              │ 赵露思好美                         │        │\n",
       "├─────────────────────────────────┼────────────────────────────────────┼────────┤\n",
       "│ 杀了那么多人 蛇蝎心肠 还不够死� │ 他很好？很好为什么逮捕她？杀人     │        │\n",
       "├─────────────────────────────────┼────────────────────────────────────┼────────┤\n",
       "│ 她的辩护律师想通过帮她翻案，    │ 二审维持原判还能上诉吗？           │        │\n",
       "├─────────────────────────────────┼────────────────────────────────────┼────────┤\n",
       "│ 妈的 这个律师有点良心吧 维持原  │ 感谢认领.                          │        │\n",
       "├─────────────────────────────────┼────────────────────────────────────┼────────┤\n",
       "│ 她的辩护律师想通过帮她翻案，    │ 她家人没事吧？果然不是一家人，不进 │        │\n",
       "├─────────────────────────────────┼────────────────────────────────────┼────────┤\n",
       "│ 《互联网黑历史现状》            │ 《你看看》                         │        │\n",
       "└─────────────────────────────────┴────────────────────────────────────┴────────┘\n",
       "</pre>\n"
      ],
      "text/plain": [
       "┏━━━━━━━━━━━━━━━━━━━━━━━━━━━━━━━━━┳━━━━━━━━━━━━━━━━━━━━━━━━━━━━━━━━━━━━┳━━━━━━━━┓\n",
       "┃\u001b[1m \u001b[0m\u001b[1mchosen_text                    \u001b[0m\u001b[1m \u001b[0m┃\u001b[1m \u001b[0m\u001b[1mrejected_text                     \u001b[0m\u001b[1m \u001b[0m┃\u001b[1m \u001b[0m\u001b[1mlogits\u001b[0m\u001b[1m \u001b[0m┃\n",
       "┡━━━━━━━━━━━━━━━━━━━━━━━━━━━━━━━━━╇━━━━━━━━━━━━━━━━━━━━━━━━━━━━━━━━━━━━╇━━━━━━━━┩\n",
       "│ 感谢认领.                       │ 公主                               │        │\n",
       "├─────────────────────────────────┼────────────────────────────────────┼────────┤\n",
       "│ 感谢认领露思好漂亮              │ 感谢认领美丽露宝~                  │        │\n",
       "├─────────────────────────────────┼────────────────────────────────────┼────────┤\n",
       "│ 感谢认领露思好漂亮              │ 赵露思好美                         │        │\n",
       "├─────────────────────────────────┼────────────────────────────────────┼────────┤\n",
       "│ 杀了那么多人 蛇蝎心肠 还不够死� │ 他很好？很好为什么逮捕她？杀人     │        │\n",
       "├─────────────────────────────────┼────────────────────────────────────┼────────┤\n",
       "│ 她的辩护律师想通过帮她翻案，    │ 二审维持原判还能上诉吗？           │        │\n",
       "├─────────────────────────────────┼────────────────────────────────────┼────────┤\n",
       "│ 妈的 这个律师有点良心吧 维持原  │ 感谢认领.                          │        │\n",
       "├─────────────────────────────────┼────────────────────────────────────┼────────┤\n",
       "│ 她的辩护律师想通过帮她翻案，    │ 她家人没事吧？果然不是一家人，不进 │        │\n",
       "├─────────────────────────────────┼────────────────────────────────────┼────────┤\n",
       "│ 《互联网黑历史现状》            │ 《你看看》                         │        │\n",
       "└─────────────────────────────────┴────────────────────────────────────┴────────┘\n"
      ]
     },
     "metadata": {},
     "output_type": "display_data"
    },
    {
     "data": {
      "text/html": [
       "<pre style=\"white-space:pre;overflow-x:auto;line-height:normal;font-family:Menlo,'DejaVu Sans Mono',consolas,'Courier New',monospace\">┏━━━━━━━━━━━━━━━━━━━━━━━━━━━━━━━━━┳━━━━━━━━━━━━━━━━━━━━━━━━━━━━━━━━┳━━━━━━━━┓\n",
       "┃<span style=\"font-weight: bold\"> chosen_text                     </span>┃<span style=\"font-weight: bold\"> rejected_text                  </span>┃<span style=\"font-weight: bold\"> logits </span>┃\n",
       "┡━━━━━━━━━━━━━━━━━━━━━━━━━━━━━━━━━╇━━━━━━━━━━━━━━━━━━━━━━━━━━━━━━━━╇━━━━━━━━┩\n",
       "│ 感谢认领.                       │ 公主                           │        │\n",
       "├─────────────────────────────────┼────────────────────────────────┼────────┤\n",
       "│ 感谢认领露思好漂亮              │ 感谢认领美丽露宝~              │        │\n",
       "├─────────────────────────────────┼────────────────────────────────┼────────┤\n",
       "│ 感谢认领露思好漂亮              │ 赵露思好美                     │        │\n",
       "├─────────────────────────────────┼────────────────────────────────┼────────┤\n",
       "│ 杀了那么多人 蛇蝎心肠 还不够死� │ 他很好？很好为什么逮捕她？杀人 │        │\n",
       "└─────────────────────────────────┴────────────────────────────────┴────────┘\n",
       "</pre>\n"
      ],
      "text/plain": [
       "┏━━━━━━━━━━━━━━━━━━━━━━━━━━━━━━━━━┳━━━━━━━━━━━━━━━━━━━━━━━━━━━━━━━━┳━━━━━━━━┓\n",
       "┃\u001b[1m \u001b[0m\u001b[1mchosen_text                    \u001b[0m\u001b[1m \u001b[0m┃\u001b[1m \u001b[0m\u001b[1mrejected_text                 \u001b[0m\u001b[1m \u001b[0m┃\u001b[1m \u001b[0m\u001b[1mlogits\u001b[0m\u001b[1m \u001b[0m┃\n",
       "┡━━━━━━━━━━━━━━━━━━━━━━━━━━━━━━━━━╇━━━━━━━━━━━━━━━━━━━━━━━━━━━━━━━━╇━━━━━━━━┩\n",
       "│ 感谢认领.                       │ 公主                           │        │\n",
       "├─────────────────────────────────┼────────────────────────────────┼────────┤\n",
       "│ 感谢认领露思好漂亮              │ 感谢认领美丽露宝~              │        │\n",
       "├─────────────────────────────────┼────────────────────────────────┼────────┤\n",
       "│ 感谢认领露思好漂亮              │ 赵露思好美                     │        │\n",
       "├─────────────────────────────────┼────────────────────────────────┼────────┤\n",
       "│ 杀了那么多人 蛇蝎心肠 还不够死� │ 他很好？很好为什么逮捕她？杀人 │        │\n",
       "└─────────────────────────────────┴────────────────────────────────┴────────┘\n"
      ]
     },
     "metadata": {},
     "output_type": "display_data"
    },
    {
     "name": "stderr",
     "output_type": "stream",
     "text": [
      "/usr/local/lib/python3.8/dist-packages/transformers/tokenization_utils_base.py:2778: UserWarning: `max_length` is ignored when `padding`=`True` and there is no truncation strategy. To pad to max length, use `padding='max_length'`.\n",
      "  warnings.warn(\n",
      "NaN or Inf found in input tensor.\n",
      "/usr/local/lib/python3.8/dist-packages/transformers/tokenization_utils_base.py:2778: UserWarning: `max_length` is ignored when `padding`=`True` and there is no truncation strategy. To pad to max length, use `padding='max_length'`.\n",
      "  warnings.warn(\n",
      "/usr/local/lib/python3.8/dist-packages/torch/utils/checkpoint.py:464: UserWarning: torch.utils.checkpoint: the use_reentrant parameter should be passed explicitly. In version 2.4 we will raise an exception if use_reentrant is not passed. use_reentrant=False is recommended, but if you need to preserve the current default behavior, you can pass use_reentrant=True. Refer to docs for more details on the differences between the two variants.\n",
      "  warnings.warn(\n",
      "NaN or Inf found in input tensor.\n",
      "NaN or Inf found in input tensor.\n",
      "NaN or Inf found in input tensor.\n",
      "NaN or Inf found in input tensor.\n",
      "NaN or Inf found in input tensor.\n",
      "NaN or Inf found in input tensor.\n",
      "NaN or Inf found in input tensor.\n",
      "NaN or Inf found in input tensor.\n",
      "NaN or Inf found in input tensor.\n",
      "NaN or Inf found in input tensor.\n",
      "NaN or Inf found in input tensor.\n",
      "NaN or Inf found in input tensor.\n",
      "NaN or Inf found in input tensor.\n",
      "NaN or Inf found in input tensor.\n",
      "NaN or Inf found in input tensor.\n",
      "NaN or Inf found in input tensor.\n",
      "NaN or Inf found in input tensor.\n",
      "NaN or Inf found in input tensor.\n",
      "NaN or Inf found in input tensor.\n",
      "NaN or Inf found in input tensor.\n",
      "NaN or Inf found in input tensor.\n",
      "NaN or Inf found in input tensor.\n",
      "NaN or Inf found in input tensor.\n",
      "NaN or Inf found in input tensor.\n",
      "NaN or Inf found in input tensor.\n",
      "NaN or Inf found in input tensor.\n",
      "NaN or Inf found in input tensor.\n",
      "NaN or Inf found in input tensor.\n",
      "NaN or Inf found in input tensor.\n",
      "NaN or Inf found in input tensor.\n",
      "NaN or Inf found in input tensor.\n",
      "NaN or Inf found in input tensor.\n",
      "NaN or Inf found in input tensor.\n",
      "NaN or Inf found in input tensor.\n",
      "NaN or Inf found in input tensor.\n",
      "NaN or Inf found in input tensor.\n",
      "NaN or Inf found in input tensor.\n",
      "NaN or Inf found in input tensor.\n",
      "NaN or Inf found in input tensor.\n",
      "NaN or Inf found in input tensor.\n",
      "NaN or Inf found in input tensor.\n",
      "NaN or Inf found in input tensor.\n",
      "NaN or Inf found in input tensor.\n",
      "NaN or Inf found in input tensor.\n",
      "NaN or Inf found in input tensor.\n",
      "NaN or Inf found in input tensor.\n",
      "NaN or Inf found in input tensor.\n",
      "NaN or Inf found in input tensor.\n",
      "NaN or Inf found in input tensor.\n",
      "NaN or Inf found in input tensor.\n",
      "/usr/local/lib/python3.8/dist-packages/torch/utils/checkpoint.py:91: UserWarning: None of the inputs have requires_grad=True. Gradients will be None\n",
      "  warnings.warn(\n"
     ]
    },
    {
     "data": {
      "text/html": [
       "<pre style=\"white-space:pre;overflow-x:auto;line-height:normal;font-family:Menlo,'DejaVu Sans Mono',consolas,'Courier New',monospace\">┏━━━━━━━━━━━━━━━━━━━━━━━━━━━━━━━━━┳━━━━━━━━━━━━━━━━━━━━━━━━━━━━━━━━━━━━┳━━━━━━━━┓\n",
       "┃<span style=\"font-weight: bold\"> chosen_text                     </span>┃<span style=\"font-weight: bold\"> rejected_text                      </span>┃<span style=\"font-weight: bold\"> logits </span>┃\n",
       "┡━━━━━━━━━━━━━━━━━━━━━━━━━━━━━━━━━╇━━━━━━━━━━━━━━━━━━━━━━━━━━━━━━━━━━━━╇━━━━━━━━┩\n",
       "│ 感谢认领.                       │ 公主                               │        │\n",
       "├─────────────────────────────────┼────────────────────────────────────┼────────┤\n",
       "│ 感谢认领露思好漂亮              │ 感谢认领美丽露宝~                  │        │\n",
       "├─────────────────────────────────┼────────────────────────────────────┼────────┤\n",
       "│ 感谢认领露思好漂亮              │ 赵露思好美                         │        │\n",
       "├─────────────────────────────────┼────────────────────────────────────┼────────┤\n",
       "│ 杀了那么多人 蛇蝎心肠 还不够死� │ 他很好？很好为什么逮捕她？杀人     │        │\n",
       "├─────────────────────────────────┼────────────────────────────────────┼────────┤\n",
       "│ 她的辩护律师想通过帮她翻案，    │ 二审维持原判还能上诉吗？           │        │\n",
       "├─────────────────────────────────┼────────────────────────────────────┼────────┤\n",
       "│ 妈的 这个律师有点良心吧 维持原  │ 感谢认领.                          │        │\n",
       "├─────────────────────────────────┼────────────────────────────────────┼────────┤\n",
       "│ 她的辩护律师想通过帮她翻案，    │ 她家人没事吧？果然不是一家人，不进 │        │\n",
       "├─────────────────────────────────┼────────────────────────────────────┼────────┤\n",
       "│ 《互联网黑历史现状》            │ 《你看看》                         │        │\n",
       "└─────────────────────────────────┴────────────────────────────────────┴────────┘\n",
       "</pre>\n"
      ],
      "text/plain": [
       "┏━━━━━━━━━━━━━━━━━━━━━━━━━━━━━━━━━┳━━━━━━━━━━━━━━━━━━━━━━━━━━━━━━━━━━━━┳━━━━━━━━┓\n",
       "┃\u001b[1m \u001b[0m\u001b[1mchosen_text                    \u001b[0m\u001b[1m \u001b[0m┃\u001b[1m \u001b[0m\u001b[1mrejected_text                     \u001b[0m\u001b[1m \u001b[0m┃\u001b[1m \u001b[0m\u001b[1mlogits\u001b[0m\u001b[1m \u001b[0m┃\n",
       "┡━━━━━━━━━━━━━━━━━━━━━━━━━━━━━━━━━╇━━━━━━━━━━━━━━━━━━━━━━━━━━━━━━━━━━━━╇━━━━━━━━┩\n",
       "│ 感谢认领.                       │ 公主                               │        │\n",
       "├─────────────────────────────────┼────────────────────────────────────┼────────┤\n",
       "│ 感谢认领露思好漂亮              │ 感谢认领美丽露宝~                  │        │\n",
       "├─────────────────────────────────┼────────────────────────────────────┼────────┤\n",
       "│ 感谢认领露思好漂亮              │ 赵露思好美                         │        │\n",
       "├─────────────────────────────────┼────────────────────────────────────┼────────┤\n",
       "│ 杀了那么多人 蛇蝎心肠 还不够死� │ 他很好？很好为什么逮捕她？杀人     │        │\n",
       "├─────────────────────────────────┼────────────────────────────────────┼────────┤\n",
       "│ 她的辩护律师想通过帮她翻案，    │ 二审维持原判还能上诉吗？           │        │\n",
       "├─────────────────────────────────┼────────────────────────────────────┼────────┤\n",
       "│ 妈的 这个律师有点良心吧 维持原  │ 感谢认领.                          │        │\n",
       "├─────────────────────────────────┼────────────────────────────────────┼────────┤\n",
       "│ 她的辩护律师想通过帮她翻案，    │ 她家人没事吧？果然不是一家人，不进 │        │\n",
       "├─────────────────────────────────┼────────────────────────────────────┼────────┤\n",
       "│ 《互联网黑历史现状》            │ 《你看看》                         │        │\n",
       "└─────────────────────────────────┴────────────────────────────────────┴────────┘\n"
      ]
     },
     "metadata": {},
     "output_type": "display_data"
    },
    {
     "data": {
      "text/html": [
       "<pre style=\"white-space:pre;overflow-x:auto;line-height:normal;font-family:Menlo,'DejaVu Sans Mono',consolas,'Courier New',monospace\">┏━━━━━━━━━━━━━━━━━━━━━━━━━━━━━━━━━┳━━━━━━━━━━━━━━━━━━━━━━━━━━━━━━━━┳━━━━━━━━┓\n",
       "┃<span style=\"font-weight: bold\"> chosen_text                     </span>┃<span style=\"font-weight: bold\"> rejected_text                  </span>┃<span style=\"font-weight: bold\"> logits </span>┃\n",
       "┡━━━━━━━━━━━━━━━━━━━━━━━━━━━━━━━━━╇━━━━━━━━━━━━━━━━━━━━━━━━━━━━━━━━╇━━━━━━━━┩\n",
       "│ 感谢认领.                       │ 公主                           │        │\n",
       "├─────────────────────────────────┼────────────────────────────────┼────────┤\n",
       "│ 感谢认领露思好漂亮              │ 感谢认领美丽露宝~              │        │\n",
       "├─────────────────────────────────┼────────────────────────────────┼────────┤\n",
       "│ 感谢认领露思好漂亮              │ 赵露思好美                     │        │\n",
       "├─────────────────────────────────┼────────────────────────────────┼────────┤\n",
       "│ 杀了那么多人 蛇蝎心肠 还不够死� │ 他很好？很好为什么逮捕她？杀人 │        │\n",
       "└─────────────────────────────────┴────────────────────────────────┴────────┘\n",
       "</pre>\n"
      ],
      "text/plain": [
       "┏━━━━━━━━━━━━━━━━━━━━━━━━━━━━━━━━━┳━━━━━━━━━━━━━━━━━━━━━━━━━━━━━━━━┳━━━━━━━━┓\n",
       "┃\u001b[1m \u001b[0m\u001b[1mchosen_text                    \u001b[0m\u001b[1m \u001b[0m┃\u001b[1m \u001b[0m\u001b[1mrejected_text                 \u001b[0m\u001b[1m \u001b[0m┃\u001b[1m \u001b[0m\u001b[1mlogits\u001b[0m\u001b[1m \u001b[0m┃\n",
       "┡━━━━━━━━━━━━━━━━━━━━━━━━━━━━━━━━━╇━━━━━━━━━━━━━━━━━━━━━━━━━━━━━━━━╇━━━━━━━━┩\n",
       "│ 感谢认领.                       │ 公主                           │        │\n",
       "├─────────────────────────────────┼────────────────────────────────┼────────┤\n",
       "│ 感谢认领露思好漂亮              │ 感谢认领美丽露宝~              │        │\n",
       "├─────────────────────────────────┼────────────────────────────────┼────────┤\n",
       "│ 感谢认领露思好漂亮              │ 赵露思好美                     │        │\n",
       "├─────────────────────────────────┼────────────────────────────────┼────────┤\n",
       "│ 杀了那么多人 蛇蝎心肠 还不够死� │ 他很好？很好为什么逮捕她？杀人 │        │\n",
       "└─────────────────────────────────┴────────────────────────────────┴────────┘\n"
      ]
     },
     "metadata": {},
     "output_type": "display_data"
    },
    {
     "name": "stderr",
     "output_type": "stream",
     "text": [
      "/usr/local/lib/python3.8/dist-packages/transformers/tokenization_utils_base.py:2778: UserWarning: `max_length` is ignored when `padding`=`True` and there is no truncation strategy. To pad to max length, use `padding='max_length'`.\n",
      "  warnings.warn(\n",
      "NaN or Inf found in input tensor.\n",
      "/usr/local/lib/python3.8/dist-packages/transformers/tokenization_utils_base.py:2778: UserWarning: `max_length` is ignored when `padding`=`True` and there is no truncation strategy. To pad to max length, use `padding='max_length'`.\n",
      "  warnings.warn(\n",
      "/usr/local/lib/python3.8/dist-packages/torch/utils/checkpoint.py:464: UserWarning: torch.utils.checkpoint: the use_reentrant parameter should be passed explicitly. In version 2.4 we will raise an exception if use_reentrant is not passed. use_reentrant=False is recommended, but if you need to preserve the current default behavior, you can pass use_reentrant=True. Refer to docs for more details on the differences between the two variants.\n",
      "  warnings.warn(\n",
      "NaN or Inf found in input tensor.\n",
      "NaN or Inf found in input tensor.\n",
      "NaN or Inf found in input tensor.\n",
      "NaN or Inf found in input tensor.\n",
      "NaN or Inf found in input tensor.\n",
      "NaN or Inf found in input tensor.\n",
      "NaN or Inf found in input tensor.\n",
      "NaN or Inf found in input tensor.\n",
      "NaN or Inf found in input tensor.\n",
      "NaN or Inf found in input tensor.\n",
      "\n",
      "KeyboardInterrupt\n",
      "\n"
     ]
    }
   ],
   "source": [
    "trainer = RewardTrainer(\n",
    "    model=rm_model,\n",
    "    tokenizer=tokenizer,\n",
    "    args=config,\n",
    "    train_dataset=rm_train_dataset,\n",
    "    eval_dataset=rm_eval_dataset,\n",
    "    peft_config=peft_config,\n",
    ")\n",
    "trainer.train()\n",
    "trainer.save_model(config.output_dir)"
   ]
  },
  {
   "cell_type": "markdown",
   "id": "c053ce5f",
   "metadata": {},
   "source": [
    "##### `Seventh` Formal Trial (11700 steps, time cost 24:24 on RTX 4090)\n",
    "bs = 32, lr = 5e-3, grad_accum = 4, 150 epochs"
   ]
  },
  {
   "cell_type": "code",
   "execution_count": 12,
   "id": "57ada177-8526-4269-ba10-489a59836688",
   "metadata": {},
   "outputs": [
    {
     "name": "stderr",
     "output_type": "stream",
     "text": [
      "/usr/local/lib/python3.8/dist-packages/peft/tuners/lora/layer.py:1119: UserWarning: fan_in_fan_out is set to False but the target module is `Conv1D`. Setting fan_in_fan_out to True.\n",
      "  warnings.warn(\n",
      "Detected kernel version 5.4.0, which is below the recommended minimum of 5.5.0; this can cause the process to hang. It is recommended to upgrade the kernel to the minimum version or higher.\n",
      "You're using a GPT2TokenizerFast tokenizer. Please note that with a fast tokenizer, using the `__call__` method is faster than using a method to encode the text followed by a call to the `pad` method to get a padded encoding.\n",
      "/usr/local/lib/python3.8/dist-packages/transformers/tokenization_utils_base.py:2778: UserWarning: `max_length` is ignored when `padding`=`True` and there is no truncation strategy. To pad to max length, use `padding='max_length'`.\n",
      "  warnings.warn(\n",
      "`use_cache=True` is incompatible with gradient checkpointing. Setting `use_cache=False`...\n",
      "/usr/local/lib/python3.8/dist-packages/torch/utils/checkpoint.py:464: UserWarning: torch.utils.checkpoint: the use_reentrant parameter should be passed explicitly. In version 2.4 we will raise an exception if use_reentrant is not passed. use_reentrant=False is recommended, but if you need to preserve the current default behavior, you can pass use_reentrant=True. Refer to docs for more details on the differences between the two variants.\n",
      "  warnings.warn(\n",
      "/usr/local/lib/python3.8/dist-packages/torch/utils/checkpoint.py:91: UserWarning: None of the inputs have requires_grad=True. Gradients will be None\n",
      "  warnings.warn(\n",
      "Could not estimate the number of tokens of the input, floating-point operations will not be computed\n"
     ]
    },
    {
     "data": {
      "text/html": [
       "\n",
       "    <div>\n",
       "      \n",
       "      <progress value='11700' max='11700' style='width:300px; height:20px; vertical-align: middle;'></progress>\n",
       "      [11700/11700 24:24, Epoch 149/150]\n",
       "    </div>\n",
       "    <table border=\"1\" class=\"dataframe\">\n",
       "  <thead>\n",
       " <tr style=\"text-align: left;\">\n",
       "      <th>Step</th>\n",
       "      <th>Training Loss</th>\n",
       "      <th>Validation Loss</th>\n",
       "      <th>Accuracy</th>\n",
       "    </tr>\n",
       "  </thead>\n",
       "  <tbody>\n",
       "    <tr>\n",
       "      <td>500</td>\n",
       "      <td>0.697900</td>\n",
       "      <td>0.716391</td>\n",
       "      <td>0.541582</td>\n",
       "    </tr>\n",
       "    <tr>\n",
       "      <td>1000</td>\n",
       "      <td>0.698900</td>\n",
       "      <td>0.703380</td>\n",
       "      <td>0.556360</td>\n",
       "    </tr>\n",
       "    <tr>\n",
       "      <td>1500</td>\n",
       "      <td>0.701100</td>\n",
       "      <td>0.712082</td>\n",
       "      <td>0.551145</td>\n",
       "    </tr>\n",
       "    <tr>\n",
       "      <td>2000</td>\n",
       "      <td>0.683200</td>\n",
       "      <td>0.711820</td>\n",
       "      <td>0.548826</td>\n",
       "    </tr>\n",
       "    <tr>\n",
       "      <td>2500</td>\n",
       "      <td>0.691500</td>\n",
       "      <td>0.708923</td>\n",
       "      <td>0.549696</td>\n",
       "    </tr>\n",
       "    <tr>\n",
       "      <td>3000</td>\n",
       "      <td>0.684800</td>\n",
       "      <td>0.733570</td>\n",
       "      <td>0.527673</td>\n",
       "    </tr>\n",
       "    <tr>\n",
       "      <td>3500</td>\n",
       "      <td>0.676900</td>\n",
       "      <td>0.704638</td>\n",
       "      <td>0.565054</td>\n",
       "    </tr>\n",
       "    <tr>\n",
       "      <td>4000</td>\n",
       "      <td>0.664800</td>\n",
       "      <td>0.705384</td>\n",
       "      <td>0.553463</td>\n",
       "    </tr>\n",
       "    <tr>\n",
       "      <td>4500</td>\n",
       "      <td>0.693400</td>\n",
       "      <td>0.705815</td>\n",
       "      <td>0.556650</td>\n",
       "    </tr>\n",
       "    <tr>\n",
       "      <td>5000</td>\n",
       "      <td>0.703800</td>\n",
       "      <td>0.712788</td>\n",
       "      <td>0.543611</td>\n",
       "    </tr>\n",
       "    <tr>\n",
       "      <td>5500</td>\n",
       "      <td>0.660600</td>\n",
       "      <td>0.704844</td>\n",
       "      <td>0.560707</td>\n",
       "    </tr>\n",
       "    <tr>\n",
       "      <td>6000</td>\n",
       "      <td>0.687400</td>\n",
       "      <td>0.703599</td>\n",
       "      <td>0.556940</td>\n",
       "    </tr>\n",
       "    <tr>\n",
       "      <td>6500</td>\n",
       "      <td>0.671000</td>\n",
       "      <td>0.702174</td>\n",
       "      <td>0.544480</td>\n",
       "    </tr>\n",
       "    <tr>\n",
       "      <td>7000</td>\n",
       "      <td>0.672300</td>\n",
       "      <td>0.710946</td>\n",
       "      <td>0.548537</td>\n",
       "    </tr>\n",
       "    <tr>\n",
       "      <td>7500</td>\n",
       "      <td>0.676800</td>\n",
       "      <td>0.707522</td>\n",
       "      <td>0.538395</td>\n",
       "    </tr>\n",
       "    <tr>\n",
       "      <td>8000</td>\n",
       "      <td>0.679400</td>\n",
       "      <td>0.707327</td>\n",
       "      <td>0.556650</td>\n",
       "    </tr>\n",
       "    <tr>\n",
       "      <td>8500</td>\n",
       "      <td>0.666400</td>\n",
       "      <td>0.699953</td>\n",
       "      <td>0.543321</td>\n",
       "    </tr>\n",
       "    <tr>\n",
       "      <td>9000</td>\n",
       "      <td>0.660400</td>\n",
       "      <td>0.700803</td>\n",
       "      <td>0.554622</td>\n",
       "    </tr>\n",
       "    <tr>\n",
       "      <td>9500</td>\n",
       "      <td>0.673500</td>\n",
       "      <td>0.700248</td>\n",
       "      <td>0.559838</td>\n",
       "    </tr>\n",
       "    <tr>\n",
       "      <td>10000</td>\n",
       "      <td>0.661000</td>\n",
       "      <td>0.699150</td>\n",
       "      <td>0.550855</td>\n",
       "    </tr>\n",
       "    <tr>\n",
       "      <td>10500</td>\n",
       "      <td>0.658400</td>\n",
       "      <td>0.698956</td>\n",
       "      <td>0.544480</td>\n",
       "    </tr>\n",
       "    <tr>\n",
       "      <td>11000</td>\n",
       "      <td>0.662900</td>\n",
       "      <td>0.699243</td>\n",
       "      <td>0.548826</td>\n",
       "    </tr>\n",
       "    <tr>\n",
       "      <td>11500</td>\n",
       "      <td>0.660700</td>\n",
       "      <td>0.699315</td>\n",
       "      <td>0.548537</td>\n",
       "    </tr>\n",
       "  </tbody>\n",
       "</table><p>"
      ],
      "text/plain": [
       "<IPython.core.display.HTML object>"
      ]
     },
     "metadata": {},
     "output_type": "display_data"
    },
    {
     "data": {
      "text/html": [
       "<pre style=\"white-space:pre;overflow-x:auto;line-height:normal;font-family:Menlo,'DejaVu Sans Mono',consolas,'Courier New',monospace\">┏━━━━━━━━━━━━━━━━━━━━━━━━━━━━━━━━━┳━━━━━━━━━━━━━━━━━━━━━━━━━━━━━━━━━━━━┳━━━━━━━━━━━━━━━━━━┓\n",
       "┃<span style=\"font-weight: bold\"> chosen_text                     </span>┃<span style=\"font-weight: bold\"> rejected_text                      </span>┃<span style=\"font-weight: bold\"> logits           </span>┃\n",
       "┡━━━━━━━━━━━━━━━━━━━━━━━━━━━━━━━━━╇━━━━━━━━━━━━━━━━━━━━━━━━━━━━━━━━━━━━╇━━━━━━━━━━━━━━━━━━┩\n",
       "│ 感谢认领.                       │ 公主                               │ [0.5969, 0.4031] │\n",
       "├─────────────────────────────────┼────────────────────────────────────┼──────────────────┤\n",
       "│ 感谢认领露思好漂亮              │ 感谢认领美丽露宝~                  │ [0.4726, 0.5274] │\n",
       "├─────────────────────────────────┼────────────────────────────────────┼──────────────────┤\n",
       "│ 感谢认领露思好漂亮              │ 赵露思好美                         │ [0.6267, 0.3733] │\n",
       "├─────────────────────────────────┼────────────────────────────────────┼──────────────────┤\n",
       "│ 杀了那么多人 蛇蝎心肠 还不够死� │ 他很好？很好为什么逮捕她？杀人     │ [0.2765, 0.7235] │\n",
       "├─────────────────────────────────┼────────────────────────────────────┼──────────────────┤\n",
       "│ 她的辩护律师想通过帮她翻案，    │ 二审维持原判还能上诉吗？           │ [0.2182, 0.7818] │\n",
       "├─────────────────────────────────┼────────────────────────────────────┼──────────────────┤\n",
       "│ 妈的 这个律师有点良心吧 维持原  │ 感谢认领.                          │ [0.6182, 0.3818] │\n",
       "├─────────────────────────────────┼────────────────────────────────────┼──────────────────┤\n",
       "│ 她的辩护律师想通过帮她翻案，    │ 她家人没事吧？果然不是一家人，不进 │ [0.3422, 0.6578] │\n",
       "├─────────────────────────────────┼────────────────────────────────────┼──────────────────┤\n",
       "│ 《互联网黑历史现状》            │ 《你看看》                         │ [0.4888, 0.5112] │\n",
       "└─────────────────────────────────┴────────────────────────────────────┴──────────────────┘\n",
       "</pre>\n"
      ],
      "text/plain": [
       "┏━━━━━━━━━━━━━━━━━━━━━━━━━━━━━━━━━┳━━━━━━━━━━━━━━━━━━━━━━━━━━━━━━━━━━━━┳━━━━━━━━━━━━━━━━━━┓\n",
       "┃\u001b[1m \u001b[0m\u001b[1mchosen_text                    \u001b[0m\u001b[1m \u001b[0m┃\u001b[1m \u001b[0m\u001b[1mrejected_text                     \u001b[0m\u001b[1m \u001b[0m┃\u001b[1m \u001b[0m\u001b[1mlogits          \u001b[0m\u001b[1m \u001b[0m┃\n",
       "┡━━━━━━━━━━━━━━━━━━━━━━━━━━━━━━━━━╇━━━━━━━━━━━━━━━━━━━━━━━━━━━━━━━━━━━━╇━━━━━━━━━━━━━━━━━━┩\n",
       "│ 感谢认领.                       │ 公主                               │ [0.5969, 0.4031] │\n",
       "├─────────────────────────────────┼────────────────────────────────────┼──────────────────┤\n",
       "│ 感谢认领露思好漂亮              │ 感谢认领美丽露宝~                  │ [0.4726, 0.5274] │\n",
       "├─────────────────────────────────┼────────────────────────────────────┼──────────────────┤\n",
       "│ 感谢认领露思好漂亮              │ 赵露思好美                         │ [0.6267, 0.3733] │\n",
       "├─────────────────────────────────┼────────────────────────────────────┼──────────────────┤\n",
       "│ 杀了那么多人 蛇蝎心肠 还不够死� │ 他很好？很好为什么逮捕她？杀人     │ [0.2765, 0.7235] │\n",
       "├─────────────────────────────────┼────────────────────────────────────┼──────────────────┤\n",
       "│ 她的辩护律师想通过帮她翻案，    │ 二审维持原判还能上诉吗？           │ [0.2182, 0.7818] │\n",
       "├─────────────────────────────────┼────────────────────────────────────┼──────────────────┤\n",
       "│ 妈的 这个律师有点良心吧 维持原  │ 感谢认领.                          │ [0.6182, 0.3818] │\n",
       "├─────────────────────────────────┼────────────────────────────────────┼──────────────────┤\n",
       "│ 她的辩护律师想通过帮她翻案，    │ 她家人没事吧？果然不是一家人，不进 │ [0.3422, 0.6578] │\n",
       "├─────────────────────────────────┼────────────────────────────────────┼──────────────────┤\n",
       "│ 《互联网黑历史现状》            │ 《你看看》                         │ [0.4888, 0.5112] │\n",
       "└─────────────────────────────────┴────────────────────────────────────┴──────────────────┘\n"
      ]
     },
     "metadata": {},
     "output_type": "display_data"
    },
    {
     "data": {
      "text/html": [
       "<pre style=\"white-space:pre;overflow-x:auto;line-height:normal;font-family:Menlo,'DejaVu Sans Mono',consolas,'Courier New',monospace\">┏━━━━━━━━━━━━━━━━━━━━━━━━━━━━━━━━━┳━━━━━━━━━━━━━━━━━━━━━━━━━━━━━━━━┳━━━━━━━━━━━━━━━━━━┓\n",
       "┃<span style=\"font-weight: bold\"> chosen_text                     </span>┃<span style=\"font-weight: bold\"> rejected_text                  </span>┃<span style=\"font-weight: bold\"> logits           </span>┃\n",
       "┡━━━━━━━━━━━━━━━━━━━━━━━━━━━━━━━━━╇━━━━━━━━━━━━━━━━━━━━━━━━━━━━━━━━╇━━━━━━━━━━━━━━━━━━┩\n",
       "│ 感谢认领.                       │ 公主                           │ [0.5969, 0.4031] │\n",
       "├─────────────────────────────────┼────────────────────────────────┼──────────────────┤\n",
       "│ 感谢认领露思好漂亮              │ 感谢认领美丽露宝~              │ [0.4726, 0.5274] │\n",
       "├─────────────────────────────────┼────────────────────────────────┼──────────────────┤\n",
       "│ 感谢认领露思好漂亮              │ 赵露思好美                     │ [0.6267, 0.3733] │\n",
       "├─────────────────────────────────┼────────────────────────────────┼──────────────────┤\n",
       "│ 杀了那么多人 蛇蝎心肠 还不够死� │ 他很好？很好为什么逮捕她？杀人 │ [0.2765, 0.7235] │\n",
       "└─────────────────────────────────┴────────────────────────────────┴──────────────────┘\n",
       "</pre>\n"
      ],
      "text/plain": [
       "┏━━━━━━━━━━━━━━━━━━━━━━━━━━━━━━━━━┳━━━━━━━━━━━━━━━━━━━━━━━━━━━━━━━━┳━━━━━━━━━━━━━━━━━━┓\n",
       "┃\u001b[1m \u001b[0m\u001b[1mchosen_text                    \u001b[0m\u001b[1m \u001b[0m┃\u001b[1m \u001b[0m\u001b[1mrejected_text                 \u001b[0m\u001b[1m \u001b[0m┃\u001b[1m \u001b[0m\u001b[1mlogits          \u001b[0m\u001b[1m \u001b[0m┃\n",
       "┡━━━━━━━━━━━━━━━━━━━━━━━━━━━━━━━━━╇━━━━━━━━━━━━━━━━━━━━━━━━━━━━━━━━╇━━━━━━━━━━━━━━━━━━┩\n",
       "│ 感谢认领.                       │ 公主                           │ [0.5969, 0.4031] │\n",
       "├─────────────────────────────────┼────────────────────────────────┼──────────────────┤\n",
       "│ 感谢认领露思好漂亮              │ 感谢认领美丽露宝~              │ [0.4726, 0.5274] │\n",
       "├─────────────────────────────────┼────────────────────────────────┼──────────────────┤\n",
       "│ 感谢认领露思好漂亮              │ 赵露思好美                     │ [0.6267, 0.3733] │\n",
       "├─────────────────────────────────┼────────────────────────────────┼──────────────────┤\n",
       "│ 杀了那么多人 蛇蝎心肠 还不够死� │ 他很好？很好为什么逮捕她？杀人 │ [0.2765, 0.7235] │\n",
       "└─────────────────────────────────┴────────────────────────────────┴──────────────────┘\n"
      ]
     },
     "metadata": {},
     "output_type": "display_data"
    },
    {
     "name": "stderr",
     "output_type": "stream",
     "text": [
      "/usr/local/lib/python3.8/dist-packages/transformers/tokenization_utils_base.py:2778: UserWarning: `max_length` is ignored when `padding`=`True` and there is no truncation strategy. To pad to max length, use `padding='max_length'`.\n",
      "  warnings.warn(\n",
      "/usr/local/lib/python3.8/dist-packages/trl/trainer/utils.py:599: UserWarning: There are 22 out of 3451 instances where the predictions for both options are equal. As a consequence the accuracy can be misleading.\n",
      "  warnings.warn(\n",
      "/usr/local/lib/python3.8/dist-packages/transformers/tokenization_utils_base.py:2778: UserWarning: `max_length` is ignored when `padding`=`True` and there is no truncation strategy. To pad to max length, use `padding='max_length'`.\n",
      "  warnings.warn(\n",
      "/usr/local/lib/python3.8/dist-packages/torch/utils/checkpoint.py:464: UserWarning: torch.utils.checkpoint: the use_reentrant parameter should be passed explicitly. In version 2.4 we will raise an exception if use_reentrant is not passed. use_reentrant=False is recommended, but if you need to preserve the current default behavior, you can pass use_reentrant=True. Refer to docs for more details on the differences between the two variants.\n",
      "  warnings.warn(\n",
      "/usr/local/lib/python3.8/dist-packages/torch/utils/checkpoint.py:91: UserWarning: None of the inputs have requires_grad=True. Gradients will be None\n",
      "  warnings.warn(\n"
     ]
    },
    {
     "data": {
      "text/html": [
       "<pre style=\"white-space:pre;overflow-x:auto;line-height:normal;font-family:Menlo,'DejaVu Sans Mono',consolas,'Courier New',monospace\">┏━━━━━━━━━━━━━━━━━━━━━━━━━━━━━━━━━┳━━━━━━━━━━━━━━━━━━━━━━━━━━━━━━━━━━━━┳━━━━━━━━━━━━━━━━━━┓\n",
       "┃<span style=\"font-weight: bold\"> chosen_text                     </span>┃<span style=\"font-weight: bold\"> rejected_text                      </span>┃<span style=\"font-weight: bold\"> logits           </span>┃\n",
       "┡━━━━━━━━━━━━━━━━━━━━━━━━━━━━━━━━━╇━━━━━━━━━━━━━━━━━━━━━━━━━━━━━━━━━━━━╇━━━━━━━━━━━━━━━━━━┩\n",
       "│ 感谢认领.                       │ 公主                               │ [0.3841, 0.6159] │\n",
       "├─────────────────────────────────┼────────────────────────────────────┼──────────────────┤\n",
       "│ 感谢认领露思好漂亮              │ 感谢认领美丽露宝~                  │ [0.4986, 0.5014] │\n",
       "├─────────────────────────────────┼────────────────────────────────────┼──────────────────┤\n",
       "│ 感谢认领露思好漂亮              │ 赵露思好美                         │ [0.6627, 0.3373] │\n",
       "├─────────────────────────────────┼────────────────────────────────────┼──────────────────┤\n",
       "│ 杀了那么多人 蛇蝎心肠 还不够死� │ 他很好？很好为什么逮捕她？杀人     │ [0.2675, 0.7325] │\n",
       "├─────────────────────────────────┼────────────────────────────────────┼──────────────────┤\n",
       "│ 她的辩护律师想通过帮她翻案，    │ 二审维持原判还能上诉吗？           │ [0.4047, 0.5953] │\n",
       "├─────────────────────────────────┼────────────────────────────────────┼──────────────────┤\n",
       "│ 妈的 这个律师有点良心吧 维持原  │ 感谢认领.                          │ [0.5793, 0.4207] │\n",
       "├─────────────────────────────────┼────────────────────────────────────┼──────────────────┤\n",
       "│ 她的辩护律师想通过帮她翻案，    │ 她家人没事吧？果然不是一家人，不进 │ [0.4303, 0.5697] │\n",
       "├─────────────────────────────────┼────────────────────────────────────┼──────────────────┤\n",
       "│ 《互联网黑历史现状》            │ 《你看看》                         │ [0.6724, 0.3276] │\n",
       "└─────────────────────────────────┴────────────────────────────────────┴──────────────────┘\n",
       "</pre>\n"
      ],
      "text/plain": [
       "┏━━━━━━━━━━━━━━━━━━━━━━━━━━━━━━━━━┳━━━━━━━━━━━━━━━━━━━━━━━━━━━━━━━━━━━━┳━━━━━━━━━━━━━━━━━━┓\n",
       "┃\u001b[1m \u001b[0m\u001b[1mchosen_text                    \u001b[0m\u001b[1m \u001b[0m┃\u001b[1m \u001b[0m\u001b[1mrejected_text                     \u001b[0m\u001b[1m \u001b[0m┃\u001b[1m \u001b[0m\u001b[1mlogits          \u001b[0m\u001b[1m \u001b[0m┃\n",
       "┡━━━━━━━━━━━━━━━━━━━━━━━━━━━━━━━━━╇━━━━━━━━━━━━━━━━━━━━━━━━━━━━━━━━━━━━╇━━━━━━━━━━━━━━━━━━┩\n",
       "│ 感谢认领.                       │ 公主                               │ [0.3841, 0.6159] │\n",
       "├─────────────────────────────────┼────────────────────────────────────┼──────────────────┤\n",
       "│ 感谢认领露思好漂亮              │ 感谢认领美丽露宝~                  │ [0.4986, 0.5014] │\n",
       "├─────────────────────────────────┼────────────────────────────────────┼──────────────────┤\n",
       "│ 感谢认领露思好漂亮              │ 赵露思好美                         │ [0.6627, 0.3373] │\n",
       "├─────────────────────────────────┼────────────────────────────────────┼──────────────────┤\n",
       "│ 杀了那么多人 蛇蝎心肠 还不够死� │ 他很好？很好为什么逮捕她？杀人     │ [0.2675, 0.7325] │\n",
       "├─────────────────────────────────┼────────────────────────────────────┼──────────────────┤\n",
       "│ 她的辩护律师想通过帮她翻案，    │ 二审维持原判还能上诉吗？           │ [0.4047, 0.5953] │\n",
       "├─────────────────────────────────┼────────────────────────────────────┼──────────────────┤\n",
       "│ 妈的 这个律师有点良心吧 维持原  │ 感谢认领.                          │ [0.5793, 0.4207] │\n",
       "├─────────────────────────────────┼────────────────────────────────────┼──────────────────┤\n",
       "│ 她的辩护律师想通过帮她翻案，    │ 她家人没事吧？果然不是一家人，不进 │ [0.4303, 0.5697] │\n",
       "├─────────────────────────────────┼────────────────────────────────────┼──────────────────┤\n",
       "│ 《互联网黑历史现状》            │ 《你看看》                         │ [0.6724, 0.3276] │\n",
       "└─────────────────────────────────┴────────────────────────────────────┴──────────────────┘\n"
      ]
     },
     "metadata": {},
     "output_type": "display_data"
    },
    {
     "data": {
      "text/html": [
       "<pre style=\"white-space:pre;overflow-x:auto;line-height:normal;font-family:Menlo,'DejaVu Sans Mono',consolas,'Courier New',monospace\">┏━━━━━━━━━━━━━━━━━━━━━━━━━━━━━━━━━┳━━━━━━━━━━━━━━━━━━━━━━━━━━━━━━━━┳━━━━━━━━━━━━━━━━━━┓\n",
       "┃<span style=\"font-weight: bold\"> chosen_text                     </span>┃<span style=\"font-weight: bold\"> rejected_text                  </span>┃<span style=\"font-weight: bold\"> logits           </span>┃\n",
       "┡━━━━━━━━━━━━━━━━━━━━━━━━━━━━━━━━━╇━━━━━━━━━━━━━━━━━━━━━━━━━━━━━━━━╇━━━━━━━━━━━━━━━━━━┩\n",
       "│ 感谢认领.                       │ 公主                           │ [0.3841, 0.6159] │\n",
       "├─────────────────────────────────┼────────────────────────────────┼──────────────────┤\n",
       "│ 感谢认领露思好漂亮              │ 感谢认领美丽露宝~              │ [0.4986, 0.5014] │\n",
       "├─────────────────────────────────┼────────────────────────────────┼──────────────────┤\n",
       "│ 感谢认领露思好漂亮              │ 赵露思好美                     │ [0.6627, 0.3373] │\n",
       "├─────────────────────────────────┼────────────────────────────────┼──────────────────┤\n",
       "│ 杀了那么多人 蛇蝎心肠 还不够死� │ 他很好？很好为什么逮捕她？杀人 │ [0.2675, 0.7325] │\n",
       "└─────────────────────────────────┴────────────────────────────────┴──────────────────┘\n",
       "</pre>\n"
      ],
      "text/plain": [
       "┏━━━━━━━━━━━━━━━━━━━━━━━━━━━━━━━━━┳━━━━━━━━━━━━━━━━━━━━━━━━━━━━━━━━┳━━━━━━━━━━━━━━━━━━┓\n",
       "┃\u001b[1m \u001b[0m\u001b[1mchosen_text                    \u001b[0m\u001b[1m \u001b[0m┃\u001b[1m \u001b[0m\u001b[1mrejected_text                 \u001b[0m\u001b[1m \u001b[0m┃\u001b[1m \u001b[0m\u001b[1mlogits          \u001b[0m\u001b[1m \u001b[0m┃\n",
       "┡━━━━━━━━━━━━━━━━━━━━━━━━━━━━━━━━━╇━━━━━━━━━━━━━━━━━━━━━━━━━━━━━━━━╇━━━━━━━━━━━━━━━━━━┩\n",
       "│ 感谢认领.                       │ 公主                           │ [0.3841, 0.6159] │\n",
       "├─────────────────────────────────┼────────────────────────────────┼──────────────────┤\n",
       "│ 感谢认领露思好漂亮              │ 感谢认领美丽露宝~              │ [0.4986, 0.5014] │\n",
       "├─────────────────────────────────┼────────────────────────────────┼──────────────────┤\n",
       "│ 感谢认领露思好漂亮              │ 赵露思好美                     │ [0.6627, 0.3373] │\n",
       "├─────────────────────────────────┼────────────────────────────────┼──────────────────┤\n",
       "│ 杀了那么多人 蛇蝎心肠 还不够死� │ 他很好？很好为什么逮捕她？杀人 │ [0.2675, 0.7325] │\n",
       "└─────────────────────────────────┴────────────────────────────────┴──────────────────┘\n"
      ]
     },
     "metadata": {},
     "output_type": "display_data"
    },
    {
     "name": "stderr",
     "output_type": "stream",
     "text": [
      "/usr/local/lib/python3.8/dist-packages/transformers/tokenization_utils_base.py:2778: UserWarning: `max_length` is ignored when `padding`=`True` and there is no truncation strategy. To pad to max length, use `padding='max_length'`.\n",
      "  warnings.warn(\n",
      "/usr/local/lib/python3.8/dist-packages/trl/trainer/utils.py:599: UserWarning: There are 22 out of 3451 instances where the predictions for both options are equal. As a consequence the accuracy can be misleading.\n",
      "  warnings.warn(\n",
      "/usr/local/lib/python3.8/dist-packages/transformers/tokenization_utils_base.py:2778: UserWarning: `max_length` is ignored when `padding`=`True` and there is no truncation strategy. To pad to max length, use `padding='max_length'`.\n",
      "  warnings.warn(\n",
      "/usr/local/lib/python3.8/dist-packages/torch/utils/checkpoint.py:464: UserWarning: torch.utils.checkpoint: the use_reentrant parameter should be passed explicitly. In version 2.4 we will raise an exception if use_reentrant is not passed. use_reentrant=False is recommended, but if you need to preserve the current default behavior, you can pass use_reentrant=True. Refer to docs for more details on the differences between the two variants.\n",
      "  warnings.warn(\n",
      "/usr/local/lib/python3.8/dist-packages/torch/utils/checkpoint.py:91: UserWarning: None of the inputs have requires_grad=True. Gradients will be None\n",
      "  warnings.warn(\n"
     ]
    },
    {
     "data": {
      "text/html": [
       "<pre style=\"white-space:pre;overflow-x:auto;line-height:normal;font-family:Menlo,'DejaVu Sans Mono',consolas,'Courier New',monospace\">┏━━━━━━━━━━━━━━━━━━━━━━━━━━━━━━━━━┳━━━━━━━━━━━━━━━━━━━━━━━━━━━━━━━━━━━━┳━━━━━━━━━━━━━━━━━━┓\n",
       "┃<span style=\"font-weight: bold\"> chosen_text                     </span>┃<span style=\"font-weight: bold\"> rejected_text                      </span>┃<span style=\"font-weight: bold\"> logits           </span>┃\n",
       "┡━━━━━━━━━━━━━━━━━━━━━━━━━━━━━━━━━╇━━━━━━━━━━━━━━━━━━━━━━━━━━━━━━━━━━━━╇━━━━━━━━━━━━━━━━━━┩\n",
       "│ 感谢认领.                       │ 公主                               │ [0.7264, 0.2736] │\n",
       "├─────────────────────────────────┼────────────────────────────────────┼──────────────────┤\n",
       "│ 感谢认领露思好漂亮              │ 感谢认领美丽露宝~                  │ [0.4633, 0.5367] │\n",
       "├─────────────────────────────────┼────────────────────────────────────┼──────────────────┤\n",
       "│ 感谢认领露思好漂亮              │ 赵露思好美                         │ [0.7743, 0.2257] │\n",
       "├─────────────────────────────────┼────────────────────────────────────┼──────────────────┤\n",
       "│ 杀了那么多人 蛇蝎心肠 还不够死� │ 他很好？很好为什么逮捕她？杀人     │ [0.28, 0.72]     │\n",
       "├─────────────────────────────────┼────────────────────────────────────┼──────────────────┤\n",
       "│ 她的辩护律师想通过帮她翻案，    │ 二审维持原判还能上诉吗？           │ [0.473, 0.527]   │\n",
       "├─────────────────────────────────┼────────────────────────────────────┼──────────────────┤\n",
       "│ 妈的 这个律师有点良心吧 维持原  │ 感谢认领.                          │ [0.575, 0.425]   │\n",
       "├─────────────────────────────────┼────────────────────────────────────┼──────────────────┤\n",
       "│ 她的辩护律师想通过帮她翻案，    │ 她家人没事吧？果然不是一家人，不进 │ [0.3578, 0.6422] │\n",
       "├─────────────────────────────────┼────────────────────────────────────┼──────────────────┤\n",
       "│ 《互联网黑历史现状》            │ 《你看看》                         │ [0.682, 0.318]   │\n",
       "└─────────────────────────────────┴────────────────────────────────────┴──────────────────┘\n",
       "</pre>\n"
      ],
      "text/plain": [
       "┏━━━━━━━━━━━━━━━━━━━━━━━━━━━━━━━━━┳━━━━━━━━━━━━━━━━━━━━━━━━━━━━━━━━━━━━┳━━━━━━━━━━━━━━━━━━┓\n",
       "┃\u001b[1m \u001b[0m\u001b[1mchosen_text                    \u001b[0m\u001b[1m \u001b[0m┃\u001b[1m \u001b[0m\u001b[1mrejected_text                     \u001b[0m\u001b[1m \u001b[0m┃\u001b[1m \u001b[0m\u001b[1mlogits          \u001b[0m\u001b[1m \u001b[0m┃\n",
       "┡━━━━━━━━━━━━━━━━━━━━━━━━━━━━━━━━━╇━━━━━━━━━━━━━━━━━━━━━━━━━━━━━━━━━━━━╇━━━━━━━━━━━━━━━━━━┩\n",
       "│ 感谢认领.                       │ 公主                               │ [0.7264, 0.2736] │\n",
       "├─────────────────────────────────┼────────────────────────────────────┼──────────────────┤\n",
       "│ 感谢认领露思好漂亮              │ 感谢认领美丽露宝~                  │ [0.4633, 0.5367] │\n",
       "├─────────────────────────────────┼────────────────────────────────────┼──────────────────┤\n",
       "│ 感谢认领露思好漂亮              │ 赵露思好美                         │ [0.7743, 0.2257] │\n",
       "├─────────────────────────────────┼────────────────────────────────────┼──────────────────┤\n",
       "│ 杀了那么多人 蛇蝎心肠 还不够死� │ 他很好？很好为什么逮捕她？杀人     │ [0.28, 0.72]     │\n",
       "├─────────────────────────────────┼────────────────────────────────────┼──────────────────┤\n",
       "│ 她的辩护律师想通过帮她翻案，    │ 二审维持原判还能上诉吗？           │ [0.473, 0.527]   │\n",
       "├─────────────────────────────────┼────────────────────────────────────┼──────────────────┤\n",
       "│ 妈的 这个律师有点良心吧 维持原  │ 感谢认领.                          │ [0.575, 0.425]   │\n",
       "├─────────────────────────────────┼────────────────────────────────────┼──────────────────┤\n",
       "│ 她的辩护律师想通过帮她翻案，    │ 她家人没事吧？果然不是一家人，不进 │ [0.3578, 0.6422] │\n",
       "├─────────────────────────────────┼────────────────────────────────────┼──────────────────┤\n",
       "│ 《互联网黑历史现状》            │ 《你看看》                         │ [0.682, 0.318]   │\n",
       "└─────────────────────────────────┴────────────────────────────────────┴──────────────────┘\n"
      ]
     },
     "metadata": {},
     "output_type": "display_data"
    },
    {
     "data": {
      "text/html": [
       "<pre style=\"white-space:pre;overflow-x:auto;line-height:normal;font-family:Menlo,'DejaVu Sans Mono',consolas,'Courier New',monospace\">┏━━━━━━━━━━━━━━━━━━━━━━━━━━━━━━━━━┳━━━━━━━━━━━━━━━━━━━━━━━━━━━━━━━━┳━━━━━━━━━━━━━━━━━━┓\n",
       "┃<span style=\"font-weight: bold\"> chosen_text                     </span>┃<span style=\"font-weight: bold\"> rejected_text                  </span>┃<span style=\"font-weight: bold\"> logits           </span>┃\n",
       "┡━━━━━━━━━━━━━━━━━━━━━━━━━━━━━━━━━╇━━━━━━━━━━━━━━━━━━━━━━━━━━━━━━━━╇━━━━━━━━━━━━━━━━━━┩\n",
       "│ 感谢认领.                       │ 公主                           │ [0.7264, 0.2736] │\n",
       "├─────────────────────────────────┼────────────────────────────────┼──────────────────┤\n",
       "│ 感谢认领露思好漂亮              │ 感谢认领美丽露宝~              │ [0.4633, 0.5367] │\n",
       "├─────────────────────────────────┼────────────────────────────────┼──────────────────┤\n",
       "│ 感谢认领露思好漂亮              │ 赵露思好美                     │ [0.7743, 0.2257] │\n",
       "├─────────────────────────────────┼────────────────────────────────┼──────────────────┤\n",
       "│ 杀了那么多人 蛇蝎心肠 还不够死� │ 他很好？很好为什么逮捕她？杀人 │ [0.28, 0.72]     │\n",
       "└─────────────────────────────────┴────────────────────────────────┴──────────────────┘\n",
       "</pre>\n"
      ],
      "text/plain": [
       "┏━━━━━━━━━━━━━━━━━━━━━━━━━━━━━━━━━┳━━━━━━━━━━━━━━━━━━━━━━━━━━━━━━━━┳━━━━━━━━━━━━━━━━━━┓\n",
       "┃\u001b[1m \u001b[0m\u001b[1mchosen_text                    \u001b[0m\u001b[1m \u001b[0m┃\u001b[1m \u001b[0m\u001b[1mrejected_text                 \u001b[0m\u001b[1m \u001b[0m┃\u001b[1m \u001b[0m\u001b[1mlogits          \u001b[0m\u001b[1m \u001b[0m┃\n",
       "┡━━━━━━━━━━━━━━━━━━━━━━━━━━━━━━━━━╇━━━━━━━━━━━━━━━━━━━━━━━━━━━━━━━━╇━━━━━━━━━━━━━━━━━━┩\n",
       "│ 感谢认领.                       │ 公主                           │ [0.7264, 0.2736] │\n",
       "├─────────────────────────────────┼────────────────────────────────┼──────────────────┤\n",
       "│ 感谢认领露思好漂亮              │ 感谢认领美丽露宝~              │ [0.4633, 0.5367] │\n",
       "├─────────────────────────────────┼────────────────────────────────┼──────────────────┤\n",
       "│ 感谢认领露思好漂亮              │ 赵露思好美                     │ [0.7743, 0.2257] │\n",
       "├─────────────────────────────────┼────────────────────────────────┼──────────────────┤\n",
       "│ 杀了那么多人 蛇蝎心肠 还不够死� │ 他很好？很好为什么逮捕她？杀人 │ [0.28, 0.72]     │\n",
       "└─────────────────────────────────┴────────────────────────────────┴──────────────────┘\n"
      ]
     },
     "metadata": {},
     "output_type": "display_data"
    },
    {
     "name": "stderr",
     "output_type": "stream",
     "text": [
      "/usr/local/lib/python3.8/dist-packages/transformers/tokenization_utils_base.py:2778: UserWarning: `max_length` is ignored when `padding`=`True` and there is no truncation strategy. To pad to max length, use `padding='max_length'`.\n",
      "  warnings.warn(\n",
      "/usr/local/lib/python3.8/dist-packages/trl/trainer/utils.py:599: UserWarning: There are 22 out of 3451 instances where the predictions for both options are equal. As a consequence the accuracy can be misleading.\n",
      "  warnings.warn(\n",
      "/usr/local/lib/python3.8/dist-packages/transformers/tokenization_utils_base.py:2778: UserWarning: `max_length` is ignored when `padding`=`True` and there is no truncation strategy. To pad to max length, use `padding='max_length'`.\n",
      "  warnings.warn(\n",
      "/usr/local/lib/python3.8/dist-packages/torch/utils/checkpoint.py:464: UserWarning: torch.utils.checkpoint: the use_reentrant parameter should be passed explicitly. In version 2.4 we will raise an exception if use_reentrant is not passed. use_reentrant=False is recommended, but if you need to preserve the current default behavior, you can pass use_reentrant=True. Refer to docs for more details on the differences between the two variants.\n",
      "  warnings.warn(\n",
      "/usr/local/lib/python3.8/dist-packages/torch/utils/checkpoint.py:91: UserWarning: None of the inputs have requires_grad=True. Gradients will be None\n",
      "  warnings.warn(\n"
     ]
    },
    {
     "data": {
      "text/html": [
       "<pre style=\"white-space:pre;overflow-x:auto;line-height:normal;font-family:Menlo,'DejaVu Sans Mono',consolas,'Courier New',monospace\">┏━━━━━━━━━━━━━━━━━━━━━━━━━━━━━━━━━┳━━━━━━━━━━━━━━━━━━━━━━━━━━━━━━━━━━━━┳━━━━━━━━━━━━━━━━━━┓\n",
       "┃<span style=\"font-weight: bold\"> chosen_text                     </span>┃<span style=\"font-weight: bold\"> rejected_text                      </span>┃<span style=\"font-weight: bold\"> logits           </span>┃\n",
       "┡━━━━━━━━━━━━━━━━━━━━━━━━━━━━━━━━━╇━━━━━━━━━━━━━━━━━━━━━━━━━━━━━━━━━━━━╇━━━━━━━━━━━━━━━━━━┩\n",
       "│ 感谢认领.                       │ 公主                               │ [0.6202, 0.3798] │\n",
       "├─────────────────────────────────┼────────────────────────────────────┼──────────────────┤\n",
       "│ 感谢认领露思好漂亮              │ 感谢认领美丽露宝~                  │ [0.5921, 0.4079] │\n",
       "├─────────────────────────────────┼────────────────────────────────────┼──────────────────┤\n",
       "│ 感谢认领露思好漂亮              │ 赵露思好美                         │ [0.5157, 0.4843] │\n",
       "├─────────────────────────────────┼────────────────────────────────────┼──────────────────┤\n",
       "│ 杀了那么多人 蛇蝎心肠 还不够死� │ 他很好？很好为什么逮捕她？杀人     │ [0.2086, 0.7914] │\n",
       "├─────────────────────────────────┼────────────────────────────────────┼──────────────────┤\n",
       "│ 她的辩护律师想通过帮她翻案，    │ 二审维持原判还能上诉吗？           │ [0.401, 0.599]   │\n",
       "├─────────────────────────────────┼────────────────────────────────────┼──────────────────┤\n",
       "│ 妈的 这个律师有点良心吧 维持原  │ 感谢认领.                          │ [0.6554, 0.3446] │\n",
       "├─────────────────────────────────┼────────────────────────────────────┼──────────────────┤\n",
       "│ 她的辩护律师想通过帮她翻案，    │ 她家人没事吧？果然不是一家人，不进 │ [0.2415, 0.7585] │\n",
       "├─────────────────────────────────┼────────────────────────────────────┼──────────────────┤\n",
       "│ 《互联网黑历史现状》            │ 《你看看》                         │ [0.5453, 0.4547] │\n",
       "└─────────────────────────────────┴────────────────────────────────────┴──────────────────┘\n",
       "</pre>\n"
      ],
      "text/plain": [
       "┏━━━━━━━━━━━━━━━━━━━━━━━━━━━━━━━━━┳━━━━━━━━━━━━━━━━━━━━━━━━━━━━━━━━━━━━┳━━━━━━━━━━━━━━━━━━┓\n",
       "┃\u001b[1m \u001b[0m\u001b[1mchosen_text                    \u001b[0m\u001b[1m \u001b[0m┃\u001b[1m \u001b[0m\u001b[1mrejected_text                     \u001b[0m\u001b[1m \u001b[0m┃\u001b[1m \u001b[0m\u001b[1mlogits          \u001b[0m\u001b[1m \u001b[0m┃\n",
       "┡━━━━━━━━━━━━━━━━━━━━━━━━━━━━━━━━━╇━━━━━━━━━━━━━━━━━━━━━━━━━━━━━━━━━━━━╇━━━━━━━━━━━━━━━━━━┩\n",
       "│ 感谢认领.                       │ 公主                               │ [0.6202, 0.3798] │\n",
       "├─────────────────────────────────┼────────────────────────────────────┼──────────────────┤\n",
       "│ 感谢认领露思好漂亮              │ 感谢认领美丽露宝~                  │ [0.5921, 0.4079] │\n",
       "├─────────────────────────────────┼────────────────────────────────────┼──────────────────┤\n",
       "│ 感谢认领露思好漂亮              │ 赵露思好美                         │ [0.5157, 0.4843] │\n",
       "├─────────────────────────────────┼────────────────────────────────────┼──────────────────┤\n",
       "│ 杀了那么多人 蛇蝎心肠 还不够死� │ 他很好？很好为什么逮捕她？杀人     │ [0.2086, 0.7914] │\n",
       "├─────────────────────────────────┼────────────────────────────────────┼──────────────────┤\n",
       "│ 她的辩护律师想通过帮她翻案，    │ 二审维持原判还能上诉吗？           │ [0.401, 0.599]   │\n",
       "├─────────────────────────────────┼────────────────────────────────────┼──────────────────┤\n",
       "│ 妈的 这个律师有点良心吧 维持原  │ 感谢认领.                          │ [0.6554, 0.3446] │\n",
       "├─────────────────────────────────┼────────────────────────────────────┼──────────────────┤\n",
       "│ 她的辩护律师想通过帮她翻案，    │ 她家人没事吧？果然不是一家人，不进 │ [0.2415, 0.7585] │\n",
       "├─────────────────────────────────┼────────────────────────────────────┼──────────────────┤\n",
       "│ 《互联网黑历史现状》            │ 《你看看》                         │ [0.5453, 0.4547] │\n",
       "└─────────────────────────────────┴────────────────────────────────────┴──────────────────┘\n"
      ]
     },
     "metadata": {},
     "output_type": "display_data"
    },
    {
     "data": {
      "text/html": [
       "<pre style=\"white-space:pre;overflow-x:auto;line-height:normal;font-family:Menlo,'DejaVu Sans Mono',consolas,'Courier New',monospace\">┏━━━━━━━━━━━━━━━━━━━━━━━━━━━━━━━━━┳━━━━━━━━━━━━━━━━━━━━━━━━━━━━━━━━┳━━━━━━━━━━━━━━━━━━┓\n",
       "┃<span style=\"font-weight: bold\"> chosen_text                     </span>┃<span style=\"font-weight: bold\"> rejected_text                  </span>┃<span style=\"font-weight: bold\"> logits           </span>┃\n",
       "┡━━━━━━━━━━━━━━━━━━━━━━━━━━━━━━━━━╇━━━━━━━━━━━━━━━━━━━━━━━━━━━━━━━━╇━━━━━━━━━━━━━━━━━━┩\n",
       "│ 感谢认领.                       │ 公主                           │ [0.6202, 0.3798] │\n",
       "├─────────────────────────────────┼────────────────────────────────┼──────────────────┤\n",
       "│ 感谢认领露思好漂亮              │ 感谢认领美丽露宝~              │ [0.5921, 0.4079] │\n",
       "├─────────────────────────────────┼────────────────────────────────┼──────────────────┤\n",
       "│ 感谢认领露思好漂亮              │ 赵露思好美                     │ [0.5157, 0.4843] │\n",
       "├─────────────────────────────────┼────────────────────────────────┼──────────────────┤\n",
       "│ 杀了那么多人 蛇蝎心肠 还不够死� │ 他很好？很好为什么逮捕她？杀人 │ [0.2086, 0.7914] │\n",
       "└─────────────────────────────────┴────────────────────────────────┴──────────────────┘\n",
       "</pre>\n"
      ],
      "text/plain": [
       "┏━━━━━━━━━━━━━━━━━━━━━━━━━━━━━━━━━┳━━━━━━━━━━━━━━━━━━━━━━━━━━━━━━━━┳━━━━━━━━━━━━━━━━━━┓\n",
       "┃\u001b[1m \u001b[0m\u001b[1mchosen_text                    \u001b[0m\u001b[1m \u001b[0m┃\u001b[1m \u001b[0m\u001b[1mrejected_text                 \u001b[0m\u001b[1m \u001b[0m┃\u001b[1m \u001b[0m\u001b[1mlogits          \u001b[0m\u001b[1m \u001b[0m┃\n",
       "┡━━━━━━━━━━━━━━━━━━━━━━━━━━━━━━━━━╇━━━━━━━━━━━━━━━━━━━━━━━━━━━━━━━━╇━━━━━━━━━━━━━━━━━━┩\n",
       "│ 感谢认领.                       │ 公主                           │ [0.6202, 0.3798] │\n",
       "├─────────────────────────────────┼────────────────────────────────┼──────────────────┤\n",
       "│ 感谢认领露思好漂亮              │ 感谢认领美丽露宝~              │ [0.5921, 0.4079] │\n",
       "├─────────────────────────────────┼────────────────────────────────┼──────────────────┤\n",
       "│ 感谢认领露思好漂亮              │ 赵露思好美                     │ [0.5157, 0.4843] │\n",
       "├─────────────────────────────────┼────────────────────────────────┼──────────────────┤\n",
       "│ 杀了那么多人 蛇蝎心肠 还不够死� │ 他很好？很好为什么逮捕她？杀人 │ [0.2086, 0.7914] │\n",
       "└─────────────────────────────────┴────────────────────────────────┴──────────────────┘\n"
      ]
     },
     "metadata": {},
     "output_type": "display_data"
    },
    {
     "name": "stderr",
     "output_type": "stream",
     "text": [
      "/usr/local/lib/python3.8/dist-packages/transformers/tokenization_utils_base.py:2778: UserWarning: `max_length` is ignored when `padding`=`True` and there is no truncation strategy. To pad to max length, use `padding='max_length'`.\n",
      "  warnings.warn(\n",
      "/usr/local/lib/python3.8/dist-packages/trl/trainer/utils.py:599: UserWarning: There are 22 out of 3451 instances where the predictions for both options are equal. As a consequence the accuracy can be misleading.\n",
      "  warnings.warn(\n",
      "/usr/local/lib/python3.8/dist-packages/transformers/tokenization_utils_base.py:2778: UserWarning: `max_length` is ignored when `padding`=`True` and there is no truncation strategy. To pad to max length, use `padding='max_length'`.\n",
      "  warnings.warn(\n",
      "/usr/local/lib/python3.8/dist-packages/torch/utils/checkpoint.py:464: UserWarning: torch.utils.checkpoint: the use_reentrant parameter should be passed explicitly. In version 2.4 we will raise an exception if use_reentrant is not passed. use_reentrant=False is recommended, but if you need to preserve the current default behavior, you can pass use_reentrant=True. Refer to docs for more details on the differences between the two variants.\n",
      "  warnings.warn(\n",
      "/usr/local/lib/python3.8/dist-packages/torch/utils/checkpoint.py:91: UserWarning: None of the inputs have requires_grad=True. Gradients will be None\n",
      "  warnings.warn(\n"
     ]
    },
    {
     "data": {
      "text/html": [
       "<pre style=\"white-space:pre;overflow-x:auto;line-height:normal;font-family:Menlo,'DejaVu Sans Mono',consolas,'Courier New',monospace\">┏━━━━━━━━━━━━━━━━━━━━━━━━━━━━━━━━━┳━━━━━━━━━━━━━━━━━━━━━━━━━━━━━━━━━━━━┳━━━━━━━━━━━━━━━━━━┓\n",
       "┃<span style=\"font-weight: bold\"> chosen_text                     </span>┃<span style=\"font-weight: bold\"> rejected_text                      </span>┃<span style=\"font-weight: bold\"> logits           </span>┃\n",
       "┡━━━━━━━━━━━━━━━━━━━━━━━━━━━━━━━━━╇━━━━━━━━━━━━━━━━━━━━━━━━━━━━━━━━━━━━╇━━━━━━━━━━━━━━━━━━┩\n",
       "│ 感谢认领.                       │ 公主                               │ [0.5747, 0.4253] │\n",
       "├─────────────────────────────────┼────────────────────────────────────┼──────────────────┤\n",
       "│ 感谢认领露思好漂亮              │ 感谢认领美丽露宝~                  │ [0.6129, 0.3871] │\n",
       "├─────────────────────────────────┼────────────────────────────────────┼──────────────────┤\n",
       "│ 感谢认领露思好漂亮              │ 赵露思好美                         │ [0.4923, 0.5077] │\n",
       "├─────────────────────────────────┼────────────────────────────────────┼──────────────────┤\n",
       "│ 杀了那么多人 蛇蝎心肠 还不够死� │ 他很好？很好为什么逮捕她？杀人     │ [0.2904, 0.7096] │\n",
       "├─────────────────────────────────┼────────────────────────────────────┼──────────────────┤\n",
       "│ 她的辩护律师想通过帮她翻案，    │ 二审维持原判还能上诉吗？           │ [0.4006, 0.5994] │\n",
       "├─────────────────────────────────┼────────────────────────────────────┼──────────────────┤\n",
       "│ 妈的 这个律师有点良心吧 维持原  │ 感谢认领.                          │ [0.6702, 0.3298] │\n",
       "├─────────────────────────────────┼────────────────────────────────────┼──────────────────┤\n",
       "│ 她的辩护律师想通过帮她翻案，    │ 她家人没事吧？果然不是一家人，不进 │ [0.5701, 0.4299] │\n",
       "├─────────────────────────────────┼────────────────────────────────────┼──────────────────┤\n",
       "│ 《互联网黑历史现状》            │ 《你看看》                         │ [0.7336, 0.2664] │\n",
       "└─────────────────────────────────┴────────────────────────────────────┴──────────────────┘\n",
       "</pre>\n"
      ],
      "text/plain": [
       "┏━━━━━━━━━━━━━━━━━━━━━━━━━━━━━━━━━┳━━━━━━━━━━━━━━━━━━━━━━━━━━━━━━━━━━━━┳━━━━━━━━━━━━━━━━━━┓\n",
       "┃\u001b[1m \u001b[0m\u001b[1mchosen_text                    \u001b[0m\u001b[1m \u001b[0m┃\u001b[1m \u001b[0m\u001b[1mrejected_text                     \u001b[0m\u001b[1m \u001b[0m┃\u001b[1m \u001b[0m\u001b[1mlogits          \u001b[0m\u001b[1m \u001b[0m┃\n",
       "┡━━━━━━━━━━━━━━━━━━━━━━━━━━━━━━━━━╇━━━━━━━━━━━━━━━━━━━━━━━━━━━━━━━━━━━━╇━━━━━━━━━━━━━━━━━━┩\n",
       "│ 感谢认领.                       │ 公主                               │ [0.5747, 0.4253] │\n",
       "├─────────────────────────────────┼────────────────────────────────────┼──────────────────┤\n",
       "│ 感谢认领露思好漂亮              │ 感谢认领美丽露宝~                  │ [0.6129, 0.3871] │\n",
       "├─────────────────────────────────┼────────────────────────────────────┼──────────────────┤\n",
       "│ 感谢认领露思好漂亮              │ 赵露思好美                         │ [0.4923, 0.5077] │\n",
       "├─────────────────────────────────┼────────────────────────────────────┼──────────────────┤\n",
       "│ 杀了那么多人 蛇蝎心肠 还不够死� │ 他很好？很好为什么逮捕她？杀人     │ [0.2904, 0.7096] │\n",
       "├─────────────────────────────────┼────────────────────────────────────┼──────────────────┤\n",
       "│ 她的辩护律师想通过帮她翻案，    │ 二审维持原判还能上诉吗？           │ [0.4006, 0.5994] │\n",
       "├─────────────────────────────────┼────────────────────────────────────┼──────────────────┤\n",
       "│ 妈的 这个律师有点良心吧 维持原  │ 感谢认领.                          │ [0.6702, 0.3298] │\n",
       "├─────────────────────────────────┼────────────────────────────────────┼──────────────────┤\n",
       "│ 她的辩护律师想通过帮她翻案，    │ 她家人没事吧？果然不是一家人，不进 │ [0.5701, 0.4299] │\n",
       "├─────────────────────────────────┼────────────────────────────────────┼──────────────────┤\n",
       "│ 《互联网黑历史现状》            │ 《你看看》                         │ [0.7336, 0.2664] │\n",
       "└─────────────────────────────────┴────────────────────────────────────┴──────────────────┘\n"
      ]
     },
     "metadata": {},
     "output_type": "display_data"
    },
    {
     "data": {
      "text/html": [
       "<pre style=\"white-space:pre;overflow-x:auto;line-height:normal;font-family:Menlo,'DejaVu Sans Mono',consolas,'Courier New',monospace\">┏━━━━━━━━━━━━━━━━━━━━━━━━━━━━━━━━━┳━━━━━━━━━━━━━━━━━━━━━━━━━━━━━━━━┳━━━━━━━━━━━━━━━━━━┓\n",
       "┃<span style=\"font-weight: bold\"> chosen_text                     </span>┃<span style=\"font-weight: bold\"> rejected_text                  </span>┃<span style=\"font-weight: bold\"> logits           </span>┃\n",
       "┡━━━━━━━━━━━━━━━━━━━━━━━━━━━━━━━━━╇━━━━━━━━━━━━━━━━━━━━━━━━━━━━━━━━╇━━━━━━━━━━━━━━━━━━┩\n",
       "│ 感谢认领.                       │ 公主                           │ [0.5747, 0.4253] │\n",
       "├─────────────────────────────────┼────────────────────────────────┼──────────────────┤\n",
       "│ 感谢认领露思好漂亮              │ 感谢认领美丽露宝~              │ [0.6129, 0.3871] │\n",
       "├─────────────────────────────────┼────────────────────────────────┼──────────────────┤\n",
       "│ 感谢认领露思好漂亮              │ 赵露思好美                     │ [0.4923, 0.5077] │\n",
       "├─────────────────────────────────┼────────────────────────────────┼──────────────────┤\n",
       "│ 杀了那么多人 蛇蝎心肠 还不够死� │ 他很好？很好为什么逮捕她？杀人 │ [0.2904, 0.7096] │\n",
       "└─────────────────────────────────┴────────────────────────────────┴──────────────────┘\n",
       "</pre>\n"
      ],
      "text/plain": [
       "┏━━━━━━━━━━━━━━━━━━━━━━━━━━━━━━━━━┳━━━━━━━━━━━━━━━━━━━━━━━━━━━━━━━━┳━━━━━━━━━━━━━━━━━━┓\n",
       "┃\u001b[1m \u001b[0m\u001b[1mchosen_text                    \u001b[0m\u001b[1m \u001b[0m┃\u001b[1m \u001b[0m\u001b[1mrejected_text                 \u001b[0m\u001b[1m \u001b[0m┃\u001b[1m \u001b[0m\u001b[1mlogits          \u001b[0m\u001b[1m \u001b[0m┃\n",
       "┡━━━━━━━━━━━━━━━━━━━━━━━━━━━━━━━━━╇━━━━━━━━━━━━━━━━━━━━━━━━━━━━━━━━╇━━━━━━━━━━━━━━━━━━┩\n",
       "│ 感谢认领.                       │ 公主                           │ [0.5747, 0.4253] │\n",
       "├─────────────────────────────────┼────────────────────────────────┼──────────────────┤\n",
       "│ 感谢认领露思好漂亮              │ 感谢认领美丽露宝~              │ [0.6129, 0.3871] │\n",
       "├─────────────────────────────────┼────────────────────────────────┼──────────────────┤\n",
       "│ 感谢认领露思好漂亮              │ 赵露思好美                     │ [0.4923, 0.5077] │\n",
       "├─────────────────────────────────┼────────────────────────────────┼──────────────────┤\n",
       "│ 杀了那么多人 蛇蝎心肠 还不够死� │ 他很好？很好为什么逮捕她？杀人 │ [0.2904, 0.7096] │\n",
       "└─────────────────────────────────┴────────────────────────────────┴──────────────────┘\n"
      ]
     },
     "metadata": {},
     "output_type": "display_data"
    },
    {
     "name": "stderr",
     "output_type": "stream",
     "text": [
      "/usr/local/lib/python3.8/dist-packages/transformers/tokenization_utils_base.py:2778: UserWarning: `max_length` is ignored when `padding`=`True` and there is no truncation strategy. To pad to max length, use `padding='max_length'`.\n",
      "  warnings.warn(\n",
      "/usr/local/lib/python3.8/dist-packages/trl/trainer/utils.py:599: UserWarning: There are 22 out of 3451 instances where the predictions for both options are equal. As a consequence the accuracy can be misleading.\n",
      "  warnings.warn(\n",
      "/usr/local/lib/python3.8/dist-packages/transformers/tokenization_utils_base.py:2778: UserWarning: `max_length` is ignored when `padding`=`True` and there is no truncation strategy. To pad to max length, use `padding='max_length'`.\n",
      "  warnings.warn(\n",
      "/usr/local/lib/python3.8/dist-packages/torch/utils/checkpoint.py:464: UserWarning: torch.utils.checkpoint: the use_reentrant parameter should be passed explicitly. In version 2.4 we will raise an exception if use_reentrant is not passed. use_reentrant=False is recommended, but if you need to preserve the current default behavior, you can pass use_reentrant=True. Refer to docs for more details on the differences between the two variants.\n",
      "  warnings.warn(\n",
      "/usr/local/lib/python3.8/dist-packages/torch/utils/checkpoint.py:91: UserWarning: None of the inputs have requires_grad=True. Gradients will be None\n",
      "  warnings.warn(\n"
     ]
    },
    {
     "data": {
      "text/html": [
       "<pre style=\"white-space:pre;overflow-x:auto;line-height:normal;font-family:Menlo,'DejaVu Sans Mono',consolas,'Courier New',monospace\">┏━━━━━━━━━━━━━━━━━━━━━━━━━━━━━━━━━┳━━━━━━━━━━━━━━━━━━━━━━━━━━━━━━━━━━━━┳━━━━━━━━━━━━━━━━━━┓\n",
       "┃<span style=\"font-weight: bold\"> chosen_text                     </span>┃<span style=\"font-weight: bold\"> rejected_text                      </span>┃<span style=\"font-weight: bold\"> logits           </span>┃\n",
       "┡━━━━━━━━━━━━━━━━━━━━━━━━━━━━━━━━━╇━━━━━━━━━━━━━━━━━━━━━━━━━━━━━━━━━━━━╇━━━━━━━━━━━━━━━━━━┩\n",
       "│ 感谢认领.                       │ 公主                               │ [0.5973, 0.4027] │\n",
       "├─────────────────────────────────┼────────────────────────────────────┼──────────────────┤\n",
       "│ 感谢认领露思好漂亮              │ 感谢认领美丽露宝~                  │ [0.4285, 0.5715] │\n",
       "├─────────────────────────────────┼────────────────────────────────────┼──────────────────┤\n",
       "│ 感谢认领露思好漂亮              │ 赵露思好美                         │ [0.6618, 0.3382] │\n",
       "├─────────────────────────────────┼────────────────────────────────────┼──────────────────┤\n",
       "│ 杀了那么多人 蛇蝎心肠 还不够死� │ 他很好？很好为什么逮捕她？杀人     │ [0.1351, 0.8649] │\n",
       "├─────────────────────────────────┼────────────────────────────────────┼──────────────────┤\n",
       "│ 她的辩护律师想通过帮她翻案，    │ 二审维持原判还能上诉吗？           │ [0.3783, 0.6217] │\n",
       "├─────────────────────────────────┼────────────────────────────────────┼──────────────────┤\n",
       "│ 妈的 这个律师有点良心吧 维持原  │ 感谢认领.                          │ [0.6533, 0.3467] │\n",
       "├─────────────────────────────────┼────────────────────────────────────┼──────────────────┤\n",
       "│ 她的辩护律师想通过帮她翻案，    │ 她家人没事吧？果然不是一家人，不进 │ [0.3611, 0.6389] │\n",
       "├─────────────────────────────────┼────────────────────────────────────┼──────────────────┤\n",
       "│ 《互联网黑历史现状》            │ 《你看看》                         │ [0.5393, 0.4607] │\n",
       "└─────────────────────────────────┴────────────────────────────────────┴──────────────────┘\n",
       "</pre>\n"
      ],
      "text/plain": [
       "┏━━━━━━━━━━━━━━━━━━━━━━━━━━━━━━━━━┳━━━━━━━━━━━━━━━━━━━━━━━━━━━━━━━━━━━━┳━━━━━━━━━━━━━━━━━━┓\n",
       "┃\u001b[1m \u001b[0m\u001b[1mchosen_text                    \u001b[0m\u001b[1m \u001b[0m┃\u001b[1m \u001b[0m\u001b[1mrejected_text                     \u001b[0m\u001b[1m \u001b[0m┃\u001b[1m \u001b[0m\u001b[1mlogits          \u001b[0m\u001b[1m \u001b[0m┃\n",
       "┡━━━━━━━━━━━━━━━━━━━━━━━━━━━━━━━━━╇━━━━━━━━━━━━━━━━━━━━━━━━━━━━━━━━━━━━╇━━━━━━━━━━━━━━━━━━┩\n",
       "│ 感谢认领.                       │ 公主                               │ [0.5973, 0.4027] │\n",
       "├─────────────────────────────────┼────────────────────────────────────┼──────────────────┤\n",
       "│ 感谢认领露思好漂亮              │ 感谢认领美丽露宝~                  │ [0.4285, 0.5715] │\n",
       "├─────────────────────────────────┼────────────────────────────────────┼──────────────────┤\n",
       "│ 感谢认领露思好漂亮              │ 赵露思好美                         │ [0.6618, 0.3382] │\n",
       "├─────────────────────────────────┼────────────────────────────────────┼──────────────────┤\n",
       "│ 杀了那么多人 蛇蝎心肠 还不够死� │ 他很好？很好为什么逮捕她？杀人     │ [0.1351, 0.8649] │\n",
       "├─────────────────────────────────┼────────────────────────────────────┼──────────────────┤\n",
       "│ 她的辩护律师想通过帮她翻案，    │ 二审维持原判还能上诉吗？           │ [0.3783, 0.6217] │\n",
       "├─────────────────────────────────┼────────────────────────────────────┼──────────────────┤\n",
       "│ 妈的 这个律师有点良心吧 维持原  │ 感谢认领.                          │ [0.6533, 0.3467] │\n",
       "├─────────────────────────────────┼────────────────────────────────────┼──────────────────┤\n",
       "│ 她的辩护律师想通过帮她翻案，    │ 她家人没事吧？果然不是一家人，不进 │ [0.3611, 0.6389] │\n",
       "├─────────────────────────────────┼────────────────────────────────────┼──────────────────┤\n",
       "│ 《互联网黑历史现状》            │ 《你看看》                         │ [0.5393, 0.4607] │\n",
       "└─────────────────────────────────┴────────────────────────────────────┴──────────────────┘\n"
      ]
     },
     "metadata": {},
     "output_type": "display_data"
    },
    {
     "data": {
      "text/html": [
       "<pre style=\"white-space:pre;overflow-x:auto;line-height:normal;font-family:Menlo,'DejaVu Sans Mono',consolas,'Courier New',monospace\">┏━━━━━━━━━━━━━━━━━━━━━━━━━━━━━━━━━┳━━━━━━━━━━━━━━━━━━━━━━━━━━━━━━━━┳━━━━━━━━━━━━━━━━━━┓\n",
       "┃<span style=\"font-weight: bold\"> chosen_text                     </span>┃<span style=\"font-weight: bold\"> rejected_text                  </span>┃<span style=\"font-weight: bold\"> logits           </span>┃\n",
       "┡━━━━━━━━━━━━━━━━━━━━━━━━━━━━━━━━━╇━━━━━━━━━━━━━━━━━━━━━━━━━━━━━━━━╇━━━━━━━━━━━━━━━━━━┩\n",
       "│ 感谢认领.                       │ 公主                           │ [0.5973, 0.4027] │\n",
       "├─────────────────────────────────┼────────────────────────────────┼──────────────────┤\n",
       "│ 感谢认领露思好漂亮              │ 感谢认领美丽露宝~              │ [0.4285, 0.5715] │\n",
       "├─────────────────────────────────┼────────────────────────────────┼──────────────────┤\n",
       "│ 感谢认领露思好漂亮              │ 赵露思好美                     │ [0.6618, 0.3382] │\n",
       "├─────────────────────────────────┼────────────────────────────────┼──────────────────┤\n",
       "│ 杀了那么多人 蛇蝎心肠 还不够死� │ 他很好？很好为什么逮捕她？杀人 │ [0.1351, 0.8649] │\n",
       "└─────────────────────────────────┴────────────────────────────────┴──────────────────┘\n",
       "</pre>\n"
      ],
      "text/plain": [
       "┏━━━━━━━━━━━━━━━━━━━━━━━━━━━━━━━━━┳━━━━━━━━━━━━━━━━━━━━━━━━━━━━━━━━┳━━━━━━━━━━━━━━━━━━┓\n",
       "┃\u001b[1m \u001b[0m\u001b[1mchosen_text                    \u001b[0m\u001b[1m \u001b[0m┃\u001b[1m \u001b[0m\u001b[1mrejected_text                 \u001b[0m\u001b[1m \u001b[0m┃\u001b[1m \u001b[0m\u001b[1mlogits          \u001b[0m\u001b[1m \u001b[0m┃\n",
       "┡━━━━━━━━━━━━━━━━━━━━━━━━━━━━━━━━━╇━━━━━━━━━━━━━━━━━━━━━━━━━━━━━━━━╇━━━━━━━━━━━━━━━━━━┩\n",
       "│ 感谢认领.                       │ 公主                           │ [0.5973, 0.4027] │\n",
       "├─────────────────────────────────┼────────────────────────────────┼──────────────────┤\n",
       "│ 感谢认领露思好漂亮              │ 感谢认领美丽露宝~              │ [0.4285, 0.5715] │\n",
       "├─────────────────────────────────┼────────────────────────────────┼──────────────────┤\n",
       "│ 感谢认领露思好漂亮              │ 赵露思好美                     │ [0.6618, 0.3382] │\n",
       "├─────────────────────────────────┼────────────────────────────────┼──────────────────┤\n",
       "│ 杀了那么多人 蛇蝎心肠 还不够死� │ 他很好？很好为什么逮捕她？杀人 │ [0.1351, 0.8649] │\n",
       "└─────────────────────────────────┴────────────────────────────────┴──────────────────┘\n"
      ]
     },
     "metadata": {},
     "output_type": "display_data"
    },
    {
     "name": "stderr",
     "output_type": "stream",
     "text": [
      "/usr/local/lib/python3.8/dist-packages/transformers/tokenization_utils_base.py:2778: UserWarning: `max_length` is ignored when `padding`=`True` and there is no truncation strategy. To pad to max length, use `padding='max_length'`.\n",
      "  warnings.warn(\n",
      "/usr/local/lib/python3.8/dist-packages/trl/trainer/utils.py:599: UserWarning: There are 22 out of 3451 instances where the predictions for both options are equal. As a consequence the accuracy can be misleading.\n",
      "  warnings.warn(\n",
      "/usr/local/lib/python3.8/dist-packages/transformers/tokenization_utils_base.py:2778: UserWarning: `max_length` is ignored when `padding`=`True` and there is no truncation strategy. To pad to max length, use `padding='max_length'`.\n",
      "  warnings.warn(\n",
      "/usr/local/lib/python3.8/dist-packages/torch/utils/checkpoint.py:464: UserWarning: torch.utils.checkpoint: the use_reentrant parameter should be passed explicitly. In version 2.4 we will raise an exception if use_reentrant is not passed. use_reentrant=False is recommended, but if you need to preserve the current default behavior, you can pass use_reentrant=True. Refer to docs for more details on the differences between the two variants.\n",
      "  warnings.warn(\n",
      "/usr/local/lib/python3.8/dist-packages/torch/utils/checkpoint.py:91: UserWarning: None of the inputs have requires_grad=True. Gradients will be None\n",
      "  warnings.warn(\n"
     ]
    },
    {
     "data": {
      "text/html": [
       "<pre style=\"white-space:pre;overflow-x:auto;line-height:normal;font-family:Menlo,'DejaVu Sans Mono',consolas,'Courier New',monospace\">┏━━━━━━━━━━━━━━━━━━━━━━━━━━━━━━━━━┳━━━━━━━━━━━━━━━━━━━━━━━━━━━━━━━━━━━━┳━━━━━━━━━━━━━━━━━━┓\n",
       "┃<span style=\"font-weight: bold\"> chosen_text                     </span>┃<span style=\"font-weight: bold\"> rejected_text                      </span>┃<span style=\"font-weight: bold\"> logits           </span>┃\n",
       "┡━━━━━━━━━━━━━━━━━━━━━━━━━━━━━━━━━╇━━━━━━━━━━━━━━━━━━━━━━━━━━━━━━━━━━━━╇━━━━━━━━━━━━━━━━━━┩\n",
       "│ 感谢认领.                       │ 公主                               │ [0.8086, 0.1914] │\n",
       "├─────────────────────────────────┼────────────────────────────────────┼──────────────────┤\n",
       "│ 感谢认领露思好漂亮              │ 感谢认领美丽露宝~                  │ [0.4729, 0.5271] │\n",
       "├─────────────────────────────────┼────────────────────────────────────┼──────────────────┤\n",
       "│ 感谢认领露思好漂亮              │ 赵露思好美                         │ [0.6092, 0.3908] │\n",
       "├─────────────────────────────────┼────────────────────────────────────┼──────────────────┤\n",
       "│ 杀了那么多人 蛇蝎心肠 还不够死� │ 他很好？很好为什么逮捕她？杀人     │ [0.2649, 0.7351] │\n",
       "├─────────────────────────────────┼────────────────────────────────────┼──────────────────┤\n",
       "│ 她的辩护律师想通过帮她翻案，    │ 二审维持原判还能上诉吗？           │ [0.2246, 0.7754] │\n",
       "├─────────────────────────────────┼────────────────────────────────────┼──────────────────┤\n",
       "│ 妈的 这个律师有点良心吧 维持原  │ 感谢认领.                          │ [0.5194, 0.4806] │\n",
       "├─────────────────────────────────┼────────────────────────────────────┼──────────────────┤\n",
       "│ 她的辩护律师想通过帮她翻案，    │ 她家人没事吧？果然不是一家人，不进 │ [0.2295, 0.7705] │\n",
       "├─────────────────────────────────┼────────────────────────────────────┼──────────────────┤\n",
       "│ 《互联网黑历史现状》            │ 《你看看》                         │ [0.6459, 0.3541] │\n",
       "└─────────────────────────────────┴────────────────────────────────────┴──────────────────┘\n",
       "</pre>\n"
      ],
      "text/plain": [
       "┏━━━━━━━━━━━━━━━━━━━━━━━━━━━━━━━━━┳━━━━━━━━━━━━━━━━━━━━━━━━━━━━━━━━━━━━┳━━━━━━━━━━━━━━━━━━┓\n",
       "┃\u001b[1m \u001b[0m\u001b[1mchosen_text                    \u001b[0m\u001b[1m \u001b[0m┃\u001b[1m \u001b[0m\u001b[1mrejected_text                     \u001b[0m\u001b[1m \u001b[0m┃\u001b[1m \u001b[0m\u001b[1mlogits          \u001b[0m\u001b[1m \u001b[0m┃\n",
       "┡━━━━━━━━━━━━━━━━━━━━━━━━━━━━━━━━━╇━━━━━━━━━━━━━━━━━━━━━━━━━━━━━━━━━━━━╇━━━━━━━━━━━━━━━━━━┩\n",
       "│ 感谢认领.                       │ 公主                               │ [0.8086, 0.1914] │\n",
       "├─────────────────────────────────┼────────────────────────────────────┼──────────────────┤\n",
       "│ 感谢认领露思好漂亮              │ 感谢认领美丽露宝~                  │ [0.4729, 0.5271] │\n",
       "├─────────────────────────────────┼────────────────────────────────────┼──────────────────┤\n",
       "│ 感谢认领露思好漂亮              │ 赵露思好美                         │ [0.6092, 0.3908] │\n",
       "├─────────────────────────────────┼────────────────────────────────────┼──────────────────┤\n",
       "│ 杀了那么多人 蛇蝎心肠 还不够死� │ 他很好？很好为什么逮捕她？杀人     │ [0.2649, 0.7351] │\n",
       "├─────────────────────────────────┼────────────────────────────────────┼──────────────────┤\n",
       "│ 她的辩护律师想通过帮她翻案，    │ 二审维持原判还能上诉吗？           │ [0.2246, 0.7754] │\n",
       "├─────────────────────────────────┼────────────────────────────────────┼──────────────────┤\n",
       "│ 妈的 这个律师有点良心吧 维持原  │ 感谢认领.                          │ [0.5194, 0.4806] │\n",
       "├─────────────────────────────────┼────────────────────────────────────┼──────────────────┤\n",
       "│ 她的辩护律师想通过帮她翻案，    │ 她家人没事吧？果然不是一家人，不进 │ [0.2295, 0.7705] │\n",
       "├─────────────────────────────────┼────────────────────────────────────┼──────────────────┤\n",
       "│ 《互联网黑历史现状》            │ 《你看看》                         │ [0.6459, 0.3541] │\n",
       "└─────────────────────────────────┴────────────────────────────────────┴──────────────────┘\n"
      ]
     },
     "metadata": {},
     "output_type": "display_data"
    },
    {
     "data": {
      "text/html": [
       "<pre style=\"white-space:pre;overflow-x:auto;line-height:normal;font-family:Menlo,'DejaVu Sans Mono',consolas,'Courier New',monospace\">┏━━━━━━━━━━━━━━━━━━━━━━━━━━━━━━━━━┳━━━━━━━━━━━━━━━━━━━━━━━━━━━━━━━━┳━━━━━━━━━━━━━━━━━━┓\n",
       "┃<span style=\"font-weight: bold\"> chosen_text                     </span>┃<span style=\"font-weight: bold\"> rejected_text                  </span>┃<span style=\"font-weight: bold\"> logits           </span>┃\n",
       "┡━━━━━━━━━━━━━━━━━━━━━━━━━━━━━━━━━╇━━━━━━━━━━━━━━━━━━━━━━━━━━━━━━━━╇━━━━━━━━━━━━━━━━━━┩\n",
       "│ 感谢认领.                       │ 公主                           │ [0.8086, 0.1914] │\n",
       "├─────────────────────────────────┼────────────────────────────────┼──────────────────┤\n",
       "│ 感谢认领露思好漂亮              │ 感谢认领美丽露宝~              │ [0.4729, 0.5271] │\n",
       "├─────────────────────────────────┼────────────────────────────────┼──────────────────┤\n",
       "│ 感谢认领露思好漂亮              │ 赵露思好美                     │ [0.6092, 0.3908] │\n",
       "├─────────────────────────────────┼────────────────────────────────┼──────────────────┤\n",
       "│ 杀了那么多人 蛇蝎心肠 还不够死� │ 他很好？很好为什么逮捕她？杀人 │ [0.2649, 0.7351] │\n",
       "└─────────────────────────────────┴────────────────────────────────┴──────────────────┘\n",
       "</pre>\n"
      ],
      "text/plain": [
       "┏━━━━━━━━━━━━━━━━━━━━━━━━━━━━━━━━━┳━━━━━━━━━━━━━━━━━━━━━━━━━━━━━━━━┳━━━━━━━━━━━━━━━━━━┓\n",
       "┃\u001b[1m \u001b[0m\u001b[1mchosen_text                    \u001b[0m\u001b[1m \u001b[0m┃\u001b[1m \u001b[0m\u001b[1mrejected_text                 \u001b[0m\u001b[1m \u001b[0m┃\u001b[1m \u001b[0m\u001b[1mlogits          \u001b[0m\u001b[1m \u001b[0m┃\n",
       "┡━━━━━━━━━━━━━━━━━━━━━━━━━━━━━━━━━╇━━━━━━━━━━━━━━━━━━━━━━━━━━━━━━━━╇━━━━━━━━━━━━━━━━━━┩\n",
       "│ 感谢认领.                       │ 公主                           │ [0.8086, 0.1914] │\n",
       "├─────────────────────────────────┼────────────────────────────────┼──────────────────┤\n",
       "│ 感谢认领露思好漂亮              │ 感谢认领美丽露宝~              │ [0.4729, 0.5271] │\n",
       "├─────────────────────────────────┼────────────────────────────────┼──────────────────┤\n",
       "│ 感谢认领露思好漂亮              │ 赵露思好美                     │ [0.6092, 0.3908] │\n",
       "├─────────────────────────────────┼────────────────────────────────┼──────────────────┤\n",
       "│ 杀了那么多人 蛇蝎心肠 还不够死� │ 他很好？很好为什么逮捕她？杀人 │ [0.2649, 0.7351] │\n",
       "└─────────────────────────────────┴────────────────────────────────┴──────────────────┘\n"
      ]
     },
     "metadata": {},
     "output_type": "display_data"
    },
    {
     "name": "stderr",
     "output_type": "stream",
     "text": [
      "/usr/local/lib/python3.8/dist-packages/transformers/tokenization_utils_base.py:2778: UserWarning: `max_length` is ignored when `padding`=`True` and there is no truncation strategy. To pad to max length, use `padding='max_length'`.\n",
      "  warnings.warn(\n",
      "/usr/local/lib/python3.8/dist-packages/trl/trainer/utils.py:599: UserWarning: There are 22 out of 3451 instances where the predictions for both options are equal. As a consequence the accuracy can be misleading.\n",
      "  warnings.warn(\n",
      "/usr/local/lib/python3.8/dist-packages/transformers/tokenization_utils_base.py:2778: UserWarning: `max_length` is ignored when `padding`=`True` and there is no truncation strategy. To pad to max length, use `padding='max_length'`.\n",
      "  warnings.warn(\n",
      "/usr/local/lib/python3.8/dist-packages/torch/utils/checkpoint.py:464: UserWarning: torch.utils.checkpoint: the use_reentrant parameter should be passed explicitly. In version 2.4 we will raise an exception if use_reentrant is not passed. use_reentrant=False is recommended, but if you need to preserve the current default behavior, you can pass use_reentrant=True. Refer to docs for more details on the differences between the two variants.\n",
      "  warnings.warn(\n",
      "/usr/local/lib/python3.8/dist-packages/torch/utils/checkpoint.py:91: UserWarning: None of the inputs have requires_grad=True. Gradients will be None\n",
      "  warnings.warn(\n"
     ]
    },
    {
     "data": {
      "text/html": [
       "<pre style=\"white-space:pre;overflow-x:auto;line-height:normal;font-family:Menlo,'DejaVu Sans Mono',consolas,'Courier New',monospace\">┏━━━━━━━━━━━━━━━━━━━━━━━━━━━━━━━━━┳━━━━━━━━━━━━━━━━━━━━━━━━━━━━━━━━━━━━┳━━━━━━━━━━━━━━━━━━┓\n",
       "┃<span style=\"font-weight: bold\"> chosen_text                     </span>┃<span style=\"font-weight: bold\"> rejected_text                      </span>┃<span style=\"font-weight: bold\"> logits           </span>┃\n",
       "┡━━━━━━━━━━━━━━━━━━━━━━━━━━━━━━━━━╇━━━━━━━━━━━━━━━━━━━━━━━━━━━━━━━━━━━━╇━━━━━━━━━━━━━━━━━━┩\n",
       "│ 感谢认领.                       │ 公主                               │ [0.6291, 0.3709] │\n",
       "├─────────────────────────────────┼────────────────────────────────────┼──────────────────┤\n",
       "│ 感谢认领露思好漂亮              │ 感谢认领美丽露宝~                  │ [0.4702, 0.5298] │\n",
       "├─────────────────────────────────┼────────────────────────────────────┼──────────────────┤\n",
       "│ 感谢认领露思好漂亮              │ 赵露思好美                         │ [0.6946, 0.3054] │\n",
       "├─────────────────────────────────┼────────────────────────────────────┼──────────────────┤\n",
       "│ 杀了那么多人 蛇蝎心肠 还不够死� │ 他很好？很好为什么逮捕她？杀人     │ [0.4121, 0.5879] │\n",
       "├─────────────────────────────────┼────────────────────────────────────┼──────────────────┤\n",
       "│ 她的辩护律师想通过帮她翻案，    │ 二审维持原判还能上诉吗？           │ [0.5074, 0.4926] │\n",
       "├─────────────────────────────────┼────────────────────────────────────┼──────────────────┤\n",
       "│ 妈的 这个律师有点良心吧 维持原  │ 感谢认领.                          │ [0.4266, 0.5734] │\n",
       "├─────────────────────────────────┼────────────────────────────────────┼──────────────────┤\n",
       "│ 她的辩护律师想通过帮她翻案，    │ 她家人没事吧？果然不是一家人，不进 │ [0.276, 0.724]   │\n",
       "├─────────────────────────────────┼────────────────────────────────────┼──────────────────┤\n",
       "│ 《互联网黑历史现状》            │ 《你看看》                         │ [0.7146, 0.2854] │\n",
       "└─────────────────────────────────┴────────────────────────────────────┴──────────────────┘\n",
       "</pre>\n"
      ],
      "text/plain": [
       "┏━━━━━━━━━━━━━━━━━━━━━━━━━━━━━━━━━┳━━━━━━━━━━━━━━━━━━━━━━━━━━━━━━━━━━━━┳━━━━━━━━━━━━━━━━━━┓\n",
       "┃\u001b[1m \u001b[0m\u001b[1mchosen_text                    \u001b[0m\u001b[1m \u001b[0m┃\u001b[1m \u001b[0m\u001b[1mrejected_text                     \u001b[0m\u001b[1m \u001b[0m┃\u001b[1m \u001b[0m\u001b[1mlogits          \u001b[0m\u001b[1m \u001b[0m┃\n",
       "┡━━━━━━━━━━━━━━━━━━━━━━━━━━━━━━━━━╇━━━━━━━━━━━━━━━━━━━━━━━━━━━━━━━━━━━━╇━━━━━━━━━━━━━━━━━━┩\n",
       "│ 感谢认领.                       │ 公主                               │ [0.6291, 0.3709] │\n",
       "├─────────────────────────────────┼────────────────────────────────────┼──────────────────┤\n",
       "│ 感谢认领露思好漂亮              │ 感谢认领美丽露宝~                  │ [0.4702, 0.5298] │\n",
       "├─────────────────────────────────┼────────────────────────────────────┼──────────────────┤\n",
       "│ 感谢认领露思好漂亮              │ 赵露思好美                         │ [0.6946, 0.3054] │\n",
       "├─────────────────────────────────┼────────────────────────────────────┼──────────────────┤\n",
       "│ 杀了那么多人 蛇蝎心肠 还不够死� │ 他很好？很好为什么逮捕她？杀人     │ [0.4121, 0.5879] │\n",
       "├─────────────────────────────────┼────────────────────────────────────┼──────────────────┤\n",
       "│ 她的辩护律师想通过帮她翻案，    │ 二审维持原判还能上诉吗？           │ [0.5074, 0.4926] │\n",
       "├─────────────────────────────────┼────────────────────────────────────┼──────────────────┤\n",
       "│ 妈的 这个律师有点良心吧 维持原  │ 感谢认领.                          │ [0.4266, 0.5734] │\n",
       "├─────────────────────────────────┼────────────────────────────────────┼──────────────────┤\n",
       "│ 她的辩护律师想通过帮她翻案，    │ 她家人没事吧？果然不是一家人，不进 │ [0.276, 0.724]   │\n",
       "├─────────────────────────────────┼────────────────────────────────────┼──────────────────┤\n",
       "│ 《互联网黑历史现状》            │ 《你看看》                         │ [0.7146, 0.2854] │\n",
       "└─────────────────────────────────┴────────────────────────────────────┴──────────────────┘\n"
      ]
     },
     "metadata": {},
     "output_type": "display_data"
    },
    {
     "data": {
      "text/html": [
       "<pre style=\"white-space:pre;overflow-x:auto;line-height:normal;font-family:Menlo,'DejaVu Sans Mono',consolas,'Courier New',monospace\">┏━━━━━━━━━━━━━━━━━━━━━━━━━━━━━━━━━┳━━━━━━━━━━━━━━━━━━━━━━━━━━━━━━━━┳━━━━━━━━━━━━━━━━━━┓\n",
       "┃<span style=\"font-weight: bold\"> chosen_text                     </span>┃<span style=\"font-weight: bold\"> rejected_text                  </span>┃<span style=\"font-weight: bold\"> logits           </span>┃\n",
       "┡━━━━━━━━━━━━━━━━━━━━━━━━━━━━━━━━━╇━━━━━━━━━━━━━━━━━━━━━━━━━━━━━━━━╇━━━━━━━━━━━━━━━━━━┩\n",
       "│ 感谢认领.                       │ 公主                           │ [0.6291, 0.3709] │\n",
       "├─────────────────────────────────┼────────────────────────────────┼──────────────────┤\n",
       "│ 感谢认领露思好漂亮              │ 感谢认领美丽露宝~              │ [0.4702, 0.5298] │\n",
       "├─────────────────────────────────┼────────────────────────────────┼──────────────────┤\n",
       "│ 感谢认领露思好漂亮              │ 赵露思好美                     │ [0.6946, 0.3054] │\n",
       "├─────────────────────────────────┼────────────────────────────────┼──────────────────┤\n",
       "│ 杀了那么多人 蛇蝎心肠 还不够死� │ 他很好？很好为什么逮捕她？杀人 │ [0.4121, 0.5879] │\n",
       "└─────────────────────────────────┴────────────────────────────────┴──────────────────┘\n",
       "</pre>\n"
      ],
      "text/plain": [
       "┏━━━━━━━━━━━━━━━━━━━━━━━━━━━━━━━━━┳━━━━━━━━━━━━━━━━━━━━━━━━━━━━━━━━┳━━━━━━━━━━━━━━━━━━┓\n",
       "┃\u001b[1m \u001b[0m\u001b[1mchosen_text                    \u001b[0m\u001b[1m \u001b[0m┃\u001b[1m \u001b[0m\u001b[1mrejected_text                 \u001b[0m\u001b[1m \u001b[0m┃\u001b[1m \u001b[0m\u001b[1mlogits          \u001b[0m\u001b[1m \u001b[0m┃\n",
       "┡━━━━━━━━━━━━━━━━━━━━━━━━━━━━━━━━━╇━━━━━━━━━━━━━━━━━━━━━━━━━━━━━━━━╇━━━━━━━━━━━━━━━━━━┩\n",
       "│ 感谢认领.                       │ 公主                           │ [0.6291, 0.3709] │\n",
       "├─────────────────────────────────┼────────────────────────────────┼──────────────────┤\n",
       "│ 感谢认领露思好漂亮              │ 感谢认领美丽露宝~              │ [0.4702, 0.5298] │\n",
       "├─────────────────────────────────┼────────────────────────────────┼──────────────────┤\n",
       "│ 感谢认领露思好漂亮              │ 赵露思好美                     │ [0.6946, 0.3054] │\n",
       "├─────────────────────────────────┼────────────────────────────────┼──────────────────┤\n",
       "│ 杀了那么多人 蛇蝎心肠 还不够死� │ 他很好？很好为什么逮捕她？杀人 │ [0.4121, 0.5879] │\n",
       "└─────────────────────────────────┴────────────────────────────────┴──────────────────┘\n"
      ]
     },
     "metadata": {},
     "output_type": "display_data"
    },
    {
     "name": "stderr",
     "output_type": "stream",
     "text": [
      "/usr/local/lib/python3.8/dist-packages/transformers/tokenization_utils_base.py:2778: UserWarning: `max_length` is ignored when `padding`=`True` and there is no truncation strategy. To pad to max length, use `padding='max_length'`.\n",
      "  warnings.warn(\n",
      "/usr/local/lib/python3.8/dist-packages/trl/trainer/utils.py:599: UserWarning: There are 22 out of 3451 instances where the predictions for both options are equal. As a consequence the accuracy can be misleading.\n",
      "  warnings.warn(\n",
      "/usr/local/lib/python3.8/dist-packages/transformers/tokenization_utils_base.py:2778: UserWarning: `max_length` is ignored when `padding`=`True` and there is no truncation strategy. To pad to max length, use `padding='max_length'`.\n",
      "  warnings.warn(\n",
      "/usr/local/lib/python3.8/dist-packages/torch/utils/checkpoint.py:464: UserWarning: torch.utils.checkpoint: the use_reentrant parameter should be passed explicitly. In version 2.4 we will raise an exception if use_reentrant is not passed. use_reentrant=False is recommended, but if you need to preserve the current default behavior, you can pass use_reentrant=True. Refer to docs for more details on the differences between the two variants.\n",
      "  warnings.warn(\n",
      "/usr/local/lib/python3.8/dist-packages/torch/utils/checkpoint.py:91: UserWarning: None of the inputs have requires_grad=True. Gradients will be None\n",
      "  warnings.warn(\n"
     ]
    },
    {
     "data": {
      "text/html": [
       "<pre style=\"white-space:pre;overflow-x:auto;line-height:normal;font-family:Menlo,'DejaVu Sans Mono',consolas,'Courier New',monospace\">┏━━━━━━━━━━━━━━━━━━━━━━━━━━━━━━━━━┳━━━━━━━━━━━━━━━━━━━━━━━━━━━━━━━━━━━━┳━━━━━━━━━━━━━━━━━━┓\n",
       "┃<span style=\"font-weight: bold\"> chosen_text                     </span>┃<span style=\"font-weight: bold\"> rejected_text                      </span>┃<span style=\"font-weight: bold\"> logits           </span>┃\n",
       "┡━━━━━━━━━━━━━━━━━━━━━━━━━━━━━━━━━╇━━━━━━━━━━━━━━━━━━━━━━━━━━━━━━━━━━━━╇━━━━━━━━━━━━━━━━━━┩\n",
       "│ 感谢认领.                       │ 公主                               │ [0.4796, 0.5204] │\n",
       "├─────────────────────────────────┼────────────────────────────────────┼──────────────────┤\n",
       "│ 感谢认领露思好漂亮              │ 感谢认领美丽露宝~                  │ [0.6227, 0.3773] │\n",
       "├─────────────────────────────────┼────────────────────────────────────┼──────────────────┤\n",
       "│ 感谢认领露思好漂亮              │ 赵露思好美                         │ [0.5901, 0.4099] │\n",
       "├─────────────────────────────────┼────────────────────────────────────┼──────────────────┤\n",
       "│ 杀了那么多人 蛇蝎心肠 还不够死� │ 他很好？很好为什么逮捕她？杀人     │ [0.3062, 0.6938] │\n",
       "├─────────────────────────────────┼────────────────────────────────────┼──────────────────┤\n",
       "│ 她的辩护律师想通过帮她翻案，    │ 二审维持原判还能上诉吗？           │ [0.4139, 0.5861] │\n",
       "├─────────────────────────────────┼────────────────────────────────────┼──────────────────┤\n",
       "│ 妈的 这个律师有点良心吧 维持原  │ 感谢认领.                          │ [0.7185, 0.2815] │\n",
       "├─────────────────────────────────┼────────────────────────────────────┼──────────────────┤\n",
       "│ 她的辩护律师想通过帮她翻案，    │ 她家人没事吧？果然不是一家人，不进 │ [0.2147, 0.7853] │\n",
       "├─────────────────────────────────┼────────────────────────────────────┼──────────────────┤\n",
       "│ 《互联网黑历史现状》            │ 《你看看》                         │ [0.6858, 0.3142] │\n",
       "└─────────────────────────────────┴────────────────────────────────────┴──────────────────┘\n",
       "</pre>\n"
      ],
      "text/plain": [
       "┏━━━━━━━━━━━━━━━━━━━━━━━━━━━━━━━━━┳━━━━━━━━━━━━━━━━━━━━━━━━━━━━━━━━━━━━┳━━━━━━━━━━━━━━━━━━┓\n",
       "┃\u001b[1m \u001b[0m\u001b[1mchosen_text                    \u001b[0m\u001b[1m \u001b[0m┃\u001b[1m \u001b[0m\u001b[1mrejected_text                     \u001b[0m\u001b[1m \u001b[0m┃\u001b[1m \u001b[0m\u001b[1mlogits          \u001b[0m\u001b[1m \u001b[0m┃\n",
       "┡━━━━━━━━━━━━━━━━━━━━━━━━━━━━━━━━━╇━━━━━━━━━━━━━━━━━━━━━━━━━━━━━━━━━━━━╇━━━━━━━━━━━━━━━━━━┩\n",
       "│ 感谢认领.                       │ 公主                               │ [0.4796, 0.5204] │\n",
       "├─────────────────────────────────┼────────────────────────────────────┼──────────────────┤\n",
       "│ 感谢认领露思好漂亮              │ 感谢认领美丽露宝~                  │ [0.6227, 0.3773] │\n",
       "├─────────────────────────────────┼────────────────────────────────────┼──────────────────┤\n",
       "│ 感谢认领露思好漂亮              │ 赵露思好美                         │ [0.5901, 0.4099] │\n",
       "├─────────────────────────────────┼────────────────────────────────────┼──────────────────┤\n",
       "│ 杀了那么多人 蛇蝎心肠 还不够死� │ 他很好？很好为什么逮捕她？杀人     │ [0.3062, 0.6938] │\n",
       "├─────────────────────────────────┼────────────────────────────────────┼──────────────────┤\n",
       "│ 她的辩护律师想通过帮她翻案，    │ 二审维持原判还能上诉吗？           │ [0.4139, 0.5861] │\n",
       "├─────────────────────────────────┼────────────────────────────────────┼──────────────────┤\n",
       "│ 妈的 这个律师有点良心吧 维持原  │ 感谢认领.                          │ [0.7185, 0.2815] │\n",
       "├─────────────────────────────────┼────────────────────────────────────┼──────────────────┤\n",
       "│ 她的辩护律师想通过帮她翻案，    │ 她家人没事吧？果然不是一家人，不进 │ [0.2147, 0.7853] │\n",
       "├─────────────────────────────────┼────────────────────────────────────┼──────────────────┤\n",
       "│ 《互联网黑历史现状》            │ 《你看看》                         │ [0.6858, 0.3142] │\n",
       "└─────────────────────────────────┴────────────────────────────────────┴──────────────────┘\n"
      ]
     },
     "metadata": {},
     "output_type": "display_data"
    },
    {
     "data": {
      "text/html": [
       "<pre style=\"white-space:pre;overflow-x:auto;line-height:normal;font-family:Menlo,'DejaVu Sans Mono',consolas,'Courier New',monospace\">┏━━━━━━━━━━━━━━━━━━━━━━━━━━━━━━━━━┳━━━━━━━━━━━━━━━━━━━━━━━━━━━━━━━━┳━━━━━━━━━━━━━━━━━━┓\n",
       "┃<span style=\"font-weight: bold\"> chosen_text                     </span>┃<span style=\"font-weight: bold\"> rejected_text                  </span>┃<span style=\"font-weight: bold\"> logits           </span>┃\n",
       "┡━━━━━━━━━━━━━━━━━━━━━━━━━━━━━━━━━╇━━━━━━━━━━━━━━━━━━━━━━━━━━━━━━━━╇━━━━━━━━━━━━━━━━━━┩\n",
       "│ 感谢认领.                       │ 公主                           │ [0.4796, 0.5204] │\n",
       "├─────────────────────────────────┼────────────────────────────────┼──────────────────┤\n",
       "│ 感谢认领露思好漂亮              │ 感谢认领美丽露宝~              │ [0.6227, 0.3773] │\n",
       "├─────────────────────────────────┼────────────────────────────────┼──────────────────┤\n",
       "│ 感谢认领露思好漂亮              │ 赵露思好美                     │ [0.5901, 0.4099] │\n",
       "├─────────────────────────────────┼────────────────────────────────┼──────────────────┤\n",
       "│ 杀了那么多人 蛇蝎心肠 还不够死� │ 他很好？很好为什么逮捕她？杀人 │ [0.3062, 0.6938] │\n",
       "└─────────────────────────────────┴────────────────────────────────┴──────────────────┘\n",
       "</pre>\n"
      ],
      "text/plain": [
       "┏━━━━━━━━━━━━━━━━━━━━━━━━━━━━━━━━━┳━━━━━━━━━━━━━━━━━━━━━━━━━━━━━━━━┳━━━━━━━━━━━━━━━━━━┓\n",
       "┃\u001b[1m \u001b[0m\u001b[1mchosen_text                    \u001b[0m\u001b[1m \u001b[0m┃\u001b[1m \u001b[0m\u001b[1mrejected_text                 \u001b[0m\u001b[1m \u001b[0m┃\u001b[1m \u001b[0m\u001b[1mlogits          \u001b[0m\u001b[1m \u001b[0m┃\n",
       "┡━━━━━━━━━━━━━━━━━━━━━━━━━━━━━━━━━╇━━━━━━━━━━━━━━━━━━━━━━━━━━━━━━━━╇━━━━━━━━━━━━━━━━━━┩\n",
       "│ 感谢认领.                       │ 公主                           │ [0.4796, 0.5204] │\n",
       "├─────────────────────────────────┼────────────────────────────────┼──────────────────┤\n",
       "│ 感谢认领露思好漂亮              │ 感谢认领美丽露宝~              │ [0.6227, 0.3773] │\n",
       "├─────────────────────────────────┼────────────────────────────────┼──────────────────┤\n",
       "│ 感谢认领露思好漂亮              │ 赵露思好美                     │ [0.5901, 0.4099] │\n",
       "├─────────────────────────────────┼────────────────────────────────┼──────────────────┤\n",
       "│ 杀了那么多人 蛇蝎心肠 还不够死� │ 他很好？很好为什么逮捕她？杀人 │ [0.3062, 0.6938] │\n",
       "└─────────────────────────────────┴────────────────────────────────┴──────────────────┘\n"
      ]
     },
     "metadata": {},
     "output_type": "display_data"
    },
    {
     "name": "stderr",
     "output_type": "stream",
     "text": [
      "/usr/local/lib/python3.8/dist-packages/transformers/tokenization_utils_base.py:2778: UserWarning: `max_length` is ignored when `padding`=`True` and there is no truncation strategy. To pad to max length, use `padding='max_length'`.\n",
      "  warnings.warn(\n",
      "/usr/local/lib/python3.8/dist-packages/trl/trainer/utils.py:599: UserWarning: There are 22 out of 3451 instances where the predictions for both options are equal. As a consequence the accuracy can be misleading.\n",
      "  warnings.warn(\n",
      "/usr/local/lib/python3.8/dist-packages/transformers/tokenization_utils_base.py:2778: UserWarning: `max_length` is ignored when `padding`=`True` and there is no truncation strategy. To pad to max length, use `padding='max_length'`.\n",
      "  warnings.warn(\n",
      "/usr/local/lib/python3.8/dist-packages/torch/utils/checkpoint.py:464: UserWarning: torch.utils.checkpoint: the use_reentrant parameter should be passed explicitly. In version 2.4 we will raise an exception if use_reentrant is not passed. use_reentrant=False is recommended, but if you need to preserve the current default behavior, you can pass use_reentrant=True. Refer to docs for more details on the differences between the two variants.\n",
      "  warnings.warn(\n",
      "/usr/local/lib/python3.8/dist-packages/torch/utils/checkpoint.py:91: UserWarning: None of the inputs have requires_grad=True. Gradients will be None\n",
      "  warnings.warn(\n"
     ]
    },
    {
     "data": {
      "text/html": [
       "<pre style=\"white-space:pre;overflow-x:auto;line-height:normal;font-family:Menlo,'DejaVu Sans Mono',consolas,'Courier New',monospace\">┏━━━━━━━━━━━━━━━━━━━━━━━━━━━━━━━━━┳━━━━━━━━━━━━━━━━━━━━━━━━━━━━━━━━━━━━┳━━━━━━━━━━━━━━━━━━┓\n",
       "┃<span style=\"font-weight: bold\"> chosen_text                     </span>┃<span style=\"font-weight: bold\"> rejected_text                      </span>┃<span style=\"font-weight: bold\"> logits           </span>┃\n",
       "┡━━━━━━━━━━━━━━━━━━━━━━━━━━━━━━━━━╇━━━━━━━━━━━━━━━━━━━━━━━━━━━━━━━━━━━━╇━━━━━━━━━━━━━━━━━━┩\n",
       "│ 感谢认领.                       │ 公主                               │ [0.6627, 0.3373] │\n",
       "├─────────────────────────────────┼────────────────────────────────────┼──────────────────┤\n",
       "│ 感谢认领露思好漂亮              │ 感谢认领美丽露宝~                  │ [0.6237, 0.3763] │\n",
       "├─────────────────────────────────┼────────────────────────────────────┼──────────────────┤\n",
       "│ 感谢认领露思好漂亮              │ 赵露思好美                         │ [0.3969, 0.6031] │\n",
       "├─────────────────────────────────┼────────────────────────────────────┼──────────────────┤\n",
       "│ 杀了那么多人 蛇蝎心肠 还不够死� │ 他很好？很好为什么逮捕她？杀人     │ [0.1551, 0.8449] │\n",
       "├─────────────────────────────────┼────────────────────────────────────┼──────────────────┤\n",
       "│ 她的辩护律师想通过帮她翻案，    │ 二审维持原判还能上诉吗？           │ [0.2867, 0.7133] │\n",
       "├─────────────────────────────────┼────────────────────────────────────┼──────────────────┤\n",
       "│ 妈的 这个律师有点良心吧 维持原  │ 感谢认领.                          │ [0.7048, 0.2952] │\n",
       "├─────────────────────────────────┼────────────────────────────────────┼──────────────────┤\n",
       "│ 她的辩护律师想通过帮她翻案，    │ 她家人没事吧？果然不是一家人，不进 │ [0.3108, 0.6892] │\n",
       "├─────────────────────────────────┼────────────────────────────────────┼──────────────────┤\n",
       "│ 《互联网黑历史现状》            │ 《你看看》                         │ [0.621, 0.379]   │\n",
       "└─────────────────────────────────┴────────────────────────────────────┴──────────────────┘\n",
       "</pre>\n"
      ],
      "text/plain": [
       "┏━━━━━━━━━━━━━━━━━━━━━━━━━━━━━━━━━┳━━━━━━━━━━━━━━━━━━━━━━━━━━━━━━━━━━━━┳━━━━━━━━━━━━━━━━━━┓\n",
       "┃\u001b[1m \u001b[0m\u001b[1mchosen_text                    \u001b[0m\u001b[1m \u001b[0m┃\u001b[1m \u001b[0m\u001b[1mrejected_text                     \u001b[0m\u001b[1m \u001b[0m┃\u001b[1m \u001b[0m\u001b[1mlogits          \u001b[0m\u001b[1m \u001b[0m┃\n",
       "┡━━━━━━━━━━━━━━━━━━━━━━━━━━━━━━━━━╇━━━━━━━━━━━━━━━━━━━━━━━━━━━━━━━━━━━━╇━━━━━━━━━━━━━━━━━━┩\n",
       "│ 感谢认领.                       │ 公主                               │ [0.6627, 0.3373] │\n",
       "├─────────────────────────────────┼────────────────────────────────────┼──────────────────┤\n",
       "│ 感谢认领露思好漂亮              │ 感谢认领美丽露宝~                  │ [0.6237, 0.3763] │\n",
       "├─────────────────────────────────┼────────────────────────────────────┼──────────────────┤\n",
       "│ 感谢认领露思好漂亮              │ 赵露思好美                         │ [0.3969, 0.6031] │\n",
       "├─────────────────────────────────┼────────────────────────────────────┼──────────────────┤\n",
       "│ 杀了那么多人 蛇蝎心肠 还不够死� │ 他很好？很好为什么逮捕她？杀人     │ [0.1551, 0.8449] │\n",
       "├─────────────────────────────────┼────────────────────────────────────┼──────────────────┤\n",
       "│ 她的辩护律师想通过帮她翻案，    │ 二审维持原判还能上诉吗？           │ [0.2867, 0.7133] │\n",
       "├─────────────────────────────────┼────────────────────────────────────┼──────────────────┤\n",
       "│ 妈的 这个律师有点良心吧 维持原  │ 感谢认领.                          │ [0.7048, 0.2952] │\n",
       "├─────────────────────────────────┼────────────────────────────────────┼──────────────────┤\n",
       "│ 她的辩护律师想通过帮她翻案，    │ 她家人没事吧？果然不是一家人，不进 │ [0.3108, 0.6892] │\n",
       "├─────────────────────────────────┼────────────────────────────────────┼──────────────────┤\n",
       "│ 《互联网黑历史现状》            │ 《你看看》                         │ [0.621, 0.379]   │\n",
       "└─────────────────────────────────┴────────────────────────────────────┴──────────────────┘\n"
      ]
     },
     "metadata": {},
     "output_type": "display_data"
    },
    {
     "data": {
      "text/html": [
       "<pre style=\"white-space:pre;overflow-x:auto;line-height:normal;font-family:Menlo,'DejaVu Sans Mono',consolas,'Courier New',monospace\">┏━━━━━━━━━━━━━━━━━━━━━━━━━━━━━━━━━┳━━━━━━━━━━━━━━━━━━━━━━━━━━━━━━━━┳━━━━━━━━━━━━━━━━━━┓\n",
       "┃<span style=\"font-weight: bold\"> chosen_text                     </span>┃<span style=\"font-weight: bold\"> rejected_text                  </span>┃<span style=\"font-weight: bold\"> logits           </span>┃\n",
       "┡━━━━━━━━━━━━━━━━━━━━━━━━━━━━━━━━━╇━━━━━━━━━━━━━━━━━━━━━━━━━━━━━━━━╇━━━━━━━━━━━━━━━━━━┩\n",
       "│ 感谢认领.                       │ 公主                           │ [0.6627, 0.3373] │\n",
       "├─────────────────────────────────┼────────────────────────────────┼──────────────────┤\n",
       "│ 感谢认领露思好漂亮              │ 感谢认领美丽露宝~              │ [0.6237, 0.3763] │\n",
       "├─────────────────────────────────┼────────────────────────────────┼──────────────────┤\n",
       "│ 感谢认领露思好漂亮              │ 赵露思好美                     │ [0.3969, 0.6031] │\n",
       "├─────────────────────────────────┼────────────────────────────────┼──────────────────┤\n",
       "│ 杀了那么多人 蛇蝎心肠 还不够死� │ 他很好？很好为什么逮捕她？杀人 │ [0.1551, 0.8449] │\n",
       "└─────────────────────────────────┴────────────────────────────────┴──────────────────┘\n",
       "</pre>\n"
      ],
      "text/plain": [
       "┏━━━━━━━━━━━━━━━━━━━━━━━━━━━━━━━━━┳━━━━━━━━━━━━━━━━━━━━━━━━━━━━━━━━┳━━━━━━━━━━━━━━━━━━┓\n",
       "┃\u001b[1m \u001b[0m\u001b[1mchosen_text                    \u001b[0m\u001b[1m \u001b[0m┃\u001b[1m \u001b[0m\u001b[1mrejected_text                 \u001b[0m\u001b[1m \u001b[0m┃\u001b[1m \u001b[0m\u001b[1mlogits          \u001b[0m\u001b[1m \u001b[0m┃\n",
       "┡━━━━━━━━━━━━━━━━━━━━━━━━━━━━━━━━━╇━━━━━━━━━━━━━━━━━━━━━━━━━━━━━━━━╇━━━━━━━━━━━━━━━━━━┩\n",
       "│ 感谢认领.                       │ 公主                           │ [0.6627, 0.3373] │\n",
       "├─────────────────────────────────┼────────────────────────────────┼──────────────────┤\n",
       "│ 感谢认领露思好漂亮              │ 感谢认领美丽露宝~              │ [0.6237, 0.3763] │\n",
       "├─────────────────────────────────┼────────────────────────────────┼──────────────────┤\n",
       "│ 感谢认领露思好漂亮              │ 赵露思好美                     │ [0.3969, 0.6031] │\n",
       "├─────────────────────────────────┼────────────────────────────────┼──────────────────┤\n",
       "│ 杀了那么多人 蛇蝎心肠 还不够死� │ 他很好？很好为什么逮捕她？杀人 │ [0.1551, 0.8449] │\n",
       "└─────────────────────────────────┴────────────────────────────────┴──────────────────┘\n"
      ]
     },
     "metadata": {},
     "output_type": "display_data"
    },
    {
     "name": "stderr",
     "output_type": "stream",
     "text": [
      "/usr/local/lib/python3.8/dist-packages/transformers/tokenization_utils_base.py:2778: UserWarning: `max_length` is ignored when `padding`=`True` and there is no truncation strategy. To pad to max length, use `padding='max_length'`.\n",
      "  warnings.warn(\n",
      "/usr/local/lib/python3.8/dist-packages/trl/trainer/utils.py:599: UserWarning: There are 22 out of 3451 instances where the predictions for both options are equal. As a consequence the accuracy can be misleading.\n",
      "  warnings.warn(\n",
      "/usr/local/lib/python3.8/dist-packages/transformers/tokenization_utils_base.py:2778: UserWarning: `max_length` is ignored when `padding`=`True` and there is no truncation strategy. To pad to max length, use `padding='max_length'`.\n",
      "  warnings.warn(\n",
      "/usr/local/lib/python3.8/dist-packages/torch/utils/checkpoint.py:464: UserWarning: torch.utils.checkpoint: the use_reentrant parameter should be passed explicitly. In version 2.4 we will raise an exception if use_reentrant is not passed. use_reentrant=False is recommended, but if you need to preserve the current default behavior, you can pass use_reentrant=True. Refer to docs for more details on the differences between the two variants.\n",
      "  warnings.warn(\n",
      "/usr/local/lib/python3.8/dist-packages/torch/utils/checkpoint.py:91: UserWarning: None of the inputs have requires_grad=True. Gradients will be None\n",
      "  warnings.warn(\n"
     ]
    },
    {
     "data": {
      "text/html": [
       "<pre style=\"white-space:pre;overflow-x:auto;line-height:normal;font-family:Menlo,'DejaVu Sans Mono',consolas,'Courier New',monospace\">┏━━━━━━━━━━━━━━━━━━━━━━━━━━━━━━━━━┳━━━━━━━━━━━━━━━━━━━━━━━━━━━━━━━━━━━━┳━━━━━━━━━━━━━━━━━━┓\n",
       "┃<span style=\"font-weight: bold\"> chosen_text                     </span>┃<span style=\"font-weight: bold\"> rejected_text                      </span>┃<span style=\"font-weight: bold\"> logits           </span>┃\n",
       "┡━━━━━━━━━━━━━━━━━━━━━━━━━━━━━━━━━╇━━━━━━━━━━━━━━━━━━━━━━━━━━━━━━━━━━━━╇━━━━━━━━━━━━━━━━━━┩\n",
       "│ 感谢认领.                       │ 公主                               │ [0.7966, 0.2034] │\n",
       "├─────────────────────────────────┼────────────────────────────────────┼──────────────────┤\n",
       "│ 感谢认领露思好漂亮              │ 感谢认领美丽露宝~                  │ [0.4167, 0.5833] │\n",
       "├─────────────────────────────────┼────────────────────────────────────┼──────────────────┤\n",
       "│ 感谢认领露思好漂亮              │ 赵露思好美                         │ [0.4228, 0.5772] │\n",
       "├─────────────────────────────────┼────────────────────────────────────┼──────────────────┤\n",
       "│ 杀了那么多人 蛇蝎心肠 还不够死� │ 他很好？很好为什么逮捕她？杀人     │ [0.1642, 0.8358] │\n",
       "├─────────────────────────────────┼────────────────────────────────────┼──────────────────┤\n",
       "│ 她的辩护律师想通过帮她翻案，    │ 二审维持原判还能上诉吗？           │ [0.3284, 0.6716] │\n",
       "├─────────────────────────────────┼────────────────────────────────────┼──────────────────┤\n",
       "│ 妈的 这个律师有点良心吧 维持原  │ 感谢认领.                          │ [0.7034, 0.2966] │\n",
       "├─────────────────────────────────┼────────────────────────────────────┼──────────────────┤\n",
       "│ 她的辩护律师想通过帮她翻案，    │ 她家人没事吧？果然不是一家人，不进 │ [0.2693, 0.7307] │\n",
       "├─────────────────────────────────┼────────────────────────────────────┼──────────────────┤\n",
       "│ 《互联网黑历史现状》            │ 《你看看》                         │ [0.6498, 0.3502] │\n",
       "└─────────────────────────────────┴────────────────────────────────────┴──────────────────┘\n",
       "</pre>\n"
      ],
      "text/plain": [
       "┏━━━━━━━━━━━━━━━━━━━━━━━━━━━━━━━━━┳━━━━━━━━━━━━━━━━━━━━━━━━━━━━━━━━━━━━┳━━━━━━━━━━━━━━━━━━┓\n",
       "┃\u001b[1m \u001b[0m\u001b[1mchosen_text                    \u001b[0m\u001b[1m \u001b[0m┃\u001b[1m \u001b[0m\u001b[1mrejected_text                     \u001b[0m\u001b[1m \u001b[0m┃\u001b[1m \u001b[0m\u001b[1mlogits          \u001b[0m\u001b[1m \u001b[0m┃\n",
       "┡━━━━━━━━━━━━━━━━━━━━━━━━━━━━━━━━━╇━━━━━━━━━━━━━━━━━━━━━━━━━━━━━━━━━━━━╇━━━━━━━━━━━━━━━━━━┩\n",
       "│ 感谢认领.                       │ 公主                               │ [0.7966, 0.2034] │\n",
       "├─────────────────────────────────┼────────────────────────────────────┼──────────────────┤\n",
       "│ 感谢认领露思好漂亮              │ 感谢认领美丽露宝~                  │ [0.4167, 0.5833] │\n",
       "├─────────────────────────────────┼────────────────────────────────────┼──────────────────┤\n",
       "│ 感谢认领露思好漂亮              │ 赵露思好美                         │ [0.4228, 0.5772] │\n",
       "├─────────────────────────────────┼────────────────────────────────────┼──────────────────┤\n",
       "│ 杀了那么多人 蛇蝎心肠 还不够死� │ 他很好？很好为什么逮捕她？杀人     │ [0.1642, 0.8358] │\n",
       "├─────────────────────────────────┼────────────────────────────────────┼──────────────────┤\n",
       "│ 她的辩护律师想通过帮她翻案，    │ 二审维持原判还能上诉吗？           │ [0.3284, 0.6716] │\n",
       "├─────────────────────────────────┼────────────────────────────────────┼──────────────────┤\n",
       "│ 妈的 这个律师有点良心吧 维持原  │ 感谢认领.                          │ [0.7034, 0.2966] │\n",
       "├─────────────────────────────────┼────────────────────────────────────┼──────────────────┤\n",
       "│ 她的辩护律师想通过帮她翻案，    │ 她家人没事吧？果然不是一家人，不进 │ [0.2693, 0.7307] │\n",
       "├─────────────────────────────────┼────────────────────────────────────┼──────────────────┤\n",
       "│ 《互联网黑历史现状》            │ 《你看看》                         │ [0.6498, 0.3502] │\n",
       "└─────────────────────────────────┴────────────────────────────────────┴──────────────────┘\n"
      ]
     },
     "metadata": {},
     "output_type": "display_data"
    },
    {
     "data": {
      "text/html": [
       "<pre style=\"white-space:pre;overflow-x:auto;line-height:normal;font-family:Menlo,'DejaVu Sans Mono',consolas,'Courier New',monospace\">┏━━━━━━━━━━━━━━━━━━━━━━━━━━━━━━━━━┳━━━━━━━━━━━━━━━━━━━━━━━━━━━━━━━━┳━━━━━━━━━━━━━━━━━━┓\n",
       "┃<span style=\"font-weight: bold\"> chosen_text                     </span>┃<span style=\"font-weight: bold\"> rejected_text                  </span>┃<span style=\"font-weight: bold\"> logits           </span>┃\n",
       "┡━━━━━━━━━━━━━━━━━━━━━━━━━━━━━━━━━╇━━━━━━━━━━━━━━━━━━━━━━━━━━━━━━━━╇━━━━━━━━━━━━━━━━━━┩\n",
       "│ 感谢认领.                       │ 公主                           │ [0.7966, 0.2034] │\n",
       "├─────────────────────────────────┼────────────────────────────────┼──────────────────┤\n",
       "│ 感谢认领露思好漂亮              │ 感谢认领美丽露宝~              │ [0.4167, 0.5833] │\n",
       "├─────────────────────────────────┼────────────────────────────────┼──────────────────┤\n",
       "│ 感谢认领露思好漂亮              │ 赵露思好美                     │ [0.4228, 0.5772] │\n",
       "├─────────────────────────────────┼────────────────────────────────┼──────────────────┤\n",
       "│ 杀了那么多人 蛇蝎心肠 还不够死� │ 他很好？很好为什么逮捕她？杀人 │ [0.1642, 0.8358] │\n",
       "└─────────────────────────────────┴────────────────────────────────┴──────────────────┘\n",
       "</pre>\n"
      ],
      "text/plain": [
       "┏━━━━━━━━━━━━━━━━━━━━━━━━━━━━━━━━━┳━━━━━━━━━━━━━━━━━━━━━━━━━━━━━━━━┳━━━━━━━━━━━━━━━━━━┓\n",
       "┃\u001b[1m \u001b[0m\u001b[1mchosen_text                    \u001b[0m\u001b[1m \u001b[0m┃\u001b[1m \u001b[0m\u001b[1mrejected_text                 \u001b[0m\u001b[1m \u001b[0m┃\u001b[1m \u001b[0m\u001b[1mlogits          \u001b[0m\u001b[1m \u001b[0m┃\n",
       "┡━━━━━━━━━━━━━━━━━━━━━━━━━━━━━━━━━╇━━━━━━━━━━━━━━━━━━━━━━━━━━━━━━━━╇━━━━━━━━━━━━━━━━━━┩\n",
       "│ 感谢认领.                       │ 公主                           │ [0.7966, 0.2034] │\n",
       "├─────────────────────────────────┼────────────────────────────────┼──────────────────┤\n",
       "│ 感谢认领露思好漂亮              │ 感谢认领美丽露宝~              │ [0.4167, 0.5833] │\n",
       "├─────────────────────────────────┼────────────────────────────────┼──────────────────┤\n",
       "│ 感谢认领露思好漂亮              │ 赵露思好美                     │ [0.4228, 0.5772] │\n",
       "├─────────────────────────────────┼────────────────────────────────┼──────────────────┤\n",
       "│ 杀了那么多人 蛇蝎心肠 还不够死� │ 他很好？很好为什么逮捕她？杀人 │ [0.1642, 0.8358] │\n",
       "└─────────────────────────────────┴────────────────────────────────┴──────────────────┘\n"
      ]
     },
     "metadata": {},
     "output_type": "display_data"
    },
    {
     "name": "stderr",
     "output_type": "stream",
     "text": [
      "/usr/local/lib/python3.8/dist-packages/transformers/tokenization_utils_base.py:2778: UserWarning: `max_length` is ignored when `padding`=`True` and there is no truncation strategy. To pad to max length, use `padding='max_length'`.\n",
      "  warnings.warn(\n",
      "/usr/local/lib/python3.8/dist-packages/trl/trainer/utils.py:599: UserWarning: There are 22 out of 3451 instances where the predictions for both options are equal. As a consequence the accuracy can be misleading.\n",
      "  warnings.warn(\n",
      "/usr/local/lib/python3.8/dist-packages/transformers/tokenization_utils_base.py:2778: UserWarning: `max_length` is ignored when `padding`=`True` and there is no truncation strategy. To pad to max length, use `padding='max_length'`.\n",
      "  warnings.warn(\n",
      "/usr/local/lib/python3.8/dist-packages/torch/utils/checkpoint.py:464: UserWarning: torch.utils.checkpoint: the use_reentrant parameter should be passed explicitly. In version 2.4 we will raise an exception if use_reentrant is not passed. use_reentrant=False is recommended, but if you need to preserve the current default behavior, you can pass use_reentrant=True. Refer to docs for more details on the differences between the two variants.\n",
      "  warnings.warn(\n",
      "/usr/local/lib/python3.8/dist-packages/torch/utils/checkpoint.py:91: UserWarning: None of the inputs have requires_grad=True. Gradients will be None\n",
      "  warnings.warn(\n"
     ]
    },
    {
     "data": {
      "text/html": [
       "<pre style=\"white-space:pre;overflow-x:auto;line-height:normal;font-family:Menlo,'DejaVu Sans Mono',consolas,'Courier New',monospace\">┏━━━━━━━━━━━━━━━━━━━━━━━━━━━━━━━━━┳━━━━━━━━━━━━━━━━━━━━━━━━━━━━━━━━━━━━┳━━━━━━━━━━━━━━━━━━┓\n",
       "┃<span style=\"font-weight: bold\"> chosen_text                     </span>┃<span style=\"font-weight: bold\"> rejected_text                      </span>┃<span style=\"font-weight: bold\"> logits           </span>┃\n",
       "┡━━━━━━━━━━━━━━━━━━━━━━━━━━━━━━━━━╇━━━━━━━━━━━━━━━━━━━━━━━━━━━━━━━━━━━━╇━━━━━━━━━━━━━━━━━━┩\n",
       "│ 感谢认领.                       │ 公主                               │ [0.6326, 0.3674] │\n",
       "├─────────────────────────────────┼────────────────────────────────────┼──────────────────┤\n",
       "│ 感谢认领露思好漂亮              │ 感谢认领美丽露宝~                  │ [0.6786, 0.3214] │\n",
       "├─────────────────────────────────┼────────────────────────────────────┼──────────────────┤\n",
       "│ 感谢认领露思好漂亮              │ 赵露思好美                         │ [0.6508, 0.3492] │\n",
       "├─────────────────────────────────┼────────────────────────────────────┼──────────────────┤\n",
       "│ 杀了那么多人 蛇蝎心肠 还不够死� │ 他很好？很好为什么逮捕她？杀人     │ [0.2368, 0.7632] │\n",
       "├─────────────────────────────────┼────────────────────────────────────┼──────────────────┤\n",
       "│ 她的辩护律师想通过帮她翻案，    │ 二审维持原判还能上诉吗？           │ [0.3773, 0.6227] │\n",
       "├─────────────────────────────────┼────────────────────────────────────┼──────────────────┤\n",
       "│ 妈的 这个律师有点良心吧 维持原  │ 感谢认领.                          │ [0.4517, 0.5483] │\n",
       "├─────────────────────────────────┼────────────────────────────────────┼──────────────────┤\n",
       "│ 她的辩护律师想通过帮她翻案，    │ 她家人没事吧？果然不是一家人，不进 │ [0.4556, 0.5444] │\n",
       "├─────────────────────────────────┼────────────────────────────────────┼──────────────────┤\n",
       "│ 《互联网黑历史现状》            │ 《你看看》                         │ [0.6483, 0.3517] │\n",
       "└─────────────────────────────────┴────────────────────────────────────┴──────────────────┘\n",
       "</pre>\n"
      ],
      "text/plain": [
       "┏━━━━━━━━━━━━━━━━━━━━━━━━━━━━━━━━━┳━━━━━━━━━━━━━━━━━━━━━━━━━━━━━━━━━━━━┳━━━━━━━━━━━━━━━━━━┓\n",
       "┃\u001b[1m \u001b[0m\u001b[1mchosen_text                    \u001b[0m\u001b[1m \u001b[0m┃\u001b[1m \u001b[0m\u001b[1mrejected_text                     \u001b[0m\u001b[1m \u001b[0m┃\u001b[1m \u001b[0m\u001b[1mlogits          \u001b[0m\u001b[1m \u001b[0m┃\n",
       "┡━━━━━━━━━━━━━━━━━━━━━━━━━━━━━━━━━╇━━━━━━━━━━━━━━━━━━━━━━━━━━━━━━━━━━━━╇━━━━━━━━━━━━━━━━━━┩\n",
       "│ 感谢认领.                       │ 公主                               │ [0.6326, 0.3674] │\n",
       "├─────────────────────────────────┼────────────────────────────────────┼──────────────────┤\n",
       "│ 感谢认领露思好漂亮              │ 感谢认领美丽露宝~                  │ [0.6786, 0.3214] │\n",
       "├─────────────────────────────────┼────────────────────────────────────┼──────────────────┤\n",
       "│ 感谢认领露思好漂亮              │ 赵露思好美                         │ [0.6508, 0.3492] │\n",
       "├─────────────────────────────────┼────────────────────────────────────┼──────────────────┤\n",
       "│ 杀了那么多人 蛇蝎心肠 还不够死� │ 他很好？很好为什么逮捕她？杀人     │ [0.2368, 0.7632] │\n",
       "├─────────────────────────────────┼────────────────────────────────────┼──────────────────┤\n",
       "│ 她的辩护律师想通过帮她翻案，    │ 二审维持原判还能上诉吗？           │ [0.3773, 0.6227] │\n",
       "├─────────────────────────────────┼────────────────────────────────────┼──────────────────┤\n",
       "│ 妈的 这个律师有点良心吧 维持原  │ 感谢认领.                          │ [0.4517, 0.5483] │\n",
       "├─────────────────────────────────┼────────────────────────────────────┼──────────────────┤\n",
       "│ 她的辩护律师想通过帮她翻案，    │ 她家人没事吧？果然不是一家人，不进 │ [0.4556, 0.5444] │\n",
       "├─────────────────────────────────┼────────────────────────────────────┼──────────────────┤\n",
       "│ 《互联网黑历史现状》            │ 《你看看》                         │ [0.6483, 0.3517] │\n",
       "└─────────────────────────────────┴────────────────────────────────────┴──────────────────┘\n"
      ]
     },
     "metadata": {},
     "output_type": "display_data"
    },
    {
     "data": {
      "text/html": [
       "<pre style=\"white-space:pre;overflow-x:auto;line-height:normal;font-family:Menlo,'DejaVu Sans Mono',consolas,'Courier New',monospace\">┏━━━━━━━━━━━━━━━━━━━━━━━━━━━━━━━━━┳━━━━━━━━━━━━━━━━━━━━━━━━━━━━━━━━┳━━━━━━━━━━━━━━━━━━┓\n",
       "┃<span style=\"font-weight: bold\"> chosen_text                     </span>┃<span style=\"font-weight: bold\"> rejected_text                  </span>┃<span style=\"font-weight: bold\"> logits           </span>┃\n",
       "┡━━━━━━━━━━━━━━━━━━━━━━━━━━━━━━━━━╇━━━━━━━━━━━━━━━━━━━━━━━━━━━━━━━━╇━━━━━━━━━━━━━━━━━━┩\n",
       "│ 感谢认领.                       │ 公主                           │ [0.6326, 0.3674] │\n",
       "├─────────────────────────────────┼────────────────────────────────┼──────────────────┤\n",
       "│ 感谢认领露思好漂亮              │ 感谢认领美丽露宝~              │ [0.6786, 0.3214] │\n",
       "├─────────────────────────────────┼────────────────────────────────┼──────────────────┤\n",
       "│ 感谢认领露思好漂亮              │ 赵露思好美                     │ [0.6508, 0.3492] │\n",
       "├─────────────────────────────────┼────────────────────────────────┼──────────────────┤\n",
       "│ 杀了那么多人 蛇蝎心肠 还不够死� │ 他很好？很好为什么逮捕她？杀人 │ [0.2368, 0.7632] │\n",
       "└─────────────────────────────────┴────────────────────────────────┴──────────────────┘\n",
       "</pre>\n"
      ],
      "text/plain": [
       "┏━━━━━━━━━━━━━━━━━━━━━━━━━━━━━━━━━┳━━━━━━━━━━━━━━━━━━━━━━━━━━━━━━━━┳━━━━━━━━━━━━━━━━━━┓\n",
       "┃\u001b[1m \u001b[0m\u001b[1mchosen_text                    \u001b[0m\u001b[1m \u001b[0m┃\u001b[1m \u001b[0m\u001b[1mrejected_text                 \u001b[0m\u001b[1m \u001b[0m┃\u001b[1m \u001b[0m\u001b[1mlogits          \u001b[0m\u001b[1m \u001b[0m┃\n",
       "┡━━━━━━━━━━━━━━━━━━━━━━━━━━━━━━━━━╇━━━━━━━━━━━━━━━━━━━━━━━━━━━━━━━━╇━━━━━━━━━━━━━━━━━━┩\n",
       "│ 感谢认领.                       │ 公主                           │ [0.6326, 0.3674] │\n",
       "├─────────────────────────────────┼────────────────────────────────┼──────────────────┤\n",
       "│ 感谢认领露思好漂亮              │ 感谢认领美丽露宝~              │ [0.6786, 0.3214] │\n",
       "├─────────────────────────────────┼────────────────────────────────┼──────────────────┤\n",
       "│ 感谢认领露思好漂亮              │ 赵露思好美                     │ [0.6508, 0.3492] │\n",
       "├─────────────────────────────────┼────────────────────────────────┼──────────────────┤\n",
       "│ 杀了那么多人 蛇蝎心肠 还不够死� │ 他很好？很好为什么逮捕她？杀人 │ [0.2368, 0.7632] │\n",
       "└─────────────────────────────────┴────────────────────────────────┴──────────────────┘\n"
      ]
     },
     "metadata": {},
     "output_type": "display_data"
    },
    {
     "name": "stderr",
     "output_type": "stream",
     "text": [
      "/usr/local/lib/python3.8/dist-packages/transformers/tokenization_utils_base.py:2778: UserWarning: `max_length` is ignored when `padding`=`True` and there is no truncation strategy. To pad to max length, use `padding='max_length'`.\n",
      "  warnings.warn(\n",
      "/usr/local/lib/python3.8/dist-packages/trl/trainer/utils.py:599: UserWarning: There are 22 out of 3451 instances where the predictions for both options are equal. As a consequence the accuracy can be misleading.\n",
      "  warnings.warn(\n",
      "/usr/local/lib/python3.8/dist-packages/transformers/tokenization_utils_base.py:2778: UserWarning: `max_length` is ignored when `padding`=`True` and there is no truncation strategy. To pad to max length, use `padding='max_length'`.\n",
      "  warnings.warn(\n",
      "/usr/local/lib/python3.8/dist-packages/torch/utils/checkpoint.py:464: UserWarning: torch.utils.checkpoint: the use_reentrant parameter should be passed explicitly. In version 2.4 we will raise an exception if use_reentrant is not passed. use_reentrant=False is recommended, but if you need to preserve the current default behavior, you can pass use_reentrant=True. Refer to docs for more details on the differences between the two variants.\n",
      "  warnings.warn(\n",
      "/usr/local/lib/python3.8/dist-packages/torch/utils/checkpoint.py:91: UserWarning: None of the inputs have requires_grad=True. Gradients will be None\n",
      "  warnings.warn(\n"
     ]
    },
    {
     "data": {
      "text/html": [
       "<pre style=\"white-space:pre;overflow-x:auto;line-height:normal;font-family:Menlo,'DejaVu Sans Mono',consolas,'Courier New',monospace\">┏━━━━━━━━━━━━━━━━━━━━━━━━━━━━━━━━━┳━━━━━━━━━━━━━━━━━━━━━━━━━━━━━━━━━━━━┳━━━━━━━━━━━━━━━━━━┓\n",
       "┃<span style=\"font-weight: bold\"> chosen_text                     </span>┃<span style=\"font-weight: bold\"> rejected_text                      </span>┃<span style=\"font-weight: bold\"> logits           </span>┃\n",
       "┡━━━━━━━━━━━━━━━━━━━━━━━━━━━━━━━━━╇━━━━━━━━━━━━━━━━━━━━━━━━━━━━━━━━━━━━╇━━━━━━━━━━━━━━━━━━┩\n",
       "│ 感谢认领.                       │ 公主                               │ [0.4246, 0.5754] │\n",
       "├─────────────────────────────────┼────────────────────────────────────┼──────────────────┤\n",
       "│ 感谢认领露思好漂亮              │ 感谢认领美丽露宝~                  │ [0.6453, 0.3547] │\n",
       "├─────────────────────────────────┼────────────────────────────────────┼──────────────────┤\n",
       "│ 感谢认领露思好漂亮              │ 赵露思好美                         │ [0.5289, 0.4711] │\n",
       "├─────────────────────────────────┼────────────────────────────────────┼──────────────────┤\n",
       "│ 杀了那么多人 蛇蝎心肠 还不够死� │ 他很好？很好为什么逮捕她？杀人     │ [0.4609, 0.5391] │\n",
       "├─────────────────────────────────┼────────────────────────────────────┼──────────────────┤\n",
       "│ 她的辩护律师想通过帮她翻案，    │ 二审维持原判还能上诉吗？           │ [0.2908, 0.7092] │\n",
       "├─────────────────────────────────┼────────────────────────────────────┼──────────────────┤\n",
       "│ 妈的 这个律师有点良心吧 维持原  │ 感谢认领.                          │ [0.5767, 0.4233] │\n",
       "├─────────────────────────────────┼────────────────────────────────────┼──────────────────┤\n",
       "│ 她的辩护律师想通过帮她翻案，    │ 她家人没事吧？果然不是一家人，不进 │ [0.2656, 0.7344] │\n",
       "├─────────────────────────────────┼────────────────────────────────────┼──────────────────┤\n",
       "│ 《互联网黑历史现状》            │ 《你看看》                         │ [0.6151, 0.3849] │\n",
       "└─────────────────────────────────┴────────────────────────────────────┴──────────────────┘\n",
       "</pre>\n"
      ],
      "text/plain": [
       "┏━━━━━━━━━━━━━━━━━━━━━━━━━━━━━━━━━┳━━━━━━━━━━━━━━━━━━━━━━━━━━━━━━━━━━━━┳━━━━━━━━━━━━━━━━━━┓\n",
       "┃\u001b[1m \u001b[0m\u001b[1mchosen_text                    \u001b[0m\u001b[1m \u001b[0m┃\u001b[1m \u001b[0m\u001b[1mrejected_text                     \u001b[0m\u001b[1m \u001b[0m┃\u001b[1m \u001b[0m\u001b[1mlogits          \u001b[0m\u001b[1m \u001b[0m┃\n",
       "┡━━━━━━━━━━━━━━━━━━━━━━━━━━━━━━━━━╇━━━━━━━━━━━━━━━━━━━━━━━━━━━━━━━━━━━━╇━━━━━━━━━━━━━━━━━━┩\n",
       "│ 感谢认领.                       │ 公主                               │ [0.4246, 0.5754] │\n",
       "├─────────────────────────────────┼────────────────────────────────────┼──────────────────┤\n",
       "│ 感谢认领露思好漂亮              │ 感谢认领美丽露宝~                  │ [0.6453, 0.3547] │\n",
       "├─────────────────────────────────┼────────────────────────────────────┼──────────────────┤\n",
       "│ 感谢认领露思好漂亮              │ 赵露思好美                         │ [0.5289, 0.4711] │\n",
       "├─────────────────────────────────┼────────────────────────────────────┼──────────────────┤\n",
       "│ 杀了那么多人 蛇蝎心肠 还不够死� │ 他很好？很好为什么逮捕她？杀人     │ [0.4609, 0.5391] │\n",
       "├─────────────────────────────────┼────────────────────────────────────┼──────────────────┤\n",
       "│ 她的辩护律师想通过帮她翻案，    │ 二审维持原判还能上诉吗？           │ [0.2908, 0.7092] │\n",
       "├─────────────────────────────────┼────────────────────────────────────┼──────────────────┤\n",
       "│ 妈的 这个律师有点良心吧 维持原  │ 感谢认领.                          │ [0.5767, 0.4233] │\n",
       "├─────────────────────────────────┼────────────────────────────────────┼──────────────────┤\n",
       "│ 她的辩护律师想通过帮她翻案，    │ 她家人没事吧？果然不是一家人，不进 │ [0.2656, 0.7344] │\n",
       "├─────────────────────────────────┼────────────────────────────────────┼──────────────────┤\n",
       "│ 《互联网黑历史现状》            │ 《你看看》                         │ [0.6151, 0.3849] │\n",
       "└─────────────────────────────────┴────────────────────────────────────┴──────────────────┘\n"
      ]
     },
     "metadata": {},
     "output_type": "display_data"
    },
    {
     "data": {
      "text/html": [
       "<pre style=\"white-space:pre;overflow-x:auto;line-height:normal;font-family:Menlo,'DejaVu Sans Mono',consolas,'Courier New',monospace\">┏━━━━━━━━━━━━━━━━━━━━━━━━━━━━━━━━━┳━━━━━━━━━━━━━━━━━━━━━━━━━━━━━━━━┳━━━━━━━━━━━━━━━━━━┓\n",
       "┃<span style=\"font-weight: bold\"> chosen_text                     </span>┃<span style=\"font-weight: bold\"> rejected_text                  </span>┃<span style=\"font-weight: bold\"> logits           </span>┃\n",
       "┡━━━━━━━━━━━━━━━━━━━━━━━━━━━━━━━━━╇━━━━━━━━━━━━━━━━━━━━━━━━━━━━━━━━╇━━━━━━━━━━━━━━━━━━┩\n",
       "│ 感谢认领.                       │ 公主                           │ [0.4246, 0.5754] │\n",
       "├─────────────────────────────────┼────────────────────────────────┼──────────────────┤\n",
       "│ 感谢认领露思好漂亮              │ 感谢认领美丽露宝~              │ [0.6453, 0.3547] │\n",
       "├─────────────────────────────────┼────────────────────────────────┼──────────────────┤\n",
       "│ 感谢认领露思好漂亮              │ 赵露思好美                     │ [0.5289, 0.4711] │\n",
       "├─────────────────────────────────┼────────────────────────────────┼──────────────────┤\n",
       "│ 杀了那么多人 蛇蝎心肠 还不够死� │ 他很好？很好为什么逮捕她？杀人 │ [0.4609, 0.5391] │\n",
       "└─────────────────────────────────┴────────────────────────────────┴──────────────────┘\n",
       "</pre>\n"
      ],
      "text/plain": [
       "┏━━━━━━━━━━━━━━━━━━━━━━━━━━━━━━━━━┳━━━━━━━━━━━━━━━━━━━━━━━━━━━━━━━━┳━━━━━━━━━━━━━━━━━━┓\n",
       "┃\u001b[1m \u001b[0m\u001b[1mchosen_text                    \u001b[0m\u001b[1m \u001b[0m┃\u001b[1m \u001b[0m\u001b[1mrejected_text                 \u001b[0m\u001b[1m \u001b[0m┃\u001b[1m \u001b[0m\u001b[1mlogits          \u001b[0m\u001b[1m \u001b[0m┃\n",
       "┡━━━━━━━━━━━━━━━━━━━━━━━━━━━━━━━━━╇━━━━━━━━━━━━━━━━━━━━━━━━━━━━━━━━╇━━━━━━━━━━━━━━━━━━┩\n",
       "│ 感谢认领.                       │ 公主                           │ [0.4246, 0.5754] │\n",
       "├─────────────────────────────────┼────────────────────────────────┼──────────────────┤\n",
       "│ 感谢认领露思好漂亮              │ 感谢认领美丽露宝~              │ [0.6453, 0.3547] │\n",
       "├─────────────────────────────────┼────────────────────────────────┼──────────────────┤\n",
       "│ 感谢认领露思好漂亮              │ 赵露思好美                     │ [0.5289, 0.4711] │\n",
       "├─────────────────────────────────┼────────────────────────────────┼──────────────────┤\n",
       "│ 杀了那么多人 蛇蝎心肠 还不够死� │ 他很好？很好为什么逮捕她？杀人 │ [0.4609, 0.5391] │\n",
       "└─────────────────────────────────┴────────────────────────────────┴──────────────────┘\n"
      ]
     },
     "metadata": {},
     "output_type": "display_data"
    },
    {
     "name": "stderr",
     "output_type": "stream",
     "text": [
      "/usr/local/lib/python3.8/dist-packages/transformers/tokenization_utils_base.py:2778: UserWarning: `max_length` is ignored when `padding`=`True` and there is no truncation strategy. To pad to max length, use `padding='max_length'`.\n",
      "  warnings.warn(\n",
      "/usr/local/lib/python3.8/dist-packages/trl/trainer/utils.py:599: UserWarning: There are 22 out of 3451 instances where the predictions for both options are equal. As a consequence the accuracy can be misleading.\n",
      "  warnings.warn(\n",
      "/usr/local/lib/python3.8/dist-packages/transformers/tokenization_utils_base.py:2778: UserWarning: `max_length` is ignored when `padding`=`True` and there is no truncation strategy. To pad to max length, use `padding='max_length'`.\n",
      "  warnings.warn(\n",
      "/usr/local/lib/python3.8/dist-packages/torch/utils/checkpoint.py:464: UserWarning: torch.utils.checkpoint: the use_reentrant parameter should be passed explicitly. In version 2.4 we will raise an exception if use_reentrant is not passed. use_reentrant=False is recommended, but if you need to preserve the current default behavior, you can pass use_reentrant=True. Refer to docs for more details on the differences between the two variants.\n",
      "  warnings.warn(\n",
      "/usr/local/lib/python3.8/dist-packages/torch/utils/checkpoint.py:91: UserWarning: None of the inputs have requires_grad=True. Gradients will be None\n",
      "  warnings.warn(\n"
     ]
    },
    {
     "data": {
      "text/html": [
       "<pre style=\"white-space:pre;overflow-x:auto;line-height:normal;font-family:Menlo,'DejaVu Sans Mono',consolas,'Courier New',monospace\">┏━━━━━━━━━━━━━━━━━━━━━━━━━━━━━━━━━┳━━━━━━━━━━━━━━━━━━━━━━━━━━━━━━━━━━━━┳━━━━━━━━━━━━━━━━━━┓\n",
       "┃<span style=\"font-weight: bold\"> chosen_text                     </span>┃<span style=\"font-weight: bold\"> rejected_text                      </span>┃<span style=\"font-weight: bold\"> logits           </span>┃\n",
       "┡━━━━━━━━━━━━━━━━━━━━━━━━━━━━━━━━━╇━━━━━━━━━━━━━━━━━━━━━━━━━━━━━━━━━━━━╇━━━━━━━━━━━━━━━━━━┩\n",
       "│ 感谢认领.                       │ 公主                               │ [0.5916, 0.4084] │\n",
       "├─────────────────────────────────┼────────────────────────────────────┼──────────────────┤\n",
       "│ 感谢认领露思好漂亮              │ 感谢认领美丽露宝~                  │ [0.4866, 0.5134] │\n",
       "├─────────────────────────────────┼────────────────────────────────────┼──────────────────┤\n",
       "│ 感谢认领露思好漂亮              │ 赵露思好美                         │ [0.5691, 0.4309] │\n",
       "├─────────────────────────────────┼────────────────────────────────────┼──────────────────┤\n",
       "│ 杀了那么多人 蛇蝎心肠 还不够死� │ 他很好？很好为什么逮捕她？杀人     │ [0.3836, 0.6164] │\n",
       "├─────────────────────────────────┼────────────────────────────────────┼──────────────────┤\n",
       "│ 她的辩护律师想通过帮她翻案，    │ 二审维持原判还能上诉吗？           │ [0.3501, 0.6499] │\n",
       "├─────────────────────────────────┼────────────────────────────────────┼──────────────────┤\n",
       "│ 妈的 这个律师有点良心吧 维持原  │ 感谢认领.                          │ [0.6214, 0.3786] │\n",
       "├─────────────────────────────────┼────────────────────────────────────┼──────────────────┤\n",
       "│ 她的辩护律师想通过帮她翻案，    │ 她家人没事吧？果然不是一家人，不进 │ [0.5265, 0.4735] │\n",
       "├─────────────────────────────────┼────────────────────────────────────┼──────────────────┤\n",
       "│ 《互联网黑历史现状》            │ 《你看看》                         │ [0.5964, 0.4036] │\n",
       "└─────────────────────────────────┴────────────────────────────────────┴──────────────────┘\n",
       "</pre>\n"
      ],
      "text/plain": [
       "┏━━━━━━━━━━━━━━━━━━━━━━━━━━━━━━━━━┳━━━━━━━━━━━━━━━━━━━━━━━━━━━━━━━━━━━━┳━━━━━━━━━━━━━━━━━━┓\n",
       "┃\u001b[1m \u001b[0m\u001b[1mchosen_text                    \u001b[0m\u001b[1m \u001b[0m┃\u001b[1m \u001b[0m\u001b[1mrejected_text                     \u001b[0m\u001b[1m \u001b[0m┃\u001b[1m \u001b[0m\u001b[1mlogits          \u001b[0m\u001b[1m \u001b[0m┃\n",
       "┡━━━━━━━━━━━━━━━━━━━━━━━━━━━━━━━━━╇━━━━━━━━━━━━━━━━━━━━━━━━━━━━━━━━━━━━╇━━━━━━━━━━━━━━━━━━┩\n",
       "│ 感谢认领.                       │ 公主                               │ [0.5916, 0.4084] │\n",
       "├─────────────────────────────────┼────────────────────────────────────┼──────────────────┤\n",
       "│ 感谢认领露思好漂亮              │ 感谢认领美丽露宝~                  │ [0.4866, 0.5134] │\n",
       "├─────────────────────────────────┼────────────────────────────────────┼──────────────────┤\n",
       "│ 感谢认领露思好漂亮              │ 赵露思好美                         │ [0.5691, 0.4309] │\n",
       "├─────────────────────────────────┼────────────────────────────────────┼──────────────────┤\n",
       "│ 杀了那么多人 蛇蝎心肠 还不够死� │ 他很好？很好为什么逮捕她？杀人     │ [0.3836, 0.6164] │\n",
       "├─────────────────────────────────┼────────────────────────────────────┼──────────────────┤\n",
       "│ 她的辩护律师想通过帮她翻案，    │ 二审维持原判还能上诉吗？           │ [0.3501, 0.6499] │\n",
       "├─────────────────────────────────┼────────────────────────────────────┼──────────────────┤\n",
       "│ 妈的 这个律师有点良心吧 维持原  │ 感谢认领.                          │ [0.6214, 0.3786] │\n",
       "├─────────────────────────────────┼────────────────────────────────────┼──────────────────┤\n",
       "│ 她的辩护律师想通过帮她翻案，    │ 她家人没事吧？果然不是一家人，不进 │ [0.5265, 0.4735] │\n",
       "├─────────────────────────────────┼────────────────────────────────────┼──────────────────┤\n",
       "│ 《互联网黑历史现状》            │ 《你看看》                         │ [0.5964, 0.4036] │\n",
       "└─────────────────────────────────┴────────────────────────────────────┴──────────────────┘\n"
      ]
     },
     "metadata": {},
     "output_type": "display_data"
    },
    {
     "data": {
      "text/html": [
       "<pre style=\"white-space:pre;overflow-x:auto;line-height:normal;font-family:Menlo,'DejaVu Sans Mono',consolas,'Courier New',monospace\">┏━━━━━━━━━━━━━━━━━━━━━━━━━━━━━━━━━┳━━━━━━━━━━━━━━━━━━━━━━━━━━━━━━━━┳━━━━━━━━━━━━━━━━━━┓\n",
       "┃<span style=\"font-weight: bold\"> chosen_text                     </span>┃<span style=\"font-weight: bold\"> rejected_text                  </span>┃<span style=\"font-weight: bold\"> logits           </span>┃\n",
       "┡━━━━━━━━━━━━━━━━━━━━━━━━━━━━━━━━━╇━━━━━━━━━━━━━━━━━━━━━━━━━━━━━━━━╇━━━━━━━━━━━━━━━━━━┩\n",
       "│ 感谢认领.                       │ 公主                           │ [0.5916, 0.4084] │\n",
       "├─────────────────────────────────┼────────────────────────────────┼──────────────────┤\n",
       "│ 感谢认领露思好漂亮              │ 感谢认领美丽露宝~              │ [0.4866, 0.5134] │\n",
       "├─────────────────────────────────┼────────────────────────────────┼──────────────────┤\n",
       "│ 感谢认领露思好漂亮              │ 赵露思好美                     │ [0.5691, 0.4309] │\n",
       "├─────────────────────────────────┼────────────────────────────────┼──────────────────┤\n",
       "│ 杀了那么多人 蛇蝎心肠 还不够死� │ 他很好？很好为什么逮捕她？杀人 │ [0.3836, 0.6164] │\n",
       "└─────────────────────────────────┴────────────────────────────────┴──────────────────┘\n",
       "</pre>\n"
      ],
      "text/plain": [
       "┏━━━━━━━━━━━━━━━━━━━━━━━━━━━━━━━━━┳━━━━━━━━━━━━━━━━━━━━━━━━━━━━━━━━┳━━━━━━━━━━━━━━━━━━┓\n",
       "┃\u001b[1m \u001b[0m\u001b[1mchosen_text                    \u001b[0m\u001b[1m \u001b[0m┃\u001b[1m \u001b[0m\u001b[1mrejected_text                 \u001b[0m\u001b[1m \u001b[0m┃\u001b[1m \u001b[0m\u001b[1mlogits          \u001b[0m\u001b[1m \u001b[0m┃\n",
       "┡━━━━━━━━━━━━━━━━━━━━━━━━━━━━━━━━━╇━━━━━━━━━━━━━━━━━━━━━━━━━━━━━━━━╇━━━━━━━━━━━━━━━━━━┩\n",
       "│ 感谢认领.                       │ 公主                           │ [0.5916, 0.4084] │\n",
       "├─────────────────────────────────┼────────────────────────────────┼──────────────────┤\n",
       "│ 感谢认领露思好漂亮              │ 感谢认领美丽露宝~              │ [0.4866, 0.5134] │\n",
       "├─────────────────────────────────┼────────────────────────────────┼──────────────────┤\n",
       "│ 感谢认领露思好漂亮              │ 赵露思好美                     │ [0.5691, 0.4309] │\n",
       "├─────────────────────────────────┼────────────────────────────────┼──────────────────┤\n",
       "│ 杀了那么多人 蛇蝎心肠 还不够死� │ 他很好？很好为什么逮捕她？杀人 │ [0.3836, 0.6164] │\n",
       "└─────────────────────────────────┴────────────────────────────────┴──────────────────┘\n"
      ]
     },
     "metadata": {},
     "output_type": "display_data"
    },
    {
     "name": "stderr",
     "output_type": "stream",
     "text": [
      "/usr/local/lib/python3.8/dist-packages/transformers/tokenization_utils_base.py:2778: UserWarning: `max_length` is ignored when `padding`=`True` and there is no truncation strategy. To pad to max length, use `padding='max_length'`.\n",
      "  warnings.warn(\n",
      "/usr/local/lib/python3.8/dist-packages/trl/trainer/utils.py:599: UserWarning: There are 22 out of 3451 instances where the predictions for both options are equal. As a consequence the accuracy can be misleading.\n",
      "  warnings.warn(\n",
      "/usr/local/lib/python3.8/dist-packages/transformers/tokenization_utils_base.py:2778: UserWarning: `max_length` is ignored when `padding`=`True` and there is no truncation strategy. To pad to max length, use `padding='max_length'`.\n",
      "  warnings.warn(\n",
      "/usr/local/lib/python3.8/dist-packages/torch/utils/checkpoint.py:464: UserWarning: torch.utils.checkpoint: the use_reentrant parameter should be passed explicitly. In version 2.4 we will raise an exception if use_reentrant is not passed. use_reentrant=False is recommended, but if you need to preserve the current default behavior, you can pass use_reentrant=True. Refer to docs for more details on the differences between the two variants.\n",
      "  warnings.warn(\n",
      "/usr/local/lib/python3.8/dist-packages/torch/utils/checkpoint.py:91: UserWarning: None of the inputs have requires_grad=True. Gradients will be None\n",
      "  warnings.warn(\n"
     ]
    },
    {
     "data": {
      "text/html": [
       "<pre style=\"white-space:pre;overflow-x:auto;line-height:normal;font-family:Menlo,'DejaVu Sans Mono',consolas,'Courier New',monospace\">┏━━━━━━━━━━━━━━━━━━━━━━━━━━━━━━━━━┳━━━━━━━━━━━━━━━━━━━━━━━━━━━━━━━━━━━━┳━━━━━━━━━━━━━━━━━━┓\n",
       "┃<span style=\"font-weight: bold\"> chosen_text                     </span>┃<span style=\"font-weight: bold\"> rejected_text                      </span>┃<span style=\"font-weight: bold\"> logits           </span>┃\n",
       "┡━━━━━━━━━━━━━━━━━━━━━━━━━━━━━━━━━╇━━━━━━━━━━━━━━━━━━━━━━━━━━━━━━━━━━━━╇━━━━━━━━━━━━━━━━━━┩\n",
       "│ 感谢认领.                       │ 公主                               │ [0.6369, 0.3631] │\n",
       "├─────────────────────────────────┼────────────────────────────────────┼──────────────────┤\n",
       "│ 感谢认领露思好漂亮              │ 感谢认领美丽露宝~                  │ [0.4868, 0.5132] │\n",
       "├─────────────────────────────────┼────────────────────────────────────┼──────────────────┤\n",
       "│ 感谢认领露思好漂亮              │ 赵露思好美                         │ [0.3738, 0.6262] │\n",
       "├─────────────────────────────────┼────────────────────────────────────┼──────────────────┤\n",
       "│ 杀了那么多人 蛇蝎心肠 还不够死� │ 他很好？很好为什么逮捕她？杀人     │ [0.1174, 0.8826] │\n",
       "├─────────────────────────────────┼────────────────────────────────────┼──────────────────┤\n",
       "│ 她的辩护律师想通过帮她翻案，    │ 二审维持原判还能上诉吗？           │ [0.3689, 0.6311] │\n",
       "├─────────────────────────────────┼────────────────────────────────────┼──────────────────┤\n",
       "│ 妈的 这个律师有点良心吧 维持原  │ 感谢认领.                          │ [0.4817, 0.5183] │\n",
       "├─────────────────────────────────┼────────────────────────────────────┼──────────────────┤\n",
       "│ 她的辩护律师想通过帮她翻案，    │ 她家人没事吧？果然不是一家人，不进 │ [0.3199, 0.6801] │\n",
       "├─────────────────────────────────┼────────────────────────────────────┼──────────────────┤\n",
       "│ 《互联网黑历史现状》            │ 《你看看》                         │ [0.5329, 0.4671] │\n",
       "└─────────────────────────────────┴────────────────────────────────────┴──────────────────┘\n",
       "</pre>\n"
      ],
      "text/plain": [
       "┏━━━━━━━━━━━━━━━━━━━━━━━━━━━━━━━━━┳━━━━━━━━━━━━━━━━━━━━━━━━━━━━━━━━━━━━┳━━━━━━━━━━━━━━━━━━┓\n",
       "┃\u001b[1m \u001b[0m\u001b[1mchosen_text                    \u001b[0m\u001b[1m \u001b[0m┃\u001b[1m \u001b[0m\u001b[1mrejected_text                     \u001b[0m\u001b[1m \u001b[0m┃\u001b[1m \u001b[0m\u001b[1mlogits          \u001b[0m\u001b[1m \u001b[0m┃\n",
       "┡━━━━━━━━━━━━━━━━━━━━━━━━━━━━━━━━━╇━━━━━━━━━━━━━━━━━━━━━━━━━━━━━━━━━━━━╇━━━━━━━━━━━━━━━━━━┩\n",
       "│ 感谢认领.                       │ 公主                               │ [0.6369, 0.3631] │\n",
       "├─────────────────────────────────┼────────────────────────────────────┼──────────────────┤\n",
       "│ 感谢认领露思好漂亮              │ 感谢认领美丽露宝~                  │ [0.4868, 0.5132] │\n",
       "├─────────────────────────────────┼────────────────────────────────────┼──────────────────┤\n",
       "│ 感谢认领露思好漂亮              │ 赵露思好美                         │ [0.3738, 0.6262] │\n",
       "├─────────────────────────────────┼────────────────────────────────────┼──────────────────┤\n",
       "│ 杀了那么多人 蛇蝎心肠 还不够死� │ 他很好？很好为什么逮捕她？杀人     │ [0.1174, 0.8826] │\n",
       "├─────────────────────────────────┼────────────────────────────────────┼──────────────────┤\n",
       "│ 她的辩护律师想通过帮她翻案，    │ 二审维持原判还能上诉吗？           │ [0.3689, 0.6311] │\n",
       "├─────────────────────────────────┼────────────────────────────────────┼──────────────────┤\n",
       "│ 妈的 这个律师有点良心吧 维持原  │ 感谢认领.                          │ [0.4817, 0.5183] │\n",
       "├─────────────────────────────────┼────────────────────────────────────┼──────────────────┤\n",
       "│ 她的辩护律师想通过帮她翻案，    │ 她家人没事吧？果然不是一家人，不进 │ [0.3199, 0.6801] │\n",
       "├─────────────────────────────────┼────────────────────────────────────┼──────────────────┤\n",
       "│ 《互联网黑历史现状》            │ 《你看看》                         │ [0.5329, 0.4671] │\n",
       "└─────────────────────────────────┴────────────────────────────────────┴──────────────────┘\n"
      ]
     },
     "metadata": {},
     "output_type": "display_data"
    },
    {
     "data": {
      "text/html": [
       "<pre style=\"white-space:pre;overflow-x:auto;line-height:normal;font-family:Menlo,'DejaVu Sans Mono',consolas,'Courier New',monospace\">┏━━━━━━━━━━━━━━━━━━━━━━━━━━━━━━━━━┳━━━━━━━━━━━━━━━━━━━━━━━━━━━━━━━━┳━━━━━━━━━━━━━━━━━━┓\n",
       "┃<span style=\"font-weight: bold\"> chosen_text                     </span>┃<span style=\"font-weight: bold\"> rejected_text                  </span>┃<span style=\"font-weight: bold\"> logits           </span>┃\n",
       "┡━━━━━━━━━━━━━━━━━━━━━━━━━━━━━━━━━╇━━━━━━━━━━━━━━━━━━━━━━━━━━━━━━━━╇━━━━━━━━━━━━━━━━━━┩\n",
       "│ 感谢认领.                       │ 公主                           │ [0.6369, 0.3631] │\n",
       "├─────────────────────────────────┼────────────────────────────────┼──────────────────┤\n",
       "│ 感谢认领露思好漂亮              │ 感谢认领美丽露宝~              │ [0.4868, 0.5132] │\n",
       "├─────────────────────────────────┼────────────────────────────────┼──────────────────┤\n",
       "│ 感谢认领露思好漂亮              │ 赵露思好美                     │ [0.3738, 0.6262] │\n",
       "├─────────────────────────────────┼────────────────────────────────┼──────────────────┤\n",
       "│ 杀了那么多人 蛇蝎心肠 还不够死� │ 他很好？很好为什么逮捕她？杀人 │ [0.1174, 0.8826] │\n",
       "└─────────────────────────────────┴────────────────────────────────┴──────────────────┘\n",
       "</pre>\n"
      ],
      "text/plain": [
       "┏━━━━━━━━━━━━━━━━━━━━━━━━━━━━━━━━━┳━━━━━━━━━━━━━━━━━━━━━━━━━━━━━━━━┳━━━━━━━━━━━━━━━━━━┓\n",
       "┃\u001b[1m \u001b[0m\u001b[1mchosen_text                    \u001b[0m\u001b[1m \u001b[0m┃\u001b[1m \u001b[0m\u001b[1mrejected_text                 \u001b[0m\u001b[1m \u001b[0m┃\u001b[1m \u001b[0m\u001b[1mlogits          \u001b[0m\u001b[1m \u001b[0m┃\n",
       "┡━━━━━━━━━━━━━━━━━━━━━━━━━━━━━━━━━╇━━━━━━━━━━━━━━━━━━━━━━━━━━━━━━━━╇━━━━━━━━━━━━━━━━━━┩\n",
       "│ 感谢认领.                       │ 公主                           │ [0.6369, 0.3631] │\n",
       "├─────────────────────────────────┼────────────────────────────────┼──────────────────┤\n",
       "│ 感谢认领露思好漂亮              │ 感谢认领美丽露宝~              │ [0.4868, 0.5132] │\n",
       "├─────────────────────────────────┼────────────────────────────────┼──────────────────┤\n",
       "│ 感谢认领露思好漂亮              │ 赵露思好美                     │ [0.3738, 0.6262] │\n",
       "├─────────────────────────────────┼────────────────────────────────┼──────────────────┤\n",
       "│ 杀了那么多人 蛇蝎心肠 还不够死� │ 他很好？很好为什么逮捕她？杀人 │ [0.1174, 0.8826] │\n",
       "└─────────────────────────────────┴────────────────────────────────┴──────────────────┘\n"
      ]
     },
     "metadata": {},
     "output_type": "display_data"
    },
    {
     "name": "stderr",
     "output_type": "stream",
     "text": [
      "/usr/local/lib/python3.8/dist-packages/transformers/tokenization_utils_base.py:2778: UserWarning: `max_length` is ignored when `padding`=`True` and there is no truncation strategy. To pad to max length, use `padding='max_length'`.\n",
      "  warnings.warn(\n",
      "/usr/local/lib/python3.8/dist-packages/trl/trainer/utils.py:599: UserWarning: There are 22 out of 3451 instances where the predictions for both options are equal. As a consequence the accuracy can be misleading.\n",
      "  warnings.warn(\n",
      "/usr/local/lib/python3.8/dist-packages/transformers/tokenization_utils_base.py:2778: UserWarning: `max_length` is ignored when `padding`=`True` and there is no truncation strategy. To pad to max length, use `padding='max_length'`.\n",
      "  warnings.warn(\n",
      "/usr/local/lib/python3.8/dist-packages/torch/utils/checkpoint.py:464: UserWarning: torch.utils.checkpoint: the use_reentrant parameter should be passed explicitly. In version 2.4 we will raise an exception if use_reentrant is not passed. use_reentrant=False is recommended, but if you need to preserve the current default behavior, you can pass use_reentrant=True. Refer to docs for more details on the differences between the two variants.\n",
      "  warnings.warn(\n",
      "/usr/local/lib/python3.8/dist-packages/torch/utils/checkpoint.py:91: UserWarning: None of the inputs have requires_grad=True. Gradients will be None\n",
      "  warnings.warn(\n"
     ]
    },
    {
     "data": {
      "text/html": [
       "<pre style=\"white-space:pre;overflow-x:auto;line-height:normal;font-family:Menlo,'DejaVu Sans Mono',consolas,'Courier New',monospace\">┏━━━━━━━━━━━━━━━━━━━━━━━━━━━━━━━━━┳━━━━━━━━━━━━━━━━━━━━━━━━━━━━━━━━━━━━┳━━━━━━━━━━━━━━━━━━┓\n",
       "┃<span style=\"font-weight: bold\"> chosen_text                     </span>┃<span style=\"font-weight: bold\"> rejected_text                      </span>┃<span style=\"font-weight: bold\"> logits           </span>┃\n",
       "┡━━━━━━━━━━━━━━━━━━━━━━━━━━━━━━━━━╇━━━━━━━━━━━━━━━━━━━━━━━━━━━━━━━━━━━━╇━━━━━━━━━━━━━━━━━━┩\n",
       "│ 感谢认领.                       │ 公主                               │ [0.6667, 0.3333] │\n",
       "├─────────────────────────────────┼────────────────────────────────────┼──────────────────┤\n",
       "│ 感谢认领露思好漂亮              │ 感谢认领美丽露宝~                  │ [0.5471, 0.4529] │\n",
       "├─────────────────────────────────┼────────────────────────────────────┼──────────────────┤\n",
       "│ 感谢认领露思好漂亮              │ 赵露思好美                         │ [0.5056, 0.4944] │\n",
       "├─────────────────────────────────┼────────────────────────────────────┼──────────────────┤\n",
       "│ 杀了那么多人 蛇蝎心肠 还不够死� │ 他很好？很好为什么逮捕她？杀人     │ [0.1909, 0.8091] │\n",
       "├─────────────────────────────────┼────────────────────────────────────┼──────────────────┤\n",
       "│ 她的辩护律师想通过帮她翻案，    │ 二审维持原判还能上诉吗？           │ [0.3334, 0.6666] │\n",
       "├─────────────────────────────────┼────────────────────────────────────┼──────────────────┤\n",
       "│ 妈的 这个律师有点良心吧 维持原  │ 感谢认领.                          │ [0.5382, 0.4618] │\n",
       "├─────────────────────────────────┼────────────────────────────────────┼──────────────────┤\n",
       "│ 她的辩护律师想通过帮她翻案，    │ 她家人没事吧？果然不是一家人，不进 │ [0.4983, 0.5017] │\n",
       "├─────────────────────────────────┼────────────────────────────────────┼──────────────────┤\n",
       "│ 《互联网黑历史现状》            │ 《你看看》                         │ [0.6785, 0.3215] │\n",
       "└─────────────────────────────────┴────────────────────────────────────┴──────────────────┘\n",
       "</pre>\n"
      ],
      "text/plain": [
       "┏━━━━━━━━━━━━━━━━━━━━━━━━━━━━━━━━━┳━━━━━━━━━━━━━━━━━━━━━━━━━━━━━━━━━━━━┳━━━━━━━━━━━━━━━━━━┓\n",
       "┃\u001b[1m \u001b[0m\u001b[1mchosen_text                    \u001b[0m\u001b[1m \u001b[0m┃\u001b[1m \u001b[0m\u001b[1mrejected_text                     \u001b[0m\u001b[1m \u001b[0m┃\u001b[1m \u001b[0m\u001b[1mlogits          \u001b[0m\u001b[1m \u001b[0m┃\n",
       "┡━━━━━━━━━━━━━━━━━━━━━━━━━━━━━━━━━╇━━━━━━━━━━━━━━━━━━━━━━━━━━━━━━━━━━━━╇━━━━━━━━━━━━━━━━━━┩\n",
       "│ 感谢认领.                       │ 公主                               │ [0.6667, 0.3333] │\n",
       "├─────────────────────────────────┼────────────────────────────────────┼──────────────────┤\n",
       "│ 感谢认领露思好漂亮              │ 感谢认领美丽露宝~                  │ [0.5471, 0.4529] │\n",
       "├─────────────────────────────────┼────────────────────────────────────┼──────────────────┤\n",
       "│ 感谢认领露思好漂亮              │ 赵露思好美                         │ [0.5056, 0.4944] │\n",
       "├─────────────────────────────────┼────────────────────────────────────┼──────────────────┤\n",
       "│ 杀了那么多人 蛇蝎心肠 还不够死� │ 他很好？很好为什么逮捕她？杀人     │ [0.1909, 0.8091] │\n",
       "├─────────────────────────────────┼────────────────────────────────────┼──────────────────┤\n",
       "│ 她的辩护律师想通过帮她翻案，    │ 二审维持原判还能上诉吗？           │ [0.3334, 0.6666] │\n",
       "├─────────────────────────────────┼────────────────────────────────────┼──────────────────┤\n",
       "│ 妈的 这个律师有点良心吧 维持原  │ 感谢认领.                          │ [0.5382, 0.4618] │\n",
       "├─────────────────────────────────┼────────────────────────────────────┼──────────────────┤\n",
       "│ 她的辩护律师想通过帮她翻案，    │ 她家人没事吧？果然不是一家人，不进 │ [0.4983, 0.5017] │\n",
       "├─────────────────────────────────┼────────────────────────────────────┼──────────────────┤\n",
       "│ 《互联网黑历史现状》            │ 《你看看》                         │ [0.6785, 0.3215] │\n",
       "└─────────────────────────────────┴────────────────────────────────────┴──────────────────┘\n"
      ]
     },
     "metadata": {},
     "output_type": "display_data"
    },
    {
     "data": {
      "text/html": [
       "<pre style=\"white-space:pre;overflow-x:auto;line-height:normal;font-family:Menlo,'DejaVu Sans Mono',consolas,'Courier New',monospace\">┏━━━━━━━━━━━━━━━━━━━━━━━━━━━━━━━━━┳━━━━━━━━━━━━━━━━━━━━━━━━━━━━━━━━┳━━━━━━━━━━━━━━━━━━┓\n",
       "┃<span style=\"font-weight: bold\"> chosen_text                     </span>┃<span style=\"font-weight: bold\"> rejected_text                  </span>┃<span style=\"font-weight: bold\"> logits           </span>┃\n",
       "┡━━━━━━━━━━━━━━━━━━━━━━━━━━━━━━━━━╇━━━━━━━━━━━━━━━━━━━━━━━━━━━━━━━━╇━━━━━━━━━━━━━━━━━━┩\n",
       "│ 感谢认领.                       │ 公主                           │ [0.6667, 0.3333] │\n",
       "├─────────────────────────────────┼────────────────────────────────┼──────────────────┤\n",
       "│ 感谢认领露思好漂亮              │ 感谢认领美丽露宝~              │ [0.5471, 0.4529] │\n",
       "├─────────────────────────────────┼────────────────────────────────┼──────────────────┤\n",
       "│ 感谢认领露思好漂亮              │ 赵露思好美                     │ [0.5056, 0.4944] │\n",
       "├─────────────────────────────────┼────────────────────────────────┼──────────────────┤\n",
       "│ 杀了那么多人 蛇蝎心肠 还不够死� │ 他很好？很好为什么逮捕她？杀人 │ [0.1909, 0.8091] │\n",
       "└─────────────────────────────────┴────────────────────────────────┴──────────────────┘\n",
       "</pre>\n"
      ],
      "text/plain": [
       "┏━━━━━━━━━━━━━━━━━━━━━━━━━━━━━━━━━┳━━━━━━━━━━━━━━━━━━━━━━━━━━━━━━━━┳━━━━━━━━━━━━━━━━━━┓\n",
       "┃\u001b[1m \u001b[0m\u001b[1mchosen_text                    \u001b[0m\u001b[1m \u001b[0m┃\u001b[1m \u001b[0m\u001b[1mrejected_text                 \u001b[0m\u001b[1m \u001b[0m┃\u001b[1m \u001b[0m\u001b[1mlogits          \u001b[0m\u001b[1m \u001b[0m┃\n",
       "┡━━━━━━━━━━━━━━━━━━━━━━━━━━━━━━━━━╇━━━━━━━━━━━━━━━━━━━━━━━━━━━━━━━━╇━━━━━━━━━━━━━━━━━━┩\n",
       "│ 感谢认领.                       │ 公主                           │ [0.6667, 0.3333] │\n",
       "├─────────────────────────────────┼────────────────────────────────┼──────────────────┤\n",
       "│ 感谢认领露思好漂亮              │ 感谢认领美丽露宝~              │ [0.5471, 0.4529] │\n",
       "├─────────────────────────────────┼────────────────────────────────┼──────────────────┤\n",
       "│ 感谢认领露思好漂亮              │ 赵露思好美                     │ [0.5056, 0.4944] │\n",
       "├─────────────────────────────────┼────────────────────────────────┼──────────────────┤\n",
       "│ 杀了那么多人 蛇蝎心肠 还不够死� │ 他很好？很好为什么逮捕她？杀人 │ [0.1909, 0.8091] │\n",
       "└─────────────────────────────────┴────────────────────────────────┴──────────────────┘\n"
      ]
     },
     "metadata": {},
     "output_type": "display_data"
    },
    {
     "name": "stderr",
     "output_type": "stream",
     "text": [
      "/usr/local/lib/python3.8/dist-packages/transformers/tokenization_utils_base.py:2778: UserWarning: `max_length` is ignored when `padding`=`True` and there is no truncation strategy. To pad to max length, use `padding='max_length'`.\n",
      "  warnings.warn(\n",
      "/usr/local/lib/python3.8/dist-packages/trl/trainer/utils.py:599: UserWarning: There are 22 out of 3451 instances where the predictions for both options are equal. As a consequence the accuracy can be misleading.\n",
      "  warnings.warn(\n",
      "/usr/local/lib/python3.8/dist-packages/transformers/tokenization_utils_base.py:2778: UserWarning: `max_length` is ignored when `padding`=`True` and there is no truncation strategy. To pad to max length, use `padding='max_length'`.\n",
      "  warnings.warn(\n",
      "/usr/local/lib/python3.8/dist-packages/torch/utils/checkpoint.py:464: UserWarning: torch.utils.checkpoint: the use_reentrant parameter should be passed explicitly. In version 2.4 we will raise an exception if use_reentrant is not passed. use_reentrant=False is recommended, but if you need to preserve the current default behavior, you can pass use_reentrant=True. Refer to docs for more details on the differences between the two variants.\n",
      "  warnings.warn(\n",
      "/usr/local/lib/python3.8/dist-packages/torch/utils/checkpoint.py:91: UserWarning: None of the inputs have requires_grad=True. Gradients will be None\n",
      "  warnings.warn(\n"
     ]
    },
    {
     "data": {
      "text/html": [
       "<pre style=\"white-space:pre;overflow-x:auto;line-height:normal;font-family:Menlo,'DejaVu Sans Mono',consolas,'Courier New',monospace\">┏━━━━━━━━━━━━━━━━━━━━━━━━━━━━━━━━━┳━━━━━━━━━━━━━━━━━━━━━━━━━━━━━━━━━━━━┳━━━━━━━━━━━━━━━━━━┓\n",
       "┃<span style=\"font-weight: bold\"> chosen_text                     </span>┃<span style=\"font-weight: bold\"> rejected_text                      </span>┃<span style=\"font-weight: bold\"> logits           </span>┃\n",
       "┡━━━━━━━━━━━━━━━━━━━━━━━━━━━━━━━━━╇━━━━━━━━━━━━━━━━━━━━━━━━━━━━━━━━━━━━╇━━━━━━━━━━━━━━━━━━┩\n",
       "│ 感谢认领.                       │ 公主                               │ [0.8616, 0.1384] │\n",
       "├─────────────────────────────────┼────────────────────────────────────┼──────────────────┤\n",
       "│ 感谢认领露思好漂亮              │ 感谢认领美丽露宝~                  │ [0.5428, 0.4572] │\n",
       "├─────────────────────────────────┼────────────────────────────────────┼──────────────────┤\n",
       "│ 感谢认领露思好漂亮              │ 赵露思好美                         │ [0.5852, 0.4148] │\n",
       "├─────────────────────────────────┼────────────────────────────────────┼──────────────────┤\n",
       "│ 杀了那么多人 蛇蝎心肠 还不够死� │ 他很好？很好为什么逮捕她？杀人     │ [0.2325, 0.7675] │\n",
       "├─────────────────────────────────┼────────────────────────────────────┼──────────────────┤\n",
       "│ 她的辩护律师想通过帮她翻案，    │ 二审维持原判还能上诉吗？           │ [0.5156, 0.4844] │\n",
       "├─────────────────────────────────┼────────────────────────────────────┼──────────────────┤\n",
       "│ 妈的 这个律师有点良心吧 维持原  │ 感谢认领.                          │ [0.6024, 0.3976] │\n",
       "├─────────────────────────────────┼────────────────────────────────────┼──────────────────┤\n",
       "│ 她的辩护律师想通过帮她翻案，    │ 她家人没事吧？果然不是一家人，不进 │ [0.4932, 0.5068] │\n",
       "├─────────────────────────────────┼────────────────────────────────────┼──────────────────┤\n",
       "│ 《互联网黑历史现状》            │ 《你看看》                         │ [0.7189, 0.2811] │\n",
       "└─────────────────────────────────┴────────────────────────────────────┴──────────────────┘\n",
       "</pre>\n"
      ],
      "text/plain": [
       "┏━━━━━━━━━━━━━━━━━━━━━━━━━━━━━━━━━┳━━━━━━━━━━━━━━━━━━━━━━━━━━━━━━━━━━━━┳━━━━━━━━━━━━━━━━━━┓\n",
       "┃\u001b[1m \u001b[0m\u001b[1mchosen_text                    \u001b[0m\u001b[1m \u001b[0m┃\u001b[1m \u001b[0m\u001b[1mrejected_text                     \u001b[0m\u001b[1m \u001b[0m┃\u001b[1m \u001b[0m\u001b[1mlogits          \u001b[0m\u001b[1m \u001b[0m┃\n",
       "┡━━━━━━━━━━━━━━━━━━━━━━━━━━━━━━━━━╇━━━━━━━━━━━━━━━━━━━━━━━━━━━━━━━━━━━━╇━━━━━━━━━━━━━━━━━━┩\n",
       "│ 感谢认领.                       │ 公主                               │ [0.8616, 0.1384] │\n",
       "├─────────────────────────────────┼────────────────────────────────────┼──────────────────┤\n",
       "│ 感谢认领露思好漂亮              │ 感谢认领美丽露宝~                  │ [0.5428, 0.4572] │\n",
       "├─────────────────────────────────┼────────────────────────────────────┼──────────────────┤\n",
       "│ 感谢认领露思好漂亮              │ 赵露思好美                         │ [0.5852, 0.4148] │\n",
       "├─────────────────────────────────┼────────────────────────────────────┼──────────────────┤\n",
       "│ 杀了那么多人 蛇蝎心肠 还不够死� │ 他很好？很好为什么逮捕她？杀人     │ [0.2325, 0.7675] │\n",
       "├─────────────────────────────────┼────────────────────────────────────┼──────────────────┤\n",
       "│ 她的辩护律师想通过帮她翻案，    │ 二审维持原判还能上诉吗？           │ [0.5156, 0.4844] │\n",
       "├─────────────────────────────────┼────────────────────────────────────┼──────────────────┤\n",
       "│ 妈的 这个律师有点良心吧 维持原  │ 感谢认领.                          │ [0.6024, 0.3976] │\n",
       "├─────────────────────────────────┼────────────────────────────────────┼──────────────────┤\n",
       "│ 她的辩护律师想通过帮她翻案，    │ 她家人没事吧？果然不是一家人，不进 │ [0.4932, 0.5068] │\n",
       "├─────────────────────────────────┼────────────────────────────────────┼──────────────────┤\n",
       "│ 《互联网黑历史现状》            │ 《你看看》                         │ [0.7189, 0.2811] │\n",
       "└─────────────────────────────────┴────────────────────────────────────┴──────────────────┘\n"
      ]
     },
     "metadata": {},
     "output_type": "display_data"
    },
    {
     "data": {
      "text/html": [
       "<pre style=\"white-space:pre;overflow-x:auto;line-height:normal;font-family:Menlo,'DejaVu Sans Mono',consolas,'Courier New',monospace\">┏━━━━━━━━━━━━━━━━━━━━━━━━━━━━━━━━━┳━━━━━━━━━━━━━━━━━━━━━━━━━━━━━━━━┳━━━━━━━━━━━━━━━━━━┓\n",
       "┃<span style=\"font-weight: bold\"> chosen_text                     </span>┃<span style=\"font-weight: bold\"> rejected_text                  </span>┃<span style=\"font-weight: bold\"> logits           </span>┃\n",
       "┡━━━━━━━━━━━━━━━━━━━━━━━━━━━━━━━━━╇━━━━━━━━━━━━━━━━━━━━━━━━━━━━━━━━╇━━━━━━━━━━━━━━━━━━┩\n",
       "│ 感谢认领.                       │ 公主                           │ [0.8616, 0.1384] │\n",
       "├─────────────────────────────────┼────────────────────────────────┼──────────────────┤\n",
       "│ 感谢认领露思好漂亮              │ 感谢认领美丽露宝~              │ [0.5428, 0.4572] │\n",
       "├─────────────────────────────────┼────────────────────────────────┼──────────────────┤\n",
       "│ 感谢认领露思好漂亮              │ 赵露思好美                     │ [0.5852, 0.4148] │\n",
       "├─────────────────────────────────┼────────────────────────────────┼──────────────────┤\n",
       "│ 杀了那么多人 蛇蝎心肠 还不够死� │ 他很好？很好为什么逮捕她？杀人 │ [0.2325, 0.7675] │\n",
       "└─────────────────────────────────┴────────────────────────────────┴──────────────────┘\n",
       "</pre>\n"
      ],
      "text/plain": [
       "┏━━━━━━━━━━━━━━━━━━━━━━━━━━━━━━━━━┳━━━━━━━━━━━━━━━━━━━━━━━━━━━━━━━━┳━━━━━━━━━━━━━━━━━━┓\n",
       "┃\u001b[1m \u001b[0m\u001b[1mchosen_text                    \u001b[0m\u001b[1m \u001b[0m┃\u001b[1m \u001b[0m\u001b[1mrejected_text                 \u001b[0m\u001b[1m \u001b[0m┃\u001b[1m \u001b[0m\u001b[1mlogits          \u001b[0m\u001b[1m \u001b[0m┃\n",
       "┡━━━━━━━━━━━━━━━━━━━━━━━━━━━━━━━━━╇━━━━━━━━━━━━━━━━━━━━━━━━━━━━━━━━╇━━━━━━━━━━━━━━━━━━┩\n",
       "│ 感谢认领.                       │ 公主                           │ [0.8616, 0.1384] │\n",
       "├─────────────────────────────────┼────────────────────────────────┼──────────────────┤\n",
       "│ 感谢认领露思好漂亮              │ 感谢认领美丽露宝~              │ [0.5428, 0.4572] │\n",
       "├─────────────────────────────────┼────────────────────────────────┼──────────────────┤\n",
       "│ 感谢认领露思好漂亮              │ 赵露思好美                     │ [0.5852, 0.4148] │\n",
       "├─────────────────────────────────┼────────────────────────────────┼──────────────────┤\n",
       "│ 杀了那么多人 蛇蝎心肠 还不够死� │ 他很好？很好为什么逮捕她？杀人 │ [0.2325, 0.7675] │\n",
       "└─────────────────────────────────┴────────────────────────────────┴──────────────────┘\n"
      ]
     },
     "metadata": {},
     "output_type": "display_data"
    },
    {
     "name": "stderr",
     "output_type": "stream",
     "text": [
      "/usr/local/lib/python3.8/dist-packages/transformers/tokenization_utils_base.py:2778: UserWarning: `max_length` is ignored when `padding`=`True` and there is no truncation strategy. To pad to max length, use `padding='max_length'`.\n",
      "  warnings.warn(\n",
      "/usr/local/lib/python3.8/dist-packages/trl/trainer/utils.py:599: UserWarning: There are 22 out of 3451 instances where the predictions for both options are equal. As a consequence the accuracy can be misleading.\n",
      "  warnings.warn(\n",
      "/usr/local/lib/python3.8/dist-packages/transformers/tokenization_utils_base.py:2778: UserWarning: `max_length` is ignored when `padding`=`True` and there is no truncation strategy. To pad to max length, use `padding='max_length'`.\n",
      "  warnings.warn(\n",
      "/usr/local/lib/python3.8/dist-packages/torch/utils/checkpoint.py:464: UserWarning: torch.utils.checkpoint: the use_reentrant parameter should be passed explicitly. In version 2.4 we will raise an exception if use_reentrant is not passed. use_reentrant=False is recommended, but if you need to preserve the current default behavior, you can pass use_reentrant=True. Refer to docs for more details on the differences between the two variants.\n",
      "  warnings.warn(\n",
      "/usr/local/lib/python3.8/dist-packages/torch/utils/checkpoint.py:91: UserWarning: None of the inputs have requires_grad=True. Gradients will be None\n",
      "  warnings.warn(\n"
     ]
    },
    {
     "data": {
      "text/html": [
       "<pre style=\"white-space:pre;overflow-x:auto;line-height:normal;font-family:Menlo,'DejaVu Sans Mono',consolas,'Courier New',monospace\">┏━━━━━━━━━━━━━━━━━━━━━━━━━━━━━━━━━┳━━━━━━━━━━━━━━━━━━━━━━━━━━━━━━━━━━━━┳━━━━━━━━━━━━━━━━━━┓\n",
       "┃<span style=\"font-weight: bold\"> chosen_text                     </span>┃<span style=\"font-weight: bold\"> rejected_text                      </span>┃<span style=\"font-weight: bold\"> logits           </span>┃\n",
       "┡━━━━━━━━━━━━━━━━━━━━━━━━━━━━━━━━━╇━━━━━━━━━━━━━━━━━━━━━━━━━━━━━━━━━━━━╇━━━━━━━━━━━━━━━━━━┩\n",
       "│ 感谢认领.                       │ 公主                               │ [0.6153, 0.3847] │\n",
       "├─────────────────────────────────┼────────────────────────────────────┼──────────────────┤\n",
       "│ 感谢认领露思好漂亮              │ 感谢认领美丽露宝~                  │ [0.5559, 0.4441] │\n",
       "├─────────────────────────────────┼────────────────────────────────────┼──────────────────┤\n",
       "│ 感谢认领露思好漂亮              │ 赵露思好美                         │ [0.6032, 0.3968] │\n",
       "├─────────────────────────────────┼────────────────────────────────────┼──────────────────┤\n",
       "│ 杀了那么多人 蛇蝎心肠 还不够死� │ 他很好？很好为什么逮捕她？杀人     │ [0.3347, 0.6653] │\n",
       "├─────────────────────────────────┼────────────────────────────────────┼──────────────────┤\n",
       "│ 她的辩护律师想通过帮她翻案，    │ 二审维持原判还能上诉吗？           │ [0.3189, 0.6811] │\n",
       "├─────────────────────────────────┼────────────────────────────────────┼──────────────────┤\n",
       "│ 妈的 这个律师有点良心吧 维持原  │ 感谢认领.                          │ [0.5369, 0.4631] │\n",
       "├─────────────────────────────────┼────────────────────────────────────┼──────────────────┤\n",
       "│ 她的辩护律师想通过帮她翻案，    │ 她家人没事吧？果然不是一家人，不进 │ [0.4283, 0.5717] │\n",
       "├─────────────────────────────────┼────────────────────────────────────┼──────────────────┤\n",
       "│ 《互联网黑历史现状》            │ 《你看看》                         │ [0.5343, 0.4657] │\n",
       "└─────────────────────────────────┴────────────────────────────────────┴──────────────────┘\n",
       "</pre>\n"
      ],
      "text/plain": [
       "┏━━━━━━━━━━━━━━━━━━━━━━━━━━━━━━━━━┳━━━━━━━━━━━━━━━━━━━━━━━━━━━━━━━━━━━━┳━━━━━━━━━━━━━━━━━━┓\n",
       "┃\u001b[1m \u001b[0m\u001b[1mchosen_text                    \u001b[0m\u001b[1m \u001b[0m┃\u001b[1m \u001b[0m\u001b[1mrejected_text                     \u001b[0m\u001b[1m \u001b[0m┃\u001b[1m \u001b[0m\u001b[1mlogits          \u001b[0m\u001b[1m \u001b[0m┃\n",
       "┡━━━━━━━━━━━━━━━━━━━━━━━━━━━━━━━━━╇━━━━━━━━━━━━━━━━━━━━━━━━━━━━━━━━━━━━╇━━━━━━━━━━━━━━━━━━┩\n",
       "│ 感谢认领.                       │ 公主                               │ [0.6153, 0.3847] │\n",
       "├─────────────────────────────────┼────────────────────────────────────┼──────────────────┤\n",
       "│ 感谢认领露思好漂亮              │ 感谢认领美丽露宝~                  │ [0.5559, 0.4441] │\n",
       "├─────────────────────────────────┼────────────────────────────────────┼──────────────────┤\n",
       "│ 感谢认领露思好漂亮              │ 赵露思好美                         │ [0.6032, 0.3968] │\n",
       "├─────────────────────────────────┼────────────────────────────────────┼──────────────────┤\n",
       "│ 杀了那么多人 蛇蝎心肠 还不够死� │ 他很好？很好为什么逮捕她？杀人     │ [0.3347, 0.6653] │\n",
       "├─────────────────────────────────┼────────────────────────────────────┼──────────────────┤\n",
       "│ 她的辩护律师想通过帮她翻案，    │ 二审维持原判还能上诉吗？           │ [0.3189, 0.6811] │\n",
       "├─────────────────────────────────┼────────────────────────────────────┼──────────────────┤\n",
       "│ 妈的 这个律师有点良心吧 维持原  │ 感谢认领.                          │ [0.5369, 0.4631] │\n",
       "├─────────────────────────────────┼────────────────────────────────────┼──────────────────┤\n",
       "│ 她的辩护律师想通过帮她翻案，    │ 她家人没事吧？果然不是一家人，不进 │ [0.4283, 0.5717] │\n",
       "├─────────────────────────────────┼────────────────────────────────────┼──────────────────┤\n",
       "│ 《互联网黑历史现状》            │ 《你看看》                         │ [0.5343, 0.4657] │\n",
       "└─────────────────────────────────┴────────────────────────────────────┴──────────────────┘\n"
      ]
     },
     "metadata": {},
     "output_type": "display_data"
    },
    {
     "data": {
      "text/html": [
       "<pre style=\"white-space:pre;overflow-x:auto;line-height:normal;font-family:Menlo,'DejaVu Sans Mono',consolas,'Courier New',monospace\">┏━━━━━━━━━━━━━━━━━━━━━━━━━━━━━━━━━┳━━━━━━━━━━━━━━━━━━━━━━━━━━━━━━━━┳━━━━━━━━━━━━━━━━━━┓\n",
       "┃<span style=\"font-weight: bold\"> chosen_text                     </span>┃<span style=\"font-weight: bold\"> rejected_text                  </span>┃<span style=\"font-weight: bold\"> logits           </span>┃\n",
       "┡━━━━━━━━━━━━━━━━━━━━━━━━━━━━━━━━━╇━━━━━━━━━━━━━━━━━━━━━━━━━━━━━━━━╇━━━━━━━━━━━━━━━━━━┩\n",
       "│ 感谢认领.                       │ 公主                           │ [0.6153, 0.3847] │\n",
       "├─────────────────────────────────┼────────────────────────────────┼──────────────────┤\n",
       "│ 感谢认领露思好漂亮              │ 感谢认领美丽露宝~              │ [0.5559, 0.4441] │\n",
       "├─────────────────────────────────┼────────────────────────────────┼──────────────────┤\n",
       "│ 感谢认领露思好漂亮              │ 赵露思好美                     │ [0.6032, 0.3968] │\n",
       "├─────────────────────────────────┼────────────────────────────────┼──────────────────┤\n",
       "│ 杀了那么多人 蛇蝎心肠 还不够死� │ 他很好？很好为什么逮捕她？杀人 │ [0.3347, 0.6653] │\n",
       "└─────────────────────────────────┴────────────────────────────────┴──────────────────┘\n",
       "</pre>\n"
      ],
      "text/plain": [
       "┏━━━━━━━━━━━━━━━━━━━━━━━━━━━━━━━━━┳━━━━━━━━━━━━━━━━━━━━━━━━━━━━━━━━┳━━━━━━━━━━━━━━━━━━┓\n",
       "┃\u001b[1m \u001b[0m\u001b[1mchosen_text                    \u001b[0m\u001b[1m \u001b[0m┃\u001b[1m \u001b[0m\u001b[1mrejected_text                 \u001b[0m\u001b[1m \u001b[0m┃\u001b[1m \u001b[0m\u001b[1mlogits          \u001b[0m\u001b[1m \u001b[0m┃\n",
       "┡━━━━━━━━━━━━━━━━━━━━━━━━━━━━━━━━━╇━━━━━━━━━━━━━━━━━━━━━━━━━━━━━━━━╇━━━━━━━━━━━━━━━━━━┩\n",
       "│ 感谢认领.                       │ 公主                           │ [0.6153, 0.3847] │\n",
       "├─────────────────────────────────┼────────────────────────────────┼──────────────────┤\n",
       "│ 感谢认领露思好漂亮              │ 感谢认领美丽露宝~              │ [0.5559, 0.4441] │\n",
       "├─────────────────────────────────┼────────────────────────────────┼──────────────────┤\n",
       "│ 感谢认领露思好漂亮              │ 赵露思好美                     │ [0.6032, 0.3968] │\n",
       "├─────────────────────────────────┼────────────────────────────────┼──────────────────┤\n",
       "│ 杀了那么多人 蛇蝎心肠 还不够死� │ 他很好？很好为什么逮捕她？杀人 │ [0.3347, 0.6653] │\n",
       "└─────────────────────────────────┴────────────────────────────────┴──────────────────┘\n"
      ]
     },
     "metadata": {},
     "output_type": "display_data"
    },
    {
     "name": "stderr",
     "output_type": "stream",
     "text": [
      "/usr/local/lib/python3.8/dist-packages/transformers/tokenization_utils_base.py:2778: UserWarning: `max_length` is ignored when `padding`=`True` and there is no truncation strategy. To pad to max length, use `padding='max_length'`.\n",
      "  warnings.warn(\n",
      "/usr/local/lib/python3.8/dist-packages/trl/trainer/utils.py:599: UserWarning: There are 22 out of 3451 instances where the predictions for both options are equal. As a consequence the accuracy can be misleading.\n",
      "  warnings.warn(\n",
      "/usr/local/lib/python3.8/dist-packages/transformers/tokenization_utils_base.py:2778: UserWarning: `max_length` is ignored when `padding`=`True` and there is no truncation strategy. To pad to max length, use `padding='max_length'`.\n",
      "  warnings.warn(\n",
      "/usr/local/lib/python3.8/dist-packages/torch/utils/checkpoint.py:464: UserWarning: torch.utils.checkpoint: the use_reentrant parameter should be passed explicitly. In version 2.4 we will raise an exception if use_reentrant is not passed. use_reentrant=False is recommended, but if you need to preserve the current default behavior, you can pass use_reentrant=True. Refer to docs for more details on the differences between the two variants.\n",
      "  warnings.warn(\n",
      "/usr/local/lib/python3.8/dist-packages/torch/utils/checkpoint.py:91: UserWarning: None of the inputs have requires_grad=True. Gradients will be None\n",
      "  warnings.warn(\n"
     ]
    },
    {
     "data": {
      "text/html": [
       "<pre style=\"white-space:pre;overflow-x:auto;line-height:normal;font-family:Menlo,'DejaVu Sans Mono',consolas,'Courier New',monospace\">┏━━━━━━━━━━━━━━━━━━━━━━━━━━━━━━━━━┳━━━━━━━━━━━━━━━━━━━━━━━━━━━━━━━━━━━━┳━━━━━━━━━━━━━━━━━━┓\n",
       "┃<span style=\"font-weight: bold\"> chosen_text                     </span>┃<span style=\"font-weight: bold\"> rejected_text                      </span>┃<span style=\"font-weight: bold\"> logits           </span>┃\n",
       "┡━━━━━━━━━━━━━━━━━━━━━━━━━━━━━━━━━╇━━━━━━━━━━━━━━━━━━━━━━━━━━━━━━━━━━━━╇━━━━━━━━━━━━━━━━━━┩\n",
       "│ 感谢认领.                       │ 公主                               │ [0.4829, 0.5171] │\n",
       "├─────────────────────────────────┼────────────────────────────────────┼──────────────────┤\n",
       "│ 感谢认领露思好漂亮              │ 感谢认领美丽露宝~                  │ [0.4824, 0.5176] │\n",
       "├─────────────────────────────────┼────────────────────────────────────┼──────────────────┤\n",
       "│ 感谢认领露思好漂亮              │ 赵露思好美                         │ [0.5217, 0.4783] │\n",
       "├─────────────────────────────────┼────────────────────────────────────┼──────────────────┤\n",
       "│ 杀了那么多人 蛇蝎心肠 还不够死� │ 他很好？很好为什么逮捕她？杀人     │ [0.386, 0.614]   │\n",
       "├─────────────────────────────────┼────────────────────────────────────┼──────────────────┤\n",
       "│ 她的辩护律师想通过帮她翻案，    │ 二审维持原判还能上诉吗？           │ [0.1763, 0.8237] │\n",
       "├─────────────────────────────────┼────────────────────────────────────┼──────────────────┤\n",
       "│ 妈的 这个律师有点良心吧 维持原  │ 感谢认领.                          │ [0.667, 0.333]   │\n",
       "├─────────────────────────────────┼────────────────────────────────────┼──────────────────┤\n",
       "│ 她的辩护律师想通过帮她翻案，    │ 她家人没事吧？果然不是一家人，不进 │ [0.307, 0.693]   │\n",
       "├─────────────────────────────────┼────────────────────────────────────┼──────────────────┤\n",
       "│ 《互联网黑历史现状》            │ 《你看看》                         │ [0.6977, 0.3023] │\n",
       "└─────────────────────────────────┴────────────────────────────────────┴──────────────────┘\n",
       "</pre>\n"
      ],
      "text/plain": [
       "┏━━━━━━━━━━━━━━━━━━━━━━━━━━━━━━━━━┳━━━━━━━━━━━━━━━━━━━━━━━━━━━━━━━━━━━━┳━━━━━━━━━━━━━━━━━━┓\n",
       "┃\u001b[1m \u001b[0m\u001b[1mchosen_text                    \u001b[0m\u001b[1m \u001b[0m┃\u001b[1m \u001b[0m\u001b[1mrejected_text                     \u001b[0m\u001b[1m \u001b[0m┃\u001b[1m \u001b[0m\u001b[1mlogits          \u001b[0m\u001b[1m \u001b[0m┃\n",
       "┡━━━━━━━━━━━━━━━━━━━━━━━━━━━━━━━━━╇━━━━━━━━━━━━━━━━━━━━━━━━━━━━━━━━━━━━╇━━━━━━━━━━━━━━━━━━┩\n",
       "│ 感谢认领.                       │ 公主                               │ [0.4829, 0.5171] │\n",
       "├─────────────────────────────────┼────────────────────────────────────┼──────────────────┤\n",
       "│ 感谢认领露思好漂亮              │ 感谢认领美丽露宝~                  │ [0.4824, 0.5176] │\n",
       "├─────────────────────────────────┼────────────────────────────────────┼──────────────────┤\n",
       "│ 感谢认领露思好漂亮              │ 赵露思好美                         │ [0.5217, 0.4783] │\n",
       "├─────────────────────────────────┼────────────────────────────────────┼──────────────────┤\n",
       "│ 杀了那么多人 蛇蝎心肠 还不够死� │ 他很好？很好为什么逮捕她？杀人     │ [0.386, 0.614]   │\n",
       "├─────────────────────────────────┼────────────────────────────────────┼──────────────────┤\n",
       "│ 她的辩护律师想通过帮她翻案，    │ 二审维持原判还能上诉吗？           │ [0.1763, 0.8237] │\n",
       "├─────────────────────────────────┼────────────────────────────────────┼──────────────────┤\n",
       "│ 妈的 这个律师有点良心吧 维持原  │ 感谢认领.                          │ [0.667, 0.333]   │\n",
       "├─────────────────────────────────┼────────────────────────────────────┼──────────────────┤\n",
       "│ 她的辩护律师想通过帮她翻案，    │ 她家人没事吧？果然不是一家人，不进 │ [0.307, 0.693]   │\n",
       "├─────────────────────────────────┼────────────────────────────────────┼──────────────────┤\n",
       "│ 《互联网黑历史现状》            │ 《你看看》                         │ [0.6977, 0.3023] │\n",
       "└─────────────────────────────────┴────────────────────────────────────┴──────────────────┘\n"
      ]
     },
     "metadata": {},
     "output_type": "display_data"
    },
    {
     "data": {
      "text/html": [
       "<pre style=\"white-space:pre;overflow-x:auto;line-height:normal;font-family:Menlo,'DejaVu Sans Mono',consolas,'Courier New',monospace\">┏━━━━━━━━━━━━━━━━━━━━━━━━━━━━━━━━━┳━━━━━━━━━━━━━━━━━━━━━━━━━━━━━━━━┳━━━━━━━━━━━━━━━━━━┓\n",
       "┃<span style=\"font-weight: bold\"> chosen_text                     </span>┃<span style=\"font-weight: bold\"> rejected_text                  </span>┃<span style=\"font-weight: bold\"> logits           </span>┃\n",
       "┡━━━━━━━━━━━━━━━━━━━━━━━━━━━━━━━━━╇━━━━━━━━━━━━━━━━━━━━━━━━━━━━━━━━╇━━━━━━━━━━━━━━━━━━┩\n",
       "│ 感谢认领.                       │ 公主                           │ [0.4829, 0.5171] │\n",
       "├─────────────────────────────────┼────────────────────────────────┼──────────────────┤\n",
       "│ 感谢认领露思好漂亮              │ 感谢认领美丽露宝~              │ [0.4824, 0.5176] │\n",
       "├─────────────────────────────────┼────────────────────────────────┼──────────────────┤\n",
       "│ 感谢认领露思好漂亮              │ 赵露思好美                     │ [0.5217, 0.4783] │\n",
       "├─────────────────────────────────┼────────────────────────────────┼──────────────────┤\n",
       "│ 杀了那么多人 蛇蝎心肠 还不够死� │ 他很好？很好为什么逮捕她？杀人 │ [0.386, 0.614]   │\n",
       "└─────────────────────────────────┴────────────────────────────────┴──────────────────┘\n",
       "</pre>\n"
      ],
      "text/plain": [
       "┏━━━━━━━━━━━━━━━━━━━━━━━━━━━━━━━━━┳━━━━━━━━━━━━━━━━━━━━━━━━━━━━━━━━┳━━━━━━━━━━━━━━━━━━┓\n",
       "┃\u001b[1m \u001b[0m\u001b[1mchosen_text                    \u001b[0m\u001b[1m \u001b[0m┃\u001b[1m \u001b[0m\u001b[1mrejected_text                 \u001b[0m\u001b[1m \u001b[0m┃\u001b[1m \u001b[0m\u001b[1mlogits          \u001b[0m\u001b[1m \u001b[0m┃\n",
       "┡━━━━━━━━━━━━━━━━━━━━━━━━━━━━━━━━━╇━━━━━━━━━━━━━━━━━━━━━━━━━━━━━━━━╇━━━━━━━━━━━━━━━━━━┩\n",
       "│ 感谢认领.                       │ 公主                           │ [0.4829, 0.5171] │\n",
       "├─────────────────────────────────┼────────────────────────────────┼──────────────────┤\n",
       "│ 感谢认领露思好漂亮              │ 感谢认领美丽露宝~              │ [0.4824, 0.5176] │\n",
       "├─────────────────────────────────┼────────────────────────────────┼──────────────────┤\n",
       "│ 感谢认领露思好漂亮              │ 赵露思好美                     │ [0.5217, 0.4783] │\n",
       "├─────────────────────────────────┼────────────────────────────────┼──────────────────┤\n",
       "│ 杀了那么多人 蛇蝎心肠 还不够死� │ 他很好？很好为什么逮捕她？杀人 │ [0.386, 0.614]   │\n",
       "└─────────────────────────────────┴────────────────────────────────┴──────────────────┘\n"
      ]
     },
     "metadata": {},
     "output_type": "display_data"
    },
    {
     "name": "stderr",
     "output_type": "stream",
     "text": [
      "/usr/local/lib/python3.8/dist-packages/transformers/tokenization_utils_base.py:2778: UserWarning: `max_length` is ignored when `padding`=`True` and there is no truncation strategy. To pad to max length, use `padding='max_length'`.\n",
      "  warnings.warn(\n",
      "/usr/local/lib/python3.8/dist-packages/trl/trainer/utils.py:599: UserWarning: There are 22 out of 3451 instances where the predictions for both options are equal. As a consequence the accuracy can be misleading.\n",
      "  warnings.warn(\n",
      "/usr/local/lib/python3.8/dist-packages/transformers/tokenization_utils_base.py:2778: UserWarning: `max_length` is ignored when `padding`=`True` and there is no truncation strategy. To pad to max length, use `padding='max_length'`.\n",
      "  warnings.warn(\n",
      "/usr/local/lib/python3.8/dist-packages/torch/utils/checkpoint.py:464: UserWarning: torch.utils.checkpoint: the use_reentrant parameter should be passed explicitly. In version 2.4 we will raise an exception if use_reentrant is not passed. use_reentrant=False is recommended, but if you need to preserve the current default behavior, you can pass use_reentrant=True. Refer to docs for more details on the differences between the two variants.\n",
      "  warnings.warn(\n",
      "/usr/local/lib/python3.8/dist-packages/torch/utils/checkpoint.py:91: UserWarning: None of the inputs have requires_grad=True. Gradients will be None\n",
      "  warnings.warn(\n"
     ]
    },
    {
     "data": {
      "text/html": [
       "<pre style=\"white-space:pre;overflow-x:auto;line-height:normal;font-family:Menlo,'DejaVu Sans Mono',consolas,'Courier New',monospace\">┏━━━━━━━━━━━━━━━━━━━━━━━━━━━━━━━━━┳━━━━━━━━━━━━━━━━━━━━━━━━━━━━━━━━━━━━┳━━━━━━━━━━━━━━━━━━┓\n",
       "┃<span style=\"font-weight: bold\"> chosen_text                     </span>┃<span style=\"font-weight: bold\"> rejected_text                      </span>┃<span style=\"font-weight: bold\"> logits           </span>┃\n",
       "┡━━━━━━━━━━━━━━━━━━━━━━━━━━━━━━━━━╇━━━━━━━━━━━━━━━━━━━━━━━━━━━━━━━━━━━━╇━━━━━━━━━━━━━━━━━━┩\n",
       "│ 感谢认领.                       │ 公主                               │ [0.7689, 0.2311] │\n",
       "├─────────────────────────────────┼────────────────────────────────────┼──────────────────┤\n",
       "│ 感谢认领露思好漂亮              │ 感谢认领美丽露宝~                  │ [0.5049, 0.4951] │\n",
       "├─────────────────────────────────┼────────────────────────────────────┼──────────────────┤\n",
       "│ 感谢认领露思好漂亮              │ 赵露思好美                         │ [0.4801, 0.5199] │\n",
       "├─────────────────────────────────┼────────────────────────────────────┼──────────────────┤\n",
       "│ 杀了那么多人 蛇蝎心肠 还不够死� │ 他很好？很好为什么逮捕她？杀人     │ [0.2656, 0.7344] │\n",
       "├─────────────────────────────────┼────────────────────────────────────┼──────────────────┤\n",
       "│ 她的辩护律师想通过帮她翻案，    │ 二审维持原判还能上诉吗？           │ [0.3074, 0.6926] │\n",
       "├─────────────────────────────────┼────────────────────────────────────┼──────────────────┤\n",
       "│ 妈的 这个律师有点良心吧 维持原  │ 感谢认领.                          │ [0.7878, 0.2122] │\n",
       "├─────────────────────────────────┼────────────────────────────────────┼──────────────────┤\n",
       "│ 她的辩护律师想通过帮她翻案，    │ 她家人没事吧？果然不是一家人，不进 │ [0.3642, 0.6358] │\n",
       "├─────────────────────────────────┼────────────────────────────────────┼──────────────────┤\n",
       "│ 《互联网黑历史现状》            │ 《你看看》                         │ [0.668, 0.332]   │\n",
       "└─────────────────────────────────┴────────────────────────────────────┴──────────────────┘\n",
       "</pre>\n"
      ],
      "text/plain": [
       "┏━━━━━━━━━━━━━━━━━━━━━━━━━━━━━━━━━┳━━━━━━━━━━━━━━━━━━━━━━━━━━━━━━━━━━━━┳━━━━━━━━━━━━━━━━━━┓\n",
       "┃\u001b[1m \u001b[0m\u001b[1mchosen_text                    \u001b[0m\u001b[1m \u001b[0m┃\u001b[1m \u001b[0m\u001b[1mrejected_text                     \u001b[0m\u001b[1m \u001b[0m┃\u001b[1m \u001b[0m\u001b[1mlogits          \u001b[0m\u001b[1m \u001b[0m┃\n",
       "┡━━━━━━━━━━━━━━━━━━━━━━━━━━━━━━━━━╇━━━━━━━━━━━━━━━━━━━━━━━━━━━━━━━━━━━━╇━━━━━━━━━━━━━━━━━━┩\n",
       "│ 感谢认领.                       │ 公主                               │ [0.7689, 0.2311] │\n",
       "├─────────────────────────────────┼────────────────────────────────────┼──────────────────┤\n",
       "│ 感谢认领露思好漂亮              │ 感谢认领美丽露宝~                  │ [0.5049, 0.4951] │\n",
       "├─────────────────────────────────┼────────────────────────────────────┼──────────────────┤\n",
       "│ 感谢认领露思好漂亮              │ 赵露思好美                         │ [0.4801, 0.5199] │\n",
       "├─────────────────────────────────┼────────────────────────────────────┼──────────────────┤\n",
       "│ 杀了那么多人 蛇蝎心肠 还不够死� │ 他很好？很好为什么逮捕她？杀人     │ [0.2656, 0.7344] │\n",
       "├─────────────────────────────────┼────────────────────────────────────┼──────────────────┤\n",
       "│ 她的辩护律师想通过帮她翻案，    │ 二审维持原判还能上诉吗？           │ [0.3074, 0.6926] │\n",
       "├─────────────────────────────────┼────────────────────────────────────┼──────────────────┤\n",
       "│ 妈的 这个律师有点良心吧 维持原  │ 感谢认领.                          │ [0.7878, 0.2122] │\n",
       "├─────────────────────────────────┼────────────────────────────────────┼──────────────────┤\n",
       "│ 她的辩护律师想通过帮她翻案，    │ 她家人没事吧？果然不是一家人，不进 │ [0.3642, 0.6358] │\n",
       "├─────────────────────────────────┼────────────────────────────────────┼──────────────────┤\n",
       "│ 《互联网黑历史现状》            │ 《你看看》                         │ [0.668, 0.332]   │\n",
       "└─────────────────────────────────┴────────────────────────────────────┴──────────────────┘\n"
      ]
     },
     "metadata": {},
     "output_type": "display_data"
    },
    {
     "data": {
      "text/html": [
       "<pre style=\"white-space:pre;overflow-x:auto;line-height:normal;font-family:Menlo,'DejaVu Sans Mono',consolas,'Courier New',monospace\">┏━━━━━━━━━━━━━━━━━━━━━━━━━━━━━━━━━┳━━━━━━━━━━━━━━━━━━━━━━━━━━━━━━━━┳━━━━━━━━━━━━━━━━━━┓\n",
       "┃<span style=\"font-weight: bold\"> chosen_text                     </span>┃<span style=\"font-weight: bold\"> rejected_text                  </span>┃<span style=\"font-weight: bold\"> logits           </span>┃\n",
       "┡━━━━━━━━━━━━━━━━━━━━━━━━━━━━━━━━━╇━━━━━━━━━━━━━━━━━━━━━━━━━━━━━━━━╇━━━━━━━━━━━━━━━━━━┩\n",
       "│ 感谢认领.                       │ 公主                           │ [0.7689, 0.2311] │\n",
       "├─────────────────────────────────┼────────────────────────────────┼──────────────────┤\n",
       "│ 感谢认领露思好漂亮              │ 感谢认领美丽露宝~              │ [0.5049, 0.4951] │\n",
       "├─────────────────────────────────┼────────────────────────────────┼──────────────────┤\n",
       "│ 感谢认领露思好漂亮              │ 赵露思好美                     │ [0.4801, 0.5199] │\n",
       "├─────────────────────────────────┼────────────────────────────────┼──────────────────┤\n",
       "│ 杀了那么多人 蛇蝎心肠 还不够死� │ 他很好？很好为什么逮捕她？杀人 │ [0.2656, 0.7344] │\n",
       "└─────────────────────────────────┴────────────────────────────────┴──────────────────┘\n",
       "</pre>\n"
      ],
      "text/plain": [
       "┏━━━━━━━━━━━━━━━━━━━━━━━━━━━━━━━━━┳━━━━━━━━━━━━━━━━━━━━━━━━━━━━━━━━┳━━━━━━━━━━━━━━━━━━┓\n",
       "┃\u001b[1m \u001b[0m\u001b[1mchosen_text                    \u001b[0m\u001b[1m \u001b[0m┃\u001b[1m \u001b[0m\u001b[1mrejected_text                 \u001b[0m\u001b[1m \u001b[0m┃\u001b[1m \u001b[0m\u001b[1mlogits          \u001b[0m\u001b[1m \u001b[0m┃\n",
       "┡━━━━━━━━━━━━━━━━━━━━━━━━━━━━━━━━━╇━━━━━━━━━━━━━━━━━━━━━━━━━━━━━━━━╇━━━━━━━━━━━━━━━━━━┩\n",
       "│ 感谢认领.                       │ 公主                           │ [0.7689, 0.2311] │\n",
       "├─────────────────────────────────┼────────────────────────────────┼──────────────────┤\n",
       "│ 感谢认领露思好漂亮              │ 感谢认领美丽露宝~              │ [0.5049, 0.4951] │\n",
       "├─────────────────────────────────┼────────────────────────────────┼──────────────────┤\n",
       "│ 感谢认领露思好漂亮              │ 赵露思好美                     │ [0.4801, 0.5199] │\n",
       "├─────────────────────────────────┼────────────────────────────────┼──────────────────┤\n",
       "│ 杀了那么多人 蛇蝎心肠 还不够死� │ 他很好？很好为什么逮捕她？杀人 │ [0.2656, 0.7344] │\n",
       "└─────────────────────────────────┴────────────────────────────────┴──────────────────┘\n"
      ]
     },
     "metadata": {},
     "output_type": "display_data"
    },
    {
     "name": "stderr",
     "output_type": "stream",
     "text": [
      "/usr/local/lib/python3.8/dist-packages/transformers/tokenization_utils_base.py:2778: UserWarning: `max_length` is ignored when `padding`=`True` and there is no truncation strategy. To pad to max length, use `padding='max_length'`.\n",
      "  warnings.warn(\n",
      "/usr/local/lib/python3.8/dist-packages/trl/trainer/utils.py:599: UserWarning: There are 22 out of 3451 instances where the predictions for both options are equal. As a consequence the accuracy can be misleading.\n",
      "  warnings.warn(\n",
      "/usr/local/lib/python3.8/dist-packages/transformers/tokenization_utils_base.py:2778: UserWarning: `max_length` is ignored when `padding`=`True` and there is no truncation strategy. To pad to max length, use `padding='max_length'`.\n",
      "  warnings.warn(\n",
      "/usr/local/lib/python3.8/dist-packages/torch/utils/checkpoint.py:464: UserWarning: torch.utils.checkpoint: the use_reentrant parameter should be passed explicitly. In version 2.4 we will raise an exception if use_reentrant is not passed. use_reentrant=False is recommended, but if you need to preserve the current default behavior, you can pass use_reentrant=True. Refer to docs for more details on the differences between the two variants.\n",
      "  warnings.warn(\n",
      "/usr/local/lib/python3.8/dist-packages/torch/utils/checkpoint.py:91: UserWarning: None of the inputs have requires_grad=True. Gradients will be None\n",
      "  warnings.warn(\n"
     ]
    },
    {
     "data": {
      "text/html": [
       "<pre style=\"white-space:pre;overflow-x:auto;line-height:normal;font-family:Menlo,'DejaVu Sans Mono',consolas,'Courier New',monospace\">┏━━━━━━━━━━━━━━━━━━━━━━━━━━━━━━━━━┳━━━━━━━━━━━━━━━━━━━━━━━━━━━━━━━━━━━━┳━━━━━━━━━━━━━━━━━━┓\n",
       "┃<span style=\"font-weight: bold\"> chosen_text                     </span>┃<span style=\"font-weight: bold\"> rejected_text                      </span>┃<span style=\"font-weight: bold\"> logits           </span>┃\n",
       "┡━━━━━━━━━━━━━━━━━━━━━━━━━━━━━━━━━╇━━━━━━━━━━━━━━━━━━━━━━━━━━━━━━━━━━━━╇━━━━━━━━━━━━━━━━━━┩\n",
       "│ 感谢认领.                       │ 公主                               │ [0.4854, 0.5146] │\n",
       "├─────────────────────────────────┼────────────────────────────────────┼──────────────────┤\n",
       "│ 感谢认领露思好漂亮              │ 感谢认领美丽露宝~                  │ [0.525, 0.475]   │\n",
       "├─────────────────────────────────┼────────────────────────────────────┼──────────────────┤\n",
       "│ 感谢认领露思好漂亮              │ 赵露思好美                         │ [0.6259, 0.3741] │\n",
       "├─────────────────────────────────┼────────────────────────────────────┼──────────────────┤\n",
       "│ 杀了那么多人 蛇蝎心肠 还不够死� │ 他很好？很好为什么逮捕她？杀人     │ [0.3509, 0.6491] │\n",
       "├─────────────────────────────────┼────────────────────────────────────┼──────────────────┤\n",
       "│ 她的辩护律师想通过帮她翻案，    │ 二审维持原判还能上诉吗？           │ [0.2598, 0.7402] │\n",
       "├─────────────────────────────────┼────────────────────────────────────┼──────────────────┤\n",
       "│ 妈的 这个律师有点良心吧 维持原  │ 感谢认领.                          │ [0.683, 0.317]   │\n",
       "├─────────────────────────────────┼────────────────────────────────────┼──────────────────┤\n",
       "│ 她的辩护律师想通过帮她翻案，    │ 她家人没事吧？果然不是一家人，不进 │ [0.3788, 0.6212] │\n",
       "├─────────────────────────────────┼────────────────────────────────────┼──────────────────┤\n",
       "│ 《互联网黑历史现状》            │ 《你看看》                         │ [0.5471, 0.4529] │\n",
       "└─────────────────────────────────┴────────────────────────────────────┴──────────────────┘\n",
       "</pre>\n"
      ],
      "text/plain": [
       "┏━━━━━━━━━━━━━━━━━━━━━━━━━━━━━━━━━┳━━━━━━━━━━━━━━━━━━━━━━━━━━━━━━━━━━━━┳━━━━━━━━━━━━━━━━━━┓\n",
       "┃\u001b[1m \u001b[0m\u001b[1mchosen_text                    \u001b[0m\u001b[1m \u001b[0m┃\u001b[1m \u001b[0m\u001b[1mrejected_text                     \u001b[0m\u001b[1m \u001b[0m┃\u001b[1m \u001b[0m\u001b[1mlogits          \u001b[0m\u001b[1m \u001b[0m┃\n",
       "┡━━━━━━━━━━━━━━━━━━━━━━━━━━━━━━━━━╇━━━━━━━━━━━━━━━━━━━━━━━━━━━━━━━━━━━━╇━━━━━━━━━━━━━━━━━━┩\n",
       "│ 感谢认领.                       │ 公主                               │ [0.4854, 0.5146] │\n",
       "├─────────────────────────────────┼────────────────────────────────────┼──────────────────┤\n",
       "│ 感谢认领露思好漂亮              │ 感谢认领美丽露宝~                  │ [0.525, 0.475]   │\n",
       "├─────────────────────────────────┼────────────────────────────────────┼──────────────────┤\n",
       "│ 感谢认领露思好漂亮              │ 赵露思好美                         │ [0.6259, 0.3741] │\n",
       "├─────────────────────────────────┼────────────────────────────────────┼──────────────────┤\n",
       "│ 杀了那么多人 蛇蝎心肠 还不够死� │ 他很好？很好为什么逮捕她？杀人     │ [0.3509, 0.6491] │\n",
       "├─────────────────────────────────┼────────────────────────────────────┼──────────────────┤\n",
       "│ 她的辩护律师想通过帮她翻案，    │ 二审维持原判还能上诉吗？           │ [0.2598, 0.7402] │\n",
       "├─────────────────────────────────┼────────────────────────────────────┼──────────────────┤\n",
       "│ 妈的 这个律师有点良心吧 维持原  │ 感谢认领.                          │ [0.683, 0.317]   │\n",
       "├─────────────────────────────────┼────────────────────────────────────┼──────────────────┤\n",
       "│ 她的辩护律师想通过帮她翻案，    │ 她家人没事吧？果然不是一家人，不进 │ [0.3788, 0.6212] │\n",
       "├─────────────────────────────────┼────────────────────────────────────┼──────────────────┤\n",
       "│ 《互联网黑历史现状》            │ 《你看看》                         │ [0.5471, 0.4529] │\n",
       "└─────────────────────────────────┴────────────────────────────────────┴──────────────────┘\n"
      ]
     },
     "metadata": {},
     "output_type": "display_data"
    },
    {
     "data": {
      "text/html": [
       "<pre style=\"white-space:pre;overflow-x:auto;line-height:normal;font-family:Menlo,'DejaVu Sans Mono',consolas,'Courier New',monospace\">┏━━━━━━━━━━━━━━━━━━━━━━━━━━━━━━━━━┳━━━━━━━━━━━━━━━━━━━━━━━━━━━━━━━━┳━━━━━━━━━━━━━━━━━━┓\n",
       "┃<span style=\"font-weight: bold\"> chosen_text                     </span>┃<span style=\"font-weight: bold\"> rejected_text                  </span>┃<span style=\"font-weight: bold\"> logits           </span>┃\n",
       "┡━━━━━━━━━━━━━━━━━━━━━━━━━━━━━━━━━╇━━━━━━━━━━━━━━━━━━━━━━━━━━━━━━━━╇━━━━━━━━━━━━━━━━━━┩\n",
       "│ 感谢认领.                       │ 公主                           │ [0.4854, 0.5146] │\n",
       "├─────────────────────────────────┼────────────────────────────────┼──────────────────┤\n",
       "│ 感谢认领露思好漂亮              │ 感谢认领美丽露宝~              │ [0.525, 0.475]   │\n",
       "├─────────────────────────────────┼────────────────────────────────┼──────────────────┤\n",
       "│ 感谢认领露思好漂亮              │ 赵露思好美                     │ [0.6259, 0.3741] │\n",
       "├─────────────────────────────────┼────────────────────────────────┼──────────────────┤\n",
       "│ 杀了那么多人 蛇蝎心肠 还不够死� │ 他很好？很好为什么逮捕她？杀人 │ [0.3509, 0.6491] │\n",
       "└─────────────────────────────────┴────────────────────────────────┴──────────────────┘\n",
       "</pre>\n"
      ],
      "text/plain": [
       "┏━━━━━━━━━━━━━━━━━━━━━━━━━━━━━━━━━┳━━━━━━━━━━━━━━━━━━━━━━━━━━━━━━━━┳━━━━━━━━━━━━━━━━━━┓\n",
       "┃\u001b[1m \u001b[0m\u001b[1mchosen_text                    \u001b[0m\u001b[1m \u001b[0m┃\u001b[1m \u001b[0m\u001b[1mrejected_text                 \u001b[0m\u001b[1m \u001b[0m┃\u001b[1m \u001b[0m\u001b[1mlogits          \u001b[0m\u001b[1m \u001b[0m┃\n",
       "┡━━━━━━━━━━━━━━━━━━━━━━━━━━━━━━━━━╇━━━━━━━━━━━━━━━━━━━━━━━━━━━━━━━━╇━━━━━━━━━━━━━━━━━━┩\n",
       "│ 感谢认领.                       │ 公主                           │ [0.4854, 0.5146] │\n",
       "├─────────────────────────────────┼────────────────────────────────┼──────────────────┤\n",
       "│ 感谢认领露思好漂亮              │ 感谢认领美丽露宝~              │ [0.525, 0.475]   │\n",
       "├─────────────────────────────────┼────────────────────────────────┼──────────────────┤\n",
       "│ 感谢认领露思好漂亮              │ 赵露思好美                     │ [0.6259, 0.3741] │\n",
       "├─────────────────────────────────┼────────────────────────────────┼──────────────────┤\n",
       "│ 杀了那么多人 蛇蝎心肠 还不够死� │ 他很好？很好为什么逮捕她？杀人 │ [0.3509, 0.6491] │\n",
       "└─────────────────────────────────┴────────────────────────────────┴──────────────────┘\n"
      ]
     },
     "metadata": {},
     "output_type": "display_data"
    },
    {
     "name": "stderr",
     "output_type": "stream",
     "text": [
      "/usr/local/lib/python3.8/dist-packages/transformers/tokenization_utils_base.py:2778: UserWarning: `max_length` is ignored when `padding`=`True` and there is no truncation strategy. To pad to max length, use `padding='max_length'`.\n",
      "  warnings.warn(\n",
      "/usr/local/lib/python3.8/dist-packages/trl/trainer/utils.py:599: UserWarning: There are 22 out of 3451 instances where the predictions for both options are equal. As a consequence the accuracy can be misleading.\n",
      "  warnings.warn(\n",
      "/usr/local/lib/python3.8/dist-packages/transformers/tokenization_utils_base.py:2778: UserWarning: `max_length` is ignored when `padding`=`True` and there is no truncation strategy. To pad to max length, use `padding='max_length'`.\n",
      "  warnings.warn(\n",
      "/usr/local/lib/python3.8/dist-packages/torch/utils/checkpoint.py:464: UserWarning: torch.utils.checkpoint: the use_reentrant parameter should be passed explicitly. In version 2.4 we will raise an exception if use_reentrant is not passed. use_reentrant=False is recommended, but if you need to preserve the current default behavior, you can pass use_reentrant=True. Refer to docs for more details on the differences between the two variants.\n",
      "  warnings.warn(\n",
      "/usr/local/lib/python3.8/dist-packages/torch/utils/checkpoint.py:91: UserWarning: None of the inputs have requires_grad=True. Gradients will be None\n",
      "  warnings.warn(\n"
     ]
    },
    {
     "data": {
      "text/html": [
       "<pre style=\"white-space:pre;overflow-x:auto;line-height:normal;font-family:Menlo,'DejaVu Sans Mono',consolas,'Courier New',monospace\">┏━━━━━━━━━━━━━━━━━━━━━━━━━━━━━━━━━┳━━━━━━━━━━━━━━━━━━━━━━━━━━━━━━━━━━━━┳━━━━━━━━━━━━━━━━━━┓\n",
       "┃<span style=\"font-weight: bold\"> chosen_text                     </span>┃<span style=\"font-weight: bold\"> rejected_text                      </span>┃<span style=\"font-weight: bold\"> logits           </span>┃\n",
       "┡━━━━━━━━━━━━━━━━━━━━━━━━━━━━━━━━━╇━━━━━━━━━━━━━━━━━━━━━━━━━━━━━━━━━━━━╇━━━━━━━━━━━━━━━━━━┩\n",
       "│ 感谢认领.                       │ 公主                               │ [0.5979, 0.4021] │\n",
       "├─────────────────────────────────┼────────────────────────────────────┼──────────────────┤\n",
       "│ 感谢认领露思好漂亮              │ 感谢认领美丽露宝~                  │ [0.4811, 0.5189] │\n",
       "├─────────────────────────────────┼────────────────────────────────────┼──────────────────┤\n",
       "│ 感谢认领露思好漂亮              │ 赵露思好美                         │ [0.5013, 0.4987] │\n",
       "├─────────────────────────────────┼────────────────────────────────────┼──────────────────┤\n",
       "│ 杀了那么多人 蛇蝎心肠 还不够死� │ 他很好？很好为什么逮捕她？杀人     │ [0.28, 0.72]     │\n",
       "├─────────────────────────────────┼────────────────────────────────────┼──────────────────┤\n",
       "│ 她的辩护律师想通过帮她翻案，    │ 二审维持原判还能上诉吗？           │ [0.363, 0.637]   │\n",
       "├─────────────────────────────────┼────────────────────────────────────┼──────────────────┤\n",
       "│ 妈的 这个律师有点良心吧 维持原  │ 感谢认领.                          │ [0.6849, 0.3151] │\n",
       "├─────────────────────────────────┼────────────────────────────────────┼──────────────────┤\n",
       "│ 她的辩护律师想通过帮她翻案，    │ 她家人没事吧？果然不是一家人，不进 │ [0.3461, 0.6539] │\n",
       "├─────────────────────────────────┼────────────────────────────────────┼──────────────────┤\n",
       "│ 《互联网黑历史现状》            │ 《你看看》                         │ [0.7209, 0.2791] │\n",
       "└─────────────────────────────────┴────────────────────────────────────┴──────────────────┘\n",
       "</pre>\n"
      ],
      "text/plain": [
       "┏━━━━━━━━━━━━━━━━━━━━━━━━━━━━━━━━━┳━━━━━━━━━━━━━━━━━━━━━━━━━━━━━━━━━━━━┳━━━━━━━━━━━━━━━━━━┓\n",
       "┃\u001b[1m \u001b[0m\u001b[1mchosen_text                    \u001b[0m\u001b[1m \u001b[0m┃\u001b[1m \u001b[0m\u001b[1mrejected_text                     \u001b[0m\u001b[1m \u001b[0m┃\u001b[1m \u001b[0m\u001b[1mlogits          \u001b[0m\u001b[1m \u001b[0m┃\n",
       "┡━━━━━━━━━━━━━━━━━━━━━━━━━━━━━━━━━╇━━━━━━━━━━━━━━━━━━━━━━━━━━━━━━━━━━━━╇━━━━━━━━━━━━━━━━━━┩\n",
       "│ 感谢认领.                       │ 公主                               │ [0.5979, 0.4021] │\n",
       "├─────────────────────────────────┼────────────────────────────────────┼──────────────────┤\n",
       "│ 感谢认领露思好漂亮              │ 感谢认领美丽露宝~                  │ [0.4811, 0.5189] │\n",
       "├─────────────────────────────────┼────────────────────────────────────┼──────────────────┤\n",
       "│ 感谢认领露思好漂亮              │ 赵露思好美                         │ [0.5013, 0.4987] │\n",
       "├─────────────────────────────────┼────────────────────────────────────┼──────────────────┤\n",
       "│ 杀了那么多人 蛇蝎心肠 还不够死� │ 他很好？很好为什么逮捕她？杀人     │ [0.28, 0.72]     │\n",
       "├─────────────────────────────────┼────────────────────────────────────┼──────────────────┤\n",
       "│ 她的辩护律师想通过帮她翻案，    │ 二审维持原判还能上诉吗？           │ [0.363, 0.637]   │\n",
       "├─────────────────────────────────┼────────────────────────────────────┼──────────────────┤\n",
       "│ 妈的 这个律师有点良心吧 维持原  │ 感谢认领.                          │ [0.6849, 0.3151] │\n",
       "├─────────────────────────────────┼────────────────────────────────────┼──────────────────┤\n",
       "│ 她的辩护律师想通过帮她翻案，    │ 她家人没事吧？果然不是一家人，不进 │ [0.3461, 0.6539] │\n",
       "├─────────────────────────────────┼────────────────────────────────────┼──────────────────┤\n",
       "│ 《互联网黑历史现状》            │ 《你看看》                         │ [0.7209, 0.2791] │\n",
       "└─────────────────────────────────┴────────────────────────────────────┴──────────────────┘\n"
      ]
     },
     "metadata": {},
     "output_type": "display_data"
    },
    {
     "data": {
      "text/html": [
       "<pre style=\"white-space:pre;overflow-x:auto;line-height:normal;font-family:Menlo,'DejaVu Sans Mono',consolas,'Courier New',monospace\">┏━━━━━━━━━━━━━━━━━━━━━━━━━━━━━━━━━┳━━━━━━━━━━━━━━━━━━━━━━━━━━━━━━━━┳━━━━━━━━━━━━━━━━━━┓\n",
       "┃<span style=\"font-weight: bold\"> chosen_text                     </span>┃<span style=\"font-weight: bold\"> rejected_text                  </span>┃<span style=\"font-weight: bold\"> logits           </span>┃\n",
       "┡━━━━━━━━━━━━━━━━━━━━━━━━━━━━━━━━━╇━━━━━━━━━━━━━━━━━━━━━━━━━━━━━━━━╇━━━━━━━━━━━━━━━━━━┩\n",
       "│ 感谢认领.                       │ 公主                           │ [0.5979, 0.4021] │\n",
       "├─────────────────────────────────┼────────────────────────────────┼──────────────────┤\n",
       "│ 感谢认领露思好漂亮              │ 感谢认领美丽露宝~              │ [0.4811, 0.5189] │\n",
       "├─────────────────────────────────┼────────────────────────────────┼──────────────────┤\n",
       "│ 感谢认领露思好漂亮              │ 赵露思好美                     │ [0.5013, 0.4987] │\n",
       "├─────────────────────────────────┼────────────────────────────────┼──────────────────┤\n",
       "│ 杀了那么多人 蛇蝎心肠 还不够死� │ 他很好？很好为什么逮捕她？杀人 │ [0.28, 0.72]     │\n",
       "└─────────────────────────────────┴────────────────────────────────┴──────────────────┘\n",
       "</pre>\n"
      ],
      "text/plain": [
       "┏━━━━━━━━━━━━━━━━━━━━━━━━━━━━━━━━━┳━━━━━━━━━━━━━━━━━━━━━━━━━━━━━━━━┳━━━━━━━━━━━━━━━━━━┓\n",
       "┃\u001b[1m \u001b[0m\u001b[1mchosen_text                    \u001b[0m\u001b[1m \u001b[0m┃\u001b[1m \u001b[0m\u001b[1mrejected_text                 \u001b[0m\u001b[1m \u001b[0m┃\u001b[1m \u001b[0m\u001b[1mlogits          \u001b[0m\u001b[1m \u001b[0m┃\n",
       "┡━━━━━━━━━━━━━━━━━━━━━━━━━━━━━━━━━╇━━━━━━━━━━━━━━━━━━━━━━━━━━━━━━━━╇━━━━━━━━━━━━━━━━━━┩\n",
       "│ 感谢认领.                       │ 公主                           │ [0.5979, 0.4021] │\n",
       "├─────────────────────────────────┼────────────────────────────────┼──────────────────┤\n",
       "│ 感谢认领露思好漂亮              │ 感谢认领美丽露宝~              │ [0.4811, 0.5189] │\n",
       "├─────────────────────────────────┼────────────────────────────────┼──────────────────┤\n",
       "│ 感谢认领露思好漂亮              │ 赵露思好美                     │ [0.5013, 0.4987] │\n",
       "├─────────────────────────────────┼────────────────────────────────┼──────────────────┤\n",
       "│ 杀了那么多人 蛇蝎心肠 还不够死� │ 他很好？很好为什么逮捕她？杀人 │ [0.28, 0.72]     │\n",
       "└─────────────────────────────────┴────────────────────────────────┴──────────────────┘\n"
      ]
     },
     "metadata": {},
     "output_type": "display_data"
    },
    {
     "name": "stderr",
     "output_type": "stream",
     "text": [
      "/usr/local/lib/python3.8/dist-packages/transformers/tokenization_utils_base.py:2778: UserWarning: `max_length` is ignored when `padding`=`True` and there is no truncation strategy. To pad to max length, use `padding='max_length'`.\n",
      "  warnings.warn(\n",
      "/usr/local/lib/python3.8/dist-packages/trl/trainer/utils.py:599: UserWarning: There are 22 out of 3451 instances where the predictions for both options are equal. As a consequence the accuracy can be misleading.\n",
      "  warnings.warn(\n",
      "/usr/local/lib/python3.8/dist-packages/transformers/tokenization_utils_base.py:2778: UserWarning: `max_length` is ignored when `padding`=`True` and there is no truncation strategy. To pad to max length, use `padding='max_length'`.\n",
      "  warnings.warn(\n",
      "/usr/local/lib/python3.8/dist-packages/torch/utils/checkpoint.py:464: UserWarning: torch.utils.checkpoint: the use_reentrant parameter should be passed explicitly. In version 2.4 we will raise an exception if use_reentrant is not passed. use_reentrant=False is recommended, but if you need to preserve the current default behavior, you can pass use_reentrant=True. Refer to docs for more details on the differences between the two variants.\n",
      "  warnings.warn(\n",
      "/usr/local/lib/python3.8/dist-packages/torch/utils/checkpoint.py:91: UserWarning: None of the inputs have requires_grad=True. Gradients will be None\n",
      "  warnings.warn(\n"
     ]
    },
    {
     "data": {
      "text/html": [
       "<pre style=\"white-space:pre;overflow-x:auto;line-height:normal;font-family:Menlo,'DejaVu Sans Mono',consolas,'Courier New',monospace\">┏━━━━━━━━━━━━━━━━━━━━━━━━━━━━━━━━━┳━━━━━━━━━━━━━━━━━━━━━━━━━━━━━━━━━━━━┳━━━━━━━━━━━━━━━━━━┓\n",
       "┃<span style=\"font-weight: bold\"> chosen_text                     </span>┃<span style=\"font-weight: bold\"> rejected_text                      </span>┃<span style=\"font-weight: bold\"> logits           </span>┃\n",
       "┡━━━━━━━━━━━━━━━━━━━━━━━━━━━━━━━━━╇━━━━━━━━━━━━━━━━━━━━━━━━━━━━━━━━━━━━╇━━━━━━━━━━━━━━━━━━┩\n",
       "│ 感谢认领.                       │ 公主                               │ [0.5335, 0.4665] │\n",
       "├─────────────────────────────────┼────────────────────────────────────┼──────────────────┤\n",
       "│ 感谢认领露思好漂亮              │ 感谢认领美丽露宝~                  │ [0.5092, 0.4908] │\n",
       "├─────────────────────────────────┼────────────────────────────────────┼──────────────────┤\n",
       "│ 感谢认领露思好漂亮              │ 赵露思好美                         │ [0.5165, 0.4835] │\n",
       "├─────────────────────────────────┼────────────────────────────────────┼──────────────────┤\n",
       "│ 杀了那么多人 蛇蝎心肠 还不够死� │ 他很好？很好为什么逮捕她？杀人     │ [0.1992, 0.8008] │\n",
       "├─────────────────────────────────┼────────────────────────────────────┼──────────────────┤\n",
       "│ 她的辩护律师想通过帮她翻案，    │ 二审维持原判还能上诉吗？           │ [0.4265, 0.5735] │\n",
       "├─────────────────────────────────┼────────────────────────────────────┼──────────────────┤\n",
       "│ 妈的 这个律师有点良心吧 维持原  │ 感谢认领.                          │ [0.616, 0.384]   │\n",
       "├─────────────────────────────────┼────────────────────────────────────┼──────────────────┤\n",
       "│ 她的辩护律师想通过帮她翻案，    │ 她家人没事吧？果然不是一家人，不进 │ [0.3564, 0.6436] │\n",
       "├─────────────────────────────────┼────────────────────────────────────┼──────────────────┤\n",
       "│ 《互联网黑历史现状》            │ 《你看看》                         │ [0.6041, 0.3959] │\n",
       "└─────────────────────────────────┴────────────────────────────────────┴──────────────────┘\n",
       "</pre>\n"
      ],
      "text/plain": [
       "┏━━━━━━━━━━━━━━━━━━━━━━━━━━━━━━━━━┳━━━━━━━━━━━━━━━━━━━━━━━━━━━━━━━━━━━━┳━━━━━━━━━━━━━━━━━━┓\n",
       "┃\u001b[1m \u001b[0m\u001b[1mchosen_text                    \u001b[0m\u001b[1m \u001b[0m┃\u001b[1m \u001b[0m\u001b[1mrejected_text                     \u001b[0m\u001b[1m \u001b[0m┃\u001b[1m \u001b[0m\u001b[1mlogits          \u001b[0m\u001b[1m \u001b[0m┃\n",
       "┡━━━━━━━━━━━━━━━━━━━━━━━━━━━━━━━━━╇━━━━━━━━━━━━━━━━━━━━━━━━━━━━━━━━━━━━╇━━━━━━━━━━━━━━━━━━┩\n",
       "│ 感谢认领.                       │ 公主                               │ [0.5335, 0.4665] │\n",
       "├─────────────────────────────────┼────────────────────────────────────┼──────────────────┤\n",
       "│ 感谢认领露思好漂亮              │ 感谢认领美丽露宝~                  │ [0.5092, 0.4908] │\n",
       "├─────────────────────────────────┼────────────────────────────────────┼──────────────────┤\n",
       "│ 感谢认领露思好漂亮              │ 赵露思好美                         │ [0.5165, 0.4835] │\n",
       "├─────────────────────────────────┼────────────────────────────────────┼──────────────────┤\n",
       "│ 杀了那么多人 蛇蝎心肠 还不够死� │ 他很好？很好为什么逮捕她？杀人     │ [0.1992, 0.8008] │\n",
       "├─────────────────────────────────┼────────────────────────────────────┼──────────────────┤\n",
       "│ 她的辩护律师想通过帮她翻案，    │ 二审维持原判还能上诉吗？           │ [0.4265, 0.5735] │\n",
       "├─────────────────────────────────┼────────────────────────────────────┼──────────────────┤\n",
       "│ 妈的 这个律师有点良心吧 维持原  │ 感谢认领.                          │ [0.616, 0.384]   │\n",
       "├─────────────────────────────────┼────────────────────────────────────┼──────────────────┤\n",
       "│ 她的辩护律师想通过帮她翻案，    │ 她家人没事吧？果然不是一家人，不进 │ [0.3564, 0.6436] │\n",
       "├─────────────────────────────────┼────────────────────────────────────┼──────────────────┤\n",
       "│ 《互联网黑历史现状》            │ 《你看看》                         │ [0.6041, 0.3959] │\n",
       "└─────────────────────────────────┴────────────────────────────────────┴──────────────────┘\n"
      ]
     },
     "metadata": {},
     "output_type": "display_data"
    },
    {
     "data": {
      "text/html": [
       "<pre style=\"white-space:pre;overflow-x:auto;line-height:normal;font-family:Menlo,'DejaVu Sans Mono',consolas,'Courier New',monospace\">┏━━━━━━━━━━━━━━━━━━━━━━━━━━━━━━━━━┳━━━━━━━━━━━━━━━━━━━━━━━━━━━━━━━━┳━━━━━━━━━━━━━━━━━━┓\n",
       "┃<span style=\"font-weight: bold\"> chosen_text                     </span>┃<span style=\"font-weight: bold\"> rejected_text                  </span>┃<span style=\"font-weight: bold\"> logits           </span>┃\n",
       "┡━━━━━━━━━━━━━━━━━━━━━━━━━━━━━━━━━╇━━━━━━━━━━━━━━━━━━━━━━━━━━━━━━━━╇━━━━━━━━━━━━━━━━━━┩\n",
       "│ 感谢认领.                       │ 公主                           │ [0.5335, 0.4665] │\n",
       "├─────────────────────────────────┼────────────────────────────────┼──────────────────┤\n",
       "│ 感谢认领露思好漂亮              │ 感谢认领美丽露宝~              │ [0.5092, 0.4908] │\n",
       "├─────────────────────────────────┼────────────────────────────────┼──────────────────┤\n",
       "│ 感谢认领露思好漂亮              │ 赵露思好美                     │ [0.5165, 0.4835] │\n",
       "├─────────────────────────────────┼────────────────────────────────┼──────────────────┤\n",
       "│ 杀了那么多人 蛇蝎心肠 还不够死� │ 他很好？很好为什么逮捕她？杀人 │ [0.1992, 0.8008] │\n",
       "└─────────────────────────────────┴────────────────────────────────┴──────────────────┘\n",
       "</pre>\n"
      ],
      "text/plain": [
       "┏━━━━━━━━━━━━━━━━━━━━━━━━━━━━━━━━━┳━━━━━━━━━━━━━━━━━━━━━━━━━━━━━━━━┳━━━━━━━━━━━━━━━━━━┓\n",
       "┃\u001b[1m \u001b[0m\u001b[1mchosen_text                    \u001b[0m\u001b[1m \u001b[0m┃\u001b[1m \u001b[0m\u001b[1mrejected_text                 \u001b[0m\u001b[1m \u001b[0m┃\u001b[1m \u001b[0m\u001b[1mlogits          \u001b[0m\u001b[1m \u001b[0m┃\n",
       "┡━━━━━━━━━━━━━━━━━━━━━━━━━━━━━━━━━╇━━━━━━━━━━━━━━━━━━━━━━━━━━━━━━━━╇━━━━━━━━━━━━━━━━━━┩\n",
       "│ 感谢认领.                       │ 公主                           │ [0.5335, 0.4665] │\n",
       "├─────────────────────────────────┼────────────────────────────────┼──────────────────┤\n",
       "│ 感谢认领露思好漂亮              │ 感谢认领美丽露宝~              │ [0.5092, 0.4908] │\n",
       "├─────────────────────────────────┼────────────────────────────────┼──────────────────┤\n",
       "│ 感谢认领露思好漂亮              │ 赵露思好美                     │ [0.5165, 0.4835] │\n",
       "├─────────────────────────────────┼────────────────────────────────┼──────────────────┤\n",
       "│ 杀了那么多人 蛇蝎心肠 还不够死� │ 他很好？很好为什么逮捕她？杀人 │ [0.1992, 0.8008] │\n",
       "└─────────────────────────────────┴────────────────────────────────┴──────────────────┘\n"
      ]
     },
     "metadata": {},
     "output_type": "display_data"
    },
    {
     "name": "stderr",
     "output_type": "stream",
     "text": [
      "/usr/local/lib/python3.8/dist-packages/transformers/tokenization_utils_base.py:2778: UserWarning: `max_length` is ignored when `padding`=`True` and there is no truncation strategy. To pad to max length, use `padding='max_length'`.\n",
      "  warnings.warn(\n",
      "/usr/local/lib/python3.8/dist-packages/trl/trainer/utils.py:599: UserWarning: There are 22 out of 3451 instances where the predictions for both options are equal. As a consequence the accuracy can be misleading.\n",
      "  warnings.warn(\n",
      "/usr/local/lib/python3.8/dist-packages/transformers/tokenization_utils_base.py:2778: UserWarning: `max_length` is ignored when `padding`=`True` and there is no truncation strategy. To pad to max length, use `padding='max_length'`.\n",
      "  warnings.warn(\n",
      "/usr/local/lib/python3.8/dist-packages/torch/utils/checkpoint.py:464: UserWarning: torch.utils.checkpoint: the use_reentrant parameter should be passed explicitly. In version 2.4 we will raise an exception if use_reentrant is not passed. use_reentrant=False is recommended, but if you need to preserve the current default behavior, you can pass use_reentrant=True. Refer to docs for more details on the differences between the two variants.\n",
      "  warnings.warn(\n",
      "/usr/local/lib/python3.8/dist-packages/torch/utils/checkpoint.py:91: UserWarning: None of the inputs have requires_grad=True. Gradients will be None\n",
      "  warnings.warn(\n"
     ]
    }
   ],
   "source": [
    "trainer = RewardTrainer(\n",
    "    model=rm_model,\n",
    "    tokenizer=tokenizer,\n",
    "    args=config,\n",
    "    train_dataset=rm_train_dataset,\n",
    "    eval_dataset=rm_eval_dataset,\n",
    "    peft_config=peft_config,\n",
    ")\n",
    "trainer.train()\n",
    "trainer.save_model(config.output_dir)"
   ]
  },
  {
   "cell_type": "markdown",
   "id": "b4d89472",
   "metadata": {},
   "source": [
    "#### Some summary"
   ]
  },
  {
   "cell_type": "code",
   "execution_count": 20,
   "id": "e3d04ace-729d-46a3-b563-f851185b402d",
   "metadata": {
    "scrolled": true
   },
   "outputs": [
    {
     "name": "stderr",
     "output_type": "stream",
     "text": [
      "/usr/local/lib/python3.8/dist-packages/transformers/tokenization_utils_base.py:2778: UserWarning: `max_length` is ignored when `padding`=`True` and there is no truncation strategy. To pad to max length, use `padding='max_length'`.\n",
      "  warnings.warn(\n",
      "/usr/local/lib/python3.8/dist-packages/torch/utils/checkpoint.py:464: UserWarning: torch.utils.checkpoint: the use_reentrant parameter should be passed explicitly. In version 2.4 we will raise an exception if use_reentrant is not passed. use_reentrant=False is recommended, but if you need to preserve the current default behavior, you can pass use_reentrant=True. Refer to docs for more details on the differences between the two variants.\n",
      "  warnings.warn(\n",
      "/usr/local/lib/python3.8/dist-packages/torch/utils/checkpoint.py:91: UserWarning: None of the inputs have requires_grad=True. Gradients will be None\n",
      "  warnings.warn(\n"
     ]
    },
    {
     "data": {
      "text/html": [
       "<pre style=\"white-space:pre;overflow-x:auto;line-height:normal;font-family:Menlo,'DejaVu Sans Mono',consolas,'Courier New',monospace\">┏━━━━━━━━━━━━━━━━━━━━━━━━━━━━━━━━━┳━━━━━━━━━━━━━━━━━━━━━━━━━━━━━━━━━━━━┳━━━━━━━━━━━━━━━━━━┓\n",
       "┃<span style=\"font-weight: bold\"> chosen_text                     </span>┃<span style=\"font-weight: bold\"> rejected_text                      </span>┃<span style=\"font-weight: bold\"> logits           </span>┃\n",
       "┡━━━━━━━━━━━━━━━━━━━━━━━━━━━━━━━━━╇━━━━━━━━━━━━━━━━━━━━━━━━━━━━━━━━━━━━╇━━━━━━━━━━━━━━━━━━┩\n",
       "│ 感谢认领.                       │ 公主                               │ [0.6196, 0.3804] │\n",
       "├─────────────────────────────────┼────────────────────────────────────┼──────────────────┤\n",
       "│ 感谢认领露思好漂亮              │ 感谢认领美丽露宝~                  │ [0.469, 0.531]   │\n",
       "├─────────────────────────────────┼────────────────────────────────────┼──────────────────┤\n",
       "│ 感谢认领露思好漂亮              │ 赵露思好美                         │ [0.5734, 0.4266] │\n",
       "├─────────────────────────────────┼────────────────────────────────────┼──────────────────┤\n",
       "│ 杀了那么多人 蛇蝎心肠 还不够死� │ 他很好？很好为什么逮捕她？杀人     │ [0.4774, 0.5226] │\n",
       "├─────────────────────────────────┼────────────────────────────────────┼──────────────────┤\n",
       "│ 她的辩护律师想通过帮她翻案，    │ 二审维持原判还能上诉吗？           │ [0.4709, 0.5291] │\n",
       "├─────────────────────────────────┼────────────────────────────────────┼──────────────────┤\n",
       "│ 妈的 这个律师有点良心吧 维持原  │ 感谢认领.                          │ [0.5602, 0.4398] │\n",
       "├─────────────────────────────────┼────────────────────────────────────┼──────────────────┤\n",
       "│ 她的辩护律师想通过帮她翻案，    │ 她家人没事吧？果然不是一家人，不进 │ [0.4567, 0.5433] │\n",
       "├─────────────────────────────────┼────────────────────────────────────┼──────────────────┤\n",
       "│ 《互联网黑历史现状》            │ 《你看看》                         │ [0.5686, 0.4314] │\n",
       "└─────────────────────────────────┴────────────────────────────────────┴──────────────────┘\n",
       "</pre>\n"
      ],
      "text/plain": [
       "┏━━━━━━━━━━━━━━━━━━━━━━━━━━━━━━━━━┳━━━━━━━━━━━━━━━━━━━━━━━━━━━━━━━━━━━━┳━━━━━━━━━━━━━━━━━━┓\n",
       "┃\u001b[1m \u001b[0m\u001b[1mchosen_text                    \u001b[0m\u001b[1m \u001b[0m┃\u001b[1m \u001b[0m\u001b[1mrejected_text                     \u001b[0m\u001b[1m \u001b[0m┃\u001b[1m \u001b[0m\u001b[1mlogits          \u001b[0m\u001b[1m \u001b[0m┃\n",
       "┡━━━━━━━━━━━━━━━━━━━━━━━━━━━━━━━━━╇━━━━━━━━━━━━━━━━━━━━━━━━━━━━━━━━━━━━╇━━━━━━━━━━━━━━━━━━┩\n",
       "│ 感谢认领.                       │ 公主                               │ [0.6196, 0.3804] │\n",
       "├─────────────────────────────────┼────────────────────────────────────┼──────────────────┤\n",
       "│ 感谢认领露思好漂亮              │ 感谢认领美丽露宝~                  │ [0.469, 0.531]   │\n",
       "├─────────────────────────────────┼────────────────────────────────────┼──────────────────┤\n",
       "│ 感谢认领露思好漂亮              │ 赵露思好美                         │ [0.5734, 0.4266] │\n",
       "├─────────────────────────────────┼────────────────────────────────────┼──────────────────┤\n",
       "│ 杀了那么多人 蛇蝎心肠 还不够死� │ 他很好？很好为什么逮捕她？杀人     │ [0.4774, 0.5226] │\n",
       "├─────────────────────────────────┼────────────────────────────────────┼──────────────────┤\n",
       "│ 她的辩护律师想通过帮她翻案，    │ 二审维持原判还能上诉吗？           │ [0.4709, 0.5291] │\n",
       "├─────────────────────────────────┼────────────────────────────────────┼──────────────────┤\n",
       "│ 妈的 这个律师有点良心吧 维持原  │ 感谢认领.                          │ [0.5602, 0.4398] │\n",
       "├─────────────────────────────────┼────────────────────────────────────┼──────────────────┤\n",
       "│ 她的辩护律师想通过帮她翻案，    │ 她家人没事吧？果然不是一家人，不进 │ [0.4567, 0.5433] │\n",
       "├─────────────────────────────────┼────────────────────────────────────┼──────────────────┤\n",
       "│ 《互联网黑历史现状》            │ 《你看看》                         │ [0.5686, 0.4314] │\n",
       "└─────────────────────────────────┴────────────────────────────────────┴──────────────────┘\n"
      ]
     },
     "metadata": {},
     "output_type": "display_data"
    },
    {
     "data": {
      "text/html": [
       "<pre style=\"white-space:pre;overflow-x:auto;line-height:normal;font-family:Menlo,'DejaVu Sans Mono',consolas,'Courier New',monospace\">┏━━━━━━━━━━━━━━━━━━━━━━━━━━━━━━━━━┳━━━━━━━━━━━━━━━━━━━━━━━━━━━━━━━━┳━━━━━━━━━━━━━━━━━━┓\n",
       "┃<span style=\"font-weight: bold\"> chosen_text                     </span>┃<span style=\"font-weight: bold\"> rejected_text                  </span>┃<span style=\"font-weight: bold\"> logits           </span>┃\n",
       "┡━━━━━━━━━━━━━━━━━━━━━━━━━━━━━━━━━╇━━━━━━━━━━━━━━━━━━━━━━━━━━━━━━━━╇━━━━━━━━━━━━━━━━━━┩\n",
       "│ 感谢认领.                       │ 公主                           │ [0.6196, 0.3804] │\n",
       "├─────────────────────────────────┼────────────────────────────────┼──────────────────┤\n",
       "│ 感谢认领露思好漂亮              │ 感谢认领美丽露宝~              │ [0.469, 0.531]   │\n",
       "├─────────────────────────────────┼────────────────────────────────┼──────────────────┤\n",
       "│ 感谢认领露思好漂亮              │ 赵露思好美                     │ [0.5734, 0.4266] │\n",
       "├─────────────────────────────────┼────────────────────────────────┼──────────────────┤\n",
       "│ 杀了那么多人 蛇蝎心肠 还不够死� │ 他很好？很好为什么逮捕她？杀人 │ [0.4774, 0.5226] │\n",
       "└─────────────────────────────────┴────────────────────────────────┴──────────────────┘\n",
       "</pre>\n"
      ],
      "text/plain": [
       "┏━━━━━━━━━━━━━━━━━━━━━━━━━━━━━━━━━┳━━━━━━━━━━━━━━━━━━━━━━━━━━━━━━━━┳━━━━━━━━━━━━━━━━━━┓\n",
       "┃\u001b[1m \u001b[0m\u001b[1mchosen_text                    \u001b[0m\u001b[1m \u001b[0m┃\u001b[1m \u001b[0m\u001b[1mrejected_text                 \u001b[0m\u001b[1m \u001b[0m┃\u001b[1m \u001b[0m\u001b[1mlogits          \u001b[0m\u001b[1m \u001b[0m┃\n",
       "┡━━━━━━━━━━━━━━━━━━━━━━━━━━━━━━━━━╇━━━━━━━━━━━━━━━━━━━━━━━━━━━━━━━━╇━━━━━━━━━━━━━━━━━━┩\n",
       "│ 感谢认领.                       │ 公主                           │ [0.6196, 0.3804] │\n",
       "├─────────────────────────────────┼────────────────────────────────┼──────────────────┤\n",
       "│ 感谢认领露思好漂亮              │ 感谢认领美丽露宝~              │ [0.469, 0.531]   │\n",
       "├─────────────────────────────────┼────────────────────────────────┼──────────────────┤\n",
       "│ 感谢认领露思好漂亮              │ 赵露思好美                     │ [0.5734, 0.4266] │\n",
       "├─────────────────────────────────┼────────────────────────────────┼──────────────────┤\n",
       "│ 杀了那么多人 蛇蝎心肠 还不够死� │ 他很好？很好为什么逮捕她？杀人 │ [0.4774, 0.5226] │\n",
       "└─────────────────────────────────┴────────────────────────────────┴──────────────────┘\n"
      ]
     },
     "metadata": {},
     "output_type": "display_data"
    },
    {
     "name": "stderr",
     "output_type": "stream",
     "text": [
      "/usr/local/lib/python3.8/dist-packages/transformers/tokenization_utils_base.py:2778: UserWarning: `max_length` is ignored when `padding`=`True` and there is no truncation strategy. To pad to max length, use `padding='max_length'`.\n",
      "  warnings.warn(\n"
     ]
    },
    {
     "data": {
      "text/html": [
       "\n",
       "    <div>\n",
       "      \n",
       "      <progress value='432' max='432' style='width:300px; height:20px; vertical-align: middle;'></progress>\n",
       "      [432/432 00:08]\n",
       "    </div>\n",
       "    "
      ],
      "text/plain": [
       "<IPython.core.display.HTML object>"
      ]
     },
     "metadata": {},
     "output_type": "display_data"
    },
    {
     "name": "stdout",
     "output_type": "stream",
     "text": [
      "***** eval metrics *****\n",
      "  epoch                   =      9.992\n",
      "  eval_accuracy           =      0.541\n",
      "  eval_loss               =     0.6884\n",
      "  eval_runtime            = 0:00:08.94\n",
      "  eval_samples_per_second =    385.626\n",
      "  eval_steps_per_second   =     48.273\n",
      "{'eval_loss': 0.6884294748306274, 'eval_accuracy': 0.5410026079397277, 'eval_runtime': 8.9491, 'eval_samples_per_second': 385.626, 'eval_steps_per_second': 48.273, 'epoch': 9.9919935948759}\n"
     ]
    },
    {
     "name": "stderr",
     "output_type": "stream",
     "text": [
      "/usr/local/lib/python3.8/dist-packages/trl/trainer/utils.py:599: UserWarning: There are 22 out of 3451 instances where the predictions for both options are equal. As a consequence the accuracy can be misleading.\n",
      "  warnings.warn(\n"
     ]
    }
   ],
   "source": [
    "metrics = trainer.evaluate()\n",
    "trainer.log_metrics(\"eval\", metrics)\n",
    "print(metrics)"
   ]
  },
  {
   "cell_type": "code",
   "execution_count": null,
   "id": "364608a4-748a-4dbe-b736-694b13f30ab8",
   "metadata": {},
   "outputs": [],
   "source": []
  }
 ],
 "metadata": {
  "kernelspec": {
   "display_name": "Python 3 (ipykernel)",
   "language": "python",
   "name": "python3"
  },
  "language_info": {
   "codemirror_mode": {
    "name": "ipython",
    "version": 3
   },
   "file_extension": ".py",
   "mimetype": "text/x-python",
   "name": "python",
   "nbconvert_exporter": "python",
   "pygments_lexer": "ipython3",
   "version": "3.9.12"
  }
 },
 "nbformat": 4,
 "nbformat_minor": 5
}
